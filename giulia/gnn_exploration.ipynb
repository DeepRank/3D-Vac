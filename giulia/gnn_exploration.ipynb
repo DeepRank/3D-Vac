{
 "cells": [
  {
   "cell_type": "code",
   "execution_count": 1,
   "metadata": {},
   "outputs": [],
   "source": [
    "from deeprank_gnn.preprocess import PreProcessor\n",
    "from deeprank_gnn.models.query import ProteinProteinInterfaceResidueQuery\n",
    "from deeprank_gnn.feature import bsa, pssm, amino_acid, biopython\n",
    "\n",
    "feature_modules = [bsa, pssm, amino_acid, biopython]\n",
    "\n",
    "preprocessor = PreProcessor(feature_modules, \"train-data\")"
   ]
  },
  {
   "cell_type": "code",
   "execution_count": 2,
   "metadata": {},
   "outputs": [],
   "source": [
    "preprocessor.add_query(ProteinProteinInterfaceResidueQuery(pdb_path='1ATN_1w.pdb', chain_id1=\"A\", chain_id2=\"B\",\n",
    "                                                           pssm_paths={\"A\": \"1ATN.A.pdb.pssm\", \"B\": \"1ATN.B.pdb.pssm\"}))"
   ]
  },
  {
   "cell_type": "code",
   "execution_count": 3,
   "metadata": {},
   "outputs": [],
   "source": [
    "preprocessor.add_query(ProteinProteinInterfaceResidueQuery(pdb_path='1ATN_2w.pdb', chain_id1=\"A\", chain_id2=\"B\",\n",
    "                                                           pssm_paths={\"A\": \"1ATN.A.pdb.pssm\", \"B\": \"1ATN.B.pdb.pssm\"}))\n",
    "preprocessor.add_query(ProteinProteinInterfaceResidueQuery(pdb_path='1ATN_3w.pdb', chain_id1=\"A\", chain_id2=\"B\",\n",
    "                                                           pssm_paths={\"A\": \"1ATN.A.pdb.pssm\", \"B\": \"1ATN.B.pdb.pssm\"}))\n",
    "preprocessor.add_query(ProteinProteinInterfaceResidueQuery(pdb_path='1ATN_4w.pdb', chain_id1=\"A\", chain_id2=\"B\",\n",
    "                                                           pssm_paths={\"A\": \"1ATN.A.pdb.pssm\", \"B\": \"1ATN.B.pdb.pssm\"}))"
   ]
  },
  {
   "cell_type": "code",
   "execution_count": 4,
   "metadata": {},
   "outputs": [
    {
     "ename": "TypeError",
     "evalue": "cannot pickle 'module' object",
     "output_type": "error",
     "traceback": [
      "\u001b[0;31m---------------------------------------------------------------------------\u001b[0m",
      "\u001b[0;31mTypeError\u001b[0m                                 Traceback (most recent call last)",
      "\u001b[1;32m/Users/giuliacrocioni/Desktop/eScience/projects_2022/3D-vac/deeprank-gnn-2/giulia/gnn_exploration.ipynb Cell 4'\u001b[0m in \u001b[0;36m<cell line: 1>\u001b[0;34m()\u001b[0m\n\u001b[0;32m----> <a href='vscode-notebook-cell:/Users/giuliacrocioni/Desktop/eScience/projects_2022/3D-vac/deeprank-gnn-2/giulia/gnn_exploration.ipynb#ch0000003?line=0'>1</a>\u001b[0m preprocessor\u001b[39m.\u001b[39;49mstart()  \u001b[39m# start builfing graphs from the queries\u001b[39;00m\n\u001b[1;32m      <a href='vscode-notebook-cell:/Users/giuliacrocioni/Desktop/eScience/projects_2022/3D-vac/deeprank-gnn-2/giulia/gnn_exploration.ipynb#ch0000003?line=2'>3</a>\u001b[0m preprocessor\u001b[39m.\u001b[39mwait()  \u001b[39m# wait for all jobs to complete\u001b[39;00m\n\u001b[1;32m      <a href='vscode-notebook-cell:/Users/giuliacrocioni/Desktop/eScience/projects_2022/3D-vac/deeprank-gnn-2/giulia/gnn_exploration.ipynb#ch0000003?line=4'>5</a>\u001b[0m \u001b[39mprint\u001b[39m(preprocessor\u001b[39m.\u001b[39moutput_paths)\n",
      "File \u001b[0;32m~/Desktop/eScience/projects_2022/3D-vac/deeprank-gnn-2/deeprank_gnn/preprocess.py:102\u001b[0m, in \u001b[0;36mPreProcessor.start\u001b[0;34m(self)\u001b[0m\n\u001b[1;32m    <a href='file:///Users/giuliacrocioni/Desktop/eScience/projects_2022/3D-vac/deeprank-gnn-2/deeprank_gnn/preprocess.py?line=99'>100</a>\u001b[0m _log\u001b[39m.\u001b[39minfo(\u001b[39m\"\u001b[39m\u001b[39mstarting \u001b[39m\u001b[39m{}\u001b[39;00m\u001b[39m worker processes\u001b[39m\u001b[39m\"\u001b[39m\u001b[39m.\u001b[39mformat(\u001b[39mlen\u001b[39m(\u001b[39mself\u001b[39m\u001b[39m.\u001b[39m_processes)))\n\u001b[1;32m    <a href='file:///Users/giuliacrocioni/Desktop/eScience/projects_2022/3D-vac/deeprank-gnn-2/deeprank_gnn/preprocess.py?line=100'>101</a>\u001b[0m \u001b[39mfor\u001b[39;00m process \u001b[39min\u001b[39;00m \u001b[39mself\u001b[39m\u001b[39m.\u001b[39m_processes:\n\u001b[0;32m--> <a href='file:///Users/giuliacrocioni/Desktop/eScience/projects_2022/3D-vac/deeprank-gnn-2/deeprank_gnn/preprocess.py?line=101'>102</a>\u001b[0m     process\u001b[39m.\u001b[39;49mstart()\n\u001b[1;32m    <a href='file:///Users/giuliacrocioni/Desktop/eScience/projects_2022/3D-vac/deeprank-gnn-2/deeprank_gnn/preprocess.py?line=102'>103</a>\u001b[0m     \u001b[39mif\u001b[39;00m \u001b[39mnot\u001b[39;00m process\u001b[39m.\u001b[39mis_alive():\n\u001b[1;32m    <a href='file:///Users/giuliacrocioni/Desktop/eScience/projects_2022/3D-vac/deeprank-gnn-2/deeprank_gnn/preprocess.py?line=103'>104</a>\u001b[0m         \u001b[39mraise\u001b[39;00m \u001b[39mRuntimeError\u001b[39;00m(\u001b[39mf\u001b[39m\u001b[39m\"\u001b[39m\u001b[39mworker process \u001b[39m\u001b[39m{\u001b[39;00mprocess\u001b[39m.\u001b[39mname\u001b[39m}\u001b[39;00m\u001b[39m did not start\u001b[39m\u001b[39m\"\u001b[39m)\n",
      "File \u001b[0;32m~/miniforge3/envs/3d_vac/lib/python3.10/multiprocessing/process.py:121\u001b[0m, in \u001b[0;36mBaseProcess.start\u001b[0;34m(self)\u001b[0m\n\u001b[1;32m    <a href='file:///Users/giuliacrocioni/miniforge3/envs/3d_vac/lib/python3.10/multiprocessing/process.py?line=117'>118</a>\u001b[0m \u001b[39massert\u001b[39;00m \u001b[39mnot\u001b[39;00m _current_process\u001b[39m.\u001b[39m_config\u001b[39m.\u001b[39mget(\u001b[39m'\u001b[39m\u001b[39mdaemon\u001b[39m\u001b[39m'\u001b[39m), \\\n\u001b[1;32m    <a href='file:///Users/giuliacrocioni/miniforge3/envs/3d_vac/lib/python3.10/multiprocessing/process.py?line=118'>119</a>\u001b[0m        \u001b[39m'\u001b[39m\u001b[39mdaemonic processes are not allowed to have children\u001b[39m\u001b[39m'\u001b[39m\n\u001b[1;32m    <a href='file:///Users/giuliacrocioni/miniforge3/envs/3d_vac/lib/python3.10/multiprocessing/process.py?line=119'>120</a>\u001b[0m _cleanup()\n\u001b[0;32m--> <a href='file:///Users/giuliacrocioni/miniforge3/envs/3d_vac/lib/python3.10/multiprocessing/process.py?line=120'>121</a>\u001b[0m \u001b[39mself\u001b[39m\u001b[39m.\u001b[39m_popen \u001b[39m=\u001b[39m \u001b[39mself\u001b[39;49m\u001b[39m.\u001b[39;49m_Popen(\u001b[39mself\u001b[39;49m)\n\u001b[1;32m    <a href='file:///Users/giuliacrocioni/miniforge3/envs/3d_vac/lib/python3.10/multiprocessing/process.py?line=121'>122</a>\u001b[0m \u001b[39mself\u001b[39m\u001b[39m.\u001b[39m_sentinel \u001b[39m=\u001b[39m \u001b[39mself\u001b[39m\u001b[39m.\u001b[39m_popen\u001b[39m.\u001b[39msentinel\n\u001b[1;32m    <a href='file:///Users/giuliacrocioni/miniforge3/envs/3d_vac/lib/python3.10/multiprocessing/process.py?line=122'>123</a>\u001b[0m \u001b[39m# Avoid a refcycle if the target function holds an indirect\u001b[39;00m\n\u001b[1;32m    <a href='file:///Users/giuliacrocioni/miniforge3/envs/3d_vac/lib/python3.10/multiprocessing/process.py?line=123'>124</a>\u001b[0m \u001b[39m# reference to the process object (see bpo-30775)\u001b[39;00m\n",
      "File \u001b[0;32m~/miniforge3/envs/3d_vac/lib/python3.10/multiprocessing/context.py:224\u001b[0m, in \u001b[0;36mProcess._Popen\u001b[0;34m(process_obj)\u001b[0m\n\u001b[1;32m    <a href='file:///Users/giuliacrocioni/miniforge3/envs/3d_vac/lib/python3.10/multiprocessing/context.py?line=221'>222</a>\u001b[0m \u001b[39m@staticmethod\u001b[39m\n\u001b[1;32m    <a href='file:///Users/giuliacrocioni/miniforge3/envs/3d_vac/lib/python3.10/multiprocessing/context.py?line=222'>223</a>\u001b[0m \u001b[39mdef\u001b[39;00m \u001b[39m_Popen\u001b[39m(process_obj):\n\u001b[0;32m--> <a href='file:///Users/giuliacrocioni/miniforge3/envs/3d_vac/lib/python3.10/multiprocessing/context.py?line=223'>224</a>\u001b[0m     \u001b[39mreturn\u001b[39;00m _default_context\u001b[39m.\u001b[39;49mget_context()\u001b[39m.\u001b[39;49mProcess\u001b[39m.\u001b[39;49m_Popen(process_obj)\n",
      "File \u001b[0;32m~/miniforge3/envs/3d_vac/lib/python3.10/multiprocessing/context.py:284\u001b[0m, in \u001b[0;36mSpawnProcess._Popen\u001b[0;34m(process_obj)\u001b[0m\n\u001b[1;32m    <a href='file:///Users/giuliacrocioni/miniforge3/envs/3d_vac/lib/python3.10/multiprocessing/context.py?line=280'>281</a>\u001b[0m \u001b[39m@staticmethod\u001b[39m\n\u001b[1;32m    <a href='file:///Users/giuliacrocioni/miniforge3/envs/3d_vac/lib/python3.10/multiprocessing/context.py?line=281'>282</a>\u001b[0m \u001b[39mdef\u001b[39;00m \u001b[39m_Popen\u001b[39m(process_obj):\n\u001b[1;32m    <a href='file:///Users/giuliacrocioni/miniforge3/envs/3d_vac/lib/python3.10/multiprocessing/context.py?line=282'>283</a>\u001b[0m     \u001b[39mfrom\u001b[39;00m \u001b[39m.\u001b[39;00m\u001b[39mpopen_spawn_posix\u001b[39;00m \u001b[39mimport\u001b[39;00m Popen\n\u001b[0;32m--> <a href='file:///Users/giuliacrocioni/miniforge3/envs/3d_vac/lib/python3.10/multiprocessing/context.py?line=283'>284</a>\u001b[0m     \u001b[39mreturn\u001b[39;00m Popen(process_obj)\n",
      "File \u001b[0;32m~/miniforge3/envs/3d_vac/lib/python3.10/multiprocessing/popen_spawn_posix.py:32\u001b[0m, in \u001b[0;36mPopen.__init__\u001b[0;34m(self, process_obj)\u001b[0m\n\u001b[1;32m     <a href='file:///Users/giuliacrocioni/miniforge3/envs/3d_vac/lib/python3.10/multiprocessing/popen_spawn_posix.py?line=29'>30</a>\u001b[0m \u001b[39mdef\u001b[39;00m \u001b[39m__init__\u001b[39m(\u001b[39mself\u001b[39m, process_obj):\n\u001b[1;32m     <a href='file:///Users/giuliacrocioni/miniforge3/envs/3d_vac/lib/python3.10/multiprocessing/popen_spawn_posix.py?line=30'>31</a>\u001b[0m     \u001b[39mself\u001b[39m\u001b[39m.\u001b[39m_fds \u001b[39m=\u001b[39m []\n\u001b[0;32m---> <a href='file:///Users/giuliacrocioni/miniforge3/envs/3d_vac/lib/python3.10/multiprocessing/popen_spawn_posix.py?line=31'>32</a>\u001b[0m     \u001b[39msuper\u001b[39;49m()\u001b[39m.\u001b[39;49m\u001b[39m__init__\u001b[39;49m(process_obj)\n",
      "File \u001b[0;32m~/miniforge3/envs/3d_vac/lib/python3.10/multiprocessing/popen_fork.py:19\u001b[0m, in \u001b[0;36mPopen.__init__\u001b[0;34m(self, process_obj)\u001b[0m\n\u001b[1;32m     <a href='file:///Users/giuliacrocioni/miniforge3/envs/3d_vac/lib/python3.10/multiprocessing/popen_fork.py?line=16'>17</a>\u001b[0m \u001b[39mself\u001b[39m\u001b[39m.\u001b[39mreturncode \u001b[39m=\u001b[39m \u001b[39mNone\u001b[39;00m\n\u001b[1;32m     <a href='file:///Users/giuliacrocioni/miniforge3/envs/3d_vac/lib/python3.10/multiprocessing/popen_fork.py?line=17'>18</a>\u001b[0m \u001b[39mself\u001b[39m\u001b[39m.\u001b[39mfinalizer \u001b[39m=\u001b[39m \u001b[39mNone\u001b[39;00m\n\u001b[0;32m---> <a href='file:///Users/giuliacrocioni/miniforge3/envs/3d_vac/lib/python3.10/multiprocessing/popen_fork.py?line=18'>19</a>\u001b[0m \u001b[39mself\u001b[39;49m\u001b[39m.\u001b[39;49m_launch(process_obj)\n",
      "File \u001b[0;32m~/miniforge3/envs/3d_vac/lib/python3.10/multiprocessing/popen_spawn_posix.py:47\u001b[0m, in \u001b[0;36mPopen._launch\u001b[0;34m(self, process_obj)\u001b[0m\n\u001b[1;32m     <a href='file:///Users/giuliacrocioni/miniforge3/envs/3d_vac/lib/python3.10/multiprocessing/popen_spawn_posix.py?line=44'>45</a>\u001b[0m \u001b[39mtry\u001b[39;00m:\n\u001b[1;32m     <a href='file:///Users/giuliacrocioni/miniforge3/envs/3d_vac/lib/python3.10/multiprocessing/popen_spawn_posix.py?line=45'>46</a>\u001b[0m     reduction\u001b[39m.\u001b[39mdump(prep_data, fp)\n\u001b[0;32m---> <a href='file:///Users/giuliacrocioni/miniforge3/envs/3d_vac/lib/python3.10/multiprocessing/popen_spawn_posix.py?line=46'>47</a>\u001b[0m     reduction\u001b[39m.\u001b[39;49mdump(process_obj, fp)\n\u001b[1;32m     <a href='file:///Users/giuliacrocioni/miniforge3/envs/3d_vac/lib/python3.10/multiprocessing/popen_spawn_posix.py?line=47'>48</a>\u001b[0m \u001b[39mfinally\u001b[39;00m:\n\u001b[1;32m     <a href='file:///Users/giuliacrocioni/miniforge3/envs/3d_vac/lib/python3.10/multiprocessing/popen_spawn_posix.py?line=48'>49</a>\u001b[0m     set_spawning_popen(\u001b[39mNone\u001b[39;00m)\n",
      "File \u001b[0;32m~/miniforge3/envs/3d_vac/lib/python3.10/multiprocessing/reduction.py:60\u001b[0m, in \u001b[0;36mdump\u001b[0;34m(obj, file, protocol)\u001b[0m\n\u001b[1;32m     <a href='file:///Users/giuliacrocioni/miniforge3/envs/3d_vac/lib/python3.10/multiprocessing/reduction.py?line=57'>58</a>\u001b[0m \u001b[39mdef\u001b[39;00m \u001b[39mdump\u001b[39m(obj, file, protocol\u001b[39m=\u001b[39m\u001b[39mNone\u001b[39;00m):\n\u001b[1;32m     <a href='file:///Users/giuliacrocioni/miniforge3/envs/3d_vac/lib/python3.10/multiprocessing/reduction.py?line=58'>59</a>\u001b[0m     \u001b[39m'''Replacement for pickle.dump() using ForkingPickler.'''\u001b[39;00m\n\u001b[0;32m---> <a href='file:///Users/giuliacrocioni/miniforge3/envs/3d_vac/lib/python3.10/multiprocessing/reduction.py?line=59'>60</a>\u001b[0m     ForkingPickler(file, protocol)\u001b[39m.\u001b[39;49mdump(obj)\n",
      "\u001b[0;31mTypeError\u001b[0m: cannot pickle 'module' object"
     ]
    }
   ],
   "source": [
    "preprocessor.start()  # start builfing graphs from the queries\n",
    "\n",
    "preprocessor.wait()  # wait for all jobs to complete\n",
    "\n",
    "print(preprocessor.output_paths)  # print the paths of the generated files"
   ]
  },
  {
   "cell_type": "code",
   "execution_count": null,
   "metadata": {},
   "outputs": [],
   "source": []
  }
 ],
 "metadata": {
  "interpreter": {
   "hash": "f9b52ae9a464ee28f33b5b46813037b2ef278ff3104e9fa321e8bed4ea4beaac"
  },
  "kernelspec": {
   "display_name": "Python 3.10.2 ('3d_vac')",
   "language": "python",
   "name": "python3"
  },
  "language_info": {
   "codemirror_mode": {
    "name": "ipython",
    "version": 3
   },
   "file_extension": ".py",
   "mimetype": "text/x-python",
   "name": "python",
   "nbconvert_exporter": "python",
   "pygments_lexer": "ipython3",
   "version": "3.10.2"
  },
  "orig_nbformat": 4
 },
 "nbformat": 4,
 "nbformat_minor": 2
}
