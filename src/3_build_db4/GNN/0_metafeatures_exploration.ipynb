{
 "cells": [
  {
   "cell_type": "code",
   "execution_count": null,
   "metadata": {},
   "outputs": [],
   "source": [
    "import h5py\n",
    "import glob\n",
    "import os\n",
    "import sys\n",
    "from pathlib import Path\n",
    "import torch\n",
    "import pandas as pd\n",
    "import numpy as np\n",
    "import logging\n",
    "from deeprankcore.trainer import Trainer\n",
    "from deeprankcore.dataset import GraphDataset, save_hdf5_keys\n",
    "import plotly.graph_objects as go\n",
    "from plotly.subplots import make_subplots\n",
    "import plotly.express as px"
   ]
  },
  {
   "attachments": {},
   "cell_type": "markdown",
   "metadata": {},
   "source": [
    "## General metafeatures exploration\n",
    "General (both for CNNs and GNNs), in terms of allele, peptide length, cluster, binary target."
   ]
  },
  {
   "cell_type": "code",
   "execution_count": null,
   "metadata": {},
   "outputs": [],
   "source": [
    "# load csv and pdb files used for generating hdf5 files\n",
    "run_day = '11122022'\n",
    "project_folder = '/projects/0/einf2380/'\n",
    "csv_file_name = 'BA_pMHCI_human_quantitative_gibbs_clust.csv'\n",
    "models_folder_name = 'exp_nmers_all_HLA_quantitative'\n",
    "data = 'pMHCI'\n",
    "resolution = 'residue' # either 'residue' or 'atomic'\n",
    "# csv\n",
    "csv_file_path = f'{project_folder}data/external/processed/I/{csv_file_name}'\n",
    "output_folder = f'{project_folder}data/{data}/features_output_folder/GNN/{resolution}/{run_day}'\n",
    "csv_data = pd.read_csv(csv_file_path)\n",
    "# filling nans: the <9mers have not been assigned a cluster due to the nature of the gibbs clustering\n",
    "csv_data.cluster = csv_data.cluster.fillna(-1)\n",
    "# creating binary target column\n",
    "csv_data['binary'] = csv_data.measurement_value.apply(lambda x: int(float(x) <= 500))\n",
    "# creating peptide length column\n",
    "csv_data['peptide_length'] = csv_data.peptide.apply(lambda x: len(x))\n",
    "# creating allele type column\n",
    "csv_data['allele_type'] = csv_data.allele.str.extract(r'HLA-(\\w)\\*.+')\n",
    "# pdbs\n",
    "models_folder_path = f'{project_folder}data/{data}/features_input_folder/{models_folder_name}'\n",
    "pdb_files = glob.glob(os.path.join(models_folder_path + '/pdb', '*.pdb'))\n",
    "pdb_ids_csv = [pdb_file.split('/')[-1].split('.')[0] for pdb_file in pdb_files]\n",
    "# filter on used pdbs\n",
    "csv_data_hdf5 = csv_data[csv_data.ID.isin(pdb_ids_csv)]"
   ]
  },
  {
   "cell_type": "code",
   "execution_count": null,
   "metadata": {},
   "outputs": [],
   "source": [
    "print(f'Original BA_pMHCI_human_quantitative.csv shape: {csv_data.shape[0]}')\n",
    "print(f'CSV shape after filtering with PDBs IDs used for generating HDF5 files: {csv_data_hdf5.shape[0]}')\n",
    "print(f'{csv_data.shape[0] - csv_data_hdf5.shape[0]} PDBs are missing from the pdb/ folder:')\n",
    "# why?\n",
    "csv_data_not_hdf5 = csv_data[~csv_data.ID.isin(csv_data_hdf5.ID)]\n",
    "(csv_data_not_hdf5\n",
    "    .groupby(['allele_type', 'peptide_length'])['ID']\n",
    "    .count()\n",
    "    .reset_index(name=\"count\"))"
   ]
  },
  {
   "cell_type": "code",
   "execution_count": null,
   "metadata": {},
   "outputs": [],
   "source": [
    "print(f'Measurement inequalities:\\n{csv_data_hdf5.measurement_inequality.value_counts()}')\n",
    "print(f'Measurement type: {csv_data_hdf5.measurement_type.unique()}')\n",
    "print(f'Measurement kind: {csv_data_hdf5.measurement_kind.unique()}')\n",
    "print(f'Clusters: {np.sort(csv_data_hdf5.cluster.unique())}')\n",
    "print(f'Alleles types:\\n{csv_data_hdf5.allele_type.value_counts()}')\n",
    "print(f'Peptides lengths: {np.sort(csv_data_hdf5.peptide_length.unique())}')\n",
    "csv_data_hdf5[csv_data_hdf5.peptide_length > 15][['ID', 'allele', 'peptide', 'peptide_length']]"
   ]
  },
  {
   "cell_type": "code",
   "execution_count": null,
   "metadata": {},
   "outputs": [],
   "source": [
    "# distribution of alleles types, peptides lengths, binary target\n",
    "data_grouped = (csv_data_hdf5[csv_data_hdf5.peptide_length < 16]\n",
    "                    .groupby(['peptide_length', 'allele_type', 'binary'])\n",
    "                    .count()\n",
    "                    .reset_index()[['peptide_length', 'allele_type', 'binary', 'ID']])\n",
    "fig = go.Figure()\n",
    "\n",
    "for p in np.sort(data_grouped.peptide_length.unique()):\n",
    "    plot_df = data_grouped[data_grouped.peptide_length == p]\n",
    "    fig.add_trace(\n",
    "        go.Bar(x=[plot_df.allele_type, plot_df.binary], y=plot_df['ID'], name=str(p)),\n",
    "    )\n",
    "\n",
    "fig.update_layout(\n",
    "    xaxis=dict(title_text=\"Binary target per allele\"),\n",
    "    yaxis=dict(title_text=\"Count\"),\n",
    "    barmode=\"stack\",\n",
    "    legend_title = \"Peptide length\",\n",
    "    legend_traceorder=\"normal\",\n",
    "    title = \"Data grouped by allele type, binary target value, and peptide length\",\n",
    ")\n",
    "\n",
    "#fig.show()\n",
    "#fig.write_image(\"allele_target_pep_length.png\")"
   ]
  },
  {
   "cell_type": "code",
   "execution_count": null,
   "metadata": {},
   "outputs": [],
   "source": [
    "# distribution of alleles types, clusters, binary target\n",
    "data_grouped = (csv_data_hdf5[csv_data_hdf5.peptide_length < 16]\n",
    "                    .groupby(['cluster', 'allele_type', 'binary'])\n",
    "                    .count()\n",
    "                    .reset_index()[['cluster', 'allele_type', 'binary', 'ID']])\n",
    "\n",
    "fig = go.Figure()\n",
    "\n",
    "for p in np.sort(data_grouped.cluster.unique()):\n",
    "    plot_df = data_grouped[data_grouped.cluster == p]\n",
    "    fig.add_trace(\n",
    "        go.Bar(x=[plot_df.allele_type, plot_df.binary], y=plot_df['ID'], name=str(p)),\n",
    "    )\n",
    "\n",
    "fig.update_layout(\n",
    "    xaxis=dict(title_text=\"Binary target per allele\"),\n",
    "    yaxis=dict(title_text=\"Count\"),\n",
    "    barmode=\"stack\",\n",
    "    legend_title = \"Cluster\",\n",
    "    legend_traceorder=\"normal\",\n",
    "    title = \"Data grouped by allele type, binary target value, and cluster number\",\n",
    ")\n",
    "\n",
    "#fig.show()\n",
    "#fig.write_image(\"allele_target_cluster.png\")"
   ]
  },
  {
   "cell_type": "code",
   "execution_count": null,
   "metadata": {},
   "outputs": [],
   "source": []
  }
 ],
 "metadata": {
  "kernelspec": {
   "display_name": "deeprank",
   "language": "python",
   "name": "python3"
  },
  "language_info": {
   "codemirror_mode": {
    "name": "ipython",
    "version": 3
   },
   "file_extension": ".py",
   "mimetype": "text/x-python",
   "name": "python",
   "nbconvert_exporter": "python",
   "pygments_lexer": "ipython3",
   "version": "3.9.12 (main, Jun  1 2022, 11:38:51) \n[GCC 7.5.0]"
  },
  "orig_nbformat": 4,
  "vscode": {
   "interpreter": {
    "hash": "e90870d136d3d323d7e5f0c37a78d42df10f282092c3b00836ef5a4b69cf7e5a"
   }
  }
 },
 "nbformat": 4,
 "nbformat_minor": 2
}
