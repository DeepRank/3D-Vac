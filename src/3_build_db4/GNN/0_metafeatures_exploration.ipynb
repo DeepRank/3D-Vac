{
 "cells": [
  {
   "cell_type": "code",
   "execution_count": null,
   "metadata": {},
   "outputs": [],
   "source": [
    "import glob\n",
    "import os\n",
    "import pandas as pd\n",
    "import numpy as np\n",
    "import plotly.graph_objects as go"
   ]
  },
  {
   "attachments": {},
   "cell_type": "markdown",
   "metadata": {},
   "source": [
    "## General metafeatures exploration\n",
    "General (both for CNNs and GNNs), in terms of allele, peptide length, peptides' and alleles' clustering, binary target."
   ]
  },
  {
   "cell_type": "code",
   "execution_count": null,
   "metadata": {},
   "outputs": [],
   "source": [
    "# load csv and pdb files used for generating hdf5 files\n",
    "project_folder = '/projects/0/einf2380/'\n",
    "csv_file_name = 'BA_pMHCI_human_quantitative_only_eq.csv'\n",
    "csv_file_cl_peptide = 'BA_pMHCI_human_quantitative_all_hla_gibbs_clusters.csv'\n",
    "csv_file_cl_allele = 'BA_pMHCI_human_quantitative_only_eq_alleleclusters_pseudoseq.csv'\n",
    "models_folder_name = 'HLA_quantitative'\n",
    "data = 'pMHCI'\n",
    "resolution = 'residue' # either 'residue' or 'atomic'\n",
    "# csv\n",
    "csv_file_path = f'{project_folder}data/external/processed/I/{csv_file_name}'\n",
    "csv_file_cl_peptide_path = f'{project_folder}data/external/processed/I/clusters/{csv_file_cl_peptide}'\n",
    "csv_file_cl_allele_path = f'{project_folder}data/external/processed/I/clusters/{csv_file_cl_allele}'\n",
    "csv_data = pd.read_csv(csv_file_path)\n",
    "csv_cl_peptide = pd.read_csv(csv_file_cl_peptide_path)\n",
    "csv_cl_allele = pd.read_csv(csv_file_cl_allele_path)\n",
    "# assigning the correct clusters (20/03/2023)\n",
    "csv_data = csv_data.merge(csv_cl_peptide[['ID', 'cluster_set_10']], how='left', on='ID').rename(columns={'cluster_set_10': 'cl_peptide'})\n",
    "# filling nans: the <9mers have not been assigned a cluster due to the nature of the gibbs clustering\n",
    "csv_data.cl_peptide = csv_data.cl_peptide.fillna(-1)\n",
    "csv_data = csv_data.merge(csv_cl_allele[['ID', 'allele_clustering']], how='left', on='ID').rename(columns={'allele_clustering': 'cl_allele'})"
   ]
  },
  {
   "cell_type": "code",
   "execution_count": null,
   "metadata": {},
   "outputs": [],
   "source": [
    "# creating binary target column\n",
    "csv_data['binary'] = csv_data.measurement_value.apply(lambda x: int(float(x) <= 500))\n",
    "# creating peptide length column\n",
    "csv_data['peptide_length'] = csv_data.peptide.apply(lambda x: len(x))\n",
    "# creating allele type column\n",
    "csv_data['allele_type'] = csv_data.allele.str.extract(r'HLA-(\\w)\\*.+')\n",
    "# pdbs\n",
    "models_folder_path = f'{project_folder}data/{data}/features_input_folder/{models_folder_name}'\n",
    "pdb_files = glob.glob(os.path.join(models_folder_path + '/pdb', '*.pdb'))\n",
    "pdb_ids_csv = [pdb_file.split('/')[-1].split('.')[0] for pdb_file in pdb_files]\n",
    "# filter on used pdbs\n",
    "csv_data_hdf5 = csv_data[csv_data.ID.isin(pdb_ids_csv)]"
   ]
  },
  {
   "cell_type": "code",
   "execution_count": null,
   "metadata": {},
   "outputs": [],
   "source": [
    "print(f'Original BA_pMHCI_human_quantitative.csv shape: {csv_data.shape[0]}')\n",
    "print(f'CSV shape after filtering with PDBs IDs used for generating HDF5 files: {csv_data_hdf5.shape[0]}')\n",
    "print(f'{csv_data.shape[0] - csv_data_hdf5.shape[0]} PDBs are missing from the pdb/ folder:')\n",
    "# why?\n",
    "csv_data_not_hdf5 = csv_data[~csv_data.ID.isin(csv_data_hdf5.ID)]\n",
    "(csv_data_not_hdf5\n",
    "    .groupby(['allele_type', 'peptide_length'])['ID']\n",
    "    .count()\n",
    "    .reset_index(name=\"count\"))"
   ]
  },
  {
   "cell_type": "code",
   "execution_count": null,
   "metadata": {},
   "outputs": [],
   "source": [
    "print(f'Measurement inequalities:\\n{csv_data_hdf5.measurement_inequality.value_counts()}')\n",
    "print(f'Measurement type: {csv_data_hdf5.measurement_type.unique()}')\n",
    "print(f'Measurement kind: {csv_data_hdf5.measurement_kind.unique()}')\n",
    "print(f'Clusters: {np.sort(csv_data_hdf5.cl_peptide.unique())}')\n",
    "print(f'Alleles types:\\n{csv_data_hdf5.allele_type.value_counts()}')\n",
    "print(f'Peptides lengths: {np.sort(csv_data_hdf5.peptide_length.unique())}')\n",
    "csv_data_hdf5[csv_data_hdf5.peptide_length > 15][['ID', 'allele', 'peptide', 'peptide_length']]"
   ]
  },
  {
   "cell_type": "code",
   "execution_count": null,
   "metadata": {},
   "outputs": [],
   "source": [
    "# distribution of alleles types, peptides lengths, binary target\n",
    "data_grouped = (csv_data_hdf5.groupby(['peptide_length', 'allele_type', 'binary'])\n",
    "                    .count()\n",
    "                    .reset_index()[['peptide_length', 'allele_type', 'binary', 'ID']])\n",
    "fig = go.Figure()\n",
    "\n",
    "for p in np.sort(data_grouped.peptide_length.unique()):\n",
    "    plot_df = data_grouped[data_grouped.peptide_length == p]\n",
    "    fig.add_trace(\n",
    "        go.Bar(x=[plot_df.allele_type, plot_df.binary], y=plot_df['ID'], name=str(p)),\n",
    "    )\n",
    "\n",
    "fig.update_layout(\n",
    "    xaxis=dict(title_text=\"Binary target per allele\"),\n",
    "    yaxis=dict(title_text=\"Count\"),\n",
    "    barmode=\"stack\",\n",
    "    legend_title = \"Peptide length\",\n",
    "    legend_traceorder=\"normal\",\n",
    "    title = \"Data grouped by allele type, binary target value, and peptide length\",\n",
    ")\n",
    "\n",
    "fig.show()\n",
    "fig.write_image(\"peptide_length_allele_type_binary.png\")"
   ]
  },
  {
   "cell_type": "code",
   "execution_count": null,
   "metadata": {},
   "outputs": [],
   "source": [
    "# distribution of alleles types, clusters, binary target\n",
    "data_grouped = (csv_data_hdf5.groupby(['cl_peptide', 'allele_type', 'binary'])\n",
    "                    .count()\n",
    "                    .reset_index()[['cl_peptide', 'allele_type', 'binary', 'ID']])\n",
    "\n",
    "fig = go.Figure()\n",
    "\n",
    "for p in np.sort(data_grouped.cl_peptide.unique()):\n",
    "    plot_df = data_grouped[data_grouped.cl_peptide == p]\n",
    "    fig.add_trace(\n",
    "        go.Bar(x=[plot_df.allele_type, plot_df.binary], y=plot_df['ID'], name=str(p)),\n",
    "    )\n",
    "\n",
    "fig.update_layout(\n",
    "    xaxis=dict(title_text=\"Binary target per allele\"),\n",
    "    yaxis=dict(title_text=\"Count\"),\n",
    "    barmode=\"stack\",\n",
    "    legend_title = \"Peptides' clusters\",\n",
    "    legend_traceorder=\"normal\",\n",
    "    title = \"Data grouped by allele type, binary target value, and peptides' clusters' number\",\n",
    ")\n",
    "\n",
    "fig.show()\n",
    "fig.write_image(\"cl_peptide_allele_type_binary.png\")"
   ]
  },
  {
   "cell_type": "code",
   "execution_count": null,
   "metadata": {},
   "outputs": [],
   "source": [
    "# distribution of alleles types, alleles clustering, binary target\n",
    "data_grouped = (csv_data_hdf5.groupby(['cl_allele', 'allele_type', 'binary'])\n",
    "                    .count()\n",
    "                    .reset_index()[['cl_allele', 'allele_type', 'binary', 'ID']])\n",
    "\n",
    "fig = go.Figure()\n",
    "\n",
    "plot_df = data_grouped[data_grouped.cl_allele == 0]\n",
    "fig.add_trace(\n",
    "    go.Bar(x=[plot_df.allele_type, plot_df.binary], y=plot_df['ID'], name='Training'),\n",
    ")\n",
    "\n",
    "plot_df = data_grouped[data_grouped.cl_allele == 1]\n",
    "fig.add_trace(\n",
    "    go.Bar(x=[plot_df.allele_type, plot_df.binary], y=plot_df['ID'], name='Testing'),\n",
    ")\n",
    "\n",
    "fig.update_layout(\n",
    "    xaxis=dict(title_text=\"Binary target per allele\"),\n",
    "    yaxis=dict(title_text=\"Count\"),\n",
    "    barmode=\"stack\",\n",
    "    legend_title = \"Alleles' clusters\",\n",
    "    legend_traceorder=\"normal\",\n",
    "    title = \"Data grouped by allele type, binary target value, and allele_clustering\",\n",
    ")\n",
    "\n",
    "fig.show()\n",
    "fig.write_image(\"cl_allele_type_binary.png\")"
   ]
  }
 ],
 "metadata": {
  "kernelspec": {
   "display_name": "deeprank",
   "language": "python",
   "name": "python3"
  },
  "language_info": {
   "codemirror_mode": {
    "name": "ipython",
    "version": 3
   },
   "file_extension": ".py",
   "mimetype": "text/x-python",
   "name": "python",
   "nbconvert_exporter": "python",
   "pygments_lexer": "ipython3",
   "version": "3.9.12"
  },
  "orig_nbformat": 4,
  "vscode": {
   "interpreter": {
    "hash": "e90870d136d3d323d7e5f0c37a78d42df10f282092c3b00836ef5a4b69cf7e5a"
   }
  }
 },
 "nbformat": 4,
 "nbformat_minor": 2
}
