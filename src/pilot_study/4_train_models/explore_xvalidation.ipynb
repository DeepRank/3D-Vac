{
 "cells": [
  {
   "cell_type": "code",
   "execution_count": 5,
   "metadata": {},
   "outputs": [],
   "source": [
    "import torch\n",
    "from models import MlpRegBaseline"
   ]
  },
  {
   "cell_type": "code",
   "execution_count": 7,
   "metadata": {},
   "outputs": [
    {
     "name": "stdout",
     "output_type": "stream",
     "text": [
      "dict_keys(['validation_rate', 'model', 'best_epoch', 'name', 'epochs', 'neurons', 'train_losses', 'validation_losses'])\n",
      "dict_keys(['validation_rate', 'model', 'best_epoch', 'name', 'epochs', 'neurons', 'train_losses', 'validation_losses'])\n",
      "dict_keys(['validation_rate', 'model', 'best_epoch', 'name', 'epochs', 'neurons', 'train_losses', 'validation_losses'])\n",
      "dict_keys(['validation_rate', 'model', 'best_epoch', 'name', 'epochs', 'neurons', 'train_losses', 'validation_losses'])\n",
      "dict_keys(['validation_rate', 'model', 'best_epoch', 'name', 'epochs', 'neurons', 'train_losses', 'validation_losses'])\n",
      "dict_keys(['validation_rate', 'model', 'best_epoch', 'name', 'epochs', 'neurons', 'train_losses', 'validation_losses'])\n",
      "dict_keys(['validation_rate', 'model', 'best_epoch', 'name', 'epochs', 'neurons', 'train_losses', 'validation_losses'])\n",
      "dict_keys(['validation_rate', 'model', 'best_epoch', 'name', 'epochs', 'neurons', 'train_losses', 'validation_losses'])\n",
      "dict_keys(['validation_rate', 'model', 'best_epoch', 'name', 'epochs', 'neurons', 'train_losses', 'validation_losses'])\n",
      "dict_keys(['validation_rate', 'model', 'best_epoch', 'name', 'epochs', 'neurons', 'train_losses', 'validation_losses'])\n"
     ]
    }
   ],
   "source": [
    "models_path = \"trained_models/mlp_reg_baseline_5_neurons_10_epochs_test.pt\"\n",
    "xval_data = torch.load(models_path)\n",
    "for data in xval_data:\n",
    "    print(data.keys())\n",
    "    model = MlpRegBaseline() "
   ]
  }
 ],
 "metadata": {
  "interpreter": {
   "hash": "e0f11ea36265c7a09575b72ab023a91955654eee7154dd519d25c1189c46f9fd"
  },
  "kernelspec": {
   "display_name": "Python 3.8.13 ('deeprank')",
   "language": "python",
   "name": "python3"
  },
  "language_info": {
   "codemirror_mode": {
    "name": "ipython",
    "version": 3
   },
   "file_extension": ".py",
   "mimetype": "text/x-python",
   "name": "python",
   "nbconvert_exporter": "python",
   "pygments_lexer": "ipython3",
   "version": "3.8.13"
  },
  "orig_nbformat": 4
 },
 "nbformat": 4,
 "nbformat_minor": 2
}
