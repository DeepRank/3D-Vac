{
 "cells": [
  {
   "cell_type": "markdown",
   "metadata": {},
   "source": [
    "## Module import\n",
    "Loading necessary modules for the script to execute"
   ]
  },
  {
   "cell_type": "code",
   "execution_count": 1,
   "metadata": {},
   "outputs": [
    {
     "name": "stderr",
     "output_type": "stream",
     "text": [
      "/home/daqop/anaconda3/envs/deeprank/lib/python3.8/site-packages/tqdm/auto.py:22: TqdmWarning: IProgress not found. Please update jupyter and ipywidgets. See https://ipywidgets.readthedocs.io/en/stable/user_install.html\n",
      "  from .autonotebook import tqdm as notebook_tqdm\n"
     ]
    }
   ],
   "source": [
    "import torch\n",
    "import matplotlib.pyplot as plt\n",
    "from torch import nn\n",
    "from torch.utils.data import DataLoader\n",
    "from torch.utils.data import Dataset\n",
    "from torch.utils.data import random_split\n",
    "import matplotlib.pyplot as plt\n",
    "import pickle"
   ]
  },
  {
   "cell_type": "markdown",
   "metadata": {},
   "source": [
    "## Data pre-processing\n",
    "Here we load the csv file and define main functions. Peptides are labeled as binders or not with a threshold of 500. Then peptides are encoded by a vector of size 20."
   ]
  },
  {
   "cell_type": "code",
   "execution_count": 2,
   "metadata": {},
   "outputs": [
    {
     "name": "stdout",
     "output_type": "stream",
     "text": [
      "11\n"
     ]
    }
   ],
   "source": [
    "cluster_path = \"../0_seq_data_analysis/clusters.pkl\"\n",
    "csv_path = \"../../../data/binding_data/BA_pMHCI.csv\"\n",
    "csv_rows = [row.split(\",\") for row in open(csv_path, \"r\")]\n",
    "pkl_clusters = pickle.load(open(cluster_path, \"rb\"))\n",
    "\n",
    "clusters = {}\n",
    "\n",
    "for c_idx,c_peptides in enumerate(pkl_clusters.values()):\n",
    "    cluster = []\n",
    "    for peptide in c_peptides:\n",
    "        ba_values = torch.tensor([float(row[3]) for row in csv_rows if row[2] == peptide])\n",
    "        label = (0.,1.)[ba_values.mean() <= 500]\n",
    "        cluster.append((peptide,label))\n",
    "    clusters[str(c_idx)] = cluster\n",
    "print(len(clusters))\n",
    "def peptide2onehot(peptide):\n",
    "    AA_eye = torch.eye(20, dtype=torch.float)\n",
    "    aminoacids = ('ACDEFGHIKLMNPQRSTVWY')\n",
    "    return torch.stack([AA_eye[aminoacids.index(res)] for res in peptide])"
   ]
  },
  {
   "cell_type": "markdown",
   "metadata": {},
   "source": [
    "## Separate train, validation and test dataset\n",
    "The train dataset is used for the training of the model. Validation dataset allows to evaluate the performance of the model at a given epoch on a different dataset than the one used for learning. The test dataset assesses the accuracy of model's prediction.\n",
    "Before spliting the initial dataset into several components, data is shuffled and splitted without redundancies."
   ]
  },
  {
   "cell_type": "code",
   "execution_count": 3,
   "metadata": {},
   "outputs": [],
   "source": [
    "# dataset proportions\n",
    "train_p = 0.7\n",
    "validation_p = 0.2\n",
    "test_p = 0.1\n",
    "\n",
    "# hyperparameters\n",
    "neurons_per_layer = 500\n",
    "batch = 64\n",
    "epochs = 50\n",
    "\n",
    "# other parameters:\n",
    "device = (\"cpu\", \"cuda\")[torch.cuda.is_available()]\n",
    "\n",
    "# make the dataset class:\n",
    "class Peptides(Dataset):\n",
    "    def __init__(self, first_cluster,last_cluster):\n",
    "        peptides = []\n",
    "        labels = []\n",
    "        dataset = []\n",
    "        for i in range(first_cluster,last_cluster+1):\n",
    "            dataset = dataset + clusters[str(i)]\n",
    "        for peptide,label in dataset:\n",
    "            peptides.append(peptide2onehot(peptide))\n",
    "            labels.append(label)\n",
    "        self.peptides = peptides\n",
    "        self.labels = torch.tensor(labels).long()\n",
    "    def __getitem__(self,idx):\n",
    "        return self.peptides[idx],self.labels[idx]\n",
    "    def __len__(self):\n",
    "        return len(self.peptides)\n",
    "train = Peptides(1,9)\n",
    "validation = Peptides(10,10)\n",
    "test = Peptides(0,0)\n",
    "\n",
    "# create the dataloaders iterators:\n",
    "train_dataloader = DataLoader(train, batch_size=batch)\n",
    "validation_dataloader = DataLoader(validation, batch_size=batch)\n",
    "test_dataloader = DataLoader(test, batch_size=batch)\n"
   ]
  },
  {
   "cell_type": "markdown",
   "metadata": {},
   "source": [
    "## Training the model\n",
    "First, we define the neural network architecture of the multi layer perceptron (MLP). The MLP is made of 2 layers and `neurons_per_layer` number of neurons per layer. The loss function used is cross entropy, which measures the difference of entropy between an expected probability distribution and the model's. The optimizer is ADAM.\n",
    "\n",
    "The train function allows to train the model for `e` number of `epoches`."
   ]
  },
  {
   "cell_type": "code",
   "execution_count": 4,
   "metadata": {},
   "outputs": [],
   "source": [
    "# create the MLP class\n",
    "class MLP(nn.Module):\n",
    "    def __init__(self):\n",
    "        super(MLP, self).__init__()\n",
    "        self.flatten = nn.Flatten()\n",
    "        self.linear_relu_stack = nn.Sequential(\n",
    "            nn.Linear(20*9, neurons_per_layer),\n",
    "            nn.BatchNorm1d(neurons_per_layer),\n",
    "            nn.ReLU(),\n",
    "            nn.Linear(neurons_per_layer, neurons_per_layer),\n",
    "            nn.ReLU(),\n",
    "            nn.Linear(neurons_per_layer, 2),\n",
    "        )\n",
    "    def forward(self, x):\n",
    "        x = self.flatten(x)\n",
    "        output = self.linear_relu_stack(x)\n",
    "        return output\n",
    "\n",
    "model = MLP().to(device)\n",
    "\n",
    "# define the loss function and the optimizer:\n",
    "loss_fn = nn.CrossEntropyLoss()\n",
    "optimizer = torch.optim.Adam(model.parameters(), lr=1e-3)\n",
    "\n",
    "# define the train function\n",
    "def train(dataloader, model, loss_fn,optimizer):\n",
    "    model.train()\n",
    "    for X,y in dataloader:\n",
    "        # forward propagation\n",
    "        X, y = X.to(device), y.to(device)\n",
    "        pred = model(X)\n",
    "        loss = loss_fn(pred,y)\n",
    "\n",
    "        # backpropagation\n",
    "        optimizer.zero_grad() # old gradient removed (Adam optimizer uses momentum but it is handled internally)\n",
    "        loss.backward() # calculates the gradient by making derivatives \n",
    "        optimizer.step() # performs a single parameters update using the calculated gradient\n",
    "\n",
    "#define the validation function\n",
    "def evaluate(dataloader, model):\n",
    "    predictions = torch.tensor([])\n",
    "    model.eval()\n",
    "    with torch.no_grad():\n",
    "        labels = torch.tensor([])\n",
    "        for X,y in dataloader:\n",
    "            pred = model(X)\n",
    "            predictions = torch.cat((predictions, pred.max(1)[1]), 0)\n",
    "            labels = torch.cat((labels,y), 0)\n",
    "    pos_rate = float((predictions.round() == labels).sum()/labels.size(0)*100)\n",
    "    # neg_rate = float((predictions)/labels.size(0)*100)\n",
    "    return pos_rate "
   ]
  },
  {
   "cell_type": "markdown",
   "metadata": {},
   "source": [
    "Now we train the model. At the end of each epoches we plot the PPV (positively predicted values) rate both for the training dataset and the validation dataset thus assessing the predictive and generalizing performances of the model."
   ]
  },
  {
   "cell_type": "code",
   "execution_count": 5,
   "metadata": {},
   "outputs": [
    {
     "data": {
      "image/png": "[encoded data removed]",
      "text/plain": [
       "<Figure size 432x288 with 1 Axes>"
      ]
     },
     "metadata": {
      "needs_background": "light"
     },
     "output_type": "display_data"
    },
    {
     "name": "stdout",
     "output_type": "stream",
     "text": [
      "model's accuracy (based on test data): 75.72254180908203\n"
     ]
    }
   ],
   "source": [
    "train_pr = []\n",
    "validation_pr = []\n",
    "for e in range(epochs):\n",
    "    train_positive = evaluate(train_dataloader, model)\n",
    "    validation_positive = evaluate(validation_dataloader, model)\n",
    "    train_pr.append(train_positive)\n",
    "    validation_pr.append(validation_positive)\n",
    "    train(train_dataloader, model, loss_fn, optimizer) #train on the whole database in batches\n",
    "plt.plot(range(epochs), train_pr, label=\"Training\")\n",
    "plt.plot(range(epochs), validation_pr, label=\"Validation\")\n",
    "plt.legend([\"Training\", \"Validation\"])\n",
    "plt.title(\"Multi layer perceptron performances for clustered data\")\n",
    "plt.xlabel(\"Epochs\")\n",
    "plt.ylabel(\"Positive Rate\")\n",
    "plt.show()\n",
    "test_score = evaluate(test_dataloader, model)\n",
    "print(\"model's accuracy (based on test data):\", test_score)\n",
    "    "
   ]
  },
  {
   "cell_type": "code",
   "execution_count": 6,
   "metadata": {},
   "outputs": [
    {
     "name": "stdout",
     "output_type": "stream",
     "text": [
      "tensor([[ 0.8741, -0.0147,  2.2888,  0.3277, -0.5078,  0.6082]])\n",
      "tensor([[-1.0226, -0.7703,  1.1374,  0.4628,  0.7222,  0.9847]])\n",
      "1\n"
     ]
    },
    {
     "data": {
      "image/png": "[encoded data removed]",
      "text/plain": [
       "<Figure size 432x288 with 1 Axes>"
      ]
     },
     "metadata": {
      "needs_background": "light"
     },
     "output_type": "display_data"
    }
   ],
   "source": [
    "t = torch.randn(1,6);\n",
    "p = torch.randn(1,6)\n",
    "print(t)\n",
    "print(p)\n",
    "print(p.size(0))\n",
    "import pylab as plt\n",
    "plt.scatter(t[0],p[0])\n",
    "plt.show()"
   ]
  }
 ],
 "metadata": {
  "interpreter": {
   "hash": "e0f11ea36265c7a09575b72ab023a91955654eee7154dd519d25c1189c46f9fd"
  },
  "kernelspec": {
   "display_name": "Python 3.8.13 ('deeprank')",
   "language": "python",
   "name": "python3"
  },
  "language_info": {
   "codemirror_mode": {
    "name": "ipython",
    "version": 3
   },
   "file_extension": ".py",
   "mimetype": "text/x-python",
   "name": "python",
   "nbconvert_exporter": "python",
   "pygments_lexer": "ipython3",
   "version": "3.8.13"
  },
  "orig_nbformat": 4
 },
 "nbformat": 4,
 "nbformat_minor": 2
}
