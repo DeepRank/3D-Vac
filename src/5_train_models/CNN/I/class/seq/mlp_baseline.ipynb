{
 "cells": [
  {
   "cell_type": "markdown",
   "metadata": {},
   "source": [
    "## Module import\n",
    "Loading necessary modules for the script to execute"
   ]
  },
  {
   "cell_type": "code",
   "execution_count": 7,
   "metadata": {},
   "outputs": [],
   "source": [
    "import torch\n",
    "import matplotlib.pyplot as plt\n",
    "from torch import nn\n",
    "from torch.utils.data import DataLoader\n",
    "from torch.utils.data import Dataset\n",
    "from torch.utils.data import random_split\n",
    "import matplotlib.pyplot as plt"
   ]
  },
  {
   "cell_type": "markdown",
   "metadata": {},
   "source": [
    "## Data pre-processing\n",
    "Here we load the csv file and define main functions. Peptides are labeled as binders or not with a threshold of 500. Then peptides are encoded by a vector of size 20."
   ]
  },
  {
   "cell_type": "code",
   "execution_count": 8,
   "metadata": {},
   "outputs": [
    {
     "ename": "SyntaxError",
     "evalue": "invalid syntax (1771331762.py, line 21)",
     "output_type": "error",
     "traceback": [
      "\u001b[0;36m  Input \u001b[0;32mIn [8]\u001b[0;36m\u001b[0m\n\u001b[0;31m    blosum =\u001b[0m\n\u001b[0m             ^\u001b[0m\n\u001b[0;31mSyntaxError\u001b[0m\u001b[0;31m:\u001b[0m invalid syntax\n"
     ]
    }
   ],
   "source": [
    "peptides = []\n",
    "labels = []\n",
    "with open(\"../binding_data/BA_pMHCI.csv\", \"r\") as csv_f:\n",
    "    rows = [row.split(\",\") for row in csv_f]\n",
    "    for row in rows:\n",
    "        peptides.append(row[2])\n",
    "        labels.append((0.,1.)[float(row[3]) <= 500])\n",
    "positives = [label for label in labels if label == 1.]\n",
    "negatives = [label for label in labels if label == 0.]\n",
    "print(f\"Number of binders: {len(positives)}\")\n",
    "print(f\"Number of non binders: {len(negatives)}\")\n",
    "print(f\"Binders and non binders combined: {len(negatives)+len(positives)}\")\n",
    "\n",
    "labels = torch.tensor(labels).long()\n",
    "def peptide2onehot(peptide):\n",
    "    AA_eye = torch.eye(20, dtype=torch.float)\n",
    "    aminoacids = ('ACDEFGHIKLMNPQRSTVWY')\n",
    "    return torch.stack([AA_eye[aminoacids.index(res)] for res in peptide])\n",
    "\n",
    "def peptides2blosum(peptide):\n",
    "    blosum = \n",
    "\n",
    "peptides_encoded = torch.stack([peptide2onehot(seq) for seq in peptides])"
   ]
  },
  {
   "cell_type": "markdown",
   "metadata": {},
   "source": [
    "## Separate train, validation and test dataset\n",
    "The train dataset is used for the training of the model. Validation dataset allows to evaluate the performance of the model at a given epoch on a different dataset than the one used for learning. The test dataset assesses the accuracy of model's prediction.\n",
    "Before spliting the initial dataset into several components, data is shuffled and splitted without redundancies."
   ]
  },
  {
   "cell_type": "code",
   "execution_count": null,
   "metadata": {},
   "outputs": [],
   "source": [
    "# dataset proportions\n",
    "train_p = 0.7\n",
    "validation_p = 0.2\n",
    "test_p = 0.1\n",
    "\n",
    "# hyperparameters\n",
    "neurons_per_layer = 200\n",
    "batch = 64\n",
    "epochs = 50\n",
    "\n",
    "# other parameters:\n",
    "device = (\"cpu\", \"cuda\")[torch.cuda.is_available()]\n",
    "\n",
    "# make the dataset class:\n",
    "class Peptides(Dataset):\n",
    "    def __init__(self):\n",
    "        self.peptides = peptides_encoded\n",
    "        self.labels = labels\n",
    "    def __getitem__(self,idx):\n",
    "        return self.peptides[idx],self.labels[idx]\n",
    "    def __len__(self):\n",
    "        return len(self.peptides)\n",
    "\n",
    "# datasets splitting\n",
    "dataset_len = len(labels)\n",
    "dataset_splits = torch.tensor([train_p*dataset_len, validation_p*dataset_len, test_p*dataset_len])\n",
    "dataset_splits = torch.round(dataset_splits).int()\n",
    "train, validation, test = random_split(Peptides(), dataset_splits)\n",
    "\n",
    "# create the dataloaders iterators:\n",
    "train_dataloader = DataLoader(train, batch_size=batch)\n",
    "validation_dataloader = DataLoader(validation, batch_size=batch)\n",
    "test_dataloader = DataLoader(test, batch_size=batch)\n"
   ]
  },
  {
   "cell_type": "markdown",
   "metadata": {},
   "source": [
    "## Training the model\n",
    "First, we define the neural network architecture of the multi layer perceptron (MLP). The MLP is made of 2 layers and `neurons_per_layer` number of neurons per layer. The loss function used is cross entropy, which measures the difference of entropy between an expected probability distribution and the model's. The optimizer is ADAM.\n",
    "\n",
    "The train function allows to train the model for `e` number of `epoches`."
   ]
  },
  {
   "cell_type": "code",
   "execution_count": null,
   "metadata": {},
   "outputs": [
    {
     "ename": "NameError",
     "evalue": "name 'nn' is not defined",
     "output_type": "error",
     "traceback": [
      "\u001b[0;31m---------------------------------------------------------------------------\u001b[0m",
      "\u001b[0;31mNameError\u001b[0m                                 Traceback (most recent call last)",
      "\u001b[1;32m/home/daqop/mountpoint_snellius/3d-epipred/4_train_models/mlp_baseline.ipynb Cell 8'\u001b[0m in \u001b[0;36m<cell line: 2>\u001b[0;34m()\u001b[0m\n\u001b[1;32m      <a href='vscode-notebook-cell:/home/daqop/mountpoint_snellius/3d-epipred/4_train_models/mlp_baseline.ipynb#ch0000007?line=0'>1</a>\u001b[0m \u001b[39m# create the MLP class\u001b[39;00m\n\u001b[0;32m----> <a href='vscode-notebook-cell:/home/daqop/mountpoint_snellius/3d-epipred/4_train_models/mlp_baseline.ipynb#ch0000007?line=1'>2</a>\u001b[0m \u001b[39mclass\u001b[39;00m \u001b[39mMLP\u001b[39;00m(nn\u001b[39m.\u001b[39mModule):\n\u001b[1;32m      <a href='vscode-notebook-cell:/home/daqop/mountpoint_snellius/3d-epipred/4_train_models/mlp_baseline.ipynb#ch0000007?line=2'>3</a>\u001b[0m     \u001b[39mdef\u001b[39;00m \u001b[39m__init__\u001b[39m(\u001b[39mself\u001b[39m):\n\u001b[1;32m      <a href='vscode-notebook-cell:/home/daqop/mountpoint_snellius/3d-epipred/4_train_models/mlp_baseline.ipynb#ch0000007?line=3'>4</a>\u001b[0m         \u001b[39msuper\u001b[39m(MLP, \u001b[39mself\u001b[39m)\u001b[39m.\u001b[39m\u001b[39m__init__\u001b[39m()\n",
      "\u001b[0;31mNameError\u001b[0m: name 'nn' is not defined"
     ]
    }
   ],
   "source": [
    "# create the MLP class\n",
    "class MLP(nn.Module):\n",
    "    def __init__(self):\n",
    "        super(MLP, self).__init__()\n",
    "        self.flatten = nn.Flatten()\n",
    "        self.linear_relu_stack = nn.Sequential(\n",
    "            nn.Linear(20*9, neurons_per_layer),\n",
    "            nn.BatchNorm1d(neurons_per_layer),\n",
    "            nn.ReLU(),\n",
    "            nn.Linear(neurons_per_layer, neurons_per_layer),\n",
    "            nn.ReLU(),\n",
    "            nn.Linear(neurons_per_layer, 2),\n",
    "        )\n",
    "    def forward(self, x):\n",
    "        x = self.flatten(x)\n",
    "        output = self.linear_relu_stack(x)\n",
    "        return output\n",
    "\n",
    "model = MLP().to(device)\n",
    "\n",
    "# define the loss function and the optimizer:\n",
    "loss_fn = nn.CrossEntropyLoss()\n",
    "optimizer = torch.optim.Adam(model.parameters(), lr=1e-3)\n",
    "\n",
    "# define the train function\n",
    "def train(dataloader, model, loss_fn,optimizer):\n",
    "    model.train()\n",
    "    for X,y in dataloader:\n",
    "        # forward propagation\n",
    "        X, y = X.to(device), y.to(device)\n",
    "        print(X)\n",
    "        pred = model(X)\n",
    "        loss = loss_fn(pred,y)\n",
    "\n",
    "        # backpropagation\n",
    "        optimizer.zero_grad() # old gradient removed (Adam optimizer uses momentum but it is handled internally)\n",
    "        loss.backward() # calculates the gradient by making derivatives \n",
    "        optimizer.step() # performs a single parameters update using the calculated gradient\n",
    "\n",
    "#define the validation function\n",
    "def evaluate(dataloader, model):\n",
    "    predictions = torch.tensor([])\n",
    "    model.eval()\n",
    "    with torch.no_grad():\n",
    "        labels = torch.tensor([])\n",
    "        for X,y in dataloader:\n",
    "            pred = model(X)\n",
    "            predictions = torch.cat((predictions, pred.max(1)[1]), 0)\n",
    "            labels = torch.cat((labels,y), 0)\n",
    "    pos_rate = float((predictions.round() == labels).sum()/labels.size(0)*100)\n",
    "    # neg_rate = float((predictions)/labels.size(0)*100)\n",
    "    return pos_rate "
   ]
  },
  {
   "cell_type": "markdown",
   "metadata": {},
   "source": [
    "Now we train the model. At the end of each epoches we plot the PPV (positively predicted values) rate both for the training dataset and the validation dataset thus assessing the predictive and generalizing performances of the model."
   ]
  },
  {
   "cell_type": "code",
   "execution_count": null,
   "metadata": {},
   "outputs": [
    {
     "data": {
      "image/png": "[encoded data removed]",
      "text/plain": [
       "<Figure size 432x288 with 1 Axes>"
      ]
     },
     "metadata": {
      "needs_background": "light"
     },
     "output_type": "display_data"
    },
    {
     "name": "stdout",
     "output_type": "stream",
     "text": [
      "model's accuracy (based on test data): 82.40621185302734\n"
     ]
    }
   ],
   "source": [
    "train_pr = []\n",
    "validation_pr = []\n",
    "for e in range(epochs):\n",
    "    train_positive = evaluate(train_dataloader, model)\n",
    "    validation_positive = evaluate(validation_dataloader, model)\n",
    "    train_pr.append(train_positive)\n",
    "    validation_pr.append(validation_positive)\n",
    "    train(train_dataloader, model, loss_fn, optimizer) #train on the whole database in batches\n",
    "plt.plot(range(epochs), train_pr, label=\"Training\")\n",
    "plt.plot(range(epochs), validation_pr, label=\"Validation\")\n",
    "plt.legend([\"Training\", \"Validation\"])\n",
    "plt.title(\"Multi layer perceptron performances for the training and validation set\")\n",
    "plt.xlabel(\"Epochs\")\n",
    "plt.ylabel(\"Positive Rate\")\n",
    "plt.show()\n",
    "test_score = evaluate(test_dataloader, model)\n",
    "print(\"model's accuracy (based on test data):\", test_score)\n",
    "    "
   ]
  },
  {
   "cell_type": "code",
   "execution_count": null,
   "metadata": {},
   "outputs": [
    {
     "name": "stdout",
     "output_type": "stream",
     "text": [
      "tensor([[ 0.1781,  0.7091,  0.5195, -0.3976,  0.6101,  2.5836]])\n",
      "tensor([[-1.3392, -0.2829,  0.2214, -0.1763,  0.9442,  2.6188]])\n",
      "1\n"
     ]
    }
   ],
   "source": [
    "t = torch.randn(1,6);\n",
    "p = torch.randn(1,6)\n",
    "print(t)\n",
    "print(p)\n",
    "print(p.size(0))"
   ]
  }
 ],
 "metadata": {
  "interpreter": {
   "hash": "e0f11ea36265c7a09575b72ab023a91955654eee7154dd519d25c1189c46f9fd"
  },
  "kernelspec": {
   "display_name": "Python 3.8.13 ('deeprank')",
   "language": "python",
   "name": "python3"
  },
  "language_info": {
   "codemirror_mode": {
    "name": "ipython",
    "version": 3
   },
   "file_extension": ".py",
   "mimetype": "text/x-python",
   "name": "python",
   "nbconvert_exporter": "python",
   "pygments_lexer": "ipython3",
   "version": "3.8.13"
  },
  "orig_nbformat": 4
 },
 "nbformat": 4,
 "nbformat_minor": 2
}
