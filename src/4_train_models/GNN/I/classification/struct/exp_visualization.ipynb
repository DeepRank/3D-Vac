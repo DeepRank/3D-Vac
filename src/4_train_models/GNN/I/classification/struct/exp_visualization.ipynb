{
 "cells": [
  {
   "cell_type": "code",
   "execution_count": 1,
   "metadata": {},
   "outputs": [
    {
     "name": "stderr",
     "output_type": "stream",
     "text": [
      "/home/ccrocion/anaconda3/envs/deeprank/lib/python3.9/site-packages/tqdm/auto.py:22: TqdmWarning: IProgress not found. Please update jupyter and ipywidgets. See https://ipywidgets.readthedocs.io/en/stable/user_install.html\n",
      "  from .autonotebook import tqdm as notebook_tqdm\n"
     ]
    }
   ],
   "source": [
    "import h5py\n",
    "import glob\n",
    "import os\n",
    "import sys\n",
    "from pathlib import Path\n",
    "import torch\n",
    "import pandas as pd\n",
    "import numpy as np\n",
    "import logging\n",
    "from deeprankcore.trainer import Trainer\n",
    "from deeprankcore.dataset import GraphDataset\n",
    "import plotly.express as px\n",
    "from plotly.subplots import make_subplots\n",
    "import plotly.graph_objects as go\n",
    "from sklearn.metrics import (\n",
    "    roc_curve,\n",
    "    precision_recall_curve,\n",
    "    auc,\n",
    "    average_precision_score,\n",
    "    precision_score,\n",
    "    recall_score,\n",
    "    accuracy_score,\n",
    "    f1_score,\n",
    "    matthews_corrcoef)"
   ]
  },
  {
   "cell_type": "code",
   "execution_count": 2,
   "metadata": {},
   "outputs": [
    {
     "data": {
      "text/html": [
       "<div>\n",
       "<style scoped>\n",
       "    .dataframe tbody tr th:only-of-type {\n",
       "        vertical-align: middle;\n",
       "    }\n",
       "\n",
       "    .dataframe tbody tr th {\n",
       "        vertical-align: top;\n",
       "    }\n",
       "\n",
       "    .dataframe thead th {\n",
       "        text-align: right;\n",
       "    }\n",
       "</style>\n",
       "<table border=\"1\" class=\"dataframe\">\n",
       "  <thead>\n",
       "    <tr style=\"text-align: right;\">\n",
       "      <th></th>\n",
       "      <th>exp_fullname</th>\n",
       "      <th>exp_path</th>\n",
       "      <th>start_time</th>\n",
       "      <th>end_time</th>\n",
       "      <th>input_data_path</th>\n",
       "      <th>protein_class</th>\n",
       "      <th>target_data</th>\n",
       "      <th>resolution</th>\n",
       "      <th>task</th>\n",
       "      <th>node_features</th>\n",
       "      <th>...</th>\n",
       "      <th>testing_f1</th>\n",
       "      <th>training_accuracy</th>\n",
       "      <th>validation_accuracy</th>\n",
       "      <th>testing_accuracy</th>\n",
       "      <th>training_precision</th>\n",
       "      <th>validation_precision</th>\n",
       "      <th>testing_precision</th>\n",
       "      <th>training_recall</th>\n",
       "      <th>validation_recall</th>\n",
       "      <th>testing_recall</th>\n",
       "    </tr>\n",
       "    <tr>\n",
       "      <th>exp_id</th>\n",
       "      <th></th>\n",
       "      <th></th>\n",
       "      <th></th>\n",
       "      <th></th>\n",
       "      <th></th>\n",
       "      <th></th>\n",
       "      <th></th>\n",
       "      <th></th>\n",
       "      <th></th>\n",
       "      <th></th>\n",
       "      <th></th>\n",
       "      <th></th>\n",
       "      <th></th>\n",
       "      <th></th>\n",
       "      <th></th>\n",
       "      <th></th>\n",
       "      <th></th>\n",
       "      <th></th>\n",
       "      <th></th>\n",
       "      <th></th>\n",
       "      <th></th>\n",
       "    </tr>\n",
       "  </thead>\n",
       "  <tbody>\n",
       "    <tr>\n",
       "      <th>exp_692_clustering_std_classw_1</th>\n",
       "      <td>exp_692_clustering_std_classw_1_230320</td>\n",
       "      <td>./experiments/exp_692_clustering_std_classw_1_...</td>\n",
       "      <td>20/Mar/2023_10:37:51</td>\n",
       "      <td>20/Mar/2023_10:46:36</td>\n",
       "      <td>['/home/ccrocion/snellius_data_sample/data/pMH...</td>\n",
       "      <td>I</td>\n",
       "      <td>BA</td>\n",
       "      <td>residue</td>\n",
       "      <td>classif</td>\n",
       "      <td>all</td>\n",
       "      <td>...</td>\n",
       "      <td>0.636</td>\n",
       "      <td>0.456</td>\n",
       "      <td>0.473</td>\n",
       "      <td>0.520</td>\n",
       "      <td>0.439</td>\n",
       "      <td>0.462</td>\n",
       "      <td>0.488</td>\n",
       "      <td>0.661</td>\n",
       "      <td>0.915</td>\n",
       "      <td>0.913</td>\n",
       "    </tr>\n",
       "    <tr>\n",
       "      <th>exp_100k_pssm_pot_rm_std_classw_gpu_nw16_0</th>\n",
       "      <td>exp_100k_pssm_pot_rm_std_classw_gpu_nw16_0_230317</td>\n",
       "      <td>./experiments/exp_100k_pssm_pot_rm_std_classw_...</td>\n",
       "      <td>17/Mar/2023_14:32:10</td>\n",
       "      <td>17/Mar/2023_20:04:29</td>\n",
       "      <td>['/projects/0/einf2380/data/pMHCI/features_out...</td>\n",
       "      <td>I</td>\n",
       "      <td>BA</td>\n",
       "      <td>residue</td>\n",
       "      <td>classif</td>\n",
       "      <td>all</td>\n",
       "      <td>...</td>\n",
       "      <td>0.746</td>\n",
       "      <td>0.771</td>\n",
       "      <td>0.766</td>\n",
       "      <td>0.771</td>\n",
       "      <td>0.770</td>\n",
       "      <td>0.756</td>\n",
       "      <td>0.729</td>\n",
       "      <td>0.683</td>\n",
       "      <td>0.692</td>\n",
       "      <td>0.764</td>\n",
       "    </tr>\n",
       "    <tr>\n",
       "      <th>exp_692_pssm_pot_rm_std_classw_2</th>\n",
       "      <td>exp_692_pssm_pot_rm_std_classw_2_230317</td>\n",
       "      <td>./experiments/exp_692_pssm_pot_rm_std_classw_2...</td>\n",
       "      <td>17/Mar/2023_13:57:03</td>\n",
       "      <td>17/Mar/2023_14:05:22</td>\n",
       "      <td>['/home/ccrocion/snellius_data_sample/data/pMH...</td>\n",
       "      <td>I</td>\n",
       "      <td>BA</td>\n",
       "      <td>residue</td>\n",
       "      <td>classif</td>\n",
       "      <td>all</td>\n",
       "      <td>...</td>\n",
       "      <td>0.167</td>\n",
       "      <td>0.493</td>\n",
       "      <td>0.456</td>\n",
       "      <td>0.571</td>\n",
       "      <td>0.453</td>\n",
       "      <td>0.456</td>\n",
       "      <td>0.750</td>\n",
       "      <td>0.485</td>\n",
       "      <td>1.000</td>\n",
       "      <td>0.094</td>\n",
       "    </tr>\n",
       "    <tr>\n",
       "      <th>exp_100k_std_classw_gpu_nw16_0</th>\n",
       "      <td>exp_100k_std_classw_gpu_nw16_0_230222</td>\n",
       "      <td>./experiments/exp_100k_std_classw_gpu_nw16_0_2...</td>\n",
       "      <td>22/Feb/2023_23:59:30</td>\n",
       "      <td>23/Feb/2023_02:44:01</td>\n",
       "      <td>['/projects/0/einf2380/data/pMHCI/features_out...</td>\n",
       "      <td>I</td>\n",
       "      <td>BA</td>\n",
       "      <td>residue</td>\n",
       "      <td>classif</td>\n",
       "      <td>all</td>\n",
       "      <td>...</td>\n",
       "      <td>0.768</td>\n",
       "      <td>0.791</td>\n",
       "      <td>0.784</td>\n",
       "      <td>0.786</td>\n",
       "      <td>0.727</td>\n",
       "      <td>0.732</td>\n",
       "      <td>0.736</td>\n",
       "      <td>0.841</td>\n",
       "      <td>0.803</td>\n",
       "      <td>0.802</td>\n",
       "    </tr>\n",
       "    <tr>\n",
       "      <th>exp_100k_std_bs_64_gpu_nw16_0</th>\n",
       "      <td>exp_100k_std_bs_64_gpu_nw16_0_230222</td>\n",
       "      <td>./experiments/exp_100k_std_bs_64_gpu_nw16_0_23...</td>\n",
       "      <td>22/Feb/2023_18:47:12</td>\n",
       "      <td>22/Feb/2023_21:47:45</td>\n",
       "      <td>['/projects/0/einf2380/data/pMHCI/features_out...</td>\n",
       "      <td>I</td>\n",
       "      <td>BA</td>\n",
       "      <td>residue</td>\n",
       "      <td>classif</td>\n",
       "      <td>all</td>\n",
       "      <td>...</td>\n",
       "      <td>0.779</td>\n",
       "      <td>0.812</td>\n",
       "      <td>0.792</td>\n",
       "      <td>0.792</td>\n",
       "      <td>0.768</td>\n",
       "      <td>0.741</td>\n",
       "      <td>0.734</td>\n",
       "      <td>0.819</td>\n",
       "      <td>0.810</td>\n",
       "      <td>0.829</td>\n",
       "    </tr>\n",
       "    <tr>\n",
       "      <th>exp_100k_std_gpu_nw16_1</th>\n",
       "      <td>exp_100k_std_gpu_nw16_1_230222</td>\n",
       "      <td>./experiments/exp_100k_std_gpu_nw16_1_230222</td>\n",
       "      <td>22/Feb/2023_15:30:23</td>\n",
       "      <td>22/Feb/2023_18:13:07</td>\n",
       "      <td>['/projects/0/einf2380/data/pMHCI/features_out...</td>\n",
       "      <td>I</td>\n",
       "      <td>BA</td>\n",
       "      <td>residue</td>\n",
       "      <td>classif</td>\n",
       "      <td>all</td>\n",
       "      <td>...</td>\n",
       "      <td>0.771</td>\n",
       "      <td>0.799</td>\n",
       "      <td>0.789</td>\n",
       "      <td>0.789</td>\n",
       "      <td>0.751</td>\n",
       "      <td>0.736</td>\n",
       "      <td>0.739</td>\n",
       "      <td>0.814</td>\n",
       "      <td>0.812</td>\n",
       "      <td>0.806</td>\n",
       "    </tr>\n",
       "    <tr>\n",
       "      <th>exp_100k_std_es_classw_gpu_nw16_2</th>\n",
       "      <td>exp_100k_std_es_classw_gpu_nw16_2_230213</td>\n",
       "      <td>./experiments/exp_100k_std_es_classw_gpu_nw16_...</td>\n",
       "      <td>13/Feb/2023_21:01:32</td>\n",
       "      <td>13/Feb/2023_23:07:20</td>\n",
       "      <td>['/projects/0/einf2380/data/pMHCI/features_out...</td>\n",
       "      <td>I</td>\n",
       "      <td>BA</td>\n",
       "      <td>residue</td>\n",
       "      <td>classif</td>\n",
       "      <td>all</td>\n",
       "      <td>...</td>\n",
       "      <td>0.733</td>\n",
       "      <td>0.754</td>\n",
       "      <td>0.757</td>\n",
       "      <td>0.757</td>\n",
       "      <td>0.792</td>\n",
       "      <td>0.791</td>\n",
       "      <td>0.710</td>\n",
       "      <td>0.600</td>\n",
       "      <td>0.610</td>\n",
       "      <td>0.756</td>\n",
       "    </tr>\n",
       "    <tr>\n",
       "      <th>exp_100k_std_es_classw_gpu_nw16_1</th>\n",
       "      <td>exp_100k_std_es_classw_gpu_nw16_1_230213</td>\n",
       "      <td>./experiments/exp_100k_std_es_classw_gpu_nw16_...</td>\n",
       "      <td>13/Feb/2023_20:34:31</td>\n",
       "      <td>13/Feb/2023_22:26:20</td>\n",
       "      <td>['/projects/0/einf2380/data/pMHCI/features_out...</td>\n",
       "      <td>I</td>\n",
       "      <td>BA</td>\n",
       "      <td>residue</td>\n",
       "      <td>classif</td>\n",
       "      <td>all</td>\n",
       "      <td>...</td>\n",
       "      <td>0.699</td>\n",
       "      <td>0.694</td>\n",
       "      <td>0.711</td>\n",
       "      <td>0.713</td>\n",
       "      <td>0.727</td>\n",
       "      <td>0.719</td>\n",
       "      <td>0.650</td>\n",
       "      <td>0.488</td>\n",
       "      <td>0.562</td>\n",
       "      <td>0.757</td>\n",
       "    </tr>\n",
       "    <tr>\n",
       "      <th>exp_100k_std_es_classw_gpu_nw16_0</th>\n",
       "      <td>exp_100k_std_es_classw_gpu_nw16_0_230210</td>\n",
       "      <td>./experiments/exp_100k_std_es_classw_gpu_nw16_...</td>\n",
       "      <td>10/Feb/2023_18:08:31</td>\n",
       "      <td>11/Feb/2023_00:10:39</td>\n",
       "      <td>['/projects/0/einf2380/data/pMHCI/features_out...</td>\n",
       "      <td>I</td>\n",
       "      <td>BA</td>\n",
       "      <td>residue</td>\n",
       "      <td>classif</td>\n",
       "      <td>all</td>\n",
       "      <td>...</td>\n",
       "      <td>0.776</td>\n",
       "      <td>0.814</td>\n",
       "      <td>0.787</td>\n",
       "      <td>0.791</td>\n",
       "      <td>0.758</td>\n",
       "      <td>0.721</td>\n",
       "      <td>0.735</td>\n",
       "      <td>0.849</td>\n",
       "      <td>0.841</td>\n",
       "      <td>0.823</td>\n",
       "    </tr>\n",
       "    <tr>\n",
       "      <th>exp_692_std_es_classw_gpu_nw16_1</th>\n",
       "      <td>exp_692_std_es_classw_gpu_nw16_1_230210</td>\n",
       "      <td>./experiments/exp_692_std_es_classw_gpu_nw16_1...</td>\n",
       "      <td>10/Feb/2023_18:00:35</td>\n",
       "      <td>10/Feb/2023_18:01:24</td>\n",
       "      <td>['/home/ccrocion/snellius_data_sample/data/pMH...</td>\n",
       "      <td>I</td>\n",
       "      <td>BA</td>\n",
       "      <td>residue</td>\n",
       "      <td>classif</td>\n",
       "      <td>all</td>\n",
       "      <td>...</td>\n",
       "      <td>0.400</td>\n",
       "      <td>0.551</td>\n",
       "      <td>0.640</td>\n",
       "      <td>0.614</td>\n",
       "      <td>0.508</td>\n",
       "      <td>0.594</td>\n",
       "      <td>0.692</td>\n",
       "      <td>0.795</td>\n",
       "      <td>0.667</td>\n",
       "      <td>0.281</td>\n",
       "    </tr>\n",
       "    <tr>\n",
       "      <th>exp_100k_std_es_gpu_nw16_0</th>\n",
       "      <td>exp_100k_std_es_gpu_nw16_0_230210</td>\n",
       "      <td>./experiments/exp_100k_std_es_gpu_nw16_0_230210</td>\n",
       "      <td>10/Feb/2023_12:58:10</td>\n",
       "      <td>10/Feb/2023_16:40:45</td>\n",
       "      <td>['/projects/0/einf2380/data/pMHCI/features_out...</td>\n",
       "      <td>I</td>\n",
       "      <td>BA</td>\n",
       "      <td>residue</td>\n",
       "      <td>classif</td>\n",
       "      <td>all</td>\n",
       "      <td>...</td>\n",
       "      <td>0.777</td>\n",
       "      <td>0.807</td>\n",
       "      <td>0.781</td>\n",
       "      <td>0.797</td>\n",
       "      <td>0.752</td>\n",
       "      <td>0.713</td>\n",
       "      <td>0.754</td>\n",
       "      <td>0.838</td>\n",
       "      <td>0.841</td>\n",
       "      <td>0.801</td>\n",
       "    </tr>\n",
       "    <tr>\n",
       "      <th>exp_692_std_es_gpu_nw16_1</th>\n",
       "      <td>exp_692_std_es_gpu_nw16_1_230210</td>\n",
       "      <td>./experiments/exp_692_std_es_gpu_nw16_1_230210</td>\n",
       "      <td>10/Feb/2023_12:16:29</td>\n",
       "      <td>10/Feb/2023_12:17:20</td>\n",
       "      <td>['/home/ccrocion/snellius_data_sample/data/pMH...</td>\n",
       "      <td>I</td>\n",
       "      <td>BA</td>\n",
       "      <td>residue</td>\n",
       "      <td>classif</td>\n",
       "      <td>all</td>\n",
       "      <td>...</td>\n",
       "      <td>0.458</td>\n",
       "      <td>0.539</td>\n",
       "      <td>0.544</td>\n",
       "      <td>0.629</td>\n",
       "      <td>0.000</td>\n",
       "      <td>0.000</td>\n",
       "      <td>0.688</td>\n",
       "      <td>0.000</td>\n",
       "      <td>0.000</td>\n",
       "      <td>0.344</td>\n",
       "    </tr>\n",
       "    <tr>\n",
       "      <th>exp_692_std_es_gpu_nw16_0</th>\n",
       "      <td>exp_692_std_es_gpu_nw16_0_230210</td>\n",
       "      <td>./experiments/exp_692_std_es_gpu_nw16_0_230210</td>\n",
       "      <td>10/Feb/2023_10:57:18</td>\n",
       "      <td>10/Feb/2023_10:57:56</td>\n",
       "      <td>['/home/ccrocion/snellius_data_sample/data/pMH...</td>\n",
       "      <td>I</td>\n",
       "      <td>BA</td>\n",
       "      <td>residue</td>\n",
       "      <td>classif</td>\n",
       "      <td>all</td>\n",
       "      <td>...</td>\n",
       "      <td>0.293</td>\n",
       "      <td>0.547</td>\n",
       "      <td>0.488</td>\n",
       "      <td>0.586</td>\n",
       "      <td>0.505</td>\n",
       "      <td>0.471</td>\n",
       "      <td>0.667</td>\n",
       "      <td>0.865</td>\n",
       "      <td>0.982</td>\n",
       "      <td>0.188</td>\n",
       "    </tr>\n",
       "    <tr>\n",
       "      <th>exp_100k_std_gpu_nw16_0</th>\n",
       "      <td>exp_100k_std_gpu_nw16_0_230209</td>\n",
       "      <td>./experiments/exp_100k_std_gpu_nw16_0_230209</td>\n",
       "      <td>09/Feb/2023_17:14:49</td>\n",
       "      <td>09/Feb/2023_20:57:40</td>\n",
       "      <td>['/projects/0/einf2380/data/pMHCI/features_out...</td>\n",
       "      <td>I</td>\n",
       "      <td>BA</td>\n",
       "      <td>residue</td>\n",
       "      <td>classif</td>\n",
       "      <td>all</td>\n",
       "      <td>...</td>\n",
       "      <td>0.764</td>\n",
       "      <td>0.800</td>\n",
       "      <td>0.783</td>\n",
       "      <td>0.782</td>\n",
       "      <td>0.775</td>\n",
       "      <td>0.740</td>\n",
       "      <td>0.730</td>\n",
       "      <td>0.769</td>\n",
       "      <td>0.780</td>\n",
       "      <td>0.802</td>\n",
       "    </tr>\n",
       "    <tr>\n",
       "      <th>exp_692_std_gpu_nw16_0</th>\n",
       "      <td>exp_692_std_gpu_nw16_0_230209</td>\n",
       "      <td>./experiments/exp_692_std_gpu_nw16_0_230209</td>\n",
       "      <td>09/Feb/2023_17:11:11</td>\n",
       "      <td>09/Feb/2023_17:12:08</td>\n",
       "      <td>['/home/ccrocion/snellius_data_sample/data/pMH...</td>\n",
       "      <td>I</td>\n",
       "      <td>BA</td>\n",
       "      <td>residue</td>\n",
       "      <td>classif</td>\n",
       "      <td>all</td>\n",
       "      <td>...</td>\n",
       "      <td>0.333</td>\n",
       "      <td>0.654</td>\n",
       "      <td>0.624</td>\n",
       "      <td>0.600</td>\n",
       "      <td>0.640</td>\n",
       "      <td>0.583</td>\n",
       "      <td>0.700</td>\n",
       "      <td>0.568</td>\n",
       "      <td>0.614</td>\n",
       "      <td>0.219</td>\n",
       "    </tr>\n",
       "    <tr>\n",
       "      <th>exp_100k_gpu_nw16_0</th>\n",
       "      <td>exp_100k_gpu_nw16_0_230203</td>\n",
       "      <td>./experiments/exp_100k_gpu_nw16_0_230203</td>\n",
       "      <td>03/Feb/2023_13:39:43</td>\n",
       "      <td>03/Feb/2023_16:46:28</td>\n",
       "      <td>['/projects/0/einf2380/data/pMHCI/features_out...</td>\n",
       "      <td>I</td>\n",
       "      <td>BA</td>\n",
       "      <td>residue</td>\n",
       "      <td>classif</td>\n",
       "      <td>all</td>\n",
       "      <td>...</td>\n",
       "      <td>0.741</td>\n",
       "      <td>0.756</td>\n",
       "      <td>0.752</td>\n",
       "      <td>0.751</td>\n",
       "      <td>0.724</td>\n",
       "      <td>0.712</td>\n",
       "      <td>0.684</td>\n",
       "      <td>0.721</td>\n",
       "      <td>0.732</td>\n",
       "      <td>0.808</td>\n",
       "    </tr>\n",
       "    <tr>\n",
       "      <th>exp_692_gpu_nw16_0</th>\n",
       "      <td>exp_692_gpu_nw16_0_230202</td>\n",
       "      <td>./experiments/exp_692_gpu_nw16_0_230202</td>\n",
       "      <td>02/Feb/2023_10:08:21</td>\n",
       "      <td>02/Feb/2023_10:08:44</td>\n",
       "      <td>['/home/ccrocion/snellius_data_sample/data/pMH...</td>\n",
       "      <td>I</td>\n",
       "      <td>BA</td>\n",
       "      <td>residue</td>\n",
       "      <td>classif</td>\n",
       "      <td>all</td>\n",
       "      <td>...</td>\n",
       "      <td>0.119</td>\n",
       "      <td>0.511</td>\n",
       "      <td>0.558</td>\n",
       "      <td>0.572</td>\n",
       "      <td>0.470</td>\n",
       "      <td>1.000</td>\n",
       "      <td>1.000</td>\n",
       "      <td>0.487</td>\n",
       "      <td>0.042</td>\n",
       "      <td>0.063</td>\n",
       "    </tr>\n",
       "    <tr>\n",
       "      <th>exp_140k_2days_2</th>\n",
       "      <td>exp_140k_2days_2_230106</td>\n",
       "      <td>./experiments/exp_140k_2days_2_230106</td>\n",
       "      <td>06/Jan/2023_20:09:58</td>\n",
       "      <td>08/Jan/2023_17:15:21</td>\n",
       "      <td>['/projects/0/einf2380//data/pMHCI/features_ou...</td>\n",
       "      <td>I</td>\n",
       "      <td>BA</td>\n",
       "      <td>residue</td>\n",
       "      <td>classif</td>\n",
       "      <td>all</td>\n",
       "      <td>...</td>\n",
       "      <td>0.544</td>\n",
       "      <td>0.599</td>\n",
       "      <td>0.630</td>\n",
       "      <td>0.715</td>\n",
       "      <td>0.413</td>\n",
       "      <td>0.437</td>\n",
       "      <td>0.533</td>\n",
       "      <td>0.736</td>\n",
       "      <td>0.723</td>\n",
       "      <td>0.555</td>\n",
       "    </tr>\n",
       "    <tr>\n",
       "      <th>exp_140k_2days_0_221231</th>\n",
       "      <td>exp_140k_2days_0_221231</td>\n",
       "      <td>./experiments/exp_140k_2days_0_221231</td>\n",
       "      <td>31/12/2022_13:21:49</td>\n",
       "      <td>02/01/2023_06:35:14</td>\n",
       "      <td>['/projects/0/einf2380//data/pMHCI/features_ou...</td>\n",
       "      <td>I</td>\n",
       "      <td>BA</td>\n",
       "      <td>residue</td>\n",
       "      <td>classif</td>\n",
       "      <td>all</td>\n",
       "      <td>...</td>\n",
       "      <td>0.648</td>\n",
       "      <td>0.692</td>\n",
       "      <td>0.705</td>\n",
       "      <td>0.769</td>\n",
       "      <td>0.498</td>\n",
       "      <td>0.510</td>\n",
       "      <td>0.606</td>\n",
       "      <td>0.863</td>\n",
       "      <td>0.883</td>\n",
       "      <td>0.696</td>\n",
       "    </tr>\n",
       "    <tr>\n",
       "      <th>exp_100_gpu_0</th>\n",
       "      <td>exp_100_gpu_0_221230</td>\n",
       "      <td>./experiments/exp_100_gpu_0_221230</td>\n",
       "      <td>30/Dec/2022_20:20:13</td>\n",
       "      <td>30/Dec/2022_20:20:25</td>\n",
       "      <td>/home/ccrocion/snellius_data_sample/data/pMHCI...</td>\n",
       "      <td>I</td>\n",
       "      <td>BA</td>\n",
       "      <td>residue</td>\n",
       "      <td>classif</td>\n",
       "      <td>all</td>\n",
       "      <td>...</td>\n",
       "      <td>0.182</td>\n",
       "      <td>0.407</td>\n",
       "      <td>0.400</td>\n",
       "      <td>0.640</td>\n",
       "      <td>0.382</td>\n",
       "      <td>0.400</td>\n",
       "      <td>1.000</td>\n",
       "      <td>0.955</td>\n",
       "      <td>1.000</td>\n",
       "      <td>0.100</td>\n",
       "    </tr>\n",
       "    <tr>\n",
       "      <th>exp_100_sample0</th>\n",
       "      <td>exp_100_sample0_221230</td>\n",
       "      <td>./experiments/exp_100_sample0_221230</td>\n",
       "      <td>30/Dec/2022_12:41:13</td>\n",
       "      <td>30/Dec/2022_12:41:26</td>\n",
       "      <td>/home/ccrocion/snellius_data_sample/data/pMHCI...</td>\n",
       "      <td>I</td>\n",
       "      <td>BA</td>\n",
       "      <td>residue</td>\n",
       "      <td>classif</td>\n",
       "      <td>all</td>\n",
       "      <td>...</td>\n",
       "      <td>0.182</td>\n",
       "      <td>0.407</td>\n",
       "      <td>0.400</td>\n",
       "      <td>0.640</td>\n",
       "      <td>0.382</td>\n",
       "      <td>0.400</td>\n",
       "      <td>1.000</td>\n",
       "      <td>0.955</td>\n",
       "      <td>1.000</td>\n",
       "      <td>0.100</td>\n",
       "    </tr>\n",
       "  </tbody>\n",
       "</table>\n",
       "<p>21 rows × 49 columns</p>\n",
       "</div>"
      ],
      "text/plain": [
       "                                                                                 exp_fullname  \\\n",
       "exp_id                                                                                          \n",
       "exp_692_clustering_std_classw_1                        exp_692_clustering_std_classw_1_230320   \n",
       "exp_100k_pssm_pot_rm_std_classw_gpu_nw16_0  exp_100k_pssm_pot_rm_std_classw_gpu_nw16_0_230317   \n",
       "exp_692_pssm_pot_rm_std_classw_2                      exp_692_pssm_pot_rm_std_classw_2_230317   \n",
       "exp_100k_std_classw_gpu_nw16_0                          exp_100k_std_classw_gpu_nw16_0_230222   \n",
       "exp_100k_std_bs_64_gpu_nw16_0                            exp_100k_std_bs_64_gpu_nw16_0_230222   \n",
       "exp_100k_std_gpu_nw16_1                                        exp_100k_std_gpu_nw16_1_230222   \n",
       "exp_100k_std_es_classw_gpu_nw16_2                    exp_100k_std_es_classw_gpu_nw16_2_230213   \n",
       "exp_100k_std_es_classw_gpu_nw16_1                    exp_100k_std_es_classw_gpu_nw16_1_230213   \n",
       "exp_100k_std_es_classw_gpu_nw16_0                    exp_100k_std_es_classw_gpu_nw16_0_230210   \n",
       "exp_692_std_es_classw_gpu_nw16_1                      exp_692_std_es_classw_gpu_nw16_1_230210   \n",
       "exp_100k_std_es_gpu_nw16_0                                  exp_100k_std_es_gpu_nw16_0_230210   \n",
       "exp_692_std_es_gpu_nw16_1                                    exp_692_std_es_gpu_nw16_1_230210   \n",
       "exp_692_std_es_gpu_nw16_0                                    exp_692_std_es_gpu_nw16_0_230210   \n",
       "exp_100k_std_gpu_nw16_0                                        exp_100k_std_gpu_nw16_0_230209   \n",
       "exp_692_std_gpu_nw16_0                                          exp_692_std_gpu_nw16_0_230209   \n",
       "exp_100k_gpu_nw16_0                                                exp_100k_gpu_nw16_0_230203   \n",
       "exp_692_gpu_nw16_0                                                  exp_692_gpu_nw16_0_230202   \n",
       "exp_140k_2days_2                                                      exp_140k_2days_2_230106   \n",
       "exp_140k_2days_0_221231                                               exp_140k_2days_0_221231   \n",
       "exp_100_gpu_0                                                            exp_100_gpu_0_221230   \n",
       "exp_100_sample0                                                        exp_100_sample0_221230   \n",
       "\n",
       "                                                                                     exp_path  \\\n",
       "exp_id                                                                                          \n",
       "exp_692_clustering_std_classw_1             ./experiments/exp_692_clustering_std_classw_1_...   \n",
       "exp_100k_pssm_pot_rm_std_classw_gpu_nw16_0  ./experiments/exp_100k_pssm_pot_rm_std_classw_...   \n",
       "exp_692_pssm_pot_rm_std_classw_2            ./experiments/exp_692_pssm_pot_rm_std_classw_2...   \n",
       "exp_100k_std_classw_gpu_nw16_0              ./experiments/exp_100k_std_classw_gpu_nw16_0_2...   \n",
       "exp_100k_std_bs_64_gpu_nw16_0               ./experiments/exp_100k_std_bs_64_gpu_nw16_0_23...   \n",
       "exp_100k_std_gpu_nw16_1                          ./experiments/exp_100k_std_gpu_nw16_1_230222   \n",
       "exp_100k_std_es_classw_gpu_nw16_2           ./experiments/exp_100k_std_es_classw_gpu_nw16_...   \n",
       "exp_100k_std_es_classw_gpu_nw16_1           ./experiments/exp_100k_std_es_classw_gpu_nw16_...   \n",
       "exp_100k_std_es_classw_gpu_nw16_0           ./experiments/exp_100k_std_es_classw_gpu_nw16_...   \n",
       "exp_692_std_es_classw_gpu_nw16_1            ./experiments/exp_692_std_es_classw_gpu_nw16_1...   \n",
       "exp_100k_std_es_gpu_nw16_0                    ./experiments/exp_100k_std_es_gpu_nw16_0_230210   \n",
       "exp_692_std_es_gpu_nw16_1                      ./experiments/exp_692_std_es_gpu_nw16_1_230210   \n",
       "exp_692_std_es_gpu_nw16_0                      ./experiments/exp_692_std_es_gpu_nw16_0_230210   \n",
       "exp_100k_std_gpu_nw16_0                          ./experiments/exp_100k_std_gpu_nw16_0_230209   \n",
       "exp_692_std_gpu_nw16_0                            ./experiments/exp_692_std_gpu_nw16_0_230209   \n",
       "exp_100k_gpu_nw16_0                                  ./experiments/exp_100k_gpu_nw16_0_230203   \n",
       "exp_692_gpu_nw16_0                                    ./experiments/exp_692_gpu_nw16_0_230202   \n",
       "exp_140k_2days_2                                        ./experiments/exp_140k_2days_2_230106   \n",
       "exp_140k_2days_0_221231                                 ./experiments/exp_140k_2days_0_221231   \n",
       "exp_100_gpu_0                                              ./experiments/exp_100_gpu_0_221230   \n",
       "exp_100_sample0                                          ./experiments/exp_100_sample0_221230   \n",
       "\n",
       "                                                      start_time  \\\n",
       "exp_id                                                             \n",
       "exp_692_clustering_std_classw_1             20/Mar/2023_10:37:51   \n",
       "exp_100k_pssm_pot_rm_std_classw_gpu_nw16_0  17/Mar/2023_14:32:10   \n",
       "exp_692_pssm_pot_rm_std_classw_2            17/Mar/2023_13:57:03   \n",
       "exp_100k_std_classw_gpu_nw16_0              22/Feb/2023_23:59:30   \n",
       "exp_100k_std_bs_64_gpu_nw16_0               22/Feb/2023_18:47:12   \n",
       "exp_100k_std_gpu_nw16_1                     22/Feb/2023_15:30:23   \n",
       "exp_100k_std_es_classw_gpu_nw16_2           13/Feb/2023_21:01:32   \n",
       "exp_100k_std_es_classw_gpu_nw16_1           13/Feb/2023_20:34:31   \n",
       "exp_100k_std_es_classw_gpu_nw16_0           10/Feb/2023_18:08:31   \n",
       "exp_692_std_es_classw_gpu_nw16_1            10/Feb/2023_18:00:35   \n",
       "exp_100k_std_es_gpu_nw16_0                  10/Feb/2023_12:58:10   \n",
       "exp_692_std_es_gpu_nw16_1                   10/Feb/2023_12:16:29   \n",
       "exp_692_std_es_gpu_nw16_0                   10/Feb/2023_10:57:18   \n",
       "exp_100k_std_gpu_nw16_0                     09/Feb/2023_17:14:49   \n",
       "exp_692_std_gpu_nw16_0                      09/Feb/2023_17:11:11   \n",
       "exp_100k_gpu_nw16_0                         03/Feb/2023_13:39:43   \n",
       "exp_692_gpu_nw16_0                          02/Feb/2023_10:08:21   \n",
       "exp_140k_2days_2                            06/Jan/2023_20:09:58   \n",
       "exp_140k_2days_0_221231                      31/12/2022_13:21:49   \n",
       "exp_100_gpu_0                               30/Dec/2022_20:20:13   \n",
       "exp_100_sample0                             30/Dec/2022_12:41:13   \n",
       "\n",
       "                                                        end_time  \\\n",
       "exp_id                                                             \n",
       "exp_692_clustering_std_classw_1             20/Mar/2023_10:46:36   \n",
       "exp_100k_pssm_pot_rm_std_classw_gpu_nw16_0  17/Mar/2023_20:04:29   \n",
       "exp_692_pssm_pot_rm_std_classw_2            17/Mar/2023_14:05:22   \n",
       "exp_100k_std_classw_gpu_nw16_0              23/Feb/2023_02:44:01   \n",
       "exp_100k_std_bs_64_gpu_nw16_0               22/Feb/2023_21:47:45   \n",
       "exp_100k_std_gpu_nw16_1                     22/Feb/2023_18:13:07   \n",
       "exp_100k_std_es_classw_gpu_nw16_2           13/Feb/2023_23:07:20   \n",
       "exp_100k_std_es_classw_gpu_nw16_1           13/Feb/2023_22:26:20   \n",
       "exp_100k_std_es_classw_gpu_nw16_0           11/Feb/2023_00:10:39   \n",
       "exp_692_std_es_classw_gpu_nw16_1            10/Feb/2023_18:01:24   \n",
       "exp_100k_std_es_gpu_nw16_0                  10/Feb/2023_16:40:45   \n",
       "exp_692_std_es_gpu_nw16_1                   10/Feb/2023_12:17:20   \n",
       "exp_692_std_es_gpu_nw16_0                   10/Feb/2023_10:57:56   \n",
       "exp_100k_std_gpu_nw16_0                     09/Feb/2023_20:57:40   \n",
       "exp_692_std_gpu_nw16_0                      09/Feb/2023_17:12:08   \n",
       "exp_100k_gpu_nw16_0                         03/Feb/2023_16:46:28   \n",
       "exp_692_gpu_nw16_0                          02/Feb/2023_10:08:44   \n",
       "exp_140k_2days_2                            08/Jan/2023_17:15:21   \n",
       "exp_140k_2days_0_221231                      02/01/2023_06:35:14   \n",
       "exp_100_gpu_0                               30/Dec/2022_20:20:25   \n",
       "exp_100_sample0                             30/Dec/2022_12:41:26   \n",
       "\n",
       "                                                                              input_data_path  \\\n",
       "exp_id                                                                                          \n",
       "exp_692_clustering_std_classw_1             ['/home/ccrocion/snellius_data_sample/data/pMH...   \n",
       "exp_100k_pssm_pot_rm_std_classw_gpu_nw16_0  ['/projects/0/einf2380/data/pMHCI/features_out...   \n",
       "exp_692_pssm_pot_rm_std_classw_2            ['/home/ccrocion/snellius_data_sample/data/pMH...   \n",
       "exp_100k_std_classw_gpu_nw16_0              ['/projects/0/einf2380/data/pMHCI/features_out...   \n",
       "exp_100k_std_bs_64_gpu_nw16_0               ['/projects/0/einf2380/data/pMHCI/features_out...   \n",
       "exp_100k_std_gpu_nw16_1                     ['/projects/0/einf2380/data/pMHCI/features_out...   \n",
       "exp_100k_std_es_classw_gpu_nw16_2           ['/projects/0/einf2380/data/pMHCI/features_out...   \n",
       "exp_100k_std_es_classw_gpu_nw16_1           ['/projects/0/einf2380/data/pMHCI/features_out...   \n",
       "exp_100k_std_es_classw_gpu_nw16_0           ['/projects/0/einf2380/data/pMHCI/features_out...   \n",
       "exp_692_std_es_classw_gpu_nw16_1            ['/home/ccrocion/snellius_data_sample/data/pMH...   \n",
       "exp_100k_std_es_gpu_nw16_0                  ['/projects/0/einf2380/data/pMHCI/features_out...   \n",
       "exp_692_std_es_gpu_nw16_1                   ['/home/ccrocion/snellius_data_sample/data/pMH...   \n",
       "exp_692_std_es_gpu_nw16_0                   ['/home/ccrocion/snellius_data_sample/data/pMH...   \n",
       "exp_100k_std_gpu_nw16_0                     ['/projects/0/einf2380/data/pMHCI/features_out...   \n",
       "exp_692_std_gpu_nw16_0                      ['/home/ccrocion/snellius_data_sample/data/pMH...   \n",
       "exp_100k_gpu_nw16_0                         ['/projects/0/einf2380/data/pMHCI/features_out...   \n",
       "exp_692_gpu_nw16_0                          ['/home/ccrocion/snellius_data_sample/data/pMH...   \n",
       "exp_140k_2days_2                            ['/projects/0/einf2380//data/pMHCI/features_ou...   \n",
       "exp_140k_2days_0_221231                     ['/projects/0/einf2380//data/pMHCI/features_ou...   \n",
       "exp_100_gpu_0                               /home/ccrocion/snellius_data_sample/data/pMHCI...   \n",
       "exp_100_sample0                             /home/ccrocion/snellius_data_sample/data/pMHCI...   \n",
       "\n",
       "                                           protein_class target_data  \\\n",
       "exp_id                                                                 \n",
       "exp_692_clustering_std_classw_1                        I          BA   \n",
       "exp_100k_pssm_pot_rm_std_classw_gpu_nw16_0             I          BA   \n",
       "exp_692_pssm_pot_rm_std_classw_2                       I          BA   \n",
       "exp_100k_std_classw_gpu_nw16_0                         I          BA   \n",
       "exp_100k_std_bs_64_gpu_nw16_0                          I          BA   \n",
       "exp_100k_std_gpu_nw16_1                                I          BA   \n",
       "exp_100k_std_es_classw_gpu_nw16_2                      I          BA   \n",
       "exp_100k_std_es_classw_gpu_nw16_1                      I          BA   \n",
       "exp_100k_std_es_classw_gpu_nw16_0                      I          BA   \n",
       "exp_692_std_es_classw_gpu_nw16_1                       I          BA   \n",
       "exp_100k_std_es_gpu_nw16_0                             I          BA   \n",
       "exp_692_std_es_gpu_nw16_1                              I          BA   \n",
       "exp_692_std_es_gpu_nw16_0                              I          BA   \n",
       "exp_100k_std_gpu_nw16_0                                I          BA   \n",
       "exp_692_std_gpu_nw16_0                                 I          BA   \n",
       "exp_100k_gpu_nw16_0                                    I          BA   \n",
       "exp_692_gpu_nw16_0                                     I          BA   \n",
       "exp_140k_2days_2                                       I          BA   \n",
       "exp_140k_2days_0_221231                                I          BA   \n",
       "exp_100_gpu_0                                          I          BA   \n",
       "exp_100_sample0                                        I          BA   \n",
       "\n",
       "                                           resolution     task node_features  \\\n",
       "exp_id                                                                         \n",
       "exp_692_clustering_std_classw_1               residue  classif           all   \n",
       "exp_100k_pssm_pot_rm_std_classw_gpu_nw16_0    residue  classif           all   \n",
       "exp_692_pssm_pot_rm_std_classw_2              residue  classif           all   \n",
       "exp_100k_std_classw_gpu_nw16_0                residue  classif           all   \n",
       "exp_100k_std_bs_64_gpu_nw16_0                 residue  classif           all   \n",
       "exp_100k_std_gpu_nw16_1                       residue  classif           all   \n",
       "exp_100k_std_es_classw_gpu_nw16_2             residue  classif           all   \n",
       "exp_100k_std_es_classw_gpu_nw16_1             residue  classif           all   \n",
       "exp_100k_std_es_classw_gpu_nw16_0             residue  classif           all   \n",
       "exp_692_std_es_classw_gpu_nw16_1              residue  classif           all   \n",
       "exp_100k_std_es_gpu_nw16_0                    residue  classif           all   \n",
       "exp_692_std_es_gpu_nw16_1                     residue  classif           all   \n",
       "exp_692_std_es_gpu_nw16_0                     residue  classif           all   \n",
       "exp_100k_std_gpu_nw16_0                       residue  classif           all   \n",
       "exp_692_std_gpu_nw16_0                        residue  classif           all   \n",
       "exp_100k_gpu_nw16_0                           residue  classif           all   \n",
       "exp_692_gpu_nw16_0                            residue  classif           all   \n",
       "exp_140k_2days_2                              residue  classif           all   \n",
       "exp_140k_2days_0_221231                       residue  classif           all   \n",
       "exp_100_gpu_0                                 residue  classif           all   \n",
       "exp_100_sample0                               residue  classif           all   \n",
       "\n",
       "                                            ... testing_f1 training_accuracy  \\\n",
       "exp_id                                      ...                                \n",
       "exp_692_clustering_std_classw_1             ...      0.636             0.456   \n",
       "exp_100k_pssm_pot_rm_std_classw_gpu_nw16_0  ...      0.746             0.771   \n",
       "exp_692_pssm_pot_rm_std_classw_2            ...      0.167             0.493   \n",
       "exp_100k_std_classw_gpu_nw16_0              ...      0.768             0.791   \n",
       "exp_100k_std_bs_64_gpu_nw16_0               ...      0.779             0.812   \n",
       "exp_100k_std_gpu_nw16_1                     ...      0.771             0.799   \n",
       "exp_100k_std_es_classw_gpu_nw16_2           ...      0.733             0.754   \n",
       "exp_100k_std_es_classw_gpu_nw16_1           ...      0.699             0.694   \n",
       "exp_100k_std_es_classw_gpu_nw16_0           ...      0.776             0.814   \n",
       "exp_692_std_es_classw_gpu_nw16_1            ...      0.400             0.551   \n",
       "exp_100k_std_es_gpu_nw16_0                  ...      0.777             0.807   \n",
       "exp_692_std_es_gpu_nw16_1                   ...      0.458             0.539   \n",
       "exp_692_std_es_gpu_nw16_0                   ...      0.293             0.547   \n",
       "exp_100k_std_gpu_nw16_0                     ...      0.764             0.800   \n",
       "exp_692_std_gpu_nw16_0                      ...      0.333             0.654   \n",
       "exp_100k_gpu_nw16_0                         ...      0.741             0.756   \n",
       "exp_692_gpu_nw16_0                          ...      0.119             0.511   \n",
       "exp_140k_2days_2                            ...      0.544             0.599   \n",
       "exp_140k_2days_0_221231                     ...      0.648             0.692   \n",
       "exp_100_gpu_0                               ...      0.182             0.407   \n",
       "exp_100_sample0                             ...      0.182             0.407   \n",
       "\n",
       "                                           validation_accuracy  \\\n",
       "exp_id                                                           \n",
       "exp_692_clustering_std_classw_1                          0.473   \n",
       "exp_100k_pssm_pot_rm_std_classw_gpu_nw16_0               0.766   \n",
       "exp_692_pssm_pot_rm_std_classw_2                         0.456   \n",
       "exp_100k_std_classw_gpu_nw16_0                           0.784   \n",
       "exp_100k_std_bs_64_gpu_nw16_0                            0.792   \n",
       "exp_100k_std_gpu_nw16_1                                  0.789   \n",
       "exp_100k_std_es_classw_gpu_nw16_2                        0.757   \n",
       "exp_100k_std_es_classw_gpu_nw16_1                        0.711   \n",
       "exp_100k_std_es_classw_gpu_nw16_0                        0.787   \n",
       "exp_692_std_es_classw_gpu_nw16_1                         0.640   \n",
       "exp_100k_std_es_gpu_nw16_0                               0.781   \n",
       "exp_692_std_es_gpu_nw16_1                                0.544   \n",
       "exp_692_std_es_gpu_nw16_0                                0.488   \n",
       "exp_100k_std_gpu_nw16_0                                  0.783   \n",
       "exp_692_std_gpu_nw16_0                                   0.624   \n",
       "exp_100k_gpu_nw16_0                                      0.752   \n",
       "exp_692_gpu_nw16_0                                       0.558   \n",
       "exp_140k_2days_2                                         0.630   \n",
       "exp_140k_2days_0_221231                                  0.705   \n",
       "exp_100_gpu_0                                            0.400   \n",
       "exp_100_sample0                                          0.400   \n",
       "\n",
       "                                            testing_accuracy  \\\n",
       "exp_id                                                         \n",
       "exp_692_clustering_std_classw_1                        0.520   \n",
       "exp_100k_pssm_pot_rm_std_classw_gpu_nw16_0             0.771   \n",
       "exp_692_pssm_pot_rm_std_classw_2                       0.571   \n",
       "exp_100k_std_classw_gpu_nw16_0                         0.786   \n",
       "exp_100k_std_bs_64_gpu_nw16_0                          0.792   \n",
       "exp_100k_std_gpu_nw16_1                                0.789   \n",
       "exp_100k_std_es_classw_gpu_nw16_2                      0.757   \n",
       "exp_100k_std_es_classw_gpu_nw16_1                      0.713   \n",
       "exp_100k_std_es_classw_gpu_nw16_0                      0.791   \n",
       "exp_692_std_es_classw_gpu_nw16_1                       0.614   \n",
       "exp_100k_std_es_gpu_nw16_0                             0.797   \n",
       "exp_692_std_es_gpu_nw16_1                              0.629   \n",
       "exp_692_std_es_gpu_nw16_0                              0.586   \n",
       "exp_100k_std_gpu_nw16_0                                0.782   \n",
       "exp_692_std_gpu_nw16_0                                 0.600   \n",
       "exp_100k_gpu_nw16_0                                    0.751   \n",
       "exp_692_gpu_nw16_0                                     0.572   \n",
       "exp_140k_2days_2                                       0.715   \n",
       "exp_140k_2days_0_221231                                0.769   \n",
       "exp_100_gpu_0                                          0.640   \n",
       "exp_100_sample0                                        0.640   \n",
       "\n",
       "                                            training_precision  \\\n",
       "exp_id                                                           \n",
       "exp_692_clustering_std_classw_1                          0.439   \n",
       "exp_100k_pssm_pot_rm_std_classw_gpu_nw16_0               0.770   \n",
       "exp_692_pssm_pot_rm_std_classw_2                         0.453   \n",
       "exp_100k_std_classw_gpu_nw16_0                           0.727   \n",
       "exp_100k_std_bs_64_gpu_nw16_0                            0.768   \n",
       "exp_100k_std_gpu_nw16_1                                  0.751   \n",
       "exp_100k_std_es_classw_gpu_nw16_2                        0.792   \n",
       "exp_100k_std_es_classw_gpu_nw16_1                        0.727   \n",
       "exp_100k_std_es_classw_gpu_nw16_0                        0.758   \n",
       "exp_692_std_es_classw_gpu_nw16_1                         0.508   \n",
       "exp_100k_std_es_gpu_nw16_0                               0.752   \n",
       "exp_692_std_es_gpu_nw16_1                                0.000   \n",
       "exp_692_std_es_gpu_nw16_0                                0.505   \n",
       "exp_100k_std_gpu_nw16_0                                  0.775   \n",
       "exp_692_std_gpu_nw16_0                                   0.640   \n",
       "exp_100k_gpu_nw16_0                                      0.724   \n",
       "exp_692_gpu_nw16_0                                       0.470   \n",
       "exp_140k_2days_2                                         0.413   \n",
       "exp_140k_2days_0_221231                                  0.498   \n",
       "exp_100_gpu_0                                            0.382   \n",
       "exp_100_sample0                                          0.382   \n",
       "\n",
       "                                            validation_precision  \\\n",
       "exp_id                                                             \n",
       "exp_692_clustering_std_classw_1                            0.462   \n",
       "exp_100k_pssm_pot_rm_std_classw_gpu_nw16_0                 0.756   \n",
       "exp_692_pssm_pot_rm_std_classw_2                           0.456   \n",
       "exp_100k_std_classw_gpu_nw16_0                             0.732   \n",
       "exp_100k_std_bs_64_gpu_nw16_0                              0.741   \n",
       "exp_100k_std_gpu_nw16_1                                    0.736   \n",
       "exp_100k_std_es_classw_gpu_nw16_2                          0.791   \n",
       "exp_100k_std_es_classw_gpu_nw16_1                          0.719   \n",
       "exp_100k_std_es_classw_gpu_nw16_0                          0.721   \n",
       "exp_692_std_es_classw_gpu_nw16_1                           0.594   \n",
       "exp_100k_std_es_gpu_nw16_0                                 0.713   \n",
       "exp_692_std_es_gpu_nw16_1                                  0.000   \n",
       "exp_692_std_es_gpu_nw16_0                                  0.471   \n",
       "exp_100k_std_gpu_nw16_0                                    0.740   \n",
       "exp_692_std_gpu_nw16_0                                     0.583   \n",
       "exp_100k_gpu_nw16_0                                        0.712   \n",
       "exp_692_gpu_nw16_0                                         1.000   \n",
       "exp_140k_2days_2                                           0.437   \n",
       "exp_140k_2days_0_221231                                    0.510   \n",
       "exp_100_gpu_0                                              0.400   \n",
       "exp_100_sample0                                            0.400   \n",
       "\n",
       "                                            testing_precision training_recall  \\\n",
       "exp_id                                                                          \n",
       "exp_692_clustering_std_classw_1                         0.488           0.661   \n",
       "exp_100k_pssm_pot_rm_std_classw_gpu_nw16_0              0.729           0.683   \n",
       "exp_692_pssm_pot_rm_std_classw_2                        0.750           0.485   \n",
       "exp_100k_std_classw_gpu_nw16_0                          0.736           0.841   \n",
       "exp_100k_std_bs_64_gpu_nw16_0                           0.734           0.819   \n",
       "exp_100k_std_gpu_nw16_1                                 0.739           0.814   \n",
       "exp_100k_std_es_classw_gpu_nw16_2                       0.710           0.600   \n",
       "exp_100k_std_es_classw_gpu_nw16_1                       0.650           0.488   \n",
       "exp_100k_std_es_classw_gpu_nw16_0                       0.735           0.849   \n",
       "exp_692_std_es_classw_gpu_nw16_1                        0.692           0.795   \n",
       "exp_100k_std_es_gpu_nw16_0                              0.754           0.838   \n",
       "exp_692_std_es_gpu_nw16_1                               0.688           0.000   \n",
       "exp_692_std_es_gpu_nw16_0                               0.667           0.865   \n",
       "exp_100k_std_gpu_nw16_0                                 0.730           0.769   \n",
       "exp_692_std_gpu_nw16_0                                  0.700           0.568   \n",
       "exp_100k_gpu_nw16_0                                     0.684           0.721   \n",
       "exp_692_gpu_nw16_0                                      1.000           0.487   \n",
       "exp_140k_2days_2                                        0.533           0.736   \n",
       "exp_140k_2days_0_221231                                 0.606           0.863   \n",
       "exp_100_gpu_0                                           1.000           0.955   \n",
       "exp_100_sample0                                         1.000           0.955   \n",
       "\n",
       "                                            validation_recall  testing_recall  \n",
       "exp_id                                                                         \n",
       "exp_692_clustering_std_classw_1                         0.915           0.913  \n",
       "exp_100k_pssm_pot_rm_std_classw_gpu_nw16_0              0.692           0.764  \n",
       "exp_692_pssm_pot_rm_std_classw_2                        1.000           0.094  \n",
       "exp_100k_std_classw_gpu_nw16_0                          0.803           0.802  \n",
       "exp_100k_std_bs_64_gpu_nw16_0                           0.810           0.829  \n",
       "exp_100k_std_gpu_nw16_1                                 0.812           0.806  \n",
       "exp_100k_std_es_classw_gpu_nw16_2                       0.610           0.756  \n",
       "exp_100k_std_es_classw_gpu_nw16_1                       0.562           0.757  \n",
       "exp_100k_std_es_classw_gpu_nw16_0                       0.841           0.823  \n",
       "exp_692_std_es_classw_gpu_nw16_1                        0.667           0.281  \n",
       "exp_100k_std_es_gpu_nw16_0                              0.841           0.801  \n",
       "exp_692_std_es_gpu_nw16_1                               0.000           0.344  \n",
       "exp_692_std_es_gpu_nw16_0                               0.982           0.188  \n",
       "exp_100k_std_gpu_nw16_0                                 0.780           0.802  \n",
       "exp_692_std_gpu_nw16_0                                  0.614           0.219  \n",
       "exp_100k_gpu_nw16_0                                     0.732           0.808  \n",
       "exp_692_gpu_nw16_0                                      0.042           0.063  \n",
       "exp_140k_2days_2                                        0.723           0.555  \n",
       "exp_140k_2days_0_221231                                 0.883           0.696  \n",
       "exp_100_gpu_0                                           1.000           0.100  \n",
       "exp_100_sample0                                         1.000           0.100  \n",
       "\n",
       "[21 rows x 49 columns]"
      ]
     },
     "execution_count": 2,
     "metadata": {},
     "output_type": "execute_result"
    }
   ],
   "source": [
    "#################### To fill\n",
    "exp_id = 'exp_692_clustering_std_classw_1'\n",
    "cluster_dataset = 'cluster' #None # fill in only if the experiment has clusters\n",
    "####################\n",
    "exp_df = pd.read_excel('./experiments/_experiments_log.xlsx', index_col='exp_id')\n",
    "exp_df"
   ]
  },
  {
   "cell_type": "code",
   "execution_count": 3,
   "metadata": {},
   "outputs": [
    {
     "name": "stdout",
     "output_type": "stream",
     "text": [
      "(2618, 6)\n"
     ]
    }
   ],
   "source": [
    "exp_fullname = exp_df.loc[exp_id].exp_fullname\n",
    "exp_path = os.path.join('experiments', exp_fullname)\n",
    "output_path = os.path.join(exp_path, 'output')\n",
    "img_path = os.path.join(exp_path, 'images')\n",
    "\n",
    "df_summ = pd.read_hdf(os.path.join(output_path, 'summary_data.hdf5'), key='summary')\n",
    "output_train = pd.read_hdf(os.path.join(output_path, 'output_exporter.hdf5'), key='training')\n",
    "output_test = pd.read_hdf(os.path.join(output_path, 'output_exporter.hdf5'), key='testing')\n",
    "df = pd.concat([output_train, output_test])\n",
    "df.sort_values(by=['epoch'], inplace = True)\n",
    "print(df.shape)"
   ]
  },
  {
   "cell_type": "code",
   "execution_count": 4,
   "metadata": {},
   "outputs": [
    {
     "name": "stdout",
     "output_type": "stream",
     "text": [
      "(2618, 7)\n"
     ]
    },
    {
     "data": {
      "text/html": [
       "<div>\n",
       "<style scoped>\n",
       "    .dataframe tbody tr th:only-of-type {\n",
       "        vertical-align: middle;\n",
       "    }\n",
       "\n",
       "    .dataframe tbody tr th {\n",
       "        vertical-align: top;\n",
       "    }\n",
       "\n",
       "    .dataframe thead th {\n",
       "        text-align: right;\n",
       "    }\n",
       "</style>\n",
       "<table border=\"1\" class=\"dataframe\">\n",
       "  <thead>\n",
       "    <tr style=\"text-align: right;\">\n",
       "      <th></th>\n",
       "      <th>phase</th>\n",
       "      <th>epoch</th>\n",
       "      <th>entry</th>\n",
       "      <th>output</th>\n",
       "      <th>target</th>\n",
       "      <th>loss</th>\n",
       "      <th>cluster</th>\n",
       "    </tr>\n",
       "  </thead>\n",
       "  <tbody>\n",
       "    <tr>\n",
       "      <th>0</th>\n",
       "      <td>training</td>\n",
       "      <td>0.0</td>\n",
       "      <td>residue-ppi-BA-95200:M-P</td>\n",
       "      <td>[2.555023274908308e-05, 0.9999744892120361]</td>\n",
       "      <td>0.0</td>\n",
       "      <td>4.753802</td>\n",
       "      <td>10.0</td>\n",
       "    </tr>\n",
       "    <tr>\n",
       "      <th>1</th>\n",
       "      <td>training</td>\n",
       "      <td>0.0</td>\n",
       "      <td>residue-ppi-BA-118092:M-P</td>\n",
       "      <td>[0.00022343041200656444, 0.9997765421867371]</td>\n",
       "      <td>0.0</td>\n",
       "      <td>4.753802</td>\n",
       "      <td>0.0</td>\n",
       "    </tr>\n",
       "    <tr>\n",
       "      <th>2</th>\n",
       "      <td>training</td>\n",
       "      <td>0.0</td>\n",
       "      <td>residue-ppi-BA-246777:M-P</td>\n",
       "      <td>[2.3157645046012476e-05, 0.9999768733978271]</td>\n",
       "      <td>0.0</td>\n",
       "      <td>4.753802</td>\n",
       "      <td>10.0</td>\n",
       "    </tr>\n",
       "    <tr>\n",
       "      <th>3</th>\n",
       "      <td>training</td>\n",
       "      <td>0.0</td>\n",
       "      <td>residue-ppi-BA-120135:M-P</td>\n",
       "      <td>[9.055611735675484e-05, 0.9999094009399414]</td>\n",
       "      <td>1.0</td>\n",
       "      <td>4.753802</td>\n",
       "      <td>9.0</td>\n",
       "    </tr>\n",
       "    <tr>\n",
       "      <th>4</th>\n",
       "      <td>training</td>\n",
       "      <td>0.0</td>\n",
       "      <td>residue-ppi-BA-99073:M-P</td>\n",
       "      <td>[0.0001648398902034387, 0.9998351335525513]</td>\n",
       "      <td>1.0</td>\n",
       "      <td>4.753802</td>\n",
       "      <td>10.0</td>\n",
       "    </tr>\n",
       "  </tbody>\n",
       "</table>\n",
       "</div>"
      ],
      "text/plain": [
       "      phase  epoch                      entry  \\\n",
       "0  training    0.0   residue-ppi-BA-95200:M-P   \n",
       "1  training    0.0  residue-ppi-BA-118092:M-P   \n",
       "2  training    0.0  residue-ppi-BA-246777:M-P   \n",
       "3  training    0.0  residue-ppi-BA-120135:M-P   \n",
       "4  training    0.0   residue-ppi-BA-99073:M-P   \n",
       "\n",
       "                                         output  target      loss  cluster  \n",
       "0   [2.555023274908308e-05, 0.9999744892120361]     0.0  4.753802     10.0  \n",
       "1  [0.00022343041200656444, 0.9997765421867371]     0.0  4.753802      0.0  \n",
       "2  [2.3157645046012476e-05, 0.9999768733978271]     0.0  4.753802     10.0  \n",
       "3   [9.055611735675484e-05, 0.9999094009399414]     1.0  4.753802      9.0  \n",
       "4   [0.0001648398902034387, 0.9998351335525513]     1.0  4.753802     10.0  "
      ]
     },
     "execution_count": 4,
     "metadata": {},
     "output_type": "execute_result"
    }
   ],
   "source": [
    "df = df.merge(df_summ[['entry', cluster_dataset]], how='left', on='entry')\n",
    "print(df.shape)\n",
    "df.head()"
   ]
  },
  {
   "cell_type": "markdown",
   "metadata": {},
   "source": [
    "## Loss vs epochs"
   ]
  },
  {
   "cell_type": "code",
   "execution_count": 5,
   "metadata": {},
   "outputs": [],
   "source": [
    "# loss vs epoch skipping epoch 0\n",
    "fig = px.line(\n",
    "    df[((df.phase =='training') | (df.phase =='validation')) & (df.epoch > 0)],\n",
    "    x='epoch',\n",
    "    y='loss',\n",
    "    color='phase',\n",
    "    markers=True)\n",
    "\n",
    "fig.update_layout(\n",
    "    xaxis_title='Epoch #',\n",
    "    yaxis_title='Loss',\n",
    "    width=800, height=500,\n",
    "    title='Loss vs epochs',\n",
    "    title_x=0.5,\n",
    "    margin=go.layout.Margin(\n",
    "        l=50,\n",
    "        r=50,\n",
    "        b=50,\n",
    "        t=50,\n",
    "        pad=4),\n",
    "    legend=dict(\n",
    "        yanchor=\"top\",\n",
    "        #y=0.99\n",
    "        xanchor=\"right\",\n",
    "        x=0.99\n",
    "        )\n",
    ")\n",
    "epoch = exp_df.loc[exp_id].saved_epoch\n",
    "fig.add_vline(x=epoch, line_width=3, line_dash=\"dash\", line_color=\"green\")\n",
    "fig.write_html(os.path.join(img_path, 'loss_epoch_1.html'))"
   ]
  },
  {
   "cell_type": "markdown",
   "metadata": {},
   "source": [
    "## Binary classification metrics (for best/saved epoch)"
   ]
  },
  {
   "cell_type": "code",
   "execution_count": 6,
   "metadata": {},
   "outputs": [
    {
     "name": "stdout",
     "output_type": "stream",
     "text": [
      "(692, 7)\n"
     ]
    }
   ],
   "source": [
    "df_plot = df[(df.epoch == epoch) | ((df.epoch == 0) & (df.phase == 'testing'))]\n",
    "print(df_plot.shape)\n",
    "y_true = df_plot.target\n",
    "y_score = np.array(df_plot.output.values.tolist())[:, 1]"
   ]
  },
  {
   "cell_type": "markdown",
   "metadata": {},
   "source": [
    "### Only target distributions per target and cluster (data exploration)"
   ]
  },
  {
   "cell_type": "code",
   "execution_count": 9,
   "metadata": {},
   "outputs": [
    {
     "name": "stderr",
     "output_type": "stream",
     "text": [
      "/scratch-local/ccrocion/ipykernel_1202007/3511909246.py:5: SettingWithCopyWarning:\n",
      "\n",
      "\n",
      "A value is trying to be set on a copy of a slice from a DataFrame.\n",
      "Try using .loc[row_indexer,col_indexer] = value instead\n",
      "\n",
      "See the caveats in the documentation: https://pandas.pydata.org/pandas-docs/stable/user_guide/indexing.html#returning-a-view-versus-a-copy\n",
      "\n"
     ]
    },
    {
     "data": {
      "application/vnd.plotly.v1+json": {
       "config": {
        "plotlyServerURL": "https://plot.ly"
       },
       "data": [
        {
         "alignmentgroup": "True",
         "bingroup": "x",
         "hovertemplate": "cluster=0.0<br>phase=training<br>target_str=%{x}<br>count=%{y}<extra></extra>",
         "legendgroup": "0.0",
         "marker": {
          "color": "#636efa",
          "pattern": {
           "shape": ""
          }
         },
         "name": "0.0",
         "offsetgroup": "0.0",
         "orientation": "v",
         "showlegend": true,
         "type": "histogram",
         "x": [
          "0.0",
          "1.0",
          "1.0",
          "0.0",
          "0.0",
          "1.0",
          "1.0",
          "0.0",
          "0.0",
          "1.0",
          "0.0",
          "0.0",
          "0.0",
          "1.0",
          "0.0",
          "0.0",
          "1.0",
          "0.0",
          "1.0",
          "1.0",
          "0.0",
          "0.0",
          "1.0",
          "0.0",
          "0.0",
          "0.0",
          "1.0",
          "1.0",
          "0.0",
          "0.0",
          "0.0",
          "1.0",
          "0.0",
          "1.0",
          "0.0",
          "0.0",
          "0.0",
          "0.0",
          "0.0",
          "0.0",
          "0.0",
          "0.0",
          "0.0",
          "0.0",
          "1.0",
          "0.0",
          "0.0",
          "0.0",
          "0.0",
          "0.0",
          "0.0",
          "0.0",
          "0.0",
          "0.0",
          "1.0",
          "0.0",
          "1.0",
          "0.0",
          "1.0",
          "1.0",
          "0.0",
          "0.0",
          "0.0",
          "0.0",
          "1.0",
          "0.0",
          "0.0",
          "0.0",
          "1.0",
          "1.0",
          "0.0",
          "1.0",
          "0.0",
          "0.0",
          "0.0",
          "0.0",
          "0.0",
          "0.0",
          "0.0",
          "0.0",
          "1.0",
          "1.0",
          "0.0",
          "1.0",
          "0.0",
          "0.0",
          "0.0",
          "0.0",
          "1.0",
          "1.0",
          "0.0",
          "0.0",
          "0.0",
          "0.0",
          "1.0",
          "1.0",
          "0.0",
          "0.0",
          "0.0",
          "0.0",
          "1.0",
          "0.0",
          "0.0",
          "0.0",
          "1.0",
          "0.0",
          "0.0",
          "0.0",
          "0.0",
          "0.0",
          "0.0",
          "0.0",
          "1.0",
          "1.0",
          "1.0",
          "0.0",
          "0.0",
          "0.0",
          "0.0",
          "1.0",
          "1.0",
          "1.0",
          "0.0",
          "0.0",
          "0.0",
          "0.0",
          "0.0",
          "1.0",
          "0.0"
         ],
         "xaxis": "x3",
         "yaxis": "y3"
        },
        {
         "alignmentgroup": "True",
         "bingroup": "x",
         "hovertemplate": "cluster=0.0<br>phase=validation<br>target_str=%{x}<br>count=%{y}<extra></extra>",
         "legendgroup": "0.0",
         "marker": {
          "color": "#636efa",
          "pattern": {
           "shape": ""
          }
         },
         "name": "0.0",
         "offsetgroup": "0.0",
         "orientation": "v",
         "showlegend": false,
         "type": "histogram",
         "x": [
          "1.0",
          "1.0",
          "0.0",
          "0.0",
          "1.0",
          "0.0",
          "0.0",
          "0.0",
          "0.0",
          "1.0",
          "1.0",
          "0.0",
          "1.0",
          "0.0",
          "0.0",
          "1.0",
          "0.0",
          "1.0",
          "1.0",
          "0.0",
          "0.0",
          "0.0",
          "0.0",
          "0.0",
          "0.0",
          "0.0",
          "1.0",
          "0.0",
          "0.0",
          "0.0",
          "0.0",
          "0.0",
          "0.0"
         ],
         "xaxis": "x2",
         "yaxis": "y2"
        },
        {
         "alignmentgroup": "True",
         "bingroup": "x",
         "hovertemplate": "cluster=1.0<br>phase=training<br>target_str=%{x}<br>count=%{y}<extra></extra>",
         "legendgroup": "1.0",
         "marker": {
          "color": "#EF553B",
          "pattern": {
           "shape": ""
          }
         },
         "name": "1.0",
         "offsetgroup": "1.0",
         "orientation": "v",
         "showlegend": true,
         "type": "histogram",
         "x": [
          "0.0",
          "1.0",
          "0.0",
          "1.0",
          "0.0",
          "1.0",
          "1.0",
          "0.0",
          "0.0",
          "1.0",
          "0.0",
          "1.0",
          "1.0",
          "0.0",
          "0.0",
          "1.0",
          "0.0",
          "1.0",
          "1.0",
          "1.0",
          "0.0",
          "1.0",
          "0.0",
          "0.0",
          "0.0",
          "0.0",
          "0.0",
          "1.0",
          "0.0",
          "0.0",
          "0.0",
          "0.0"
         ],
         "xaxis": "x3",
         "yaxis": "y3"
        },
        {
         "alignmentgroup": "True",
         "bingroup": "x",
         "hovertemplate": "cluster=1.0<br>phase=validation<br>target_str=%{x}<br>count=%{y}<extra></extra>",
         "legendgroup": "1.0",
         "marker": {
          "color": "#EF553B",
          "pattern": {
           "shape": ""
          }
         },
         "name": "1.0",
         "offsetgroup": "1.0",
         "orientation": "v",
         "showlegend": false,
         "type": "histogram",
         "x": [
          "0.0",
          "0.0",
          "1.0",
          "1.0",
          "0.0",
          "0.0",
          "0.0",
          "1.0",
          "0.0",
          "1.0"
         ],
         "xaxis": "x2",
         "yaxis": "y2"
        },
        {
         "alignmentgroup": "True",
         "bingroup": "x",
         "hovertemplate": "cluster=2.0<br>phase=training<br>target_str=%{x}<br>count=%{y}<extra></extra>",
         "legendgroup": "2.0",
         "marker": {
          "color": "#00cc96",
          "pattern": {
           "shape": ""
          }
         },
         "name": "2.0",
         "offsetgroup": "2.0",
         "orientation": "v",
         "showlegend": true,
         "type": "histogram",
         "x": [
          "1.0",
          "0.0",
          "1.0",
          "1.0",
          "1.0",
          "0.0",
          "0.0",
          "1.0",
          "1.0",
          "0.0",
          "1.0",
          "1.0",
          "1.0",
          "0.0",
          "0.0",
          "0.0",
          "1.0",
          "1.0",
          "1.0",
          "0.0",
          "1.0",
          "0.0",
          "1.0",
          "0.0",
          "0.0",
          "0.0",
          "1.0",
          "1.0",
          "1.0",
          "1.0",
          "0.0",
          "0.0"
         ],
         "xaxis": "x3",
         "yaxis": "y3"
        },
        {
         "alignmentgroup": "True",
         "bingroup": "x",
         "hovertemplate": "cluster=2.0<br>phase=validation<br>target_str=%{x}<br>count=%{y}<extra></extra>",
         "legendgroup": "2.0",
         "marker": {
          "color": "#00cc96",
          "pattern": {
           "shape": ""
          }
         },
         "name": "2.0",
         "offsetgroup": "2.0",
         "orientation": "v",
         "showlegend": false,
         "type": "histogram",
         "x": [
          "0.0",
          "0.0",
          "1.0",
          "1.0",
          "1.0",
          "1.0",
          "1.0",
          "1.0",
          "0.0",
          "0.0",
          "0.0"
         ],
         "xaxis": "x2",
         "yaxis": "y2"
        },
        {
         "alignmentgroup": "True",
         "bingroup": "x",
         "hovertemplate": "cluster=3.0<br>phase=testing<br>target_str=%{x}<br>count=%{y}<extra></extra>",
         "legendgroup": "3.0",
         "marker": {
          "color": "#ab63fa",
          "pattern": {
           "shape": ""
          }
         },
         "name": "3.0",
         "offsetgroup": "3.0",
         "orientation": "v",
         "showlegend": true,
         "type": "histogram",
         "x": [
          "0.0",
          "1.0",
          "0.0",
          "0.0",
          "1.0",
          "0.0",
          "0.0",
          "0.0",
          "1.0",
          "0.0",
          "1.0",
          "1.0",
          "1.0",
          "1.0",
          "0.0",
          "1.0",
          "0.0",
          "1.0",
          "0.0",
          "1.0",
          "0.0",
          "1.0",
          "1.0",
          "0.0",
          "1.0",
          "1.0",
          "0.0",
          "1.0",
          "1.0",
          "1.0",
          "1.0",
          "0.0",
          "0.0",
          "1.0",
          "0.0",
          "0.0",
          "0.0",
          "1.0",
          "1.0",
          "0.0",
          "0.0",
          "1.0",
          "0.0",
          "0.0",
          "0.0",
          "0.0",
          "0.0",
          "0.0",
          "0.0",
          "1.0"
         ],
         "xaxis": "x",
         "yaxis": "y"
        },
        {
         "alignmentgroup": "True",
         "bingroup": "x",
         "hovertemplate": "cluster=4.0<br>phase=training<br>target_str=%{x}<br>count=%{y}<extra></extra>",
         "legendgroup": "4.0",
         "marker": {
          "color": "#FFA15A",
          "pattern": {
           "shape": ""
          }
         },
         "name": "4.0",
         "offsetgroup": "4.0",
         "orientation": "v",
         "showlegend": true,
         "type": "histogram",
         "x": [
          "1.0",
          "0.0",
          "0.0",
          "0.0",
          "1.0",
          "0.0",
          "0.0",
          "1.0",
          "0.0",
          "0.0",
          "1.0",
          "0.0",
          "0.0",
          "0.0",
          "1.0",
          "0.0",
          "1.0",
          "1.0",
          "1.0",
          "0.0",
          "0.0",
          "0.0",
          "1.0",
          "0.0",
          "1.0",
          "1.0",
          "1.0",
          "1.0",
          "1.0",
          "1.0",
          "1.0",
          "1.0",
          "0.0"
         ],
         "xaxis": "x3",
         "yaxis": "y3"
        },
        {
         "alignmentgroup": "True",
         "bingroup": "x",
         "hovertemplate": "cluster=4.0<br>phase=validation<br>target_str=%{x}<br>count=%{y}<extra></extra>",
         "legendgroup": "4.0",
         "marker": {
          "color": "#FFA15A",
          "pattern": {
           "shape": ""
          }
         },
         "name": "4.0",
         "offsetgroup": "4.0",
         "orientation": "v",
         "showlegend": false,
         "type": "histogram",
         "x": [
          "1.0",
          "1.0",
          "1.0",
          "0.0",
          "0.0",
          "0.0"
         ],
         "xaxis": "x2",
         "yaxis": "y2"
        },
        {
         "alignmentgroup": "True",
         "bingroup": "x",
         "hovertemplate": "cluster=5.0<br>phase=training<br>target_str=%{x}<br>count=%{y}<extra></extra>",
         "legendgroup": "5.0",
         "marker": {
          "color": "#19d3f3",
          "pattern": {
           "shape": ""
          }
         },
         "name": "5.0",
         "offsetgroup": "5.0",
         "orientation": "v",
         "showlegend": true,
         "type": "histogram",
         "x": [
          "1.0",
          "1.0",
          "0.0",
          "0.0",
          "0.0",
          "0.0",
          "0.0",
          "1.0",
          "0.0",
          "0.0",
          "1.0",
          "1.0",
          "0.0",
          "0.0",
          "0.0",
          "1.0",
          "1.0",
          "1.0",
          "1.0",
          "1.0",
          "1.0",
          "0.0",
          "0.0",
          "0.0",
          "1.0",
          "0.0",
          "1.0",
          "0.0",
          "1.0",
          "1.0",
          "0.0",
          "0.0",
          "0.0",
          "1.0",
          "1.0",
          "0.0",
          "0.0",
          "1.0",
          "1.0",
          "0.0",
          "1.0",
          "0.0",
          "1.0",
          "1.0",
          "1.0",
          "1.0",
          "1.0",
          "0.0",
          "1.0",
          "0.0",
          "0.0",
          "1.0",
          "0.0",
          "0.0",
          "0.0",
          "1.0",
          "0.0",
          "0.0"
         ],
         "xaxis": "x3",
         "yaxis": "y3"
        },
        {
         "alignmentgroup": "True",
         "bingroup": "x",
         "hovertemplate": "cluster=5.0<br>phase=validation<br>target_str=%{x}<br>count=%{y}<extra></extra>",
         "legendgroup": "5.0",
         "marker": {
          "color": "#19d3f3",
          "pattern": {
           "shape": ""
          }
         },
         "name": "5.0",
         "offsetgroup": "5.0",
         "orientation": "v",
         "showlegend": false,
         "type": "histogram",
         "x": [
          "0.0",
          "1.0",
          "0.0",
          "0.0",
          "0.0",
          "1.0",
          "1.0",
          "1.0"
         ],
         "xaxis": "x2",
         "yaxis": "y2"
        },
        {
         "alignmentgroup": "True",
         "bingroup": "x",
         "hovertemplate": "cluster=6.0<br>phase=training<br>target_str=%{x}<br>count=%{y}<extra></extra>",
         "legendgroup": "6.0",
         "marker": {
          "color": "#FF6692",
          "pattern": {
           "shape": ""
          }
         },
         "name": "6.0",
         "offsetgroup": "6.0",
         "orientation": "v",
         "showlegend": true,
         "type": "histogram",
         "x": [
          "1.0",
          "1.0",
          "1.0",
          "0.0",
          "0.0",
          "1.0",
          "0.0",
          "0.0",
          "1.0",
          "0.0",
          "0.0",
          "1.0",
          "1.0",
          "0.0",
          "1.0",
          "1.0",
          "0.0",
          "0.0",
          "1.0",
          "0.0",
          "1.0",
          "1.0",
          "1.0",
          "0.0",
          "1.0",
          "0.0",
          "0.0",
          "0.0",
          "1.0",
          "1.0",
          "1.0",
          "0.0",
          "0.0",
          "0.0",
          "1.0",
          "1.0",
          "0.0",
          "1.0",
          "1.0",
          "1.0",
          "0.0",
          "1.0",
          "1.0",
          "0.0",
          "1.0",
          "0.0",
          "0.0",
          "1.0"
         ],
         "xaxis": "x3",
         "yaxis": "y3"
        },
        {
         "alignmentgroup": "True",
         "bingroup": "x",
         "hovertemplate": "cluster=6.0<br>phase=validation<br>target_str=%{x}<br>count=%{y}<extra></extra>",
         "legendgroup": "6.0",
         "marker": {
          "color": "#FF6692",
          "pattern": {
           "shape": ""
          }
         },
         "name": "6.0",
         "offsetgroup": "6.0",
         "orientation": "v",
         "showlegend": false,
         "type": "histogram",
         "x": [
          "1.0",
          "1.0",
          "0.0",
          "1.0",
          "0.0",
          "1.0",
          "0.0",
          "0.0",
          "0.0",
          "1.0",
          "0.0"
         ],
         "xaxis": "x2",
         "yaxis": "y2"
        },
        {
         "alignmentgroup": "True",
         "bingroup": "x",
         "hovertemplate": "cluster=7.0<br>phase=training<br>target_str=%{x}<br>count=%{y}<extra></extra>",
         "legendgroup": "7.0",
         "marker": {
          "color": "#B6E880",
          "pattern": {
           "shape": ""
          }
         },
         "name": "7.0",
         "offsetgroup": "7.0",
         "orientation": "v",
         "showlegend": true,
         "type": "histogram",
         "x": [
          "1.0",
          "0.0",
          "0.0",
          "0.0",
          "1.0",
          "1.0",
          "1.0",
          "1.0",
          "0.0",
          "1.0",
          "1.0",
          "1.0",
          "0.0",
          "0.0",
          "1.0",
          "0.0",
          "0.0",
          "1.0",
          "0.0",
          "1.0",
          "0.0",
          "0.0",
          "0.0",
          "0.0",
          "1.0",
          "0.0",
          "1.0",
          "1.0",
          "0.0",
          "0.0",
          "0.0",
          "1.0",
          "1.0",
          "1.0",
          "1.0",
          "1.0",
          "0.0",
          "0.0",
          "1.0",
          "1.0",
          "0.0"
         ],
         "xaxis": "x3",
         "yaxis": "y3"
        },
        {
         "alignmentgroup": "True",
         "bingroup": "x",
         "hovertemplate": "cluster=7.0<br>phase=validation<br>target_str=%{x}<br>count=%{y}<extra></extra>",
         "legendgroup": "7.0",
         "marker": {
          "color": "#B6E880",
          "pattern": {
           "shape": ""
          }
         },
         "name": "7.0",
         "offsetgroup": "7.0",
         "orientation": "v",
         "showlegend": false,
         "type": "histogram",
         "x": [
          "0.0",
          "1.0",
          "0.0",
          "1.0",
          "1.0",
          "0.0",
          "0.0",
          "0.0",
          "1.0",
          "1.0",
          "0.0",
          "0.0",
          "1.0",
          "0.0",
          "0.0",
          "1.0",
          "1.0",
          "1.0"
         ],
         "xaxis": "x2",
         "yaxis": "y2"
        },
        {
         "alignmentgroup": "True",
         "bingroup": "x",
         "hovertemplate": "cluster=8.0<br>phase=training<br>target_str=%{x}<br>count=%{y}<extra></extra>",
         "legendgroup": "8.0",
         "marker": {
          "color": "#FF97FF",
          "pattern": {
           "shape": ""
          }
         },
         "name": "8.0",
         "offsetgroup": "8.0",
         "orientation": "v",
         "showlegend": true,
         "type": "histogram",
         "x": [
          "0.0",
          "1.0",
          "1.0",
          "0.0",
          "1.0",
          "1.0",
          "0.0",
          "0.0",
          "1.0",
          "1.0",
          "1.0",
          "0.0",
          "0.0",
          "0.0",
          "0.0",
          "1.0",
          "0.0",
          "0.0",
          "0.0",
          "1.0",
          "1.0",
          "0.0",
          "0.0",
          "0.0",
          "1.0",
          "1.0",
          "0.0",
          "0.0",
          "0.0",
          "0.0",
          "0.0",
          "0.0",
          "1.0",
          "1.0",
          "0.0",
          "0.0",
          "1.0"
         ],
         "xaxis": "x3",
         "yaxis": "y3"
        },
        {
         "alignmentgroup": "True",
         "bingroup": "x",
         "hovertemplate": "cluster=8.0<br>phase=validation<br>target_str=%{x}<br>count=%{y}<extra></extra>",
         "legendgroup": "8.0",
         "marker": {
          "color": "#FF97FF",
          "pattern": {
           "shape": ""
          }
         },
         "name": "8.0",
         "offsetgroup": "8.0",
         "orientation": "v",
         "showlegend": false,
         "type": "histogram",
         "x": [
          "1.0",
          "0.0",
          "1.0"
         ],
         "xaxis": "x2",
         "yaxis": "y2"
        },
        {
         "alignmentgroup": "True",
         "bingroup": "x",
         "hovertemplate": "cluster=9.0<br>phase=training<br>target_str=%{x}<br>count=%{y}<extra></extra>",
         "legendgroup": "9.0",
         "marker": {
          "color": "#FECB52",
          "pattern": {
           "shape": ""
          }
         },
         "name": "9.0",
         "offsetgroup": "9.0",
         "orientation": "v",
         "showlegend": true,
         "type": "histogram",
         "x": [
          "1.0",
          "1.0",
          "1.0",
          "0.0",
          "1.0",
          "1.0",
          "0.0",
          "0.0",
          "0.0",
          "1.0",
          "1.0",
          "1.0",
          "1.0",
          "0.0",
          "1.0",
          "1.0",
          "1.0",
          "0.0",
          "0.0",
          "0.0",
          "1.0",
          "0.0",
          "0.0",
          "1.0",
          "1.0",
          "1.0",
          "1.0",
          "1.0",
          "1.0",
          "1.0",
          "0.0",
          "1.0",
          "1.0",
          "1.0",
          "1.0",
          "1.0",
          "0.0",
          "1.0",
          "1.0",
          "0.0",
          "1.0",
          "0.0",
          "0.0",
          "1.0",
          "0.0",
          "1.0",
          "1.0",
          "1.0",
          "0.0",
          "1.0",
          "1.0",
          "0.0",
          "1.0",
          "1.0",
          "1.0"
         ],
         "xaxis": "x3",
         "yaxis": "y3"
        },
        {
         "alignmentgroup": "True",
         "bingroup": "x",
         "hovertemplate": "cluster=9.0<br>phase=validation<br>target_str=%{x}<br>count=%{y}<extra></extra>",
         "legendgroup": "9.0",
         "marker": {
          "color": "#FECB52",
          "pattern": {
           "shape": ""
          }
         },
         "name": "9.0",
         "offsetgroup": "9.0",
         "orientation": "v",
         "showlegend": false,
         "type": "histogram",
         "x": [
          "0.0",
          "1.0",
          "1.0",
          "1.0",
          "0.0",
          "0.0",
          "0.0",
          "1.0",
          "1.0",
          "0.0",
          "0.0",
          "1.0",
          "1.0"
         ],
         "xaxis": "x2",
         "yaxis": "y2"
        },
        {
         "alignmentgroup": "True",
         "bingroup": "x",
         "hovertemplate": "cluster=10.0<br>phase=training<br>target_str=%{x}<br>count=%{y}<extra></extra>",
         "legendgroup": "10.0",
         "marker": {
          "color": "#636efa",
          "pattern": {
           "shape": ""
          }
         },
         "name": "10.0",
         "offsetgroup": "10.0",
         "orientation": "v",
         "showlegend": true,
         "type": "histogram",
         "x": [
          "0.0",
          "1.0",
          "1.0",
          "0.0",
          "1.0",
          "0.0",
          "1.0",
          "1.0",
          "0.0",
          "1.0",
          "0.0",
          "0.0",
          "0.0",
          "1.0",
          "1.0",
          "0.0",
          "0.0",
          "0.0",
          "0.0",
          "0.0",
          "0.0",
          "1.0",
          "0.0",
          "1.0",
          "1.0",
          "1.0",
          "0.0",
          "0.0",
          "1.0",
          "0.0",
          "1.0",
          "0.0",
          "1.0",
          "0.0",
          "1.0",
          "1.0",
          "0.0",
          "0.0",
          "1.0",
          "0.0",
          "0.0",
          "0.0",
          "0.0",
          "1.0",
          "0.0",
          "1.0",
          "1.0",
          "1.0"
         ],
         "xaxis": "x3",
         "yaxis": "y3"
        },
        {
         "alignmentgroup": "True",
         "bingroup": "x",
         "hovertemplate": "cluster=10.0<br>phase=validation<br>target_str=%{x}<br>count=%{y}<extra></extra>",
         "legendgroup": "10.0",
         "marker": {
          "color": "#636efa",
          "pattern": {
           "shape": ""
          }
         },
         "name": "10.0",
         "offsetgroup": "10.0",
         "orientation": "v",
         "showlegend": false,
         "type": "histogram",
         "x": [
          "1.0",
          "1.0",
          "0.0",
          "1.0",
          "1.0",
          "1.0",
          "1.0",
          "1.0",
          "0.0",
          "0.0",
          "1.0",
          "0.0",
          "0.0",
          "0.0",
          "1.0",
          "0.0"
         ],
         "xaxis": "x2",
         "yaxis": "y2"
        }
       ],
       "layout": {
        "annotations": [
         {
          "font": {},
          "showarrow": false,
          "text": "phase=testing",
          "textangle": 90,
          "x": 0.98,
          "xanchor": "left",
          "xref": "paper",
          "y": 0.15666666666666665,
          "yanchor": "middle",
          "yref": "paper"
         },
         {
          "font": {},
          "showarrow": false,
          "text": "phase=validation",
          "textangle": 90,
          "x": 0.98,
          "xanchor": "left",
          "xref": "paper",
          "y": 0.4999999999999999,
          "yanchor": "middle",
          "yref": "paper"
         },
         {
          "font": {},
          "showarrow": false,
          "text": "phase=training",
          "textangle": 90,
          "x": 0.98,
          "xanchor": "left",
          "xref": "paper",
          "y": 0.8433333333333332,
          "yanchor": "middle",
          "yref": "paper"
         }
        ],
        "bargap": 0.3,
        "bargroupgap": 0,
        "barmode": "relative",
        "height": 600,
        "legend": {
         "title": {
          "text": "cluster"
         },
         "tracegroupgap": 0
        },
        "margin": {
         "b": 50,
         "l": 50,
         "pad": 4,
         "r": 50,
         "t": 50
        },
        "showlegend": true,
        "template": {
         "data": {
          "bar": [
           {
            "error_x": {
             "color": "#2a3f5f"
            },
            "error_y": {
             "color": "#2a3f5f"
            },
            "marker": {
             "line": {
              "color": "#E5ECF6",
              "width": 0.5
             },
             "pattern": {
              "fillmode": "overlay",
              "size": 10,
              "solidity": 0.2
             }
            },
            "type": "bar"
           }
          ],
          "barpolar": [
           {
            "marker": {
             "line": {
              "color": "#E5ECF6",
              "width": 0.5
             },
             "pattern": {
              "fillmode": "overlay",
              "size": 10,
              "solidity": 0.2
             }
            },
            "type": "barpolar"
           }
          ],
          "carpet": [
           {
            "aaxis": {
             "endlinecolor": "#2a3f5f",
             "gridcolor": "white",
             "linecolor": "white",
             "minorgridcolor": "white",
             "startlinecolor": "#2a3f5f"
            },
            "baxis": {
             "endlinecolor": "#2a3f5f",
             "gridcolor": "white",
             "linecolor": "white",
             "minorgridcolor": "white",
             "startlinecolor": "#2a3f5f"
            },
            "type": "carpet"
           }
          ],
          "choropleth": [
           {
            "colorbar": {
             "outlinewidth": 0,
             "ticks": ""
            },
            "type": "choropleth"
           }
          ],
          "contour": [
           {
            "colorbar": {
             "outlinewidth": 0,
             "ticks": ""
            },
            "colorscale": [
             [
              0,
              "#0d0887"
             ],
             [
              0.1111111111111111,
              "#46039f"
             ],
             [
              0.2222222222222222,
              "#7201a8"
             ],
             [
              0.3333333333333333,
              "#9c179e"
             ],
             [
              0.4444444444444444,
              "#bd3786"
             ],
             [
              0.5555555555555556,
              "#d8576b"
             ],
             [
              0.6666666666666666,
              "#ed7953"
             ],
             [
              0.7777777777777778,
              "#fb9f3a"
             ],
             [
              0.8888888888888888,
              "#fdca26"
             ],
             [
              1,
              "#f0f921"
             ]
            ],
            "type": "contour"
           }
          ],
          "contourcarpet": [
           {
            "colorbar": {
             "outlinewidth": 0,
             "ticks": ""
            },
            "type": "contourcarpet"
           }
          ],
          "heatmap": [
           {
            "colorbar": {
             "outlinewidth": 0,
             "ticks": ""
            },
            "colorscale": [
             [
              0,
              "#0d0887"
             ],
             [
              0.1111111111111111,
              "#46039f"
             ],
             [
              0.2222222222222222,
              "#7201a8"
             ],
             [
              0.3333333333333333,
              "#9c179e"
             ],
             [
              0.4444444444444444,
              "#bd3786"
             ],
             [
              0.5555555555555556,
              "#d8576b"
             ],
             [
              0.6666666666666666,
              "#ed7953"
             ],
             [
              0.7777777777777778,
              "#fb9f3a"
             ],
             [
              0.8888888888888888,
              "#fdca26"
             ],
             [
              1,
              "#f0f921"
             ]
            ],
            "type": "heatmap"
           }
          ],
          "heatmapgl": [
           {
            "colorbar": {
             "outlinewidth": 0,
             "ticks": ""
            },
            "colorscale": [
             [
              0,
              "#0d0887"
             ],
             [
              0.1111111111111111,
              "#46039f"
             ],
             [
              0.2222222222222222,
              "#7201a8"
             ],
             [
              0.3333333333333333,
              "#9c179e"
             ],
             [
              0.4444444444444444,
              "#bd3786"
             ],
             [
              0.5555555555555556,
              "#d8576b"
             ],
             [
              0.6666666666666666,
              "#ed7953"
             ],
             [
              0.7777777777777778,
              "#fb9f3a"
             ],
             [
              0.8888888888888888,
              "#fdca26"
             ],
             [
              1,
              "#f0f921"
             ]
            ],
            "type": "heatmapgl"
           }
          ],
          "histogram": [
           {
            "marker": {
             "pattern": {
              "fillmode": "overlay",
              "size": 10,
              "solidity": 0.2
             }
            },
            "type": "histogram"
           }
          ],
          "histogram2d": [
           {
            "colorbar": {
             "outlinewidth": 0,
             "ticks": ""
            },
            "colorscale": [
             [
              0,
              "#0d0887"
             ],
             [
              0.1111111111111111,
              "#46039f"
             ],
             [
              0.2222222222222222,
              "#7201a8"
             ],
             [
              0.3333333333333333,
              "#9c179e"
             ],
             [
              0.4444444444444444,
              "#bd3786"
             ],
             [
              0.5555555555555556,
              "#d8576b"
             ],
             [
              0.6666666666666666,
              "#ed7953"
             ],
             [
              0.7777777777777778,
              "#fb9f3a"
             ],
             [
              0.8888888888888888,
              "#fdca26"
             ],
             [
              1,
              "#f0f921"
             ]
            ],
            "type": "histogram2d"
           }
          ],
          "histogram2dcontour": [
           {
            "colorbar": {
             "outlinewidth": 0,
             "ticks": ""
            },
            "colorscale": [
             [
              0,
              "#0d0887"
             ],
             [
              0.1111111111111111,
              "#46039f"
             ],
             [
              0.2222222222222222,
              "#7201a8"
             ],
             [
              0.3333333333333333,
              "#9c179e"
             ],
             [
              0.4444444444444444,
              "#bd3786"
             ],
             [
              0.5555555555555556,
              "#d8576b"
             ],
             [
              0.6666666666666666,
              "#ed7953"
             ],
             [
              0.7777777777777778,
              "#fb9f3a"
             ],
             [
              0.8888888888888888,
              "#fdca26"
             ],
             [
              1,
              "#f0f921"
             ]
            ],
            "type": "histogram2dcontour"
           }
          ],
          "mesh3d": [
           {
            "colorbar": {
             "outlinewidth": 0,
             "ticks": ""
            },
            "type": "mesh3d"
           }
          ],
          "parcoords": [
           {
            "line": {
             "colorbar": {
              "outlinewidth": 0,
              "ticks": ""
             }
            },
            "type": "parcoords"
           }
          ],
          "pie": [
           {
            "automargin": true,
            "type": "pie"
           }
          ],
          "scatter": [
           {
            "fillpattern": {
             "fillmode": "overlay",
             "size": 10,
             "solidity": 0.2
            },
            "type": "scatter"
           }
          ],
          "scatter3d": [
           {
            "line": {
             "colorbar": {
              "outlinewidth": 0,
              "ticks": ""
             }
            },
            "marker": {
             "colorbar": {
              "outlinewidth": 0,
              "ticks": ""
             }
            },
            "type": "scatter3d"
           }
          ],
          "scattercarpet": [
           {
            "marker": {
             "colorbar": {
              "outlinewidth": 0,
              "ticks": ""
             }
            },
            "type": "scattercarpet"
           }
          ],
          "scattergeo": [
           {
            "marker": {
             "colorbar": {
              "outlinewidth": 0,
              "ticks": ""
             }
            },
            "type": "scattergeo"
           }
          ],
          "scattergl": [
           {
            "marker": {
             "colorbar": {
              "outlinewidth": 0,
              "ticks": ""
             }
            },
            "type": "scattergl"
           }
          ],
          "scattermapbox": [
           {
            "marker": {
             "colorbar": {
              "outlinewidth": 0,
              "ticks": ""
             }
            },
            "type": "scattermapbox"
           }
          ],
          "scatterpolar": [
           {
            "marker": {
             "colorbar": {
              "outlinewidth": 0,
              "ticks": ""
             }
            },
            "type": "scatterpolar"
           }
          ],
          "scatterpolargl": [
           {
            "marker": {
             "colorbar": {
              "outlinewidth": 0,
              "ticks": ""
             }
            },
            "type": "scatterpolargl"
           }
          ],
          "scatterternary": [
           {
            "marker": {
             "colorbar": {
              "outlinewidth": 0,
              "ticks": ""
             }
            },
            "type": "scatterternary"
           }
          ],
          "surface": [
           {
            "colorbar": {
             "outlinewidth": 0,
             "ticks": ""
            },
            "colorscale": [
             [
              0,
              "#0d0887"
             ],
             [
              0.1111111111111111,
              "#46039f"
             ],
             [
              0.2222222222222222,
              "#7201a8"
             ],
             [
              0.3333333333333333,
              "#9c179e"
             ],
             [
              0.4444444444444444,
              "#bd3786"
             ],
             [
              0.5555555555555556,
              "#d8576b"
             ],
             [
              0.6666666666666666,
              "#ed7953"
             ],
             [
              0.7777777777777778,
              "#fb9f3a"
             ],
             [
              0.8888888888888888,
              "#fdca26"
             ],
             [
              1,
              "#f0f921"
             ]
            ],
            "type": "surface"
           }
          ],
          "table": [
           {
            "cells": {
             "fill": {
              "color": "#EBF0F8"
             },
             "line": {
              "color": "white"
             }
            },
            "header": {
             "fill": {
              "color": "#C8D4E3"
             },
             "line": {
              "color": "white"
             }
            },
            "type": "table"
           }
          ]
         },
         "layout": {
          "annotationdefaults": {
           "arrowcolor": "#2a3f5f",
           "arrowhead": 0,
           "arrowwidth": 1
          },
          "autotypenumbers": "strict",
          "coloraxis": {
           "colorbar": {
            "outlinewidth": 0,
            "ticks": ""
           }
          },
          "colorscale": {
           "diverging": [
            [
             0,
             "#8e0152"
            ],
            [
             0.1,
             "#c51b7d"
            ],
            [
             0.2,
             "#de77ae"
            ],
            [
             0.3,
             "#f1b6da"
            ],
            [
             0.4,
             "#fde0ef"
            ],
            [
             0.5,
             "#f7f7f7"
            ],
            [
             0.6,
             "#e6f5d0"
            ],
            [
             0.7,
             "#b8e186"
            ],
            [
             0.8,
             "#7fbc41"
            ],
            [
             0.9,
             "#4d9221"
            ],
            [
             1,
             "#276419"
            ]
           ],
           "sequential": [
            [
             0,
             "#0d0887"
            ],
            [
             0.1111111111111111,
             "#46039f"
            ],
            [
             0.2222222222222222,
             "#7201a8"
            ],
            [
             0.3333333333333333,
             "#9c179e"
            ],
            [
             0.4444444444444444,
             "#bd3786"
            ],
            [
             0.5555555555555556,
             "#d8576b"
            ],
            [
             0.6666666666666666,
             "#ed7953"
            ],
            [
             0.7777777777777778,
             "#fb9f3a"
            ],
            [
             0.8888888888888888,
             "#fdca26"
            ],
            [
             1,
             "#f0f921"
            ]
           ],
           "sequentialminus": [
            [
             0,
             "#0d0887"
            ],
            [
             0.1111111111111111,
             "#46039f"
            ],
            [
             0.2222222222222222,
             "#7201a8"
            ],
            [
             0.3333333333333333,
             "#9c179e"
            ],
            [
             0.4444444444444444,
             "#bd3786"
            ],
            [
             0.5555555555555556,
             "#d8576b"
            ],
            [
             0.6666666666666666,
             "#ed7953"
            ],
            [
             0.7777777777777778,
             "#fb9f3a"
            ],
            [
             0.8888888888888888,
             "#fdca26"
            ],
            [
             1,
             "#f0f921"
            ]
           ]
          },
          "colorway": [
           "#636efa",
           "#EF553B",
           "#00cc96",
           "#ab63fa",
           "#FFA15A",
           "#19d3f3",
           "#FF6692",
           "#B6E880",
           "#FF97FF",
           "#FECB52"
          ],
          "font": {
           "color": "#2a3f5f"
          },
          "geo": {
           "bgcolor": "white",
           "lakecolor": "white",
           "landcolor": "#E5ECF6",
           "showlakes": true,
           "showland": true,
           "subunitcolor": "white"
          },
          "hoverlabel": {
           "align": "left"
          },
          "hovermode": "closest",
          "mapbox": {
           "style": "light"
          },
          "paper_bgcolor": "white",
          "plot_bgcolor": "#E5ECF6",
          "polar": {
           "angularaxis": {
            "gridcolor": "white",
            "linecolor": "white",
            "ticks": ""
           },
           "bgcolor": "#E5ECF6",
           "radialaxis": {
            "gridcolor": "white",
            "linecolor": "white",
            "ticks": ""
           }
          },
          "scene": {
           "xaxis": {
            "backgroundcolor": "#E5ECF6",
            "gridcolor": "white",
            "gridwidth": 2,
            "linecolor": "white",
            "showbackground": true,
            "ticks": "",
            "zerolinecolor": "white"
           },
           "yaxis": {
            "backgroundcolor": "#E5ECF6",
            "gridcolor": "white",
            "gridwidth": 2,
            "linecolor": "white",
            "showbackground": true,
            "ticks": "",
            "zerolinecolor": "white"
           },
           "zaxis": {
            "backgroundcolor": "#E5ECF6",
            "gridcolor": "white",
            "gridwidth": 2,
            "linecolor": "white",
            "showbackground": true,
            "ticks": "",
            "zerolinecolor": "white"
           }
          },
          "shapedefaults": {
           "line": {
            "color": "#2a3f5f"
           }
          },
          "ternary": {
           "aaxis": {
            "gridcolor": "white",
            "linecolor": "white",
            "ticks": ""
           },
           "baxis": {
            "gridcolor": "white",
            "linecolor": "white",
            "ticks": ""
           },
           "bgcolor": "#E5ECF6",
           "caxis": {
            "gridcolor": "white",
            "linecolor": "white",
            "ticks": ""
           }
          },
          "title": {
           "x": 0.05
          },
          "xaxis": {
           "automargin": true,
           "gridcolor": "white",
           "linecolor": "white",
           "ticks": "",
           "title": {
            "standoff": 15
           },
           "zerolinecolor": "white",
           "zerolinewidth": 2
          },
          "yaxis": {
           "automargin": true,
           "gridcolor": "white",
           "linecolor": "white",
           "ticks": "",
           "title": {
            "standoff": 15
           },
           "zerolinecolor": "white",
           "zerolinewidth": 2
          }
         }
        },
        "title": {
         "text": "Target",
         "x": 0.5
        },
        "width": 600,
        "xaxis": {
         "anchor": "y",
         "domain": [
          0,
          0.98
         ],
         "title": {
          "text": "target_str"
         }
        },
        "xaxis2": {
         "anchor": "y2",
         "domain": [
          0,
          0.98
         ],
         "matches": "x",
         "showticklabels": false
        },
        "xaxis3": {
         "anchor": "y3",
         "domain": [
          0,
          0.98
         ],
         "matches": "x",
         "showticklabels": false
        },
        "yaxis": {
         "anchor": "x",
         "domain": [
          0,
          0.3133333333333333
         ],
         "title": {
          "text": "count"
         }
        },
        "yaxis2": {
         "anchor": "x2",
         "domain": [
          0.34333333333333327,
          0.6566666666666665
         ],
         "matches": "y",
         "title": {
          "text": "count"
         }
        },
        "yaxis3": {
         "anchor": "x3",
         "domain": [
          0.6866666666666665,
          0.9999999999999998
         ],
         "matches": "y",
         "title": {
          "text": "count"
         }
        }
       }
      },
      "text/html": [
       "<div>                            <div id=\"e7f3359b-886e-4c42-8bfb-70de6f215e82\" class=\"plotly-graph-div\" style=\"height:600px; width:600px;\"></div>            <script type=\"text/javascript\">                require([\"plotly\"], function(Plotly) {                    window.PLOTLYENV=window.PLOTLYENV || {};                                    if (document.getElementById(\"e7f3359b-886e-4c42-8bfb-70de6f215e82\")) {                    Plotly.newPlot(                        \"e7f3359b-886e-4c42-8bfb-70de6f215e82\",                        [{\"alignmentgroup\":\"True\",\"bingroup\":\"x\",\"hovertemplate\":\"cluster=0.0<br>phase=training<br>target_str=%{x}<br>count=%{y}<extra></extra>\",\"legendgroup\":\"0.0\",\"marker\":{\"color\":\"#636efa\",\"pattern\":{\"shape\":\"\"}},\"name\":\"0.0\",\"offsetgroup\":\"0.0\",\"orientation\":\"v\",\"showlegend\":true,\"x\":[\"0.0\",\"1.0\",\"1.0\",\"0.0\",\"0.0\",\"1.0\",\"1.0\",\"0.0\",\"0.0\",\"1.0\",\"0.0\",\"0.0\",\"0.0\",\"1.0\",\"0.0\",\"0.0\",\"1.0\",\"0.0\",\"1.0\",\"1.0\",\"0.0\",\"0.0\",\"1.0\",\"0.0\",\"0.0\",\"0.0\",\"1.0\",\"1.0\",\"0.0\",\"0.0\",\"0.0\",\"1.0\",\"0.0\",\"1.0\",\"0.0\",\"0.0\",\"0.0\",\"0.0\",\"0.0\",\"0.0\",\"0.0\",\"0.0\",\"0.0\",\"0.0\",\"1.0\",\"0.0\",\"0.0\",\"0.0\",\"0.0\",\"0.0\",\"0.0\",\"0.0\",\"0.0\",\"0.0\",\"1.0\",\"0.0\",\"1.0\",\"0.0\",\"1.0\",\"1.0\",\"0.0\",\"0.0\",\"0.0\",\"0.0\",\"1.0\",\"0.0\",\"0.0\",\"0.0\",\"1.0\",\"1.0\",\"0.0\",\"1.0\",\"0.0\",\"0.0\",\"0.0\",\"0.0\",\"0.0\",\"0.0\",\"0.0\",\"0.0\",\"1.0\",\"1.0\",\"0.0\",\"1.0\",\"0.0\",\"0.0\",\"0.0\",\"0.0\",\"1.0\",\"1.0\",\"0.0\",\"0.0\",\"0.0\",\"0.0\",\"1.0\",\"1.0\",\"0.0\",\"0.0\",\"0.0\",\"0.0\",\"1.0\",\"0.0\",\"0.0\",\"0.0\",\"1.0\",\"0.0\",\"0.0\",\"0.0\",\"0.0\",\"0.0\",\"0.0\",\"0.0\",\"1.0\",\"1.0\",\"1.0\",\"0.0\",\"0.0\",\"0.0\",\"0.0\",\"1.0\",\"1.0\",\"1.0\",\"0.0\",\"0.0\",\"0.0\",\"0.0\",\"0.0\",\"1.0\",\"0.0\"],\"xaxis\":\"x3\",\"yaxis\":\"y3\",\"type\":\"histogram\"},{\"alignmentgroup\":\"True\",\"bingroup\":\"x\",\"hovertemplate\":\"cluster=0.0<br>phase=validation<br>target_str=%{x}<br>count=%{y}<extra></extra>\",\"legendgroup\":\"0.0\",\"marker\":{\"color\":\"#636efa\",\"pattern\":{\"shape\":\"\"}},\"name\":\"0.0\",\"offsetgroup\":\"0.0\",\"orientation\":\"v\",\"showlegend\":false,\"x\":[\"1.0\",\"1.0\",\"0.0\",\"0.0\",\"1.0\",\"0.0\",\"0.0\",\"0.0\",\"0.0\",\"1.0\",\"1.0\",\"0.0\",\"1.0\",\"0.0\",\"0.0\",\"1.0\",\"0.0\",\"1.0\",\"1.0\",\"0.0\",\"0.0\",\"0.0\",\"0.0\",\"0.0\",\"0.0\",\"0.0\",\"1.0\",\"0.0\",\"0.0\",\"0.0\",\"0.0\",\"0.0\",\"0.0\"],\"xaxis\":\"x2\",\"yaxis\":\"y2\",\"type\":\"histogram\"},{\"alignmentgroup\":\"True\",\"bingroup\":\"x\",\"hovertemplate\":\"cluster=1.0<br>phase=training<br>target_str=%{x}<br>count=%{y}<extra></extra>\",\"legendgroup\":\"1.0\",\"marker\":{\"color\":\"#EF553B\",\"pattern\":{\"shape\":\"\"}},\"name\":\"1.0\",\"offsetgroup\":\"1.0\",\"orientation\":\"v\",\"showlegend\":true,\"x\":[\"0.0\",\"1.0\",\"0.0\",\"1.0\",\"0.0\",\"1.0\",\"1.0\",\"0.0\",\"0.0\",\"1.0\",\"0.0\",\"1.0\",\"1.0\",\"0.0\",\"0.0\",\"1.0\",\"0.0\",\"1.0\",\"1.0\",\"1.0\",\"0.0\",\"1.0\",\"0.0\",\"0.0\",\"0.0\",\"0.0\",\"0.0\",\"1.0\",\"0.0\",\"0.0\",\"0.0\",\"0.0\"],\"xaxis\":\"x3\",\"yaxis\":\"y3\",\"type\":\"histogram\"},{\"alignmentgroup\":\"True\",\"bingroup\":\"x\",\"hovertemplate\":\"cluster=1.0<br>phase=validation<br>target_str=%{x}<br>count=%{y}<extra></extra>\",\"legendgroup\":\"1.0\",\"marker\":{\"color\":\"#EF553B\",\"pattern\":{\"shape\":\"\"}},\"name\":\"1.0\",\"offsetgroup\":\"1.0\",\"orientation\":\"v\",\"showlegend\":false,\"x\":[\"0.0\",\"0.0\",\"1.0\",\"1.0\",\"0.0\",\"0.0\",\"0.0\",\"1.0\",\"0.0\",\"1.0\"],\"xaxis\":\"x2\",\"yaxis\":\"y2\",\"type\":\"histogram\"},{\"alignmentgroup\":\"True\",\"bingroup\":\"x\",\"hovertemplate\":\"cluster=2.0<br>phase=training<br>target_str=%{x}<br>count=%{y}<extra></extra>\",\"legendgroup\":\"2.0\",\"marker\":{\"color\":\"#00cc96\",\"pattern\":{\"shape\":\"\"}},\"name\":\"2.0\",\"offsetgroup\":\"2.0\",\"orientation\":\"v\",\"showlegend\":true,\"x\":[\"1.0\",\"0.0\",\"1.0\",\"1.0\",\"1.0\",\"0.0\",\"0.0\",\"1.0\",\"1.0\",\"0.0\",\"1.0\",\"1.0\",\"1.0\",\"0.0\",\"0.0\",\"0.0\",\"1.0\",\"1.0\",\"1.0\",\"0.0\",\"1.0\",\"0.0\",\"1.0\",\"0.0\",\"0.0\",\"0.0\",\"1.0\",\"1.0\",\"1.0\",\"1.0\",\"0.0\",\"0.0\"],\"xaxis\":\"x3\",\"yaxis\":\"y3\",\"type\":\"histogram\"},{\"alignmentgroup\":\"True\",\"bingroup\":\"x\",\"hovertemplate\":\"cluster=2.0<br>phase=validation<br>target_str=%{x}<br>count=%{y}<extra></extra>\",\"legendgroup\":\"2.0\",\"marker\":{\"color\":\"#00cc96\",\"pattern\":{\"shape\":\"\"}},\"name\":\"2.0\",\"offsetgroup\":\"2.0\",\"orientation\":\"v\",\"showlegend\":false,\"x\":[\"0.0\",\"0.0\",\"1.0\",\"1.0\",\"1.0\",\"1.0\",\"1.0\",\"1.0\",\"0.0\",\"0.0\",\"0.0\"],\"xaxis\":\"x2\",\"yaxis\":\"y2\",\"type\":\"histogram\"},{\"alignmentgroup\":\"True\",\"bingroup\":\"x\",\"hovertemplate\":\"cluster=3.0<br>phase=testing<br>target_str=%{x}<br>count=%{y}<extra></extra>\",\"legendgroup\":\"3.0\",\"marker\":{\"color\":\"#ab63fa\",\"pattern\":{\"shape\":\"\"}},\"name\":\"3.0\",\"offsetgroup\":\"3.0\",\"orientation\":\"v\",\"showlegend\":true,\"x\":[\"0.0\",\"1.0\",\"0.0\",\"0.0\",\"1.0\",\"0.0\",\"0.0\",\"0.0\",\"1.0\",\"0.0\",\"1.0\",\"1.0\",\"1.0\",\"1.0\",\"0.0\",\"1.0\",\"0.0\",\"1.0\",\"0.0\",\"1.0\",\"0.0\",\"1.0\",\"1.0\",\"0.0\",\"1.0\",\"1.0\",\"0.0\",\"1.0\",\"1.0\",\"1.0\",\"1.0\",\"0.0\",\"0.0\",\"1.0\",\"0.0\",\"0.0\",\"0.0\",\"1.0\",\"1.0\",\"0.0\",\"0.0\",\"1.0\",\"0.0\",\"0.0\",\"0.0\",\"0.0\",\"0.0\",\"0.0\",\"0.0\",\"1.0\"],\"xaxis\":\"x\",\"yaxis\":\"y\",\"type\":\"histogram\"},{\"alignmentgroup\":\"True\",\"bingroup\":\"x\",\"hovertemplate\":\"cluster=4.0<br>phase=training<br>target_str=%{x}<br>count=%{y}<extra></extra>\",\"legendgroup\":\"4.0\",\"marker\":{\"color\":\"#FFA15A\",\"pattern\":{\"shape\":\"\"}},\"name\":\"4.0\",\"offsetgroup\":\"4.0\",\"orientation\":\"v\",\"showlegend\":true,\"x\":[\"1.0\",\"0.0\",\"0.0\",\"0.0\",\"1.0\",\"0.0\",\"0.0\",\"1.0\",\"0.0\",\"0.0\",\"1.0\",\"0.0\",\"0.0\",\"0.0\",\"1.0\",\"0.0\",\"1.0\",\"1.0\",\"1.0\",\"0.0\",\"0.0\",\"0.0\",\"1.0\",\"0.0\",\"1.0\",\"1.0\",\"1.0\",\"1.0\",\"1.0\",\"1.0\",\"1.0\",\"1.0\",\"0.0\"],\"xaxis\":\"x3\",\"yaxis\":\"y3\",\"type\":\"histogram\"},{\"alignmentgroup\":\"True\",\"bingroup\":\"x\",\"hovertemplate\":\"cluster=4.0<br>phase=validation<br>target_str=%{x}<br>count=%{y}<extra></extra>\",\"legendgroup\":\"4.0\",\"marker\":{\"color\":\"#FFA15A\",\"pattern\":{\"shape\":\"\"}},\"name\":\"4.0\",\"offsetgroup\":\"4.0\",\"orientation\":\"v\",\"showlegend\":false,\"x\":[\"1.0\",\"1.0\",\"1.0\",\"0.0\",\"0.0\",\"0.0\"],\"xaxis\":\"x2\",\"yaxis\":\"y2\",\"type\":\"histogram\"},{\"alignmentgroup\":\"True\",\"bingroup\":\"x\",\"hovertemplate\":\"cluster=5.0<br>phase=training<br>target_str=%{x}<br>count=%{y}<extra></extra>\",\"legendgroup\":\"5.0\",\"marker\":{\"color\":\"#19d3f3\",\"pattern\":{\"shape\":\"\"}},\"name\":\"5.0\",\"offsetgroup\":\"5.0\",\"orientation\":\"v\",\"showlegend\":true,\"x\":[\"1.0\",\"1.0\",\"0.0\",\"0.0\",\"0.0\",\"0.0\",\"0.0\",\"1.0\",\"0.0\",\"0.0\",\"1.0\",\"1.0\",\"0.0\",\"0.0\",\"0.0\",\"1.0\",\"1.0\",\"1.0\",\"1.0\",\"1.0\",\"1.0\",\"0.0\",\"0.0\",\"0.0\",\"1.0\",\"0.0\",\"1.0\",\"0.0\",\"1.0\",\"1.0\",\"0.0\",\"0.0\",\"0.0\",\"1.0\",\"1.0\",\"0.0\",\"0.0\",\"1.0\",\"1.0\",\"0.0\",\"1.0\",\"0.0\",\"1.0\",\"1.0\",\"1.0\",\"1.0\",\"1.0\",\"0.0\",\"1.0\",\"0.0\",\"0.0\",\"1.0\",\"0.0\",\"0.0\",\"0.0\",\"1.0\",\"0.0\",\"0.0\"],\"xaxis\":\"x3\",\"yaxis\":\"y3\",\"type\":\"histogram\"},{\"alignmentgroup\":\"True\",\"bingroup\":\"x\",\"hovertemplate\":\"cluster=5.0<br>phase=validation<br>target_str=%{x}<br>count=%{y}<extra></extra>\",\"legendgroup\":\"5.0\",\"marker\":{\"color\":\"#19d3f3\",\"pattern\":{\"shape\":\"\"}},\"name\":\"5.0\",\"offsetgroup\":\"5.0\",\"orientation\":\"v\",\"showlegend\":false,\"x\":[\"0.0\",\"1.0\",\"0.0\",\"0.0\",\"0.0\",\"1.0\",\"1.0\",\"1.0\"],\"xaxis\":\"x2\",\"yaxis\":\"y2\",\"type\":\"histogram\"},{\"alignmentgroup\":\"True\",\"bingroup\":\"x\",\"hovertemplate\":\"cluster=6.0<br>phase=training<br>target_str=%{x}<br>count=%{y}<extra></extra>\",\"legendgroup\":\"6.0\",\"marker\":{\"color\":\"#FF6692\",\"pattern\":{\"shape\":\"\"}},\"name\":\"6.0\",\"offsetgroup\":\"6.0\",\"orientation\":\"v\",\"showlegend\":true,\"x\":[\"1.0\",\"1.0\",\"1.0\",\"0.0\",\"0.0\",\"1.0\",\"0.0\",\"0.0\",\"1.0\",\"0.0\",\"0.0\",\"1.0\",\"1.0\",\"0.0\",\"1.0\",\"1.0\",\"0.0\",\"0.0\",\"1.0\",\"0.0\",\"1.0\",\"1.0\",\"1.0\",\"0.0\",\"1.0\",\"0.0\",\"0.0\",\"0.0\",\"1.0\",\"1.0\",\"1.0\",\"0.0\",\"0.0\",\"0.0\",\"1.0\",\"1.0\",\"0.0\",\"1.0\",\"1.0\",\"1.0\",\"0.0\",\"1.0\",\"1.0\",\"0.0\",\"1.0\",\"0.0\",\"0.0\",\"1.0\"],\"xaxis\":\"x3\",\"yaxis\":\"y3\",\"type\":\"histogram\"},{\"alignmentgroup\":\"True\",\"bingroup\":\"x\",\"hovertemplate\":\"cluster=6.0<br>phase=validation<br>target_str=%{x}<br>count=%{y}<extra></extra>\",\"legendgroup\":\"6.0\",\"marker\":{\"color\":\"#FF6692\",\"pattern\":{\"shape\":\"\"}},\"name\":\"6.0\",\"offsetgroup\":\"6.0\",\"orientation\":\"v\",\"showlegend\":false,\"x\":[\"1.0\",\"1.0\",\"0.0\",\"1.0\",\"0.0\",\"1.0\",\"0.0\",\"0.0\",\"0.0\",\"1.0\",\"0.0\"],\"xaxis\":\"x2\",\"yaxis\":\"y2\",\"type\":\"histogram\"},{\"alignmentgroup\":\"True\",\"bingroup\":\"x\",\"hovertemplate\":\"cluster=7.0<br>phase=training<br>target_str=%{x}<br>count=%{y}<extra></extra>\",\"legendgroup\":\"7.0\",\"marker\":{\"color\":\"#B6E880\",\"pattern\":{\"shape\":\"\"}},\"name\":\"7.0\",\"offsetgroup\":\"7.0\",\"orientation\":\"v\",\"showlegend\":true,\"x\":[\"1.0\",\"0.0\",\"0.0\",\"0.0\",\"1.0\",\"1.0\",\"1.0\",\"1.0\",\"0.0\",\"1.0\",\"1.0\",\"1.0\",\"0.0\",\"0.0\",\"1.0\",\"0.0\",\"0.0\",\"1.0\",\"0.0\",\"1.0\",\"0.0\",\"0.0\",\"0.0\",\"0.0\",\"1.0\",\"0.0\",\"1.0\",\"1.0\",\"0.0\",\"0.0\",\"0.0\",\"1.0\",\"1.0\",\"1.0\",\"1.0\",\"1.0\",\"0.0\",\"0.0\",\"1.0\",\"1.0\",\"0.0\"],\"xaxis\":\"x3\",\"yaxis\":\"y3\",\"type\":\"histogram\"},{\"alignmentgroup\":\"True\",\"bingroup\":\"x\",\"hovertemplate\":\"cluster=7.0<br>phase=validation<br>target_str=%{x}<br>count=%{y}<extra></extra>\",\"legendgroup\":\"7.0\",\"marker\":{\"color\":\"#B6E880\",\"pattern\":{\"shape\":\"\"}},\"name\":\"7.0\",\"offsetgroup\":\"7.0\",\"orientation\":\"v\",\"showlegend\":false,\"x\":[\"0.0\",\"1.0\",\"0.0\",\"1.0\",\"1.0\",\"0.0\",\"0.0\",\"0.0\",\"1.0\",\"1.0\",\"0.0\",\"0.0\",\"1.0\",\"0.0\",\"0.0\",\"1.0\",\"1.0\",\"1.0\"],\"xaxis\":\"x2\",\"yaxis\":\"y2\",\"type\":\"histogram\"},{\"alignmentgroup\":\"True\",\"bingroup\":\"x\",\"hovertemplate\":\"cluster=8.0<br>phase=training<br>target_str=%{x}<br>count=%{y}<extra></extra>\",\"legendgroup\":\"8.0\",\"marker\":{\"color\":\"#FF97FF\",\"pattern\":{\"shape\":\"\"}},\"name\":\"8.0\",\"offsetgroup\":\"8.0\",\"orientation\":\"v\",\"showlegend\":true,\"x\":[\"0.0\",\"1.0\",\"1.0\",\"0.0\",\"1.0\",\"1.0\",\"0.0\",\"0.0\",\"1.0\",\"1.0\",\"1.0\",\"0.0\",\"0.0\",\"0.0\",\"0.0\",\"1.0\",\"0.0\",\"0.0\",\"0.0\",\"1.0\",\"1.0\",\"0.0\",\"0.0\",\"0.0\",\"1.0\",\"1.0\",\"0.0\",\"0.0\",\"0.0\",\"0.0\",\"0.0\",\"0.0\",\"1.0\",\"1.0\",\"0.0\",\"0.0\",\"1.0\"],\"xaxis\":\"x3\",\"yaxis\":\"y3\",\"type\":\"histogram\"},{\"alignmentgroup\":\"True\",\"bingroup\":\"x\",\"hovertemplate\":\"cluster=8.0<br>phase=validation<br>target_str=%{x}<br>count=%{y}<extra></extra>\",\"legendgroup\":\"8.0\",\"marker\":{\"color\":\"#FF97FF\",\"pattern\":{\"shape\":\"\"}},\"name\":\"8.0\",\"offsetgroup\":\"8.0\",\"orientation\":\"v\",\"showlegend\":false,\"x\":[\"1.0\",\"0.0\",\"1.0\"],\"xaxis\":\"x2\",\"yaxis\":\"y2\",\"type\":\"histogram\"},{\"alignmentgroup\":\"True\",\"bingroup\":\"x\",\"hovertemplate\":\"cluster=9.0<br>phase=training<br>target_str=%{x}<br>count=%{y}<extra></extra>\",\"legendgroup\":\"9.0\",\"marker\":{\"color\":\"#FECB52\",\"pattern\":{\"shape\":\"\"}},\"name\":\"9.0\",\"offsetgroup\":\"9.0\",\"orientation\":\"v\",\"showlegend\":true,\"x\":[\"1.0\",\"1.0\",\"1.0\",\"0.0\",\"1.0\",\"1.0\",\"0.0\",\"0.0\",\"0.0\",\"1.0\",\"1.0\",\"1.0\",\"1.0\",\"0.0\",\"1.0\",\"1.0\",\"1.0\",\"0.0\",\"0.0\",\"0.0\",\"1.0\",\"0.0\",\"0.0\",\"1.0\",\"1.0\",\"1.0\",\"1.0\",\"1.0\",\"1.0\",\"1.0\",\"0.0\",\"1.0\",\"1.0\",\"1.0\",\"1.0\",\"1.0\",\"0.0\",\"1.0\",\"1.0\",\"0.0\",\"1.0\",\"0.0\",\"0.0\",\"1.0\",\"0.0\",\"1.0\",\"1.0\",\"1.0\",\"0.0\",\"1.0\",\"1.0\",\"0.0\",\"1.0\",\"1.0\",\"1.0\"],\"xaxis\":\"x3\",\"yaxis\":\"y3\",\"type\":\"histogram\"},{\"alignmentgroup\":\"True\",\"bingroup\":\"x\",\"hovertemplate\":\"cluster=9.0<br>phase=validation<br>target_str=%{x}<br>count=%{y}<extra></extra>\",\"legendgroup\":\"9.0\",\"marker\":{\"color\":\"#FECB52\",\"pattern\":{\"shape\":\"\"}},\"name\":\"9.0\",\"offsetgroup\":\"9.0\",\"orientation\":\"v\",\"showlegend\":false,\"x\":[\"0.0\",\"1.0\",\"1.0\",\"1.0\",\"0.0\",\"0.0\",\"0.0\",\"1.0\",\"1.0\",\"0.0\",\"0.0\",\"1.0\",\"1.0\"],\"xaxis\":\"x2\",\"yaxis\":\"y2\",\"type\":\"histogram\"},{\"alignmentgroup\":\"True\",\"bingroup\":\"x\",\"hovertemplate\":\"cluster=10.0<br>phase=training<br>target_str=%{x}<br>count=%{y}<extra></extra>\",\"legendgroup\":\"10.0\",\"marker\":{\"color\":\"#636efa\",\"pattern\":{\"shape\":\"\"}},\"name\":\"10.0\",\"offsetgroup\":\"10.0\",\"orientation\":\"v\",\"showlegend\":true,\"x\":[\"0.0\",\"1.0\",\"1.0\",\"0.0\",\"1.0\",\"0.0\",\"1.0\",\"1.0\",\"0.0\",\"1.0\",\"0.0\",\"0.0\",\"0.0\",\"1.0\",\"1.0\",\"0.0\",\"0.0\",\"0.0\",\"0.0\",\"0.0\",\"0.0\",\"1.0\",\"0.0\",\"1.0\",\"1.0\",\"1.0\",\"0.0\",\"0.0\",\"1.0\",\"0.0\",\"1.0\",\"0.0\",\"1.0\",\"0.0\",\"1.0\",\"1.0\",\"0.0\",\"0.0\",\"1.0\",\"0.0\",\"0.0\",\"0.0\",\"0.0\",\"1.0\",\"0.0\",\"1.0\",\"1.0\",\"1.0\"],\"xaxis\":\"x3\",\"yaxis\":\"y3\",\"type\":\"histogram\"},{\"alignmentgroup\":\"True\",\"bingroup\":\"x\",\"hovertemplate\":\"cluster=10.0<br>phase=validation<br>target_str=%{x}<br>count=%{y}<extra></extra>\",\"legendgroup\":\"10.0\",\"marker\":{\"color\":\"#636efa\",\"pattern\":{\"shape\":\"\"}},\"name\":\"10.0\",\"offsetgroup\":\"10.0\",\"orientation\":\"v\",\"showlegend\":false,\"x\":[\"1.0\",\"1.0\",\"0.0\",\"1.0\",\"1.0\",\"1.0\",\"1.0\",\"1.0\",\"0.0\",\"0.0\",\"1.0\",\"0.0\",\"0.0\",\"0.0\",\"1.0\",\"0.0\"],\"xaxis\":\"x2\",\"yaxis\":\"y2\",\"type\":\"histogram\"}],                        {\"template\":{\"data\":{\"histogram2dcontour\":[{\"type\":\"histogram2dcontour\",\"colorbar\":{\"outlinewidth\":0,\"ticks\":\"\"},\"colorscale\":[[0.0,\"#0d0887\"],[0.1111111111111111,\"#46039f\"],[0.2222222222222222,\"#7201a8\"],[0.3333333333333333,\"#9c179e\"],[0.4444444444444444,\"#bd3786\"],[0.5555555555555556,\"#d8576b\"],[0.6666666666666666,\"#ed7953\"],[0.7777777777777778,\"#fb9f3a\"],[0.8888888888888888,\"#fdca26\"],[1.0,\"#f0f921\"]]}],\"choropleth\":[{\"type\":\"choropleth\",\"colorbar\":{\"outlinewidth\":0,\"ticks\":\"\"}}],\"histogram2d\":[{\"type\":\"histogram2d\",\"colorbar\":{\"outlinewidth\":0,\"ticks\":\"\"},\"colorscale\":[[0.0,\"#0d0887\"],[0.1111111111111111,\"#46039f\"],[0.2222222222222222,\"#7201a8\"],[0.3333333333333333,\"#9c179e\"],[0.4444444444444444,\"#bd3786\"],[0.5555555555555556,\"#d8576b\"],[0.6666666666666666,\"#ed7953\"],[0.7777777777777778,\"#fb9f3a\"],[0.8888888888888888,\"#fdca26\"],[1.0,\"#f0f921\"]]}],\"heatmap\":[{\"type\":\"heatmap\",\"colorbar\":{\"outlinewidth\":0,\"ticks\":\"\"},\"colorscale\":[[0.0,\"#0d0887\"],[0.1111111111111111,\"#46039f\"],[0.2222222222222222,\"#7201a8\"],[0.3333333333333333,\"#9c179e\"],[0.4444444444444444,\"#bd3786\"],[0.5555555555555556,\"#d8576b\"],[0.6666666666666666,\"#ed7953\"],[0.7777777777777778,\"#fb9f3a\"],[0.8888888888888888,\"#fdca26\"],[1.0,\"#f0f921\"]]}],\"heatmapgl\":[{\"type\":\"heatmapgl\",\"colorbar\":{\"outlinewidth\":0,\"ticks\":\"\"},\"colorscale\":[[0.0,\"#0d0887\"],[0.1111111111111111,\"#46039f\"],[0.2222222222222222,\"#7201a8\"],[0.3333333333333333,\"#9c179e\"],[0.4444444444444444,\"#bd3786\"],[0.5555555555555556,\"#d8576b\"],[0.6666666666666666,\"#ed7953\"],[0.7777777777777778,\"#fb9f3a\"],[0.8888888888888888,\"#fdca26\"],[1.0,\"#f0f921\"]]}],\"contourcarpet\":[{\"type\":\"contourcarpet\",\"colorbar\":{\"outlinewidth\":0,\"ticks\":\"\"}}],\"contour\":[{\"type\":\"contour\",\"colorbar\":{\"outlinewidth\":0,\"ticks\":\"\"},\"colorscale\":[[0.0,\"#0d0887\"],[0.1111111111111111,\"#46039f\"],[0.2222222222222222,\"#7201a8\"],[0.3333333333333333,\"#9c179e\"],[0.4444444444444444,\"#bd3786\"],[0.5555555555555556,\"#d8576b\"],[0.6666666666666666,\"#ed7953\"],[0.7777777777777778,\"#fb9f3a\"],[0.8888888888888888,\"#fdca26\"],[1.0,\"#f0f921\"]]}],\"surface\":[{\"type\":\"surface\",\"colorbar\":{\"outlinewidth\":0,\"ticks\":\"\"},\"colorscale\":[[0.0,\"#0d0887\"],[0.1111111111111111,\"#46039f\"],[0.2222222222222222,\"#7201a8\"],[0.3333333333333333,\"#9c179e\"],[0.4444444444444444,\"#bd3786\"],[0.5555555555555556,\"#d8576b\"],[0.6666666666666666,\"#ed7953\"],[0.7777777777777778,\"#fb9f3a\"],[0.8888888888888888,\"#fdca26\"],[1.0,\"#f0f921\"]]}],\"mesh3d\":[{\"type\":\"mesh3d\",\"colorbar\":{\"outlinewidth\":0,\"ticks\":\"\"}}],\"scatter\":[{\"fillpattern\":{\"fillmode\":\"overlay\",\"size\":10,\"solidity\":0.2},\"type\":\"scatter\"}],\"parcoords\":[{\"type\":\"parcoords\",\"line\":{\"colorbar\":{\"outlinewidth\":0,\"ticks\":\"\"}}}],\"scatterpolargl\":[{\"type\":\"scatterpolargl\",\"marker\":{\"colorbar\":{\"outlinewidth\":0,\"ticks\":\"\"}}}],\"bar\":[{\"error_x\":{\"color\":\"#2a3f5f\"},\"error_y\":{\"color\":\"#2a3f5f\"},\"marker\":{\"line\":{\"color\":\"#E5ECF6\",\"width\":0.5},\"pattern\":{\"fillmode\":\"overlay\",\"size\":10,\"solidity\":0.2}},\"type\":\"bar\"}],\"scattergeo\":[{\"type\":\"scattergeo\",\"marker\":{\"colorbar\":{\"outlinewidth\":0,\"ticks\":\"\"}}}],\"scatterpolar\":[{\"type\":\"scatterpolar\",\"marker\":{\"colorbar\":{\"outlinewidth\":0,\"ticks\":\"\"}}}],\"histogram\":[{\"marker\":{\"pattern\":{\"fillmode\":\"overlay\",\"size\":10,\"solidity\":0.2}},\"type\":\"histogram\"}],\"scattergl\":[{\"type\":\"scattergl\",\"marker\":{\"colorbar\":{\"outlinewidth\":0,\"ticks\":\"\"}}}],\"scatter3d\":[{\"type\":\"scatter3d\",\"line\":{\"colorbar\":{\"outlinewidth\":0,\"ticks\":\"\"}},\"marker\":{\"colorbar\":{\"outlinewidth\":0,\"ticks\":\"\"}}}],\"scattermapbox\":[{\"type\":\"scattermapbox\",\"marker\":{\"colorbar\":{\"outlinewidth\":0,\"ticks\":\"\"}}}],\"scatterternary\":[{\"type\":\"scatterternary\",\"marker\":{\"colorbar\":{\"outlinewidth\":0,\"ticks\":\"\"}}}],\"scattercarpet\":[{\"type\":\"scattercarpet\",\"marker\":{\"colorbar\":{\"outlinewidth\":0,\"ticks\":\"\"}}}],\"carpet\":[{\"aaxis\":{\"endlinecolor\":\"#2a3f5f\",\"gridcolor\":\"white\",\"linecolor\":\"white\",\"minorgridcolor\":\"white\",\"startlinecolor\":\"#2a3f5f\"},\"baxis\":{\"endlinecolor\":\"#2a3f5f\",\"gridcolor\":\"white\",\"linecolor\":\"white\",\"minorgridcolor\":\"white\",\"startlinecolor\":\"#2a3f5f\"},\"type\":\"carpet\"}],\"table\":[{\"cells\":{\"fill\":{\"color\":\"#EBF0F8\"},\"line\":{\"color\":\"white\"}},\"header\":{\"fill\":{\"color\":\"#C8D4E3\"},\"line\":{\"color\":\"white\"}},\"type\":\"table\"}],\"barpolar\":[{\"marker\":{\"line\":{\"color\":\"#E5ECF6\",\"width\":0.5},\"pattern\":{\"fillmode\":\"overlay\",\"size\":10,\"solidity\":0.2}},\"type\":\"barpolar\"}],\"pie\":[{\"automargin\":true,\"type\":\"pie\"}]},\"layout\":{\"autotypenumbers\":\"strict\",\"colorway\":[\"#636efa\",\"#EF553B\",\"#00cc96\",\"#ab63fa\",\"#FFA15A\",\"#19d3f3\",\"#FF6692\",\"#B6E880\",\"#FF97FF\",\"#FECB52\"],\"font\":{\"color\":\"#2a3f5f\"},\"hovermode\":\"closest\",\"hoverlabel\":{\"align\":\"left\"},\"paper_bgcolor\":\"white\",\"plot_bgcolor\":\"#E5ECF6\",\"polar\":{\"bgcolor\":\"#E5ECF6\",\"angularaxis\":{\"gridcolor\":\"white\",\"linecolor\":\"white\",\"ticks\":\"\"},\"radialaxis\":{\"gridcolor\":\"white\",\"linecolor\":\"white\",\"ticks\":\"\"}},\"ternary\":{\"bgcolor\":\"#E5ECF6\",\"aaxis\":{\"gridcolor\":\"white\",\"linecolor\":\"white\",\"ticks\":\"\"},\"baxis\":{\"gridcolor\":\"white\",\"linecolor\":\"white\",\"ticks\":\"\"},\"caxis\":{\"gridcolor\":\"white\",\"linecolor\":\"white\",\"ticks\":\"\"}},\"coloraxis\":{\"colorbar\":{\"outlinewidth\":0,\"ticks\":\"\"}},\"colorscale\":{\"sequential\":[[0.0,\"#0d0887\"],[0.1111111111111111,\"#46039f\"],[0.2222222222222222,\"#7201a8\"],[0.3333333333333333,\"#9c179e\"],[0.4444444444444444,\"#bd3786\"],[0.5555555555555556,\"#d8576b\"],[0.6666666666666666,\"#ed7953\"],[0.7777777777777778,\"#fb9f3a\"],[0.8888888888888888,\"#fdca26\"],[1.0,\"#f0f921\"]],\"sequentialminus\":[[0.0,\"#0d0887\"],[0.1111111111111111,\"#46039f\"],[0.2222222222222222,\"#7201a8\"],[0.3333333333333333,\"#9c179e\"],[0.4444444444444444,\"#bd3786\"],[0.5555555555555556,\"#d8576b\"],[0.6666666666666666,\"#ed7953\"],[0.7777777777777778,\"#fb9f3a\"],[0.8888888888888888,\"#fdca26\"],[1.0,\"#f0f921\"]],\"diverging\":[[0,\"#8e0152\"],[0.1,\"#c51b7d\"],[0.2,\"#de77ae\"],[0.3,\"#f1b6da\"],[0.4,\"#fde0ef\"],[0.5,\"#f7f7f7\"],[0.6,\"#e6f5d0\"],[0.7,\"#b8e186\"],[0.8,\"#7fbc41\"],[0.9,\"#4d9221\"],[1,\"#276419\"]]},\"xaxis\":{\"gridcolor\":\"white\",\"linecolor\":\"white\",\"ticks\":\"\",\"title\":{\"standoff\":15},\"zerolinecolor\":\"white\",\"automargin\":true,\"zerolinewidth\":2},\"yaxis\":{\"gridcolor\":\"white\",\"linecolor\":\"white\",\"ticks\":\"\",\"title\":{\"standoff\":15},\"zerolinecolor\":\"white\",\"automargin\":true,\"zerolinewidth\":2},\"scene\":{\"xaxis\":{\"backgroundcolor\":\"#E5ECF6\",\"gridcolor\":\"white\",\"linecolor\":\"white\",\"showbackground\":true,\"ticks\":\"\",\"zerolinecolor\":\"white\",\"gridwidth\":2},\"yaxis\":{\"backgroundcolor\":\"#E5ECF6\",\"gridcolor\":\"white\",\"linecolor\":\"white\",\"showbackground\":true,\"ticks\":\"\",\"zerolinecolor\":\"white\",\"gridwidth\":2},\"zaxis\":{\"backgroundcolor\":\"#E5ECF6\",\"gridcolor\":\"white\",\"linecolor\":\"white\",\"showbackground\":true,\"ticks\":\"\",\"zerolinecolor\":\"white\",\"gridwidth\":2}},\"shapedefaults\":{\"line\":{\"color\":\"#2a3f5f\"}},\"annotationdefaults\":{\"arrowcolor\":\"#2a3f5f\",\"arrowhead\":0,\"arrowwidth\":1},\"geo\":{\"bgcolor\":\"white\",\"landcolor\":\"#E5ECF6\",\"subunitcolor\":\"white\",\"showland\":true,\"showlakes\":true,\"lakecolor\":\"white\"},\"title\":{\"x\":0.05},\"mapbox\":{\"style\":\"light\"}}},\"xaxis\":{\"anchor\":\"y\",\"domain\":[0.0,0.98],\"title\":{\"text\":\"target_str\"}},\"yaxis\":{\"anchor\":\"x\",\"domain\":[0.0,0.3133333333333333],\"title\":{\"text\":\"count\"}},\"xaxis2\":{\"anchor\":\"y2\",\"domain\":[0.0,0.98],\"matches\":\"x\",\"showticklabels\":false},\"yaxis2\":{\"anchor\":\"x2\",\"domain\":[0.34333333333333327,0.6566666666666665],\"matches\":\"y\",\"title\":{\"text\":\"count\"}},\"xaxis3\":{\"anchor\":\"y3\",\"domain\":[0.0,0.98],\"matches\":\"x\",\"showticklabels\":false},\"yaxis3\":{\"anchor\":\"x3\",\"domain\":[0.6866666666666665,0.9999999999999998],\"matches\":\"y\",\"title\":{\"text\":\"count\"}},\"annotations\":[{\"font\":{},\"showarrow\":false,\"text\":\"phase=testing\",\"textangle\":90,\"x\":0.98,\"xanchor\":\"left\",\"xref\":\"paper\",\"y\":0.15666666666666665,\"yanchor\":\"middle\",\"yref\":\"paper\"},{\"font\":{},\"showarrow\":false,\"text\":\"phase=validation\",\"textangle\":90,\"x\":0.98,\"xanchor\":\"left\",\"xref\":\"paper\",\"y\":0.4999999999999999,\"yanchor\":\"middle\",\"yref\":\"paper\"},{\"font\":{},\"showarrow\":false,\"text\":\"phase=training\",\"textangle\":90,\"x\":0.98,\"xanchor\":\"left\",\"xref\":\"paper\",\"y\":0.8433333333333332,\"yanchor\":\"middle\",\"yref\":\"paper\"}],\"legend\":{\"title\":{\"text\":\"cluster\"},\"tracegroupgap\":0},\"margin\":{\"b\":50,\"l\":50,\"pad\":4,\"r\":50,\"t\":50},\"barmode\":\"relative\",\"title\":{\"text\":\"Target\",\"x\":0.5},\"width\":600,\"height\":600,\"showlegend\":true,\"bargap\":0.3,\"bargroupgap\":0.0},                        {\"responsive\": true}                    ).then(function(){\n",
       "                            \n",
       "var gd = document.getElementById('e7f3359b-886e-4c42-8bfb-70de6f215e82');\n",
       "var x = new MutationObserver(function (mutations, observer) {{\n",
       "        var display = window.getComputedStyle(gd).display;\n",
       "        if (!display || display === 'none') {{\n",
       "            console.log([gd, 'removed!']);\n",
       "            Plotly.purge(gd);\n",
       "            observer.disconnect();\n",
       "        }}\n",
       "}});\n",
       "\n",
       "// Listen for the removal of the full notebook cells\n",
       "var notebookContainer = gd.closest('#notebook-container');\n",
       "if (notebookContainer) {{\n",
       "    x.observe(notebookContainer, {childList: true});\n",
       "}}\n",
       "\n",
       "// Listen for the clearing of the current output cell\n",
       "var outputEl = gd.closest('.output');\n",
       "if (outputEl) {{\n",
       "    x.observe(outputEl, {childList: true});\n",
       "}}\n",
       "\n",
       "                        })                };                });            </script>        </div>"
      ]
     },
     "metadata": {},
     "output_type": "display_data"
    }
   ],
   "source": [
    "if cluster_dataset is not None: \n",
    "    clusters = df_plot[cluster_dataset].unique()\n",
    "    clusters.sort()\n",
    "    clusters = list(clusters)\n",
    "    df_plot['target_str'] = df_plot['target'].astype(str)\n",
    "    # The histogram of scores compared to true labels\n",
    "    fig = px.histogram(\n",
    "        df_plot,\n",
    "        x='target_str',\n",
    "        color=df_plot[cluster_dataset],\n",
    "        facet_row='phase',\n",
    "        category_orders={'phase': [\n",
    "            'training',\n",
    "            \"validation\",\n",
    "            \"testing\"],\n",
    "            cluster_dataset: clusters}\n",
    "    )\n",
    "    fig.update_layout(\n",
    "        width=600, height=600,\n",
    "        showlegend=True,\n",
    "        title='Target',\n",
    "        title_x=0.5,\n",
    "        margin=go.layout.Margin(\n",
    "            l=50,\n",
    "            r=50,\n",
    "            b=50,\n",
    "            t=50,\n",
    "            pad=4\n",
    "        )\n",
    "    )\n",
    "    # fig.update_yaxes(range=[0, 2700], constrain='domain')\n",
    "    fig.update_layout(bargap=0.30,bargroupgap=0.0)\n",
    "    fig.write_html(os.path.join(img_path, 'target_only.html'))"
   ]
  },
  {
   "cell_type": "markdown",
   "metadata": {},
   "source": [
    "### Target and score distributions per target and cluster"
   ]
  },
  {
   "cell_type": "code",
   "execution_count": 16,
   "metadata": {},
   "outputs": [],
   "source": [
    "if cluster_dataset is not None:\n",
    "    clusters = df_plot[cluster_dataset].unique()\n",
    "    clusters.sort()\n",
    "    clusters = list(clusters)\n",
    "    # The histogram of scores compared to true labels\n",
    "    fig = px.histogram(\n",
    "        df_plot,\n",
    "        x=y_score,\n",
    "        color=df_plot[cluster_dataset],\n",
    "        nbins=20,\n",
    "        facet_col='target',\n",
    "        facet_row='phase',\n",
    "        labels=dict(color='True Labels', x='Score'),\n",
    "        category_orders={'phase': [\n",
    "            'training',\n",
    "            \"validation\",\n",
    "            \"testing\"],\n",
    "            cluster_dataset: clusters}\n",
    "    )\n",
    "    fig.update_layout(\n",
    "        width=900, height=600,\n",
    "        showlegend=True,\n",
    "        title='Target and scores',\n",
    "        title_x=0.5,\n",
    "        margin=go.layout.Margin(\n",
    "            l=50,\n",
    "            r=50,\n",
    "            b=50,\n",
    "            t=50,\n",
    "            pad=4\n",
    "        ),\n",
    "        legend=dict(\n",
    "            yanchor=\"top\",\n",
    "            y = 1.05,\n",
    "            xanchor=\"left\",\n",
    "            x=0.87\n",
    "            )\n",
    "    )\n",
    "    fig.update_xaxes(range=[0, 1], constrain='domain')\n",
    "    fig.update_yaxes(range=[0, 750], constrain='domain')\n",
    "    fig.write_html(os.path.join(img_path, 'target_scores.html'))"
   ]
  },
  {
   "cell_type": "markdown",
   "metadata": {},
   "source": [
    "### AUC and PR curves"
   ]
  },
  {
   "cell_type": "code",
   "execution_count": 17,
   "metadata": {},
   "outputs": [],
   "source": [
    "fig = make_subplots(rows=1, cols=2, subplot_titles = ['ROC Curves (AUC)', 'PR Curves (AUCPR)'], horizontal_spacing = 0.05)\n",
    "colors = [\"darkcyan\", \"coral\", \"cornflowerblue\"]\n",
    "\n",
    "for idx, set in enumerate(['training', 'validation', 'testing']):\n",
    "    df_plot_phase = df_plot[(df_plot.phase == set)]\n",
    "    y_true = df_plot_phase.target\n",
    "    y_score = np.array(df_plot_phase.output.values.tolist())[:, 1]\n",
    "\n",
    "    fpr_roc, tpr_roc, thr_roc = roc_curve(y_true, y_score)\n",
    "    pr_pr, rec_pr, thr_pr = precision_recall_curve(y_true, y_score)\n",
    "\n",
    "    name_roc = f'AUC={auc(fpr_roc, tpr_roc):.4f}'\n",
    "    name_pr = f'AUCPR={average_precision_score(y_true, y_score):.4f}'\n",
    "\n",
    "    fig.add_trace(go.Scatter(\n",
    "        x=fpr_roc,\n",
    "        y=tpr_roc,\n",
    "        name=name_roc,\n",
    "        mode='markers+lines',\n",
    "        legendgroup=set,\n",
    "        legendgrouptitle_text=f\"{set}\",\n",
    "        marker_color = colors[idx]),\n",
    "        row=1,\n",
    "        col=1)\n",
    "    fig.add_trace(go.Scatter(\n",
    "        x=rec_pr,\n",
    "        y=pr_pr,\n",
    "        name=name_pr,\n",
    "        mode='markers+lines',\n",
    "        legendgroup=set,\n",
    "        marker_color = colors[idx]),\n",
    "        row=1,\n",
    "        col=2)\n",
    "\n",
    "fig.add_shape(\n",
    "    type='line', line=dict(dash='dash'),\n",
    "    x0=0, x1=1, y0=0, y1=1,\n",
    "    row = 1, col = 1\n",
    ")\n",
    "fig.add_shape(\n",
    "    type='line', line=dict(dash='dash'),\n",
    "    x0=0, x1=1, y0=1, y1=0,\n",
    "    row = 1, col = 2 \n",
    ")\n",
    "fig.update_layout(\n",
    "    width=900, height=400,\n",
    "    margin=go.layout.Margin(\n",
    "        l=50,\n",
    "        r=50,\n",
    "        b=50,\n",
    "        t=50,\n",
    "        pad=4\n",
    "    ),\n",
    "    legend=dict(\n",
    "        yanchor=\"top\",\n",
    "        y=1.05,\n",
    "        xanchor=\"left\",\n",
    "        x=0.95\n",
    "        ))\n",
    "fig.update_xaxes(title_text=\"FPR\", constrain='domain', scaleratio = 1, row=1, col=1)\n",
    "fig.update_yaxes(title_text=\"TPR (Recall)\", constrain='domain', scaleanchor = \"x\", scaleratio = 1, row=1, col=1)\n",
    "fig.update_xaxes(title_text=\"Recall\", constrain='domain', scaleanchor = \"y\", scaleratio = 1, row=1, col=2)\n",
    "fig.update_yaxes(title_text=\"Precision\", constrain='domain', scaleratio = 1, row=1, col=2)\n",
    "fig.write_html(os.path.join(img_path, 'auc_aucpr.html'))"
   ]
  },
  {
   "attachments": {},
   "cell_type": "markdown",
   "metadata": {},
   "source": [
    "### Metrics vs thresholds curves"
   ]
  },
  {
   "cell_type": "code",
   "execution_count": 18,
   "metadata": {},
   "outputs": [
    {
     "name": "stderr",
     "output_type": "stream",
     "text": [
      "/home/ccrocion/anaconda3/envs/deeprank/lib/python3.9/site-packages/sklearn/metrics/_classification.py:1327: UndefinedMetricWarning:\n",
      "\n",
      "Precision is ill-defined and being set to 0.0 due to no predicted samples. Use `zero_division` parameter to control this behavior.\n",
      "\n",
      "/home/ccrocion/anaconda3/envs/deeprank/lib/python3.9/site-packages/sklearn/metrics/_classification.py:1327: UndefinedMetricWarning:\n",
      "\n",
      "Precision is ill-defined and being set to 0.0 due to no predicted samples. Use `zero_division` parameter to control this behavior.\n",
      "\n",
      "/home/ccrocion/anaconda3/envs/deeprank/lib/python3.9/site-packages/sklearn/metrics/_classification.py:1327: UndefinedMetricWarning:\n",
      "\n",
      "Precision is ill-defined and being set to 0.0 due to no predicted samples. Use `zero_division` parameter to control this behavior.\n",
      "\n",
      "/home/ccrocion/anaconda3/envs/deeprank/lib/python3.9/site-packages/sklearn/metrics/_classification.py:1327: UndefinedMetricWarning:\n",
      "\n",
      "Precision is ill-defined and being set to 0.0 due to no predicted samples. Use `zero_division` parameter to control this behavior.\n",
      "\n",
      "/home/ccrocion/anaconda3/envs/deeprank/lib/python3.9/site-packages/sklearn/metrics/_classification.py:1327: UndefinedMetricWarning:\n",
      "\n",
      "Precision is ill-defined and being set to 0.0 due to no predicted samples. Use `zero_division` parameter to control this behavior.\n",
      "\n",
      "/home/ccrocion/anaconda3/envs/deeprank/lib/python3.9/site-packages/sklearn/metrics/_classification.py:1327: UndefinedMetricWarning:\n",
      "\n",
      "Precision is ill-defined and being set to 0.0 due to no predicted samples. Use `zero_division` parameter to control this behavior.\n",
      "\n",
      "/home/ccrocion/anaconda3/envs/deeprank/lib/python3.9/site-packages/sklearn/metrics/_classification.py:1327: UndefinedMetricWarning:\n",
      "\n",
      "Precision is ill-defined and being set to 0.0 due to no predicted samples. Use `zero_division` parameter to control this behavior.\n",
      "\n",
      "/home/ccrocion/anaconda3/envs/deeprank/lib/python3.9/site-packages/sklearn/metrics/_classification.py:1327: UndefinedMetricWarning:\n",
      "\n",
      "Precision is ill-defined and being set to 0.0 due to no predicted samples. Use `zero_division` parameter to control this behavior.\n",
      "\n",
      "/home/ccrocion/anaconda3/envs/deeprank/lib/python3.9/site-packages/sklearn/metrics/_classification.py:1327: UndefinedMetricWarning:\n",
      "\n",
      "Precision is ill-defined and being set to 0.0 due to no predicted samples. Use `zero_division` parameter to control this behavior.\n",
      "\n",
      "/home/ccrocion/anaconda3/envs/deeprank/lib/python3.9/site-packages/sklearn/metrics/_classification.py:1327: UndefinedMetricWarning:\n",
      "\n",
      "Precision is ill-defined and being set to 0.0 due to no predicted samples. Use `zero_division` parameter to control this behavior.\n",
      "\n",
      "/home/ccrocion/anaconda3/envs/deeprank/lib/python3.9/site-packages/sklearn/metrics/_classification.py:1327: UndefinedMetricWarning:\n",
      "\n",
      "Precision is ill-defined and being set to 0.0 due to no predicted samples. Use `zero_division` parameter to control this behavior.\n",
      "\n",
      "/home/ccrocion/anaconda3/envs/deeprank/lib/python3.9/site-packages/sklearn/metrics/_classification.py:1327: UndefinedMetricWarning:\n",
      "\n",
      "Precision is ill-defined and being set to 0.0 due to no predicted samples. Use `zero_division` parameter to control this behavior.\n",
      "\n",
      "/home/ccrocion/anaconda3/envs/deeprank/lib/python3.9/site-packages/sklearn/metrics/_classification.py:1327: UndefinedMetricWarning:\n",
      "\n",
      "Precision is ill-defined and being set to 0.0 due to no predicted samples. Use `zero_division` parameter to control this behavior.\n",
      "\n",
      "/home/ccrocion/anaconda3/envs/deeprank/lib/python3.9/site-packages/sklearn/metrics/_classification.py:1327: UndefinedMetricWarning:\n",
      "\n",
      "Precision is ill-defined and being set to 0.0 due to no predicted samples. Use `zero_division` parameter to control this behavior.\n",
      "\n",
      "/home/ccrocion/anaconda3/envs/deeprank/lib/python3.9/site-packages/sklearn/metrics/_classification.py:1327: UndefinedMetricWarning:\n",
      "\n",
      "Precision is ill-defined and being set to 0.0 due to no predicted samples. Use `zero_division` parameter to control this behavior.\n",
      "\n",
      "/home/ccrocion/anaconda3/envs/deeprank/lib/python3.9/site-packages/sklearn/metrics/_classification.py:1327: UndefinedMetricWarning:\n",
      "\n",
      "Precision is ill-defined and being set to 0.0 due to no predicted samples. Use `zero_division` parameter to control this behavior.\n",
      "\n",
      "/home/ccrocion/anaconda3/envs/deeprank/lib/python3.9/site-packages/sklearn/metrics/_classification.py:1327: UndefinedMetricWarning:\n",
      "\n",
      "Precision is ill-defined and being set to 0.0 due to no predicted samples. Use `zero_division` parameter to control this behavior.\n",
      "\n",
      "/home/ccrocion/anaconda3/envs/deeprank/lib/python3.9/site-packages/sklearn/metrics/_classification.py:1327: UndefinedMetricWarning:\n",
      "\n",
      "Precision is ill-defined and being set to 0.0 due to no predicted samples. Use `zero_division` parameter to control this behavior.\n",
      "\n",
      "/home/ccrocion/anaconda3/envs/deeprank/lib/python3.9/site-packages/sklearn/metrics/_classification.py:1327: UndefinedMetricWarning:\n",
      "\n",
      "Precision is ill-defined and being set to 0.0 due to no predicted samples. Use `zero_division` parameter to control this behavior.\n",
      "\n",
      "/home/ccrocion/anaconda3/envs/deeprank/lib/python3.9/site-packages/sklearn/metrics/_classification.py:1327: UndefinedMetricWarning:\n",
      "\n",
      "Precision is ill-defined and being set to 0.0 due to no predicted samples. Use `zero_division` parameter to control this behavior.\n",
      "\n",
      "/home/ccrocion/anaconda3/envs/deeprank/lib/python3.9/site-packages/sklearn/metrics/_classification.py:1327: UndefinedMetricWarning:\n",
      "\n",
      "Precision is ill-defined and being set to 0.0 due to no predicted samples. Use `zero_division` parameter to control this behavior.\n",
      "\n",
      "/home/ccrocion/anaconda3/envs/deeprank/lib/python3.9/site-packages/sklearn/metrics/_classification.py:1327: UndefinedMetricWarning:\n",
      "\n",
      "Precision is ill-defined and being set to 0.0 due to no predicted samples. Use `zero_division` parameter to control this behavior.\n",
      "\n",
      "/home/ccrocion/anaconda3/envs/deeprank/lib/python3.9/site-packages/sklearn/metrics/_classification.py:1327: UndefinedMetricWarning:\n",
      "\n",
      "Precision is ill-defined and being set to 0.0 due to no predicted samples. Use `zero_division` parameter to control this behavior.\n",
      "\n",
      "/home/ccrocion/anaconda3/envs/deeprank/lib/python3.9/site-packages/sklearn/metrics/_classification.py:1327: UndefinedMetricWarning:\n",
      "\n",
      "Precision is ill-defined and being set to 0.0 due to no predicted samples. Use `zero_division` parameter to control this behavior.\n",
      "\n",
      "/home/ccrocion/anaconda3/envs/deeprank/lib/python3.9/site-packages/sklearn/metrics/_classification.py:1327: UndefinedMetricWarning:\n",
      "\n",
      "Precision is ill-defined and being set to 0.0 due to no predicted samples. Use `zero_division` parameter to control this behavior.\n",
      "\n",
      "/home/ccrocion/anaconda3/envs/deeprank/lib/python3.9/site-packages/sklearn/metrics/_classification.py:1327: UndefinedMetricWarning:\n",
      "\n",
      "Precision is ill-defined and being set to 0.0 due to no predicted samples. Use `zero_division` parameter to control this behavior.\n",
      "\n",
      "/home/ccrocion/anaconda3/envs/deeprank/lib/python3.9/site-packages/sklearn/metrics/_classification.py:1327: UndefinedMetricWarning:\n",
      "\n",
      "Precision is ill-defined and being set to 0.0 due to no predicted samples. Use `zero_division` parameter to control this behavior.\n",
      "\n",
      "/home/ccrocion/anaconda3/envs/deeprank/lib/python3.9/site-packages/sklearn/metrics/_classification.py:1327: UndefinedMetricWarning:\n",
      "\n",
      "Precision is ill-defined and being set to 0.0 due to no predicted samples. Use `zero_division` parameter to control this behavior.\n",
      "\n",
      "/home/ccrocion/anaconda3/envs/deeprank/lib/python3.9/site-packages/sklearn/metrics/_classification.py:1327: UndefinedMetricWarning:\n",
      "\n",
      "Precision is ill-defined and being set to 0.0 due to no predicted samples. Use `zero_division` parameter to control this behavior.\n",
      "\n",
      "/home/ccrocion/anaconda3/envs/deeprank/lib/python3.9/site-packages/sklearn/metrics/_classification.py:1327: UndefinedMetricWarning:\n",
      "\n",
      "Precision is ill-defined and being set to 0.0 due to no predicted samples. Use `zero_division` parameter to control this behavior.\n",
      "\n",
      "/home/ccrocion/anaconda3/envs/deeprank/lib/python3.9/site-packages/sklearn/metrics/_classification.py:1327: UndefinedMetricWarning:\n",
      "\n",
      "Precision is ill-defined and being set to 0.0 due to no predicted samples. Use `zero_division` parameter to control this behavior.\n",
      "\n",
      "/home/ccrocion/anaconda3/envs/deeprank/lib/python3.9/site-packages/sklearn/metrics/_classification.py:1327: UndefinedMetricWarning:\n",
      "\n",
      "Precision is ill-defined and being set to 0.0 due to no predicted samples. Use `zero_division` parameter to control this behavior.\n",
      "\n",
      "/home/ccrocion/anaconda3/envs/deeprank/lib/python3.9/site-packages/sklearn/metrics/_classification.py:1327: UndefinedMetricWarning:\n",
      "\n",
      "Precision is ill-defined and being set to 0.0 due to no predicted samples. Use `zero_division` parameter to control this behavior.\n",
      "\n",
      "/home/ccrocion/anaconda3/envs/deeprank/lib/python3.9/site-packages/sklearn/metrics/_classification.py:1327: UndefinedMetricWarning:\n",
      "\n",
      "Precision is ill-defined and being set to 0.0 due to no predicted samples. Use `zero_division` parameter to control this behavior.\n",
      "\n",
      "/home/ccrocion/anaconda3/envs/deeprank/lib/python3.9/site-packages/sklearn/metrics/_classification.py:1327: UndefinedMetricWarning:\n",
      "\n",
      "Precision is ill-defined and being set to 0.0 due to no predicted samples. Use `zero_division` parameter to control this behavior.\n",
      "\n",
      "/home/ccrocion/anaconda3/envs/deeprank/lib/python3.9/site-packages/sklearn/metrics/_classification.py:1327: UndefinedMetricWarning:\n",
      "\n",
      "Precision is ill-defined and being set to 0.0 due to no predicted samples. Use `zero_division` parameter to control this behavior.\n",
      "\n",
      "/home/ccrocion/anaconda3/envs/deeprank/lib/python3.9/site-packages/sklearn/metrics/_classification.py:1327: UndefinedMetricWarning:\n",
      "\n",
      "Precision is ill-defined and being set to 0.0 due to no predicted samples. Use `zero_division` parameter to control this behavior.\n",
      "\n",
      "/home/ccrocion/anaconda3/envs/deeprank/lib/python3.9/site-packages/sklearn/metrics/_classification.py:1327: UndefinedMetricWarning:\n",
      "\n",
      "Precision is ill-defined and being set to 0.0 due to no predicted samples. Use `zero_division` parameter to control this behavior.\n",
      "\n",
      "/home/ccrocion/anaconda3/envs/deeprank/lib/python3.9/site-packages/sklearn/metrics/_classification.py:1327: UndefinedMetricWarning:\n",
      "\n",
      "Precision is ill-defined and being set to 0.0 due to no predicted samples. Use `zero_division` parameter to control this behavior.\n",
      "\n",
      "/home/ccrocion/anaconda3/envs/deeprank/lib/python3.9/site-packages/sklearn/metrics/_classification.py:1327: UndefinedMetricWarning:\n",
      "\n",
      "Precision is ill-defined and being set to 0.0 due to no predicted samples. Use `zero_division` parameter to control this behavior.\n",
      "\n",
      "/home/ccrocion/anaconda3/envs/deeprank/lib/python3.9/site-packages/sklearn/metrics/_classification.py:1327: UndefinedMetricWarning:\n",
      "\n",
      "Precision is ill-defined and being set to 0.0 due to no predicted samples. Use `zero_division` parameter to control this behavior.\n",
      "\n",
      "/home/ccrocion/anaconda3/envs/deeprank/lib/python3.9/site-packages/sklearn/metrics/_classification.py:1327: UndefinedMetricWarning:\n",
      "\n",
      "Precision is ill-defined and being set to 0.0 due to no predicted samples. Use `zero_division` parameter to control this behavior.\n",
      "\n",
      "/home/ccrocion/anaconda3/envs/deeprank/lib/python3.9/site-packages/sklearn/metrics/_classification.py:1327: UndefinedMetricWarning:\n",
      "\n",
      "Precision is ill-defined and being set to 0.0 due to no predicted samples. Use `zero_division` parameter to control this behavior.\n",
      "\n",
      "/home/ccrocion/anaconda3/envs/deeprank/lib/python3.9/site-packages/sklearn/metrics/_classification.py:1327: UndefinedMetricWarning:\n",
      "\n",
      "Precision is ill-defined and being set to 0.0 due to no predicted samples. Use `zero_division` parameter to control this behavior.\n",
      "\n",
      "/home/ccrocion/anaconda3/envs/deeprank/lib/python3.9/site-packages/sklearn/metrics/_classification.py:1327: UndefinedMetricWarning:\n",
      "\n",
      "Precision is ill-defined and being set to 0.0 due to no predicted samples. Use `zero_division` parameter to control this behavior.\n",
      "\n",
      "/home/ccrocion/anaconda3/envs/deeprank/lib/python3.9/site-packages/sklearn/metrics/_classification.py:1327: UndefinedMetricWarning:\n",
      "\n",
      "Precision is ill-defined and being set to 0.0 due to no predicted samples. Use `zero_division` parameter to control this behavior.\n",
      "\n",
      "/home/ccrocion/anaconda3/envs/deeprank/lib/python3.9/site-packages/sklearn/metrics/_classification.py:1327: UndefinedMetricWarning:\n",
      "\n",
      "Precision is ill-defined and being set to 0.0 due to no predicted samples. Use `zero_division` parameter to control this behavior.\n",
      "\n",
      "/home/ccrocion/anaconda3/envs/deeprank/lib/python3.9/site-packages/sklearn/metrics/_classification.py:1327: UndefinedMetricWarning:\n",
      "\n",
      "Precision is ill-defined and being set to 0.0 due to no predicted samples. Use `zero_division` parameter to control this behavior.\n",
      "\n",
      "/home/ccrocion/anaconda3/envs/deeprank/lib/python3.9/site-packages/sklearn/metrics/_classification.py:1327: UndefinedMetricWarning:\n",
      "\n",
      "Precision is ill-defined and being set to 0.0 due to no predicted samples. Use `zero_division` parameter to control this behavior.\n",
      "\n",
      "/home/ccrocion/anaconda3/envs/deeprank/lib/python3.9/site-packages/sklearn/metrics/_classification.py:1327: UndefinedMetricWarning:\n",
      "\n",
      "Precision is ill-defined and being set to 0.0 due to no predicted samples. Use `zero_division` parameter to control this behavior.\n",
      "\n",
      "/home/ccrocion/anaconda3/envs/deeprank/lib/python3.9/site-packages/sklearn/metrics/_classification.py:1327: UndefinedMetricWarning:\n",
      "\n",
      "Precision is ill-defined and being set to 0.0 due to no predicted samples. Use `zero_division` parameter to control this behavior.\n",
      "\n",
      "/home/ccrocion/anaconda3/envs/deeprank/lib/python3.9/site-packages/sklearn/metrics/_classification.py:1327: UndefinedMetricWarning:\n",
      "\n",
      "Precision is ill-defined and being set to 0.0 due to no predicted samples. Use `zero_division` parameter to control this behavior.\n",
      "\n",
      "/home/ccrocion/anaconda3/envs/deeprank/lib/python3.9/site-packages/sklearn/metrics/_classification.py:1327: UndefinedMetricWarning:\n",
      "\n",
      "Precision is ill-defined and being set to 0.0 due to no predicted samples. Use `zero_division` parameter to control this behavior.\n",
      "\n",
      "/home/ccrocion/anaconda3/envs/deeprank/lib/python3.9/site-packages/sklearn/metrics/_classification.py:1327: UndefinedMetricWarning:\n",
      "\n",
      "Precision is ill-defined and being set to 0.0 due to no predicted samples. Use `zero_division` parameter to control this behavior.\n",
      "\n",
      "/home/ccrocion/anaconda3/envs/deeprank/lib/python3.9/site-packages/sklearn/metrics/_classification.py:1327: UndefinedMetricWarning:\n",
      "\n",
      "Precision is ill-defined and being set to 0.0 due to no predicted samples. Use `zero_division` parameter to control this behavior.\n",
      "\n",
      "/home/ccrocion/anaconda3/envs/deeprank/lib/python3.9/site-packages/sklearn/metrics/_classification.py:1327: UndefinedMetricWarning:\n",
      "\n",
      "Precision is ill-defined and being set to 0.0 due to no predicted samples. Use `zero_division` parameter to control this behavior.\n",
      "\n",
      "/home/ccrocion/anaconda3/envs/deeprank/lib/python3.9/site-packages/sklearn/metrics/_classification.py:1327: UndefinedMetricWarning:\n",
      "\n",
      "Precision is ill-defined and being set to 0.0 due to no predicted samples. Use `zero_division` parameter to control this behavior.\n",
      "\n",
      "/home/ccrocion/anaconda3/envs/deeprank/lib/python3.9/site-packages/sklearn/metrics/_classification.py:1327: UndefinedMetricWarning:\n",
      "\n",
      "Precision is ill-defined and being set to 0.0 due to no predicted samples. Use `zero_division` parameter to control this behavior.\n",
      "\n",
      "/home/ccrocion/anaconda3/envs/deeprank/lib/python3.9/site-packages/sklearn/metrics/_classification.py:1327: UndefinedMetricWarning:\n",
      "\n",
      "Precision is ill-defined and being set to 0.0 due to no predicted samples. Use `zero_division` parameter to control this behavior.\n",
      "\n",
      "/home/ccrocion/anaconda3/envs/deeprank/lib/python3.9/site-packages/sklearn/metrics/_classification.py:1327: UndefinedMetricWarning:\n",
      "\n",
      "Precision is ill-defined and being set to 0.0 due to no predicted samples. Use `zero_division` parameter to control this behavior.\n",
      "\n",
      "/home/ccrocion/anaconda3/envs/deeprank/lib/python3.9/site-packages/sklearn/metrics/_classification.py:1327: UndefinedMetricWarning:\n",
      "\n",
      "Precision is ill-defined and being set to 0.0 due to no predicted samples. Use `zero_division` parameter to control this behavior.\n",
      "\n",
      "/home/ccrocion/anaconda3/envs/deeprank/lib/python3.9/site-packages/sklearn/metrics/_classification.py:1327: UndefinedMetricWarning:\n",
      "\n",
      "Precision is ill-defined and being set to 0.0 due to no predicted samples. Use `zero_division` parameter to control this behavior.\n",
      "\n",
      "/home/ccrocion/anaconda3/envs/deeprank/lib/python3.9/site-packages/sklearn/metrics/_classification.py:1327: UndefinedMetricWarning:\n",
      "\n",
      "Precision is ill-defined and being set to 0.0 due to no predicted samples. Use `zero_division` parameter to control this behavior.\n",
      "\n",
      "/home/ccrocion/anaconda3/envs/deeprank/lib/python3.9/site-packages/sklearn/metrics/_classification.py:1327: UndefinedMetricWarning:\n",
      "\n",
      "Precision is ill-defined and being set to 0.0 due to no predicted samples. Use `zero_division` parameter to control this behavior.\n",
      "\n",
      "/home/ccrocion/anaconda3/envs/deeprank/lib/python3.9/site-packages/sklearn/metrics/_classification.py:1327: UndefinedMetricWarning:\n",
      "\n",
      "Precision is ill-defined and being set to 0.0 due to no predicted samples. Use `zero_division` parameter to control this behavior.\n",
      "\n",
      "/home/ccrocion/anaconda3/envs/deeprank/lib/python3.9/site-packages/sklearn/metrics/_classification.py:1327: UndefinedMetricWarning:\n",
      "\n",
      "Precision is ill-defined and being set to 0.0 due to no predicted samples. Use `zero_division` parameter to control this behavior.\n",
      "\n",
      "/home/ccrocion/anaconda3/envs/deeprank/lib/python3.9/site-packages/sklearn/metrics/_classification.py:1327: UndefinedMetricWarning:\n",
      "\n",
      "Precision is ill-defined and being set to 0.0 due to no predicted samples. Use `zero_division` parameter to control this behavior.\n",
      "\n",
      "/home/ccrocion/anaconda3/envs/deeprank/lib/python3.9/site-packages/sklearn/metrics/_classification.py:1327: UndefinedMetricWarning:\n",
      "\n",
      "Precision is ill-defined and being set to 0.0 due to no predicted samples. Use `zero_division` parameter to control this behavior.\n",
      "\n",
      "/home/ccrocion/anaconda3/envs/deeprank/lib/python3.9/site-packages/sklearn/metrics/_classification.py:1327: UndefinedMetricWarning:\n",
      "\n",
      "Precision is ill-defined and being set to 0.0 due to no predicted samples. Use `zero_division` parameter to control this behavior.\n",
      "\n",
      "/home/ccrocion/anaconda3/envs/deeprank/lib/python3.9/site-packages/sklearn/metrics/_classification.py:1327: UndefinedMetricWarning:\n",
      "\n",
      "Precision is ill-defined and being set to 0.0 due to no predicted samples. Use `zero_division` parameter to control this behavior.\n",
      "\n",
      "/home/ccrocion/anaconda3/envs/deeprank/lib/python3.9/site-packages/sklearn/metrics/_classification.py:1327: UndefinedMetricWarning:\n",
      "\n",
      "Precision is ill-defined and being set to 0.0 due to no predicted samples. Use `zero_division` parameter to control this behavior.\n",
      "\n",
      "/home/ccrocion/anaconda3/envs/deeprank/lib/python3.9/site-packages/sklearn/metrics/_classification.py:1327: UndefinedMetricWarning:\n",
      "\n",
      "Precision is ill-defined and being set to 0.0 due to no predicted samples. Use `zero_division` parameter to control this behavior.\n",
      "\n",
      "/home/ccrocion/anaconda3/envs/deeprank/lib/python3.9/site-packages/sklearn/metrics/_classification.py:1327: UndefinedMetricWarning:\n",
      "\n",
      "Precision is ill-defined and being set to 0.0 due to no predicted samples. Use `zero_division` parameter to control this behavior.\n",
      "\n",
      "/home/ccrocion/anaconda3/envs/deeprank/lib/python3.9/site-packages/sklearn/metrics/_classification.py:1327: UndefinedMetricWarning:\n",
      "\n",
      "Precision is ill-defined and being set to 0.0 due to no predicted samples. Use `zero_division` parameter to control this behavior.\n",
      "\n",
      "/home/ccrocion/anaconda3/envs/deeprank/lib/python3.9/site-packages/sklearn/metrics/_classification.py:1327: UndefinedMetricWarning:\n",
      "\n",
      "Precision is ill-defined and being set to 0.0 due to no predicted samples. Use `zero_division` parameter to control this behavior.\n",
      "\n",
      "/home/ccrocion/anaconda3/envs/deeprank/lib/python3.9/site-packages/sklearn/metrics/_classification.py:1327: UndefinedMetricWarning:\n",
      "\n",
      "Precision is ill-defined and being set to 0.0 due to no predicted samples. Use `zero_division` parameter to control this behavior.\n",
      "\n",
      "/home/ccrocion/anaconda3/envs/deeprank/lib/python3.9/site-packages/sklearn/metrics/_classification.py:1327: UndefinedMetricWarning:\n",
      "\n",
      "Precision is ill-defined and being set to 0.0 due to no predicted samples. Use `zero_division` parameter to control this behavior.\n",
      "\n",
      "/home/ccrocion/anaconda3/envs/deeprank/lib/python3.9/site-packages/sklearn/metrics/_classification.py:1327: UndefinedMetricWarning:\n",
      "\n",
      "Precision is ill-defined and being set to 0.0 due to no predicted samples. Use `zero_division` parameter to control this behavior.\n",
      "\n",
      "/home/ccrocion/anaconda3/envs/deeprank/lib/python3.9/site-packages/sklearn/metrics/_classification.py:1327: UndefinedMetricWarning:\n",
      "\n",
      "Precision is ill-defined and being set to 0.0 due to no predicted samples. Use `zero_division` parameter to control this behavior.\n",
      "\n",
      "/home/ccrocion/anaconda3/envs/deeprank/lib/python3.9/site-packages/sklearn/metrics/_classification.py:1327: UndefinedMetricWarning:\n",
      "\n",
      "Precision is ill-defined and being set to 0.0 due to no predicted samples. Use `zero_division` parameter to control this behavior.\n",
      "\n",
      "/home/ccrocion/anaconda3/envs/deeprank/lib/python3.9/site-packages/sklearn/metrics/_classification.py:1327: UndefinedMetricWarning:\n",
      "\n",
      "Precision is ill-defined and being set to 0.0 due to no predicted samples. Use `zero_division` parameter to control this behavior.\n",
      "\n",
      "/home/ccrocion/anaconda3/envs/deeprank/lib/python3.9/site-packages/sklearn/metrics/_classification.py:1327: UndefinedMetricWarning:\n",
      "\n",
      "Precision is ill-defined and being set to 0.0 due to no predicted samples. Use `zero_division` parameter to control this behavior.\n",
      "\n",
      "/home/ccrocion/anaconda3/envs/deeprank/lib/python3.9/site-packages/sklearn/metrics/_classification.py:1327: UndefinedMetricWarning:\n",
      "\n",
      "Precision is ill-defined and being set to 0.0 due to no predicted samples. Use `zero_division` parameter to control this behavior.\n",
      "\n",
      "/home/ccrocion/anaconda3/envs/deeprank/lib/python3.9/site-packages/sklearn/metrics/_classification.py:1327: UndefinedMetricWarning:\n",
      "\n",
      "Precision is ill-defined and being set to 0.0 due to no predicted samples. Use `zero_division` parameter to control this behavior.\n",
      "\n",
      "/home/ccrocion/anaconda3/envs/deeprank/lib/python3.9/site-packages/sklearn/metrics/_classification.py:1327: UndefinedMetricWarning:\n",
      "\n",
      "Precision is ill-defined and being set to 0.0 due to no predicted samples. Use `zero_division` parameter to control this behavior.\n",
      "\n",
      "/home/ccrocion/anaconda3/envs/deeprank/lib/python3.9/site-packages/sklearn/metrics/_classification.py:1327: UndefinedMetricWarning:\n",
      "\n",
      "Precision is ill-defined and being set to 0.0 due to no predicted samples. Use `zero_division` parameter to control this behavior.\n",
      "\n",
      "/home/ccrocion/anaconda3/envs/deeprank/lib/python3.9/site-packages/sklearn/metrics/_classification.py:1327: UndefinedMetricWarning:\n",
      "\n",
      "Precision is ill-defined and being set to 0.0 due to no predicted samples. Use `zero_division` parameter to control this behavior.\n",
      "\n",
      "/home/ccrocion/anaconda3/envs/deeprank/lib/python3.9/site-packages/sklearn/metrics/_classification.py:1327: UndefinedMetricWarning:\n",
      "\n",
      "Precision is ill-defined and being set to 0.0 due to no predicted samples. Use `zero_division` parameter to control this behavior.\n",
      "\n",
      "/home/ccrocion/anaconda3/envs/deeprank/lib/python3.9/site-packages/sklearn/metrics/_classification.py:1327: UndefinedMetricWarning:\n",
      "\n",
      "Precision is ill-defined and being set to 0.0 due to no predicted samples. Use `zero_division` parameter to control this behavior.\n",
      "\n",
      "/home/ccrocion/anaconda3/envs/deeprank/lib/python3.9/site-packages/sklearn/metrics/_classification.py:1327: UndefinedMetricWarning:\n",
      "\n",
      "Precision is ill-defined and being set to 0.0 due to no predicted samples. Use `zero_division` parameter to control this behavior.\n",
      "\n",
      "/home/ccrocion/anaconda3/envs/deeprank/lib/python3.9/site-packages/sklearn/metrics/_classification.py:1327: UndefinedMetricWarning:\n",
      "\n",
      "Precision is ill-defined and being set to 0.0 due to no predicted samples. Use `zero_division` parameter to control this behavior.\n",
      "\n",
      "/home/ccrocion/anaconda3/envs/deeprank/lib/python3.9/site-packages/sklearn/metrics/_classification.py:1327: UndefinedMetricWarning:\n",
      "\n",
      "Precision is ill-defined and being set to 0.0 due to no predicted samples. Use `zero_division` parameter to control this behavior.\n",
      "\n",
      "/home/ccrocion/anaconda3/envs/deeprank/lib/python3.9/site-packages/sklearn/metrics/_classification.py:1327: UndefinedMetricWarning:\n",
      "\n",
      "Precision is ill-defined and being set to 0.0 due to no predicted samples. Use `zero_division` parameter to control this behavior.\n",
      "\n",
      "/home/ccrocion/anaconda3/envs/deeprank/lib/python3.9/site-packages/sklearn/metrics/_classification.py:1327: UndefinedMetricWarning:\n",
      "\n",
      "Precision is ill-defined and being set to 0.0 due to no predicted samples. Use `zero_division` parameter to control this behavior.\n",
      "\n",
      "/home/ccrocion/anaconda3/envs/deeprank/lib/python3.9/site-packages/sklearn/metrics/_classification.py:1327: UndefinedMetricWarning:\n",
      "\n",
      "Precision is ill-defined and being set to 0.0 due to no predicted samples. Use `zero_division` parameter to control this behavior.\n",
      "\n",
      "/home/ccrocion/anaconda3/envs/deeprank/lib/python3.9/site-packages/sklearn/metrics/_classification.py:1327: UndefinedMetricWarning:\n",
      "\n",
      "Precision is ill-defined and being set to 0.0 due to no predicted samples. Use `zero_division` parameter to control this behavior.\n",
      "\n",
      "/home/ccrocion/anaconda3/envs/deeprank/lib/python3.9/site-packages/sklearn/metrics/_classification.py:1327: UndefinedMetricWarning:\n",
      "\n",
      "Precision is ill-defined and being set to 0.0 due to no predicted samples. Use `zero_division` parameter to control this behavior.\n",
      "\n",
      "/home/ccrocion/anaconda3/envs/deeprank/lib/python3.9/site-packages/sklearn/metrics/_classification.py:1327: UndefinedMetricWarning:\n",
      "\n",
      "Precision is ill-defined and being set to 0.0 due to no predicted samples. Use `zero_division` parameter to control this behavior.\n",
      "\n",
      "/home/ccrocion/anaconda3/envs/deeprank/lib/python3.9/site-packages/sklearn/metrics/_classification.py:1327: UndefinedMetricWarning:\n",
      "\n",
      "Precision is ill-defined and being set to 0.0 due to no predicted samples. Use `zero_division` parameter to control this behavior.\n",
      "\n"
     ]
    }
   ],
   "source": [
    "d = {'thr': [], 'precision': [], 'recall': [], 'accuracy': [], 'f1': [], 'mcc': [], 'auc': [], 'aucpr': [], 'phase': []}\n",
    "thr_df = pd.DataFrame(data=d)\n",
    "\n",
    "for idx, set in enumerate(['training', 'validation', 'testing']):\n",
    "    df_plot_phase = df_plot[(df_plot.phase == set)]\n",
    "    y_true = df_plot_phase.target\n",
    "    y_score = np.array(df_plot_phase.output.values.tolist())[:, 1]\n",
    "\n",
    "    thrs = np.linspace(0,1,100)\n",
    "    precision = []\n",
    "    recall = []\n",
    "    accuracy = []\n",
    "    f1 = []\n",
    "    mcc = []\n",
    "    \n",
    "    for thr in thrs:\n",
    "        y_pred = (y_score > thr)*1\n",
    "        precision.append(precision_score(y_true, y_pred))\n",
    "        recall.append(recall_score(y_true, y_pred))\n",
    "        accuracy.append(accuracy_score(y_true, y_pred))\n",
    "        f1.append(f1_score(y_true, y_pred))\n",
    "        mcc.append(matthews_corrcoef(y_true, y_pred))\n",
    "    \n",
    "    auc_score = auc(fpr_roc, tpr_roc)\n",
    "    aucpr = average_precision_score(y_true, y_score)\n",
    "\n",
    "    phase_df = pd.DataFrame({'thr': thrs, 'precision': precision, 'recall': recall, 'accuracy': accuracy, 'f1': f1, 'mcc': mcc, 'auc': auc_score, 'aucpr': aucpr, 'phase': set})\n",
    "    thr_df = pd.concat([thr_df, phase_df], ignore_index=True)\n",
    "\n",
    "# find max mcc of test set\n",
    "test_df = thr_df.loc[thr_df.phase == 'testing']\n",
    "test_mcc_idxmax = test_df.mcc.idxmax()\n",
    "if thr_df.loc[test_mcc_idxmax].mcc > 0:\n",
    "    sel_thr = thr_df.loc[test_mcc_idxmax].thr\n",
    "# use max mcc of all data if max of test set is 0 (usually only on small local test experiments)\n",
    "else:\n",
    "    mcc_idxmax = thr_df.mcc.idxmax()\n",
    "    sel_thr = thr_df.loc[mcc_idxmax].thr\n",
    "    print(\"WARNING: Maximum mcc of test set is 0. Instead, maximum mcc of all data will be used for determining optimal threshold.\\n\")\n",
    "\n",
    "fig_thresh = px.line(\n",
    "    thr_df,\n",
    "    x='thr',\n",
    "    y=[\n",
    "        'precision',\n",
    "        'recall',\n",
    "        'accuracy',\n",
    "        'f1',\n",
    "        'mcc'\n",
    "    ],\n",
    "    facet_col='phase',\n",
    "    category_orders={'phase': [\n",
    "        'training',\n",
    "        \"validation\",\n",
    "        \"testing\"]},\n",
    "    width=1000,\n",
    "    height=500\n",
    ")\n",
    "fig_thresh.add_vline(x=sel_thr, line_width=3, line_dash=\"dash\", line_color=\"green\")\n",
    "fig_thresh.update_layout(\n",
    "    title='Metrics vs thresholds',\n",
    "    title_x=0.5)\n",
    "fig_thresh.update_yaxes(range=[-0.2, 1.2], scaleanchor=\"x\", scaleratio=1, constrain='domain')\n",
    "fig_thresh.update_xaxes(range=[0, 1], scaleratio = 1, constrain='domain')\n",
    "fig_thresh.write_html(os.path.join(img_path, 'thresholds_metrics.html'))\n"
   ]
  },
  {
   "attachments": {},
   "cell_type": "markdown",
   "metadata": {},
   "source": [
    "### 0.5 Threshold"
   ]
  },
  {
   "cell_type": "code",
   "execution_count": 19,
   "metadata": {},
   "outputs": [
    {
     "name": "stdout",
     "output_type": "stream",
     "text": [
      "Setting thr to 0.5 ...\n",
      "\n",
      "training set\n",
      "F1: 0.48031496062992124\n",
      "MCC: -0.024533340225295283\n",
      "\n",
      "validation set\n",
      "F1: 0.03225806451612903\n",
      "MCC: -0.03841672259730368\n",
      "\n",
      "testing set\n",
      "F1: 0.0\n",
      "MCC: 0.0\n",
      "\n"
     ]
    }
   ],
   "source": [
    "print('Setting thr to 0.5 ...\\n')\n",
    "for idx, set in enumerate(['training', 'validation', 'testing']):\n",
    "    print(f'{set} set')\n",
    "    df_plot_phase = df_plot[(df_plot.phase == set)]\n",
    "    y_true = df_plot_phase.target\n",
    "    y_score = np.array(df_plot_phase.output.values.tolist())[:, 1]\n",
    "    thr = 0.5\n",
    "    y_pred = (y_score > thr)*1\n",
    "    print(f'F1: {f1_score(y_true, y_pred)}')\n",
    "    print(f'MCC: {matthews_corrcoef(y_true, y_pred)}\\n')"
   ]
  },
  {
   "cell_type": "code",
   "execution_count": null,
   "metadata": {},
   "outputs": [],
   "source": []
  }
 ],
 "metadata": {
  "kernelspec": {
   "display_name": "deeprank",
   "language": "python",
   "name": "python3"
  },
  "language_info": {
   "codemirror_mode": {
    "name": "ipython",
    "version": 3
   },
   "file_extension": ".py",
   "mimetype": "text/x-python",
   "name": "python",
   "nbconvert_exporter": "python",
   "pygments_lexer": "ipython3",
   "version": "3.9.12"
  },
  "orig_nbformat": 4,
  "vscode": {
   "interpreter": {
    "hash": "e90870d136d3d323d7e5f0c37a78d42df10f282092c3b00836ef5a4b69cf7e5a"
   }
  }
 },
 "nbformat": 4,
 "nbformat_minor": 2
}
