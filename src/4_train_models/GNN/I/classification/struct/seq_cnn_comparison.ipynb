{
 "cells": [
  {
   "cell_type": "code",
   "execution_count": 1,
   "metadata": {},
   "outputs": [],
   "source": [
    "import pandas as pd\n",
    "from datetime import datetime\n",
    "import plotly.express as px\n",
    "import plotly.graph_objects as go\n",
    "from plotly.subplots import make_subplots\n",
    "import os\n",
    "from itertools import cycle\n",
    "import numpy as np\n",
    "from sklearn.metrics import (\n",
    "    roc_curve,\n",
    "    precision_recall_curve,\n",
    "    auc,\n",
    "    average_precision_score,\n",
    "    accuracy_score,\n",
    "    f1_score,\n",
    "    matthews_corrcoef)\n",
    "from scipy import interpolate"
   ]
  },
  {
   "cell_type": "code",
   "execution_count": 2,
   "metadata": {},
   "outputs": [
    {
     "data": {
      "text/html": [
       "<div>\n",
       "<style scoped>\n",
       "    .dataframe tbody tr th:only-of-type {\n",
       "        vertical-align: middle;\n",
       "    }\n",
       "\n",
       "    .dataframe tbody tr th {\n",
       "        vertical-align: top;\n",
       "    }\n",
       "\n",
       "    .dataframe thead th {\n",
       "        text-align: right;\n",
       "    }\n",
       "</style>\n",
       "<table border=\"1\" class=\"dataframe\">\n",
       "  <thead>\n",
       "    <tr style=\"text-align: right;\">\n",
       "      <th></th>\n",
       "      <th>model</th>\n",
       "      <th>acc</th>\n",
       "      <th>auc</th>\n",
       "      <th>f1</th>\n",
       "      <th>mcc</th>\n",
       "      <th>tnr</th>\n",
       "      <th>tpr</th>\n",
       "    </tr>\n",
       "  </thead>\n",
       "  <tbody>\n",
       "    <tr>\n",
       "      <th>0</th>\n",
       "      <td>CNN_shuffle_class</td>\n",
       "      <td>0.787383</td>\n",
       "      <td>0.855928</td>\n",
       "      <td>0.751575</td>\n",
       "      <td>0.566675</td>\n",
       "      <td>0.831581</td>\n",
       "      <td>0.731110</td>\n",
       "    </tr>\n",
       "    <tr>\n",
       "      <th>1</th>\n",
       "      <td>CNN_peptide_class</td>\n",
       "      <td>0.717805</td>\n",
       "      <td>0.788124</td>\n",
       "      <td>0.706360</td>\n",
       "      <td>0.438340</td>\n",
       "      <td>0.695017</td>\n",
       "      <td>0.745038</td>\n",
       "    </tr>\n",
       "    <tr>\n",
       "      <th>2</th>\n",
       "      <td>CNN_allele_class</td>\n",
       "      <td>0.649774</td>\n",
       "      <td>0.697055</td>\n",
       "      <td>0.431115</td>\n",
       "      <td>0.245109</td>\n",
       "      <td>0.878164</td>\n",
       "      <td>0.322732</td>\n",
       "    </tr>\n",
       "    <tr>\n",
       "      <th>3</th>\n",
       "      <td>CNN_shuffle_reg</td>\n",
       "      <td>0.780295</td>\n",
       "      <td>0.871268</td>\n",
       "      <td>0.712325</td>\n",
       "      <td>0.557802</td>\n",
       "      <td>0.907503</td>\n",
       "      <td>0.618334</td>\n",
       "    </tr>\n",
       "    <tr>\n",
       "      <th>4</th>\n",
       "      <td>CNN_peptide_reg</td>\n",
       "      <td>0.713439</td>\n",
       "      <td>0.807924</td>\n",
       "      <td>0.624438</td>\n",
       "      <td>0.427160</td>\n",
       "      <td>0.872852</td>\n",
       "      <td>0.522930</td>\n",
       "    </tr>\n",
       "  </tbody>\n",
       "</table>\n",
       "</div>"
      ],
      "text/plain": [
       "               model       acc       auc        f1       mcc       tnr  \\\n",
       "0  CNN_shuffle_class  0.787383  0.855928  0.751575  0.566675  0.831581   \n",
       "1  CNN_peptide_class  0.717805  0.788124  0.706360  0.438340  0.695017   \n",
       "2   CNN_allele_class  0.649774  0.697055  0.431115  0.245109  0.878164   \n",
       "3    CNN_shuffle_reg  0.780295  0.871268  0.712325  0.557802  0.907503   \n",
       "4    CNN_peptide_reg  0.713439  0.807924  0.624438  0.427160  0.872852   \n",
       "\n",
       "        tpr  \n",
       "0  0.731110  \n",
       "1  0.745038  \n",
       "2  0.322732  \n",
       "3  0.618334  \n",
       "4  0.522930  "
      ]
     },
     "execution_count": 2,
     "metadata": {},
     "output_type": "execute_result"
    }
   ],
   "source": [
    "baseline_results_path = '/projects/0/einf2380/data/results/best_models_metrics.csv'\n",
    "baseline_df = pd.read_csv(baseline_results_path)\n",
    "models = {\n",
    "    'SHUFF_Cnn_SumFeat_ChannExpand': 'CNN_shuffle_class',\n",
    "    'PEPT_Cnn_SumFeat_ChannExpand': 'CNN_peptide_class',\n",
    "    'ALLELE_Cnn_SumFeat_ChannExpand': 'CNN_allele_class',\n",
    "    'SHUFF_Group_Reg4': 'CNN_shuffle_reg',\n",
    "    'PEPT_Group_Reg4': 'CNN_peptide_reg',\n",
    "    'ALLELE_Group_Reg4': 'CNN_allele_reg',\n",
    "    'mlp_classification_blosum_with_allele_encoder_500_neurons_50_epochs_shuffled_64_batch_size.pt': 'MLP_shuffle_class',\n",
    "    'mlp_classification_blosum_with_allele_encoder_500_neurons_50_epochs_LOGO_anch_rep_64_batch_size.pt': 'MLP_peptide_class',\n",
    "    'mlp_classification_blosum_with_allele_encoder_500_neurons_50_epochs_pseudoseq_cluster_64_batch_size.pt': 'MLP_allele_class',\n",
    "    'mhcflurry_held_out_trained': 'MHCFlurry_shuffle',\n",
    "    'mhcflurry_peptide_clustered_trained': 'MHCFlurry_peptide',\n",
    "    'mhcflurry_allele_clustered_trained': 'MHCFlurry_allele',\n",
    "}\n",
    "baseline_df.rename(columns={\"Model\":\"model\"}, inplace=True)\n",
    "baseline_df.replace(models, inplace=True)\n",
    "baseline_df.head()"
   ]
  },
  {
   "cell_type": "code",
   "execution_count": 3,
   "metadata": {},
   "outputs": [
    {
     "data": {
      "text/html": [
       "<div>\n",
       "<style scoped>\n",
       "    .dataframe tbody tr th:only-of-type {\n",
       "        vertical-align: middle;\n",
       "    }\n",
       "\n",
       "    .dataframe tbody tr th {\n",
       "        vertical-align: top;\n",
       "    }\n",
       "\n",
       "    .dataframe thead th {\n",
       "        text-align: right;\n",
       "    }\n",
       "</style>\n",
       "<table border=\"1\" class=\"dataframe\">\n",
       "  <thead>\n",
       "    <tr style=\"text-align: right;\">\n",
       "      <th></th>\n",
       "      <th>exp_fullname</th>\n",
       "      <th>exp_path</th>\n",
       "      <th>start_time</th>\n",
       "      <th>end_time</th>\n",
       "      <th>input_data_path</th>\n",
       "      <th>protein_class</th>\n",
       "      <th>target_data</th>\n",
       "      <th>resolution</th>\n",
       "      <th>task</th>\n",
       "      <th>node_features</th>\n",
       "      <th>...</th>\n",
       "      <th>training_accuracy</th>\n",
       "      <th>validation_accuracy</th>\n",
       "      <th>testing_accuracy</th>\n",
       "      <th>training_precision</th>\n",
       "      <th>validation_precision</th>\n",
       "      <th>testing_precision</th>\n",
       "      <th>training_recall</th>\n",
       "      <th>validation_recall</th>\n",
       "      <th>testing_recall</th>\n",
       "      <th>test_clusters</th>\n",
       "    </tr>\n",
       "    <tr>\n",
       "      <th>exp_id</th>\n",
       "      <th></th>\n",
       "      <th></th>\n",
       "      <th></th>\n",
       "      <th></th>\n",
       "      <th></th>\n",
       "      <th></th>\n",
       "      <th></th>\n",
       "      <th></th>\n",
       "      <th></th>\n",
       "      <th></th>\n",
       "      <th></th>\n",
       "      <th></th>\n",
       "      <th></th>\n",
       "      <th></th>\n",
       "      <th></th>\n",
       "      <th></th>\n",
       "      <th></th>\n",
       "      <th></th>\n",
       "      <th></th>\n",
       "      <th></th>\n",
       "      <th></th>\n",
       "    </tr>\n",
       "  </thead>\n",
       "  <tbody>\n",
       "    <tr>\n",
       "      <th>exp_100k_pssm_rm_std_classw_bs64_bn1_0</th>\n",
       "      <td>exp_100k_pssm_rm_std_classw_bs64_bn1_0_230330</td>\n",
       "      <td>./experiments/exp_100k_pssm_rm_std_classw_bs64...</td>\n",
       "      <td>30/Mar/2023_16:05:51</td>\n",
       "      <td>30/Mar/2023_18:56:57</td>\n",
       "      <td>['/projects/0/einf2380/data/pMHCI/features_out...</td>\n",
       "      <td>I</td>\n",
       "      <td>BA</td>\n",
       "      <td>residue</td>\n",
       "      <td>classif</td>\n",
       "      <td>all</td>\n",
       "      <td>...</td>\n",
       "      <td>0.711</td>\n",
       "      <td>0.680</td>\n",
       "      <td>0.774</td>\n",
       "      <td>0.610</td>\n",
       "      <td>0.584</td>\n",
       "      <td>0.729</td>\n",
       "      <td>0.956</td>\n",
       "      <td>0.951</td>\n",
       "      <td>0.773</td>\n",
       "      <td>NaN</td>\n",
       "    </tr>\n",
       "    <tr>\n",
       "      <th>exp_692_pssm_rm_std_classw_bs64_bn1_1</th>\n",
       "      <td>exp_692_pssm_rm_std_classw_bs64_bn1_1_230330</td>\n",
       "      <td>./experiments/exp_692_pssm_rm_std_classw_bs64_...</td>\n",
       "      <td>30/Mar/2023_15:09:06</td>\n",
       "      <td>30/Mar/2023_15:15:47</td>\n",
       "      <td>['/home/ccrocion/snellius_data_sample/data/pMH...</td>\n",
       "      <td>I</td>\n",
       "      <td>BA</td>\n",
       "      <td>residue</td>\n",
       "      <td>classif</td>\n",
       "      <td>all</td>\n",
       "      <td>...</td>\n",
       "      <td>0.483</td>\n",
       "      <td>0.456</td>\n",
       "      <td>0.557</td>\n",
       "      <td>0.470</td>\n",
       "      <td>0.456</td>\n",
       "      <td>1.000</td>\n",
       "      <td>0.956</td>\n",
       "      <td>1.000</td>\n",
       "      <td>0.031</td>\n",
       "      <td>NaN</td>\n",
       "    </tr>\n",
       "    <tr>\n",
       "      <th>exp_100k_pssm_rm_allele_C_std_classw_gpu_nw16_0</th>\n",
       "      <td>exp_100k_pssm_rm_allele_C_std_classw_gpu_nw16_...</td>\n",
       "      <td>./experiments/exp_100k_pssm_rm_allele_C_std_cl...</td>\n",
       "      <td>27/Mar/2023_00:34:34</td>\n",
       "      <td>27/Mar/2023_04:04:16</td>\n",
       "      <td>['/projects/0/einf2380/data/pMHCI/features_out...</td>\n",
       "      <td>I</td>\n",
       "      <td>BA</td>\n",
       "      <td>residue</td>\n",
       "      <td>classif</td>\n",
       "      <td>all</td>\n",
       "      <td>...</td>\n",
       "      <td>0.466</td>\n",
       "      <td>0.466</td>\n",
       "      <td>0.704</td>\n",
       "      <td>0.450</td>\n",
       "      <td>0.450</td>\n",
       "      <td>0.717</td>\n",
       "      <td>0.999</td>\n",
       "      <td>0.999</td>\n",
       "      <td>0.968</td>\n",
       "      <td>['C']</td>\n",
       "    </tr>\n",
       "    <tr>\n",
       "      <th>exp_100k_pssm_rm_clustering_std_classw_gpu_nw16_0</th>\n",
       "      <td>exp_100k_pssm_rm_clustering_std_classw_gpu_nw1...</td>\n",
       "      <td>./experiments/exp_100k_pssm_rm_clustering_std_...</td>\n",
       "      <td>22/Mar/2023_10:31:56</td>\n",
       "      <td>22/Mar/2023_16:25:01</td>\n",
       "      <td>['/projects/0/einf2380/data/pMHCI/features_out...</td>\n",
       "      <td>I</td>\n",
       "      <td>BA</td>\n",
       "      <td>residue</td>\n",
       "      <td>classif</td>\n",
       "      <td>all</td>\n",
       "      <td>...</td>\n",
       "      <td>0.800</td>\n",
       "      <td>0.776</td>\n",
       "      <td>0.775</td>\n",
       "      <td>0.741</td>\n",
       "      <td>0.714</td>\n",
       "      <td>0.729</td>\n",
       "      <td>0.840</td>\n",
       "      <td>0.820</td>\n",
       "      <td>0.766</td>\n",
       "      <td>[3]</td>\n",
       "    </tr>\n",
       "    <tr>\n",
       "      <th>exp_100k_pssm_rm_std_classw_gpu_nw16_0</th>\n",
       "      <td>exp_100k_pssm_rm_std_classw_gpu_nw16_0_230321</td>\n",
       "      <td>./experiments/exp_100k_pssm_rm_std_classw_gpu_...</td>\n",
       "      <td>21/Mar/2023_15:01:26</td>\n",
       "      <td>21/Mar/2023_22:58:50</td>\n",
       "      <td>['/projects/0/einf2380/data/pMHCI/features_out...</td>\n",
       "      <td>I</td>\n",
       "      <td>BA</td>\n",
       "      <td>residue</td>\n",
       "      <td>classif</td>\n",
       "      <td>all</td>\n",
       "      <td>...</td>\n",
       "      <td>0.783</td>\n",
       "      <td>0.764</td>\n",
       "      <td>0.774</td>\n",
       "      <td>0.711</td>\n",
       "      <td>0.690</td>\n",
       "      <td>0.729</td>\n",
       "      <td>0.853</td>\n",
       "      <td>0.845</td>\n",
       "      <td>0.773</td>\n",
       "      <td>NaN</td>\n",
       "    </tr>\n",
       "  </tbody>\n",
       "</table>\n",
       "<p>5 rows × 49 columns</p>\n",
       "</div>"
      ],
      "text/plain": [
       "                                                                                        exp_fullname  \\\n",
       "exp_id                                                                                                 \n",
       "exp_100k_pssm_rm_std_classw_bs64_bn1_0                 exp_100k_pssm_rm_std_classw_bs64_bn1_0_230330   \n",
       "exp_692_pssm_rm_std_classw_bs64_bn1_1                   exp_692_pssm_rm_std_classw_bs64_bn1_1_230330   \n",
       "exp_100k_pssm_rm_allele_C_std_classw_gpu_nw16_0    exp_100k_pssm_rm_allele_C_std_classw_gpu_nw16_...   \n",
       "exp_100k_pssm_rm_clustering_std_classw_gpu_nw16_0  exp_100k_pssm_rm_clustering_std_classw_gpu_nw1...   \n",
       "exp_100k_pssm_rm_std_classw_gpu_nw16_0                 exp_100k_pssm_rm_std_classw_gpu_nw16_0_230321   \n",
       "\n",
       "                                                                                            exp_path  \\\n",
       "exp_id                                                                                                 \n",
       "exp_100k_pssm_rm_std_classw_bs64_bn1_0             ./experiments/exp_100k_pssm_rm_std_classw_bs64...   \n",
       "exp_692_pssm_rm_std_classw_bs64_bn1_1              ./experiments/exp_692_pssm_rm_std_classw_bs64_...   \n",
       "exp_100k_pssm_rm_allele_C_std_classw_gpu_nw16_0    ./experiments/exp_100k_pssm_rm_allele_C_std_cl...   \n",
       "exp_100k_pssm_rm_clustering_std_classw_gpu_nw16_0  ./experiments/exp_100k_pssm_rm_clustering_std_...   \n",
       "exp_100k_pssm_rm_std_classw_gpu_nw16_0             ./experiments/exp_100k_pssm_rm_std_classw_gpu_...   \n",
       "\n",
       "                                                             start_time  \\\n",
       "exp_id                                                                    \n",
       "exp_100k_pssm_rm_std_classw_bs64_bn1_0             30/Mar/2023_16:05:51   \n",
       "exp_692_pssm_rm_std_classw_bs64_bn1_1              30/Mar/2023_15:09:06   \n",
       "exp_100k_pssm_rm_allele_C_std_classw_gpu_nw16_0    27/Mar/2023_00:34:34   \n",
       "exp_100k_pssm_rm_clustering_std_classw_gpu_nw16_0  22/Mar/2023_10:31:56   \n",
       "exp_100k_pssm_rm_std_classw_gpu_nw16_0             21/Mar/2023_15:01:26   \n",
       "\n",
       "                                                               end_time  \\\n",
       "exp_id                                                                    \n",
       "exp_100k_pssm_rm_std_classw_bs64_bn1_0             30/Mar/2023_18:56:57   \n",
       "exp_692_pssm_rm_std_classw_bs64_bn1_1              30/Mar/2023_15:15:47   \n",
       "exp_100k_pssm_rm_allele_C_std_classw_gpu_nw16_0    27/Mar/2023_04:04:16   \n",
       "exp_100k_pssm_rm_clustering_std_classw_gpu_nw16_0  22/Mar/2023_16:25:01   \n",
       "exp_100k_pssm_rm_std_classw_gpu_nw16_0             21/Mar/2023_22:58:50   \n",
       "\n",
       "                                                                                     input_data_path  \\\n",
       "exp_id                                                                                                 \n",
       "exp_100k_pssm_rm_std_classw_bs64_bn1_0             ['/projects/0/einf2380/data/pMHCI/features_out...   \n",
       "exp_692_pssm_rm_std_classw_bs64_bn1_1              ['/home/ccrocion/snellius_data_sample/data/pMH...   \n",
       "exp_100k_pssm_rm_allele_C_std_classw_gpu_nw16_0    ['/projects/0/einf2380/data/pMHCI/features_out...   \n",
       "exp_100k_pssm_rm_clustering_std_classw_gpu_nw16_0  ['/projects/0/einf2380/data/pMHCI/features_out...   \n",
       "exp_100k_pssm_rm_std_classw_gpu_nw16_0             ['/projects/0/einf2380/data/pMHCI/features_out...   \n",
       "\n",
       "                                                  protein_class target_data  \\\n",
       "exp_id                                                                        \n",
       "exp_100k_pssm_rm_std_classw_bs64_bn1_0                        I          BA   \n",
       "exp_692_pssm_rm_std_classw_bs64_bn1_1                         I          BA   \n",
       "exp_100k_pssm_rm_allele_C_std_classw_gpu_nw16_0               I          BA   \n",
       "exp_100k_pssm_rm_clustering_std_classw_gpu_nw16_0             I          BA   \n",
       "exp_100k_pssm_rm_std_classw_gpu_nw16_0                        I          BA   \n",
       "\n",
       "                                                  resolution     task  \\\n",
       "exp_id                                                                  \n",
       "exp_100k_pssm_rm_std_classw_bs64_bn1_0               residue  classif   \n",
       "exp_692_pssm_rm_std_classw_bs64_bn1_1                residue  classif   \n",
       "exp_100k_pssm_rm_allele_C_std_classw_gpu_nw16_0      residue  classif   \n",
       "exp_100k_pssm_rm_clustering_std_classw_gpu_nw16_0    residue  classif   \n",
       "exp_100k_pssm_rm_std_classw_gpu_nw16_0               residue  classif   \n",
       "\n",
       "                                                  node_features  ...  \\\n",
       "exp_id                                                           ...   \n",
       "exp_100k_pssm_rm_std_classw_bs64_bn1_0                      all  ...   \n",
       "exp_692_pssm_rm_std_classw_bs64_bn1_1                       all  ...   \n",
       "exp_100k_pssm_rm_allele_C_std_classw_gpu_nw16_0             all  ...   \n",
       "exp_100k_pssm_rm_clustering_std_classw_gpu_nw16_0           all  ...   \n",
       "exp_100k_pssm_rm_std_classw_gpu_nw16_0                      all  ...   \n",
       "\n",
       "                                                  training_accuracy  \\\n",
       "exp_id                                                                \n",
       "exp_100k_pssm_rm_std_classw_bs64_bn1_0                        0.711   \n",
       "exp_692_pssm_rm_std_classw_bs64_bn1_1                         0.483   \n",
       "exp_100k_pssm_rm_allele_C_std_classw_gpu_nw16_0               0.466   \n",
       "exp_100k_pssm_rm_clustering_std_classw_gpu_nw16_0             0.800   \n",
       "exp_100k_pssm_rm_std_classw_gpu_nw16_0                        0.783   \n",
       "\n",
       "                                                  validation_accuracy  \\\n",
       "exp_id                                                                  \n",
       "exp_100k_pssm_rm_std_classw_bs64_bn1_0                          0.680   \n",
       "exp_692_pssm_rm_std_classw_bs64_bn1_1                           0.456   \n",
       "exp_100k_pssm_rm_allele_C_std_classw_gpu_nw16_0                 0.466   \n",
       "exp_100k_pssm_rm_clustering_std_classw_gpu_nw16_0               0.776   \n",
       "exp_100k_pssm_rm_std_classw_gpu_nw16_0                          0.764   \n",
       "\n",
       "                                                  testing_accuracy  \\\n",
       "exp_id                                                               \n",
       "exp_100k_pssm_rm_std_classw_bs64_bn1_0                       0.774   \n",
       "exp_692_pssm_rm_std_classw_bs64_bn1_1                        0.557   \n",
       "exp_100k_pssm_rm_allele_C_std_classw_gpu_nw16_0              0.704   \n",
       "exp_100k_pssm_rm_clustering_std_classw_gpu_nw16_0            0.775   \n",
       "exp_100k_pssm_rm_std_classw_gpu_nw16_0                       0.774   \n",
       "\n",
       "                                                   training_precision  \\\n",
       "exp_id                                                                  \n",
       "exp_100k_pssm_rm_std_classw_bs64_bn1_0                          0.610   \n",
       "exp_692_pssm_rm_std_classw_bs64_bn1_1                           0.470   \n",
       "exp_100k_pssm_rm_allele_C_std_classw_gpu_nw16_0                 0.450   \n",
       "exp_100k_pssm_rm_clustering_std_classw_gpu_nw16_0               0.741   \n",
       "exp_100k_pssm_rm_std_classw_gpu_nw16_0                          0.711   \n",
       "\n",
       "                                                   validation_precision  \\\n",
       "exp_id                                                                    \n",
       "exp_100k_pssm_rm_std_classw_bs64_bn1_0                            0.584   \n",
       "exp_692_pssm_rm_std_classw_bs64_bn1_1                             0.456   \n",
       "exp_100k_pssm_rm_allele_C_std_classw_gpu_nw16_0                   0.450   \n",
       "exp_100k_pssm_rm_clustering_std_classw_gpu_nw16_0                 0.714   \n",
       "exp_100k_pssm_rm_std_classw_gpu_nw16_0                            0.690   \n",
       "\n",
       "                                                   testing_precision  \\\n",
       "exp_id                                                                 \n",
       "exp_100k_pssm_rm_std_classw_bs64_bn1_0                         0.729   \n",
       "exp_692_pssm_rm_std_classw_bs64_bn1_1                          1.000   \n",
       "exp_100k_pssm_rm_allele_C_std_classw_gpu_nw16_0                0.717   \n",
       "exp_100k_pssm_rm_clustering_std_classw_gpu_nw16_0              0.729   \n",
       "exp_100k_pssm_rm_std_classw_gpu_nw16_0                         0.729   \n",
       "\n",
       "                                                   training_recall  \\\n",
       "exp_id                                                               \n",
       "exp_100k_pssm_rm_std_classw_bs64_bn1_0                       0.956   \n",
       "exp_692_pssm_rm_std_classw_bs64_bn1_1                        0.956   \n",
       "exp_100k_pssm_rm_allele_C_std_classw_gpu_nw16_0              0.999   \n",
       "exp_100k_pssm_rm_clustering_std_classw_gpu_nw16_0            0.840   \n",
       "exp_100k_pssm_rm_std_classw_gpu_nw16_0                       0.853   \n",
       "\n",
       "                                                  validation_recall  \\\n",
       "exp_id                                                                \n",
       "exp_100k_pssm_rm_std_classw_bs64_bn1_0                        0.951   \n",
       "exp_692_pssm_rm_std_classw_bs64_bn1_1                         1.000   \n",
       "exp_100k_pssm_rm_allele_C_std_classw_gpu_nw16_0               0.999   \n",
       "exp_100k_pssm_rm_clustering_std_classw_gpu_nw16_0             0.820   \n",
       "exp_100k_pssm_rm_std_classw_gpu_nw16_0                        0.845   \n",
       "\n",
       "                                                   testing_recall  \\\n",
       "exp_id                                                              \n",
       "exp_100k_pssm_rm_std_classw_bs64_bn1_0                      0.773   \n",
       "exp_692_pssm_rm_std_classw_bs64_bn1_1                       0.031   \n",
       "exp_100k_pssm_rm_allele_C_std_classw_gpu_nw16_0             0.968   \n",
       "exp_100k_pssm_rm_clustering_std_classw_gpu_nw16_0           0.766   \n",
       "exp_100k_pssm_rm_std_classw_gpu_nw16_0                      0.773   \n",
       "\n",
       "                                                   test_clusters  \n",
       "exp_id                                                            \n",
       "exp_100k_pssm_rm_std_classw_bs64_bn1_0                       NaN  \n",
       "exp_692_pssm_rm_std_classw_bs64_bn1_1                        NaN  \n",
       "exp_100k_pssm_rm_allele_C_std_classw_gpu_nw16_0            ['C']  \n",
       "exp_100k_pssm_rm_clustering_std_classw_gpu_nw16_0            [3]  \n",
       "exp_100k_pssm_rm_std_classw_gpu_nw16_0                       NaN  \n",
       "\n",
       "[5 rows x 49 columns]"
      ]
     },
     "execution_count": 3,
     "metadata": {},
     "output_type": "execute_result"
    }
   ],
   "source": [
    "######## Modify here\n",
    "exp_path = './experiments/'\n",
    "# exps we want to compare with sequence-based model baseline and best CNN\n",
    "exp_ids = ['exp_100k_std_gpu_nw16_1']\n",
    "new_exp_ids = ['GNN_shuffle_class']\n",
    "comparison_id = 'standardization'\n",
    "########\n",
    "exp_log = pd.read_excel(exp_path + '_experiments_log.xlsx', index_col='exp_id')\n",
    "exp_log.head()"
   ]
  },
  {
   "cell_type": "code",
   "execution_count": 4,
   "metadata": {},
   "outputs": [
    {
     "name": "stdout",
     "output_type": "stream",
     "text": [
      "Folder comparisons/standardization/ already exists!           \n",
      "Change comparison_id if you want to save plots for a different comparison.\n"
     ]
    }
   ],
   "source": [
    "######## Definitions used in the plotting\n",
    "comparisons_path = os.path.join(exp_path, 'comparisons', 'baseline')\n",
    "comparison_path = os.path.join(comparisons_path, comparison_id)\n",
    "\n",
    "if not os.path.exists(comparisons_path):\n",
    "    os.makedirs(comparisons_path)\n",
    "\n",
    "if not os.path.exists(comparison_path):\n",
    "    os.makedirs(comparison_path)\n",
    "else:\n",
    "    print(f'Folder comparisons/{comparison_id}/ already exists! \\\n",
    "          \\nChange comparison_id if you want to save plots for a different comparison.')\n",
    "\n",
    "def get_single_exp_df(exp_id, exp_log, exp_path):\n",
    "    exp_fullname = exp_log.loc[exp_id].exp_fullname\n",
    "    exp_path = os.path.join(exp_path, exp_fullname)\n",
    "    output_path = os.path.join(exp_path, 'output')\n",
    "    output_train = pd.read_hdf(os.path.join(output_path, 'output_exporter.hdf5'), key='training')\n",
    "    output_test = pd.read_hdf(os.path.join(output_path, 'output_exporter.hdf5'), key='testing')\n",
    "    df = pd.concat([output_train, output_test])\n",
    "    df.sort_values(by=['epoch'], inplace = True)\n",
    "    return df"
   ]
  },
  {
   "cell_type": "code",
   "execution_count": 5,
   "metadata": {},
   "outputs": [
    {
     "name": "stderr",
     "output_type": "stream",
     "text": [
      "/scratch-local/ccrocion/ipykernel_3189690/2779802291.py:39: FutureWarning: The frame.append method is deprecated and will be removed from pandas in a future version. Use pandas.concat instead.\n",
      "  baseline_df = baseline_df.append(exp_dict, ignore_index=True)\n"
     ]
    }
   ],
   "source": [
    "for idx, exp_id in enumerate(exp_ids):\n",
    "    exp_dict = {}\n",
    "    exp_dict[\"model\"] = new_exp_ids[idx]\n",
    "    df = get_single_exp_df(exp_id, exp_log, exp_path)\n",
    "    df_plot = df[(df.epoch == 0) & (df.phase == 'testing')]\n",
    "\n",
    "    y_true = df_plot.target\n",
    "    y_score = np.array(df_plot.output.values.tolist())[:, 1]\n",
    "\n",
    "    thrs = np.linspace(0,1,100)\n",
    "    accuracy = []\n",
    "    f1 = []\n",
    "    mcc = []\n",
    "    for thr in thrs:\n",
    "        y_pred = (y_score > thr)*1\n",
    "        accuracy.append(accuracy_score(y_true, y_pred))\n",
    "        f1.append(f1_score(y_true, y_pred))\n",
    "        mcc.append(matthews_corrcoef(y_true, y_pred))\n",
    "\n",
    "    thr_df = pd.DataFrame({\n",
    "        'thr': thrs,\n",
    "        'accuracy': accuracy,\n",
    "        'f1': f1,\n",
    "        'mcc': mcc})\n",
    "    # maximize mcc\n",
    "    mcc_idxmax = thr_df.mcc.idxmax()\n",
    "    sel_thr = thr_df.loc[mcc_idxmax].thr\n",
    "    exp_dict[\"model\"] = exp_dict[\"model\"] + f\"_{sel_thr:.2f}\"\n",
    "    exp_dict[\"mcc\"] = thr_df.loc[mcc_idxmax].mcc\n",
    "    exp_dict[\"acc\"] = thr_df.loc[mcc_idxmax].accuracy\n",
    "    exp_dict[\"f1\"] = thr_df.loc[mcc_idxmax].f1\n",
    "\n",
    "    fpr_roc, tpr_roc, thr_roc = roc_curve(y_true, y_score)\n",
    "    auc = auc(fpr_roc, tpr_roc)\n",
    "    exp_dict[\"auc\"] = auc\n",
    "    tpr_intrp = interpolate.interp1d(thr_roc, tpr_roc)\n",
    "    exp_dict[\"tpr\"] = float(tpr_intrp(sel_thr)) # recall\n",
    "\n",
    "    baseline_df = baseline_df.append(exp_dict, ignore_index=True)"
   ]
  },
  {
   "cell_type": "code",
   "execution_count": 6,
   "metadata": {},
   "outputs": [
    {
     "data": {
      "text/html": [
       "<div>\n",
       "<style scoped>\n",
       "    .dataframe tbody tr th:only-of-type {\n",
       "        vertical-align: middle;\n",
       "    }\n",
       "\n",
       "    .dataframe tbody tr th {\n",
       "        vertical-align: top;\n",
       "    }\n",
       "\n",
       "    .dataframe thead th {\n",
       "        text-align: right;\n",
       "    }\n",
       "</style>\n",
       "<table border=\"1\" class=\"dataframe\">\n",
       "  <thead>\n",
       "    <tr style=\"text-align: right;\">\n",
       "      <th></th>\n",
       "      <th>model</th>\n",
       "      <th>acc</th>\n",
       "      <th>auc</th>\n",
       "      <th>f1</th>\n",
       "      <th>mcc</th>\n",
       "      <th>tnr</th>\n",
       "      <th>tpr</th>\n",
       "    </tr>\n",
       "  </thead>\n",
       "  <tbody>\n",
       "    <tr>\n",
       "      <th>0</th>\n",
       "      <td>CNN_shuffle_class</td>\n",
       "      <td>0.787383</td>\n",
       "      <td>0.855928</td>\n",
       "      <td>0.751575</td>\n",
       "      <td>0.566675</td>\n",
       "      <td>0.831581</td>\n",
       "      <td>0.731110</td>\n",
       "    </tr>\n",
       "    <tr>\n",
       "      <th>1</th>\n",
       "      <td>CNN_peptide_class</td>\n",
       "      <td>0.717805</td>\n",
       "      <td>0.788124</td>\n",
       "      <td>0.706360</td>\n",
       "      <td>0.438340</td>\n",
       "      <td>0.695017</td>\n",
       "      <td>0.745038</td>\n",
       "    </tr>\n",
       "    <tr>\n",
       "      <th>2</th>\n",
       "      <td>CNN_allele_class</td>\n",
       "      <td>0.649774</td>\n",
       "      <td>0.697055</td>\n",
       "      <td>0.431115</td>\n",
       "      <td>0.245109</td>\n",
       "      <td>0.878164</td>\n",
       "      <td>0.322732</td>\n",
       "    </tr>\n",
       "    <tr>\n",
       "      <th>3</th>\n",
       "      <td>CNN_shuffle_reg</td>\n",
       "      <td>0.780295</td>\n",
       "      <td>0.871268</td>\n",
       "      <td>0.712325</td>\n",
       "      <td>0.557802</td>\n",
       "      <td>0.907503</td>\n",
       "      <td>0.618334</td>\n",
       "    </tr>\n",
       "    <tr>\n",
       "      <th>4</th>\n",
       "      <td>CNN_peptide_reg</td>\n",
       "      <td>0.713439</td>\n",
       "      <td>0.807924</td>\n",
       "      <td>0.624438</td>\n",
       "      <td>0.427160</td>\n",
       "      <td>0.872852</td>\n",
       "      <td>0.522930</td>\n",
       "    </tr>\n",
       "    <tr>\n",
       "      <th>5</th>\n",
       "      <td>CNN_allele_reg</td>\n",
       "      <td>0.639004</td>\n",
       "      <td>0.725724</td>\n",
       "      <td>0.332978</td>\n",
       "      <td>0.221437</td>\n",
       "      <td>0.932223</td>\n",
       "      <td>0.219130</td>\n",
       "    </tr>\n",
       "    <tr>\n",
       "      <th>6</th>\n",
       "      <td>MLP_shuffle_class</td>\n",
       "      <td>0.795770</td>\n",
       "      <td>0.795770</td>\n",
       "      <td>0.892664</td>\n",
       "      <td>0.631333</td>\n",
       "      <td>0.818141</td>\n",
       "      <td>0.793863</td>\n",
       "    </tr>\n",
       "    <tr>\n",
       "      <th>7</th>\n",
       "      <td>MLP_peptide_class</td>\n",
       "      <td>0.745867</td>\n",
       "      <td>0.745867</td>\n",
       "      <td>0.855406</td>\n",
       "      <td>0.553975</td>\n",
       "      <td>0.784439</td>\n",
       "      <td>0.747912</td>\n",
       "    </tr>\n",
       "    <tr>\n",
       "      <th>8</th>\n",
       "      <td>MLP_allele_class</td>\n",
       "      <td>0.195628</td>\n",
       "      <td>0.195628</td>\n",
       "      <td>0.459883</td>\n",
       "      <td>0.042437</td>\n",
       "      <td>0.567818</td>\n",
       "      <td>0.255109</td>\n",
       "    </tr>\n",
       "    <tr>\n",
       "      <th>9</th>\n",
       "      <td>MHCFlurry_shuffle</td>\n",
       "      <td>0.757804</td>\n",
       "      <td>0.713289</td>\n",
       "      <td>0.735547</td>\n",
       "      <td>0.471687</td>\n",
       "      <td>0.736301</td>\n",
       "      <td>0.723246</td>\n",
       "    </tr>\n",
       "    <tr>\n",
       "      <th>10</th>\n",
       "      <td>MHCFlurry_peptide</td>\n",
       "      <td>0.709991</td>\n",
       "      <td>0.667120</td>\n",
       "      <td>0.688556</td>\n",
       "      <td>0.376789</td>\n",
       "      <td>0.690395</td>\n",
       "      <td>0.663286</td>\n",
       "    </tr>\n",
       "    <tr>\n",
       "      <th>11</th>\n",
       "      <td>MHCFlurry_allele</td>\n",
       "      <td>0.817141</td>\n",
       "      <td>0.395371</td>\n",
       "      <td>0.606256</td>\n",
       "      <td>0.235476</td>\n",
       "      <td>0.643538</td>\n",
       "      <td>0.477279</td>\n",
       "    </tr>\n",
       "    <tr>\n",
       "      <th>12</th>\n",
       "      <td>GNN_shuffle_class_0.43</td>\n",
       "      <td>0.789090</td>\n",
       "      <td>0.869302</td>\n",
       "      <td>0.770967</td>\n",
       "      <td>0.578108</td>\n",
       "      <td>NaN</td>\n",
       "      <td>0.806347</td>\n",
       "    </tr>\n",
       "  </tbody>\n",
       "</table>\n",
       "</div>"
      ],
      "text/plain": [
       "                     model       acc       auc        f1       mcc       tnr  \\\n",
       "0        CNN_shuffle_class  0.787383  0.855928  0.751575  0.566675  0.831581   \n",
       "1        CNN_peptide_class  0.717805  0.788124  0.706360  0.438340  0.695017   \n",
       "2         CNN_allele_class  0.649774  0.697055  0.431115  0.245109  0.878164   \n",
       "3          CNN_shuffle_reg  0.780295  0.871268  0.712325  0.557802  0.907503   \n",
       "4          CNN_peptide_reg  0.713439  0.807924  0.624438  0.427160  0.872852   \n",
       "5           CNN_allele_reg  0.639004  0.725724  0.332978  0.221437  0.932223   \n",
       "6        MLP_shuffle_class  0.795770  0.795770  0.892664  0.631333  0.818141   \n",
       "7        MLP_peptide_class  0.745867  0.745867  0.855406  0.553975  0.784439   \n",
       "8         MLP_allele_class  0.195628  0.195628  0.459883  0.042437  0.567818   \n",
       "9        MHCFlurry_shuffle  0.757804  0.713289  0.735547  0.471687  0.736301   \n",
       "10       MHCFlurry_peptide  0.709991  0.667120  0.688556  0.376789  0.690395   \n",
       "11        MHCFlurry_allele  0.817141  0.395371  0.606256  0.235476  0.643538   \n",
       "12  GNN_shuffle_class_0.43  0.789090  0.869302  0.770967  0.578108       NaN   \n",
       "\n",
       "         tpr  \n",
       "0   0.731110  \n",
       "1   0.745038  \n",
       "2   0.322732  \n",
       "3   0.618334  \n",
       "4   0.522930  \n",
       "5   0.219130  \n",
       "6   0.793863  \n",
       "7   0.747912  \n",
       "8   0.255109  \n",
       "9   0.723246  \n",
       "10  0.663286  \n",
       "11  0.477279  \n",
       "12  0.806347  "
      ]
     },
     "execution_count": 6,
     "metadata": {},
     "output_type": "execute_result"
    }
   ],
   "source": [
    "baseline_df"
   ]
  },
  {
   "cell_type": "code",
   "execution_count": 37,
   "metadata": {},
   "outputs": [
    {
     "data": {
      "application/vnd.plotly.v1+json": {
       "config": {
        "plotlyServerURL": "https://plot.ly"
       },
       "data": [
        {
         "legendgroup": "CNN_shuffle_class",
         "name": "CNN_class",
         "type": "bar",
         "x": [
          "auc",
          "f1",
          "mcc",
          "tpr",
          "acc"
         ],
         "y": [
          0.8559281771595448,
          0.7515745276417075,
          0.5666754300415046,
          0.7311095983662356,
          0.787382711119984
         ]
        },
        {
         "legendgroup": "CNN_shuffle_reg",
         "name": "CNN_reg",
         "type": "bar",
         "x": [
          "auc",
          "f1",
          "mcc",
          "tpr",
          "acc"
         ],
         "y": [
          0.8712680532020861,
          0.7123251862501634,
          0.5578022565550951,
          0.61833446789199,
          0.7802954681573169
         ]
        },
        {
         "legendgroup": "MLP_shuffle_class",
         "name": "MLP_class",
         "type": "bar",
         "x": [
          "auc",
          "f1",
          "mcc",
          "tpr",
          "acc"
         ],
         "y": [
          0.7957704067230225,
          0.892663987729873,
          0.6313329825975634,
          0.7938629388809204,
          0.7957704067230225
         ]
        },
        {
         "legendgroup": "MHCFlurry_shuffle",
         "name": "MHCFlurry",
         "type": "bar",
         "x": [
          "auc",
          "f1",
          "mcc",
          "tpr",
          "acc"
         ],
         "y": [
          0.7132892608642578,
          0.7355468273162842,
          0.4716866612434387,
          0.7232459187507629,
          0.7578044533729553
         ]
        },
        {
         "legendgroup": "GNN_shuffle_class_0.43",
         "name": "GNN_class_0.43",
         "type": "bar",
         "x": [
          "auc",
          "f1",
          "mcc",
          "tpr",
          "acc"
         ],
         "y": [
          0.869302184452747,
          0.7709666919822067,
          0.5781082326635243,
          0.8063472369258096,
          0.7890898191627536
         ]
        }
       ],
       "layout": {
        "barmode": "group",
        "height": 600,
        "template": {
         "data": {
          "bar": [
           {
            "error_x": {
             "color": "#2a3f5f"
            },
            "error_y": {
             "color": "#2a3f5f"
            },
            "marker": {
             "line": {
              "color": "#E5ECF6",
              "width": 0.5
             },
             "pattern": {
              "fillmode": "overlay",
              "size": 10,
              "solidity": 0.2
             }
            },
            "type": "bar"
           }
          ],
          "barpolar": [
           {
            "marker": {
             "line": {
              "color": "#E5ECF6",
              "width": 0.5
             },
             "pattern": {
              "fillmode": "overlay",
              "size": 10,
              "solidity": 0.2
             }
            },
            "type": "barpolar"
           }
          ],
          "carpet": [
           {
            "aaxis": {
             "endlinecolor": "#2a3f5f",
             "gridcolor": "white",
             "linecolor": "white",
             "minorgridcolor": "white",
             "startlinecolor": "#2a3f5f"
            },
            "baxis": {
             "endlinecolor": "#2a3f5f",
             "gridcolor": "white",
             "linecolor": "white",
             "minorgridcolor": "white",
             "startlinecolor": "#2a3f5f"
            },
            "type": "carpet"
           }
          ],
          "choropleth": [
           {
            "colorbar": {
             "outlinewidth": 0,
             "ticks": ""
            },
            "type": "choropleth"
           }
          ],
          "contour": [
           {
            "colorbar": {
             "outlinewidth": 0,
             "ticks": ""
            },
            "colorscale": [
             [
              0,
              "#0d0887"
             ],
             [
              0.1111111111111111,
              "#46039f"
             ],
             [
              0.2222222222222222,
              "#7201a8"
             ],
             [
              0.3333333333333333,
              "#9c179e"
             ],
             [
              0.4444444444444444,
              "#bd3786"
             ],
             [
              0.5555555555555556,
              "#d8576b"
             ],
             [
              0.6666666666666666,
              "#ed7953"
             ],
             [
              0.7777777777777778,
              "#fb9f3a"
             ],
             [
              0.8888888888888888,
              "#fdca26"
             ],
             [
              1,
              "#f0f921"
             ]
            ],
            "type": "contour"
           }
          ],
          "contourcarpet": [
           {
            "colorbar": {
             "outlinewidth": 0,
             "ticks": ""
            },
            "type": "contourcarpet"
           }
          ],
          "heatmap": [
           {
            "colorbar": {
             "outlinewidth": 0,
             "ticks": ""
            },
            "colorscale": [
             [
              0,
              "#0d0887"
             ],
             [
              0.1111111111111111,
              "#46039f"
             ],
             [
              0.2222222222222222,
              "#7201a8"
             ],
             [
              0.3333333333333333,
              "#9c179e"
             ],
             [
              0.4444444444444444,
              "#bd3786"
             ],
             [
              0.5555555555555556,
              "#d8576b"
             ],
             [
              0.6666666666666666,
              "#ed7953"
             ],
             [
              0.7777777777777778,
              "#fb9f3a"
             ],
             [
              0.8888888888888888,
              "#fdca26"
             ],
             [
              1,
              "#f0f921"
             ]
            ],
            "type": "heatmap"
           }
          ],
          "heatmapgl": [
           {
            "colorbar": {
             "outlinewidth": 0,
             "ticks": ""
            },
            "colorscale": [
             [
              0,
              "#0d0887"
             ],
             [
              0.1111111111111111,
              "#46039f"
             ],
             [
              0.2222222222222222,
              "#7201a8"
             ],
             [
              0.3333333333333333,
              "#9c179e"
             ],
             [
              0.4444444444444444,
              "#bd3786"
             ],
             [
              0.5555555555555556,
              "#d8576b"
             ],
             [
              0.6666666666666666,
              "#ed7953"
             ],
             [
              0.7777777777777778,
              "#fb9f3a"
             ],
             [
              0.8888888888888888,
              "#fdca26"
             ],
             [
              1,
              "#f0f921"
             ]
            ],
            "type": "heatmapgl"
           }
          ],
          "histogram": [
           {
            "marker": {
             "pattern": {
              "fillmode": "overlay",
              "size": 10,
              "solidity": 0.2
             }
            },
            "type": "histogram"
           }
          ],
          "histogram2d": [
           {
            "colorbar": {
             "outlinewidth": 0,
             "ticks": ""
            },
            "colorscale": [
             [
              0,
              "#0d0887"
             ],
             [
              0.1111111111111111,
              "#46039f"
             ],
             [
              0.2222222222222222,
              "#7201a8"
             ],
             [
              0.3333333333333333,
              "#9c179e"
             ],
             [
              0.4444444444444444,
              "#bd3786"
             ],
             [
              0.5555555555555556,
              "#d8576b"
             ],
             [
              0.6666666666666666,
              "#ed7953"
             ],
             [
              0.7777777777777778,
              "#fb9f3a"
             ],
             [
              0.8888888888888888,
              "#fdca26"
             ],
             [
              1,
              "#f0f921"
             ]
            ],
            "type": "histogram2d"
           }
          ],
          "histogram2dcontour": [
           {
            "colorbar": {
             "outlinewidth": 0,
             "ticks": ""
            },
            "colorscale": [
             [
              0,
              "#0d0887"
             ],
             [
              0.1111111111111111,
              "#46039f"
             ],
             [
              0.2222222222222222,
              "#7201a8"
             ],
             [
              0.3333333333333333,
              "#9c179e"
             ],
             [
              0.4444444444444444,
              "#bd3786"
             ],
             [
              0.5555555555555556,
              "#d8576b"
             ],
             [
              0.6666666666666666,
              "#ed7953"
             ],
             [
              0.7777777777777778,
              "#fb9f3a"
             ],
             [
              0.8888888888888888,
              "#fdca26"
             ],
             [
              1,
              "#f0f921"
             ]
            ],
            "type": "histogram2dcontour"
           }
          ],
          "mesh3d": [
           {
            "colorbar": {
             "outlinewidth": 0,
             "ticks": ""
            },
            "type": "mesh3d"
           }
          ],
          "parcoords": [
           {
            "line": {
             "colorbar": {
              "outlinewidth": 0,
              "ticks": ""
             }
            },
            "type": "parcoords"
           }
          ],
          "pie": [
           {
            "automargin": true,
            "type": "pie"
           }
          ],
          "scatter": [
           {
            "fillpattern": {
             "fillmode": "overlay",
             "size": 10,
             "solidity": 0.2
            },
            "type": "scatter"
           }
          ],
          "scatter3d": [
           {
            "line": {
             "colorbar": {
              "outlinewidth": 0,
              "ticks": ""
             }
            },
            "marker": {
             "colorbar": {
              "outlinewidth": 0,
              "ticks": ""
             }
            },
            "type": "scatter3d"
           }
          ],
          "scattercarpet": [
           {
            "marker": {
             "colorbar": {
              "outlinewidth": 0,
              "ticks": ""
             }
            },
            "type": "scattercarpet"
           }
          ],
          "scattergeo": [
           {
            "marker": {
             "colorbar": {
              "outlinewidth": 0,
              "ticks": ""
             }
            },
            "type": "scattergeo"
           }
          ],
          "scattergl": [
           {
            "marker": {
             "colorbar": {
              "outlinewidth": 0,
              "ticks": ""
             }
            },
            "type": "scattergl"
           }
          ],
          "scattermapbox": [
           {
            "marker": {
             "colorbar": {
              "outlinewidth": 0,
              "ticks": ""
             }
            },
            "type": "scattermapbox"
           }
          ],
          "scatterpolar": [
           {
            "marker": {
             "colorbar": {
              "outlinewidth": 0,
              "ticks": ""
             }
            },
            "type": "scatterpolar"
           }
          ],
          "scatterpolargl": [
           {
            "marker": {
             "colorbar": {
              "outlinewidth": 0,
              "ticks": ""
             }
            },
            "type": "scatterpolargl"
           }
          ],
          "scatterternary": [
           {
            "marker": {
             "colorbar": {
              "outlinewidth": 0,
              "ticks": ""
             }
            },
            "type": "scatterternary"
           }
          ],
          "surface": [
           {
            "colorbar": {
             "outlinewidth": 0,
             "ticks": ""
            },
            "colorscale": [
             [
              0,
              "#0d0887"
             ],
             [
              0.1111111111111111,
              "#46039f"
             ],
             [
              0.2222222222222222,
              "#7201a8"
             ],
             [
              0.3333333333333333,
              "#9c179e"
             ],
             [
              0.4444444444444444,
              "#bd3786"
             ],
             [
              0.5555555555555556,
              "#d8576b"
             ],
             [
              0.6666666666666666,
              "#ed7953"
             ],
             [
              0.7777777777777778,
              "#fb9f3a"
             ],
             [
              0.8888888888888888,
              "#fdca26"
             ],
             [
              1,
              "#f0f921"
             ]
            ],
            "type": "surface"
           }
          ],
          "table": [
           {
            "cells": {
             "fill": {
              "color": "#EBF0F8"
             },
             "line": {
              "color": "white"
             }
            },
            "header": {
             "fill": {
              "color": "#C8D4E3"
             },
             "line": {
              "color": "white"
             }
            },
            "type": "table"
           }
          ]
         },
         "layout": {
          "annotationdefaults": {
           "arrowcolor": "#2a3f5f",
           "arrowhead": 0,
           "arrowwidth": 1
          },
          "autotypenumbers": "strict",
          "coloraxis": {
           "colorbar": {
            "outlinewidth": 0,
            "ticks": ""
           }
          },
          "colorscale": {
           "diverging": [
            [
             0,
             "#8e0152"
            ],
            [
             0.1,
             "#c51b7d"
            ],
            [
             0.2,
             "#de77ae"
            ],
            [
             0.3,
             "#f1b6da"
            ],
            [
             0.4,
             "#fde0ef"
            ],
            [
             0.5,
             "#f7f7f7"
            ],
            [
             0.6,
             "#e6f5d0"
            ],
            [
             0.7,
             "#b8e186"
            ],
            [
             0.8,
             "#7fbc41"
            ],
            [
             0.9,
             "#4d9221"
            ],
            [
             1,
             "#276419"
            ]
           ],
           "sequential": [
            [
             0,
             "#0d0887"
            ],
            [
             0.1111111111111111,
             "#46039f"
            ],
            [
             0.2222222222222222,
             "#7201a8"
            ],
            [
             0.3333333333333333,
             "#9c179e"
            ],
            [
             0.4444444444444444,
             "#bd3786"
            ],
            [
             0.5555555555555556,
             "#d8576b"
            ],
            [
             0.6666666666666666,
             "#ed7953"
            ],
            [
             0.7777777777777778,
             "#fb9f3a"
            ],
            [
             0.8888888888888888,
             "#fdca26"
            ],
            [
             1,
             "#f0f921"
            ]
           ],
           "sequentialminus": [
            [
             0,
             "#0d0887"
            ],
            [
             0.1111111111111111,
             "#46039f"
            ],
            [
             0.2222222222222222,
             "#7201a8"
            ],
            [
             0.3333333333333333,
             "#9c179e"
            ],
            [
             0.4444444444444444,
             "#bd3786"
            ],
            [
             0.5555555555555556,
             "#d8576b"
            ],
            [
             0.6666666666666666,
             "#ed7953"
            ],
            [
             0.7777777777777778,
             "#fb9f3a"
            ],
            [
             0.8888888888888888,
             "#fdca26"
            ],
            [
             1,
             "#f0f921"
            ]
           ]
          },
          "colorway": [
           "#636efa",
           "#EF553B",
           "#00cc96",
           "#ab63fa",
           "#FFA15A",
           "#19d3f3",
           "#FF6692",
           "#B6E880",
           "#FF97FF",
           "#FECB52"
          ],
          "font": {
           "color": "#2a3f5f"
          },
          "geo": {
           "bgcolor": "white",
           "lakecolor": "white",
           "landcolor": "#E5ECF6",
           "showlakes": true,
           "showland": true,
           "subunitcolor": "white"
          },
          "hoverlabel": {
           "align": "left"
          },
          "hovermode": "closest",
          "mapbox": {
           "style": "light"
          },
          "paper_bgcolor": "white",
          "plot_bgcolor": "#E5ECF6",
          "polar": {
           "angularaxis": {
            "gridcolor": "white",
            "linecolor": "white",
            "ticks": ""
           },
           "bgcolor": "#E5ECF6",
           "radialaxis": {
            "gridcolor": "white",
            "linecolor": "white",
            "ticks": ""
           }
          },
          "scene": {
           "xaxis": {
            "backgroundcolor": "#E5ECF6",
            "gridcolor": "white",
            "gridwidth": 2,
            "linecolor": "white",
            "showbackground": true,
            "ticks": "",
            "zerolinecolor": "white"
           },
           "yaxis": {
            "backgroundcolor": "#E5ECF6",
            "gridcolor": "white",
            "gridwidth": 2,
            "linecolor": "white",
            "showbackground": true,
            "ticks": "",
            "zerolinecolor": "white"
           },
           "zaxis": {
            "backgroundcolor": "#E5ECF6",
            "gridcolor": "white",
            "gridwidth": 2,
            "linecolor": "white",
            "showbackground": true,
            "ticks": "",
            "zerolinecolor": "white"
           }
          },
          "shapedefaults": {
           "line": {
            "color": "#2a3f5f"
           }
          },
          "ternary": {
           "aaxis": {
            "gridcolor": "white",
            "linecolor": "white",
            "ticks": ""
           },
           "baxis": {
            "gridcolor": "white",
            "linecolor": "white",
            "ticks": ""
           },
           "bgcolor": "#E5ECF6",
           "caxis": {
            "gridcolor": "white",
            "linecolor": "white",
            "ticks": ""
           }
          },
          "title": {
           "x": 0.05
          },
          "xaxis": {
           "automargin": true,
           "gridcolor": "white",
           "linecolor": "white",
           "ticks": "",
           "title": {
            "standoff": 15
           },
           "zerolinecolor": "white",
           "zerolinewidth": 2
          },
          "yaxis": {
           "automargin": true,
           "gridcolor": "white",
           "linecolor": "white",
           "ticks": "",
           "title": {
            "standoff": 15
           },
           "zerolinecolor": "white",
           "zerolinewidth": 2
          }
         }
        },
        "title": {
         "text": "Experiments type: shuffle",
         "x": 0.5
        },
        "width": 1100,
        "yaxis": {
         "title": {
          "text": "Value"
         }
        }
       }
      },
      "text/html": [
       "<div>                            <div id=\"d4ed7b04-ad15-4ed5-9183-45e458463560\" class=\"plotly-graph-div\" style=\"height:600px; width:1100px;\"></div>            <script type=\"text/javascript\">                require([\"plotly\"], function(Plotly) {                    window.PLOTLYENV=window.PLOTLYENV || {};                                    if (document.getElementById(\"d4ed7b04-ad15-4ed5-9183-45e458463560\")) {                    Plotly.newPlot(                        \"d4ed7b04-ad15-4ed5-9183-45e458463560\",                        [{\"legendgroup\":\"CNN_shuffle_class\",\"name\":\"CNN_class\",\"x\":[\"auc\",\"f1\",\"mcc\",\"tpr\",\"acc\"],\"y\":[0.8559281771595448,0.7515745276417075,0.5666754300415046,0.7311095983662356,0.787382711119984],\"type\":\"bar\"},{\"legendgroup\":\"CNN_shuffle_reg\",\"name\":\"CNN_reg\",\"x\":[\"auc\",\"f1\",\"mcc\",\"tpr\",\"acc\"],\"y\":[0.8712680532020861,0.7123251862501634,0.5578022565550951,0.61833446789199,0.7802954681573169],\"type\":\"bar\"},{\"legendgroup\":\"MLP_shuffle_class\",\"name\":\"MLP_class\",\"x\":[\"auc\",\"f1\",\"mcc\",\"tpr\",\"acc\"],\"y\":[0.7957704067230225,0.892663987729873,0.6313329825975634,0.7938629388809204,0.7957704067230225],\"type\":\"bar\"},{\"legendgroup\":\"MHCFlurry_shuffle\",\"name\":\"MHCFlurry\",\"x\":[\"auc\",\"f1\",\"mcc\",\"tpr\",\"acc\"],\"y\":[0.7132892608642578,0.7355468273162842,0.4716866612434387,0.7232459187507629,0.7578044533729553],\"type\":\"bar\"},{\"legendgroup\":\"GNN_shuffle_class_0.43\",\"name\":\"GNN_class_0.43\",\"x\":[\"auc\",\"f1\",\"mcc\",\"tpr\",\"acc\"],\"y\":[0.869302184452747,0.7709666919822067,0.5781082326635243,0.8063472369258096,0.7890898191627536],\"type\":\"bar\"}],                        {\"template\":{\"data\":{\"histogram2dcontour\":[{\"type\":\"histogram2dcontour\",\"colorbar\":{\"outlinewidth\":0,\"ticks\":\"\"},\"colorscale\":[[0.0,\"#0d0887\"],[0.1111111111111111,\"#46039f\"],[0.2222222222222222,\"#7201a8\"],[0.3333333333333333,\"#9c179e\"],[0.4444444444444444,\"#bd3786\"],[0.5555555555555556,\"#d8576b\"],[0.6666666666666666,\"#ed7953\"],[0.7777777777777778,\"#fb9f3a\"],[0.8888888888888888,\"#fdca26\"],[1.0,\"#f0f921\"]]}],\"choropleth\":[{\"type\":\"choropleth\",\"colorbar\":{\"outlinewidth\":0,\"ticks\":\"\"}}],\"histogram2d\":[{\"type\":\"histogram2d\",\"colorbar\":{\"outlinewidth\":0,\"ticks\":\"\"},\"colorscale\":[[0.0,\"#0d0887\"],[0.1111111111111111,\"#46039f\"],[0.2222222222222222,\"#7201a8\"],[0.3333333333333333,\"#9c179e\"],[0.4444444444444444,\"#bd3786\"],[0.5555555555555556,\"#d8576b\"],[0.6666666666666666,\"#ed7953\"],[0.7777777777777778,\"#fb9f3a\"],[0.8888888888888888,\"#fdca26\"],[1.0,\"#f0f921\"]]}],\"heatmap\":[{\"type\":\"heatmap\",\"colorbar\":{\"outlinewidth\":0,\"ticks\":\"\"},\"colorscale\":[[0.0,\"#0d0887\"],[0.1111111111111111,\"#46039f\"],[0.2222222222222222,\"#7201a8\"],[0.3333333333333333,\"#9c179e\"],[0.4444444444444444,\"#bd3786\"],[0.5555555555555556,\"#d8576b\"],[0.6666666666666666,\"#ed7953\"],[0.7777777777777778,\"#fb9f3a\"],[0.8888888888888888,\"#fdca26\"],[1.0,\"#f0f921\"]]}],\"heatmapgl\":[{\"type\":\"heatmapgl\",\"colorbar\":{\"outlinewidth\":0,\"ticks\":\"\"},\"colorscale\":[[0.0,\"#0d0887\"],[0.1111111111111111,\"#46039f\"],[0.2222222222222222,\"#7201a8\"],[0.3333333333333333,\"#9c179e\"],[0.4444444444444444,\"#bd3786\"],[0.5555555555555556,\"#d8576b\"],[0.6666666666666666,\"#ed7953\"],[0.7777777777777778,\"#fb9f3a\"],[0.8888888888888888,\"#fdca26\"],[1.0,\"#f0f921\"]]}],\"contourcarpet\":[{\"type\":\"contourcarpet\",\"colorbar\":{\"outlinewidth\":0,\"ticks\":\"\"}}],\"contour\":[{\"type\":\"contour\",\"colorbar\":{\"outlinewidth\":0,\"ticks\":\"\"},\"colorscale\":[[0.0,\"#0d0887\"],[0.1111111111111111,\"#46039f\"],[0.2222222222222222,\"#7201a8\"],[0.3333333333333333,\"#9c179e\"],[0.4444444444444444,\"#bd3786\"],[0.5555555555555556,\"#d8576b\"],[0.6666666666666666,\"#ed7953\"],[0.7777777777777778,\"#fb9f3a\"],[0.8888888888888888,\"#fdca26\"],[1.0,\"#f0f921\"]]}],\"surface\":[{\"type\":\"surface\",\"colorbar\":{\"outlinewidth\":0,\"ticks\":\"\"},\"colorscale\":[[0.0,\"#0d0887\"],[0.1111111111111111,\"#46039f\"],[0.2222222222222222,\"#7201a8\"],[0.3333333333333333,\"#9c179e\"],[0.4444444444444444,\"#bd3786\"],[0.5555555555555556,\"#d8576b\"],[0.6666666666666666,\"#ed7953\"],[0.7777777777777778,\"#fb9f3a\"],[0.8888888888888888,\"#fdca26\"],[1.0,\"#f0f921\"]]}],\"mesh3d\":[{\"type\":\"mesh3d\",\"colorbar\":{\"outlinewidth\":0,\"ticks\":\"\"}}],\"scatter\":[{\"fillpattern\":{\"fillmode\":\"overlay\",\"size\":10,\"solidity\":0.2},\"type\":\"scatter\"}],\"parcoords\":[{\"type\":\"parcoords\",\"line\":{\"colorbar\":{\"outlinewidth\":0,\"ticks\":\"\"}}}],\"scatterpolargl\":[{\"type\":\"scatterpolargl\",\"marker\":{\"colorbar\":{\"outlinewidth\":0,\"ticks\":\"\"}}}],\"bar\":[{\"error_x\":{\"color\":\"#2a3f5f\"},\"error_y\":{\"color\":\"#2a3f5f\"},\"marker\":{\"line\":{\"color\":\"#E5ECF6\",\"width\":0.5},\"pattern\":{\"fillmode\":\"overlay\",\"size\":10,\"solidity\":0.2}},\"type\":\"bar\"}],\"scattergeo\":[{\"type\":\"scattergeo\",\"marker\":{\"colorbar\":{\"outlinewidth\":0,\"ticks\":\"\"}}}],\"scatterpolar\":[{\"type\":\"scatterpolar\",\"marker\":{\"colorbar\":{\"outlinewidth\":0,\"ticks\":\"\"}}}],\"histogram\":[{\"marker\":{\"pattern\":{\"fillmode\":\"overlay\",\"size\":10,\"solidity\":0.2}},\"type\":\"histogram\"}],\"scattergl\":[{\"type\":\"scattergl\",\"marker\":{\"colorbar\":{\"outlinewidth\":0,\"ticks\":\"\"}}}],\"scatter3d\":[{\"type\":\"scatter3d\",\"line\":{\"colorbar\":{\"outlinewidth\":0,\"ticks\":\"\"}},\"marker\":{\"colorbar\":{\"outlinewidth\":0,\"ticks\":\"\"}}}],\"scattermapbox\":[{\"type\":\"scattermapbox\",\"marker\":{\"colorbar\":{\"outlinewidth\":0,\"ticks\":\"\"}}}],\"scatterternary\":[{\"type\":\"scatterternary\",\"marker\":{\"colorbar\":{\"outlinewidth\":0,\"ticks\":\"\"}}}],\"scattercarpet\":[{\"type\":\"scattercarpet\",\"marker\":{\"colorbar\":{\"outlinewidth\":0,\"ticks\":\"\"}}}],\"carpet\":[{\"aaxis\":{\"endlinecolor\":\"#2a3f5f\",\"gridcolor\":\"white\",\"linecolor\":\"white\",\"minorgridcolor\":\"white\",\"startlinecolor\":\"#2a3f5f\"},\"baxis\":{\"endlinecolor\":\"#2a3f5f\",\"gridcolor\":\"white\",\"linecolor\":\"white\",\"minorgridcolor\":\"white\",\"startlinecolor\":\"#2a3f5f\"},\"type\":\"carpet\"}],\"table\":[{\"cells\":{\"fill\":{\"color\":\"#EBF0F8\"},\"line\":{\"color\":\"white\"}},\"header\":{\"fill\":{\"color\":\"#C8D4E3\"},\"line\":{\"color\":\"white\"}},\"type\":\"table\"}],\"barpolar\":[{\"marker\":{\"line\":{\"color\":\"#E5ECF6\",\"width\":0.5},\"pattern\":{\"fillmode\":\"overlay\",\"size\":10,\"solidity\":0.2}},\"type\":\"barpolar\"}],\"pie\":[{\"automargin\":true,\"type\":\"pie\"}]},\"layout\":{\"autotypenumbers\":\"strict\",\"colorway\":[\"#636efa\",\"#EF553B\",\"#00cc96\",\"#ab63fa\",\"#FFA15A\",\"#19d3f3\",\"#FF6692\",\"#B6E880\",\"#FF97FF\",\"#FECB52\"],\"font\":{\"color\":\"#2a3f5f\"},\"hovermode\":\"closest\",\"hoverlabel\":{\"align\":\"left\"},\"paper_bgcolor\":\"white\",\"plot_bgcolor\":\"#E5ECF6\",\"polar\":{\"bgcolor\":\"#E5ECF6\",\"angularaxis\":{\"gridcolor\":\"white\",\"linecolor\":\"white\",\"ticks\":\"\"},\"radialaxis\":{\"gridcolor\":\"white\",\"linecolor\":\"white\",\"ticks\":\"\"}},\"ternary\":{\"bgcolor\":\"#E5ECF6\",\"aaxis\":{\"gridcolor\":\"white\",\"linecolor\":\"white\",\"ticks\":\"\"},\"baxis\":{\"gridcolor\":\"white\",\"linecolor\":\"white\",\"ticks\":\"\"},\"caxis\":{\"gridcolor\":\"white\",\"linecolor\":\"white\",\"ticks\":\"\"}},\"coloraxis\":{\"colorbar\":{\"outlinewidth\":0,\"ticks\":\"\"}},\"colorscale\":{\"sequential\":[[0.0,\"#0d0887\"],[0.1111111111111111,\"#46039f\"],[0.2222222222222222,\"#7201a8\"],[0.3333333333333333,\"#9c179e\"],[0.4444444444444444,\"#bd3786\"],[0.5555555555555556,\"#d8576b\"],[0.6666666666666666,\"#ed7953\"],[0.7777777777777778,\"#fb9f3a\"],[0.8888888888888888,\"#fdca26\"],[1.0,\"#f0f921\"]],\"sequentialminus\":[[0.0,\"#0d0887\"],[0.1111111111111111,\"#46039f\"],[0.2222222222222222,\"#7201a8\"],[0.3333333333333333,\"#9c179e\"],[0.4444444444444444,\"#bd3786\"],[0.5555555555555556,\"#d8576b\"],[0.6666666666666666,\"#ed7953\"],[0.7777777777777778,\"#fb9f3a\"],[0.8888888888888888,\"#fdca26\"],[1.0,\"#f0f921\"]],\"diverging\":[[0,\"#8e0152\"],[0.1,\"#c51b7d\"],[0.2,\"#de77ae\"],[0.3,\"#f1b6da\"],[0.4,\"#fde0ef\"],[0.5,\"#f7f7f7\"],[0.6,\"#e6f5d0\"],[0.7,\"#b8e186\"],[0.8,\"#7fbc41\"],[0.9,\"#4d9221\"],[1,\"#276419\"]]},\"xaxis\":{\"gridcolor\":\"white\",\"linecolor\":\"white\",\"ticks\":\"\",\"title\":{\"standoff\":15},\"zerolinecolor\":\"white\",\"automargin\":true,\"zerolinewidth\":2},\"yaxis\":{\"gridcolor\":\"white\",\"linecolor\":\"white\",\"ticks\":\"\",\"title\":{\"standoff\":15},\"zerolinecolor\":\"white\",\"automargin\":true,\"zerolinewidth\":2},\"scene\":{\"xaxis\":{\"backgroundcolor\":\"#E5ECF6\",\"gridcolor\":\"white\",\"linecolor\":\"white\",\"showbackground\":true,\"ticks\":\"\",\"zerolinecolor\":\"white\",\"gridwidth\":2},\"yaxis\":{\"backgroundcolor\":\"#E5ECF6\",\"gridcolor\":\"white\",\"linecolor\":\"white\",\"showbackground\":true,\"ticks\":\"\",\"zerolinecolor\":\"white\",\"gridwidth\":2},\"zaxis\":{\"backgroundcolor\":\"#E5ECF6\",\"gridcolor\":\"white\",\"linecolor\":\"white\",\"showbackground\":true,\"ticks\":\"\",\"zerolinecolor\":\"white\",\"gridwidth\":2}},\"shapedefaults\":{\"line\":{\"color\":\"#2a3f5f\"}},\"annotationdefaults\":{\"arrowcolor\":\"#2a3f5f\",\"arrowhead\":0,\"arrowwidth\":1},\"geo\":{\"bgcolor\":\"white\",\"landcolor\":\"#E5ECF6\",\"subunitcolor\":\"white\",\"showland\":true,\"showlakes\":true,\"lakecolor\":\"white\"},\"title\":{\"x\":0.05},\"mapbox\":{\"style\":\"light\"}}},\"yaxis\":{\"title\":{\"text\":\"Value\"}},\"title\":{\"text\":\"Experiments type: shuffle\",\"x\":0.5},\"barmode\":\"group\",\"width\":1100,\"height\":600},                        {\"responsive\": true}                    ).then(function(){\n",
       "                            \n",
       "var gd = document.getElementById('d4ed7b04-ad15-4ed5-9183-45e458463560');\n",
       "var x = new MutationObserver(function (mutations, observer) {{\n",
       "        var display = window.getComputedStyle(gd).display;\n",
       "        if (!display || display === 'none') {{\n",
       "            console.log([gd, 'removed!']);\n",
       "            Plotly.purge(gd);\n",
       "            observer.disconnect();\n",
       "        }}\n",
       "}});\n",
       "\n",
       "// Listen for the removal of the full notebook cells\n",
       "var notebookContainer = gd.closest('#notebook-container');\n",
       "if (notebookContainer) {{\n",
       "    x.observe(notebookContainer, {childList: true});\n",
       "}}\n",
       "\n",
       "// Listen for the clearing of the current output cell\n",
       "var outputEl = gd.closest('.output');\n",
       "if (outputEl) {{\n",
       "    x.observe(outputEl, {childList: true});\n",
       "}}\n",
       "\n",
       "                        })                };                });            </script>        </div>"
      ]
     },
     "metadata": {},
     "output_type": "display_data"
    }
   ],
   "source": [
    "######## Compare\n",
    "cl_type = 'shuffle'\n",
    "metrics = ['auc', 'f1', 'mcc', 'tpr', 'acc']\n",
    "########\n",
    "models = [\n",
    "    f'CNN_{cl_type}_class', \n",
    "    f'CNN_{cl_type}_reg',\n",
    "    f'MLP_{cl_type}_class',\n",
    "    f'MHCFlurry_{cl_type}',\n",
    "    f'GNN_{cl_type}_class_0.43']\n",
    "fig = go.Figure()\n",
    "\n",
    "for model in models:\n",
    "    idx = baseline_df.index[baseline_df['model'] == model].tolist()[0]\n",
    "    fig.add_trace(go.Bar(\n",
    "        x = metrics,\n",
    "        y = [baseline_df.loc[idx][metric] for metric in metrics],\n",
    "        name = ''.join(model.split(f\"_{cl_type}\")),\n",
    "        legendgroup = model\n",
    "    ))\n",
    "\n",
    "fig.update_yaxes(title_text=\"Value\")\n",
    "fig.update_layout(\n",
    "    barmode='group',\n",
    "    title=f'Experiments type: {cl_type}',\n",
    "    title_x=0.5,\n",
    "    width=1100, height=600)\n",
    "fig.show()\n",
    "# fig.write_html(os.path.join(comparison_path, 'timings.html'))"
   ]
  },
  {
   "cell_type": "code",
   "execution_count": null,
   "metadata": {},
   "outputs": [],
   "source": []
  }
 ],
 "metadata": {
  "kernelspec": {
   "display_name": "deeprank",
   "language": "python",
   "name": "python3"
  },
  "language_info": {
   "codemirror_mode": {
    "name": "ipython",
    "version": 3
   },
   "file_extension": ".py",
   "mimetype": "text/x-python",
   "name": "python",
   "nbconvert_exporter": "python",
   "pygments_lexer": "ipython3",
   "version": "3.9.12"
  },
  "orig_nbformat": 4
 },
 "nbformat": 4,
 "nbformat_minor": 2
}
