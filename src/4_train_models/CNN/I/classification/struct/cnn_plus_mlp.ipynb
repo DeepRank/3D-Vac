{
 "cells": [
  {
   "cell_type": "code",
   "execution_count": 1,
   "metadata": {},
   "outputs": [],
   "source": [
    "import sys\n",
    "import h5py\n",
    "import argparse\n",
    "import os.path as path\n",
    "import os\n",
    "import sys\n",
    "sys.path.append(path.abspath(\"../../../../\"))\n",
    "from CNN.CNN_models import *\n",
    "from CNN.NeuralNet import NeuralNet\n",
    "#from deeprank.learn.modelGenerator import *\n",
    "\n",
    "def get_cnn_outputs(test_hdf5, architecture, pretrained_model, outdir, with_cuda = False):\n",
    "    # try:\n",
    "    #     os.makedirs(outdir)\n",
    "    # except FileExistsError:\n",
    "    #     pass\n",
    "\n",
    "    model = NeuralNet(test_hdf5,\n",
    "        model = architecture,\n",
    "        cuda = bool(with_cuda),\n",
    "        ngpu = (0,1)[with_cuda],\n",
    "        outdir = outdir,\n",
    "        pretrained_model=pretrained_model,\n",
    "    )\n",
    "\n",
    "    model.test()\n",
    "\n",
    "# get_cnn_outputs(\n",
    "#     test_hdf5= '/projects/0/einf2380/data/pMHCI/features_output_folder/CNN/splits_HLA_quant_allele_clusters/clustered/0/test.hdf5',\n",
    "#     pretrained_model = '/projects/0/einf2380/data/pMHCI/trained_models/CNN/clustAllele_noPSSM_sumFeat_bn/CnnClassGroupConv/best_valid_model.pth.tar',\n",
    "#     architecture = CnnClassGroupConv,\n",
    "#     outdir = '/projects/0/einf2380/data/pMHCI/trained_models/CNN/clustAllele_noPSSM_sumFeat_bn/CnnClassGroupConv/'\n",
    "#     )"
   ]
  },
  {
   "cell_type": "code",
   "execution_count": 6,
   "metadata": {},
   "outputs": [
    {
     "ename": "KeyboardInterrupt",
     "evalue": "",
     "output_type": "error",
     "traceback": [
      "\u001b[0;31m---------------------------------------------------------------------------\u001b[0m",
      "\u001b[0;31mKeyboardInterrupt\u001b[0m                         Traceback (most recent call last)",
      "Cell \u001b[0;32mIn[6], line 24\u001b[0m\n\u001b[1;32m     21\u001b[0m shuff_ids \u001b[39m=\u001b[39m [x \u001b[39mfor\u001b[39;00m x \u001b[39min\u001b[39;00m shuff_ids \u001b[39mif\u001b[39;00m x \u001b[39min\u001b[39;00m mlp_shuff\u001b[39m.\u001b[39mID\u001b[39m.\u001b[39mtolist()]\n\u001b[1;32m     22\u001b[0m mlp_shuff \u001b[39m=\u001b[39m sort_mlp_output(shuff_ids, mlp_shuff)\n\u001b[0;32m---> 24\u001b[0m cnn_shuff \u001b[39m=\u001b[39m [x \u001b[39mfor\u001b[39;00m i, x \u001b[39min\u001b[39;00m \u001b[39menumerate\u001b[39m(f[\u001b[39m'\u001b[39m\u001b[39mepoch_0000/test/outputs\u001b[39m\u001b[39m'\u001b[39m][:]) \u001b[39mif\u001b[39;00m f[\u001b[39m'\u001b[39m\u001b[39mepoch_0000/test/mol\u001b[39m\u001b[39m'\u001b[39m][:,\u001b[39m1\u001b[39m][i]\u001b[39m.\u001b[39mdecode(\u001b[39m'\u001b[39m\u001b[39mUTF-8\u001b[39m\u001b[39m'\u001b[39m) \u001b[39min\u001b[39;00m shuff_ids]\n\u001b[1;32m     25\u001b[0m shuff_targets \u001b[39m=\u001b[39m [x \u001b[39mfor\u001b[39;00m i, x \u001b[39min\u001b[39;00m \u001b[39menumerate\u001b[39m(f[\u001b[39m'\u001b[39m\u001b[39mepoch_0000/test/targets\u001b[39m\u001b[39m'\u001b[39m][:]) \u001b[39mif\u001b[39;00m f[\u001b[39m'\u001b[39m\u001b[39mepoch_0000/test/mol\u001b[39m\u001b[39m'\u001b[39m][:,\u001b[39m1\u001b[39m][i]\u001b[39m.\u001b[39mdecode(\u001b[39m'\u001b[39m\u001b[39mUTF-8\u001b[39m\u001b[39m'\u001b[39m) \u001b[39min\u001b[39;00m shuff_ids] \n\u001b[1;32m     27\u001b[0m f\u001b[39m.\u001b[39mclose()\n",
      "Cell \u001b[0;32mIn[6], line 24\u001b[0m, in \u001b[0;36m<listcomp>\u001b[0;34m(.0)\u001b[0m\n\u001b[1;32m     21\u001b[0m shuff_ids \u001b[39m=\u001b[39m [x \u001b[39mfor\u001b[39;00m x \u001b[39min\u001b[39;00m shuff_ids \u001b[39mif\u001b[39;00m x \u001b[39min\u001b[39;00m mlp_shuff\u001b[39m.\u001b[39mID\u001b[39m.\u001b[39mtolist()]\n\u001b[1;32m     22\u001b[0m mlp_shuff \u001b[39m=\u001b[39m sort_mlp_output(shuff_ids, mlp_shuff)\n\u001b[0;32m---> 24\u001b[0m cnn_shuff \u001b[39m=\u001b[39m [x \u001b[39mfor\u001b[39;00m i, x \u001b[39min\u001b[39;00m \u001b[39menumerate\u001b[39m(f[\u001b[39m'\u001b[39m\u001b[39mepoch_0000/test/outputs\u001b[39m\u001b[39m'\u001b[39m][:]) \u001b[39mif\u001b[39;00m f[\u001b[39m'\u001b[39;49m\u001b[39mepoch_0000/test/mol\u001b[39;49m\u001b[39m'\u001b[39;49m][:,\u001b[39m1\u001b[39;49m][i]\u001b[39m.\u001b[39mdecode(\u001b[39m'\u001b[39m\u001b[39mUTF-8\u001b[39m\u001b[39m'\u001b[39m) \u001b[39min\u001b[39;00m shuff_ids]\n\u001b[1;32m     25\u001b[0m shuff_targets \u001b[39m=\u001b[39m [x \u001b[39mfor\u001b[39;00m i, x \u001b[39min\u001b[39;00m \u001b[39menumerate\u001b[39m(f[\u001b[39m'\u001b[39m\u001b[39mepoch_0000/test/targets\u001b[39m\u001b[39m'\u001b[39m][:]) \u001b[39mif\u001b[39;00m f[\u001b[39m'\u001b[39m\u001b[39mepoch_0000/test/mol\u001b[39m\u001b[39m'\u001b[39m][:,\u001b[39m1\u001b[39m][i]\u001b[39m.\u001b[39mdecode(\u001b[39m'\u001b[39m\u001b[39mUTF-8\u001b[39m\u001b[39m'\u001b[39m) \u001b[39min\u001b[39;00m shuff_ids] \n\u001b[1;32m     27\u001b[0m f\u001b[39m.\u001b[39mclose()\n",
      "File \u001b[0;32mh5py/_objects.pyx:54\u001b[0m, in \u001b[0;36mh5py._objects.with_phil.wrapper\u001b[0;34m()\u001b[0m\n",
      "File \u001b[0;32mh5py/_objects.pyx:55\u001b[0m, in \u001b[0;36mh5py._objects.with_phil.wrapper\u001b[0;34m()\u001b[0m\n",
      "File \u001b[0;32m~/anaconda3/envs/deeprank/lib/python3.10/site-packages/h5py/_hl/dataset.py:851\u001b[0m, in \u001b[0;36mDataset.__getitem__\u001b[0;34m(self, args, new_dtype)\u001b[0m\n\u001b[1;32m    849\u001b[0m mspace \u001b[39m=\u001b[39m h5s\u001b[39m.\u001b[39mcreate_simple(selection\u001b[39m.\u001b[39mmshape)\n\u001b[1;32m    850\u001b[0m fspace \u001b[39m=\u001b[39m selection\u001b[39m.\u001b[39mid\n\u001b[0;32m--> 851\u001b[0m \u001b[39mself\u001b[39;49m\u001b[39m.\u001b[39;49mid\u001b[39m.\u001b[39;49mread(mspace, fspace, arr, mtype, dxpl\u001b[39m=\u001b[39;49m\u001b[39mself\u001b[39;49m\u001b[39m.\u001b[39;49m_dxpl)\n\u001b[1;32m    853\u001b[0m \u001b[39m# Patch up the output for NumPy\u001b[39;00m\n\u001b[1;32m    854\u001b[0m \u001b[39mif\u001b[39;00m arr\u001b[39m.\u001b[39mshape \u001b[39m==\u001b[39m ():\n",
      "\u001b[0;31mKeyboardInterrupt\u001b[0m: "
     ]
    }
   ],
   "source": [
    "import h5py\n",
    "import pandas as pd\n",
    "import sklearn.metrics as skm\n",
    "import numpy as np\n",
    "\n",
    "\n",
    "def sort_mlp_output(ids, mlp_outputs):\n",
    "    mlp_outputs.ID = mlp_outputs.ID.astype(\"category\")\n",
    "    mlp_outputs.ID = mlp_outputs.ID.cat.set_categories(ids)\n",
    "    mlp_outputs = mlp_outputs.sort_values(['ID'])\n",
    "    mlp_outputs = mlp_outputs.loc[~mlp_outputs.ID.isna()]\n",
    "    return mlp_outputs\n",
    "\n",
    "c = pd.read_csv('/projects/0/einf2380/data/external/processed/I/BA_pMHCI_human_quantitative_only_eq_models_output.csv', delimiter=',')\n",
    "#Shuffled\n",
    "f = h5py.File('/projects/0/einf2380/data/pMHCI/trained_models/CNN/shuffled_noPSSM_sumFeat_bn/CnnClassGroupConv/test_data.hdf5')\n",
    "shuff_ids = f['epoch_0000/test/mol'][:,1]\n",
    "shuff_ids = [x.decode('UTF-8') for x in shuff_ids.tolist()]\n",
    "\n",
    "mlp_shuff = c.loc[~c.mlp_shuffled_class.isna(), ['ID','mlp_shuffled_class']]\n",
    "shuff_ids = [x for x in shuff_ids if x in mlp_shuff.ID.tolist()]\n",
    "mlp_shuff = sort_mlp_output(shuff_ids, mlp_shuff)\n",
    "\n",
    "cnn_shuff = [x for i, x in enumerate(f['epoch_0000/test/outputs'][:]) if f['epoch_0000/test/mol'][:,1][i].decode('UTF-8') in shuff_ids]\n",
    "shuff_targets = [x for i, x in enumerate(f['epoch_0000/test/targets'][:]) if f['epoch_0000/test/mol'][:,1][i].decode('UTF-8') in shuff_ids] \n",
    "\n",
    "f.close()\n",
    "\n",
    "# #Peptide\n",
    "# f = h5py.File('/projects/0/einf2380/data/pMHCI/trained_models/CNN/clustPept_noPSSM_sumFeat_bn/CnnClassGroupConv/test_data.hdf5')\n",
    "# pepts_ids = f['epoch_0000/test/mol'][:,1]\n",
    "# pepts_ids = [x.decode('UTF-8') for x in pepts_ids.tolist()]\n",
    "\n",
    "# mlp_pepts = c.loc[~c.mlp_peptide_clustered_class.isna(), ['ID','mlp_peptide_clustered_class']]\n",
    "# pepts_ids = [x for x in pepts_ids if x in mlp_pepts.ID.tolist()]\n",
    "# mlp_pepts = sort_mlp_output(pepts_ids, mlp_pepts)\n",
    "\n",
    "# cnn_pepts = [x for i, x in enumerate(f['epoch_0000/test/outputs'][:]) if f['epoch_0000/test/mol'][:,1][i].decode('UTF-8') in pepts_ids]\n",
    "# pepts_targets = [x for i, x in enumerate(f['epoch_0000/test/targets'][:]) if f['epoch_0000/test/mol'][:,1][i].decode('UTF-8') in pepts_ids] \n",
    "\n",
    "# f.close()\n",
    "\n",
    "#Alleles\n",
    "f = h5py.File('/projects/0/einf2380/data/pMHCI/trained_models/CNN/clustAllele_noPSSM_sumFeat_bn/CnnClassGroupConv/test_data.hdf5')\n",
    "alls_ids = f['epoch_0000/test/mol'][:,1]\n",
    "alls_ids = [x.decode('UTF-8') for x in alls_ids.tolist()]\n",
    "\n",
    "mlp_alls = c.loc[~c.mlp_allele_clustered_class.isna(), ['ID','mlp_allele_clustered_class']]\n",
    "alls_ids = [x for x in alls_ids if x in mlp_alls.ID.tolist()]\n",
    "mlp_alls = sort_mlp_output(alls_ids, mlp_alls)\n",
    "\n",
    "cnn_alls = [x for i, x in enumerate(f['epoch_0000/test/outputs'][:]) if f['epoch_0000/test/mol'][:,1][i].decode('UTF-8') in alls_ids]\n",
    "alls_targets = [x for i, x in enumerate(f['epoch_0000/test/targets'][:]) if f['epoch_0000/test/mol'][:,1][i].decode('UTF-8') in alls_ids] \n",
    "\n",
    "f.close()\n",
    "\n",
    "\n",
    "\n",
    "# mlp_pepts = c.loc[~c.mlp_peptide_clustered_class.isna(), ['ID','mlp_peptide_clustered_class']]\n",
    "# pepts_ids = [x for x in pepts_ids if x in mlp_pepts.ID.tolist()]\n",
    "# mlp_pepts = sort_mlp_output(pepts_ids, mlp_pepts)\n",
    "# overlap_pepts = mlp_pepts.loc[mlp_pepts['ID'].isin(pepts_ids)]\n",
    "\n",
    "# mlp_alls = c.loc[~c.mlp_allele_clustered_class.isna(), ['ID','mlp_allele_clustered_class']]\n",
    "# alls_ids = [x for x in alls_ids if x in mlp_alls.ID.tolist()]\n",
    "# mlp_alls = sort_mlp_output(alls_ids, mlp_alls)\n",
    "# overlap_alls = mlp_alls.loc[mlp_alls['ID'].isin(alls_ids)]\n",
    "\n",
    "# overlap_shuff = mlp_shuff.loc[mlp_shuff['ID'].isin(shuff_ids)]"
   ]
  },
  {
   "cell_type": "code",
   "execution_count": 5,
   "metadata": {},
   "outputs": [
    {
     "name": "stderr",
     "output_type": "stream",
     "text": [
      "/scratch-local/dmarz/ipykernel_949548/2614814137.py:8: UserWarning: Creating a tensor from a list of numpy.ndarrays is extremely slow. Please consider converting the list to a single numpy.ndarray with numpy.array() before converting to a tensor. (Triggered internally at /opt/conda/conda-bld/pytorch_1670525552843/work/torch/csrc/utils/tensor_new.cpp:230.)\n",
      "  stack = torch.stack((torch.tensor(cnn_shuff[:len(mlp_outputs)]), mlp_outputs))\n"
     ]
    },
    {
     "name": "stdout",
     "output_type": "stream",
     "text": [
      "SHUFFLED: CNN 0.78 MLP 0.83 COMBINED 0.49\n",
      "ALLELES: CNN 0.60 MLP 0.50\n"
     ]
    }
   ],
   "source": [
    "import torch\n",
    "\n",
    "mlp_outputs = [[float(y) for y in x.split(\",\")] for x in mlp_shuff.mlp_shuffled_class.tolist()]\n",
    "mlp_outputs = torch.softmax(torch.tensor(mlp_outputs), 1)\n",
    "cnn_shuff_auc = skm.roc_auc_score(shuff_targets, np.argmax(cnn_shuff, 1))\n",
    "mlp_shuff_auc = skm.roc_auc_score(shuff_targets[:len(mlp_shuff)], np.argmax(mlp_outputs, 1))\n",
    "\n",
    "stack = torch.stack((torch.tensor(cnn_shuff[:len(mlp_outputs)]), mlp_outputs))\n",
    "combined_auc = skm.roc_auc_score(shuff_targets[:len(mlp_shuff)], np.argmax(torch.mean(stack, 2), 0))\n",
    "\n",
    "print('SHUFFLED: CNN {:.2f} MLP {:.2f} COMBINED {:.2f}'.format(cnn_shuff_auc, mlp_shuff_auc, combined_auc) )\n",
    "\n",
    "# cnn_pepts_auc = skm.roc_auc_score(pepts_targets, np.argmax(cnn_pepts, 1))\n",
    "# mlp_pepts_auc = skm.roc_auc_score(pepts_targets[:len(mlp_pepts)], np.argmax([[float(y) for y in x.split(\",\")] for x in mlp_pepts.mlp_peptide_clustered_class.tolist()], 1))\n",
    "#\n",
    "# print('PEPTIDES: CNN {:.2f} MLP {:.2f}'.format(cnn_pepts_auc, mlp_pepts_auc) )\n",
    "\n",
    "cnn_alls_auc = skm.roc_auc_score(alls_targets, np.argmax(cnn_alls, 1))\n",
    "mlp_alls_auc = skm.roc_auc_score(alls_targets[:len(mlp_alls)], np.argmax([[float(y) for y in x.split(\",\")] for x in mlp_alls.mlp_allele_clustered_class.tolist()], 1))\n",
    "\n",
    "print('ALLELES: CNN {:.2f} MLP {:.2f}'.format(cnn_alls_auc, mlp_alls_auc) )\n"
   ]
  }
 ],
 "metadata": {
  "kernelspec": {
   "display_name": "3D-Vac",
   "language": "python",
   "name": "python3"
  },
  "language_info": {
   "codemirror_mode": {
    "name": "ipython",
    "version": 3
   },
   "file_extension": ".py",
   "mimetype": "text/x-python",
   "name": "python",
   "nbconvert_exporter": "python",
   "pygments_lexer": "ipython3",
   "version": "3.10.9"
  },
  "orig_nbformat": 4
 },
 "nbformat": 4,
 "nbformat_minor": 2
}
