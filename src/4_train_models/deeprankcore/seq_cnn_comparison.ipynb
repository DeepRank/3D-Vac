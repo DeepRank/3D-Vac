{
 "cells": [
  {
   "cell_type": "code",
   "execution_count": 1,
   "metadata": {},
   "outputs": [],
   "source": [
    "import pandas as pd\n",
    "from datetime import datetime\n",
    "import plotly.express as px\n",
    "import plotly.graph_objects as go\n",
    "from plotly.subplots import make_subplots\n",
    "import os\n",
    "from itertools import cycle\n",
    "import numpy as np\n",
    "from sklearn.metrics import (\n",
    "    roc_curve,\n",
    "    precision_recall_curve,\n",
    "    auc,\n",
    "    average_precision_score,\n",
    "    accuracy_score,\n",
    "    f1_score,\n",
    "    matthews_corrcoef)\n",
    "from scipy import interpolate"
   ]
  },
  {
   "cell_type": "code",
   "execution_count": 2,
   "metadata": {},
   "outputs": [
    {
     "data": {
      "text/html": [
       "<div>\n",
       "<style scoped>\n",
       "    .dataframe tbody tr th:only-of-type {\n",
       "        vertical-align: middle;\n",
       "    }\n",
       "\n",
       "    .dataframe tbody tr th {\n",
       "        vertical-align: top;\n",
       "    }\n",
       "\n",
       "    .dataframe thead th {\n",
       "        text-align: right;\n",
       "    }\n",
       "</style>\n",
       "<table border=\"1\" class=\"dataframe\">\n",
       "  <thead>\n",
       "    <tr style=\"text-align: right;\">\n",
       "      <th></th>\n",
       "      <th>model</th>\n",
       "      <th>acc</th>\n",
       "      <th>auc</th>\n",
       "      <th>f1</th>\n",
       "      <th>mcc</th>\n",
       "      <th>tnr</th>\n",
       "      <th>tpr</th>\n",
       "    </tr>\n",
       "  </thead>\n",
       "  <tbody>\n",
       "    <tr>\n",
       "      <th>0</th>\n",
       "      <td>SHUFF_Cnn_SumFeat_ChannExpand</td>\n",
       "      <td>0.787383</td>\n",
       "      <td>0.855928</td>\n",
       "      <td>0.751575</td>\n",
       "      <td>0.566675</td>\n",
       "      <td>0.831581</td>\n",
       "      <td>0.731110</td>\n",
       "    </tr>\n",
       "    <tr>\n",
       "      <th>1</th>\n",
       "      <td>PEPT_Cnn_SumFeat_ChannExpand</td>\n",
       "      <td>0.717805</td>\n",
       "      <td>0.788124</td>\n",
       "      <td>0.706360</td>\n",
       "      <td>0.438340</td>\n",
       "      <td>0.695017</td>\n",
       "      <td>0.745038</td>\n",
       "    </tr>\n",
       "    <tr>\n",
       "      <th>2</th>\n",
       "      <td>ALLELE_Cnn_SumFeat_ChannExpand</td>\n",
       "      <td>0.649774</td>\n",
       "      <td>0.697055</td>\n",
       "      <td>0.431115</td>\n",
       "      <td>0.245109</td>\n",
       "      <td>0.878164</td>\n",
       "      <td>0.322732</td>\n",
       "    </tr>\n",
       "    <tr>\n",
       "      <th>3</th>\n",
       "      <td>SHUFF_Group_Class4</td>\n",
       "      <td>0.777401</td>\n",
       "      <td>0.848964</td>\n",
       "      <td>0.740999</td>\n",
       "      <td>0.546493</td>\n",
       "      <td>0.819462</td>\n",
       "      <td>0.723848</td>\n",
       "    </tr>\n",
       "    <tr>\n",
       "      <th>4</th>\n",
       "      <td>PEPT_Group_Class4</td>\n",
       "      <td>0.710789</td>\n",
       "      <td>0.750552</td>\n",
       "      <td>0.692116</td>\n",
       "      <td>0.420580</td>\n",
       "      <td>0.708477</td>\n",
       "      <td>0.713552</td>\n",
       "    </tr>\n",
       "  </tbody>\n",
       "</table>\n",
       "</div>"
      ],
      "text/plain": [
       "                            model       acc       auc        f1       mcc  \\\n",
       "0   SHUFF_Cnn_SumFeat_ChannExpand  0.787383  0.855928  0.751575  0.566675   \n",
       "1    PEPT_Cnn_SumFeat_ChannExpand  0.717805  0.788124  0.706360  0.438340   \n",
       "2  ALLELE_Cnn_SumFeat_ChannExpand  0.649774  0.697055  0.431115  0.245109   \n",
       "3              SHUFF_Group_Class4  0.777401  0.848964  0.740999  0.546493   \n",
       "4               PEPT_Group_Class4  0.710789  0.750552  0.692116  0.420580   \n",
       "\n",
       "        tnr       tpr  \n",
       "0  0.831581  0.731110  \n",
       "1  0.695017  0.745038  \n",
       "2  0.878164  0.322732  \n",
       "3  0.819462  0.723848  \n",
       "4  0.708477  0.713552  "
      ]
     },
     "execution_count": 2,
     "metadata": {},
     "output_type": "execute_result"
    }
   ],
   "source": [
    "baseline_results_path = '/projects/0/einf2380/data/results/best_models_metrics.csv'\n",
    "baseline_df = pd.read_csv(baseline_results_path)\n",
    "models = {\n",
    "    'SHUFF_CNN': 'CNN_shuffle_class',\n",
    "    'PEPT_CNN': 'CNN_peptide_class',\n",
    "    'ALLELE_CNN': 'CNN_allele_class',\n",
    "    'SHUFF_Group_Reg4': 'CNN_shuffle_reg',\n",
    "    'PEPT_Group_Reg4': 'CNN_peptide_reg',\n",
    "    'ALLELE_Group_Reg4': 'CNN_allele_reg',\n",
    "    'mlp_classification_blosum_with_allele_encoder_500_neurons_50_epochs_shuffled_64_batch_size.pt': 'MLP_shuffle_class',\n",
    "    'mlp_classification_blosum_with_allele_encoder_500_neurons_50_epochs_LOGO_anch_rep_64_batch_size.pt': 'MLP_peptide_class',\n",
    "    'mlp_classification_blosum_with_allele_encoder_500_neurons_50_epochs_pseudoseq_cluster_64_batch_size.pt': 'MLP_allele_class',\n",
    "    'mhcflurry_held_out_trained': 'MHCFlurry_shuffle',\n",
    "    'mhcflurry_peptide_clustered_trained': 'MHCFlurry_peptide',\n",
    "    'mhcflurry_allele_clustered_trained': 'MHCFlurry_allele',\n",
    "}\n",
    "baseline_df.rename(columns={\"Model\":\"model\"}, inplace=True)\n",
    "baseline_df.replace(models, inplace=True)\n",
    "baseline_df.head()"
   ]
  },
  {
   "cell_type": "code",
   "execution_count": 3,
   "metadata": {},
   "outputs": [
    {
     "data": {
      "text/html": [
       "<div>\n",
       "<style scoped>\n",
       "    .dataframe tbody tr th:only-of-type {\n",
       "        vertical-align: middle;\n",
       "    }\n",
       "\n",
       "    .dataframe tbody tr th {\n",
       "        vertical-align: top;\n",
       "    }\n",
       "\n",
       "    .dataframe thead th {\n",
       "        text-align: right;\n",
       "    }\n",
       "</style>\n",
       "<table border=\"1\" class=\"dataframe\">\n",
       "  <thead>\n",
       "    <tr style=\"text-align: right;\">\n",
       "      <th></th>\n",
       "      <th>model</th>\n",
       "      <th>acc</th>\n",
       "      <th>auc</th>\n",
       "      <th>f1</th>\n",
       "      <th>mcc</th>\n",
       "      <th>tnr</th>\n",
       "      <th>tpr</th>\n",
       "    </tr>\n",
       "  </thead>\n",
       "  <tbody>\n",
       "    <tr>\n",
       "      <th>0</th>\n",
       "      <td>SHUFF_Cnn_SumFeat_ChannExpand</td>\n",
       "      <td>0.787383</td>\n",
       "      <td>0.855928</td>\n",
       "      <td>0.751575</td>\n",
       "      <td>0.566675</td>\n",
       "      <td>0.831581</td>\n",
       "      <td>0.731110</td>\n",
       "    </tr>\n",
       "    <tr>\n",
       "      <th>1</th>\n",
       "      <td>PEPT_Cnn_SumFeat_ChannExpand</td>\n",
       "      <td>0.717805</td>\n",
       "      <td>0.788124</td>\n",
       "      <td>0.706360</td>\n",
       "      <td>0.438340</td>\n",
       "      <td>0.695017</td>\n",
       "      <td>0.745038</td>\n",
       "    </tr>\n",
       "    <tr>\n",
       "      <th>2</th>\n",
       "      <td>ALLELE_Cnn_SumFeat_ChannExpand</td>\n",
       "      <td>0.649774</td>\n",
       "      <td>0.697055</td>\n",
       "      <td>0.431115</td>\n",
       "      <td>0.245109</td>\n",
       "      <td>0.878164</td>\n",
       "      <td>0.322732</td>\n",
       "    </tr>\n",
       "    <tr>\n",
       "      <th>3</th>\n",
       "      <td>SHUFF_Group_Class4</td>\n",
       "      <td>0.777401</td>\n",
       "      <td>0.848964</td>\n",
       "      <td>0.740999</td>\n",
       "      <td>0.546493</td>\n",
       "      <td>0.819462</td>\n",
       "      <td>0.723848</td>\n",
       "    </tr>\n",
       "    <tr>\n",
       "      <th>4</th>\n",
       "      <td>PEPT_Group_Class4</td>\n",
       "      <td>0.710789</td>\n",
       "      <td>0.750552</td>\n",
       "      <td>0.692116</td>\n",
       "      <td>0.420580</td>\n",
       "      <td>0.708477</td>\n",
       "      <td>0.713552</td>\n",
       "    </tr>\n",
       "    <tr>\n",
       "      <th>5</th>\n",
       "      <td>ALLELE_Group_Class4</td>\n",
       "      <td>0.646601</td>\n",
       "      <td>0.674479</td>\n",
       "      <td>0.496230</td>\n",
       "      <td>0.244818</td>\n",
       "      <td>0.802548</td>\n",
       "      <td>0.423293</td>\n",
       "    </tr>\n",
       "    <tr>\n",
       "      <th>6</th>\n",
       "      <td>CNN_shuffle_class</td>\n",
       "      <td>0.780295</td>\n",
       "      <td>0.871268</td>\n",
       "      <td>0.712325</td>\n",
       "      <td>0.557802</td>\n",
       "      <td>0.907503</td>\n",
       "      <td>0.618334</td>\n",
       "    </tr>\n",
       "    <tr>\n",
       "      <th>7</th>\n",
       "      <td>CNN_peptide_class</td>\n",
       "      <td>0.713439</td>\n",
       "      <td>0.807924</td>\n",
       "      <td>0.624438</td>\n",
       "      <td>0.427160</td>\n",
       "      <td>0.872852</td>\n",
       "      <td>0.522930</td>\n",
       "    </tr>\n",
       "    <tr>\n",
       "      <th>8</th>\n",
       "      <td>CNN_allele_class</td>\n",
       "      <td>0.639004</td>\n",
       "      <td>0.725724</td>\n",
       "      <td>0.332978</td>\n",
       "      <td>0.221437</td>\n",
       "      <td>0.932223</td>\n",
       "      <td>0.219130</td>\n",
       "    </tr>\n",
       "    <tr>\n",
       "      <th>9</th>\n",
       "      <td>MLP_shuffle_class</td>\n",
       "      <td>0.818141</td>\n",
       "      <td>0.892664</td>\n",
       "      <td>0.793863</td>\n",
       "      <td>0.631333</td>\n",
       "      <td>0.795770</td>\n",
       "      <td>0.795770</td>\n",
       "    </tr>\n",
       "    <tr>\n",
       "      <th>10</th>\n",
       "      <td>MLP_peptide_class</td>\n",
       "      <td>0.784439</td>\n",
       "      <td>0.855406</td>\n",
       "      <td>0.747912</td>\n",
       "      <td>0.553975</td>\n",
       "      <td>0.745867</td>\n",
       "      <td>0.745867</td>\n",
       "    </tr>\n",
       "    <tr>\n",
       "      <th>11</th>\n",
       "      <td>MLP_allele_class</td>\n",
       "      <td>0.567818</td>\n",
       "      <td>0.459883</td>\n",
       "      <td>0.255109</td>\n",
       "      <td>0.042437</td>\n",
       "      <td>0.195628</td>\n",
       "      <td>0.195628</td>\n",
       "    </tr>\n",
       "    <tr>\n",
       "      <th>12</th>\n",
       "      <td>MHCFlurry_shuffle</td>\n",
       "      <td>0.736301</td>\n",
       "      <td>0.735547</td>\n",
       "      <td>0.723246</td>\n",
       "      <td>0.471687</td>\n",
       "      <td>0.713289</td>\n",
       "      <td>0.757804</td>\n",
       "    </tr>\n",
       "    <tr>\n",
       "      <th>13</th>\n",
       "      <td>MHCFlurry_peptide</td>\n",
       "      <td>0.690395</td>\n",
       "      <td>0.688556</td>\n",
       "      <td>0.663286</td>\n",
       "      <td>0.376789</td>\n",
       "      <td>0.667120</td>\n",
       "      <td>0.709991</td>\n",
       "    </tr>\n",
       "    <tr>\n",
       "      <th>14</th>\n",
       "      <td>MHCFlurry_allele</td>\n",
       "      <td>0.643538</td>\n",
       "      <td>0.606256</td>\n",
       "      <td>0.477279</td>\n",
       "      <td>0.235476</td>\n",
       "      <td>0.395371</td>\n",
       "      <td>0.817141</td>\n",
       "    </tr>\n",
       "  </tbody>\n",
       "</table>\n",
       "</div>"
      ],
      "text/plain": [
       "                             model       acc       auc        f1       mcc  \\\n",
       "0    SHUFF_Cnn_SumFeat_ChannExpand  0.787383  0.855928  0.751575  0.566675   \n",
       "1     PEPT_Cnn_SumFeat_ChannExpand  0.717805  0.788124  0.706360  0.438340   \n",
       "2   ALLELE_Cnn_SumFeat_ChannExpand  0.649774  0.697055  0.431115  0.245109   \n",
       "3               SHUFF_Group_Class4  0.777401  0.848964  0.740999  0.546493   \n",
       "4                PEPT_Group_Class4  0.710789  0.750552  0.692116  0.420580   \n",
       "5              ALLELE_Group_Class4  0.646601  0.674479  0.496230  0.244818   \n",
       "6                CNN_shuffle_class  0.780295  0.871268  0.712325  0.557802   \n",
       "7                CNN_peptide_class  0.713439  0.807924  0.624438  0.427160   \n",
       "8                 CNN_allele_class  0.639004  0.725724  0.332978  0.221437   \n",
       "9                MLP_shuffle_class  0.818141  0.892664  0.793863  0.631333   \n",
       "10               MLP_peptide_class  0.784439  0.855406  0.747912  0.553975   \n",
       "11                MLP_allele_class  0.567818  0.459883  0.255109  0.042437   \n",
       "12               MHCFlurry_shuffle  0.736301  0.735547  0.723246  0.471687   \n",
       "13               MHCFlurry_peptide  0.690395  0.688556  0.663286  0.376789   \n",
       "14                MHCFlurry_allele  0.643538  0.606256  0.477279  0.235476   \n",
       "\n",
       "         tnr       tpr  \n",
       "0   0.831581  0.731110  \n",
       "1   0.695017  0.745038  \n",
       "2   0.878164  0.322732  \n",
       "3   0.819462  0.723848  \n",
       "4   0.708477  0.713552  \n",
       "5   0.802548  0.423293  \n",
       "6   0.907503  0.618334  \n",
       "7   0.872852  0.522930  \n",
       "8   0.932223  0.219130  \n",
       "9   0.795770  0.795770  \n",
       "10  0.745867  0.745867  \n",
       "11  0.195628  0.195628  \n",
       "12  0.713289  0.757804  \n",
       "13  0.667120  0.709991  \n",
       "14  0.395371  0.817141  "
      ]
     },
     "execution_count": 3,
     "metadata": {},
     "output_type": "execute_result"
    }
   ],
   "source": [
    "baseline_df"
   ]
  },
  {
   "cell_type": "code",
   "execution_count": 4,
   "metadata": {},
   "outputs": [
    {
     "data": {
      "text/html": [
       "<div>\n",
       "<style scoped>\n",
       "    .dataframe tbody tr th:only-of-type {\n",
       "        vertical-align: middle;\n",
       "    }\n",
       "\n",
       "    .dataframe tbody tr th {\n",
       "        vertical-align: top;\n",
       "    }\n",
       "\n",
       "    .dataframe thead th {\n",
       "        text-align: right;\n",
       "    }\n",
       "</style>\n",
       "<table border=\"1\" class=\"dataframe\">\n",
       "  <thead>\n",
       "    <tr style=\"text-align: right;\">\n",
       "      <th></th>\n",
       "      <th>exp_fullname</th>\n",
       "      <th>exp_path</th>\n",
       "      <th>start_time</th>\n",
       "      <th>end_time</th>\n",
       "      <th>input_data_path</th>\n",
       "      <th>protein_class</th>\n",
       "      <th>target_data</th>\n",
       "      <th>resolution</th>\n",
       "      <th>task</th>\n",
       "      <th>node_features</th>\n",
       "      <th>...</th>\n",
       "      <th>training_accuracy</th>\n",
       "      <th>validation_accuracy</th>\n",
       "      <th>testing_accuracy</th>\n",
       "      <th>training_precision</th>\n",
       "      <th>validation_precision</th>\n",
       "      <th>testing_precision</th>\n",
       "      <th>training_recall</th>\n",
       "      <th>validation_recall</th>\n",
       "      <th>testing_recall</th>\n",
       "      <th>features</th>\n",
       "    </tr>\n",
       "    <tr>\n",
       "      <th>exp_id</th>\n",
       "      <th></th>\n",
       "      <th></th>\n",
       "      <th></th>\n",
       "      <th></th>\n",
       "      <th></th>\n",
       "      <th></th>\n",
       "      <th></th>\n",
       "      <th></th>\n",
       "      <th></th>\n",
       "      <th></th>\n",
       "      <th></th>\n",
       "      <th></th>\n",
       "      <th></th>\n",
       "      <th></th>\n",
       "      <th></th>\n",
       "      <th></th>\n",
       "      <th></th>\n",
       "      <th></th>\n",
       "      <th></th>\n",
       "      <th></th>\n",
       "      <th></th>\n",
       "    </tr>\n",
       "  </thead>\n",
       "  <tbody>\n",
       "    <tr>\n",
       "      <th>exp_100k_std_transf_bs64_naivegnn1_wloss_wdecay_cl_allele_0</th>\n",
       "      <td>exp_100k_std_transf_bs64_naivegnn1_wloss_wdeca...</td>\n",
       "      <td>/projects/0/einf2380/data/pMHCI/trained_models...</td>\n",
       "      <td>08/Jun/2023_16:52:15</td>\n",
       "      <td>09/Jun/2023_07:26:14</td>\n",
       "      <td>['/projects/0/einf2380/data/pMHCI/features_out...</td>\n",
       "      <td>I</td>\n",
       "      <td>BA</td>\n",
       "      <td>residue</td>\n",
       "      <td>classif</td>\n",
       "      <td>all</td>\n",
       "      <td>...</td>\n",
       "      <td>0.714</td>\n",
       "      <td>0.704</td>\n",
       "      <td>0.641</td>\n",
       "      <td>0.619</td>\n",
       "      <td>0.609</td>\n",
       "      <td>0.550</td>\n",
       "      <td>0.924</td>\n",
       "      <td>0.931</td>\n",
       "      <td>0.703</td>\n",
       "      <td>NaN</td>\n",
       "    </tr>\n",
       "    <tr>\n",
       "      <th>exp_100k_std_transf_bs64_naivegnn1_wloss_wdecay_cl_peptide2_0</th>\n",
       "      <td>exp_100k_std_transf_bs64_naivegnn1_wloss_wdeca...</td>\n",
       "      <td>/projects/0/einf2380/data/pMHCI/trained_models...</td>\n",
       "      <td>08/Jun/2023_16:47:56</td>\n",
       "      <td>09/Jun/2023_06:17:44</td>\n",
       "      <td>['/projects/0/einf2380/data/pMHCI/features_out...</td>\n",
       "      <td>I</td>\n",
       "      <td>BA</td>\n",
       "      <td>residue</td>\n",
       "      <td>classif</td>\n",
       "      <td>all</td>\n",
       "      <td>...</td>\n",
       "      <td>0.689</td>\n",
       "      <td>0.694</td>\n",
       "      <td>0.754</td>\n",
       "      <td>0.603</td>\n",
       "      <td>0.610</td>\n",
       "      <td>0.628</td>\n",
       "      <td>0.947</td>\n",
       "      <td>0.938</td>\n",
       "      <td>0.708</td>\n",
       "      <td>NaN</td>\n",
       "    </tr>\n",
       "    <tr>\n",
       "      <th>exp_100k_std_transf_bs64_naivegnn1_wloss_wdecay_0</th>\n",
       "      <td>exp_100k_std_transf_bs64_naivegnn1_wloss_wdeca...</td>\n",
       "      <td>/projects/0/einf2380/data/pMHCI/trained_models...</td>\n",
       "      <td>08/Jun/2023_14:51:43</td>\n",
       "      <td>09/Jun/2023_03:22:05</td>\n",
       "      <td>['/projects/0/einf2380/data/pMHCI/features_out...</td>\n",
       "      <td>I</td>\n",
       "      <td>BA</td>\n",
       "      <td>residue</td>\n",
       "      <td>classif</td>\n",
       "      <td>all</td>\n",
       "      <td>...</td>\n",
       "      <td>0.764</td>\n",
       "      <td>0.745</td>\n",
       "      <td>0.761</td>\n",
       "      <td>0.693</td>\n",
       "      <td>0.664</td>\n",
       "      <td>0.721</td>\n",
       "      <td>0.833</td>\n",
       "      <td>0.854</td>\n",
       "      <td>0.746</td>\n",
       "      <td>NaN</td>\n",
       "    </tr>\n",
       "    <tr>\n",
       "      <th>exp_100k_std_transf_bs64_naivegnn1_wloss_cl_allele_0</th>\n",
       "      <td>exp_100k_std_transf_bs64_naivegnn1_wloss_cl_al...</td>\n",
       "      <td>/projects/0/einf2380/data/pMHCI/trained_models...</td>\n",
       "      <td>07/Jun/2023_09:54:50</td>\n",
       "      <td>07/Jun/2023_17:27:29</td>\n",
       "      <td>['/projects/0/einf2380/data/pMHCI/features_out...</td>\n",
       "      <td>I</td>\n",
       "      <td>BA</td>\n",
       "      <td>residue</td>\n",
       "      <td>classif</td>\n",
       "      <td>all</td>\n",
       "      <td>...</td>\n",
       "      <td>0.758</td>\n",
       "      <td>0.724</td>\n",
       "      <td>0.661</td>\n",
       "      <td>0.663</td>\n",
       "      <td>0.628</td>\n",
       "      <td>0.580</td>\n",
       "      <td>0.924</td>\n",
       "      <td>0.928</td>\n",
       "      <td>0.640</td>\n",
       "      <td>NaN</td>\n",
       "    </tr>\n",
       "    <tr>\n",
       "      <th>exp_100k_std_transf_bs64_naivegnn1_wloss_0</th>\n",
       "      <td>exp_100k_std_transf_bs64_naivegnn1_wloss_0_230607</td>\n",
       "      <td>/projects/0/einf2380/data/pMHCI/trained_models...</td>\n",
       "      <td>07/Jun/2023_09:46:52</td>\n",
       "      <td>07/Jun/2023_17:04:29</td>\n",
       "      <td>['/projects/0/einf2380/data/pMHCI/features_out...</td>\n",
       "      <td>I</td>\n",
       "      <td>BA</td>\n",
       "      <td>residue</td>\n",
       "      <td>classif</td>\n",
       "      <td>all</td>\n",
       "      <td>...</td>\n",
       "      <td>0.810</td>\n",
       "      <td>0.779</td>\n",
       "      <td>0.781</td>\n",
       "      <td>0.757</td>\n",
       "      <td>0.729</td>\n",
       "      <td>0.733</td>\n",
       "      <td>0.838</td>\n",
       "      <td>0.791</td>\n",
       "      <td>0.790</td>\n",
       "      <td>NaN</td>\n",
       "    </tr>\n",
       "  </tbody>\n",
       "</table>\n",
       "<p>5 rows × 50 columns</p>\n",
       "</div>"
      ],
      "text/plain": [
       "                                                                                         exp_fullname  \\\n",
       "exp_id                                                                                                  \n",
       "exp_100k_std_transf_bs64_naivegnn1_wloss_wdecay...  exp_100k_std_transf_bs64_naivegnn1_wloss_wdeca...   \n",
       "exp_100k_std_transf_bs64_naivegnn1_wloss_wdecay...  exp_100k_std_transf_bs64_naivegnn1_wloss_wdeca...   \n",
       "exp_100k_std_transf_bs64_naivegnn1_wloss_wdecay_0   exp_100k_std_transf_bs64_naivegnn1_wloss_wdeca...   \n",
       "exp_100k_std_transf_bs64_naivegnn1_wloss_cl_all...  exp_100k_std_transf_bs64_naivegnn1_wloss_cl_al...   \n",
       "exp_100k_std_transf_bs64_naivegnn1_wloss_0          exp_100k_std_transf_bs64_naivegnn1_wloss_0_230607   \n",
       "\n",
       "                                                                                             exp_path  \\\n",
       "exp_id                                                                                                  \n",
       "exp_100k_std_transf_bs64_naivegnn1_wloss_wdecay...  /projects/0/einf2380/data/pMHCI/trained_models...   \n",
       "exp_100k_std_transf_bs64_naivegnn1_wloss_wdecay...  /projects/0/einf2380/data/pMHCI/trained_models...   \n",
       "exp_100k_std_transf_bs64_naivegnn1_wloss_wdecay_0   /projects/0/einf2380/data/pMHCI/trained_models...   \n",
       "exp_100k_std_transf_bs64_naivegnn1_wloss_cl_all...  /projects/0/einf2380/data/pMHCI/trained_models...   \n",
       "exp_100k_std_transf_bs64_naivegnn1_wloss_0          /projects/0/einf2380/data/pMHCI/trained_models...   \n",
       "\n",
       "                                                              start_time  \\\n",
       "exp_id                                                                     \n",
       "exp_100k_std_transf_bs64_naivegnn1_wloss_wdecay...  08/Jun/2023_16:52:15   \n",
       "exp_100k_std_transf_bs64_naivegnn1_wloss_wdecay...  08/Jun/2023_16:47:56   \n",
       "exp_100k_std_transf_bs64_naivegnn1_wloss_wdecay_0   08/Jun/2023_14:51:43   \n",
       "exp_100k_std_transf_bs64_naivegnn1_wloss_cl_all...  07/Jun/2023_09:54:50   \n",
       "exp_100k_std_transf_bs64_naivegnn1_wloss_0          07/Jun/2023_09:46:52   \n",
       "\n",
       "                                                                end_time  \\\n",
       "exp_id                                                                     \n",
       "exp_100k_std_transf_bs64_naivegnn1_wloss_wdecay...  09/Jun/2023_07:26:14   \n",
       "exp_100k_std_transf_bs64_naivegnn1_wloss_wdecay...  09/Jun/2023_06:17:44   \n",
       "exp_100k_std_transf_bs64_naivegnn1_wloss_wdecay_0   09/Jun/2023_03:22:05   \n",
       "exp_100k_std_transf_bs64_naivegnn1_wloss_cl_all...  07/Jun/2023_17:27:29   \n",
       "exp_100k_std_transf_bs64_naivegnn1_wloss_0          07/Jun/2023_17:04:29   \n",
       "\n",
       "                                                                                      input_data_path  \\\n",
       "exp_id                                                                                                  \n",
       "exp_100k_std_transf_bs64_naivegnn1_wloss_wdecay...  ['/projects/0/einf2380/data/pMHCI/features_out...   \n",
       "exp_100k_std_transf_bs64_naivegnn1_wloss_wdecay...  ['/projects/0/einf2380/data/pMHCI/features_out...   \n",
       "exp_100k_std_transf_bs64_naivegnn1_wloss_wdecay_0   ['/projects/0/einf2380/data/pMHCI/features_out...   \n",
       "exp_100k_std_transf_bs64_naivegnn1_wloss_cl_all...  ['/projects/0/einf2380/data/pMHCI/features_out...   \n",
       "exp_100k_std_transf_bs64_naivegnn1_wloss_0          ['/projects/0/einf2380/data/pMHCI/features_out...   \n",
       "\n",
       "                                                   protein_class target_data  \\\n",
       "exp_id                                                                         \n",
       "exp_100k_std_transf_bs64_naivegnn1_wloss_wdecay...             I          BA   \n",
       "exp_100k_std_transf_bs64_naivegnn1_wloss_wdecay...             I          BA   \n",
       "exp_100k_std_transf_bs64_naivegnn1_wloss_wdecay_0              I          BA   \n",
       "exp_100k_std_transf_bs64_naivegnn1_wloss_cl_all...             I          BA   \n",
       "exp_100k_std_transf_bs64_naivegnn1_wloss_0                     I          BA   \n",
       "\n",
       "                                                   resolution     task  \\\n",
       "exp_id                                                                   \n",
       "exp_100k_std_transf_bs64_naivegnn1_wloss_wdecay...    residue  classif   \n",
       "exp_100k_std_transf_bs64_naivegnn1_wloss_wdecay...    residue  classif   \n",
       "exp_100k_std_transf_bs64_naivegnn1_wloss_wdecay_0     residue  classif   \n",
       "exp_100k_std_transf_bs64_naivegnn1_wloss_cl_all...    residue  classif   \n",
       "exp_100k_std_transf_bs64_naivegnn1_wloss_0            residue  classif   \n",
       "\n",
       "                                                   node_features  ...  \\\n",
       "exp_id                                                            ...   \n",
       "exp_100k_std_transf_bs64_naivegnn1_wloss_wdecay...           all  ...   \n",
       "exp_100k_std_transf_bs64_naivegnn1_wloss_wdecay...           all  ...   \n",
       "exp_100k_std_transf_bs64_naivegnn1_wloss_wdecay_0            all  ...   \n",
       "exp_100k_std_transf_bs64_naivegnn1_wloss_cl_all...           all  ...   \n",
       "exp_100k_std_transf_bs64_naivegnn1_wloss_0                   all  ...   \n",
       "\n",
       "                                                   training_accuracy  \\\n",
       "exp_id                                                                 \n",
       "exp_100k_std_transf_bs64_naivegnn1_wloss_wdecay...             0.714   \n",
       "exp_100k_std_transf_bs64_naivegnn1_wloss_wdecay...             0.689   \n",
       "exp_100k_std_transf_bs64_naivegnn1_wloss_wdecay_0              0.764   \n",
       "exp_100k_std_transf_bs64_naivegnn1_wloss_cl_all...             0.758   \n",
       "exp_100k_std_transf_bs64_naivegnn1_wloss_0                     0.810   \n",
       "\n",
       "                                                   validation_accuracy  \\\n",
       "exp_id                                                                   \n",
       "exp_100k_std_transf_bs64_naivegnn1_wloss_wdecay...               0.704   \n",
       "exp_100k_std_transf_bs64_naivegnn1_wloss_wdecay...               0.694   \n",
       "exp_100k_std_transf_bs64_naivegnn1_wloss_wdecay_0                0.745   \n",
       "exp_100k_std_transf_bs64_naivegnn1_wloss_cl_all...               0.724   \n",
       "exp_100k_std_transf_bs64_naivegnn1_wloss_0                       0.779   \n",
       "\n",
       "                                                   testing_accuracy  \\\n",
       "exp_id                                                                \n",
       "exp_100k_std_transf_bs64_naivegnn1_wloss_wdecay...            0.641   \n",
       "exp_100k_std_transf_bs64_naivegnn1_wloss_wdecay...            0.754   \n",
       "exp_100k_std_transf_bs64_naivegnn1_wloss_wdecay_0             0.761   \n",
       "exp_100k_std_transf_bs64_naivegnn1_wloss_cl_all...            0.661   \n",
       "exp_100k_std_transf_bs64_naivegnn1_wloss_0                    0.781   \n",
       "\n",
       "                                                    training_precision  \\\n",
       "exp_id                                                                   \n",
       "exp_100k_std_transf_bs64_naivegnn1_wloss_wdecay...               0.619   \n",
       "exp_100k_std_transf_bs64_naivegnn1_wloss_wdecay...               0.603   \n",
       "exp_100k_std_transf_bs64_naivegnn1_wloss_wdecay_0                0.693   \n",
       "exp_100k_std_transf_bs64_naivegnn1_wloss_cl_all...               0.663   \n",
       "exp_100k_std_transf_bs64_naivegnn1_wloss_0                       0.757   \n",
       "\n",
       "                                                    validation_precision  \\\n",
       "exp_id                                                                     \n",
       "exp_100k_std_transf_bs64_naivegnn1_wloss_wdecay...                 0.609   \n",
       "exp_100k_std_transf_bs64_naivegnn1_wloss_wdecay...                 0.610   \n",
       "exp_100k_std_transf_bs64_naivegnn1_wloss_wdecay_0                  0.664   \n",
       "exp_100k_std_transf_bs64_naivegnn1_wloss_cl_all...                 0.628   \n",
       "exp_100k_std_transf_bs64_naivegnn1_wloss_0                         0.729   \n",
       "\n",
       "                                                    testing_precision  \\\n",
       "exp_id                                                                  \n",
       "exp_100k_std_transf_bs64_naivegnn1_wloss_wdecay...              0.550   \n",
       "exp_100k_std_transf_bs64_naivegnn1_wloss_wdecay...              0.628   \n",
       "exp_100k_std_transf_bs64_naivegnn1_wloss_wdecay_0               0.721   \n",
       "exp_100k_std_transf_bs64_naivegnn1_wloss_cl_all...              0.580   \n",
       "exp_100k_std_transf_bs64_naivegnn1_wloss_0                      0.733   \n",
       "\n",
       "                                                    training_recall  \\\n",
       "exp_id                                                                \n",
       "exp_100k_std_transf_bs64_naivegnn1_wloss_wdecay...            0.924   \n",
       "exp_100k_std_transf_bs64_naivegnn1_wloss_wdecay...            0.947   \n",
       "exp_100k_std_transf_bs64_naivegnn1_wloss_wdecay_0             0.833   \n",
       "exp_100k_std_transf_bs64_naivegnn1_wloss_cl_all...            0.924   \n",
       "exp_100k_std_transf_bs64_naivegnn1_wloss_0                    0.838   \n",
       "\n",
       "                                                   validation_recall  \\\n",
       "exp_id                                                                 \n",
       "exp_100k_std_transf_bs64_naivegnn1_wloss_wdecay...             0.931   \n",
       "exp_100k_std_transf_bs64_naivegnn1_wloss_wdecay...             0.938   \n",
       "exp_100k_std_transf_bs64_naivegnn1_wloss_wdecay_0              0.854   \n",
       "exp_100k_std_transf_bs64_naivegnn1_wloss_cl_all...             0.928   \n",
       "exp_100k_std_transf_bs64_naivegnn1_wloss_0                     0.791   \n",
       "\n",
       "                                                    testing_recall  features  \n",
       "exp_id                                                                        \n",
       "exp_100k_std_transf_bs64_naivegnn1_wloss_wdecay...           0.703       NaN  \n",
       "exp_100k_std_transf_bs64_naivegnn1_wloss_wdecay...           0.708       NaN  \n",
       "exp_100k_std_transf_bs64_naivegnn1_wloss_wdecay_0            0.746       NaN  \n",
       "exp_100k_std_transf_bs64_naivegnn1_wloss_cl_all...           0.640       NaN  \n",
       "exp_100k_std_transf_bs64_naivegnn1_wloss_0                   0.790       NaN  \n",
       "\n",
       "[5 rows x 50 columns]"
      ]
     },
     "execution_count": 4,
     "metadata": {},
     "output_type": "execute_result"
    }
   ],
   "source": [
    "######## Modify here\n",
    "project_folder = '/projects/0/einf2380'\n",
    "protein_class = 'I'\n",
    "exp_path = f'{project_folder}/data/pMHC{protein_class}/trained_models/deeprankcore/experiments/'\n",
    "# exps we want to compare with sequence-based model baseline and best CNN\n",
    "exp_ids = [\n",
    "    'exp_100k_std_transf_bs64_naivegnn_0',\n",
    "    'exp_100k_std_transf_bs64_naivegnn_cl_peptide2_0',\n",
    "    'exp_100k_std_transf_bs64_naivegnn_cl_allele_0']\n",
    "new_exp_ids = [\n",
    "    'GNN_shuffle_class',\n",
    "    'GNN_peptide_class',\n",
    "    'GNN_allele_class']\n",
    "comparison_id = 'std_transf_bs64_naivegnn'\n",
    "########\n",
    "exp_log = pd.read_excel(exp_path + '_experiments_log.xlsx', index_col='exp_id')\n",
    "exp_log.head()"
   ]
  },
  {
   "cell_type": "code",
   "execution_count": 5,
   "metadata": {},
   "outputs": [
    {
     "name": "stdout",
     "output_type": "stream",
     "text": [
      "Folder comparisons/std_transf_bs64_naivegnn/ already exists!           \n",
      "Change comparison_id if you want to save plots for a different comparison.\n"
     ]
    }
   ],
   "source": [
    "######## Definitions used in the plotting\n",
    "comparisons_path = os.path.join(exp_path, 'comparisons', 'baseline')\n",
    "comparison_path = os.path.join(comparisons_path, comparison_id)\n",
    "\n",
    "if not os.path.exists(comparisons_path):\n",
    "    os.makedirs(comparisons_path)\n",
    "\n",
    "if not os.path.exists(comparison_path):\n",
    "    os.makedirs(comparison_path)\n",
    "else:\n",
    "    print(f'Folder comparisons/{comparison_id}/ already exists! \\\n",
    "          \\nChange comparison_id if you want to save plots for a different comparison.')\n",
    "\n",
    "def get_single_exp_df(exp_id, exp_log, exp_path):\n",
    "    exp_fullname = exp_log.loc[exp_id].exp_fullname\n",
    "    exp_path = os.path.join(exp_path, exp_fullname)\n",
    "    output_path = os.path.join(exp_path, 'output')\n",
    "    output_train = pd.read_hdf(os.path.join(output_path, 'output_exporter.hdf5'), key='training')\n",
    "    output_test = pd.read_hdf(os.path.join(output_path, 'output_exporter.hdf5'), key='testing')\n",
    "    df = pd.concat([output_train, output_test])\n",
    "    df.sort_values(by=['epoch'], inplace = True)\n",
    "    return df"
   ]
  },
  {
   "cell_type": "code",
   "execution_count": 6,
   "metadata": {},
   "outputs": [],
   "source": [
    "# # maximize mcc\n",
    "# for idx, exp_id in enumerate(exp_ids):\n",
    "#     exp_dict = {}\n",
    "#     exp_dict[\"model\"] = new_exp_ids[idx]\n",
    "#     epoch = exp_log.loc[exp_id].saved_epoch\n",
    "#     df = get_single_exp_df(exp_id, exp_log, exp_path)\n",
    "#     df_plot = df[(df.epoch == epoch) & (df.phase == 'testing')]\n",
    "\n",
    "#     y_true = df_plot.target\n",
    "#     y_score = np.array(df_plot.output.values.tolist())[:, 1]\n",
    "\n",
    "#     thrs = np.linspace(0,1,100)\n",
    "#     accuracy = []\n",
    "#     f1 = []\n",
    "#     mcc = []\n",
    "#     for thr in thrs:\n",
    "#         y_pred = (y_score > thr)*1\n",
    "#         accuracy.append(accuracy_score(y_true, y_pred))\n",
    "#         f1.append(f1_score(y_true, y_pred))\n",
    "#         mcc.append(matthews_corrcoef(y_true, y_pred))\n",
    "\n",
    "#     thr_df = pd.DataFrame({\n",
    "#         'thr': thrs,\n",
    "#         'accuracy': accuracy,\n",
    "#         'f1': f1,\n",
    "#         'mcc': mcc})\n",
    "#     # maximize mcc\n",
    "#     mcc_idxmax = thr_df.mcc.idxmax()\n",
    "#     sel_thr = thr_df.loc[mcc_idxmax].thr\n",
    "#     exp_dict[\"model\"] = exp_dict[\"model\"] + f\"_{sel_thr:.2f}\"\n",
    "#     exp_dict[\"mcc\"] = thr_df.loc[mcc_idxmax].mcc\n",
    "#     exp_dict[\"acc\"] = thr_df.loc[mcc_idxmax].accuracy\n",
    "#     exp_dict[\"f1\"] = thr_df.loc[mcc_idxmax].f1\n",
    "\n",
    "#     fpr_roc, tpr_roc, thr_roc = roc_curve(y_true, y_score)\n",
    "#     exp_dict[\"auc\"] = auc(fpr_roc, tpr_roc)\n",
    "#     tpr_intrp = interpolate.interp1d(thr_roc, tpr_roc)\n",
    "#     exp_dict[\"tpr\"] = float(tpr_intrp(sel_thr)) # recall\n",
    "\n",
    "#     baseline_df = baseline_df.append(exp_dict, ignore_index=True)"
   ]
  },
  {
   "cell_type": "code",
   "execution_count": 7,
   "metadata": {},
   "outputs": [
    {
     "name": "stderr",
     "output_type": "stream",
     "text": [
      "/scratch-local/ccrocion/ipykernel_4191744/2775250510.py:27: FutureWarning: The frame.append method is deprecated and will be removed from pandas in a future version. Use pandas.concat instead.\n",
      "  baseline_df = baseline_df.append(exp_dict, ignore_index=True)\n",
      "/scratch-local/ccrocion/ipykernel_4191744/2775250510.py:27: FutureWarning: The frame.append method is deprecated and will be removed from pandas in a future version. Use pandas.concat instead.\n",
      "  baseline_df = baseline_df.append(exp_dict, ignore_index=True)\n",
      "/scratch-local/ccrocion/ipykernel_4191744/2775250510.py:27: FutureWarning: The frame.append method is deprecated and will be removed from pandas in a future version. Use pandas.concat instead.\n",
      "  baseline_df = baseline_df.append(exp_dict, ignore_index=True)\n"
     ]
    }
   ],
   "source": [
    "for idx, exp_id in enumerate(exp_ids):\n",
    "    exp_dict = {}\n",
    "    exp_dict[\"model\"] = new_exp_ids[idx]\n",
    "    epoch = exp_log.loc[exp_id].saved_epoch\n",
    "    df = get_single_exp_df(exp_id, exp_log, exp_path)\n",
    "    df_plot = df[(df.epoch == epoch) & (df.phase == 'testing')]\n",
    "\n",
    "    y_true = df_plot.target\n",
    "    y_score = np.array(df_plot.output.values.tolist())[:, 1]\n",
    "\n",
    "    thr = 0.5\n",
    "    y_pred = (y_score > thr)*1\n",
    "    accuracy = accuracy_score(y_true, y_pred)\n",
    "    f1 = f1_score(y_true, y_pred)\n",
    "    mcc = matthews_corrcoef(y_true, y_pred)\n",
    "\n",
    "    exp_dict[\"model\"] = exp_dict[\"model\"] + f\"_{thr:.2f}\"\n",
    "    exp_dict[\"mcc\"] = mcc\n",
    "    exp_dict[\"acc\"] = accuracy\n",
    "    exp_dict[\"f1\"] = f1\n",
    "\n",
    "    fpr_roc, tpr_roc, thr_roc = roc_curve(y_true, y_score)\n",
    "    exp_dict[\"auc\"] = auc(fpr_roc, tpr_roc)\n",
    "    tpr_intrp = interpolate.interp1d(thr_roc, tpr_roc)\n",
    "    exp_dict[\"tpr\"] = float(tpr_intrp(thr)) # recall\n",
    "\n",
    "    baseline_df = baseline_df.append(exp_dict, ignore_index=True)"
   ]
  },
  {
   "cell_type": "code",
   "execution_count": 8,
   "metadata": {},
   "outputs": [
    {
     "data": {
      "text/html": [
       "<div>\n",
       "<style scoped>\n",
       "    .dataframe tbody tr th:only-of-type {\n",
       "        vertical-align: middle;\n",
       "    }\n",
       "\n",
       "    .dataframe tbody tr th {\n",
       "        vertical-align: top;\n",
       "    }\n",
       "\n",
       "    .dataframe thead th {\n",
       "        text-align: right;\n",
       "    }\n",
       "</style>\n",
       "<table border=\"1\" class=\"dataframe\">\n",
       "  <thead>\n",
       "    <tr style=\"text-align: right;\">\n",
       "      <th></th>\n",
       "      <th>model</th>\n",
       "      <th>acc</th>\n",
       "      <th>auc</th>\n",
       "      <th>f1</th>\n",
       "      <th>mcc</th>\n",
       "      <th>tnr</th>\n",
       "      <th>tpr</th>\n",
       "    </tr>\n",
       "  </thead>\n",
       "  <tbody>\n",
       "    <tr>\n",
       "      <th>0</th>\n",
       "      <td>SHUFF_Cnn_SumFeat_ChannExpand</td>\n",
       "      <td>0.787383</td>\n",
       "      <td>0.855928</td>\n",
       "      <td>0.751575</td>\n",
       "      <td>0.566675</td>\n",
       "      <td>0.831581</td>\n",
       "      <td>0.731110</td>\n",
       "    </tr>\n",
       "    <tr>\n",
       "      <th>1</th>\n",
       "      <td>PEPT_Cnn_SumFeat_ChannExpand</td>\n",
       "      <td>0.717805</td>\n",
       "      <td>0.788124</td>\n",
       "      <td>0.706360</td>\n",
       "      <td>0.438340</td>\n",
       "      <td>0.695017</td>\n",
       "      <td>0.745038</td>\n",
       "    </tr>\n",
       "    <tr>\n",
       "      <th>2</th>\n",
       "      <td>ALLELE_Cnn_SumFeat_ChannExpand</td>\n",
       "      <td>0.649774</td>\n",
       "      <td>0.697055</td>\n",
       "      <td>0.431115</td>\n",
       "      <td>0.245109</td>\n",
       "      <td>0.878164</td>\n",
       "      <td>0.322732</td>\n",
       "    </tr>\n",
       "    <tr>\n",
       "      <th>3</th>\n",
       "      <td>SHUFF_Group_Class4</td>\n",
       "      <td>0.777401</td>\n",
       "      <td>0.848964</td>\n",
       "      <td>0.740999</td>\n",
       "      <td>0.546493</td>\n",
       "      <td>0.819462</td>\n",
       "      <td>0.723848</td>\n",
       "    </tr>\n",
       "    <tr>\n",
       "      <th>4</th>\n",
       "      <td>PEPT_Group_Class4</td>\n",
       "      <td>0.710789</td>\n",
       "      <td>0.750552</td>\n",
       "      <td>0.692116</td>\n",
       "      <td>0.420580</td>\n",
       "      <td>0.708477</td>\n",
       "      <td>0.713552</td>\n",
       "    </tr>\n",
       "    <tr>\n",
       "      <th>5</th>\n",
       "      <td>ALLELE_Group_Class4</td>\n",
       "      <td>0.646601</td>\n",
       "      <td>0.674479</td>\n",
       "      <td>0.496230</td>\n",
       "      <td>0.244818</td>\n",
       "      <td>0.802548</td>\n",
       "      <td>0.423293</td>\n",
       "    </tr>\n",
       "    <tr>\n",
       "      <th>6</th>\n",
       "      <td>CNN_shuffle_class</td>\n",
       "      <td>0.780295</td>\n",
       "      <td>0.871268</td>\n",
       "      <td>0.712325</td>\n",
       "      <td>0.557802</td>\n",
       "      <td>0.907503</td>\n",
       "      <td>0.618334</td>\n",
       "    </tr>\n",
       "    <tr>\n",
       "      <th>7</th>\n",
       "      <td>CNN_peptide_class</td>\n",
       "      <td>0.713439</td>\n",
       "      <td>0.807924</td>\n",
       "      <td>0.624438</td>\n",
       "      <td>0.427160</td>\n",
       "      <td>0.872852</td>\n",
       "      <td>0.522930</td>\n",
       "    </tr>\n",
       "    <tr>\n",
       "      <th>8</th>\n",
       "      <td>CNN_allele_class</td>\n",
       "      <td>0.639004</td>\n",
       "      <td>0.725724</td>\n",
       "      <td>0.332978</td>\n",
       "      <td>0.221437</td>\n",
       "      <td>0.932223</td>\n",
       "      <td>0.219130</td>\n",
       "    </tr>\n",
       "    <tr>\n",
       "      <th>9</th>\n",
       "      <td>MLP_shuffle_class</td>\n",
       "      <td>0.818141</td>\n",
       "      <td>0.892664</td>\n",
       "      <td>0.793863</td>\n",
       "      <td>0.631333</td>\n",
       "      <td>0.795770</td>\n",
       "      <td>0.795770</td>\n",
       "    </tr>\n",
       "    <tr>\n",
       "      <th>10</th>\n",
       "      <td>MLP_peptide_class</td>\n",
       "      <td>0.784439</td>\n",
       "      <td>0.855406</td>\n",
       "      <td>0.747912</td>\n",
       "      <td>0.553975</td>\n",
       "      <td>0.745867</td>\n",
       "      <td>0.745867</td>\n",
       "    </tr>\n",
       "    <tr>\n",
       "      <th>11</th>\n",
       "      <td>MLP_allele_class</td>\n",
       "      <td>0.567818</td>\n",
       "      <td>0.459883</td>\n",
       "      <td>0.255109</td>\n",
       "      <td>0.042437</td>\n",
       "      <td>0.195628</td>\n",
       "      <td>0.195628</td>\n",
       "    </tr>\n",
       "    <tr>\n",
       "      <th>12</th>\n",
       "      <td>MHCFlurry_shuffle</td>\n",
       "      <td>0.736301</td>\n",
       "      <td>0.735547</td>\n",
       "      <td>0.723246</td>\n",
       "      <td>0.471687</td>\n",
       "      <td>0.713289</td>\n",
       "      <td>0.757804</td>\n",
       "    </tr>\n",
       "    <tr>\n",
       "      <th>13</th>\n",
       "      <td>MHCFlurry_peptide</td>\n",
       "      <td>0.690395</td>\n",
       "      <td>0.688556</td>\n",
       "      <td>0.663286</td>\n",
       "      <td>0.376789</td>\n",
       "      <td>0.667120</td>\n",
       "      <td>0.709991</td>\n",
       "    </tr>\n",
       "    <tr>\n",
       "      <th>14</th>\n",
       "      <td>MHCFlurry_allele</td>\n",
       "      <td>0.643538</td>\n",
       "      <td>0.606256</td>\n",
       "      <td>0.477279</td>\n",
       "      <td>0.235476</td>\n",
       "      <td>0.395371</td>\n",
       "      <td>0.817141</td>\n",
       "    </tr>\n",
       "    <tr>\n",
       "      <th>15</th>\n",
       "      <td>GNN_shuffle_class_0.50</td>\n",
       "      <td>0.780654</td>\n",
       "      <td>0.858576</td>\n",
       "      <td>0.743904</td>\n",
       "      <td>0.553017</td>\n",
       "      <td>NaN</td>\n",
       "      <td>0.723559</td>\n",
       "    </tr>\n",
       "    <tr>\n",
       "      <th>16</th>\n",
       "      <td>GNN_peptide_class_0.50</td>\n",
       "      <td>0.770309</td>\n",
       "      <td>0.842082</td>\n",
       "      <td>0.686798</td>\n",
       "      <td>0.508530</td>\n",
       "      <td>NaN</td>\n",
       "      <td>0.728942</td>\n",
       "    </tr>\n",
       "    <tr>\n",
       "      <th>17</th>\n",
       "      <td>GNN_allele_class_0.50</td>\n",
       "      <td>0.647025</td>\n",
       "      <td>0.674662</td>\n",
       "      <td>0.447725</td>\n",
       "      <td>0.239691</td>\n",
       "      <td>NaN</td>\n",
       "      <td>0.347521</td>\n",
       "    </tr>\n",
       "  </tbody>\n",
       "</table>\n",
       "</div>"
      ],
      "text/plain": [
       "                             model       acc       auc        f1       mcc  \\\n",
       "0    SHUFF_Cnn_SumFeat_ChannExpand  0.787383  0.855928  0.751575  0.566675   \n",
       "1     PEPT_Cnn_SumFeat_ChannExpand  0.717805  0.788124  0.706360  0.438340   \n",
       "2   ALLELE_Cnn_SumFeat_ChannExpand  0.649774  0.697055  0.431115  0.245109   \n",
       "3               SHUFF_Group_Class4  0.777401  0.848964  0.740999  0.546493   \n",
       "4                PEPT_Group_Class4  0.710789  0.750552  0.692116  0.420580   \n",
       "5              ALLELE_Group_Class4  0.646601  0.674479  0.496230  0.244818   \n",
       "6                CNN_shuffle_class  0.780295  0.871268  0.712325  0.557802   \n",
       "7                CNN_peptide_class  0.713439  0.807924  0.624438  0.427160   \n",
       "8                 CNN_allele_class  0.639004  0.725724  0.332978  0.221437   \n",
       "9                MLP_shuffle_class  0.818141  0.892664  0.793863  0.631333   \n",
       "10               MLP_peptide_class  0.784439  0.855406  0.747912  0.553975   \n",
       "11                MLP_allele_class  0.567818  0.459883  0.255109  0.042437   \n",
       "12               MHCFlurry_shuffle  0.736301  0.735547  0.723246  0.471687   \n",
       "13               MHCFlurry_peptide  0.690395  0.688556  0.663286  0.376789   \n",
       "14                MHCFlurry_allele  0.643538  0.606256  0.477279  0.235476   \n",
       "15          GNN_shuffle_class_0.50  0.780654  0.858576  0.743904  0.553017   \n",
       "16          GNN_peptide_class_0.50  0.770309  0.842082  0.686798  0.508530   \n",
       "17           GNN_allele_class_0.50  0.647025  0.674662  0.447725  0.239691   \n",
       "\n",
       "         tnr       tpr  \n",
       "0   0.831581  0.731110  \n",
       "1   0.695017  0.745038  \n",
       "2   0.878164  0.322732  \n",
       "3   0.819462  0.723848  \n",
       "4   0.708477  0.713552  \n",
       "5   0.802548  0.423293  \n",
       "6   0.907503  0.618334  \n",
       "7   0.872852  0.522930  \n",
       "8   0.932223  0.219130  \n",
       "9   0.795770  0.795770  \n",
       "10  0.745867  0.745867  \n",
       "11  0.195628  0.195628  \n",
       "12  0.713289  0.757804  \n",
       "13  0.667120  0.709991  \n",
       "14  0.395371  0.817141  \n",
       "15       NaN  0.723559  \n",
       "16       NaN  0.728942  \n",
       "17       NaN  0.347521  "
      ]
     },
     "execution_count": 8,
     "metadata": {},
     "output_type": "execute_result"
    }
   ],
   "source": [
    "baseline_df"
   ]
  },
  {
   "cell_type": "code",
   "execution_count": 11,
   "metadata": {},
   "outputs": [],
   "source": [
    "######## Compare\n",
    "cl_type = 'allele'\n",
    "metrics = ['auc', 'f1', 'mcc', 'tpr', 'acc']\n",
    "########\n",
    "models = [\n",
    "    f'CNN_{cl_type}_class', \n",
    "    # f'CNN_{cl_type}_reg',\n",
    "    f'MLP_{cl_type}_class',\n",
    "    f'MHCFlurry_{cl_type}',\n",
    "    f'GNN_{cl_type}_class_0.43']\n",
    "fig = go.Figure()\n",
    "\n",
    "for model in models:\n",
    "    idx = baseline_df.index[baseline_df['model'] == model].tolist()[0]\n",
    "    fig.add_trace(go.Bar(\n",
    "        x = metrics,\n",
    "        y = [baseline_df.loc[idx][metric] for metric in metrics],\n",
    "        name = ''.join(model.split(f\"_{cl_type}\")),\n",
    "        legendgroup = model\n",
    "    ))\n",
    "\n",
    "fig.update_yaxes(title_text=\"Value\")\n",
    "fig.update_layout(\n",
    "    barmode='group',\n",
    "    title=f'Experiments type: {cl_type}',\n",
    "    title_x=0.5,\n",
    "    width=1100, height=600)\n",
    "fig.write_html(os.path.join(comparison_path, f'{cl_type}.html'))"
   ]
  },
  {
   "cell_type": "code",
   "execution_count": 10,
   "metadata": {},
   "outputs": [
    {
     "data": {
      "application/vnd.plotly.v1+json": {
       "config": {
        "plotlyServerURL": "https://plot.ly"
       },
       "data": [
        {
         "legendgroup": "3D-CNN",
         "name": "3D-CNN",
         "type": "bar",
         "x": [
          "Shuffled",
          "Peptide-clustered",
          "Allele-clustered"
         ],
         "y": [
          0.871268,
          0,
          0.725724
         ]
        },
        {
         "legendgroup": "3D-GNN",
         "name": "3D-GNN",
         "type": "bar",
         "x": [
          "Shuffled",
          "Peptide-clustered",
          "Allele-clustered"
         ],
         "y": [
          0.8586,
          0.842082,
          0.674662
         ]
        },
        {
         "legendgroup": "Re-trained MHCFlurry2.0",
         "name": "Re-trained MHCFlurry2.0",
         "type": "bar",
         "x": [
          "Shuffled",
          "Peptide-clustered",
          "Allele-clustered"
         ],
         "y": [
          0.735547,
          0,
          0.606256
         ]
        },
        {
         "legendgroup": "Seq-based NN",
         "name": "Seq-based NN",
         "type": "bar",
         "x": [
          "Shuffled",
          "Peptide-clustered",
          "Allele-clustered"
         ],
         "y": [
          0.892664,
          0,
          0.459883
         ]
        }
       ],
       "layout": {
        "barmode": "group",
        "font": {
         "color": "#421A48",
         "size": 16
        },
        "height": 500,
        "showlegend": true,
        "template": {
         "data": {
          "bar": [
           {
            "error_x": {
             "color": "#2a3f5f"
            },
            "error_y": {
             "color": "#2a3f5f"
            },
            "marker": {
             "line": {
              "color": "#E5ECF6",
              "width": 0.5
             },
             "pattern": {
              "fillmode": "overlay",
              "size": 10,
              "solidity": 0.2
             }
            },
            "type": "bar"
           }
          ],
          "barpolar": [
           {
            "marker": {
             "line": {
              "color": "#E5ECF6",
              "width": 0.5
             },
             "pattern": {
              "fillmode": "overlay",
              "size": 10,
              "solidity": 0.2
             }
            },
            "type": "barpolar"
           }
          ],
          "carpet": [
           {
            "aaxis": {
             "endlinecolor": "#2a3f5f",
             "gridcolor": "white",
             "linecolor": "white",
             "minorgridcolor": "white",
             "startlinecolor": "#2a3f5f"
            },
            "baxis": {
             "endlinecolor": "#2a3f5f",
             "gridcolor": "white",
             "linecolor": "white",
             "minorgridcolor": "white",
             "startlinecolor": "#2a3f5f"
            },
            "type": "carpet"
           }
          ],
          "choropleth": [
           {
            "colorbar": {
             "outlinewidth": 0,
             "ticks": ""
            },
            "type": "choropleth"
           }
          ],
          "contour": [
           {
            "colorbar": {
             "outlinewidth": 0,
             "ticks": ""
            },
            "colorscale": [
             [
              0,
              "#0d0887"
             ],
             [
              0.1111111111111111,
              "#46039f"
             ],
             [
              0.2222222222222222,
              "#7201a8"
             ],
             [
              0.3333333333333333,
              "#9c179e"
             ],
             [
              0.4444444444444444,
              "#bd3786"
             ],
             [
              0.5555555555555556,
              "#d8576b"
             ],
             [
              0.6666666666666666,
              "#ed7953"
             ],
             [
              0.7777777777777778,
              "#fb9f3a"
             ],
             [
              0.8888888888888888,
              "#fdca26"
             ],
             [
              1,
              "#f0f921"
             ]
            ],
            "type": "contour"
           }
          ],
          "contourcarpet": [
           {
            "colorbar": {
             "outlinewidth": 0,
             "ticks": ""
            },
            "type": "contourcarpet"
           }
          ],
          "heatmap": [
           {
            "colorbar": {
             "outlinewidth": 0,
             "ticks": ""
            },
            "colorscale": [
             [
              0,
              "#0d0887"
             ],
             [
              0.1111111111111111,
              "#46039f"
             ],
             [
              0.2222222222222222,
              "#7201a8"
             ],
             [
              0.3333333333333333,
              "#9c179e"
             ],
             [
              0.4444444444444444,
              "#bd3786"
             ],
             [
              0.5555555555555556,
              "#d8576b"
             ],
             [
              0.6666666666666666,
              "#ed7953"
             ],
             [
              0.7777777777777778,
              "#fb9f3a"
             ],
             [
              0.8888888888888888,
              "#fdca26"
             ],
             [
              1,
              "#f0f921"
             ]
            ],
            "type": "heatmap"
           }
          ],
          "heatmapgl": [
           {
            "colorbar": {
             "outlinewidth": 0,
             "ticks": ""
            },
            "colorscale": [
             [
              0,
              "#0d0887"
             ],
             [
              0.1111111111111111,
              "#46039f"
             ],
             [
              0.2222222222222222,
              "#7201a8"
             ],
             [
              0.3333333333333333,
              "#9c179e"
             ],
             [
              0.4444444444444444,
              "#bd3786"
             ],
             [
              0.5555555555555556,
              "#d8576b"
             ],
             [
              0.6666666666666666,
              "#ed7953"
             ],
             [
              0.7777777777777778,
              "#fb9f3a"
             ],
             [
              0.8888888888888888,
              "#fdca26"
             ],
             [
              1,
              "#f0f921"
             ]
            ],
            "type": "heatmapgl"
           }
          ],
          "histogram": [
           {
            "marker": {
             "pattern": {
              "fillmode": "overlay",
              "size": 10,
              "solidity": 0.2
             }
            },
            "type": "histogram"
           }
          ],
          "histogram2d": [
           {
            "colorbar": {
             "outlinewidth": 0,
             "ticks": ""
            },
            "colorscale": [
             [
              0,
              "#0d0887"
             ],
             [
              0.1111111111111111,
              "#46039f"
             ],
             [
              0.2222222222222222,
              "#7201a8"
             ],
             [
              0.3333333333333333,
              "#9c179e"
             ],
             [
              0.4444444444444444,
              "#bd3786"
             ],
             [
              0.5555555555555556,
              "#d8576b"
             ],
             [
              0.6666666666666666,
              "#ed7953"
             ],
             [
              0.7777777777777778,
              "#fb9f3a"
             ],
             [
              0.8888888888888888,
              "#fdca26"
             ],
             [
              1,
              "#f0f921"
             ]
            ],
            "type": "histogram2d"
           }
          ],
          "histogram2dcontour": [
           {
            "colorbar": {
             "outlinewidth": 0,
             "ticks": ""
            },
            "colorscale": [
             [
              0,
              "#0d0887"
             ],
             [
              0.1111111111111111,
              "#46039f"
             ],
             [
              0.2222222222222222,
              "#7201a8"
             ],
             [
              0.3333333333333333,
              "#9c179e"
             ],
             [
              0.4444444444444444,
              "#bd3786"
             ],
             [
              0.5555555555555556,
              "#d8576b"
             ],
             [
              0.6666666666666666,
              "#ed7953"
             ],
             [
              0.7777777777777778,
              "#fb9f3a"
             ],
             [
              0.8888888888888888,
              "#fdca26"
             ],
             [
              1,
              "#f0f921"
             ]
            ],
            "type": "histogram2dcontour"
           }
          ],
          "mesh3d": [
           {
            "colorbar": {
             "outlinewidth": 0,
             "ticks": ""
            },
            "type": "mesh3d"
           }
          ],
          "parcoords": [
           {
            "line": {
             "colorbar": {
              "outlinewidth": 0,
              "ticks": ""
             }
            },
            "type": "parcoords"
           }
          ],
          "pie": [
           {
            "automargin": true,
            "type": "pie"
           }
          ],
          "scatter": [
           {
            "fillpattern": {
             "fillmode": "overlay",
             "size": 10,
             "solidity": 0.2
            },
            "type": "scatter"
           }
          ],
          "scatter3d": [
           {
            "line": {
             "colorbar": {
              "outlinewidth": 0,
              "ticks": ""
             }
            },
            "marker": {
             "colorbar": {
              "outlinewidth": 0,
              "ticks": ""
             }
            },
            "type": "scatter3d"
           }
          ],
          "scattercarpet": [
           {
            "marker": {
             "colorbar": {
              "outlinewidth": 0,
              "ticks": ""
             }
            },
            "type": "scattercarpet"
           }
          ],
          "scattergeo": [
           {
            "marker": {
             "colorbar": {
              "outlinewidth": 0,
              "ticks": ""
             }
            },
            "type": "scattergeo"
           }
          ],
          "scattergl": [
           {
            "marker": {
             "colorbar": {
              "outlinewidth": 0,
              "ticks": ""
             }
            },
            "type": "scattergl"
           }
          ],
          "scattermapbox": [
           {
            "marker": {
             "colorbar": {
              "outlinewidth": 0,
              "ticks": ""
             }
            },
            "type": "scattermapbox"
           }
          ],
          "scatterpolar": [
           {
            "marker": {
             "colorbar": {
              "outlinewidth": 0,
              "ticks": ""
             }
            },
            "type": "scatterpolar"
           }
          ],
          "scatterpolargl": [
           {
            "marker": {
             "colorbar": {
              "outlinewidth": 0,
              "ticks": ""
             }
            },
            "type": "scatterpolargl"
           }
          ],
          "scatterternary": [
           {
            "marker": {
             "colorbar": {
              "outlinewidth": 0,
              "ticks": ""
             }
            },
            "type": "scatterternary"
           }
          ],
          "surface": [
           {
            "colorbar": {
             "outlinewidth": 0,
             "ticks": ""
            },
            "colorscale": [
             [
              0,
              "#0d0887"
             ],
             [
              0.1111111111111111,
              "#46039f"
             ],
             [
              0.2222222222222222,
              "#7201a8"
             ],
             [
              0.3333333333333333,
              "#9c179e"
             ],
             [
              0.4444444444444444,
              "#bd3786"
             ],
             [
              0.5555555555555556,
              "#d8576b"
             ],
             [
              0.6666666666666666,
              "#ed7953"
             ],
             [
              0.7777777777777778,
              "#fb9f3a"
             ],
             [
              0.8888888888888888,
              "#fdca26"
             ],
             [
              1,
              "#f0f921"
             ]
            ],
            "type": "surface"
           }
          ],
          "table": [
           {
            "cells": {
             "fill": {
              "color": "#EBF0F8"
             },
             "line": {
              "color": "white"
             }
            },
            "header": {
             "fill": {
              "color": "#C8D4E3"
             },
             "line": {
              "color": "white"
             }
            },
            "type": "table"
           }
          ]
         },
         "layout": {
          "annotationdefaults": {
           "arrowcolor": "#2a3f5f",
           "arrowhead": 0,
           "arrowwidth": 1
          },
          "autotypenumbers": "strict",
          "coloraxis": {
           "colorbar": {
            "outlinewidth": 0,
            "ticks": ""
           }
          },
          "colorscale": {
           "diverging": [
            [
             0,
             "#8e0152"
            ],
            [
             0.1,
             "#c51b7d"
            ],
            [
             0.2,
             "#de77ae"
            ],
            [
             0.3,
             "#f1b6da"
            ],
            [
             0.4,
             "#fde0ef"
            ],
            [
             0.5,
             "#f7f7f7"
            ],
            [
             0.6,
             "#e6f5d0"
            ],
            [
             0.7,
             "#b8e186"
            ],
            [
             0.8,
             "#7fbc41"
            ],
            [
             0.9,
             "#4d9221"
            ],
            [
             1,
             "#276419"
            ]
           ],
           "sequential": [
            [
             0,
             "#0d0887"
            ],
            [
             0.1111111111111111,
             "#46039f"
            ],
            [
             0.2222222222222222,
             "#7201a8"
            ],
            [
             0.3333333333333333,
             "#9c179e"
            ],
            [
             0.4444444444444444,
             "#bd3786"
            ],
            [
             0.5555555555555556,
             "#d8576b"
            ],
            [
             0.6666666666666666,
             "#ed7953"
            ],
            [
             0.7777777777777778,
             "#fb9f3a"
            ],
            [
             0.8888888888888888,
             "#fdca26"
            ],
            [
             1,
             "#f0f921"
            ]
           ],
           "sequentialminus": [
            [
             0,
             "#0d0887"
            ],
            [
             0.1111111111111111,
             "#46039f"
            ],
            [
             0.2222222222222222,
             "#7201a8"
            ],
            [
             0.3333333333333333,
             "#9c179e"
            ],
            [
             0.4444444444444444,
             "#bd3786"
            ],
            [
             0.5555555555555556,
             "#d8576b"
            ],
            [
             0.6666666666666666,
             "#ed7953"
            ],
            [
             0.7777777777777778,
             "#fb9f3a"
            ],
            [
             0.8888888888888888,
             "#fdca26"
            ],
            [
             1,
             "#f0f921"
            ]
           ]
          },
          "colorway": [
           "#636efa",
           "#EF553B",
           "#00cc96",
           "#ab63fa",
           "#FFA15A",
           "#19d3f3",
           "#FF6692",
           "#B6E880",
           "#FF97FF",
           "#FECB52"
          ],
          "font": {
           "color": "#2a3f5f"
          },
          "geo": {
           "bgcolor": "white",
           "lakecolor": "white",
           "landcolor": "#E5ECF6",
           "showlakes": true,
           "showland": true,
           "subunitcolor": "white"
          },
          "hoverlabel": {
           "align": "left"
          },
          "hovermode": "closest",
          "mapbox": {
           "style": "light"
          },
          "paper_bgcolor": "white",
          "plot_bgcolor": "#E5ECF6",
          "polar": {
           "angularaxis": {
            "gridcolor": "white",
            "linecolor": "white",
            "ticks": ""
           },
           "bgcolor": "#E5ECF6",
           "radialaxis": {
            "gridcolor": "white",
            "linecolor": "white",
            "ticks": ""
           }
          },
          "scene": {
           "xaxis": {
            "backgroundcolor": "#E5ECF6",
            "gridcolor": "white",
            "gridwidth": 2,
            "linecolor": "white",
            "showbackground": true,
            "ticks": "",
            "zerolinecolor": "white"
           },
           "yaxis": {
            "backgroundcolor": "#E5ECF6",
            "gridcolor": "white",
            "gridwidth": 2,
            "linecolor": "white",
            "showbackground": true,
            "ticks": "",
            "zerolinecolor": "white"
           },
           "zaxis": {
            "backgroundcolor": "#E5ECF6",
            "gridcolor": "white",
            "gridwidth": 2,
            "linecolor": "white",
            "showbackground": true,
            "ticks": "",
            "zerolinecolor": "white"
           }
          },
          "shapedefaults": {
           "line": {
            "color": "#2a3f5f"
           }
          },
          "ternary": {
           "aaxis": {
            "gridcolor": "white",
            "linecolor": "white",
            "ticks": ""
           },
           "baxis": {
            "gridcolor": "white",
            "linecolor": "white",
            "ticks": ""
           },
           "bgcolor": "#E5ECF6",
           "caxis": {
            "gridcolor": "white",
            "linecolor": "white",
            "ticks": ""
           }
          },
          "title": {
           "x": 0.05
          },
          "xaxis": {
           "automargin": true,
           "gridcolor": "white",
           "linecolor": "white",
           "ticks": "",
           "title": {
            "standoff": 15
           },
           "zerolinecolor": "white",
           "zerolinewidth": 2
          },
          "yaxis": {
           "automargin": true,
           "gridcolor": "white",
           "linecolor": "white",
           "ticks": "",
           "title": {
            "standoff": 15
           },
           "zerolinecolor": "white",
           "zerolinewidth": 2
          }
         }
        },
        "title": {
         "x": 0.5
        },
        "width": 900,
        "xaxis": {
         "tickfont": {
          "size": 15
         },
         "title": {
          "text": "Dataset"
         }
        },
        "yaxis": {
         "tickfont": {
          "size": 15
         },
         "title": {
          "text": "AUC"
         }
        }
       }
      },
      "text/html": [
       "<div>                            <div id=\"476f5a91-c3c5-4d9b-87c9-58edbce5c3e8\" class=\"plotly-graph-div\" style=\"height:500px; width:900px;\"></div>            <script type=\"text/javascript\">                require([\"plotly\"], function(Plotly) {                    window.PLOTLYENV=window.PLOTLYENV || {};                                    if (document.getElementById(\"476f5a91-c3c5-4d9b-87c9-58edbce5c3e8\")) {                    Plotly.newPlot(                        \"476f5a91-c3c5-4d9b-87c9-58edbce5c3e8\",                        [{\"legendgroup\":\"3D-CNN\",\"name\":\"3D-CNN\",\"x\":[\"Shuffled\",\"Peptide-clustered\",\"Allele-clustered\"],\"y\":[0.871268,0,0.725724],\"type\":\"bar\"},{\"legendgroup\":\"3D-GNN\",\"name\":\"3D-GNN\",\"x\":[\"Shuffled\",\"Peptide-clustered\",\"Allele-clustered\"],\"y\":[0.8586,0.842082,0.674662],\"type\":\"bar\"},{\"legendgroup\":\"Re-trained MHCFlurry2.0\",\"name\":\"Re-trained MHCFlurry2.0\",\"x\":[\"Shuffled\",\"Peptide-clustered\",\"Allele-clustered\"],\"y\":[0.735547,0,0.606256],\"type\":\"bar\"},{\"legendgroup\":\"Seq-based NN\",\"name\":\"Seq-based NN\",\"x\":[\"Shuffled\",\"Peptide-clustered\",\"Allele-clustered\"],\"y\":[0.892664,0,0.459883],\"type\":\"bar\"}],                        {\"template\":{\"data\":{\"histogram2dcontour\":[{\"type\":\"histogram2dcontour\",\"colorbar\":{\"outlinewidth\":0,\"ticks\":\"\"},\"colorscale\":[[0.0,\"#0d0887\"],[0.1111111111111111,\"#46039f\"],[0.2222222222222222,\"#7201a8\"],[0.3333333333333333,\"#9c179e\"],[0.4444444444444444,\"#bd3786\"],[0.5555555555555556,\"#d8576b\"],[0.6666666666666666,\"#ed7953\"],[0.7777777777777778,\"#fb9f3a\"],[0.8888888888888888,\"#fdca26\"],[1.0,\"#f0f921\"]]}],\"choropleth\":[{\"type\":\"choropleth\",\"colorbar\":{\"outlinewidth\":0,\"ticks\":\"\"}}],\"histogram2d\":[{\"type\":\"histogram2d\",\"colorbar\":{\"outlinewidth\":0,\"ticks\":\"\"},\"colorscale\":[[0.0,\"#0d0887\"],[0.1111111111111111,\"#46039f\"],[0.2222222222222222,\"#7201a8\"],[0.3333333333333333,\"#9c179e\"],[0.4444444444444444,\"#bd3786\"],[0.5555555555555556,\"#d8576b\"],[0.6666666666666666,\"#ed7953\"],[0.7777777777777778,\"#fb9f3a\"],[0.8888888888888888,\"#fdca26\"],[1.0,\"#f0f921\"]]}],\"heatmap\":[{\"type\":\"heatmap\",\"colorbar\":{\"outlinewidth\":0,\"ticks\":\"\"},\"colorscale\":[[0.0,\"#0d0887\"],[0.1111111111111111,\"#46039f\"],[0.2222222222222222,\"#7201a8\"],[0.3333333333333333,\"#9c179e\"],[0.4444444444444444,\"#bd3786\"],[0.5555555555555556,\"#d8576b\"],[0.6666666666666666,\"#ed7953\"],[0.7777777777777778,\"#fb9f3a\"],[0.8888888888888888,\"#fdca26\"],[1.0,\"#f0f921\"]]}],\"heatmapgl\":[{\"type\":\"heatmapgl\",\"colorbar\":{\"outlinewidth\":0,\"ticks\":\"\"},\"colorscale\":[[0.0,\"#0d0887\"],[0.1111111111111111,\"#46039f\"],[0.2222222222222222,\"#7201a8\"],[0.3333333333333333,\"#9c179e\"],[0.4444444444444444,\"#bd3786\"],[0.5555555555555556,\"#d8576b\"],[0.6666666666666666,\"#ed7953\"],[0.7777777777777778,\"#fb9f3a\"],[0.8888888888888888,\"#fdca26\"],[1.0,\"#f0f921\"]]}],\"contourcarpet\":[{\"type\":\"contourcarpet\",\"colorbar\":{\"outlinewidth\":0,\"ticks\":\"\"}}],\"contour\":[{\"type\":\"contour\",\"colorbar\":{\"outlinewidth\":0,\"ticks\":\"\"},\"colorscale\":[[0.0,\"#0d0887\"],[0.1111111111111111,\"#46039f\"],[0.2222222222222222,\"#7201a8\"],[0.3333333333333333,\"#9c179e\"],[0.4444444444444444,\"#bd3786\"],[0.5555555555555556,\"#d8576b\"],[0.6666666666666666,\"#ed7953\"],[0.7777777777777778,\"#fb9f3a\"],[0.8888888888888888,\"#fdca26\"],[1.0,\"#f0f921\"]]}],\"surface\":[{\"type\":\"surface\",\"colorbar\":{\"outlinewidth\":0,\"ticks\":\"\"},\"colorscale\":[[0.0,\"#0d0887\"],[0.1111111111111111,\"#46039f\"],[0.2222222222222222,\"#7201a8\"],[0.3333333333333333,\"#9c179e\"],[0.4444444444444444,\"#bd3786\"],[0.5555555555555556,\"#d8576b\"],[0.6666666666666666,\"#ed7953\"],[0.7777777777777778,\"#fb9f3a\"],[0.8888888888888888,\"#fdca26\"],[1.0,\"#f0f921\"]]}],\"mesh3d\":[{\"type\":\"mesh3d\",\"colorbar\":{\"outlinewidth\":0,\"ticks\":\"\"}}],\"scatter\":[{\"fillpattern\":{\"fillmode\":\"overlay\",\"size\":10,\"solidity\":0.2},\"type\":\"scatter\"}],\"parcoords\":[{\"type\":\"parcoords\",\"line\":{\"colorbar\":{\"outlinewidth\":0,\"ticks\":\"\"}}}],\"scatterpolargl\":[{\"type\":\"scatterpolargl\",\"marker\":{\"colorbar\":{\"outlinewidth\":0,\"ticks\":\"\"}}}],\"bar\":[{\"error_x\":{\"color\":\"#2a3f5f\"},\"error_y\":{\"color\":\"#2a3f5f\"},\"marker\":{\"line\":{\"color\":\"#E5ECF6\",\"width\":0.5},\"pattern\":{\"fillmode\":\"overlay\",\"size\":10,\"solidity\":0.2}},\"type\":\"bar\"}],\"scattergeo\":[{\"type\":\"scattergeo\",\"marker\":{\"colorbar\":{\"outlinewidth\":0,\"ticks\":\"\"}}}],\"scatterpolar\":[{\"type\":\"scatterpolar\",\"marker\":{\"colorbar\":{\"outlinewidth\":0,\"ticks\":\"\"}}}],\"histogram\":[{\"marker\":{\"pattern\":{\"fillmode\":\"overlay\",\"size\":10,\"solidity\":0.2}},\"type\":\"histogram\"}],\"scattergl\":[{\"type\":\"scattergl\",\"marker\":{\"colorbar\":{\"outlinewidth\":0,\"ticks\":\"\"}}}],\"scatter3d\":[{\"type\":\"scatter3d\",\"line\":{\"colorbar\":{\"outlinewidth\":0,\"ticks\":\"\"}},\"marker\":{\"colorbar\":{\"outlinewidth\":0,\"ticks\":\"\"}}}],\"scattermapbox\":[{\"type\":\"scattermapbox\",\"marker\":{\"colorbar\":{\"outlinewidth\":0,\"ticks\":\"\"}}}],\"scatterternary\":[{\"type\":\"scatterternary\",\"marker\":{\"colorbar\":{\"outlinewidth\":0,\"ticks\":\"\"}}}],\"scattercarpet\":[{\"type\":\"scattercarpet\",\"marker\":{\"colorbar\":{\"outlinewidth\":0,\"ticks\":\"\"}}}],\"carpet\":[{\"aaxis\":{\"endlinecolor\":\"#2a3f5f\",\"gridcolor\":\"white\",\"linecolor\":\"white\",\"minorgridcolor\":\"white\",\"startlinecolor\":\"#2a3f5f\"},\"baxis\":{\"endlinecolor\":\"#2a3f5f\",\"gridcolor\":\"white\",\"linecolor\":\"white\",\"minorgridcolor\":\"white\",\"startlinecolor\":\"#2a3f5f\"},\"type\":\"carpet\"}],\"table\":[{\"cells\":{\"fill\":{\"color\":\"#EBF0F8\"},\"line\":{\"color\":\"white\"}},\"header\":{\"fill\":{\"color\":\"#C8D4E3\"},\"line\":{\"color\":\"white\"}},\"type\":\"table\"}],\"barpolar\":[{\"marker\":{\"line\":{\"color\":\"#E5ECF6\",\"width\":0.5},\"pattern\":{\"fillmode\":\"overlay\",\"size\":10,\"solidity\":0.2}},\"type\":\"barpolar\"}],\"pie\":[{\"automargin\":true,\"type\":\"pie\"}]},\"layout\":{\"autotypenumbers\":\"strict\",\"colorway\":[\"#636efa\",\"#EF553B\",\"#00cc96\",\"#ab63fa\",\"#FFA15A\",\"#19d3f3\",\"#FF6692\",\"#B6E880\",\"#FF97FF\",\"#FECB52\"],\"font\":{\"color\":\"#2a3f5f\"},\"hovermode\":\"closest\",\"hoverlabel\":{\"align\":\"left\"},\"paper_bgcolor\":\"white\",\"plot_bgcolor\":\"#E5ECF6\",\"polar\":{\"bgcolor\":\"#E5ECF6\",\"angularaxis\":{\"gridcolor\":\"white\",\"linecolor\":\"white\",\"ticks\":\"\"},\"radialaxis\":{\"gridcolor\":\"white\",\"linecolor\":\"white\",\"ticks\":\"\"}},\"ternary\":{\"bgcolor\":\"#E5ECF6\",\"aaxis\":{\"gridcolor\":\"white\",\"linecolor\":\"white\",\"ticks\":\"\"},\"baxis\":{\"gridcolor\":\"white\",\"linecolor\":\"white\",\"ticks\":\"\"},\"caxis\":{\"gridcolor\":\"white\",\"linecolor\":\"white\",\"ticks\":\"\"}},\"coloraxis\":{\"colorbar\":{\"outlinewidth\":0,\"ticks\":\"\"}},\"colorscale\":{\"sequential\":[[0.0,\"#0d0887\"],[0.1111111111111111,\"#46039f\"],[0.2222222222222222,\"#7201a8\"],[0.3333333333333333,\"#9c179e\"],[0.4444444444444444,\"#bd3786\"],[0.5555555555555556,\"#d8576b\"],[0.6666666666666666,\"#ed7953\"],[0.7777777777777778,\"#fb9f3a\"],[0.8888888888888888,\"#fdca26\"],[1.0,\"#f0f921\"]],\"sequentialminus\":[[0.0,\"#0d0887\"],[0.1111111111111111,\"#46039f\"],[0.2222222222222222,\"#7201a8\"],[0.3333333333333333,\"#9c179e\"],[0.4444444444444444,\"#bd3786\"],[0.5555555555555556,\"#d8576b\"],[0.6666666666666666,\"#ed7953\"],[0.7777777777777778,\"#fb9f3a\"],[0.8888888888888888,\"#fdca26\"],[1.0,\"#f0f921\"]],\"diverging\":[[0,\"#8e0152\"],[0.1,\"#c51b7d\"],[0.2,\"#de77ae\"],[0.3,\"#f1b6da\"],[0.4,\"#fde0ef\"],[0.5,\"#f7f7f7\"],[0.6,\"#e6f5d0\"],[0.7,\"#b8e186\"],[0.8,\"#7fbc41\"],[0.9,\"#4d9221\"],[1,\"#276419\"]]},\"xaxis\":{\"gridcolor\":\"white\",\"linecolor\":\"white\",\"ticks\":\"\",\"title\":{\"standoff\":15},\"zerolinecolor\":\"white\",\"automargin\":true,\"zerolinewidth\":2},\"yaxis\":{\"gridcolor\":\"white\",\"linecolor\":\"white\",\"ticks\":\"\",\"title\":{\"standoff\":15},\"zerolinecolor\":\"white\",\"automargin\":true,\"zerolinewidth\":2},\"scene\":{\"xaxis\":{\"backgroundcolor\":\"#E5ECF6\",\"gridcolor\":\"white\",\"linecolor\":\"white\",\"showbackground\":true,\"ticks\":\"\",\"zerolinecolor\":\"white\",\"gridwidth\":2},\"yaxis\":{\"backgroundcolor\":\"#E5ECF6\",\"gridcolor\":\"white\",\"linecolor\":\"white\",\"showbackground\":true,\"ticks\":\"\",\"zerolinecolor\":\"white\",\"gridwidth\":2},\"zaxis\":{\"backgroundcolor\":\"#E5ECF6\",\"gridcolor\":\"white\",\"linecolor\":\"white\",\"showbackground\":true,\"ticks\":\"\",\"zerolinecolor\":\"white\",\"gridwidth\":2}},\"shapedefaults\":{\"line\":{\"color\":\"#2a3f5f\"}},\"annotationdefaults\":{\"arrowcolor\":\"#2a3f5f\",\"arrowhead\":0,\"arrowwidth\":1},\"geo\":{\"bgcolor\":\"white\",\"landcolor\":\"#E5ECF6\",\"subunitcolor\":\"white\",\"showland\":true,\"showlakes\":true,\"lakecolor\":\"white\"},\"title\":{\"x\":0.05},\"mapbox\":{\"style\":\"light\"}}},\"yaxis\":{\"title\":{\"text\":\"AUC\"},\"tickfont\":{\"size\":15}},\"xaxis\":{\"title\":{\"text\":\"Dataset\"},\"tickfont\":{\"size\":15}},\"title\":{\"x\":0.5},\"font\":{\"size\":16,\"color\":\"#421A48\"},\"barmode\":\"group\",\"width\":900,\"height\":500,\"showlegend\":true},                        {\"responsive\": true}                    ).then(function(){\n",
       "                            \n",
       "var gd = document.getElementById('476f5a91-c3c5-4d9b-87c9-58edbce5c3e8');\n",
       "var x = new MutationObserver(function (mutations, observer) {{\n",
       "        var display = window.getComputedStyle(gd).display;\n",
       "        if (!display || display === 'none') {{\n",
       "            console.log([gd, 'removed!']);\n",
       "            Plotly.purge(gd);\n",
       "            observer.disconnect();\n",
       "        }}\n",
       "}});\n",
       "\n",
       "// Listen for the removal of the full notebook cells\n",
       "var notebookContainer = gd.closest('#notebook-container');\n",
       "if (notebookContainer) {{\n",
       "    x.observe(notebookContainer, {childList: true});\n",
       "}}\n",
       "\n",
       "// Listen for the clearing of the current output cell\n",
       "var outputEl = gd.closest('.output');\n",
       "if (outputEl) {{\n",
       "    x.observe(outputEl, {childList: true});\n",
       "}}\n",
       "\n",
       "                        })                };                });            </script>        </div>"
      ]
     },
     "metadata": {},
     "output_type": "display_data"
    }
   ],
   "source": [
    "#### Poster\n",
    "x_axis = ['Shuffled', 'Peptide-clustered', 'Allele-clustered']\n",
    "\n",
    "models = {\n",
    "    '3D-CNN': [0.871268, 0, 0.725724],\n",
    "    '3D-GNN': [0.8586, 0.842082, 0.674662],\n",
    "    'Re-trained MHCFlurry2.0': [0.735547, 0, 0.606256],\n",
    "    'Seq-based NN': [0.892664, 0, 0.459883]}\n",
    "fig = go.Figure()\n",
    "\n",
    "for key, value in models.items():\n",
    "    fig.add_trace(go.Bar(\n",
    "        x = x_axis,\n",
    "        y = value,\n",
    "        name = key,\n",
    "        legendgroup = key,\n",
    "        # text = key\n",
    "    ))\n",
    "\n",
    "fig.update_yaxes(title_text=\"AUC\", tickfont_size=15)\n",
    "fig.update_xaxes(title_text=\"Dataset\", tickfont_size=15)\n",
    "fig.update_layout(\n",
    "    barmode='group',\n",
    "    title_x=0.5,\n",
    "    width=900, height=500,\n",
    "    showlegend = True,\n",
    "    font=dict(\n",
    "        size=16,\n",
    "        color=\"#421A48\"\n",
    "    )\n",
    "    )\n",
    "# fig.write_html(os.path.join(comparison_path, f'{cl_type}.html'))\n",
    "fig.write_image(\"plot1.svg\")\n",
    "fig.show()"
   ]
  },
  {
   "cell_type": "code",
   "execution_count": null,
   "metadata": {},
   "outputs": [],
   "source": []
  }
 ],
 "metadata": {
  "kernelspec": {
   "display_name": "deeprank",
   "language": "python",
   "name": "python3"
  },
  "language_info": {
   "codemirror_mode": {
    "name": "ipython",
    "version": 3
   },
   "file_extension": ".py",
   "mimetype": "text/x-python",
   "name": "python",
   "nbconvert_exporter": "python",
   "pygments_lexer": "ipython3",
   "version": "3.9.12"
  },
  "orig_nbformat": 4
 },
 "nbformat": 4,
 "nbformat_minor": 2
}
