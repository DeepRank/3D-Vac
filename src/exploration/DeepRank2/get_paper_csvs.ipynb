{
 "cells": [
  {
   "cell_type": "code",
   "execution_count": 1,
   "metadata": {},
   "outputs": [],
   "source": [
    "import pandas as pd\n",
    "from sklearn.metrics import (\n",
    "    roc_curve,\n",
    "    precision_recall_curve,\n",
    "    auc,\n",
    "    average_precision_score)\n",
    "import numpy as np"
   ]
  },
  {
   "cell_type": "code",
   "execution_count": 2,
   "metadata": {},
   "outputs": [
    {
     "name": "stdout",
     "output_type": "stream",
     "text": [
      "\n",
      " Run 1\n",
      "AUC=0.8512\n",
      "AUCPR=0.8085\n",
      "\n",
      " Run 2\n",
      "AUC=0.8529\n",
      "AUCPR=0.8122\n",
      "\n",
      " Run 3\n",
      "AUC=0.8487\n",
      "AUCPR=0.8062\n",
      "\n",
      " Run 4\n",
      "AUC=0.8476\n",
      "AUCPR=0.8055\n",
      "\n",
      " Run 5\n",
      "AUC=0.8500\n",
      "AUCPR=0.8056\n"
     ]
    }
   ],
   "source": [
    "#shuffled\n",
    "n_runs = 5\n",
    "for i in range(n_runs):\n",
    "    dfot = pd.read_hdf(\n",
    "        f'/projects/0/einf2380/data/pMHCI/trained_models/deeprank2/experiments/exp_100k_std_transf_bs64_naivegnn1_wloss_n_run_{i+1}_0_240605/output/output_exporter.hdf5'\n",
    "                    , key=\"testing\")\n",
    "    dfot['entry']= [x.split(':')[2] for x in dfot['entry']]\n",
    "    dfot['ID'] = dfot['entry']\n",
    "    dfot['output']= [x[1] for x in dfot['output']]\n",
    "    print(f'\\n Run {i+1}')\n",
    "    y_true = dfot.target\n",
    "    y_score = np.array(dfot.output.values.tolist())\n",
    "    fpr_roc, tpr_roc, thr_roc = roc_curve(y_true, y_score)\n",
    "    pr_pr, rec_pr, thr_pr = precision_recall_curve(y_true, y_score)\n",
    "    name_roc = f'AUC={auc(fpr_roc, tpr_roc):.4f}'\n",
    "    print(name_roc)\n",
    "    name_pr = f'AUCPR={average_precision_score(y_true, y_score):.4f}'\n",
    "    print(name_pr)\n",
    "    dfot.to_csv(f'/projects/0/einf2380/data/pop_paper_data/gnn_outputs/shuffled_gnn_outputs_n_run_{i+1}.csv')"
   ]
  },
  {
   "cell_type": "code",
   "execution_count": 4,
   "metadata": {},
   "outputs": [
    {
     "name": "stdout",
     "output_type": "stream",
     "text": [
      "\n",
      " Run 1\n",
      "AUC=0.6965\n",
      "AUCPR=0.5828\n",
      "\n",
      " Run 2\n",
      "AUC=0.7118\n",
      "AUCPR=0.6154\n",
      "\n",
      " Run 3\n",
      "AUC=0.7137\n",
      "AUCPR=0.6088\n",
      "\n",
      " Run 4\n",
      "AUC=0.7005\n",
      "AUCPR=0.5832\n",
      "\n",
      " Run 5\n",
      "AUC=0.6694\n",
      "AUCPR=0.5573\n"
     ]
    }
   ],
   "source": [
    "#allele-clustered\n",
    "n_runs = 5\n",
    "for i in range(n_runs):\n",
    "    dfot = pd.read_hdf(\n",
    "        f'/projects/0/einf2380/data/pMHCI/trained_models/deeprank2/experiments/exp_100k_std_transf_bs64_naivegnn1_wloss_cl_allele_run_{i+1}_0_240608/output/output_exporter.hdf5',\n",
    "        key=\"testing\")\n",
    "    dfot['entry']= [x.split(':')[2] for x in dfot['entry']]\n",
    "    dfot['ID'] = dfot['entry']\n",
    "    dfot['output']= [x[1] for x in dfot['output']]\n",
    "    print(f'\\n Run {i+1}')\n",
    "    y_true = dfot.target\n",
    "    y_score = np.array(dfot.output.values.tolist())\n",
    "    fpr_roc, tpr_roc, thr_roc = roc_curve(y_true, y_score)\n",
    "    pr_pr, rec_pr, thr_pr = precision_recall_curve(y_true, y_score)\n",
    "    name_roc = f'AUC={auc(fpr_roc, tpr_roc):.4f}'\n",
    "    print(name_roc)\n",
    "    name_pr = f'AUCPR={average_precision_score(y_true, y_score):.4f}'\n",
    "    print(name_pr)\n",
    "    dfot.to_csv(f'/projects/0/einf2380/data/pop_paper_data/gnn_outputs/allele_gnn_outputs_n_run_{i+1}.csv')"
   ]
  }
 ],
 "metadata": {
  "kernelspec": {
   "display_name": "deeprank2_gpu",
   "language": "python",
   "name": "python3"
  },
  "language_info": {
   "codemirror_mode": {
    "name": "ipython",
    "version": 3
   },
   "file_extension": ".py",
   "mimetype": "text/x-python",
   "name": "python",
   "nbconvert_exporter": "python",
   "pygments_lexer": "ipython3",
   "version": "3.10.13"
  }
 },
 "nbformat": 4,
 "nbformat_minor": 2
}
