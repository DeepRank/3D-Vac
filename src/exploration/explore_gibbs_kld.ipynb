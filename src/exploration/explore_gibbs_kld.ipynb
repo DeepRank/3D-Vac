{
 "cells": [
  {
   "cell_type": "code",
   "execution_count": 7,
   "metadata": {},
   "outputs": [],
   "source": [
    "import re\n",
    "import matplotlib.pyplot as plt\n",
    "import glob\n",
    "import numpy as np\n",
    "import pandas as pd\n",
    "import plotly.express as px\n",
    "import plotly.graph_objects as go\n",
    "pd.options.plotting.backend = \"plotly\"\n",
    "from plotly.subplots import make_subplots\n",
    "df = pd.read_csv(\"../../data/external/processed/all_hla.csv\")\n",
    "df[\"binder\"] = df[\"measurement_value\"].apply(lambda x: True if x < 500 else False)"
   ]
  },
  {
   "cell_type": "code",
   "execution_count": 8,
   "metadata": {},
   "outputs": [
    {
     "data": {
      "image/png": "[encoded data removed]",
      "text/plain": [
       "<Figure size 640x480 with 1 Axes>"
      ]
     },
     "metadata": {},
     "output_type": "display_data"
    }
   ],
   "source": [
    "max_clusters = 15\n",
    "clusters = range(1, max_clusters+1)\n",
    "cluster_mean_kld = []\n",
    "cluster_set_cluster_kld = []\n",
    "for i in clusters:\n",
    "    result_f = open(f\"/home/daqop/mountpoint_snellius/softwares/gibbscluster-2.0/run/all_hla_peptides_clusters_1_15_with_trash_1876625/res/gibbs.{i}g.out\")\n",
    "    average_klds_lines = [line.replace(\"\\n\", \"\") for line in result_f if \"Final KLD sum after\" in line and \"###\" not in line]\n",
    "\n",
    "    klds = []\n",
    "    clusters_in_set = []\n",
    "    for l in average_klds_lines:\n",
    "        cluster = re.search(\"(?<=group\\s)[0-9]*\", l).group()\n",
    "        kld = re.search(\"(?<=epochs\\s-\\s)[+-]?([0-9]*[.])?[0-9]*\", l).group()\n",
    "        klds.append(float(kld))\n",
    "        clusters_in_set.append(str(cluster))\n",
    "    cluster_set_cluster_kld.append(dict(zip(clusters_in_set, klds)))\n",
    "    klds = np.array(klds)\n",
    "    cluster_mean_kld.append(klds.mean())\n",
    "\n",
    "#convert to np.array for sorting based on indices\n",
    "cluster_mean_kld = np.array(cluster_mean_kld)\n",
    "clusters = np.array(clusters)\n",
    "\n",
    "# generate sorted indices and reorder arrays:\n",
    "sorted_indices = np.argsort(cluster_mean_kld)\n",
    "cluster_mean_kld = cluster_mean_kld[sorted_indices]\n",
    "clusters = clusters[sorted_indices]\n",
    "\n",
    "plt.bar([str(cluster) for cluster in clusters], height=cluster_mean_kld)\n",
    "plt.title(\"Mean KLD distance for each set of clusters\")\n",
    "plt.xlabel(\"Cluster set\")\n",
    "plt.ylabel(\"Mean distance over each cluster of the set\")\n",
    "plt.savefig(\"../../reports/figures/gibbs_clusters/kld_mean_distances_flat_background.svg\")\n"
   ]
  },
  {
   "cell_type": "code",
   "execution_count": 29,
   "metadata": {},
   "outputs": [
    {
     "data": {
      "text/plain": [
       "0    17546\n",
       "2    15348\n",
       "4    13403\n",
       "Name: size, dtype: int64"
      ]
     },
     "execution_count": 29,
     "metadata": {},
     "output_type": "execute_result"
    }
   ],
   "source": [
    "df_t = df.groupby([\"cluster_set_3\", \"binder\"], as_index=False).size()\n",
    "df_t.loc[df_t[\"binder\"]==False][\"size\"]"
   ]
  },
  {
   "cell_type": "code",
   "execution_count": 9,
   "metadata": {},
   "outputs": [
    {
     "data": {
      "application/vnd.plotly.v1+json": {
       "config": {
        "plotlyServerURL": "https://plot.ly"
       },
       "data": [
        {
         "marker": {
          "color": "blue"
         },
         "type": "bar",
         "x": [
          "0"
         ],
         "xaxis": "x",
         "y": [
          6.401996
         ],
         "yaxis": "y"
        },
        {
         "marker": {
          "color": "green"
         },
         "offsetgroup": "0",
         "type": "bar",
         "x": [
          0
         ],
         "xaxis": "x2",
         "y": [
          37261
         ],
         "yaxis": "y2"
        },
        {
         "base": [
          37261
         ],
         "marker": {
          "color": "red"
         },
         "offsetgroup": "0",
         "type": "bar",
         "x": [
          0
         ],
         "xaxis": "x2",
         "y": [
          42451
         ],
         "yaxis": "y2"
        },
        {
         "marker": {
          "color": "blue"
         },
         "type": "bar",
         "x": [
          "0",
          "1"
         ],
         "xaxis": "x3",
         "y": [
          5.155474,
          5.412799
         ],
         "yaxis": "y3"
        },
        {
         "marker": {
          "color": "green"
         },
         "offsetgroup": "0",
         "type": "bar",
         "x": [
          0,
          1
         ],
         "xaxis": "x4",
         "y": [
          23000,
          16621
         ],
         "yaxis": "y4"
        },
        {
         "base": [
          23000,
          16621
         ],
         "marker": {
          "color": "red"
         },
         "offsetgroup": "0",
         "type": "bar",
         "x": [
          0,
          1
         ],
         "xaxis": "x4",
         "y": [
          26604,
          19837
         ],
         "yaxis": "y4"
        },
        {
         "marker": {
          "color": "blue"
         },
         "type": "bar",
         "x": [
          "0",
          "1",
          "2"
         ],
         "xaxis": "x5",
         "y": [
          4.645344,
          5.515358,
          4.148902
         ],
         "yaxis": "y5"
        },
        {
         "marker": {
          "color": "green"
         },
         "offsetgroup": "0",
         "type": "bar",
         "x": [
          0,
          1,
          2
         ],
         "xaxis": "x6",
         "y": [
          12460,
          14686,
          13605
         ],
         "yaxis": "y6"
        },
        {
         "base": [
          12460,
          14686,
          13605
         ],
         "marker": {
          "color": "red"
         },
         "offsetgroup": "0",
         "type": "bar",
         "x": [
          0,
          1,
          2
         ],
         "xaxis": "x6",
         "y": [
          18102,
          14111,
          16394
         ],
         "yaxis": "y6"
        },
        {
         "marker": {
          "color": "blue"
         },
         "type": "bar",
         "x": [
          "0",
          "1",
          "2",
          "3"
         ],
         "xaxis": "x7",
         "y": [
          4.54576,
          4.623077,
          5.753549,
          4.41117
         ],
         "yaxis": "y7"
        },
        {
         "marker": {
          "color": "green"
         },
         "offsetgroup": "0",
         "type": "bar",
         "x": [
          0,
          1,
          2,
          3
         ],
         "xaxis": "x8",
         "y": [
          11174,
          8133,
          13289,
          8933
         ],
         "yaxis": "y8"
        },
        {
         "base": [
          11174,
          8133,
          13289,
          8933
         ],
         "marker": {
          "color": "red"
         },
         "offsetgroup": "0",
         "type": "bar",
         "x": [
          0,
          1,
          2,
          3
         ],
         "xaxis": "x8",
         "y": [
          16340,
          11816,
          11212,
          10659
         ],
         "yaxis": "y8"
        },
        {
         "marker": {
          "color": "blue"
         },
         "type": "bar",
         "x": [
          "0",
          "1",
          "2",
          "3",
          "4"
         ],
         "xaxis": "x9",
         "y": [
          5.116037,
          4.085391,
          4.226588,
          4.704716,
          4.974021
         ],
         "yaxis": "y9"
        },
        {
         "marker": {
          "color": "green"
         },
         "offsetgroup": "0",
         "type": "bar",
         "x": [
          0,
          1,
          2,
          3,
          4
         ],
         "xaxis": "x10",
         "y": [
          7991,
          7548,
          7663,
          7834,
          11036
         ],
         "yaxis": "y10"
        },
        {
         "base": [
          7991,
          7548,
          7663,
          7834,
          11036
         ],
         "marker": {
          "color": "red"
         },
         "offsetgroup": "0",
         "type": "bar",
         "x": [
          0,
          1,
          2,
          3,
          4
         ],
         "xaxis": "x10",
         "y": [
          8724,
          12234,
          10630,
          9010,
          10606
         ],
         "yaxis": "y10"
        },
        {
         "marker": {
          "color": "blue"
         },
         "type": "bar",
         "x": [
          "0",
          "1",
          "2",
          "3",
          "4",
          "5"
         ],
         "xaxis": "x11",
         "y": [
          4.697187,
          4.552032,
          4.208702,
          4.394073,
          5.295688,
          4.625399
         ],
         "yaxis": "y11"
        },
        {
         "marker": {
          "color": "green"
         },
         "offsetgroup": "0",
         "type": "bar",
         "x": [
          0,
          1,
          2,
          3,
          4,
          5
         ],
         "xaxis": "x12",
         "y": [
          8140,
          5831,
          6863,
          6102,
          8540,
          6976
         ],
         "yaxis": "y12"
        },
        {
         "base": [
          8140,
          5831,
          6863,
          6102,
          8540,
          6976
         ],
         "marker": {
          "color": "red"
         },
         "offsetgroup": "0",
         "type": "bar",
         "x": [
          0,
          1,
          2,
          3,
          4,
          5
         ],
         "xaxis": "x12",
         "y": [
          10841,
          7678,
          9079,
          8644,
          8031,
          7279
         ],
         "yaxis": "y12"
        },
        {
         "marker": {
          "color": "blue"
         },
         "type": "bar",
         "x": [
          "0",
          "1",
          "2",
          "3",
          "4",
          "5",
          "6"
         ],
         "xaxis": "x13",
         "y": [
          4.121309,
          5.35861,
          4.417204,
          4.182203,
          4.288533,
          4.67347,
          4.477353
         ],
         "yaxis": "y13"
        },
        {
         "marker": {
          "color": "green"
         },
         "offsetgroup": "0",
         "type": "bar",
         "x": [
          0,
          1,
          2,
          3,
          4,
          5,
          6
         ],
         "xaxis": "x14",
         "y": [
          5822,
          7850,
          4623,
          5497,
          7032,
          5601,
          6058
         ],
         "yaxis": "y14"
        },
        {
         "base": [
          5822,
          7850,
          4623,
          5497,
          7032,
          5601,
          6058
         ],
         "marker": {
          "color": "red"
         },
         "offsetgroup": "0",
         "type": "bar",
         "x": [
          0,
          1,
          2,
          3,
          4,
          5,
          6
         ],
         "xaxis": "x14",
         "y": [
          6760,
          6525,
          6440,
          6993,
          10069,
          8380,
          6711
         ],
         "yaxis": "y14"
        },
        {
         "marker": {
          "color": "blue"
         },
         "type": "bar",
         "x": [
          "0",
          "1",
          "2",
          "3",
          "4",
          "5",
          "6",
          "7"
         ],
         "xaxis": "x15",
         "y": [
          4.293143,
          5.121857,
          5.110125,
          4.577009,
          4.384649,
          4.691114,
          4.568426,
          4.106428
         ],
         "yaxis": "y15"
        },
        {
         "marker": {
          "color": "green"
         },
         "offsetgroup": "0",
         "type": "bar",
         "x": [
          0,
          1,
          2,
          3,
          4,
          5,
          6,
          7
         ],
         "xaxis": "x16",
         "y": [
          5638,
          6763,
          5122,
          4808,
          6230,
          5759,
          4951,
          3465
         ],
         "yaxis": "y16"
        },
        {
         "base": [
          5638,
          6763,
          5122,
          4808,
          6230,
          5759,
          4951,
          3465
         ],
         "marker": {
          "color": "red"
         },
         "offsetgroup": "0",
         "type": "bar",
         "x": [
          0,
          1,
          2,
          3,
          4,
          5,
          6,
          7
         ],
         "xaxis": "x16",
         "y": [
          7876,
          6114,
          7149,
          5443,
          7808,
          5517,
          6196,
          6292
         ],
         "yaxis": "y16"
        },
        {
         "marker": {
          "color": "blue"
         },
         "type": "bar",
         "x": [
          "0",
          "1",
          "2",
          "3",
          "4",
          "5",
          "6",
          "7",
          "8"
         ],
         "xaxis": "x17",
         "y": [
          5.192582,
          4.220262,
          4.032254,
          4.706525,
          5.119377,
          4.554586,
          4.24708,
          4.27404,
          4.484243
         ],
         "yaxis": "y17"
        },
        {
         "marker": {
          "color": "green"
         },
         "offsetgroup": "0",
         "type": "bar",
         "x": [
          0,
          1,
          2,
          3,
          4,
          5,
          6,
          7,
          8
         ],
         "xaxis": "x18",
         "y": [
          3418,
          5140,
          4080,
          5464,
          4779,
          5672,
          5008,
          4856,
          4479
         ],
         "yaxis": "y18"
        },
        {
         "base": [
          3418,
          5140,
          4080,
          5464,
          4779,
          5672,
          5008,
          4856,
          4479
         ],
         "marker": {
          "color": "red"
         },
         "offsetgroup": "0",
         "type": "bar",
         "x": [
          0,
          1,
          2,
          3,
          4,
          5,
          6,
          7,
          8
         ],
         "xaxis": "x18",
         "y": [
          6358,
          5154,
          5926,
          6904,
          5150,
          5956,
          7108,
          4868,
          5132
         ],
         "yaxis": "y18"
        },
        {
         "marker": {
          "color": "blue"
         },
         "type": "bar",
         "x": [
          "0",
          "1",
          "2",
          "3",
          "4",
          "5",
          "6",
          "7",
          "8",
          "9"
         ],
         "xaxis": "x19",
         "y": [
          4.768741,
          4.15443,
          4.187214,
          4.170289,
          4.814146,
          4.975859,
          4.466589,
          4.259093,
          4.719377,
          4.423772
         ],
         "yaxis": "y19"
        },
        {
         "marker": {
          "color": "green"
         },
         "offsetgroup": "0",
         "type": "bar",
         "x": [
          0,
          1,
          2,
          3,
          4,
          5,
          6,
          7,
          8,
          9
         ],
         "xaxis": "x20",
         "y": [
          5042,
          3413,
          4623,
          4713,
          4286,
          3313,
          5075,
          4129,
          4339,
          4153
         ],
         "yaxis": "y20"
        },
        {
         "base": [
          5042,
          3413,
          4623,
          4713,
          4286,
          3313,
          5075,
          4129,
          4339,
          4153
         ],
         "marker": {
          "color": "red"
         },
         "offsetgroup": "0",
         "type": "bar",
         "x": [
          0,
          1,
          2,
          3,
          4,
          5,
          6,
          7,
          8,
          9
         ],
         "xaxis": "x20",
         "y": [
          5131,
          4236,
          5516,
          4214,
          5059,
          5993,
          5946,
          5561,
          5114,
          6205
         ],
         "yaxis": "y20"
        },
        {
         "marker": {
          "color": "blue"
         },
         "type": "bar",
         "x": [
          "0",
          "1",
          "2",
          "3",
          "4",
          "5",
          "6",
          "7",
          "8",
          "9",
          "10"
         ],
         "xaxis": "x21",
         "y": [
          4.499447,
          4.565859,
          4.529967,
          4.22266,
          4.77183,
          4.287129,
          5.144164,
          3.882736,
          4.150903,
          4.181745,
          4.623398
         ],
         "yaxis": "y21"
        },
        {
         "marker": {
          "color": "green"
         },
         "offsetgroup": "0",
         "type": "bar",
         "x": [
          0,
          1,
          2,
          3,
          4,
          5,
          6,
          7,
          8,
          9,
          10
         ],
         "xaxis": "x22",
         "y": [
          2702,
          3152,
          5135,
          4005,
          4387,
          4095,
          4798,
          2961,
          4228,
          3320,
          4347
         ],
         "yaxis": "y22"
        },
        {
         "base": [
          2702,
          3152,
          5135,
          4005,
          4387,
          4095,
          4798,
          2961,
          4228,
          3320,
          4347
         ],
         "marker": {
          "color": "red"
         },
         "offsetgroup": "0",
         "type": "bar",
         "x": [
          0,
          1,
          2,
          3,
          4,
          5,
          6,
          7,
          8,
          9,
          10
         ],
         "xaxis": "x22",
         "y": [
          4805,
          4010,
          4992,
          4355,
          4310,
          4712,
          4808,
          5335,
          3622,
          4661,
          7446
         ],
         "yaxis": "y22"
        },
        {
         "marker": {
          "color": "blue"
         },
         "type": "bar",
         "x": [
          "0",
          "1",
          "2",
          "3",
          "4",
          "5",
          "6",
          "7",
          "8",
          "9",
          "10",
          "11"
         ],
         "xaxis": "x23",
         "y": [
          4.256307,
          4.365983,
          4.977495,
          4.287798,
          4.351289,
          4.259978,
          5.632697,
          4.570232,
          4.286069,
          4.878112,
          4.177464,
          4.357504
         ],
         "yaxis": "y23"
        },
        {
         "marker": {
          "color": "green"
         },
         "offsetgroup": "0",
         "type": "bar",
         "x": [
          0,
          1,
          2,
          3,
          4,
          5,
          6,
          7,
          8,
          9,
          10,
          11
         ],
         "xaxis": "x24",
         "y": [
          2555,
          3761,
          3601,
          3253,
          3745,
          3460,
          5517,
          3289,
          4840,
          3401,
          2823,
          2990
         ],
         "yaxis": "y24"
        },
        {
         "base": [
          2555,
          3761,
          3601,
          3253,
          3745,
          3460,
          5517,
          3289,
          4840,
          3401,
          2823,
          2990
         ],
         "marker": {
          "color": "red"
         },
         "offsetgroup": "0",
         "type": "bar",
         "x": [
          0,
          1,
          2,
          3,
          4,
          5,
          6,
          7,
          8,
          9,
          10,
          11
         ],
         "xaxis": "x24",
         "y": [
          6140,
          3756,
          4072,
          5213,
          4549,
          4566,
          3988,
          3586,
          5395,
          4025,
          4001,
          3956
         ],
         "yaxis": "y24"
        },
        {
         "marker": {
          "color": "blue"
         },
         "type": "bar",
         "x": [
          "0",
          "1",
          "2",
          "3",
          "4",
          "5",
          "6",
          "7",
          "8",
          "9",
          "10",
          "11",
          "12"
         ],
         "xaxis": "x25",
         "y": [
          4.243473,
          4.92681,
          4.460883,
          3.95116,
          4.324064,
          4.674763,
          4.002727,
          4.171977,
          5.099332,
          4.106637,
          4.319202,
          5.41261,
          4.228471
         ],
         "yaxis": "y25"
        },
        {
         "marker": {
          "color": "green"
         },
         "offsetgroup": "0",
         "type": "bar",
         "x": [
          0,
          1,
          2,
          3,
          4,
          5,
          6,
          7,
          8,
          9,
          10,
          11,
          12
         ],
         "xaxis": "x26",
         "y": [
          3449,
          4149,
          3415,
          2945,
          2388,
          4303,
          3055,
          3883,
          3200,
          2421,
          2904,
          4763,
          2389
         ],
         "yaxis": "y26"
        },
        {
         "base": [
          3449,
          4149,
          3415,
          2945,
          2388,
          4303,
          3055,
          3883,
          3200,
          2421,
          2904,
          4763,
          2389
         ],
         "marker": {
          "color": "red"
         },
         "offsetgroup": "0",
         "type": "bar",
         "x": [
          0,
          1,
          2,
          3,
          4,
          5,
          6,
          7,
          8,
          9,
          10,
          11,
          12
         ],
         "xaxis": "x26",
         "y": [
          4449,
          3770,
          4778,
          3971,
          4761,
          5203,
          3953,
          3965,
          3842,
          4004,
          3255,
          3674,
          3919
         ],
         "yaxis": "y26"
        },
        {
         "marker": {
          "color": "blue"
         },
         "type": "bar",
         "x": [
          "0",
          "1",
          "2",
          "3",
          "4",
          "5",
          "6",
          "7",
          "8",
          "9",
          "10",
          "11",
          "12",
          "13"
         ],
         "xaxis": "x27",
         "y": [
          4.134563,
          4.339344,
          4.107385,
          4.253552,
          5.3135,
          4.213552,
          4.928981,
          4.147748,
          4.978158,
          4.196314,
          4.213776,
          5.318955,
          4.302125,
          5.08094
         ],
         "yaxis": "y27"
        },
        {
         "marker": {
          "color": "green"
         },
         "offsetgroup": "0",
         "type": "bar",
         "x": [
          0,
          1,
          2,
          3,
          4,
          5,
          6,
          7,
          8,
          9,
          10,
          11,
          12,
          13
         ],
         "xaxis": "x28",
         "y": [
          3054,
          3420,
          2538,
          2137,
          5389,
          2574,
          3492,
          2933,
          4007,
          2489,
          2400,
          2517,
          2982,
          3402
         ],
         "yaxis": "y28"
        },
        {
         "base": [
          3054,
          3420,
          2538,
          2137,
          5389,
          2574,
          3492,
          2933,
          4007,
          2489,
          2400,
          2517,
          2982,
          3402
         ],
         "marker": {
          "color": "red"
         },
         "offsetgroup": "0",
         "type": "bar",
         "x": [
          0,
          1,
          2,
          3,
          4,
          5,
          6,
          7,
          8,
          9,
          10,
          11,
          12,
          13
         ],
         "xaxis": "x28",
         "y": [
          3595,
          4488,
          4062,
          3652,
          5101,
          3186,
          3487,
          3814,
          3488,
          3278,
          3374,
          3538,
          4621,
          3809
         ],
         "yaxis": "y28"
        },
        {
         "marker": {
          "color": "blue"
         },
         "type": "bar",
         "x": [
          "0",
          "1",
          "2",
          "3",
          "4",
          "5",
          "6",
          "7",
          "8",
          "9",
          "10",
          "11",
          "12",
          "13",
          "14"
         ],
         "xaxis": "x29",
         "y": [
          4.545823,
          3.818429,
          4.194693,
          4.834675,
          5.442184,
          4.495434,
          3.93235,
          4.681809,
          4.902862,
          4.439779,
          4.988498,
          4.020545,
          4.332391,
          5.681025,
          4.389832
         ],
         "yaxis": "y29"
        },
        {
         "marker": {
          "color": "green"
         },
         "offsetgroup": "0",
         "type": "bar",
         "x": [
          0,
          1,
          2,
          3,
          4,
          5,
          6,
          7,
          8,
          9,
          10,
          11,
          12,
          13,
          14
         ],
         "xaxis": "x30",
         "y": [
          2802,
          2541,
          2338,
          3840,
          3521,
          2863,
          2551,
          2305,
          3392,
          3558,
          3392,
          2193,
          3104,
          2042,
          2965
         ],
         "yaxis": "y30"
        },
        {
         "base": [
          2802,
          2541,
          2338,
          3840,
          3521,
          2863,
          2551,
          2305,
          3392,
          3558,
          3392,
          2193,
          3104,
          2042,
          2965
         ],
         "marker": {
          "color": "red"
         },
         "offsetgroup": "0",
         "type": "bar",
         "x": [
          0,
          1,
          2,
          3,
          4,
          5,
          6,
          7,
          8,
          9,
          10,
          11,
          12,
          13,
          14
         ],
         "xaxis": "x30",
         "y": [
          3820,
          3048,
          2881,
          3375,
          3587,
          2785,
          3352,
          3458,
          3891,
          3835,
          3141,
          4049,
          4280,
          3179,
          5001
         ],
         "yaxis": "y30"
        }
       ],
       "layout": {
        "annotations": [
         {
          "font": {
           "size": 16
          },
          "showarrow": false,
          "text": "KLD distances for cluster set 1",
          "x": 0.225,
          "xanchor": "center",
          "xref": "paper",
          "y": 1,
          "yanchor": "bottom",
          "yref": "paper"
         },
         {
          "font": {
           "size": 16
          },
          "showarrow": false,
          "text": "Binder/non binders distribution for cluster set 1",
          "x": 0.775,
          "xanchor": "center",
          "xref": "paper",
          "y": 1,
          "yanchor": "bottom",
          "yref": "paper"
         },
         {
          "font": {
           "size": 16
          },
          "showarrow": false,
          "text": "KLD distances for cluster set 2",
          "x": 0.225,
          "xanchor": "center",
          "xref": "paper",
          "y": 0.9311111111111112,
          "yanchor": "bottom",
          "yref": "paper"
         },
         {
          "font": {
           "size": 16
          },
          "showarrow": false,
          "text": "Binder/non binders distribution for cluster set 2",
          "x": 0.775,
          "xanchor": "center",
          "xref": "paper",
          "y": 0.9311111111111112,
          "yanchor": "bottom",
          "yref": "paper"
         },
         {
          "font": {
           "size": 16
          },
          "showarrow": false,
          "text": "KLD distances for cluster set 3",
          "x": 0.225,
          "xanchor": "center",
          "xref": "paper",
          "y": 0.8622222222222222,
          "yanchor": "bottom",
          "yref": "paper"
         },
         {
          "font": {
           "size": 16
          },
          "showarrow": false,
          "text": "Binder/non binders distribution for cluster set 3",
          "x": 0.775,
          "xanchor": "center",
          "xref": "paper",
          "y": 0.8622222222222222,
          "yanchor": "bottom",
          "yref": "paper"
         },
         {
          "font": {
           "size": 16
          },
          "showarrow": false,
          "text": "KLD distances for cluster set 4",
          "x": 0.225,
          "xanchor": "center",
          "xref": "paper",
          "y": 0.7933333333333333,
          "yanchor": "bottom",
          "yref": "paper"
         },
         {
          "font": {
           "size": 16
          },
          "showarrow": false,
          "text": "Binder/non binders distribution for cluster set 4",
          "x": 0.775,
          "xanchor": "center",
          "xref": "paper",
          "y": 0.7933333333333333,
          "yanchor": "bottom",
          "yref": "paper"
         },
         {
          "font": {
           "size": 16
          },
          "showarrow": false,
          "text": "KLD distances for cluster set 5",
          "x": 0.225,
          "xanchor": "center",
          "xref": "paper",
          "y": 0.7244444444444444,
          "yanchor": "bottom",
          "yref": "paper"
         },
         {
          "font": {
           "size": 16
          },
          "showarrow": false,
          "text": "Binder/non binders distribution for cluster set 5",
          "x": 0.775,
          "xanchor": "center",
          "xref": "paper",
          "y": 0.7244444444444444,
          "yanchor": "bottom",
          "yref": "paper"
         },
         {
          "font": {
           "size": 16
          },
          "showarrow": false,
          "text": "KLD distances for cluster set 6",
          "x": 0.225,
          "xanchor": "center",
          "xref": "paper",
          "y": 0.6555555555555556,
          "yanchor": "bottom",
          "yref": "paper"
         },
         {
          "font": {
           "size": 16
          },
          "showarrow": false,
          "text": "Binder/non binders distribution for cluster set 6",
          "x": 0.775,
          "xanchor": "center",
          "xref": "paper",
          "y": 0.6555555555555556,
          "yanchor": "bottom",
          "yref": "paper"
         },
         {
          "font": {
           "size": 16
          },
          "showarrow": false,
          "text": "KLD distances for cluster set 7",
          "x": 0.225,
          "xanchor": "center",
          "xref": "paper",
          "y": 0.5866666666666667,
          "yanchor": "bottom",
          "yref": "paper"
         },
         {
          "font": {
           "size": 16
          },
          "showarrow": false,
          "text": "Binder/non binders distribution for cluster set 7",
          "x": 0.775,
          "xanchor": "center",
          "xref": "paper",
          "y": 0.5866666666666667,
          "yanchor": "bottom",
          "yref": "paper"
         },
         {
          "font": {
           "size": 16
          },
          "showarrow": false,
          "text": "KLD distances for cluster set 8",
          "x": 0.225,
          "xanchor": "center",
          "xref": "paper",
          "y": 0.5177777777777778,
          "yanchor": "bottom",
          "yref": "paper"
         },
         {
          "font": {
           "size": 16
          },
          "showarrow": false,
          "text": "Binder/non binders distribution for cluster set 8",
          "x": 0.775,
          "xanchor": "center",
          "xref": "paper",
          "y": 0.5177777777777778,
          "yanchor": "bottom",
          "yref": "paper"
         },
         {
          "font": {
           "size": 16
          },
          "showarrow": false,
          "text": "KLD distances for cluster set 9",
          "x": 0.225,
          "xanchor": "center",
          "xref": "paper",
          "y": 0.4488888888888889,
          "yanchor": "bottom",
          "yref": "paper"
         },
         {
          "font": {
           "size": 16
          },
          "showarrow": false,
          "text": "Binder/non binders distribution for cluster set 9",
          "x": 0.775,
          "xanchor": "center",
          "xref": "paper",
          "y": 0.4488888888888889,
          "yanchor": "bottom",
          "yref": "paper"
         },
         {
          "font": {
           "size": 16
          },
          "showarrow": false,
          "text": "KLD distances for cluster set 10",
          "x": 0.225,
          "xanchor": "center",
          "xref": "paper",
          "y": 0.38,
          "yanchor": "bottom",
          "yref": "paper"
         },
         {
          "font": {
           "size": 16
          },
          "showarrow": false,
          "text": "Binder/non binders distribution for cluster set 10",
          "x": 0.775,
          "xanchor": "center",
          "xref": "paper",
          "y": 0.38,
          "yanchor": "bottom",
          "yref": "paper"
         },
         {
          "font": {
           "size": 16
          },
          "showarrow": false,
          "text": "KLD distances for cluster set 11",
          "x": 0.225,
          "xanchor": "center",
          "xref": "paper",
          "y": 0.3111111111111111,
          "yanchor": "bottom",
          "yref": "paper"
         },
         {
          "font": {
           "size": 16
          },
          "showarrow": false,
          "text": "Binder/non binders distribution for cluster set 11",
          "x": 0.775,
          "xanchor": "center",
          "xref": "paper",
          "y": 0.3111111111111111,
          "yanchor": "bottom",
          "yref": "paper"
         },
         {
          "font": {
           "size": 16
          },
          "showarrow": false,
          "text": "KLD distances for cluster set 12",
          "x": 0.225,
          "xanchor": "center",
          "xref": "paper",
          "y": 0.24222222222222223,
          "yanchor": "bottom",
          "yref": "paper"
         },
         {
          "font": {
           "size": 16
          },
          "showarrow": false,
          "text": "Binder/non binders distribution for cluster set 12",
          "x": 0.775,
          "xanchor": "center",
          "xref": "paper",
          "y": 0.24222222222222223,
          "yanchor": "bottom",
          "yref": "paper"
         },
         {
          "font": {
           "size": 16
          },
          "showarrow": false,
          "text": "KLD distances for cluster set 13",
          "x": 0.225,
          "xanchor": "center",
          "xref": "paper",
          "y": 0.17333333333333334,
          "yanchor": "bottom",
          "yref": "paper"
         },
         {
          "font": {
           "size": 16
          },
          "showarrow": false,
          "text": "Binder/non binders distribution for cluster set 13",
          "x": 0.775,
          "xanchor": "center",
          "xref": "paper",
          "y": 0.17333333333333334,
          "yanchor": "bottom",
          "yref": "paper"
         },
         {
          "font": {
           "size": 16
          },
          "showarrow": false,
          "text": "KLD distances for cluster set 14",
          "x": 0.225,
          "xanchor": "center",
          "xref": "paper",
          "y": 0.10444444444444445,
          "yanchor": "bottom",
          "yref": "paper"
         },
         {
          "font": {
           "size": 16
          },
          "showarrow": false,
          "text": "Binder/non binders distribution for cluster set 14",
          "x": 0.775,
          "xanchor": "center",
          "xref": "paper",
          "y": 0.10444444444444445,
          "yanchor": "bottom",
          "yref": "paper"
         },
         {
          "font": {
           "size": 16
          },
          "showarrow": false,
          "text": "KLD distances for cluster set 15",
          "x": 0.225,
          "xanchor": "center",
          "xref": "paper",
          "y": 0.035555555555555556,
          "yanchor": "bottom",
          "yref": "paper"
         },
         {
          "font": {
           "size": 16
          },
          "showarrow": false,
          "text": "Binder/non binders distribution for cluster set 15",
          "x": 0.775,
          "xanchor": "center",
          "xref": "paper",
          "y": 0.035555555555555556,
          "yanchor": "bottom",
          "yref": "paper"
         }
        ],
        "height": 3000,
        "showlegend": false,
        "template": {
         "data": {
          "bar": [
           {
            "error_x": {
             "color": "#2a3f5f"
            },
            "error_y": {
             "color": "#2a3f5f"
            },
            "marker": {
             "line": {
              "color": "#E5ECF6",
              "width": 0.5
             },
             "pattern": {
              "fillmode": "overlay",
              "size": 10,
              "solidity": 0.2
             }
            },
            "type": "bar"
           }
          ],
          "barpolar": [
           {
            "marker": {
             "line": {
              "color": "#E5ECF6",
              "width": 0.5
             },
             "pattern": {
              "fillmode": "overlay",
              "size": 10,
              "solidity": 0.2
             }
            },
            "type": "barpolar"
           }
          ],
          "carpet": [
           {
            "aaxis": {
             "endlinecolor": "#2a3f5f",
             "gridcolor": "white",
             "linecolor": "white",
             "minorgridcolor": "white",
             "startlinecolor": "#2a3f5f"
            },
            "baxis": {
             "endlinecolor": "#2a3f5f",
             "gridcolor": "white",
             "linecolor": "white",
             "minorgridcolor": "white",
             "startlinecolor": "#2a3f5f"
            },
            "type": "carpet"
           }
          ],
          "choropleth": [
           {
            "colorbar": {
             "outlinewidth": 0,
             "ticks": ""
            },
            "type": "choropleth"
           }
          ],
          "contour": [
           {
            "colorbar": {
             "outlinewidth": 0,
             "ticks": ""
            },
            "colorscale": [
             [
              0,
              "#0d0887"
             ],
             [
              0.1111111111111111,
              "#46039f"
             ],
             [
              0.2222222222222222,
              "#7201a8"
             ],
             [
              0.3333333333333333,
              "#9c179e"
             ],
             [
              0.4444444444444444,
              "#bd3786"
             ],
             [
              0.5555555555555556,
              "#d8576b"
             ],
             [
              0.6666666666666666,
              "#ed7953"
             ],
             [
              0.7777777777777778,
              "#fb9f3a"
             ],
             [
              0.8888888888888888,
              "#fdca26"
             ],
             [
              1,
              "#f0f921"
             ]
            ],
            "type": "contour"
           }
          ],
          "contourcarpet": [
           {
            "colorbar": {
             "outlinewidth": 0,
             "ticks": ""
            },
            "type": "contourcarpet"
           }
          ],
          "heatmap": [
           {
            "colorbar": {
             "outlinewidth": 0,
             "ticks": ""
            },
            "colorscale": [
             [
              0,
              "#0d0887"
             ],
             [
              0.1111111111111111,
              "#46039f"
             ],
             [
              0.2222222222222222,
              "#7201a8"
             ],
             [
              0.3333333333333333,
              "#9c179e"
             ],
             [
              0.4444444444444444,
              "#bd3786"
             ],
             [
              0.5555555555555556,
              "#d8576b"
             ],
             [
              0.6666666666666666,
              "#ed7953"
             ],
             [
              0.7777777777777778,
              "#fb9f3a"
             ],
             [
              0.8888888888888888,
              "#fdca26"
             ],
             [
              1,
              "#f0f921"
             ]
            ],
            "type": "heatmap"
           }
          ],
          "heatmapgl": [
           {
            "colorbar": {
             "outlinewidth": 0,
             "ticks": ""
            },
            "colorscale": [
             [
              0,
              "#0d0887"
             ],
             [
              0.1111111111111111,
              "#46039f"
             ],
             [
              0.2222222222222222,
              "#7201a8"
             ],
             [
              0.3333333333333333,
              "#9c179e"
             ],
             [
              0.4444444444444444,
              "#bd3786"
             ],
             [
              0.5555555555555556,
              "#d8576b"
             ],
             [
              0.6666666666666666,
              "#ed7953"
             ],
             [
              0.7777777777777778,
              "#fb9f3a"
             ],
             [
              0.8888888888888888,
              "#fdca26"
             ],
             [
              1,
              "#f0f921"
             ]
            ],
            "type": "heatmapgl"
           }
          ],
          "histogram": [
           {
            "marker": {
             "pattern": {
              "fillmode": "overlay",
              "size": 10,
              "solidity": 0.2
             }
            },
            "type": "histogram"
           }
          ],
          "histogram2d": [
           {
            "colorbar": {
             "outlinewidth": 0,
             "ticks": ""
            },
            "colorscale": [
             [
              0,
              "#0d0887"
             ],
             [
              0.1111111111111111,
              "#46039f"
             ],
             [
              0.2222222222222222,
              "#7201a8"
             ],
             [
              0.3333333333333333,
              "#9c179e"
             ],
             [
              0.4444444444444444,
              "#bd3786"
             ],
             [
              0.5555555555555556,
              "#d8576b"
             ],
             [
              0.6666666666666666,
              "#ed7953"
             ],
             [
              0.7777777777777778,
              "#fb9f3a"
             ],
             [
              0.8888888888888888,
              "#fdca26"
             ],
             [
              1,
              "#f0f921"
             ]
            ],
            "type": "histogram2d"
           }
          ],
          "histogram2dcontour": [
           {
            "colorbar": {
             "outlinewidth": 0,
             "ticks": ""
            },
            "colorscale": [
             [
              0,
              "#0d0887"
             ],
             [
              0.1111111111111111,
              "#46039f"
             ],
             [
              0.2222222222222222,
              "#7201a8"
             ],
             [
              0.3333333333333333,
              "#9c179e"
             ],
             [
              0.4444444444444444,
              "#bd3786"
             ],
             [
              0.5555555555555556,
              "#d8576b"
             ],
             [
              0.6666666666666666,
              "#ed7953"
             ],
             [
              0.7777777777777778,
              "#fb9f3a"
             ],
             [
              0.8888888888888888,
              "#fdca26"
             ],
             [
              1,
              "#f0f921"
             ]
            ],
            "type": "histogram2dcontour"
           }
          ],
          "mesh3d": [
           {
            "colorbar": {
             "outlinewidth": 0,
             "ticks": ""
            },
            "type": "mesh3d"
           }
          ],
          "parcoords": [
           {
            "line": {
             "colorbar": {
              "outlinewidth": 0,
              "ticks": ""
             }
            },
            "type": "parcoords"
           }
          ],
          "pie": [
           {
            "automargin": true,
            "type": "pie"
           }
          ],
          "scatter": [
           {
            "fillpattern": {
             "fillmode": "overlay",
             "size": 10,
             "solidity": 0.2
            },
            "type": "scatter"
           }
          ],
          "scatter3d": [
           {
            "line": {
             "colorbar": {
              "outlinewidth": 0,
              "ticks": ""
             }
            },
            "marker": {
             "colorbar": {
              "outlinewidth": 0,
              "ticks": ""
             }
            },
            "type": "scatter3d"
           }
          ],
          "scattercarpet": [
           {
            "marker": {
             "colorbar": {
              "outlinewidth": 0,
              "ticks": ""
             }
            },
            "type": "scattercarpet"
           }
          ],
          "scattergeo": [
           {
            "marker": {
             "colorbar": {
              "outlinewidth": 0,
              "ticks": ""
             }
            },
            "type": "scattergeo"
           }
          ],
          "scattergl": [
           {
            "marker": {
             "colorbar": {
              "outlinewidth": 0,
              "ticks": ""
             }
            },
            "type": "scattergl"
           }
          ],
          "scattermapbox": [
           {
            "marker": {
             "colorbar": {
              "outlinewidth": 0,
              "ticks": ""
             }
            },
            "type": "scattermapbox"
           }
          ],
          "scatterpolar": [
           {
            "marker": {
             "colorbar": {
              "outlinewidth": 0,
              "ticks": ""
             }
            },
            "type": "scatterpolar"
           }
          ],
          "scatterpolargl": [
           {
            "marker": {
             "colorbar": {
              "outlinewidth": 0,
              "ticks": ""
             }
            },
            "type": "scatterpolargl"
           }
          ],
          "scatterternary": [
           {
            "marker": {
             "colorbar": {
              "outlinewidth": 0,
              "ticks": ""
             }
            },
            "type": "scatterternary"
           }
          ],
          "surface": [
           {
            "colorbar": {
             "outlinewidth": 0,
             "ticks": ""
            },
            "colorscale": [
             [
              0,
              "#0d0887"
             ],
             [
              0.1111111111111111,
              "#46039f"
             ],
             [
              0.2222222222222222,
              "#7201a8"
             ],
             [
              0.3333333333333333,
              "#9c179e"
             ],
             [
              0.4444444444444444,
              "#bd3786"
             ],
             [
              0.5555555555555556,
              "#d8576b"
             ],
             [
              0.6666666666666666,
              "#ed7953"
             ],
             [
              0.7777777777777778,
              "#fb9f3a"
             ],
             [
              0.8888888888888888,
              "#fdca26"
             ],
             [
              1,
              "#f0f921"
             ]
            ],
            "type": "surface"
           }
          ],
          "table": [
           {
            "cells": {
             "fill": {
              "color": "#EBF0F8"
             },
             "line": {
              "color": "white"
             }
            },
            "header": {
             "fill": {
              "color": "#C8D4E3"
             },
             "line": {
              "color": "white"
             }
            },
            "type": "table"
           }
          ]
         },
         "layout": {
          "annotationdefaults": {
           "arrowcolor": "#2a3f5f",
           "arrowhead": 0,
           "arrowwidth": 1
          },
          "autotypenumbers": "strict",
          "coloraxis": {
           "colorbar": {
            "outlinewidth": 0,
            "ticks": ""
           }
          },
          "colorscale": {
           "diverging": [
            [
             0,
             "#8e0152"
            ],
            [
             0.1,
             "#c51b7d"
            ],
            [
             0.2,
             "#de77ae"
            ],
            [
             0.3,
             "#f1b6da"
            ],
            [
             0.4,
             "#fde0ef"
            ],
            [
             0.5,
             "#f7f7f7"
            ],
            [
             0.6,
             "#e6f5d0"
            ],
            [
             0.7,
             "#b8e186"
            ],
            [
             0.8,
             "#7fbc41"
            ],
            [
             0.9,
             "#4d9221"
            ],
            [
             1,
             "#276419"
            ]
           ],
           "sequential": [
            [
             0,
             "#0d0887"
            ],
            [
             0.1111111111111111,
             "#46039f"
            ],
            [
             0.2222222222222222,
             "#7201a8"
            ],
            [
             0.3333333333333333,
             "#9c179e"
            ],
            [
             0.4444444444444444,
             "#bd3786"
            ],
            [
             0.5555555555555556,
             "#d8576b"
            ],
            [
             0.6666666666666666,
             "#ed7953"
            ],
            [
             0.7777777777777778,
             "#fb9f3a"
            ],
            [
             0.8888888888888888,
             "#fdca26"
            ],
            [
             1,
             "#f0f921"
            ]
           ],
           "sequentialminus": [
            [
             0,
             "#0d0887"
            ],
            [
             0.1111111111111111,
             "#46039f"
            ],
            [
             0.2222222222222222,
             "#7201a8"
            ],
            [
             0.3333333333333333,
             "#9c179e"
            ],
            [
             0.4444444444444444,
             "#bd3786"
            ],
            [
             0.5555555555555556,
             "#d8576b"
            ],
            [
             0.6666666666666666,
             "#ed7953"
            ],
            [
             0.7777777777777778,
             "#fb9f3a"
            ],
            [
             0.8888888888888888,
             "#fdca26"
            ],
            [
             1,
             "#f0f921"
            ]
           ]
          },
          "colorway": [
           "#636efa",
           "#EF553B",
           "#00cc96",
           "#ab63fa",
           "#FFA15A",
           "#19d3f3",
           "#FF6692",
           "#B6E880",
           "#FF97FF",
           "#FECB52"
          ],
          "font": {
           "color": "#2a3f5f"
          },
          "geo": {
           "bgcolor": "white",
           "lakecolor": "white",
           "landcolor": "#E5ECF6",
           "showlakes": true,
           "showland": true,
           "subunitcolor": "white"
          },
          "hoverlabel": {
           "align": "left"
          },
          "hovermode": "closest",
          "mapbox": {
           "style": "light"
          },
          "paper_bgcolor": "white",
          "plot_bgcolor": "#E5ECF6",
          "polar": {
           "angularaxis": {
            "gridcolor": "white",
            "linecolor": "white",
            "ticks": ""
           },
           "bgcolor": "#E5ECF6",
           "radialaxis": {
            "gridcolor": "white",
            "linecolor": "white",
            "ticks": ""
           }
          },
          "scene": {
           "xaxis": {
            "backgroundcolor": "#E5ECF6",
            "gridcolor": "white",
            "gridwidth": 2,
            "linecolor": "white",
            "showbackground": true,
            "ticks": "",
            "zerolinecolor": "white"
           },
           "yaxis": {
            "backgroundcolor": "#E5ECF6",
            "gridcolor": "white",
            "gridwidth": 2,
            "linecolor": "white",
            "showbackground": true,
            "ticks": "",
            "zerolinecolor": "white"
           },
           "zaxis": {
            "backgroundcolor": "#E5ECF6",
            "gridcolor": "white",
            "gridwidth": 2,
            "linecolor": "white",
            "showbackground": true,
            "ticks": "",
            "zerolinecolor": "white"
           }
          },
          "shapedefaults": {
           "line": {
            "color": "#2a3f5f"
           }
          },
          "ternary": {
           "aaxis": {
            "gridcolor": "white",
            "linecolor": "white",
            "ticks": ""
           },
           "baxis": {
            "gridcolor": "white",
            "linecolor": "white",
            "ticks": ""
           },
           "bgcolor": "#E5ECF6",
           "caxis": {
            "gridcolor": "white",
            "linecolor": "white",
            "ticks": ""
           }
          },
          "title": {
           "x": 0.05
          },
          "xaxis": {
           "automargin": true,
           "gridcolor": "white",
           "linecolor": "white",
           "ticks": "",
           "title": {
            "standoff": 15
           },
           "zerolinecolor": "white",
           "zerolinewidth": 2
          },
          "yaxis": {
           "automargin": true,
           "gridcolor": "white",
           "linecolor": "white",
           "ticks": "",
           "title": {
            "standoff": 15
           },
           "zerolinecolor": "white",
           "zerolinewidth": 2
          }
         }
        },
        "title": {
         "text": "KLD (left) and count (right) for each cluster set"
        },
        "width": 1600,
        "xaxis": {
         "anchor": "y",
         "domain": [
          0,
          0.45
         ]
        },
        "xaxis10": {
         "anchor": "y10",
         "domain": [
          0.55,
          1
         ]
        },
        "xaxis11": {
         "anchor": "y11",
         "domain": [
          0,
          0.45
         ]
        },
        "xaxis12": {
         "anchor": "y12",
         "domain": [
          0.55,
          1
         ]
        },
        "xaxis13": {
         "anchor": "y13",
         "domain": [
          0,
          0.45
         ]
        },
        "xaxis14": {
         "anchor": "y14",
         "domain": [
          0.55,
          1
         ]
        },
        "xaxis15": {
         "anchor": "y15",
         "domain": [
          0,
          0.45
         ]
        },
        "xaxis16": {
         "anchor": "y16",
         "domain": [
          0.55,
          1
         ]
        },
        "xaxis17": {
         "anchor": "y17",
         "domain": [
          0,
          0.45
         ]
        },
        "xaxis18": {
         "anchor": "y18",
         "domain": [
          0.55,
          1
         ]
        },
        "xaxis19": {
         "anchor": "y19",
         "domain": [
          0,
          0.45
         ]
        },
        "xaxis2": {
         "anchor": "y2",
         "domain": [
          0.55,
          1
         ]
        },
        "xaxis20": {
         "anchor": "y20",
         "domain": [
          0.55,
          1
         ]
        },
        "xaxis21": {
         "anchor": "y21",
         "domain": [
          0,
          0.45
         ]
        },
        "xaxis22": {
         "anchor": "y22",
         "domain": [
          0.55,
          1
         ]
        },
        "xaxis23": {
         "anchor": "y23",
         "domain": [
          0,
          0.45
         ]
        },
        "xaxis24": {
         "anchor": "y24",
         "domain": [
          0.55,
          1
         ]
        },
        "xaxis25": {
         "anchor": "y25",
         "domain": [
          0,
          0.45
         ]
        },
        "xaxis26": {
         "anchor": "y26",
         "domain": [
          0.55,
          1
         ]
        },
        "xaxis27": {
         "anchor": "y27",
         "domain": [
          0,
          0.45
         ]
        },
        "xaxis28": {
         "anchor": "y28",
         "domain": [
          0.55,
          1
         ]
        },
        "xaxis29": {
         "anchor": "y29",
         "domain": [
          0,
          0.45
         ]
        },
        "xaxis3": {
         "anchor": "y3",
         "domain": [
          0,
          0.45
         ]
        },
        "xaxis30": {
         "anchor": "y30",
         "domain": [
          0.55,
          1
         ]
        },
        "xaxis4": {
         "anchor": "y4",
         "domain": [
          0.55,
          1
         ]
        },
        "xaxis5": {
         "anchor": "y5",
         "domain": [
          0,
          0.45
         ]
        },
        "xaxis6": {
         "anchor": "y6",
         "domain": [
          0.55,
          1
         ]
        },
        "xaxis7": {
         "anchor": "y7",
         "domain": [
          0,
          0.45
         ]
        },
        "xaxis8": {
         "anchor": "y8",
         "domain": [
          0.55,
          1
         ]
        },
        "xaxis9": {
         "anchor": "y9",
         "domain": [
          0,
          0.45
         ]
        },
        "yaxis": {
         "anchor": "x",
         "domain": [
          0.9644444444444444,
          1
         ]
        },
        "yaxis10": {
         "anchor": "x10",
         "domain": [
          0.6888888888888889,
          0.7244444444444444
         ]
        },
        "yaxis11": {
         "anchor": "x11",
         "domain": [
          0.62,
          0.6555555555555556
         ]
        },
        "yaxis12": {
         "anchor": "x12",
         "domain": [
          0.62,
          0.6555555555555556
         ]
        },
        "yaxis13": {
         "anchor": "x13",
         "domain": [
          0.5511111111111111,
          0.5866666666666667
         ]
        },
        "yaxis14": {
         "anchor": "x14",
         "domain": [
          0.5511111111111111,
          0.5866666666666667
         ]
        },
        "yaxis15": {
         "anchor": "x15",
         "domain": [
          0.4822222222222222,
          0.5177777777777778
         ]
        },
        "yaxis16": {
         "anchor": "x16",
         "domain": [
          0.4822222222222222,
          0.5177777777777778
         ]
        },
        "yaxis17": {
         "anchor": "x17",
         "domain": [
          0.41333333333333333,
          0.4488888888888889
         ]
        },
        "yaxis18": {
         "anchor": "x18",
         "domain": [
          0.41333333333333333,
          0.4488888888888889
         ]
        },
        "yaxis19": {
         "anchor": "x19",
         "domain": [
          0.34444444444444444,
          0.38
         ]
        },
        "yaxis2": {
         "anchor": "x2",
         "domain": [
          0.9644444444444444,
          1
         ]
        },
        "yaxis20": {
         "anchor": "x20",
         "domain": [
          0.34444444444444444,
          0.38
         ]
        },
        "yaxis21": {
         "anchor": "x21",
         "domain": [
          0.27555555555555555,
          0.3111111111111111
         ]
        },
        "yaxis22": {
         "anchor": "x22",
         "domain": [
          0.27555555555555555,
          0.3111111111111111
         ]
        },
        "yaxis23": {
         "anchor": "x23",
         "domain": [
          0.20666666666666667,
          0.24222222222222223
         ]
        },
        "yaxis24": {
         "anchor": "x24",
         "domain": [
          0.20666666666666667,
          0.24222222222222223
         ]
        },
        "yaxis25": {
         "anchor": "x25",
         "domain": [
          0.13777777777777778,
          0.17333333333333334
         ]
        },
        "yaxis26": {
         "anchor": "x26",
         "domain": [
          0.13777777777777778,
          0.17333333333333334
         ]
        },
        "yaxis27": {
         "anchor": "x27",
         "domain": [
          0.06888888888888889,
          0.10444444444444445
         ]
        },
        "yaxis28": {
         "anchor": "x28",
         "domain": [
          0.06888888888888889,
          0.10444444444444445
         ]
        },
        "yaxis29": {
         "anchor": "x29",
         "domain": [
          0,
          0.035555555555555556
         ]
        },
        "yaxis3": {
         "anchor": "x3",
         "domain": [
          0.8955555555555557,
          0.9311111111111112
         ]
        },
        "yaxis30": {
         "anchor": "x30",
         "domain": [
          0,
          0.035555555555555556
         ]
        },
        "yaxis4": {
         "anchor": "x4",
         "domain": [
          0.8955555555555557,
          0.9311111111111112
         ]
        },
        "yaxis5": {
         "anchor": "x5",
         "domain": [
          0.8266666666666667,
          0.8622222222222222
         ]
        },
        "yaxis6": {
         "anchor": "x6",
         "domain": [
          0.8266666666666667,
          0.8622222222222222
         ]
        },
        "yaxis7": {
         "anchor": "x7",
         "domain": [
          0.7577777777777778,
          0.7933333333333333
         ]
        },
        "yaxis8": {
         "anchor": "x8",
         "domain": [
          0.7577777777777778,
          0.7933333333333333
         ]
        },
        "yaxis9": {
         "anchor": "x9",
         "domain": [
          0.6888888888888889,
          0.7244444444444444
         ]
        }
       }
      }
     },
     "metadata": {},
     "output_type": "display_data"
    }
   ],
   "source": [
    "# visualize a specific set of cluster mean \n",
    "titles_list = [\n",
    "        [f\"KLD distances for cluster set {i+1}\", f\"Binder/non binders distribution for cluster set {i+1}\"]\n",
    "        for i in range(15)\n",
    "    ]\n",
    "def flatten(l):\n",
    "    return [item for sublist in l for item in sublist]\n",
    "\n",
    "#number of peptides per cluster:\n",
    "fig = make_subplots(\n",
    "    rows=15,\n",
    "    cols=2,\n",
    "    start_cell=\"top-left\",\n",
    "    subplot_titles = flatten(titles_list)\n",
    ")\n",
    "fig.update_layout(\n",
    "    height=3000,\n",
    "    width=1600,\n",
    "    title_text=\"KLD (left) and count (right) for each cluster set\",\n",
    "    showlegend=False,\n",
    ")\n",
    "\n",
    "for i in range(15):\n",
    "    # First col:\n",
    "    fig.add_trace(\n",
    "        go.Bar(\n",
    "            x=list(cluster_set_cluster_kld[i].keys()), \n",
    "            y=list(cluster_set_cluster_kld[i].values()),\n",
    "            marker_color=\"blue\"\n",
    "            # title=f\"KLD distance for each cluster in cluster set {i}\",\n",
    "            # labels = {\n",
    "            #     \"y\": \"KLD\",\n",
    "            #     \"x\": \"cluster\"\n",
    "            # }\n",
    "        ),\n",
    "        row=i+1, col=1,\n",
    "    )\n",
    "    df_grouped_clusters = df.groupby([f\"cluster_set_{i+1}\", \"binder\"], as_index=False).size()\n",
    "\n",
    "    # Second col (with stacked binders and non binders)\n",
    "    fig.add_trace( # binders\n",
    "        go.Bar(\n",
    "            x=list(range(i+1)), \n",
    "            y=df_grouped_clusters.loc[df_grouped_clusters[\"binder\"] == True][\"size\"],\n",
    "            offsetgroup=0,\n",
    "            marker_color=\"green\"\n",
    "        ),\n",
    "        row=i+1, col=2\n",
    "    )\n",
    "\n",
    "    fig.add_trace( # non binders\n",
    "        go.Bar(\n",
    "            x=list(range(i+1)), \n",
    "            y=df_grouped_clusters.loc[df_grouped_clusters[\"binder\"] == False][\"size\"],\n",
    "            offsetgroup=0,\n",
    "            base=df_grouped_clusters.loc[df_grouped_clusters[\"binder\"] == True][\"size\"],\n",
    "            marker_color=\"red\"\n",
    "        ),\n",
    "        row=i+1, col=2\n",
    "    )\n",
    "fig.show()\n",
    "fig.write_image(\"../../reports/figures/gibbs_clusters/cluster_sets_flat_background.svg\")\n"
   ]
  },
  {
   "cell_type": "code",
   "execution_count": null,
   "metadata": {},
   "outputs": [],
   "source": [
    "# visualize distribution of binders/non binders per cluster:\n",
    "df_binders = df.groupby([\"cluster\", \"binder\"]).size().reset_index()\n",
    "\n",
    "fig = px.bar(df_binders, x=\"cluster\", y=0, color=\"binder\", title=\"Frequency of binders per cluster\")\n",
    "fig.show()"
   ]
  },
  {
   "cell_type": "code",
   "execution_count": null,
   "metadata": {},
   "outputs": [],
   "source": []
  }
 ],
 "metadata": {
  "kernelspec": {
   "display_name": "deeprank",
   "language": "python",
   "name": "python3"
  },
  "language_info": {
   "codemirror_mode": {
    "name": "ipython",
    "version": 3
   },
   "file_extension": ".py",
   "mimetype": "text/x-python",
   "name": "python",
   "nbconvert_exporter": "python",
   "pygments_lexer": "ipython3",
   "version": "3.10.6"
  },
  "orig_nbformat": 4,
  "vscode": {
   "interpreter": {
    "hash": "e0f11ea36265c7a09575b72ab023a91955654eee7154dd519d25c1189c46f9fd"
   }
  }
 },
 "nbformat": 4,
 "nbformat_minor": 2
}
