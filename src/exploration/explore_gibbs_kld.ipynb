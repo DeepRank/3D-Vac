{
 "cells": [
  {
   "cell_type": "code",
   "execution_count": 1,
   "metadata": {},
   "outputs": [],
   "source": [
    "import re\n",
    "import matplotlib.pyplot as plt\n",
    "import glob\n",
    "import numpy as np\n",
    "import pandas as pd\n",
    "import plotly.express as px\n",
    "import plotly.graph_objects as go\n",
    "pd.options.plotting.backend = \"plotly\"\n",
    "from plotly.subplots import make_subplots\n",
    "df = pd.read_csv(\"../../data/external/processed/all_hla.csv\")\n",
    "df[\"binder\"] = df[\"measurement_value\"].apply(lambda x: True if x < 500 else False)"
   ]
  },
  {
   "cell_type": "code",
   "execution_count": 40,
   "metadata": {},
   "outputs": [
    {
     "data": {
      "text/plain": [
       "Text(0, 0.5, 'Mean distance over each cluster of the set')"
      ]
     },
     "execution_count": 40,
     "metadata": {},
     "output_type": "execute_result"
    },
    {
     "data": {
      "image/png": "[encoded data removed]",
      "text/plain": [
       "<Figure size 640x480 with 1 Axes>"
      ]
     },
     "metadata": {},
     "output_type": "display_data"
    }
   ],
   "source": [
    "max_clusters = 15\n",
    "clusters = range(1, max_clusters+1)\n",
    "cluster_mean_kld = []\n",
    "cluster_set_cluster_kld = []\n",
    "for i in clusters:\n",
    "    result_f = open(f\"/home/daqop/mountpoint_snellius/gibbs_clusters_outputs/all_hla_peptides_clusters_1_15_with_trash_68076/res/gibbs.{i}g.out\")\n",
    "    average_klds_lines = [line.replace(\"\\n\", \"\") for line in result_f if \"Final KLD sum after\" in line and \"###\" not in line]\n",
    "\n",
    "    klds = []\n",
    "    clusters_in_set = []\n",
    "    for l in average_klds_lines:\n",
    "        cluster = re.search(\"(?<=group\\s)[0-9]*\", l).group()\n",
    "        kld = re.search(\"(?<=epochs\\s-\\s)[+-]?([0-9]*[.])?[0-9]*\", l).group()\n",
    "        klds.append(float(kld))\n",
    "        clusters_in_set.append(str(cluster))\n",
    "    cluster_set_cluster_kld.append(dict(zip(clusters_in_set, klds)))\n",
    "    klds = np.array(klds)\n",
    "    cluster_mean_kld.append(klds.mean())\n",
    "\n",
    "#convert to np.array for sorting based on indices\n",
    "cluster_mean_kld = np.array(cluster_mean_kld)\n",
    "clusters = np.array(clusters)\n",
    "\n",
    "# generate sorted indices and reorder arrays:\n",
    "sorted_indices = np.argsort(cluster_mean_kld)\n",
    "cluster_mean_kld = cluster_mean_kld[sorted_indices]\n",
    "clusters = clusters[sorted_indices]\n",
    "\n",
    "plt.bar([str(cluster) for cluster in clusters], height=cluster_mean_kld)\n",
    "plt.title(\"Mean KLD distance for each set of clusters\")\n",
    "plt.xlabel(\"Cluster set\")\n",
    "plt.ylabel(\"Mean distance over each cluster of the set\")\n"
   ]
  },
  {
   "cell_type": "code",
   "execution_count": 29,
   "metadata": {},
   "outputs": [
    {
     "data": {
      "text/plain": [
       "0    17546\n",
       "2    15348\n",
       "4    13403\n",
       "Name: size, dtype: int64"
      ]
     },
     "execution_count": 29,
     "metadata": {},
     "output_type": "execute_result"
    }
   ],
   "source": [
    "df_t = df.groupby([\"cluster_set_3\", \"binder\"], as_index=False).size()\n",
    "df_t.loc[df_t[\"binder\"]==False][\"size\"]"
   ]
  },
  {
   "cell_type": "code",
   "execution_count": 38,
   "metadata": {},
   "outputs": [
    {
     "data": {
      "application/vnd.plotly.v1+json": {
       "config": {
        "plotlyServerURL": "https://plot.ly"
       },
       "data": [
        {
         "marker": {
          "color": "blue"
         },
         "type": "bar",
         "x": [
          "0"
         ],
         "xaxis": "x",
         "y": [
          4.120149
         ],
         "yaxis": "y"
        },
        {
         "marker": {
          "color": "green"
         },
         "offsetgroup": "0",
         "type": "bar",
         "x": [
          0
         ],
         "xaxis": "x2",
         "y": [
          35905
         ],
         "yaxis": "y2"
        },
        {
         "base": [
          35905
         ],
         "marker": {
          "color": "red"
         },
         "offsetgroup": "0",
         "type": "bar",
         "x": [
          0
         ],
         "xaxis": "x2",
         "y": [
          35364
         ],
         "yaxis": "y2"
        },
        {
         "marker": {
          "color": "blue"
         },
         "type": "bar",
         "x": [
          "0",
          "1"
         ],
         "xaxis": "x3",
         "y": [
          4.394128,
          4.177569
         ],
         "yaxis": "y3"
        },
        {
         "marker": {
          "color": "green"
         },
         "offsetgroup": "0",
         "type": "bar",
         "x": [
          0,
          1
         ],
         "xaxis": "x4",
         "y": [
          24012,
          15768
         ],
         "yaxis": "y4"
        },
        {
         "base": [
          24012,
          15768
         ],
         "marker": {
          "color": "red"
         },
         "offsetgroup": "0",
         "type": "bar",
         "x": [
          0,
          1
         ],
         "xaxis": "x4",
         "y": [
          21231,
          21349
         ],
         "yaxis": "y4"
        },
        {
         "marker": {
          "color": "blue"
         },
         "type": "bar",
         "x": [
          "0",
          "1",
          "2"
         ],
         "xaxis": "x5",
         "y": [
          4.224398,
          4.084814,
          4.552383
         ],
         "yaxis": "y5"
        },
        {
         "marker": {
          "color": "green"
         },
         "offsetgroup": "0",
         "type": "bar",
         "x": [
          0,
          1,
          2
         ],
         "xaxis": "x6",
         "y": [
          11863,
          16419,
          13025
         ],
         "yaxis": "y6"
        },
        {
         "base": [
          11863,
          16419,
          13025
         ],
         "marker": {
          "color": "red"
         },
         "offsetgroup": "0",
         "type": "bar",
         "x": [
          0,
          1,
          2
         ],
         "xaxis": "x6",
         "y": [
          17546,
          15348,
          13403
         ],
         "yaxis": "y6"
        },
        {
         "marker": {
          "color": "blue"
         },
         "type": "bar",
         "x": [
          "0",
          "1",
          "2",
          "3"
         ],
         "xaxis": "x7",
         "y": [
          3.908161,
          4.232336,
          4.395316,
          4.258337
         ],
         "yaxis": "y7"
        },
        {
         "marker": {
          "color": "green"
         },
         "offsetgroup": "0",
         "type": "bar",
         "x": [
          0,
          1,
          2,
          3
         ],
         "xaxis": "x8",
         "y": [
          9731,
          10874,
          10914,
          10500
         ],
         "yaxis": "y8"
        },
        {
         "base": [
          9731,
          10874,
          10914,
          10500
         ],
         "marker": {
          "color": "red"
         },
         "offsetgroup": "0",
         "type": "bar",
         "x": [
          0,
          1,
          2,
          3
         ],
         "xaxis": "x8",
         "y": [
          13107,
          10808,
          14819,
          9813
         ],
         "yaxis": "y8"
        },
        {
         "marker": {
          "color": "blue"
         },
         "type": "bar",
         "x": [
          "0",
          "1",
          "2",
          "3",
          "4"
         ],
         "xaxis": "x9",
         "y": [
          4.24369,
          3.870825,
          3.952945,
          4.266442,
          4.417419
         ],
         "yaxis": "y9"
        },
        {
         "marker": {
          "color": "green"
         },
         "offsetgroup": "0",
         "type": "bar",
         "x": [
          0,
          1,
          2,
          3,
          4
         ],
         "xaxis": "x10",
         "y": [
          7153,
          7039,
          8045,
          7624,
          12608
         ],
         "yaxis": "y10"
        },
        {
         "base": [
          7153,
          7039,
          8045,
          7624,
          12608
         ],
         "marker": {
          "color": "red"
         },
         "offsetgroup": "0",
         "type": "bar",
         "x": [
          0,
          1,
          2,
          3,
          4
         ],
         "xaxis": "x10",
         "y": [
          9219,
          10900,
          9351,
          8310,
          11945
         ],
         "yaxis": "y10"
        },
        {
         "marker": {
          "color": "blue"
         },
         "type": "bar",
         "x": [
          "0",
          "1",
          "2",
          "3",
          "4",
          "5"
         ],
         "xaxis": "x11",
         "y": [
          3.979185,
          4.099813,
          4.08744,
          4.242661,
          4.761983,
          4.200331
         ],
         "yaxis": "y11"
        },
        {
         "marker": {
          "color": "green"
         },
         "offsetgroup": "0",
         "type": "bar",
         "x": [
          0,
          1,
          2,
          3,
          4,
          5
         ],
         "xaxis": "x12",
         "y": [
          6940,
          5982,
          6450,
          7342,
          11044,
          5093
         ],
         "yaxis": "y12"
        },
        {
         "base": [
          6940,
          5982,
          6450,
          7342,
          11044,
          5093
         ],
         "marker": {
          "color": "red"
         },
         "offsetgroup": "0",
         "type": "bar",
         "x": [
          0,
          1,
          2,
          3,
          4,
          5
         ],
         "xaxis": "x12",
         "y": [
          9531,
          6828,
          9749,
          9368,
          8303,
          6997
         ],
         "yaxis": "y12"
        },
        {
         "marker": {
          "color": "blue"
         },
         "type": "bar",
         "x": [
          "0",
          "1",
          "2",
          "3",
          "4",
          "5",
          "6"
         ],
         "xaxis": "x13",
         "y": [
          4.087893,
          4.784385,
          3.98631,
          4.083526,
          3.83032,
          4.078537,
          4.883333
         ],
         "yaxis": "y13"
        },
        {
         "marker": {
          "color": "green"
         },
         "offsetgroup": "0",
         "type": "bar",
         "x": [
          0,
          1,
          2,
          3,
          4,
          5,
          6
         ],
         "xaxis": "x14",
         "y": [
          4893,
          6635,
          5863,
          5570,
          5730,
          5259,
          9084
         ],
         "yaxis": "y14"
        },
        {
         "base": [
          4893,
          6635,
          5863,
          5570,
          5730,
          5259,
          9084
         ],
         "marker": {
          "color": "red"
         },
         "offsetgroup": "0",
         "type": "bar",
         "x": [
          0,
          1,
          2,
          3,
          4,
          5,
          6
         ],
         "xaxis": "x14",
         "y": [
          6384,
          7765,
          7405,
          6726,
          7003,
          9037,
          7057
         ],
         "yaxis": "y14"
        },
        {
         "marker": {
          "color": "blue"
         },
         "type": "bar",
         "x": [
          "0",
          "1",
          "2",
          "3",
          "4",
          "5",
          "6",
          "7"
         ],
         "xaxis": "x15",
         "y": [
          3.76547,
          3.736902,
          4.332176,
          4.015984,
          4.009484,
          4.442648,
          4.528643,
          3.994636
         ],
         "yaxis": "y15"
        },
        {
         "marker": {
          "color": "green"
         },
         "offsetgroup": "0",
         "type": "bar",
         "x": [
          0,
          1,
          2,
          3,
          4,
          5,
          6,
          7
         ],
         "xaxis": "x16",
         "y": [
          3882,
          5812,
          7595,
          4160,
          7439,
          4495,
          5873,
          4022
         ],
         "yaxis": "y16"
        },
        {
         "base": [
          3882,
          5812,
          7595,
          4160,
          7439,
          4495,
          5873,
          4022
         ],
         "marker": {
          "color": "red"
         },
         "offsetgroup": "0",
         "type": "bar",
         "x": [
          0,
          1,
          2,
          3,
          4,
          5,
          6,
          7
         ],
         "xaxis": "x16",
         "y": [
          6572,
          6002,
          6661,
          5313,
          6735,
          5576,
          7656,
          7493
         ],
         "yaxis": "y16"
        },
        {
         "marker": {
          "color": "blue"
         },
         "type": "bar",
         "x": [
          "0",
          "1",
          "2",
          "3",
          "4",
          "5",
          "6",
          "7",
          "8"
         ],
         "xaxis": "x17",
         "y": [
          4.446231,
          4.014966,
          3.850733,
          3.822296,
          4.682645,
          4.123993,
          4.028677,
          4.154894,
          3.72213
         ],
         "yaxis": "y17"
        },
        {
         "marker": {
          "color": "green"
         },
         "offsetgroup": "0",
         "type": "bar",
         "x": [
          0,
          1,
          2,
          3,
          4,
          5,
          6,
          7,
          8
         ],
         "xaxis": "x18",
         "y": [
          3784,
          4526,
          4998,
          5292,
          6117,
          5297,
          4794,
          4084,
          4463
         ],
         "yaxis": "y18"
        },
        {
         "base": [
          3784,
          4526,
          4998,
          5292,
          6117,
          5297,
          4794,
          4084,
          4463
         ],
         "marker": {
          "color": "red"
         },
         "offsetgroup": "0",
         "type": "bar",
         "x": [
          0,
          1,
          2,
          3,
          4,
          5,
          6,
          7,
          8
         ],
         "xaxis": "x18",
         "y": [
          7413,
          4904,
          6311,
          6783,
          5201,
          5863,
          6094,
          5547,
          4368
         ],
         "yaxis": "y18"
        },
        {
         "marker": {
          "color": "blue"
         },
         "type": "bar",
         "x": [
          "0",
          "1",
          "2",
          "3",
          "4",
          "5",
          "6",
          "7",
          "8",
          "9"
         ],
         "xaxis": "x19",
         "y": [
          4.292113,
          4.125043,
          4.099883,
          4.028709,
          4.38655,
          4.963844,
          3.854048,
          4.2057,
          4.031117,
          4.064426
         ],
         "yaxis": "y19"
        },
        {
         "marker": {
          "color": "green"
         },
         "offsetgroup": "0",
         "type": "bar",
         "x": [
          0,
          1,
          2,
          3,
          4,
          5,
          6,
          7,
          8,
          9
         ],
         "xaxis": "x20",
         "y": [
          3532,
          2962,
          3892,
          3469,
          4228,
          6490,
          5102,
          4039,
          4878,
          4836
         ],
         "yaxis": "y20"
        },
        {
         "base": [
          3532,
          2962,
          3892,
          3469,
          4228,
          6490,
          5102,
          4039,
          4878,
          4836
         ],
         "marker": {
          "color": "red"
         },
         "offsetgroup": "0",
         "type": "bar",
         "x": [
          0,
          1,
          2,
          3,
          4,
          5,
          6,
          7,
          8,
          9
         ],
         "xaxis": "x20",
         "y": [
          4992,
          4833,
          5766,
          4283,
          5549,
          4956,
          6047,
          4419,
          5599,
          6394
         ],
         "yaxis": "y20"
        },
        {
         "marker": {
          "color": "blue"
         },
         "type": "bar",
         "x": [
          "0",
          "1",
          "2",
          "3",
          "4",
          "5",
          "6",
          "7",
          "8",
          "9",
          "10"
         ],
         "xaxis": "x21",
         "y": [
          4.788221,
          3.863987,
          3.900907,
          3.989214,
          3.729587,
          4.085217,
          4.268061,
          4.167463,
          4.018369,
          3.979156,
          3.960925
         ],
         "yaxis": "y21"
        },
        {
         "marker": {
          "color": "green"
         },
         "offsetgroup": "0",
         "type": "bar",
         "x": [
          0,
          1,
          2,
          3,
          4,
          5,
          6,
          7,
          8,
          9,
          10
         ],
         "xaxis": "x22",
         "y": [
          3763,
          2941,
          2949,
          4803,
          3156,
          4095,
          5033,
          3091,
          4982,
          4038,
          4641
         ],
         "yaxis": "y22"
        },
        {
         "base": [
          3763,
          2941,
          2949,
          4803,
          3156,
          4095,
          5033,
          3091,
          4982,
          4038,
          4641
         ],
         "marker": {
          "color": "red"
         },
         "offsetgroup": "0",
         "type": "bar",
         "x": [
          0,
          1,
          2,
          3,
          4,
          5,
          6,
          7,
          8,
          9,
          10
         ],
         "xaxis": "x22",
         "y": [
          4223,
          3990,
          4550,
          4295,
          5274,
          5343,
          4325,
          5295,
          4257,
          6385,
          5149
         ],
         "yaxis": "y22"
        },
        {
         "marker": {
          "color": "blue"
         },
         "type": "bar",
         "x": [
          "0",
          "1",
          "2",
          "3",
          "4",
          "5",
          "6",
          "7",
          "8",
          "9",
          "10",
          "11"
         ],
         "xaxis": "x23",
         "y": [
          3.873232,
          4.098104,
          4.342022,
          4.077879,
          4.506186,
          4.010132,
          4.073887,
          4.171762,
          4.867439,
          3.694001,
          3.873715,
          3.918341
         ],
         "yaxis": "y23"
        },
        {
         "marker": {
          "color": "green"
         },
         "offsetgroup": "0",
         "type": "bar",
         "x": [
          0,
          1,
          2,
          3,
          4,
          5,
          6,
          7,
          8,
          9,
          10,
          11
         ],
         "xaxis": "x24",
         "y": [
          3105,
          4616,
          3936,
          3633,
          5711,
          4035,
          3772,
          3067,
          3484,
          2385,
          3138,
          2657
         ],
         "yaxis": "y24"
        },
        {
         "base": [
          3105,
          4616,
          3936,
          3633,
          5711,
          4035,
          3772,
          3067,
          3484,
          2385,
          3138,
          2657
         ],
         "marker": {
          "color": "red"
         },
         "offsetgroup": "0",
         "type": "bar",
         "x": [
          0,
          1,
          2,
          3,
          4,
          5,
          6,
          7,
          8,
          9,
          10,
          11
         ],
         "xaxis": "x24",
         "y": [
          6121,
          3932,
          3621,
          5203,
          4335,
          4502,
          4365,
          4236,
          4042,
          4050,
          4502,
          4357
         ],
         "yaxis": "y24"
        },
        {
         "marker": {
          "color": "blue"
         },
         "type": "bar",
         "x": [
          "0",
          "1",
          "2",
          "3",
          "4",
          "5",
          "6",
          "7",
          "8",
          "9",
          "10",
          "11",
          "12"
         ],
         "xaxis": "x25",
         "y": [
          3.860546,
          4.110629,
          4.069845,
          5.11865,
          4.040458,
          4.057755,
          4.03733,
          4.055713,
          4.07048,
          4.092845,
          3.711935,
          4.763701,
          4.098634
         ],
         "yaxis": "y25"
        },
        {
         "marker": {
          "color": "green"
         },
         "offsetgroup": "0",
         "type": "bar",
         "x": [
          0,
          1,
          2,
          3,
          4,
          5,
          6,
          7,
          8,
          9,
          10,
          11,
          12
         ],
         "xaxis": "x26",
         "y": [
          3343,
          2908,
          4242,
          2813,
          2300,
          3030,
          4055,
          3365,
          2457,
          3165,
          2688,
          5738,
          3485
         ],
         "yaxis": "y26"
        },
        {
         "base": [
          3343,
          2908,
          4242,
          2813,
          2300,
          3030,
          4055,
          3365,
          2457,
          3165,
          2688,
          5738,
          3485
         ],
         "marker": {
          "color": "red"
         },
         "offsetgroup": "0",
         "type": "bar",
         "x": [
          0,
          1,
          2,
          3,
          4,
          5,
          6,
          7,
          8,
          9,
          10,
          11,
          12
         ],
         "xaxis": "x26",
         "y": [
          4179,
          3829,
          4645,
          4019,
          3521,
          4437,
          4484,
          3105,
          5464,
          3209,
          3700,
          4233,
          4664
         ],
         "yaxis": "y26"
        },
        {
         "marker": {
          "color": "blue"
         },
         "type": "bar",
         "x": [
          "0",
          "1",
          "2",
          "3",
          "4",
          "5",
          "6",
          "7",
          "8",
          "9",
          "10",
          "11",
          "12",
          "13"
         ],
         "xaxis": "x27",
         "y": [
          4.185622,
          3.75961,
          4.006396,
          4.599662,
          3.891225,
          3.905821,
          4.364622,
          4.202785,
          4.18288,
          4.287538,
          4.018998,
          4.335143,
          4.043433,
          3.901505
         ],
         "yaxis": "y27"
        },
        {
         "marker": {
          "color": "green"
         },
         "offsetgroup": "0",
         "type": "bar",
         "x": [
          0,
          1,
          2,
          3,
          4,
          5,
          6,
          7,
          8,
          9,
          10,
          11,
          12,
          13
         ],
         "xaxis": "x28",
         "y": [
          2468,
          3369,
          2767,
          2127,
          4340,
          3370,
          3226,
          3500,
          3220,
          2938,
          2661,
          3158,
          3362,
          3141
         ],
         "yaxis": "y28"
        },
        {
         "base": [
          2468,
          3369,
          2767,
          2127,
          4340,
          3370,
          3226,
          3500,
          3220,
          2938,
          2661,
          3158,
          3362,
          3141
         ],
         "marker": {
          "color": "red"
         },
         "offsetgroup": "0",
         "type": "bar",
         "x": [
          0,
          1,
          2,
          3,
          4,
          5,
          6,
          7,
          8,
          9,
          10,
          11,
          12,
          13
         ],
         "xaxis": "x28",
         "y": [
          4755,
          3324,
          4414,
          3301,
          4801,
          3622,
          3594,
          4161,
          3055,
          3500,
          3228,
          3761,
          3594,
          4407
         ],
         "yaxis": "y28"
        },
        {
         "marker": {
          "color": "blue"
         },
         "type": "bar",
         "x": [
          "0",
          "1",
          "2",
          "3",
          "4",
          "5",
          "6",
          "7",
          "8",
          "9",
          "10",
          "11",
          "12",
          "13",
          "14"
         ],
         "xaxis": "x29",
         "y": [
          4.052615,
          4.380282,
          3.827241,
          3.977291,
          4.169082,
          3.804736,
          3.878613,
          4.1287,
          4.44556,
          4.103758,
          3.790455,
          4.418819,
          3.961696,
          3.953348,
          4.305162
         ],
         "yaxis": "y29"
        },
        {
         "marker": {
          "color": "green"
         },
         "offsetgroup": "0",
         "type": "bar",
         "x": [
          0,
          1,
          2,
          3,
          4,
          5,
          6,
          7,
          8,
          9,
          10,
          11,
          12,
          13,
          14
         ],
         "xaxis": "x30",
         "y": [
          2402,
          3116,
          2906,
          2450,
          3034,
          3804,
          1885,
          2400,
          4131,
          3289,
          2037,
          2183,
          3059,
          2873,
          4097
         ],
         "yaxis": "y30"
        },
        {
         "base": [
          2402,
          3116,
          2906,
          2450,
          3034,
          3804,
          1885,
          2400,
          4131,
          3289,
          2037,
          2183,
          3059,
          2873,
          4097
         ],
         "marker": {
          "color": "red"
         },
         "offsetgroup": "0",
         "type": "bar",
         "x": [
          0,
          1,
          2,
          3,
          4,
          5,
          6,
          7,
          8,
          9,
          10,
          11,
          12,
          13,
          14
         ],
         "xaxis": "x30",
         "y": [
          3647,
          3431,
          3244,
          3378,
          4111,
          3558,
          3960,
          3326,
          3397,
          5194,
          3178,
          2995,
          4130,
          2791,
          3350
         ],
         "yaxis": "y30"
        }
       ],
       "layout": {
        "annotations": [
         {
          "font": {
           "size": 16
          },
          "showarrow": false,
          "text": "KLD distances for cluster set 0",
          "x": 0.225,
          "xanchor": "center",
          "xref": "paper",
          "y": 1,
          "yanchor": "bottom",
          "yref": "paper"
         },
         {
          "font": {
           "size": 16
          },
          "showarrow": false,
          "text": "Binder/non binders distribution for cluster set 0",
          "x": 0.775,
          "xanchor": "center",
          "xref": "paper",
          "y": 1,
          "yanchor": "bottom",
          "yref": "paper"
         },
         {
          "font": {
           "size": 16
          },
          "showarrow": false,
          "text": "KLD distances for cluster set 1",
          "x": 0.225,
          "xanchor": "center",
          "xref": "paper",
          "y": 0.9311111111111112,
          "yanchor": "bottom",
          "yref": "paper"
         },
         {
          "font": {
           "size": 16
          },
          "showarrow": false,
          "text": "Binder/non binders distribution for cluster set 1",
          "x": 0.775,
          "xanchor": "center",
          "xref": "paper",
          "y": 0.9311111111111112,
          "yanchor": "bottom",
          "yref": "paper"
         },
         {
          "font": {
           "size": 16
          },
          "showarrow": false,
          "text": "KLD distances for cluster set 2",
          "x": 0.225,
          "xanchor": "center",
          "xref": "paper",
          "y": 0.8622222222222222,
          "yanchor": "bottom",
          "yref": "paper"
         },
         {
          "font": {
           "size": 16
          },
          "showarrow": false,
          "text": "Binder/non binders distribution for cluster set 2",
          "x": 0.775,
          "xanchor": "center",
          "xref": "paper",
          "y": 0.8622222222222222,
          "yanchor": "bottom",
          "yref": "paper"
         },
         {
          "font": {
           "size": 16
          },
          "showarrow": false,
          "text": "KLD distances for cluster set 3",
          "x": 0.225,
          "xanchor": "center",
          "xref": "paper",
          "y": 0.7933333333333333,
          "yanchor": "bottom",
          "yref": "paper"
         },
         {
          "font": {
           "size": 16
          },
          "showarrow": false,
          "text": "Binder/non binders distribution for cluster set 3",
          "x": 0.775,
          "xanchor": "center",
          "xref": "paper",
          "y": 0.7933333333333333,
          "yanchor": "bottom",
          "yref": "paper"
         },
         {
          "font": {
           "size": 16
          },
          "showarrow": false,
          "text": "KLD distances for cluster set 4",
          "x": 0.225,
          "xanchor": "center",
          "xref": "paper",
          "y": 0.7244444444444444,
          "yanchor": "bottom",
          "yref": "paper"
         },
         {
          "font": {
           "size": 16
          },
          "showarrow": false,
          "text": "Binder/non binders distribution for cluster set 4",
          "x": 0.775,
          "xanchor": "center",
          "xref": "paper",
          "y": 0.7244444444444444,
          "yanchor": "bottom",
          "yref": "paper"
         },
         {
          "font": {
           "size": 16
          },
          "showarrow": false,
          "text": "KLD distances for cluster set 5",
          "x": 0.225,
          "xanchor": "center",
          "xref": "paper",
          "y": 0.6555555555555556,
          "yanchor": "bottom",
          "yref": "paper"
         },
         {
          "font": {
           "size": 16
          },
          "showarrow": false,
          "text": "Binder/non binders distribution for cluster set 5",
          "x": 0.775,
          "xanchor": "center",
          "xref": "paper",
          "y": 0.6555555555555556,
          "yanchor": "bottom",
          "yref": "paper"
         },
         {
          "font": {
           "size": 16
          },
          "showarrow": false,
          "text": "KLD distances for cluster set 6",
          "x": 0.225,
          "xanchor": "center",
          "xref": "paper",
          "y": 0.5866666666666667,
          "yanchor": "bottom",
          "yref": "paper"
         },
         {
          "font": {
           "size": 16
          },
          "showarrow": false,
          "text": "Binder/non binders distribution for cluster set 6",
          "x": 0.775,
          "xanchor": "center",
          "xref": "paper",
          "y": 0.5866666666666667,
          "yanchor": "bottom",
          "yref": "paper"
         },
         {
          "font": {
           "size": 16
          },
          "showarrow": false,
          "text": "KLD distances for cluster set 7",
          "x": 0.225,
          "xanchor": "center",
          "xref": "paper",
          "y": 0.5177777777777778,
          "yanchor": "bottom",
          "yref": "paper"
         },
         {
          "font": {
           "size": 16
          },
          "showarrow": false,
          "text": "Binder/non binders distribution for cluster set 7",
          "x": 0.775,
          "xanchor": "center",
          "xref": "paper",
          "y": 0.5177777777777778,
          "yanchor": "bottom",
          "yref": "paper"
         },
         {
          "font": {
           "size": 16
          },
          "showarrow": false,
          "text": "KLD distances for cluster set 8",
          "x": 0.225,
          "xanchor": "center",
          "xref": "paper",
          "y": 0.4488888888888889,
          "yanchor": "bottom",
          "yref": "paper"
         },
         {
          "font": {
           "size": 16
          },
          "showarrow": false,
          "text": "Binder/non binders distribution for cluster set 8",
          "x": 0.775,
          "xanchor": "center",
          "xref": "paper",
          "y": 0.4488888888888889,
          "yanchor": "bottom",
          "yref": "paper"
         },
         {
          "font": {
           "size": 16
          },
          "showarrow": false,
          "text": "KLD distances for cluster set 9",
          "x": 0.225,
          "xanchor": "center",
          "xref": "paper",
          "y": 0.38,
          "yanchor": "bottom",
          "yref": "paper"
         },
         {
          "font": {
           "size": 16
          },
          "showarrow": false,
          "text": "Binder/non binders distribution for cluster set 9",
          "x": 0.775,
          "xanchor": "center",
          "xref": "paper",
          "y": 0.38,
          "yanchor": "bottom",
          "yref": "paper"
         },
         {
          "font": {
           "size": 16
          },
          "showarrow": false,
          "text": "KLD distances for cluster set 10",
          "x": 0.225,
          "xanchor": "center",
          "xref": "paper",
          "y": 0.3111111111111111,
          "yanchor": "bottom",
          "yref": "paper"
         },
         {
          "font": {
           "size": 16
          },
          "showarrow": false,
          "text": "Binder/non binders distribution for cluster set 10",
          "x": 0.775,
          "xanchor": "center",
          "xref": "paper",
          "y": 0.3111111111111111,
          "yanchor": "bottom",
          "yref": "paper"
         },
         {
          "font": {
           "size": 16
          },
          "showarrow": false,
          "text": "KLD distances for cluster set 11",
          "x": 0.225,
          "xanchor": "center",
          "xref": "paper",
          "y": 0.24222222222222223,
          "yanchor": "bottom",
          "yref": "paper"
         },
         {
          "font": {
           "size": 16
          },
          "showarrow": false,
          "text": "Binder/non binders distribution for cluster set 11",
          "x": 0.775,
          "xanchor": "center",
          "xref": "paper",
          "y": 0.24222222222222223,
          "yanchor": "bottom",
          "yref": "paper"
         },
         {
          "font": {
           "size": 16
          },
          "showarrow": false,
          "text": "KLD distances for cluster set 12",
          "x": 0.225,
          "xanchor": "center",
          "xref": "paper",
          "y": 0.17333333333333334,
          "yanchor": "bottom",
          "yref": "paper"
         },
         {
          "font": {
           "size": 16
          },
          "showarrow": false,
          "text": "Binder/non binders distribution for cluster set 12",
          "x": 0.775,
          "xanchor": "center",
          "xref": "paper",
          "y": 0.17333333333333334,
          "yanchor": "bottom",
          "yref": "paper"
         },
         {
          "font": {
           "size": 16
          },
          "showarrow": false,
          "text": "KLD distances for cluster set 13",
          "x": 0.225,
          "xanchor": "center",
          "xref": "paper",
          "y": 0.10444444444444445,
          "yanchor": "bottom",
          "yref": "paper"
         },
         {
          "font": {
           "size": 16
          },
          "showarrow": false,
          "text": "Binder/non binders distribution for cluster set 13",
          "x": 0.775,
          "xanchor": "center",
          "xref": "paper",
          "y": 0.10444444444444445,
          "yanchor": "bottom",
          "yref": "paper"
         },
         {
          "font": {
           "size": 16
          },
          "showarrow": false,
          "text": "KLD distances for cluster set 14",
          "x": 0.225,
          "xanchor": "center",
          "xref": "paper",
          "y": 0.035555555555555556,
          "yanchor": "bottom",
          "yref": "paper"
         },
         {
          "font": {
           "size": 16
          },
          "showarrow": false,
          "text": "Binder/non binders distribution for cluster set 14",
          "x": 0.775,
          "xanchor": "center",
          "xref": "paper",
          "y": 0.035555555555555556,
          "yanchor": "bottom",
          "yref": "paper"
         }
        ],
        "height": 3000,
        "showlegend": false,
        "template": {
         "data": {
          "bar": [
           {
            "error_x": {
             "color": "#2a3f5f"
            },
            "error_y": {
             "color": "#2a3f5f"
            },
            "marker": {
             "line": {
              "color": "#E5ECF6",
              "width": 0.5
             },
             "pattern": {
              "fillmode": "overlay",
              "size": 10,
              "solidity": 0.2
             }
            },
            "type": "bar"
           }
          ],
          "barpolar": [
           {
            "marker": {
             "line": {
              "color": "#E5ECF6",
              "width": 0.5
             },
             "pattern": {
              "fillmode": "overlay",
              "size": 10,
              "solidity": 0.2
             }
            },
            "type": "barpolar"
           }
          ],
          "carpet": [
           {
            "aaxis": {
             "endlinecolor": "#2a3f5f",
             "gridcolor": "white",
             "linecolor": "white",
             "minorgridcolor": "white",
             "startlinecolor": "#2a3f5f"
            },
            "baxis": {
             "endlinecolor": "#2a3f5f",
             "gridcolor": "white",
             "linecolor": "white",
             "minorgridcolor": "white",
             "startlinecolor": "#2a3f5f"
            },
            "type": "carpet"
           }
          ],
          "choropleth": [
           {
            "colorbar": {
             "outlinewidth": 0,
             "ticks": ""
            },
            "type": "choropleth"
           }
          ],
          "contour": [
           {
            "colorbar": {
             "outlinewidth": 0,
             "ticks": ""
            },
            "colorscale": [
             [
              0,
              "#0d0887"
             ],
             [
              0.1111111111111111,
              "#46039f"
             ],
             [
              0.2222222222222222,
              "#7201a8"
             ],
             [
              0.3333333333333333,
              "#9c179e"
             ],
             [
              0.4444444444444444,
              "#bd3786"
             ],
             [
              0.5555555555555556,
              "#d8576b"
             ],
             [
              0.6666666666666666,
              "#ed7953"
             ],
             [
              0.7777777777777778,
              "#fb9f3a"
             ],
             [
              0.8888888888888888,
              "#fdca26"
             ],
             [
              1,
              "#f0f921"
             ]
            ],
            "type": "contour"
           }
          ],
          "contourcarpet": [
           {
            "colorbar": {
             "outlinewidth": 0,
             "ticks": ""
            },
            "type": "contourcarpet"
           }
          ],
          "heatmap": [
           {
            "colorbar": {
             "outlinewidth": 0,
             "ticks": ""
            },
            "colorscale": [
             [
              0,
              "#0d0887"
             ],
             [
              0.1111111111111111,
              "#46039f"
             ],
             [
              0.2222222222222222,
              "#7201a8"
             ],
             [
              0.3333333333333333,
              "#9c179e"
             ],
             [
              0.4444444444444444,
              "#bd3786"
             ],
             [
              0.5555555555555556,
              "#d8576b"
             ],
             [
              0.6666666666666666,
              "#ed7953"
             ],
             [
              0.7777777777777778,
              "#fb9f3a"
             ],
             [
              0.8888888888888888,
              "#fdca26"
             ],
             [
              1,
              "#f0f921"
             ]
            ],
            "type": "heatmap"
           }
          ],
          "heatmapgl": [
           {
            "colorbar": {
             "outlinewidth": 0,
             "ticks": ""
            },
            "colorscale": [
             [
              0,
              "#0d0887"
             ],
             [
              0.1111111111111111,
              "#46039f"
             ],
             [
              0.2222222222222222,
              "#7201a8"
             ],
             [
              0.3333333333333333,
              "#9c179e"
             ],
             [
              0.4444444444444444,
              "#bd3786"
             ],
             [
              0.5555555555555556,
              "#d8576b"
             ],
             [
              0.6666666666666666,
              "#ed7953"
             ],
             [
              0.7777777777777778,
              "#fb9f3a"
             ],
             [
              0.8888888888888888,
              "#fdca26"
             ],
             [
              1,
              "#f0f921"
             ]
            ],
            "type": "heatmapgl"
           }
          ],
          "histogram": [
           {
            "marker": {
             "pattern": {
              "fillmode": "overlay",
              "size": 10,
              "solidity": 0.2
             }
            },
            "type": "histogram"
           }
          ],
          "histogram2d": [
           {
            "colorbar": {
             "outlinewidth": 0,
             "ticks": ""
            },
            "colorscale": [
             [
              0,
              "#0d0887"
             ],
             [
              0.1111111111111111,
              "#46039f"
             ],
             [
              0.2222222222222222,
              "#7201a8"
             ],
             [
              0.3333333333333333,
              "#9c179e"
             ],
             [
              0.4444444444444444,
              "#bd3786"
             ],
             [
              0.5555555555555556,
              "#d8576b"
             ],
             [
              0.6666666666666666,
              "#ed7953"
             ],
             [
              0.7777777777777778,
              "#fb9f3a"
             ],
             [
              0.8888888888888888,
              "#fdca26"
             ],
             [
              1,
              "#f0f921"
             ]
            ],
            "type": "histogram2d"
           }
          ],
          "histogram2dcontour": [
           {
            "colorbar": {
             "outlinewidth": 0,
             "ticks": ""
            },
            "colorscale": [
             [
              0,
              "#0d0887"
             ],
             [
              0.1111111111111111,
              "#46039f"
             ],
             [
              0.2222222222222222,
              "#7201a8"
             ],
             [
              0.3333333333333333,
              "#9c179e"
             ],
             [
              0.4444444444444444,
              "#bd3786"
             ],
             [
              0.5555555555555556,
              "#d8576b"
             ],
             [
              0.6666666666666666,
              "#ed7953"
             ],
             [
              0.7777777777777778,
              "#fb9f3a"
             ],
             [
              0.8888888888888888,
              "#fdca26"
             ],
             [
              1,
              "#f0f921"
             ]
            ],
            "type": "histogram2dcontour"
           }
          ],
          "mesh3d": [
           {
            "colorbar": {
             "outlinewidth": 0,
             "ticks": ""
            },
            "type": "mesh3d"
           }
          ],
          "parcoords": [
           {
            "line": {
             "colorbar": {
              "outlinewidth": 0,
              "ticks": ""
             }
            },
            "type": "parcoords"
           }
          ],
          "pie": [
           {
            "automargin": true,
            "type": "pie"
           }
          ],
          "scatter": [
           {
            "fillpattern": {
             "fillmode": "overlay",
             "size": 10,
             "solidity": 0.2
            },
            "type": "scatter"
           }
          ],
          "scatter3d": [
           {
            "line": {
             "colorbar": {
              "outlinewidth": 0,
              "ticks": ""
             }
            },
            "marker": {
             "colorbar": {
              "outlinewidth": 0,
              "ticks": ""
             }
            },
            "type": "scatter3d"
           }
          ],
          "scattercarpet": [
           {
            "marker": {
             "colorbar": {
              "outlinewidth": 0,
              "ticks": ""
             }
            },
            "type": "scattercarpet"
           }
          ],
          "scattergeo": [
           {
            "marker": {
             "colorbar": {
              "outlinewidth": 0,
              "ticks": ""
             }
            },
            "type": "scattergeo"
           }
          ],
          "scattergl": [
           {
            "marker": {
             "colorbar": {
              "outlinewidth": 0,
              "ticks": ""
             }
            },
            "type": "scattergl"
           }
          ],
          "scattermapbox": [
           {
            "marker": {
             "colorbar": {
              "outlinewidth": 0,
              "ticks": ""
             }
            },
            "type": "scattermapbox"
           }
          ],
          "scatterpolar": [
           {
            "marker": {
             "colorbar": {
              "outlinewidth": 0,
              "ticks": ""
             }
            },
            "type": "scatterpolar"
           }
          ],
          "scatterpolargl": [
           {
            "marker": {
             "colorbar": {
              "outlinewidth": 0,
              "ticks": ""
             }
            },
            "type": "scatterpolargl"
           }
          ],
          "scatterternary": [
           {
            "marker": {
             "colorbar": {
              "outlinewidth": 0,
              "ticks": ""
             }
            },
            "type": "scatterternary"
           }
          ],
          "surface": [
           {
            "colorbar": {
             "outlinewidth": 0,
             "ticks": ""
            },
            "colorscale": [
             [
              0,
              "#0d0887"
             ],
             [
              0.1111111111111111,
              "#46039f"
             ],
             [
              0.2222222222222222,
              "#7201a8"
             ],
             [
              0.3333333333333333,
              "#9c179e"
             ],
             [
              0.4444444444444444,
              "#bd3786"
             ],
             [
              0.5555555555555556,
              "#d8576b"
             ],
             [
              0.6666666666666666,
              "#ed7953"
             ],
             [
              0.7777777777777778,
              "#fb9f3a"
             ],
             [
              0.8888888888888888,
              "#fdca26"
             ],
             [
              1,
              "#f0f921"
             ]
            ],
            "type": "surface"
           }
          ],
          "table": [
           {
            "cells": {
             "fill": {
              "color": "#EBF0F8"
             },
             "line": {
              "color": "white"
             }
            },
            "header": {
             "fill": {
              "color": "#C8D4E3"
             },
             "line": {
              "color": "white"
             }
            },
            "type": "table"
           }
          ]
         },
         "layout": {
          "annotationdefaults": {
           "arrowcolor": "#2a3f5f",
           "arrowhead": 0,
           "arrowwidth": 1
          },
          "autotypenumbers": "strict",
          "coloraxis": {
           "colorbar": {
            "outlinewidth": 0,
            "ticks": ""
           }
          },
          "colorscale": {
           "diverging": [
            [
             0,
             "#8e0152"
            ],
            [
             0.1,
             "#c51b7d"
            ],
            [
             0.2,
             "#de77ae"
            ],
            [
             0.3,
             "#f1b6da"
            ],
            [
             0.4,
             "#fde0ef"
            ],
            [
             0.5,
             "#f7f7f7"
            ],
            [
             0.6,
             "#e6f5d0"
            ],
            [
             0.7,
             "#b8e186"
            ],
            [
             0.8,
             "#7fbc41"
            ],
            [
             0.9,
             "#4d9221"
            ],
            [
             1,
             "#276419"
            ]
           ],
           "sequential": [
            [
             0,
             "#0d0887"
            ],
            [
             0.1111111111111111,
             "#46039f"
            ],
            [
             0.2222222222222222,
             "#7201a8"
            ],
            [
             0.3333333333333333,
             "#9c179e"
            ],
            [
             0.4444444444444444,
             "#bd3786"
            ],
            [
             0.5555555555555556,
             "#d8576b"
            ],
            [
             0.6666666666666666,
             "#ed7953"
            ],
            [
             0.7777777777777778,
             "#fb9f3a"
            ],
            [
             0.8888888888888888,
             "#fdca26"
            ],
            [
             1,
             "#f0f921"
            ]
           ],
           "sequentialminus": [
            [
             0,
             "#0d0887"
            ],
            [
             0.1111111111111111,
             "#46039f"
            ],
            [
             0.2222222222222222,
             "#7201a8"
            ],
            [
             0.3333333333333333,
             "#9c179e"
            ],
            [
             0.4444444444444444,
             "#bd3786"
            ],
            [
             0.5555555555555556,
             "#d8576b"
            ],
            [
             0.6666666666666666,
             "#ed7953"
            ],
            [
             0.7777777777777778,
             "#fb9f3a"
            ],
            [
             0.8888888888888888,
             "#fdca26"
            ],
            [
             1,
             "#f0f921"
            ]
           ]
          },
          "colorway": [
           "#636efa",
           "#EF553B",
           "#00cc96",
           "#ab63fa",
           "#FFA15A",
           "#19d3f3",
           "#FF6692",
           "#B6E880",
           "#FF97FF",
           "#FECB52"
          ],
          "font": {
           "color": "#2a3f5f"
          },
          "geo": {
           "bgcolor": "white",
           "lakecolor": "white",
           "landcolor": "#E5ECF6",
           "showlakes": true,
           "showland": true,
           "subunitcolor": "white"
          },
          "hoverlabel": {
           "align": "left"
          },
          "hovermode": "closest",
          "mapbox": {
           "style": "light"
          },
          "paper_bgcolor": "white",
          "plot_bgcolor": "#E5ECF6",
          "polar": {
           "angularaxis": {
            "gridcolor": "white",
            "linecolor": "white",
            "ticks": ""
           },
           "bgcolor": "#E5ECF6",
           "radialaxis": {
            "gridcolor": "white",
            "linecolor": "white",
            "ticks": ""
           }
          },
          "scene": {
           "xaxis": {
            "backgroundcolor": "#E5ECF6",
            "gridcolor": "white",
            "gridwidth": 2,
            "linecolor": "white",
            "showbackground": true,
            "ticks": "",
            "zerolinecolor": "white"
           },
           "yaxis": {
            "backgroundcolor": "#E5ECF6",
            "gridcolor": "white",
            "gridwidth": 2,
            "linecolor": "white",
            "showbackground": true,
            "ticks": "",
            "zerolinecolor": "white"
           },
           "zaxis": {
            "backgroundcolor": "#E5ECF6",
            "gridcolor": "white",
            "gridwidth": 2,
            "linecolor": "white",
            "showbackground": true,
            "ticks": "",
            "zerolinecolor": "white"
           }
          },
          "shapedefaults": {
           "line": {
            "color": "#2a3f5f"
           }
          },
          "ternary": {
           "aaxis": {
            "gridcolor": "white",
            "linecolor": "white",
            "ticks": ""
           },
           "baxis": {
            "gridcolor": "white",
            "linecolor": "white",
            "ticks": ""
           },
           "bgcolor": "#E5ECF6",
           "caxis": {
            "gridcolor": "white",
            "linecolor": "white",
            "ticks": ""
           }
          },
          "title": {
           "x": 0.05
          },
          "xaxis": {
           "automargin": true,
           "gridcolor": "white",
           "linecolor": "white",
           "ticks": "",
           "title": {
            "standoff": 15
           },
           "zerolinecolor": "white",
           "zerolinewidth": 2
          },
          "yaxis": {
           "automargin": true,
           "gridcolor": "white",
           "linecolor": "white",
           "ticks": "",
           "title": {
            "standoff": 15
           },
           "zerolinecolor": "white",
           "zerolinewidth": 2
          }
         }
        },
        "title": {
         "text": "KLD (left) and count (right) for each cluster set"
        },
        "width": 1600,
        "xaxis": {
         "anchor": "y",
         "domain": [
          0,
          0.45
         ]
        },
        "xaxis10": {
         "anchor": "y10",
         "domain": [
          0.55,
          1
         ]
        },
        "xaxis11": {
         "anchor": "y11",
         "domain": [
          0,
          0.45
         ]
        },
        "xaxis12": {
         "anchor": "y12",
         "domain": [
          0.55,
          1
         ]
        },
        "xaxis13": {
         "anchor": "y13",
         "domain": [
          0,
          0.45
         ]
        },
        "xaxis14": {
         "anchor": "y14",
         "domain": [
          0.55,
          1
         ]
        },
        "xaxis15": {
         "anchor": "y15",
         "domain": [
          0,
          0.45
         ]
        },
        "xaxis16": {
         "anchor": "y16",
         "domain": [
          0.55,
          1
         ]
        },
        "xaxis17": {
         "anchor": "y17",
         "domain": [
          0,
          0.45
         ]
        },
        "xaxis18": {
         "anchor": "y18",
         "domain": [
          0.55,
          1
         ]
        },
        "xaxis19": {
         "anchor": "y19",
         "domain": [
          0,
          0.45
         ]
        },
        "xaxis2": {
         "anchor": "y2",
         "domain": [
          0.55,
          1
         ]
        },
        "xaxis20": {
         "anchor": "y20",
         "domain": [
          0.55,
          1
         ]
        },
        "xaxis21": {
         "anchor": "y21",
         "domain": [
          0,
          0.45
         ]
        },
        "xaxis22": {
         "anchor": "y22",
         "domain": [
          0.55,
          1
         ]
        },
        "xaxis23": {
         "anchor": "y23",
         "domain": [
          0,
          0.45
         ]
        },
        "xaxis24": {
         "anchor": "y24",
         "domain": [
          0.55,
          1
         ]
        },
        "xaxis25": {
         "anchor": "y25",
         "domain": [
          0,
          0.45
         ]
        },
        "xaxis26": {
         "anchor": "y26",
         "domain": [
          0.55,
          1
         ]
        },
        "xaxis27": {
         "anchor": "y27",
         "domain": [
          0,
          0.45
         ]
        },
        "xaxis28": {
         "anchor": "y28",
         "domain": [
          0.55,
          1
         ]
        },
        "xaxis29": {
         "anchor": "y29",
         "domain": [
          0,
          0.45
         ]
        },
        "xaxis3": {
         "anchor": "y3",
         "domain": [
          0,
          0.45
         ]
        },
        "xaxis30": {
         "anchor": "y30",
         "domain": [
          0.55,
          1
         ]
        },
        "xaxis4": {
         "anchor": "y4",
         "domain": [
          0.55,
          1
         ]
        },
        "xaxis5": {
         "anchor": "y5",
         "domain": [
          0,
          0.45
         ]
        },
        "xaxis6": {
         "anchor": "y6",
         "domain": [
          0.55,
          1
         ]
        },
        "xaxis7": {
         "anchor": "y7",
         "domain": [
          0,
          0.45
         ]
        },
        "xaxis8": {
         "anchor": "y8",
         "domain": [
          0.55,
          1
         ]
        },
        "xaxis9": {
         "anchor": "y9",
         "domain": [
          0,
          0.45
         ]
        },
        "yaxis": {
         "anchor": "x",
         "domain": [
          0.9644444444444444,
          1
         ]
        },
        "yaxis10": {
         "anchor": "x10",
         "domain": [
          0.6888888888888889,
          0.7244444444444444
         ]
        },
        "yaxis11": {
         "anchor": "x11",
         "domain": [
          0.62,
          0.6555555555555556
         ]
        },
        "yaxis12": {
         "anchor": "x12",
         "domain": [
          0.62,
          0.6555555555555556
         ]
        },
        "yaxis13": {
         "anchor": "x13",
         "domain": [
          0.5511111111111111,
          0.5866666666666667
         ]
        },
        "yaxis14": {
         "anchor": "x14",
         "domain": [
          0.5511111111111111,
          0.5866666666666667
         ]
        },
        "yaxis15": {
         "anchor": "x15",
         "domain": [
          0.4822222222222222,
          0.5177777777777778
         ]
        },
        "yaxis16": {
         "anchor": "x16",
         "domain": [
          0.4822222222222222,
          0.5177777777777778
         ]
        },
        "yaxis17": {
         "anchor": "x17",
         "domain": [
          0.41333333333333333,
          0.4488888888888889
         ]
        },
        "yaxis18": {
         "anchor": "x18",
         "domain": [
          0.41333333333333333,
          0.4488888888888889
         ]
        },
        "yaxis19": {
         "anchor": "x19",
         "domain": [
          0.34444444444444444,
          0.38
         ]
        },
        "yaxis2": {
         "anchor": "x2",
         "domain": [
          0.9644444444444444,
          1
         ]
        },
        "yaxis20": {
         "anchor": "x20",
         "domain": [
          0.34444444444444444,
          0.38
         ]
        },
        "yaxis21": {
         "anchor": "x21",
         "domain": [
          0.27555555555555555,
          0.3111111111111111
         ]
        },
        "yaxis22": {
         "anchor": "x22",
         "domain": [
          0.27555555555555555,
          0.3111111111111111
         ]
        },
        "yaxis23": {
         "anchor": "x23",
         "domain": [
          0.20666666666666667,
          0.24222222222222223
         ]
        },
        "yaxis24": {
         "anchor": "x24",
         "domain": [
          0.20666666666666667,
          0.24222222222222223
         ]
        },
        "yaxis25": {
         "anchor": "x25",
         "domain": [
          0.13777777777777778,
          0.17333333333333334
         ]
        },
        "yaxis26": {
         "anchor": "x26",
         "domain": [
          0.13777777777777778,
          0.17333333333333334
         ]
        },
        "yaxis27": {
         "anchor": "x27",
         "domain": [
          0.06888888888888889,
          0.10444444444444445
         ]
        },
        "yaxis28": {
         "anchor": "x28",
         "domain": [
          0.06888888888888889,
          0.10444444444444445
         ]
        },
        "yaxis29": {
         "anchor": "x29",
         "domain": [
          0,
          0.035555555555555556
         ]
        },
        "yaxis3": {
         "anchor": "x3",
         "domain": [
          0.8955555555555557,
          0.9311111111111112
         ]
        },
        "yaxis30": {
         "anchor": "x30",
         "domain": [
          0,
          0.035555555555555556
         ]
        },
        "yaxis4": {
         "anchor": "x4",
         "domain": [
          0.8955555555555557,
          0.9311111111111112
         ]
        },
        "yaxis5": {
         "anchor": "x5",
         "domain": [
          0.8266666666666667,
          0.8622222222222222
         ]
        },
        "yaxis6": {
         "anchor": "x6",
         "domain": [
          0.8266666666666667,
          0.8622222222222222
         ]
        },
        "yaxis7": {
         "anchor": "x7",
         "domain": [
          0.7577777777777778,
          0.7933333333333333
         ]
        },
        "yaxis8": {
         "anchor": "x8",
         "domain": [
          0.7577777777777778,
          0.7933333333333333
         ]
        },
        "yaxis9": {
         "anchor": "x9",
         "domain": [
          0.6888888888888889,
          0.7244444444444444
         ]
        }
       }
      }
     },
     "metadata": {},
     "output_type": "display_data"
    }
   ],
   "source": [
    "# visualize a specific set of cluster mean \n",
    "titles_list = [\n",
    "        [f\"KLD distances for cluster set {i+1}\", f\"Binder/non binders distribution for cluster set {i+1}\"]\n",
    "        for i in range(15)\n",
    "    ]\n",
    "def flatten(l):\n",
    "    return [item for sublist in l for item in sublist]\n",
    "\n",
    "#number of peptides per cluster:\n",
    "fig = make_subplots(\n",
    "    rows=15,\n",
    "    cols=2,\n",
    "    start_cell=\"top-left\",\n",
    "    subplot_titles = flatten(titles_list)\n",
    ")\n",
    "fig.update_layout(\n",
    "    height=3000,\n",
    "    width=1600,\n",
    "    title_text=\"KLD (left) and count (right) for each cluster set\",\n",
    "    showlegend=False,\n",
    ")\n",
    "\n",
    "for i in range(15):\n",
    "    # First col:\n",
    "    fig.add_trace(\n",
    "        go.Bar(\n",
    "            x=list(cluster_set_cluster_kld[i].keys()), \n",
    "            y=list(cluster_set_cluster_kld[i].values()),\n",
    "            marker_color=\"blue\"\n",
    "            # title=f\"KLD distance for each cluster in cluster set {i}\",\n",
    "            # labels = {\n",
    "            #     \"y\": \"KLD\",\n",
    "            #     \"x\": \"cluster\"\n",
    "            # }\n",
    "        ),\n",
    "        row=i+1, col=1,\n",
    "    )\n",
    "    df_grouped_clusters = df.groupby([f\"cluster_set_{i+1}\", \"binder\"], as_index=False).size()\n",
    "\n",
    "    # Second col (with stacked binders and non binders)\n",
    "    fig.add_trace( # binders\n",
    "        go.Bar(\n",
    "            x=list(range(i+1)), \n",
    "            y=df_grouped_clusters.loc[df_grouped_clusters[\"binder\"] == True][\"size\"],\n",
    "            offsetgroup=0,\n",
    "            marker_color=\"green\"\n",
    "        ),\n",
    "        row=i+1, col=2\n",
    "    )\n",
    "\n",
    "    fig.add_trace( # non binders\n",
    "        go.Bar(\n",
    "            x=list(range(i+1)), \n",
    "            y=df_grouped_clusters.loc[df_grouped_clusters[\"binder\"] == False][\"size\"],\n",
    "            offsetgroup=0,\n",
    "            base=df_grouped_clusters.loc[df_grouped_clusters[\"binder\"] == True][\"size\"],\n",
    "            marker_color=\"red\"\n",
    "        ),\n",
    "        row=i+1, col=2\n",
    "    )\n",
    "fig.show()\n"
   ]
  },
  {
   "cell_type": "code",
   "execution_count": null,
   "metadata": {},
   "outputs": [],
   "source": [
    "# visualize distribution of binders/non binders per cluster:\n",
    "df_binders = df.groupby([\"cluster\", \"binder\"]).size().reset_index()\n",
    "\n",
    "fig = px.bar(df_binders, x=\"cluster\", y=0, color=\"binder\", title=\"Frequency of binders per cluster\")\n",
    "fig.show()"
   ]
  },
  {
   "cell_type": "code",
   "execution_count": null,
   "metadata": {},
   "outputs": [],
   "source": []
  }
 ],
 "metadata": {
  "kernelspec": {
   "display_name": "deeprank",
   "language": "python",
   "name": "python3"
  },
  "language_info": {
   "codemirror_mode": {
    "name": "ipython",
    "version": 3
   },
   "file_extension": ".py",
   "mimetype": "text/x-python",
   "name": "python",
   "nbconvert_exporter": "python",
   "pygments_lexer": "ipython3",
   "version": "3.10.6"
  },
  "orig_nbformat": 4,
  "vscode": {
   "interpreter": {
    "hash": "e0f11ea36265c7a09575b72ab023a91955654eee7154dd519d25c1189c46f9fd"
   }
  }
 },
 "nbformat": 4,
 "nbformat_minor": 2
}
