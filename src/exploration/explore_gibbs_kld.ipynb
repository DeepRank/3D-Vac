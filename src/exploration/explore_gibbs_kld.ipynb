{
 "cells": [
  {
   "attachments": {},
   "cell_type": "markdown",
   "metadata": {},
   "source": [
    "## Description\n",
    "Script used to plot the mean KLD (from background noise) of each generated cluster set from the path of the `result_f` variable.\n",
    "Plots the distribution of binder and non binder for each cluster in each cluster set."
   ]
  },
  {
   "cell_type": "code",
   "execution_count": 1,
   "metadata": {},
   "outputs": [],
   "source": [
    "import re\n",
    "import matplotlib.pyplot as plt\n",
    "import glob\n",
    "import numpy as np\n",
    "import pandas as pd\n",
    "import plotly.graph_objects as go\n",
    "pd.options.plotting.backend = \"plotly\"\n",
    "from plotly.subplots import make_subplots\n",
    "df = pd.read_csv(\"../../data/external/processed/all_hla_anch_rep_trash_off.csv\") # used for binder/non binder ploting\n",
    "df[\"binder\"] = df[\"measurement_value\"].apply(lambda x: True if x < 500 else False)"
   ]
  },
  {
   "cell_type": "code",
   "execution_count": 2,
   "metadata": {},
   "outputs": [
    {
     "data": {
      "image/png": "[encoded data removed]",
      "text/plain": [
       "<Figure size 432x288 with 1 Axes>"
      ]
     },
     "metadata": {
      "needs_background": "light"
     },
     "output_type": "display_data"
    }
   ],
   "source": [
    "max_clusters = 15\n",
    "clusters = range(1, max_clusters+1)\n",
    "cluster_mean_kld = []\n",
    "cluster_set_cluster_kld = []\n",
    "for i in clusters:\n",
    "    result_f = open(f\"/home/daqop/mountpoint_snellius/softwares/gibbscluster-2.0/run/all_hla_peptides_anchor_representation_1_15_clusters_no_trash_1075335/res/gibbs.{i}g.out\")\n",
    "    average_klds_lines = [line.replace(\"\\n\", \"\") for line in result_f if \"Final KLD sum after\" in line and \"###\" not in line]\n",
    "\n",
    "    klds = []\n",
    "    clusters_in_set = []\n",
    "    for l in average_klds_lines:\n",
    "        cluster = re.search(\"(?<=group\\s)[0-9]*\", l).group()\n",
    "        kld = re.search(\"(?<=epochs\\s-\\s)[+-]?([0-9]*[.])?[0-9]*\", l).group()\n",
    "        klds.append(float(kld))\n",
    "        clusters_in_set.append(str(cluster))\n",
    "    cluster_set_cluster_kld.append(dict(zip(clusters_in_set, klds)))\n",
    "    klds = np.array(klds)\n",
    "    cluster_mean_kld.append(klds.mean())\n",
    "\n",
    "#convert to np.array for sorting based on indices\n",
    "cluster_mean_kld = np.array(cluster_mean_kld)\n",
    "clusters = np.array(clusters)\n",
    "\n",
    "# generate sorted indices and reorder arrays:\n",
    "sorted_indices = np.argsort(cluster_mean_kld)\n",
    "cluster_mean_kld = cluster_mean_kld[sorted_indices]\n",
    "clusters = clusters[sorted_indices]\n",
    "\n",
    "plt.bar([str(cluster) for cluster in clusters], height=cluster_mean_kld)\n",
    "plt.title(\"Mean KLD distance for each set of clusters\")\n",
    "plt.xlabel(\"Cluster set\")\n",
    "plt.ylabel(\"Mean distance over each cluster of the set\")\n",
    "plt.savefig(\"../../reports/figures/gibbs_clusters/kld_mean_distances_anch_rep_trash_off.svg\")\n"
   ]
  },
  {
   "cell_type": "code",
   "execution_count": 3,
   "metadata": {},
   "outputs": [
    {
     "data": {
      "application/vnd.plotly.v1+json": {
       "config": {
        "plotlyServerURL": "https://plot.ly"
       },
       "data": [
        {
         "marker": {
          "color": "blue"
         },
         "type": "bar",
         "x": [
          "0"
         ],
         "xaxis": "x",
         "y": [
          2.078255
         ],
         "yaxis": "y"
        },
        {
         "marker": {
          "color": "green"
         },
         "offsetgroup": "0",
         "type": "bar",
         "x": [
          0
         ],
         "xaxis": "x2",
         "y": [
          44145
         ],
         "yaxis": "y2"
        },
        {
         "base": [
          44145
         ],
         "marker": {
          "color": "red"
         },
         "offsetgroup": "0",
         "type": "bar",
         "x": [
          0
         ],
         "xaxis": "x2",
         "y": [
          56170
         ],
         "yaxis": "y2"
        },
        {
         "marker": {
          "color": "blue"
         },
         "type": "bar",
         "x": [
          "0",
          "1"
         ],
         "xaxis": "x3",
         "y": [
          4.247573,
          3.859368
         ],
         "yaxis": "y3"
        },
        {
         "marker": {
          "color": "green"
         },
         "offsetgroup": "0",
         "type": "bar",
         "x": [
          0,
          1
         ],
         "xaxis": "x4",
         "y": [
          18614,
          25531
         ],
         "yaxis": "y4"
        },
        {
         "base": [
          18614,
          25531
         ],
         "marker": {
          "color": "red"
         },
         "offsetgroup": "0",
         "type": "bar",
         "x": [
          0,
          1
         ],
         "xaxis": "x4",
         "y": [
          23962,
          32208
         ],
         "yaxis": "y4"
        },
        {
         "marker": {
          "color": "blue"
         },
         "type": "bar",
         "x": [
          "0",
          "1",
          "2"
         ],
         "xaxis": "x5",
         "y": [
          3.600478,
          3.919797,
          4.465514
         ],
         "yaxis": "y5"
        },
        {
         "marker": {
          "color": "green"
         },
         "offsetgroup": "0",
         "type": "bar",
         "x": [
          0,
          1,
          2
         ],
         "xaxis": "x6",
         "y": [
          13424,
          14409,
          16312
         ],
         "yaxis": "y6"
        },
        {
         "base": [
          13424,
          14409,
          16312
         ],
         "marker": {
          "color": "red"
         },
         "offsetgroup": "0",
         "type": "bar",
         "x": [
          0,
          1,
          2
         ],
         "xaxis": "x6",
         "y": [
          19502,
          15599,
          21069
         ],
         "yaxis": "y6"
        },
        {
         "marker": {
          "color": "blue"
         },
         "type": "bar",
         "x": [
          "0",
          "1",
          "2",
          "3"
         ],
         "xaxis": "x7",
         "y": [
          2.804435,
          3.385884,
          3.077021,
          4.004848
         ],
         "yaxis": "y7"
        },
        {
         "marker": {
          "color": "green"
         },
         "offsetgroup": "0",
         "type": "bar",
         "x": [
          0,
          1,
          2,
          3
         ],
         "xaxis": "x8",
         "y": [
          10192,
          8674,
          10348,
          14931
         ],
         "yaxis": "y8"
        },
        {
         "base": [
          10192,
          8674,
          10348,
          14931
         ],
         "marker": {
          "color": "red"
         },
         "offsetgroup": "0",
         "type": "bar",
         "x": [
          0,
          1,
          2,
          3
         ],
         "xaxis": "x8",
         "y": [
          14712,
          15190,
          11584,
          14684
         ],
         "yaxis": "y8"
        },
        {
         "marker": {
          "color": "blue"
         },
         "type": "bar",
         "x": [
          "0",
          "1",
          "2",
          "3",
          "4"
         ],
         "xaxis": "x9",
         "y": [
          3.179701,
          3.409104,
          2.994171,
          3.888912,
          4.053554
         ],
         "yaxis": "y9"
        },
        {
         "marker": {
          "color": "green"
         },
         "offsetgroup": "0",
         "type": "bar",
         "x": [
          0,
          1,
          2,
          3,
          4
         ],
         "xaxis": "x10",
         "y": [
          8379,
          10327,
          7395,
          7445,
          10599
         ],
         "yaxis": "y10"
        },
        {
         "base": [
          8379,
          10327,
          7395,
          7445,
          10599
         ],
         "marker": {
          "color": "red"
         },
         "offsetgroup": "0",
         "type": "bar",
         "x": [
          0,
          1,
          2,
          3,
          4
         ],
         "xaxis": "x10",
         "y": [
          9440,
          11631,
          10836,
          12389,
          11874
         ],
         "yaxis": "y10"
        },
        {
         "marker": {
          "color": "blue"
         },
         "type": "bar",
         "x": [
          "0",
          "1",
          "2",
          "3",
          "4",
          "5"
         ],
         "xaxis": "x11",
         "y": [
          3.701238,
          3.917589,
          4.037267,
          3.487241,
          3.854453,
          3.58291
         ],
         "yaxis": "y11"
        },
        {
         "marker": {
          "color": "green"
         },
         "offsetgroup": "0",
         "type": "bar",
         "x": [
          0,
          1,
          2,
          3,
          4,
          5
         ],
         "xaxis": "x12",
         "y": [
          7770,
          7337,
          8059,
          6166,
          9431,
          5382
         ],
         "yaxis": "y12"
        },
        {
         "base": [
          7770,
          7337,
          8059,
          6166,
          9431,
          5382
         ],
         "marker": {
          "color": "red"
         },
         "offsetgroup": "0",
         "type": "bar",
         "x": [
          0,
          1,
          2,
          3,
          4,
          5
         ],
         "xaxis": "x12",
         "y": [
          7744,
          8629,
          10765,
          11598,
          9238,
          8196
         ],
         "yaxis": "y12"
        },
        {
         "marker": {
          "color": "blue"
         },
         "type": "bar",
         "x": [
          "0",
          "1",
          "2",
          "3",
          "4",
          "5",
          "6"
         ],
         "xaxis": "x13",
         "y": [
          3.465798,
          3.476191,
          3.792883,
          3.20716,
          4.038808,
          3.965962,
          4.51451
         ],
         "yaxis": "y13"
        },
        {
         "marker": {
          "color": "green"
         },
         "offsetgroup": "0",
         "type": "bar",
         "x": [
          0,
          1,
          2,
          3,
          4,
          5,
          6
         ],
         "xaxis": "x14",
         "y": [
          5557,
          5426,
          4294,
          6513,
          5045,
          6625,
          10685
         ],
         "yaxis": "y14"
        },
        {
         "base": [
          5557,
          5426,
          4294,
          6513,
          5045,
          6625,
          10685
         ],
         "marker": {
          "color": "red"
         },
         "offsetgroup": "0",
         "type": "bar",
         "x": [
          0,
          1,
          2,
          3,
          4,
          5,
          6
         ],
         "xaxis": "x14",
         "y": [
          7428,
          8488,
          7154,
          7652,
          7832,
          9284,
          8332
         ],
         "yaxis": "y14"
        },
        {
         "marker": {
          "color": "blue"
         },
         "type": "bar",
         "x": [
          "0",
          "1",
          "2",
          "3",
          "4",
          "5",
          "6",
          "7"
         ],
         "xaxis": "x15",
         "y": [
          3.720882,
          3.079214,
          3.703656,
          4.197097,
          4.065071,
          3.64628,
          3.692962,
          3.495491
         ],
         "yaxis": "y15"
        },
        {
         "marker": {
          "color": "green"
         },
         "offsetgroup": "0",
         "type": "bar",
         "x": [
          0,
          1,
          2,
          3,
          4,
          5,
          6,
          7
         ],
         "xaxis": "x16",
         "y": [
          5192,
          4293,
          4665,
          5728,
          6505,
          6612,
          6347,
          4803
         ],
         "yaxis": "y16"
        },
        {
         "base": [
          5192,
          4293,
          4665,
          5728,
          6505,
          6612,
          6347,
          4803
         ],
         "marker": {
          "color": "red"
         },
         "offsetgroup": "0",
         "type": "bar",
         "x": [
          0,
          1,
          2,
          3,
          4,
          5,
          6,
          7
         ],
         "xaxis": "x16",
         "y": [
          7929,
          7871,
          6513,
          6321,
          6887,
          7838,
          6109,
          6702
         ],
         "yaxis": "y16"
        },
        {
         "marker": {
          "color": "blue"
         },
         "type": "bar",
         "x": [
          "0",
          "1",
          "2",
          "3",
          "4",
          "5",
          "6",
          "7",
          "8"
         ],
         "xaxis": "x17",
         "y": [
          4.083938,
          3.762151,
          3.429633,
          3.553453,
          3.561618,
          3.476033,
          3.272699,
          3.901236,
          3.639096
         ],
         "yaxis": "y17"
        },
        {
         "marker": {
          "color": "green"
         },
         "offsetgroup": "0",
         "type": "bar",
         "x": [
          0,
          1,
          2,
          3,
          4,
          5,
          6,
          7,
          8
         ],
         "xaxis": "x18",
         "y": [
          6901,
          3921,
          3826,
          4583,
          4863,
          4732,
          5056,
          6132,
          4131
         ],
         "yaxis": "y18"
        },
        {
         "base": [
          6901,
          3921,
          3826,
          4583,
          4863,
          4732,
          5056,
          6132,
          4131
         ],
         "marker": {
          "color": "red"
         },
         "offsetgroup": "0",
         "type": "bar",
         "x": [
          0,
          1,
          2,
          3,
          4,
          5,
          6,
          7,
          8
         ],
         "xaxis": "x18",
         "y": [
          6146,
          6001,
          5815,
          5873,
          7129,
          6123,
          6373,
          6656,
          6054
         ],
         "yaxis": "y18"
        },
        {
         "marker": {
          "color": "blue"
         },
         "type": "bar",
         "x": [
          "0",
          "1",
          "2",
          "3",
          "4",
          "5",
          "6",
          "7",
          "8",
          "9"
         ],
         "xaxis": "x19",
         "y": [
          4.072625,
          3.281971,
          3.950995,
          3.416309,
          3.373346,
          3.514027,
          4.036025,
          3.347819,
          3.983039,
          4.688555
         ],
         "yaxis": "y19"
        },
        {
         "marker": {
          "color": "green"
         },
         "offsetgroup": "0",
         "type": "bar",
         "x": [
          0,
          1,
          2,
          3,
          4,
          5,
          6,
          7,
          8,
          9
         ],
         "xaxis": "x20",
         "y": [
          7024,
          3464,
          4440,
          3456,
          3562,
          5144,
          4408,
          3279,
          4662,
          4706
         ],
         "yaxis": "y20"
        },
        {
         "base": [
          7024,
          3464,
          4440,
          3456,
          3562,
          5144,
          4408,
          3279,
          4662,
          4706
         ],
         "marker": {
          "color": "red"
         },
         "offsetgroup": "0",
         "type": "bar",
         "x": [
          0,
          1,
          2,
          3,
          4,
          5,
          6,
          7,
          8,
          9
         ],
         "xaxis": "x20",
         "y": [
          5481,
          5487,
          4618,
          6453,
          4916,
          6051,
          4916,
          6108,
          6741,
          5399
         ],
         "yaxis": "y20"
        },
        {
         "marker": {
          "color": "blue"
         },
         "type": "bar",
         "x": [
          "0",
          "1",
          "2",
          "3",
          "4",
          "5",
          "6",
          "7",
          "8",
          "9",
          "10"
         ],
         "xaxis": "x21",
         "y": [
          3.356653,
          3.577523,
          3.648419,
          3.62704,
          3.89457,
          3.655755,
          3.558657,
          4.194255,
          4.275043,
          3.594118,
          3.640954
         ],
         "yaxis": "y21"
        },
        {
         "marker": {
          "color": "green"
         },
         "offsetgroup": "0",
         "type": "bar",
         "x": [
          0,
          1,
          2,
          3,
          4,
          5,
          6,
          7,
          8,
          9,
          10
         ],
         "xaxis": "x22",
         "y": [
          3801,
          4740,
          2849,
          3153,
          4995,
          3887,
          4943,
          4421,
          4357,
          3542,
          3457
         ],
         "yaxis": "y22"
        },
        {
         "base": [
          3801,
          4740,
          2849,
          3153,
          4995,
          3887,
          4943,
          4421,
          4357,
          3542,
          3457
         ],
         "marker": {
          "color": "red"
         },
         "offsetgroup": "0",
         "type": "bar",
         "x": [
          0,
          1,
          2,
          3,
          4,
          5,
          6,
          7,
          8,
          9,
          10
         ],
         "xaxis": "x22",
         "y": [
          5251,
          5285,
          5073,
          4513,
          5595,
          4968,
          4902,
          6288,
          4336,
          5726,
          4233
         ],
         "yaxis": "y22"
        },
        {
         "marker": {
          "color": "blue"
         },
         "type": "bar",
         "x": [
          "0",
          "1",
          "2",
          "3",
          "4",
          "5",
          "6",
          "7",
          "8",
          "9",
          "10",
          "11"
         ],
         "xaxis": "x23",
         "y": [
          3.649795,
          4.380034,
          3.812912,
          3.288025,
          3.700903,
          3.69556,
          3.569968,
          3.799669,
          3.492177,
          3.817331,
          3.760573,
          4.472422
         ],
         "yaxis": "y23"
        },
        {
         "marker": {
          "color": "green"
         },
         "offsetgroup": "0",
         "type": "bar",
         "x": [
          0,
          1,
          2,
          3,
          4,
          5,
          6,
          7,
          8,
          9,
          10,
          11
         ],
         "xaxis": "x24",
         "y": [
          4386,
          2745,
          3869,
          2515,
          3578,
          3239,
          3171,
          4384,
          2719,
          3763,
          5160,
          4616
         ],
         "yaxis": "y24"
        },
        {
         "base": [
          4386,
          2745,
          3869,
          2515,
          3578,
          3239,
          3171,
          4384,
          2719,
          3763,
          5160,
          4616
         ],
         "marker": {
          "color": "red"
         },
         "offsetgroup": "0",
         "type": "bar",
         "x": [
          0,
          1,
          2,
          3,
          4,
          5,
          6,
          7,
          8,
          9,
          10,
          11
         ],
         "xaxis": "x24",
         "y": [
          4911,
          4509,
          4742,
          3929,
          4210,
          5831,
          3911,
          4540,
          4959,
          5695,
          4708,
          4225
         ],
         "yaxis": "y24"
        },
        {
         "marker": {
          "color": "blue"
         },
         "type": "bar",
         "x": [
          "0",
          "1",
          "2",
          "3",
          "4",
          "5",
          "6",
          "7",
          "8",
          "9",
          "10",
          "11",
          "12"
         ],
         "xaxis": "x25",
         "y": [
          3.597032,
          3.475482,
          3.623827,
          3.841846,
          3.926229,
          3.805228,
          3.696707,
          3.8058,
          3.882765,
          3.696892,
          3.520734,
          3.943828,
          3.860006
         ],
         "yaxis": "y25"
        },
        {
         "marker": {
          "color": "green"
         },
         "offsetgroup": "0",
         "type": "bar",
         "x": [
          0,
          1,
          2,
          3,
          4,
          5,
          6,
          7,
          8,
          9,
          10,
          11,
          12
         ],
         "xaxis": "x26",
         "y": [
          2571,
          3629,
          3224,
          3400,
          2599,
          3537,
          3763,
          3511,
          4915,
          3288,
          2282,
          4422,
          3004
         ],
         "yaxis": "y26"
        },
        {
         "base": [
          2571,
          3629,
          3224,
          3400,
          2599,
          3537,
          3763,
          3511,
          4915,
          3288,
          2282,
          4422,
          3004
         ],
         "marker": {
          "color": "red"
         },
         "offsetgroup": "0",
         "type": "bar",
         "x": [
          0,
          1,
          2,
          3,
          4,
          5,
          6,
          7,
          8,
          9,
          10,
          11,
          12
         ],
         "xaxis": "x26",
         "y": [
          4026,
          4477,
          4066,
          4353,
          3547,
          4212,
          4546,
          4543,
          4573,
          4848,
          3141,
          3976,
          5862
         ],
         "yaxis": "y26"
        },
        {
         "marker": {
          "color": "blue"
         },
         "type": "bar",
         "x": [
          "0",
          "1",
          "2",
          "3",
          "4",
          "5",
          "6",
          "7",
          "8",
          "9",
          "10",
          "11",
          "12",
          "13"
         ],
         "xaxis": "x27",
         "y": [
          3.517145,
          3.675931,
          3.738702,
          3.975767,
          3.6097,
          3.604969,
          3.235186,
          4.259187,
          3.627931,
          4.098173,
          3.558429,
          3.939954,
          3.595057,
          4.344736
         ],
         "yaxis": "y27"
        },
        {
         "marker": {
          "color": "green"
         },
         "offsetgroup": "0",
         "type": "bar",
         "x": [
          0,
          1,
          2,
          3,
          4,
          5,
          6,
          7,
          8,
          9,
          10,
          11,
          12,
          13
         ],
         "xaxis": "x28",
         "y": [
          1948,
          2827,
          3406,
          4310,
          2458,
          3033,
          2287,
          2988,
          3507,
          4131,
          2868,
          3249,
          3643,
          3490
         ],
         "yaxis": "y28"
        },
        {
         "base": [
          1948,
          2827,
          3406,
          4310,
          2458,
          3033,
          2287,
          2988,
          3507,
          4131,
          2868,
          3249,
          3643,
          3490
         ],
         "marker": {
          "color": "red"
         },
         "offsetgroup": "0",
         "type": "bar",
         "x": [
          0,
          1,
          2,
          3,
          4,
          5,
          6,
          7,
          8,
          9,
          10,
          11,
          12,
          13
         ],
         "xaxis": "x28",
         "y": [
          3719,
          4436,
          4060,
          4231,
          3613,
          4890,
          4559,
          3938,
          4453,
          3667,
          3738,
          3767,
          3504,
          3595
         ],
         "yaxis": "y28"
        },
        {
         "marker": {
          "color": "blue"
         },
         "type": "bar",
         "x": [
          "0",
          "1",
          "2",
          "3",
          "4",
          "5",
          "6",
          "7",
          "8",
          "9",
          "10",
          "11",
          "12",
          "13",
          "14"
         ],
         "xaxis": "x29",
         "y": [
          3.658533,
          3.54131,
          3.337615,
          3.740074,
          3.575772,
          3.848837,
          4.644865,
          3.930835,
          3.57374,
          3.81466,
          4.234609,
          4.305345,
          3.496357,
          4.280731,
          3.87689
         ],
         "yaxis": "y29"
        },
        {
         "marker": {
          "color": "green"
         },
         "offsetgroup": "0",
         "type": "bar",
         "x": [
          0,
          1,
          2,
          3,
          4,
          5,
          6,
          7,
          8,
          9,
          10,
          11,
          12,
          13,
          14
         ],
         "xaxis": "x30",
         "y": [
          2496,
          2609,
          1586,
          3894,
          2236,
          3612,
          2557,
          3946,
          2389,
          2050,
          4850,
          4192,
          2428,
          2819,
          2481
         ],
         "yaxis": "y30"
        },
        {
         "base": [
          2496,
          2609,
          1586,
          3894,
          2236,
          3612,
          2557,
          3946,
          2389,
          2050,
          4850,
          4192,
          2428,
          2819,
          2481
         ],
         "marker": {
          "color": "red"
         },
         "offsetgroup": "0",
         "type": "bar",
         "x": [
          0,
          1,
          2,
          3,
          4,
          5,
          6,
          7,
          8,
          9,
          10,
          11,
          12,
          13,
          14
         ],
         "xaxis": "x30",
         "y": [
          3375,
          4294,
          3393,
          4575,
          3610,
          3866,
          3484,
          3614,
          3849,
          2903,
          3556,
          4351,
          3359,
          4195,
          3746
         ],
         "yaxis": "y30"
        }
       ],
       "layout": {
        "annotations": [
         {
          "font": {
           "size": 16
          },
          "showarrow": false,
          "text": "KLD distances for cluster set 1",
          "x": 0.225,
          "xanchor": "center",
          "xref": "paper",
          "y": 1,
          "yanchor": "bottom",
          "yref": "paper"
         },
         {
          "font": {
           "size": 16
          },
          "showarrow": false,
          "text": "Binder/non binders distribution for cluster set 1",
          "x": 0.775,
          "xanchor": "center",
          "xref": "paper",
          "y": 1,
          "yanchor": "bottom",
          "yref": "paper"
         },
         {
          "font": {
           "size": 16
          },
          "showarrow": false,
          "text": "KLD distances for cluster set 2",
          "x": 0.225,
          "xanchor": "center",
          "xref": "paper",
          "y": 0.9311111111111112,
          "yanchor": "bottom",
          "yref": "paper"
         },
         {
          "font": {
           "size": 16
          },
          "showarrow": false,
          "text": "Binder/non binders distribution for cluster set 2",
          "x": 0.775,
          "xanchor": "center",
          "xref": "paper",
          "y": 0.9311111111111112,
          "yanchor": "bottom",
          "yref": "paper"
         },
         {
          "font": {
           "size": 16
          },
          "showarrow": false,
          "text": "KLD distances for cluster set 3",
          "x": 0.225,
          "xanchor": "center",
          "xref": "paper",
          "y": 0.8622222222222222,
          "yanchor": "bottom",
          "yref": "paper"
         },
         {
          "font": {
           "size": 16
          },
          "showarrow": false,
          "text": "Binder/non binders distribution for cluster set 3",
          "x": 0.775,
          "xanchor": "center",
          "xref": "paper",
          "y": 0.8622222222222222,
          "yanchor": "bottom",
          "yref": "paper"
         },
         {
          "font": {
           "size": 16
          },
          "showarrow": false,
          "text": "KLD distances for cluster set 4",
          "x": 0.225,
          "xanchor": "center",
          "xref": "paper",
          "y": 0.7933333333333333,
          "yanchor": "bottom",
          "yref": "paper"
         },
         {
          "font": {
           "size": 16
          },
          "showarrow": false,
          "text": "Binder/non binders distribution for cluster set 4",
          "x": 0.775,
          "xanchor": "center",
          "xref": "paper",
          "y": 0.7933333333333333,
          "yanchor": "bottom",
          "yref": "paper"
         },
         {
          "font": {
           "size": 16
          },
          "showarrow": false,
          "text": "KLD distances for cluster set 5",
          "x": 0.225,
          "xanchor": "center",
          "xref": "paper",
          "y": 0.7244444444444444,
          "yanchor": "bottom",
          "yref": "paper"
         },
         {
          "font": {
           "size": 16
          },
          "showarrow": false,
          "text": "Binder/non binders distribution for cluster set 5",
          "x": 0.775,
          "xanchor": "center",
          "xref": "paper",
          "y": 0.7244444444444444,
          "yanchor": "bottom",
          "yref": "paper"
         },
         {
          "font": {
           "size": 16
          },
          "showarrow": false,
          "text": "KLD distances for cluster set 6",
          "x": 0.225,
          "xanchor": "center",
          "xref": "paper",
          "y": 0.6555555555555556,
          "yanchor": "bottom",
          "yref": "paper"
         },
         {
          "font": {
           "size": 16
          },
          "showarrow": false,
          "text": "Binder/non binders distribution for cluster set 6",
          "x": 0.775,
          "xanchor": "center",
          "xref": "paper",
          "y": 0.6555555555555556,
          "yanchor": "bottom",
          "yref": "paper"
         },
         {
          "font": {
           "size": 16
          },
          "showarrow": false,
          "text": "KLD distances for cluster set 7",
          "x": 0.225,
          "xanchor": "center",
          "xref": "paper",
          "y": 0.5866666666666667,
          "yanchor": "bottom",
          "yref": "paper"
         },
         {
          "font": {
           "size": 16
          },
          "showarrow": false,
          "text": "Binder/non binders distribution for cluster set 7",
          "x": 0.775,
          "xanchor": "center",
          "xref": "paper",
          "y": 0.5866666666666667,
          "yanchor": "bottom",
          "yref": "paper"
         },
         {
          "font": {
           "size": 16
          },
          "showarrow": false,
          "text": "KLD distances for cluster set 8",
          "x": 0.225,
          "xanchor": "center",
          "xref": "paper",
          "y": 0.5177777777777778,
          "yanchor": "bottom",
          "yref": "paper"
         },
         {
          "font": {
           "size": 16
          },
          "showarrow": false,
          "text": "Binder/non binders distribution for cluster set 8",
          "x": 0.775,
          "xanchor": "center",
          "xref": "paper",
          "y": 0.5177777777777778,
          "yanchor": "bottom",
          "yref": "paper"
         },
         {
          "font": {
           "size": 16
          },
          "showarrow": false,
          "text": "KLD distances for cluster set 9",
          "x": 0.225,
          "xanchor": "center",
          "xref": "paper",
          "y": 0.4488888888888889,
          "yanchor": "bottom",
          "yref": "paper"
         },
         {
          "font": {
           "size": 16
          },
          "showarrow": false,
          "text": "Binder/non binders distribution for cluster set 9",
          "x": 0.775,
          "xanchor": "center",
          "xref": "paper",
          "y": 0.4488888888888889,
          "yanchor": "bottom",
          "yref": "paper"
         },
         {
          "font": {
           "size": 16
          },
          "showarrow": false,
          "text": "KLD distances for cluster set 10",
          "x": 0.225,
          "xanchor": "center",
          "xref": "paper",
          "y": 0.38,
          "yanchor": "bottom",
          "yref": "paper"
         },
         {
          "font": {
           "size": 16
          },
          "showarrow": false,
          "text": "Binder/non binders distribution for cluster set 10",
          "x": 0.775,
          "xanchor": "center",
          "xref": "paper",
          "y": 0.38,
          "yanchor": "bottom",
          "yref": "paper"
         },
         {
          "font": {
           "size": 16
          },
          "showarrow": false,
          "text": "KLD distances for cluster set 11",
          "x": 0.225,
          "xanchor": "center",
          "xref": "paper",
          "y": 0.3111111111111111,
          "yanchor": "bottom",
          "yref": "paper"
         },
         {
          "font": {
           "size": 16
          },
          "showarrow": false,
          "text": "Binder/non binders distribution for cluster set 11",
          "x": 0.775,
          "xanchor": "center",
          "xref": "paper",
          "y": 0.3111111111111111,
          "yanchor": "bottom",
          "yref": "paper"
         },
         {
          "font": {
           "size": 16
          },
          "showarrow": false,
          "text": "KLD distances for cluster set 12",
          "x": 0.225,
          "xanchor": "center",
          "xref": "paper",
          "y": 0.24222222222222223,
          "yanchor": "bottom",
          "yref": "paper"
         },
         {
          "font": {
           "size": 16
          },
          "showarrow": false,
          "text": "Binder/non binders distribution for cluster set 12",
          "x": 0.775,
          "xanchor": "center",
          "xref": "paper",
          "y": 0.24222222222222223,
          "yanchor": "bottom",
          "yref": "paper"
         },
         {
          "font": {
           "size": 16
          },
          "showarrow": false,
          "text": "KLD distances for cluster set 13",
          "x": 0.225,
          "xanchor": "center",
          "xref": "paper",
          "y": 0.17333333333333334,
          "yanchor": "bottom",
          "yref": "paper"
         },
         {
          "font": {
           "size": 16
          },
          "showarrow": false,
          "text": "Binder/non binders distribution for cluster set 13",
          "x": 0.775,
          "xanchor": "center",
          "xref": "paper",
          "y": 0.17333333333333334,
          "yanchor": "bottom",
          "yref": "paper"
         },
         {
          "font": {
           "size": 16
          },
          "showarrow": false,
          "text": "KLD distances for cluster set 14",
          "x": 0.225,
          "xanchor": "center",
          "xref": "paper",
          "y": 0.10444444444444445,
          "yanchor": "bottom",
          "yref": "paper"
         },
         {
          "font": {
           "size": 16
          },
          "showarrow": false,
          "text": "Binder/non binders distribution for cluster set 14",
          "x": 0.775,
          "xanchor": "center",
          "xref": "paper",
          "y": 0.10444444444444445,
          "yanchor": "bottom",
          "yref": "paper"
         },
         {
          "font": {
           "size": 16
          },
          "showarrow": false,
          "text": "KLD distances for cluster set 15",
          "x": 0.225,
          "xanchor": "center",
          "xref": "paper",
          "y": 0.035555555555555556,
          "yanchor": "bottom",
          "yref": "paper"
         },
         {
          "font": {
           "size": 16
          },
          "showarrow": false,
          "text": "Binder/non binders distribution for cluster set 15",
          "x": 0.775,
          "xanchor": "center",
          "xref": "paper",
          "y": 0.035555555555555556,
          "yanchor": "bottom",
          "yref": "paper"
         }
        ],
        "height": 3000,
        "showlegend": false,
        "template": {
         "data": {
          "bar": [
           {
            "error_x": {
             "color": "#2a3f5f"
            },
            "error_y": {
             "color": "#2a3f5f"
            },
            "marker": {
             "line": {
              "color": "#E5ECF6",
              "width": 0.5
             },
             "pattern": {
              "fillmode": "overlay",
              "size": 10,
              "solidity": 0.2
             }
            },
            "type": "bar"
           }
          ],
          "barpolar": [
           {
            "marker": {
             "line": {
              "color": "#E5ECF6",
              "width": 0.5
             },
             "pattern": {
              "fillmode": "overlay",
              "size": 10,
              "solidity": 0.2
             }
            },
            "type": "barpolar"
           }
          ],
          "carpet": [
           {
            "aaxis": {
             "endlinecolor": "#2a3f5f",
             "gridcolor": "white",
             "linecolor": "white",
             "minorgridcolor": "white",
             "startlinecolor": "#2a3f5f"
            },
            "baxis": {
             "endlinecolor": "#2a3f5f",
             "gridcolor": "white",
             "linecolor": "white",
             "minorgridcolor": "white",
             "startlinecolor": "#2a3f5f"
            },
            "type": "carpet"
           }
          ],
          "choropleth": [
           {
            "colorbar": {
             "outlinewidth": 0,
             "ticks": ""
            },
            "type": "choropleth"
           }
          ],
          "contour": [
           {
            "colorbar": {
             "outlinewidth": 0,
             "ticks": ""
            },
            "colorscale": [
             [
              0,
              "#0d0887"
             ],
             [
              0.1111111111111111,
              "#46039f"
             ],
             [
              0.2222222222222222,
              "#7201a8"
             ],
             [
              0.3333333333333333,
              "#9c179e"
             ],
             [
              0.4444444444444444,
              "#bd3786"
             ],
             [
              0.5555555555555556,
              "#d8576b"
             ],
             [
              0.6666666666666666,
              "#ed7953"
             ],
             [
              0.7777777777777778,
              "#fb9f3a"
             ],
             [
              0.8888888888888888,
              "#fdca26"
             ],
             [
              1,
              "#f0f921"
             ]
            ],
            "type": "contour"
           }
          ],
          "contourcarpet": [
           {
            "colorbar": {
             "outlinewidth": 0,
             "ticks": ""
            },
            "type": "contourcarpet"
           }
          ],
          "heatmap": [
           {
            "colorbar": {
             "outlinewidth": 0,
             "ticks": ""
            },
            "colorscale": [
             [
              0,
              "#0d0887"
             ],
             [
              0.1111111111111111,
              "#46039f"
             ],
             [
              0.2222222222222222,
              "#7201a8"
             ],
             [
              0.3333333333333333,
              "#9c179e"
             ],
             [
              0.4444444444444444,
              "#bd3786"
             ],
             [
              0.5555555555555556,
              "#d8576b"
             ],
             [
              0.6666666666666666,
              "#ed7953"
             ],
             [
              0.7777777777777778,
              "#fb9f3a"
             ],
             [
              0.8888888888888888,
              "#fdca26"
             ],
             [
              1,
              "#f0f921"
             ]
            ],
            "type": "heatmap"
           }
          ],
          "heatmapgl": [
           {
            "colorbar": {
             "outlinewidth": 0,
             "ticks": ""
            },
            "colorscale": [
             [
              0,
              "#0d0887"
             ],
             [
              0.1111111111111111,
              "#46039f"
             ],
             [
              0.2222222222222222,
              "#7201a8"
             ],
             [
              0.3333333333333333,
              "#9c179e"
             ],
             [
              0.4444444444444444,
              "#bd3786"
             ],
             [
              0.5555555555555556,
              "#d8576b"
             ],
             [
              0.6666666666666666,
              "#ed7953"
             ],
             [
              0.7777777777777778,
              "#fb9f3a"
             ],
             [
              0.8888888888888888,
              "#fdca26"
             ],
             [
              1,
              "#f0f921"
             ]
            ],
            "type": "heatmapgl"
           }
          ],
          "histogram": [
           {
            "marker": {
             "pattern": {
              "fillmode": "overlay",
              "size": 10,
              "solidity": 0.2
             }
            },
            "type": "histogram"
           }
          ],
          "histogram2d": [
           {
            "colorbar": {
             "outlinewidth": 0,
             "ticks": ""
            },
            "colorscale": [
             [
              0,
              "#0d0887"
             ],
             [
              0.1111111111111111,
              "#46039f"
             ],
             [
              0.2222222222222222,
              "#7201a8"
             ],
             [
              0.3333333333333333,
              "#9c179e"
             ],
             [
              0.4444444444444444,
              "#bd3786"
             ],
             [
              0.5555555555555556,
              "#d8576b"
             ],
             [
              0.6666666666666666,
              "#ed7953"
             ],
             [
              0.7777777777777778,
              "#fb9f3a"
             ],
             [
              0.8888888888888888,
              "#fdca26"
             ],
             [
              1,
              "#f0f921"
             ]
            ],
            "type": "histogram2d"
           }
          ],
          "histogram2dcontour": [
           {
            "colorbar": {
             "outlinewidth": 0,
             "ticks": ""
            },
            "colorscale": [
             [
              0,
              "#0d0887"
             ],
             [
              0.1111111111111111,
              "#46039f"
             ],
             [
              0.2222222222222222,
              "#7201a8"
             ],
             [
              0.3333333333333333,
              "#9c179e"
             ],
             [
              0.4444444444444444,
              "#bd3786"
             ],
             [
              0.5555555555555556,
              "#d8576b"
             ],
             [
              0.6666666666666666,
              "#ed7953"
             ],
             [
              0.7777777777777778,
              "#fb9f3a"
             ],
             [
              0.8888888888888888,
              "#fdca26"
             ],
             [
              1,
              "#f0f921"
             ]
            ],
            "type": "histogram2dcontour"
           }
          ],
          "mesh3d": [
           {
            "colorbar": {
             "outlinewidth": 0,
             "ticks": ""
            },
            "type": "mesh3d"
           }
          ],
          "parcoords": [
           {
            "line": {
             "colorbar": {
              "outlinewidth": 0,
              "ticks": ""
             }
            },
            "type": "parcoords"
           }
          ],
          "pie": [
           {
            "automargin": true,
            "type": "pie"
           }
          ],
          "scatter": [
           {
            "fillpattern": {
             "fillmode": "overlay",
             "size": 10,
             "solidity": 0.2
            },
            "type": "scatter"
           }
          ],
          "scatter3d": [
           {
            "line": {
             "colorbar": {
              "outlinewidth": 0,
              "ticks": ""
             }
            },
            "marker": {
             "colorbar": {
              "outlinewidth": 0,
              "ticks": ""
             }
            },
            "type": "scatter3d"
           }
          ],
          "scattercarpet": [
           {
            "marker": {
             "colorbar": {
              "outlinewidth": 0,
              "ticks": ""
             }
            },
            "type": "scattercarpet"
           }
          ],
          "scattergeo": [
           {
            "marker": {
             "colorbar": {
              "outlinewidth": 0,
              "ticks": ""
             }
            },
            "type": "scattergeo"
           }
          ],
          "scattergl": [
           {
            "marker": {
             "colorbar": {
              "outlinewidth": 0,
              "ticks": ""
             }
            },
            "type": "scattergl"
           }
          ],
          "scattermapbox": [
           {
            "marker": {
             "colorbar": {
              "outlinewidth": 0,
              "ticks": ""
             }
            },
            "type": "scattermapbox"
           }
          ],
          "scatterpolar": [
           {
            "marker": {
             "colorbar": {
              "outlinewidth": 0,
              "ticks": ""
             }
            },
            "type": "scatterpolar"
           }
          ],
          "scatterpolargl": [
           {
            "marker": {
             "colorbar": {
              "outlinewidth": 0,
              "ticks": ""
             }
            },
            "type": "scatterpolargl"
           }
          ],
          "scatterternary": [
           {
            "marker": {
             "colorbar": {
              "outlinewidth": 0,
              "ticks": ""
             }
            },
            "type": "scatterternary"
           }
          ],
          "surface": [
           {
            "colorbar": {
             "outlinewidth": 0,
             "ticks": ""
            },
            "colorscale": [
             [
              0,
              "#0d0887"
             ],
             [
              0.1111111111111111,
              "#46039f"
             ],
             [
              0.2222222222222222,
              "#7201a8"
             ],
             [
              0.3333333333333333,
              "#9c179e"
             ],
             [
              0.4444444444444444,
              "#bd3786"
             ],
             [
              0.5555555555555556,
              "#d8576b"
             ],
             [
              0.6666666666666666,
              "#ed7953"
             ],
             [
              0.7777777777777778,
              "#fb9f3a"
             ],
             [
              0.8888888888888888,
              "#fdca26"
             ],
             [
              1,
              "#f0f921"
             ]
            ],
            "type": "surface"
           }
          ],
          "table": [
           {
            "cells": {
             "fill": {
              "color": "#EBF0F8"
             },
             "line": {
              "color": "white"
             }
            },
            "header": {
             "fill": {
              "color": "#C8D4E3"
             },
             "line": {
              "color": "white"
             }
            },
            "type": "table"
           }
          ]
         },
         "layout": {
          "annotationdefaults": {
           "arrowcolor": "#2a3f5f",
           "arrowhead": 0,
           "arrowwidth": 1
          },
          "autotypenumbers": "strict",
          "coloraxis": {
           "colorbar": {
            "outlinewidth": 0,
            "ticks": ""
           }
          },
          "colorscale": {
           "diverging": [
            [
             0,
             "#8e0152"
            ],
            [
             0.1,
             "#c51b7d"
            ],
            [
             0.2,
             "#de77ae"
            ],
            [
             0.3,
             "#f1b6da"
            ],
            [
             0.4,
             "#fde0ef"
            ],
            [
             0.5,
             "#f7f7f7"
            ],
            [
             0.6,
             "#e6f5d0"
            ],
            [
             0.7,
             "#b8e186"
            ],
            [
             0.8,
             "#7fbc41"
            ],
            [
             0.9,
             "#4d9221"
            ],
            [
             1,
             "#276419"
            ]
           ],
           "sequential": [
            [
             0,
             "#0d0887"
            ],
            [
             0.1111111111111111,
             "#46039f"
            ],
            [
             0.2222222222222222,
             "#7201a8"
            ],
            [
             0.3333333333333333,
             "#9c179e"
            ],
            [
             0.4444444444444444,
             "#bd3786"
            ],
            [
             0.5555555555555556,
             "#d8576b"
            ],
            [
             0.6666666666666666,
             "#ed7953"
            ],
            [
             0.7777777777777778,
             "#fb9f3a"
            ],
            [
             0.8888888888888888,
             "#fdca26"
            ],
            [
             1,
             "#f0f921"
            ]
           ],
           "sequentialminus": [
            [
             0,
             "#0d0887"
            ],
            [
             0.1111111111111111,
             "#46039f"
            ],
            [
             0.2222222222222222,
             "#7201a8"
            ],
            [
             0.3333333333333333,
             "#9c179e"
            ],
            [
             0.4444444444444444,
             "#bd3786"
            ],
            [
             0.5555555555555556,
             "#d8576b"
            ],
            [
             0.6666666666666666,
             "#ed7953"
            ],
            [
             0.7777777777777778,
             "#fb9f3a"
            ],
            [
             0.8888888888888888,
             "#fdca26"
            ],
            [
             1,
             "#f0f921"
            ]
           ]
          },
          "colorway": [
           "#636efa",
           "#EF553B",
           "#00cc96",
           "#ab63fa",
           "#FFA15A",
           "#19d3f3",
           "#FF6692",
           "#B6E880",
           "#FF97FF",
           "#FECB52"
          ],
          "font": {
           "color": "#2a3f5f"
          },
          "geo": {
           "bgcolor": "white",
           "lakecolor": "white",
           "landcolor": "#E5ECF6",
           "showlakes": true,
           "showland": true,
           "subunitcolor": "white"
          },
          "hoverlabel": {
           "align": "left"
          },
          "hovermode": "closest",
          "mapbox": {
           "style": "light"
          },
          "paper_bgcolor": "white",
          "plot_bgcolor": "#E5ECF6",
          "polar": {
           "angularaxis": {
            "gridcolor": "white",
            "linecolor": "white",
            "ticks": ""
           },
           "bgcolor": "#E5ECF6",
           "radialaxis": {
            "gridcolor": "white",
            "linecolor": "white",
            "ticks": ""
           }
          },
          "scene": {
           "xaxis": {
            "backgroundcolor": "#E5ECF6",
            "gridcolor": "white",
            "gridwidth": 2,
            "linecolor": "white",
            "showbackground": true,
            "ticks": "",
            "zerolinecolor": "white"
           },
           "yaxis": {
            "backgroundcolor": "#E5ECF6",
            "gridcolor": "white",
            "gridwidth": 2,
            "linecolor": "white",
            "showbackground": true,
            "ticks": "",
            "zerolinecolor": "white"
           },
           "zaxis": {
            "backgroundcolor": "#E5ECF6",
            "gridcolor": "white",
            "gridwidth": 2,
            "linecolor": "white",
            "showbackground": true,
            "ticks": "",
            "zerolinecolor": "white"
           }
          },
          "shapedefaults": {
           "line": {
            "color": "#2a3f5f"
           }
          },
          "ternary": {
           "aaxis": {
            "gridcolor": "white",
            "linecolor": "white",
            "ticks": ""
           },
           "baxis": {
            "gridcolor": "white",
            "linecolor": "white",
            "ticks": ""
           },
           "bgcolor": "#E5ECF6",
           "caxis": {
            "gridcolor": "white",
            "linecolor": "white",
            "ticks": ""
           }
          },
          "title": {
           "x": 0.05
          },
          "xaxis": {
           "automargin": true,
           "gridcolor": "white",
           "linecolor": "white",
           "ticks": "",
           "title": {
            "standoff": 15
           },
           "zerolinecolor": "white",
           "zerolinewidth": 2
          },
          "yaxis": {
           "automargin": true,
           "gridcolor": "white",
           "linecolor": "white",
           "ticks": "",
           "title": {
            "standoff": 15
           },
           "zerolinecolor": "white",
           "zerolinewidth": 2
          }
         }
        },
        "title": {
         "text": "KLD (left) and count (right) for each cluster set"
        },
        "width": 1600,
        "xaxis": {
         "anchor": "y",
         "domain": [
          0,
          0.45
         ]
        },
        "xaxis10": {
         "anchor": "y10",
         "domain": [
          0.55,
          1
         ]
        },
        "xaxis11": {
         "anchor": "y11",
         "domain": [
          0,
          0.45
         ]
        },
        "xaxis12": {
         "anchor": "y12",
         "domain": [
          0.55,
          1
         ]
        },
        "xaxis13": {
         "anchor": "y13",
         "domain": [
          0,
          0.45
         ]
        },
        "xaxis14": {
         "anchor": "y14",
         "domain": [
          0.55,
          1
         ]
        },
        "xaxis15": {
         "anchor": "y15",
         "domain": [
          0,
          0.45
         ]
        },
        "xaxis16": {
         "anchor": "y16",
         "domain": [
          0.55,
          1
         ]
        },
        "xaxis17": {
         "anchor": "y17",
         "domain": [
          0,
          0.45
         ]
        },
        "xaxis18": {
         "anchor": "y18",
         "domain": [
          0.55,
          1
         ]
        },
        "xaxis19": {
         "anchor": "y19",
         "domain": [
          0,
          0.45
         ]
        },
        "xaxis2": {
         "anchor": "y2",
         "domain": [
          0.55,
          1
         ]
        },
        "xaxis20": {
         "anchor": "y20",
         "domain": [
          0.55,
          1
         ]
        },
        "xaxis21": {
         "anchor": "y21",
         "domain": [
          0,
          0.45
         ]
        },
        "xaxis22": {
         "anchor": "y22",
         "domain": [
          0.55,
          1
         ]
        },
        "xaxis23": {
         "anchor": "y23",
         "domain": [
          0,
          0.45
         ]
        },
        "xaxis24": {
         "anchor": "y24",
         "domain": [
          0.55,
          1
         ]
        },
        "xaxis25": {
         "anchor": "y25",
         "domain": [
          0,
          0.45
         ]
        },
        "xaxis26": {
         "anchor": "y26",
         "domain": [
          0.55,
          1
         ]
        },
        "xaxis27": {
         "anchor": "y27",
         "domain": [
          0,
          0.45
         ]
        },
        "xaxis28": {
         "anchor": "y28",
         "domain": [
          0.55,
          1
         ]
        },
        "xaxis29": {
         "anchor": "y29",
         "domain": [
          0,
          0.45
         ]
        },
        "xaxis3": {
         "anchor": "y3",
         "domain": [
          0,
          0.45
         ]
        },
        "xaxis30": {
         "anchor": "y30",
         "domain": [
          0.55,
          1
         ]
        },
        "xaxis4": {
         "anchor": "y4",
         "domain": [
          0.55,
          1
         ]
        },
        "xaxis5": {
         "anchor": "y5",
         "domain": [
          0,
          0.45
         ]
        },
        "xaxis6": {
         "anchor": "y6",
         "domain": [
          0.55,
          1
         ]
        },
        "xaxis7": {
         "anchor": "y7",
         "domain": [
          0,
          0.45
         ]
        },
        "xaxis8": {
         "anchor": "y8",
         "domain": [
          0.55,
          1
         ]
        },
        "xaxis9": {
         "anchor": "y9",
         "domain": [
          0,
          0.45
         ]
        },
        "yaxis": {
         "anchor": "x",
         "domain": [
          0.9644444444444444,
          1
         ]
        },
        "yaxis10": {
         "anchor": "x10",
         "domain": [
          0.6888888888888889,
          0.7244444444444444
         ]
        },
        "yaxis11": {
         "anchor": "x11",
         "domain": [
          0.62,
          0.6555555555555556
         ]
        },
        "yaxis12": {
         "anchor": "x12",
         "domain": [
          0.62,
          0.6555555555555556
         ]
        },
        "yaxis13": {
         "anchor": "x13",
         "domain": [
          0.5511111111111111,
          0.5866666666666667
         ]
        },
        "yaxis14": {
         "anchor": "x14",
         "domain": [
          0.5511111111111111,
          0.5866666666666667
         ]
        },
        "yaxis15": {
         "anchor": "x15",
         "domain": [
          0.4822222222222222,
          0.5177777777777778
         ]
        },
        "yaxis16": {
         "anchor": "x16",
         "domain": [
          0.4822222222222222,
          0.5177777777777778
         ]
        },
        "yaxis17": {
         "anchor": "x17",
         "domain": [
          0.41333333333333333,
          0.4488888888888889
         ]
        },
        "yaxis18": {
         "anchor": "x18",
         "domain": [
          0.41333333333333333,
          0.4488888888888889
         ]
        },
        "yaxis19": {
         "anchor": "x19",
         "domain": [
          0.34444444444444444,
          0.38
         ]
        },
        "yaxis2": {
         "anchor": "x2",
         "domain": [
          0.9644444444444444,
          1
         ]
        },
        "yaxis20": {
         "anchor": "x20",
         "domain": [
          0.34444444444444444,
          0.38
         ]
        },
        "yaxis21": {
         "anchor": "x21",
         "domain": [
          0.27555555555555555,
          0.3111111111111111
         ]
        },
        "yaxis22": {
         "anchor": "x22",
         "domain": [
          0.27555555555555555,
          0.3111111111111111
         ]
        },
        "yaxis23": {
         "anchor": "x23",
         "domain": [
          0.20666666666666667,
          0.24222222222222223
         ]
        },
        "yaxis24": {
         "anchor": "x24",
         "domain": [
          0.20666666666666667,
          0.24222222222222223
         ]
        },
        "yaxis25": {
         "anchor": "x25",
         "domain": [
          0.13777777777777778,
          0.17333333333333334
         ]
        },
        "yaxis26": {
         "anchor": "x26",
         "domain": [
          0.13777777777777778,
          0.17333333333333334
         ]
        },
        "yaxis27": {
         "anchor": "x27",
         "domain": [
          0.06888888888888889,
          0.10444444444444445
         ]
        },
        "yaxis28": {
         "anchor": "x28",
         "domain": [
          0.06888888888888889,
          0.10444444444444445
         ]
        },
        "yaxis29": {
         "anchor": "x29",
         "domain": [
          0,
          0.035555555555555556
         ]
        },
        "yaxis3": {
         "anchor": "x3",
         "domain": [
          0.8955555555555557,
          0.9311111111111112
         ]
        },
        "yaxis30": {
         "anchor": "x30",
         "domain": [
          0,
          0.035555555555555556
         ]
        },
        "yaxis4": {
         "anchor": "x4",
         "domain": [
          0.8955555555555557,
          0.9311111111111112
         ]
        },
        "yaxis5": {
         "anchor": "x5",
         "domain": [
          0.8266666666666667,
          0.8622222222222222
         ]
        },
        "yaxis6": {
         "anchor": "x6",
         "domain": [
          0.8266666666666667,
          0.8622222222222222
         ]
        },
        "yaxis7": {
         "anchor": "x7",
         "domain": [
          0.7577777777777778,
          0.7933333333333333
         ]
        },
        "yaxis8": {
         "anchor": "x8",
         "domain": [
          0.7577777777777778,
          0.7933333333333333
         ]
        },
        "yaxis9": {
         "anchor": "x9",
         "domain": [
          0.6888888888888889,
          0.7244444444444444
         ]
        }
       }
      }
     },
     "metadata": {},
     "output_type": "display_data"
    }
   ],
   "source": [
    "# visualize a specific set of cluster mean \n",
    "titles_list = [\n",
    "        [f\"KLD distances for cluster set {i+1}\", f\"Binder/non binders distribution for cluster set {i+1}\"]\n",
    "        for i in range(15)\n",
    "    ]\n",
    "def flatten(l):\n",
    "    return [item for sublist in l for item in sublist]\n",
    "\n",
    "#number of peptides per cluster:\n",
    "fig = make_subplots(\n",
    "    rows=15,\n",
    "    cols=2,\n",
    "    start_cell=\"top-left\",\n",
    "    subplot_titles = flatten(titles_list)\n",
    ")\n",
    "fig.update_layout(\n",
    "    height=3000,\n",
    "    width=1600,\n",
    "    title_text=\"KLD (left) and count (right) for each cluster set\",\n",
    "    showlegend=False,\n",
    ")\n",
    "\n",
    "for i in range(15):\n",
    "    # First col:\n",
    "    fig.add_trace(\n",
    "        go.Bar(\n",
    "            x=list(cluster_set_cluster_kld[i].keys()), \n",
    "            y=list(cluster_set_cluster_kld[i].values()),\n",
    "            marker_color=\"blue\"\n",
    "            # title=f\"KLD distance for each cluster in cluster set {i}\",\n",
    "            # labels = {\n",
    "            #     \"y\": \"KLD\",\n",
    "            #     \"x\": \"cluster\"\n",
    "            # }\n",
    "        ),\n",
    "        row=i+1, col=1,\n",
    "    )\n",
    "    df_grouped_clusters = df.groupby([f\"cluster_set_{i+1}\", \"binder\"], as_index=False).size()\n",
    "\n",
    "    # Second col (with stacked binders and non binders)\n",
    "    fig.add_trace( # binders\n",
    "        go.Bar(\n",
    "            x=list(range(i+1)), \n",
    "            y=df_grouped_clusters.loc[df_grouped_clusters[\"binder\"] == True][\"size\"],\n",
    "            offsetgroup=0,\n",
    "            marker_color=\"green\"\n",
    "        ),\n",
    "        row=i+1, col=2\n",
    "    )\n",
    "\n",
    "    fig.add_trace( # non binders\n",
    "        go.Bar(\n",
    "            x=list(range(i+1)), \n",
    "            y=df_grouped_clusters.loc[df_grouped_clusters[\"binder\"] == False][\"size\"],\n",
    "            offsetgroup=0,\n",
    "            base=df_grouped_clusters.loc[df_grouped_clusters[\"binder\"] == True][\"size\"],\n",
    "            marker_color=\"red\"\n",
    "        ),\n",
    "        row=i+1, col=2\n",
    "    )\n",
    "fig.show()\n",
    "fig.write_image(\"../../reports/figures/gibbs_clusters/cluster_anch_rep_trash_off.svg\")\n"
   ]
  }
 ],
 "metadata": {
  "kernelspec": {
   "display_name": "deeprank",
   "language": "python",
   "name": "python3"
  },
  "language_info": {
   "codemirror_mode": {
    "name": "ipython",
    "version": 3
   },
   "file_extension": ".py",
   "mimetype": "text/x-python",
   "name": "python",
   "nbconvert_exporter": "python",
   "pygments_lexer": "ipython3",
   "version": "3.8.13"
  },
  "orig_nbformat": 4,
  "vscode": {
   "interpreter": {
    "hash": "e0f11ea36265c7a09575b72ab023a91955654eee7154dd519d25c1189c46f9fd"
   }
  }
 },
 "nbformat": 4,
 "nbformat_minor": 2
}
