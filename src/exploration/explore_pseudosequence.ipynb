{
 "cells": [
  {
   "cell_type": "code",
   "execution_count": 9,
   "metadata": {},
   "outputs": [],
   "source": [
    "import pandas as pd\n",
    "df = pd.read_csv(\"../../data/external/unprocessed/mhcflurry.allele_sequences.csv\")\n",
    "df_train = pd.read_csv(\"../../data/external/unprocessed/mhcflurry_train_data.csv\")"
   ]
  },
  {
   "cell_type": "code",
   "execution_count": 11,
   "metadata": {},
   "outputs": [
    {
     "name": "stdout",
     "output_type": "stream",
     "text": [
      "0         BoLA-1*21:01\n",
      "1         BoLA-1*21:01\n",
      "2         BoLA-2*08:01\n",
      "3         BoLA-2*08:01\n",
      "4         BoLA-2*08:01\n",
      "              ...     \n",
      "571514     SLA-2*05:02\n",
      "571515     SLA-2*11:04\n",
      "571516     SLA-2*11:04\n",
      "571517     SLA-2*11:04\n",
      "571518     SLA-2*11:04\n",
      "Name: allele, Length: 571519, dtype: object\n"
     ]
    }
   ],
   "source": [
    "print(df_train[\"allele\"])"
   ]
  },
  {
   "cell_type": "code",
   "execution_count": 17,
   "metadata": {},
   "outputs": [
    {
     "name": "stdout",
     "output_type": "stream",
     "text": [
      "for HLA-A*24:07 in test, the same pseudosequence is shared by 0 alleles in the trainset\n",
      "for HLA-A*34:01 in test, the same pseudosequence is shared by 0 alleles in the trainset\n",
      "for HLA-A*34:02 in test, the same pseudosequence is shared by 0 alleles in the trainset\n",
      "for HLA-A*36:01 in test, the same pseudosequence is shared by 0 alleles in the trainset\n",
      "for HLA-B*07:04 in test, the same pseudosequence is shared by 0 alleles in the trainset\n",
      "for HLA-B*35:07 in test, the same pseudosequence is shared by 1 alleles in the trainset\n",
      "for HLA-B*38:02 in test, the same pseudosequence is shared by 0 alleles in the trainset\n",
      "for HLA-B*40:06 in test, the same pseudosequence is shared by 0 alleles in the trainset\n",
      "for HLA-C*03:02 in test, the same pseudosequence is shared by 0 alleles in the trainset\n",
      "for HLA-C*04:03 in test, the same pseudosequence is shared by 0 alleles in the trainset\n",
      "for HLA-C*14:03 in test, the same pseudosequence is shared by 1 alleles in the trainset\n"
     ]
    }
   ],
   "source": [
    "mhc_test_alleles = [\n",
    "    \"HLA-A*24:07\",\n",
    "    \"HLA-A*34:01\",\n",
    "    \"HLA-A*34:02\",\n",
    "    \"HLA-A*36:01\",\n",
    "    \"HLA-B*07:04\",\n",
    "    \"HLA-B*35:07\",\n",
    "    \"HLA-B*38:02\",\n",
    "    \"HLA-B*40:06\",\n",
    "    \"HLA-C*03:02\",\n",
    "    \"HLA-C*04:03\",\n",
    "    \"HLA-C*14:03\"\n",
    "]\n",
    "\n",
    "pseudosequences = [df.loc[df[\"allele\"] == allele, \"sequence\"].tolist()[0] for allele in mhc_test_alleles]\n",
    "allele_pseudoseq = dict(zip(mhc_test_alleles, pseudosequences))\n",
    "\n",
    "for allele, pseudoseq in allele_pseudoseq.items():\n",
    "    similar_allele = df.loc[df[\"sequence\"] == pseudoseq, \"allele\"].tolist()\n",
    "    similar_allele_in_train = [allele for allele in similar_allele if allele in df_train[\"allele\"].tolist()]\n",
    "    print(f\"for {allele} in test, the same pseudosequence is shared by {len(similar_allele_in_train)} alleles in the trainset\")"
   ]
  },
  {
   "cell_type": "code",
   "execution_count": null,
   "metadata": {},
   "outputs": [],
   "source": []
  }
 ],
 "metadata": {
  "kernelspec": {
   "display_name": "deeprank",
   "language": "python",
   "name": "python3"
  },
  "language_info": {
   "codemirror_mode": {
    "name": "ipython",
    "version": 3
   },
   "file_extension": ".py",
   "mimetype": "text/x-python",
   "name": "python",
   "nbconvert_exporter": "python",
   "pygments_lexer": "ipython3",
   "version": "3.8.13"
  },
  "orig_nbformat": 4,
  "vscode": {
   "interpreter": {
    "hash": "e0f11ea36265c7a09575b72ab023a91955654eee7154dd519d25c1189c46f9fd"
   }
  }
 },
 "nbformat": 4,
 "nbformat_minor": 2
}
