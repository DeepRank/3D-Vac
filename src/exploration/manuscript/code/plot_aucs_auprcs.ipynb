{
 "cells": [
  {
   "cell_type": "markdown",
   "metadata": {},
   "source": [
    "### Import modules, define functions, define general input files and variables"
   ]
  },
  {
   "cell_type": "code",
   "execution_count": 1,
   "metadata": {},
   "outputs": [],
   "source": [
    "import sys\n",
    "# sys.path.append('../')\n",
    "# import deeprank_plots as dp\n",
    "import os\n",
    "import h5py\n",
    "import numpy as np\n",
    "from numpy.polynomial.polynomial import polyfit\n",
    "import plotly.graph_objects as go\n",
    "from matplotlib import pyplot as plt\n",
    "import pandas as pd\n",
    "import seaborn as sns\n",
    "\n",
    "import sys\n",
    "sys.path.append('/home/dmarz/3D-Vac/src/5_train_models')\n",
    "from DeepRank import classMetrics\n",
    "from sklearn.metrics import average_precision_score as auprc\n",
    "\n",
    "import pickle\n",
    "\n",
    "def get_dist_matrix(pklname='/projects/0/einf2380/data/pop_paper_data/allele_clustering/HLA_all.pkl'):\n",
    "    with open(pklname, 'rb') as inpkl:\n",
    "        name = pickle.load(inpkl)\n",
    "        seq = pickle.load(inpkl)\n",
    "        score = pickle.load(inpkl)\n",
    "        dist = pickle.load(inpkl)\n",
    "\n",
    "    matrix = {}\n",
    "    for i, x in enumerate(name):\n",
    "        matrix[x] = { y:dist[i+j]  for j, y in enumerate(name[i+1:])}\n",
    "    \n",
    "    return matrix\n",
    "\n",
    "def get_avg_distance(allele, matrix, test_alleles):\n",
    "    distances = []\n",
    "    other_alleles = [name for name in matrix.keys() if (name not in test_alleles) and (name != allele)]\n",
    "    for name in other_alleles:\n",
    "        if name not in training_allele_freq.keys():\n",
    "            #print(f'WARNING: allele {allele} not in training alleles frequency')\n",
    "            if name in test_alleles:\n",
    "                #print(f'Health check: {allele} in test alleles')\n",
    "                continue\n",
    "            else:\n",
    "                #print(f'WARNING: allele {name} not in training alleles. Skipping.')\n",
    "                continue\n",
    "        \n",
    "        try:\n",
    "            distances.append(matrix[allele][name] * training_allele_freq[name]) \n",
    "        except KeyError:\n",
    "            try:\n",
    "                distances.append(matrix[name][allele] * training_allele_freq[name])\n",
    "            except KeyError:\n",
    "                raise KeyError('The provided allele does not seem to belong to this matrix')\n",
    "\n",
    "    avg_distance = sum(distances)/len(distances)\n",
    "    return avg_distance\n",
    "\n",
    "matrix = {}\n",
    "matrix['A'] = get_dist_matrix(pklname='/projects/0/einf2380/data/pop_paper_data/allele_clustering/HLAA.pkl')\n",
    "matrix['B'] = get_dist_matrix(pklname='/projects/0/einf2380/data/pop_paper_data/allele_clustering/HLAB.pkl')\n",
    "matrix['C'] = get_dist_matrix(pklname='/projects/0/einf2380/data/pop_paper_data/allele_clustering/HLAC.pkl')\n",
    "matrix['ALL'] = get_dist_matrix(pklname='/projects/0/einf2380/data/pop_paper_data/allele_clustering/HLA_all.pkl')\n",
    "\n",
    "\n",
    "# clust_dfi = pd.read_csv('/projects/0/einf2380/data/external/processed/I/experiments/BA_pMHCI_human_quantitative_only_eq_pseudoseq_clustered_test.csv')\n",
    "# clust_dfi['label'] = np.where(clust_dfi['measurement_value'] < 500, 1.0, 0.0)\n",
    "clust_dfi = pd.read_csv('/projects/0/einf2380/data/external/processed/I/CrossValidations/AlleleClustered/test.csv')\n",
    "\n",
    "tdf=pd.read_csv(\n",
    "    '/projects/0/einf2380/data/external/processed/I/experiments/BA_pMHCI_human_quantitative_only_eq_pseudoseq_clustered_train_validation.csv')\n",
    "training_allele_freq = {}\n",
    "for allele in list(set(tdf['allele'])):\n",
    "    training_allele_freq[allele] = (tdf['allele'] == allele).sum()/len(tdf)\n",
    "\n",
    "test_alleles = list(set(clust_dfi['allele']))\n",
    "\n",
    "correlations = {}\n",
    "\n",
    "label_per_model = {'CNN': ('OUTPUT_1', 'TARGET'),\n",
    "                    'GNN': ('output', 'label'),\n",
    "                'EGNN': ('OUTPUT_1', 'TARGET'),\n",
    "                'SSL': ('OUTPUT_1', 'TARGET'),\n",
    "                'MLP': ('OUTPUT_1', 'label'),\n",
    "                'MHCflurry': ('OUTPUT_1', 'label'),\n",
    "                }"
   ]
  },
  {
   "cell_type": "markdown",
   "metadata": {},
   "source": [
    "### Get the models output for every model and plot AUC vs evolutionary distance from the training set per allele"
   ]
  },
  {
   "cell_type": "code",
   "execution_count": 2,
   "metadata": {},
   "outputs": [
    {
     "name": "stdout",
     "output_type": "stream",
     "text": [
      "TITLE CNN, AUC 0.6930787406249957\n",
      "TITLE CNN, AUC 0.6878341944280988\n",
      "TITLE CNN, AUC 0.6903267818565179\n",
      "TITLE CNN, AUC 0.7191671179686225\n",
      "TITLE CNN, AUC 0.7015906528204776\n",
      "TITLE GNN, AUC 0.7092782658454698\n",
      "TITLE GNN, AUC 0.7336012541943201\n",
      "TITLE GNN, AUC 0.7344766554869183\n",
      "TITLE GNN, AUC 0.7010897239420895\n",
      "TITLE GNN, AUC 0.6956768470084713\n",
      "TITLE EGNN, AUC 0.7382224767996637\n",
      "TITLE EGNN, AUC 0.7264746114383849\n",
      "TITLE EGNN, AUC 0.7130166555979716\n",
      "TITLE EGNN, AUC 0.7134472958238249\n",
      "TITLE EGNN, AUC 0.7292494049717004\n",
      "TITLE MHCflurry, AUC 0.6546790015053261\n",
      "TITLE MLP, AUC 0.6671806522834605\n",
      "TITLE MLP, AUC 0.486548587507768\n",
      "TITLE MLP, AUC 0.47850901106797955\n",
      "TITLE MLP, AUC 0.5539148155635133\n",
      "TITLE MLP, AUC 0.5991302790277954\n",
      "TITLE SSL, AUC 0.6415857406790357\n",
      "TITLE SSL, AUC 0.6811632197879242\n",
      "TITLE SSL, AUC 0.6593365780116895\n",
      "TITLE SSL, AUC 0.6730005727610489\n",
      "TITLE SSL, AUC 0.6521137961163166\n",
      "TITLE SSL, AUC 0.6626292665465534\n",
      "TITLE SSL, AUC 0.5678657676655686\n",
      "TITLE SSL, AUC 0.5538158199687816\n",
      "TITLE SSL, AUC 0.5626486042978925\n",
      "TITLE SSL, AUC 0.5841217009521217\n",
      "TITLE SSL, AUC 0.5557186577560997\n",
      "TITLE SSL, AUC 0.6477338317225289\n",
      "TITLE SSL, AUC 0.627856185490858\n",
      "TITLE SSL, AUC 0.624165436429711\n",
      "TITLE SSL, AUC 0.623080089380668\n",
      "TITLE SSL, AUC 0.6371713250671799\n",
      "TITLE SSL, AUC 0.6490295145342126\n",
      "TITLE SSL, AUC 0.6208457827507716\n",
      "TITLE SSL, AUC 0.6263585123612652\n",
      "TITLE SSL, AUC 0.6256716268781835\n",
      "TITLE SSL, AUC 0.6472055860778578\n",
      "TITLE SSL, AUC 0.6185108342587802\n",
      "TITLE SSL, AUC 0.6320142030684653\n",
      "TITLE SSL, AUC 0.644164788655145\n",
      "TITLE SSL, AUC 0.636611511870698\n",
      "TITLE SSL, AUC 0.6479355928749075\n",
      "TITLE SSL, AUC 0.6686924708581654\n",
      "TITLE SSL, AUC 0.6690797797016478\n",
      "TITLE SSL, AUC 0.695353225818033\n",
      "TITLE SSL, AUC 0.6618113556714725\n",
      "TITLE SSL, AUC 0.6978477499076845\n"
     ]
    }
   ],
   "source": [
    "def get_model_output(title, dfot, dfi):\n",
    "    ## Get output and distance per allele\n",
    "    allele_outputs = {}\n",
    "    title = title.split('_')[0]\n",
    "    outputs_key = label_per_model[title][0]\n",
    "    labels_key = label_per_model[title][1]\n",
    "    \n",
    "    for allele in test_alleles:\n",
    "        #gene = allele.split('*')[0].split('-')[1]\n",
    "        if allele in matrix['ALL'].keys():\n",
    "            #identify all the allele's IDs\n",
    "            IDs = dfi.loc[dfi['allele'] == allele, 'ID'].values\n",
    "            dfauc = pd.merge(dfi[dfi['ID'].isin(IDs)], dfot[dfot['ID'].isin(IDs)], on='ID')\n",
    "            if len(dfauc)>0:\n",
    "                allele_outputs[allele] = {}\n",
    "                auc = classMetrics.roc_auc(dfauc[outputs_key], dfauc[labels_key])\n",
    "                allele_outputs[allele]['auc'] = auc\n",
    "                allele_outputs[allele]['distance']= get_avg_distance(allele, matrix['ALL'], test_alleles) #matrix[gene]\n",
    "        else:\n",
    "            print(f'Allele {allele} not in Matrix ALL')\n",
    "        \n",
    "    #total AUC\n",
    "    IDs = dfi['ID'].values\n",
    "    dfauc = pd.merge(dfi[dfi['ID'].isin(IDs)], dfot[dfot['ID'].isin(IDs)], on='ID')\n",
    "    allele_outputs['total_auc'] = classMetrics.roc_auc(dfauc[outputs_key], dfauc[labels_key])\n",
    "    allele_outputs['total_auprc'] = auprc(dfauc[labels_key], dfauc[outputs_key])\n",
    "    print(f'TITLE {title}, AUC {allele_outputs[\"total_auc\"]}')\n",
    "    \n",
    "    return allele_outputs\n",
    "\n",
    "def get_shuff_auc(title, dfot, dfi):\n",
    "    IDs = dfi['ID'].values\n",
    "    title = title.split('_')[0]\n",
    "    outputs_key = label_per_model[title][0]\n",
    "    labels_key = label_per_model[title][1]\n",
    "    dfauc = pd.merge(dfi[dfi['ID'].isin(IDs)], dfot[dfot['ID'].isin(IDs)], on='ID')\n",
    "    return classMetrics.roc_auc(dfauc[outputs_key], dfauc[labels_key])\n",
    "\n",
    "def get_shuff_auprc(title, dfot, dfi):\n",
    "    IDs = dfi['ID'].values\n",
    "    title = title.split('_')[0]\n",
    "    outputs_key = label_per_model[title][0]\n",
    "    labels_key = label_per_model[title][1]\n",
    "    dfauc = pd.merge(dfi[dfi['ID'].isin(IDs)], dfot[dfot['ID'].isin(IDs)], on='ID')\n",
    "    return auprc(dfauc[labels_key], dfauc[outputs_key])\n",
    "\n",
    "\n",
    "models_outputs = {}\n",
    "\n",
    "title = 'CNN'\n",
    "models_outputs[title] = {}\n",
    "for fold in range(1,6):\n",
    "    #%% CNN outputs\n",
    "    dfot = pd.read_csv(f'/projects/0/einf2380/data/pop_paper_data/cnn_outputs/allele_crossval/allele_cnn_outputs_fold_{fold}.csv')\n",
    "    #dfot = dfo[dfo['PHASE'].str.contains('testing', case=False)]\n",
    "    dfot['TARGET'] = dfot['TARGET'].astype(float)\n",
    "    dfot['ID'] = dfot['KEY']\n",
    "\n",
    "    models_outputs[title][fold] = get_model_output(title, dfot, clust_dfi)\n",
    "\n",
    "# GNN outputs\n",
    "title = 'GNN'\n",
    "models_outputs[title] = {}\n",
    "for fold in range(1,6):\n",
    "    dfot = pd.read_csv(f'/projects/0/einf2380/data/pop_paper_data/gnn_outputs/allele_crossval/allele_gnn_outputs_n_run_{fold}.csv')\n",
    "\n",
    "    models_outputs[title][fold] = get_model_output(title, dfot, clust_dfi)\n",
    "\n",
    "#%% EGNN outputs\n",
    "def sigmoid(x):\n",
    "    return np.exp(-np.logaddexp(0, -x))\n",
    "\n",
    "title = 'EGNN'\n",
    "models_outputs[title] = {}\n",
    "for fold in range(1,6):\n",
    "    dfot = pd.read_csv(f'/projects/0/einf2380/data/pop_paper_data/egnn_outputs/allele_crossval/AlleleClustered_{fold}_final_test_test_results.csv')\n",
    "    #dfot = dfo[dfo['PHASE'].str.contains('validation', case=False)]\n",
    "    dfot['OUTPUT_1']=sigmoid(dfot['Output'])\n",
    "    dfot['TARGET'] = dfot['Target'].astype(float)\n",
    "    dfot['ID'] = dfot['Key']\n",
    "\n",
    "    models_outputs[title][fold] = get_model_output(title, dfot, clust_dfi)\n",
    "\n",
    "\n",
    "#%% MHCflurry outputs\n",
    "title='MHCflurry'\n",
    "dfo = pd.read_csv('/projects/0/einf2380/data/pop_paper_data/mhcflurry_outputs/allele_mhcflurry_outputs.csv',\n",
    "                header=None, names=['ID', 'BA', 'OUTPUT_1'])\n",
    "\n",
    "models_outputs[title] = get_model_output(title, dfo, clust_dfi)\n",
    "\n",
    "#%% MLP \n",
    "title='MLP'\n",
    "models_outputs[title] = {}\n",
    "for fold in range(1,6):\n",
    "    dfo = pd.read_csv(f'/projects/0/einf2380/data/pop_paper_data/mlp_outputs/allele_crossval/AlleleClustered_{fold}.csv')\n",
    "\n",
    "    models_outputs[title][fold] = get_model_output(title, dfo, clust_dfi)\n",
    "\n",
    "#%% SSL without TCRs outputs\n",
    "\n",
    "title = 'SSL_woT'\n",
    "dfo = pd.read_csv('/projects/0/einf2380/data/pop_paper_data/egnn_outputs/egnn_ssl_no_tcr_allele.csv')\n",
    "dfot = dfo[dfo['PHASE'].str.contains('validation', case=False)]\n",
    "dfot['OUTPUT_1']=sigmoid(dfot['OUTPUT_0'])\n",
    "dfot['TARGET'] = dfot['TARGET'].astype(float)\n",
    "dfot['ID'] = dfot['KEY']\n",
    "\n",
    "models_outputs[title] = get_model_output(title, dfot, clust_dfi)\n",
    "\n",
    "title = 'SSL_T'\n",
    "models_outputs[title] = {}\n",
    "for fold in range(1,6):\n",
    "    dfot = pd.read_csv(f'/projects/0/einf2380/data/pMHCI/trained_models/3DSSL/xray_{fold}_test_results.csv')\n",
    "    #dfot = dfo[dfo['PHASE'].str.contains('validation', case=False)]\n",
    "    dfot['OUTPUT_1']=sigmoid(dfot['Log_prob'])\n",
    "    dfot['TARGET'] = dfot['Target'].astype(float)\n",
    "    dfot['ID'] = dfot['Key']\n",
    "\n",
    "    models_outputs[title][fold] = get_model_output(title, dfot, clust_dfi)\n",
    "    \n",
    "title = 'SSL_1k'\n",
    "models_outputs[title] = {}\n",
    "for fold in range(1,6):\n",
    "    dfot = pd.read_csv(f'/projects/0/einf2380/data/pMHCI/trained_models/3DSSL/pandora_1k_{fold}_test_results.csv')\n",
    "    #dfot = dfo[dfo['PHASE'].str.contains('validation', case=False)]\n",
    "    dfot['OUTPUT_1']=sigmoid(dfot['Log_prob'])\n",
    "    dfot['TARGET'] = dfot['Target'].astype(float)\n",
    "    dfot['ID'] = dfot['Key']\n",
    "\n",
    "    models_outputs[title][fold] = get_model_output(title, dfot, clust_dfi)\n",
    "    \n",
    "title = 'SSL_5k'\n",
    "models_outputs[title] = {}\n",
    "for fold in range(1,6):\n",
    "    dfot = pd.read_csv(f'/projects/0/einf2380/data/pMHCI/trained_models/3DSSL/pandora_5k_{fold}_test_results.csv')\n",
    "    #dfot = dfo[dfo['PHASE'].str.contains('validation', case=False)]\n",
    "    dfot['OUTPUT_1']=sigmoid(dfot['Log_prob'])\n",
    "    dfot['TARGET'] = dfot['Target'].astype(float)\n",
    "    dfot['ID'] = dfot['Key']\n",
    "\n",
    "    models_outputs[title][fold] = get_model_output(title, dfot, clust_dfi)\n",
    "    \n",
    "title = 'SSL_10k'\n",
    "models_outputs[title] = {}\n",
    "for fold in range(1,6):\n",
    "    dfot = pd.read_csv(f'/projects/0/einf2380/data/pMHCI/trained_models/3DSSL/pandora_10k_{fold}_test_results.csv')\n",
    "    #dfot = dfo[dfo['PHASE'].str.contains('validation', case=False)]\n",
    "    dfot['OUTPUT_1']=sigmoid(dfot['Log_prob'])\n",
    "    dfot['TARGET'] = dfot['Target'].astype(float)\n",
    "    dfot['ID'] = dfot['Key']\n",
    "\n",
    "    models_outputs[title][fold] = get_model_output(title, dfot, clust_dfi)\n",
    "    \n",
    "title = 'SSL_all'\n",
    "models_outputs[title] = {}\n",
    "for fold in range(1,6):\n",
    "    dfot = pd.read_csv(f'/projects/0/einf2380/data/pMHCI/trained_models/3DSSL/pandora_all_{fold}_test_results.csv')\n",
    "    #dfot = dfo[dfo['PHASE'].str.contains('validation', case=False)]\n",
    "    dfot['OUTPUT_1']=sigmoid(dfot['Log_prob'])\n",
    "    dfot['TARGET'] = dfot['Target'].astype(float)\n",
    "    dfot['ID'] = dfot['Key']\n",
    "\n",
    "    models_outputs[title][fold] = get_model_output(title, dfot, clust_dfi)\n",
    "    \n",
    "title = 'SSL_xray_pandora'\n",
    "models_outputs[title] = {}\n",
    "for fold in range(1,6):\n",
    "    dfot = pd.read_csv(f'/projects/0/einf2380/data/pMHCI/trained_models/3DSSL/xray_pandora_all_{fold}_test_results.csv')\n",
    "    #dfot = dfo[dfo['PHASE'].str.contains('validation', case=False)]\n",
    "    dfot['OUTPUT_1']=sigmoid(dfot['Log_prob'])\n",
    "    dfot['TARGET'] = dfot['Target'].astype(float)\n",
    "    dfot['ID'] = dfot['Key']\n",
    "\n",
    "    models_outputs[title][fold] = get_model_output(title, dfot, clust_dfi)\n",
    "\n",
    "\n"
   ]
  },
  {
   "cell_type": "code",
   "execution_count": 3,
   "metadata": {},
   "outputs": [
    {
     "data": {
      "text/plain": [
       "{1: {'HLA-C*07:02': {'auc': 0.45052083333333337,\n",
       "   'distance': 2.572262338534587},\n",
       "  'HLA-C*07:01': {'auc': 0.4285714285714286, 'distance': 2.476456802782781},\n",
       "  'HLA-B*57:01': {'auc': 0.6797427442661256, 'distance': 1.6820218860872325},\n",
       "  'HLA-A*80:01': {'auc': 0.5675, 'distance': 1.533499026373807},\n",
       "  'HLA-B*58:02': {'auc': 0.7696969696969698, 'distance': 1.9761651040160806},\n",
       "  'HLA-B*58:01': {'auc': 0.7172977604073912, 'distance': 1.8474604009795539},\n",
       "  'HLA-A*24:02': {'auc': 0.6469768267649177, 'distance': 1.475550758757997},\n",
       "  'HLA-B*57:03': {'auc': 0.8148148148148149, 'distance': 1.5215284225220425},\n",
       "  'HLA-B*57:02': {'auc': 0.6071428571428571, 'distance': 1.6234347903905226},\n",
       "  'HLA-A*23:01': {'auc': 0.63533572094983, 'distance': 1.384291246223569},\n",
       "  'HLA-A*01:01': {'auc': 0.6873106485030764, 'distance': 1.5214139698148943},\n",
       "  'HLA-B*15:17': {'auc': 0.5828042328042329, 'distance': 2.0049060224751116},\n",
       "  'HLA-A*24:03': {'auc': 0.7127285513361464, 'distance': 1.4592600440930255},\n",
       "  'total_auc': 0.6811632197879242,\n",
       "  'total_auprc': 0.5889555790731524},\n",
       " 2: {'HLA-C*07:02': {'auc': 0.49557291666666675,\n",
       "   'distance': 2.572262338534587},\n",
       "  'HLA-C*07:01': {'auc': 0.38095238095238093, 'distance': 2.476456802782781},\n",
       "  'HLA-B*57:01': {'auc': 0.6319271505872226, 'distance': 1.6820218860872325},\n",
       "  'HLA-A*80:01': {'auc': 0.6074999999999999, 'distance': 1.533499026373807},\n",
       "  'HLA-B*58:02': {'auc': 0.4757575757575757, 'distance': 1.9761651040160806},\n",
       "  'HLA-B*58:01': {'auc': 0.6864871174089459, 'distance': 1.8474604009795539},\n",
       "  'HLA-A*24:02': {'auc': 0.6430407662882472, 'distance': 1.475550758757997},\n",
       "  'HLA-B*57:03': {'auc': 0.5714285714285714, 'distance': 1.5215284225220425},\n",
       "  'HLA-B*57:02': {'auc': 0.5, 'distance': 1.6234347903905226},\n",
       "  'HLA-A*23:01': {'auc': 0.6109918138862973, 'distance': 1.384291246223569},\n",
       "  'HLA-A*01:01': {'auc': 0.6248007705765564, 'distance': 1.5214139698148943},\n",
       "  'HLA-B*15:17': {'auc': 0.5755799755799755, 'distance': 2.0049060224751116},\n",
       "  'HLA-A*24:03': {'auc': 0.7015646976090015, 'distance': 1.4592600440930255},\n",
       "  'total_auc': 0.6593365780116895,\n",
       "  'total_auprc': 0.5522430292462607},\n",
       " 3: {'HLA-C*07:02': {'auc': 0.5010416666666667, 'distance': 2.572262338534587},\n",
       "  'HLA-C*07:01': {'auc': 0.7023809523809524, 'distance': 2.476456802782781},\n",
       "  'HLA-B*57:01': {'auc': 0.6297020076246695, 'distance': 1.6820218860872325},\n",
       "  'HLA-A*80:01': {'auc': 0.5273611111111112, 'distance': 1.533499026373807},\n",
       "  'HLA-B*58:02': {'auc': 0.6848484848484848, 'distance': 1.9761651040160806},\n",
       "  'HLA-B*58:01': {'auc': 0.6942664888983014, 'distance': 1.8474604009795539},\n",
       "  'HLA-A*24:02': {'auc': 0.6802847756262115, 'distance': 1.475550758757997},\n",
       "  'HLA-B*57:03': {'auc': 0.6931216931216931, 'distance': 1.5215284225220425},\n",
       "  'HLA-B*57:02': {'auc': 0.5892857142857143, 'distance': 1.6234347903905226},\n",
       "  'HLA-A*23:01': {'auc': 0.6532240346705992, 'distance': 1.384291246223569},\n",
       "  'HLA-A*01:01': {'auc': 0.5928639106760236, 'distance': 1.5214139698148943},\n",
       "  'HLA-B*15:17': {'auc': 0.5724867724867725, 'distance': 2.0049060224751116},\n",
       "  'HLA-A*24:03': {'auc': 0.7187646507266761, 'distance': 1.4592600440930255},\n",
       "  'total_auc': 0.6730005727610489,\n",
       "  'total_auprc': 0.5680620377249578},\n",
       " 4: {'HLA-C*07:02': {'auc': 0.5578125, 'distance': 2.572262338534587},\n",
       "  'HLA-C*07:01': {'auc': 0.7738095238095238, 'distance': 2.476456802782781},\n",
       "  'HLA-B*57:01': {'auc': 0.6245695751091435, 'distance': 1.6820218860872325},\n",
       "  'HLA-A*80:01': {'auc': 0.5636111111111112, 'distance': 1.533499026373807},\n",
       "  'HLA-B*58:02': {'auc': 0.5454545454545454, 'distance': 1.9761651040160806},\n",
       "  'HLA-B*58:01': {'auc': 0.6734709594197178, 'distance': 1.8474604009795539},\n",
       "  'HLA-A*24:02': {'auc': 0.6538401717340236, 'distance': 1.475550758757997},\n",
       "  'HLA-B*57:03': {'auc': 0.746031746031746, 'distance': 1.5215284225220425},\n",
       "  'HLA-B*57:02': {'auc': 0.5535714285714286, 'distance': 1.6234347903905226},\n",
       "  'HLA-A*23:01': {'auc': 0.6335088933698498, 'distance': 1.384291246223569},\n",
       "  'HLA-A*01:01': {'auc': 0.6179638693951368, 'distance': 1.5214139698148943},\n",
       "  'HLA-B*15:17': {'auc': 0.5334350834350835, 'distance': 2.0049060224751116},\n",
       "  'HLA-A*24:03': {'auc': 0.6894338959212378, 'distance': 1.4592600440930255},\n",
       "  'total_auc': 0.6521137961163166,\n",
       "  'total_auprc': 0.5485577719697821},\n",
       " 5: {'HLA-C*07:02': {'auc': 0.5098958333333332, 'distance': 2.572262338534587},\n",
       "  'HLA-C*07:01': {'auc': 0.6904761904761905, 'distance': 2.476456802782781},\n",
       "  'HLA-B*57:01': {'auc': 0.6346461292504458, 'distance': 1.6820218860872325},\n",
       "  'HLA-A*80:01': {'auc': 0.5844444444444444, 'distance': 1.533499026373807},\n",
       "  'HLA-B*58:02': {'auc': 0.506060606060606, 'distance': 1.9761651040160806},\n",
       "  'HLA-B*58:01': {'auc': 0.6886241883702908, 'distance': 1.8474604009795539},\n",
       "  'HLA-A*24:02': {'auc': 0.6473462221889632, 'distance': 1.475550758757997},\n",
       "  'HLA-B*57:03': {'auc': 0.7248677248677249, 'distance': 1.5215284225220425},\n",
       "  'HLA-B*57:02': {'auc': 0.5, 'distance': 1.6234347903905226},\n",
       "  'HLA-A*23:01': {'auc': 0.6220694013904355, 'distance': 1.384291246223569},\n",
       "  'HLA-A*01:01': {'auc': 0.6351040868078079, 'distance': 1.5214139698148943},\n",
       "  'HLA-B*15:17': {'auc': 0.5456450956450957, 'distance': 2.0049060224751116},\n",
       "  'HLA-A*24:03': {'auc': 0.6504336615096108, 'distance': 1.4592600440930255},\n",
       "  'total_auc': 0.6626292665465534,\n",
       "  'total_auprc': 0.5558355510337945}}"
      ]
     },
     "execution_count": 3,
     "metadata": {},
     "output_type": "execute_result"
    }
   ],
   "source": [
    "models_outputs['SSL_T']"
   ]
  },
  {
   "cell_type": "code",
   "execution_count": 21,
   "metadata": {},
   "outputs": [
    {
     "data": {
      "application/vnd.plotly.v1+json": {
       "config": {
        "plotlyServerURL": "https://plot.ly"
       },
       "data": [
        {
         "error_y": {
          "array": [
           0.011591615410950617,
           0.026140837932091206,
           0.009203456144413725,
           0.04119391672941775,
           0.012226361088077602,
           0.02536270829308436,
           0.07607257743127308,
           0.012628293722632996,
           0.01215743648543178,
           0.025672540336542597,
           0.024303781640381057,
           0.027577052546646354,
           0.019617738461788332
          ],
          "type": "data"
         },
         "name": "CNN",
         "type": "bar",
         "x": [
          "HLA-A*23:01 N=1711",
          "HLA-A*80:01 N=180",
          "HLA-A*24:02 N=2591",
          "HLA-B*57:03 N=34",
          "HLA-A*01:01 N=2416",
          "HLA-A*24:03 N=424",
          "HLA-B*57:02 N=18",
          "HLA-B*57:01 N=1024",
          "HLA-B*58:01 N=1303",
          "HLA-B*58:02 N=43",
          "HLA-B*15:17 N=508",
          "HLA-C*07:01 N=19",
          "HLA-C*07:02 N=128"
         ],
         "y": [
          0.6817994827740292,
          0.6968026755852843,
          0.6900346485827182,
          0.7442857142857143,
          0.704367765731402,
          0.7501023065476191,
          0.5416666666666667,
          0.7142197277331913,
          0.6981870688272099,
          0.6709359605911329,
          0.6957006369426751,
          0.6688888888888889,
          0.7202012578616351
         ]
        },
        {
         "error_y": {
          "array": [
           0.04332219747341509,
           0.026126177686256143,
           0.04456893610035343,
           0.07589596223086179,
           0.012359785043511675,
           0.029900140125697614,
           0.09936019816602543,
           0.025304424971320433,
           0.013934763991845149,
           0.04492213444898524,
           0.02943212090901881,
           0.05429406786186372,
           0.052341651077320826
          ],
          "type": "data"
         },
         "name": "GNN",
         "type": "bar",
         "x": [
          "HLA-A*23:01 N=1711",
          "HLA-A*80:01 N=180",
          "HLA-A*24:02 N=2591",
          "HLA-B*57:03 N=34",
          "HLA-A*01:01 N=2416",
          "HLA-A*24:03 N=424",
          "HLA-B*57:02 N=18",
          "HLA-B*57:01 N=1024",
          "HLA-B*58:01 N=1303",
          "HLA-B*58:02 N=43",
          "HLA-B*15:17 N=508",
          "HLA-C*07:01 N=19",
          "HLA-C*07:02 N=128"
         ],
         "y": [
          0.6934867728052486,
          0.653888888888889,
          0.7015005753535819,
          0.707936507936508,
          0.662890794649882,
          0.8116421895861148,
          0.55,
          0.752796993174691,
          0.7935291031521796,
          0.636969696969697,
          0.7043746174250153,
          0.5238095238095237,
          0.44421875
         ]
        },
        {
         "error_y": {
          "array": [
           0.01704551255722896,
           0.03224623147663064,
           0.024735468024657054,
           0.08674667315098072,
           0.04980736157769121,
           0.024024573056614564,
           0.08921425711997713,
           0.01886893172935688,
           0.012514765073609869,
           0.12044606411917252,
           0.03262373093606822,
           0.15178454714770692,
           0.03689154819365813
          ],
          "type": "data"
         },
         "name": "EGNN",
         "type": "bar",
         "x": [
          "HLA-A*23:01 N=1711",
          "HLA-A*80:01 N=180",
          "HLA-A*24:02 N=2591",
          "HLA-B*57:03 N=34",
          "HLA-A*01:01 N=2416",
          "HLA-A*24:03 N=424",
          "HLA-B*57:02 N=18",
          "HLA-B*57:01 N=1024",
          "HLA-B*58:01 N=1303",
          "HLA-B*58:02 N=43",
          "HLA-B*15:17 N=508",
          "HLA-C*07:01 N=19",
          "HLA-C*07:02 N=128"
         ],
         "y": [
          0.7096623228097633,
          0.6439722222222222,
          0.6813520973002953,
          0.7566137566137565,
          0.6667371193803936,
          0.755672761368964,
          0.5035714285714287,
          0.7335385537723667,
          0.7762383219179732,
          0.6163636363636364,
          0.7122425722425721,
          0.5142857142857143,
          0.3986458333333333
         ]
        },
        {
         "name": "MHCflurry",
         "type": "bar",
         "x": [
          "HLA-A*23:01 N=1711",
          "HLA-A*80:01 N=180",
          "HLA-A*24:02 N=2591",
          "HLA-B*57:03 N=34",
          "HLA-A*01:01 N=2416",
          "HLA-A*24:03 N=424",
          "HLA-B*57:02 N=18",
          "HLA-B*57:01 N=1024",
          "HLA-B*58:01 N=1303",
          "HLA-B*58:02 N=43",
          "HLA-B*15:17 N=508",
          "HLA-C*07:01 N=19",
          "HLA-C*07:02 N=128"
         ],
         "y": [
          0.5249929147295236,
          0.5827777777777778,
          0.4832127617382874,
          0.6243386243386244,
          0.6850128914168749,
          0.5983649789029535,
          0.5,
          0.6525425036255361,
          0.6933917832041158,
          0.5636363636363636,
          0.63005698005698,
          0.6904761904761905,
          0.2635416666666667
         ]
        },
        {
         "error_y": {
          "array": [
           0.05586946237874876,
           0.03698698991320471,
           0.04570741819761377,
           0.13332283489364763,
           0.036120338408803854,
           0.03098471180545646,
           0.11157499537009506,
           0.08300721177769553,
           0.09146101484168256,
           0.07876456531531992,
           0.055204082899518316,
           0.08261595987094034,
           0.08997470830005816
          ],
          "type": "data"
         },
         "name": "MLP",
         "type": "bar",
         "x": [
          "HLA-A*23:01 N=1711",
          "HLA-A*80:01 N=180",
          "HLA-A*24:02 N=2591",
          "HLA-B*57:03 N=34",
          "HLA-A*01:01 N=2416",
          "HLA-A*24:03 N=424",
          "HLA-B*57:02 N=18",
          "HLA-B*57:01 N=1024",
          "HLA-B*58:01 N=1303",
          "HLA-B*58:02 N=43",
          "HLA-B*15:17 N=508",
          "HLA-C*07:01 N=19",
          "HLA-C*07:02 N=128"
         ],
         "y": [
          0.6292463382719176,
          0.5455833333333333,
          0.5954014850503463,
          0.47830687830687824,
          0.47708028105256944,
          0.7488045007032349,
          0.4035714285714286,
          0.5198262828226727,
          0.5426841050165446,
          0.4424242424242424,
          0.499916564916565,
          0.5452380952380953,
          0.40145833333333336
         ]
        }
       ],
       "layout": {
        "autosize": false,
        "height": 400,
        "shapes": [
         {
          "line": {
           "dash": "dash"
          },
          "type": "line",
          "x0": 0,
          "x1": 1,
          "xref": "x domain",
          "y0": 0.5,
          "y1": 0.5,
          "yref": "y"
         }
        ],
        "template": {
         "data": {
          "bar": [
           {
            "error_x": {
             "color": "#2a3f5f"
            },
            "error_y": {
             "color": "#2a3f5f"
            },
            "marker": {
             "line": {
              "color": "#E5ECF6",
              "width": 0.5
             },
             "pattern": {
              "fillmode": "overlay",
              "size": 10,
              "solidity": 0.2
             }
            },
            "type": "bar"
           }
          ],
          "barpolar": [
           {
            "marker": {
             "line": {
              "color": "#E5ECF6",
              "width": 0.5
             },
             "pattern": {
              "fillmode": "overlay",
              "size": 10,
              "solidity": 0.2
             }
            },
            "type": "barpolar"
           }
          ],
          "carpet": [
           {
            "aaxis": {
             "endlinecolor": "#2a3f5f",
             "gridcolor": "white",
             "linecolor": "white",
             "minorgridcolor": "white",
             "startlinecolor": "#2a3f5f"
            },
            "baxis": {
             "endlinecolor": "#2a3f5f",
             "gridcolor": "white",
             "linecolor": "white",
             "minorgridcolor": "white",
             "startlinecolor": "#2a3f5f"
            },
            "type": "carpet"
           }
          ],
          "choropleth": [
           {
            "colorbar": {
             "outlinewidth": 0,
             "ticks": ""
            },
            "type": "choropleth"
           }
          ],
          "contour": [
           {
            "colorbar": {
             "outlinewidth": 0,
             "ticks": ""
            },
            "colorscale": [
             [
              0,
              "#0d0887"
             ],
             [
              0.1111111111111111,
              "#46039f"
             ],
             [
              0.2222222222222222,
              "#7201a8"
             ],
             [
              0.3333333333333333,
              "#9c179e"
             ],
             [
              0.4444444444444444,
              "#bd3786"
             ],
             [
              0.5555555555555556,
              "#d8576b"
             ],
             [
              0.6666666666666666,
              "#ed7953"
             ],
             [
              0.7777777777777778,
              "#fb9f3a"
             ],
             [
              0.8888888888888888,
              "#fdca26"
             ],
             [
              1,
              "#f0f921"
             ]
            ],
            "type": "contour"
           }
          ],
          "contourcarpet": [
           {
            "colorbar": {
             "outlinewidth": 0,
             "ticks": ""
            },
            "type": "contourcarpet"
           }
          ],
          "heatmap": [
           {
            "colorbar": {
             "outlinewidth": 0,
             "ticks": ""
            },
            "colorscale": [
             [
              0,
              "#0d0887"
             ],
             [
              0.1111111111111111,
              "#46039f"
             ],
             [
              0.2222222222222222,
              "#7201a8"
             ],
             [
              0.3333333333333333,
              "#9c179e"
             ],
             [
              0.4444444444444444,
              "#bd3786"
             ],
             [
              0.5555555555555556,
              "#d8576b"
             ],
             [
              0.6666666666666666,
              "#ed7953"
             ],
             [
              0.7777777777777778,
              "#fb9f3a"
             ],
             [
              0.8888888888888888,
              "#fdca26"
             ],
             [
              1,
              "#f0f921"
             ]
            ],
            "type": "heatmap"
           }
          ],
          "heatmapgl": [
           {
            "colorbar": {
             "outlinewidth": 0,
             "ticks": ""
            },
            "colorscale": [
             [
              0,
              "#0d0887"
             ],
             [
              0.1111111111111111,
              "#46039f"
             ],
             [
              0.2222222222222222,
              "#7201a8"
             ],
             [
              0.3333333333333333,
              "#9c179e"
             ],
             [
              0.4444444444444444,
              "#bd3786"
             ],
             [
              0.5555555555555556,
              "#d8576b"
             ],
             [
              0.6666666666666666,
              "#ed7953"
             ],
             [
              0.7777777777777778,
              "#fb9f3a"
             ],
             [
              0.8888888888888888,
              "#fdca26"
             ],
             [
              1,
              "#f0f921"
             ]
            ],
            "type": "heatmapgl"
           }
          ],
          "histogram": [
           {
            "marker": {
             "pattern": {
              "fillmode": "overlay",
              "size": 10,
              "solidity": 0.2
             }
            },
            "type": "histogram"
           }
          ],
          "histogram2d": [
           {
            "colorbar": {
             "outlinewidth": 0,
             "ticks": ""
            },
            "colorscale": [
             [
              0,
              "#0d0887"
             ],
             [
              0.1111111111111111,
              "#46039f"
             ],
             [
              0.2222222222222222,
              "#7201a8"
             ],
             [
              0.3333333333333333,
              "#9c179e"
             ],
             [
              0.4444444444444444,
              "#bd3786"
             ],
             [
              0.5555555555555556,
              "#d8576b"
             ],
             [
              0.6666666666666666,
              "#ed7953"
             ],
             [
              0.7777777777777778,
              "#fb9f3a"
             ],
             [
              0.8888888888888888,
              "#fdca26"
             ],
             [
              1,
              "#f0f921"
             ]
            ],
            "type": "histogram2d"
           }
          ],
          "histogram2dcontour": [
           {
            "colorbar": {
             "outlinewidth": 0,
             "ticks": ""
            },
            "colorscale": [
             [
              0,
              "#0d0887"
             ],
             [
              0.1111111111111111,
              "#46039f"
             ],
             [
              0.2222222222222222,
              "#7201a8"
             ],
             [
              0.3333333333333333,
              "#9c179e"
             ],
             [
              0.4444444444444444,
              "#bd3786"
             ],
             [
              0.5555555555555556,
              "#d8576b"
             ],
             [
              0.6666666666666666,
              "#ed7953"
             ],
             [
              0.7777777777777778,
              "#fb9f3a"
             ],
             [
              0.8888888888888888,
              "#fdca26"
             ],
             [
              1,
              "#f0f921"
             ]
            ],
            "type": "histogram2dcontour"
           }
          ],
          "mesh3d": [
           {
            "colorbar": {
             "outlinewidth": 0,
             "ticks": ""
            },
            "type": "mesh3d"
           }
          ],
          "parcoords": [
           {
            "line": {
             "colorbar": {
              "outlinewidth": 0,
              "ticks": ""
             }
            },
            "type": "parcoords"
           }
          ],
          "pie": [
           {
            "automargin": true,
            "type": "pie"
           }
          ],
          "scatter": [
           {
            "fillpattern": {
             "fillmode": "overlay",
             "size": 10,
             "solidity": 0.2
            },
            "type": "scatter"
           }
          ],
          "scatter3d": [
           {
            "line": {
             "colorbar": {
              "outlinewidth": 0,
              "ticks": ""
             }
            },
            "marker": {
             "colorbar": {
              "outlinewidth": 0,
              "ticks": ""
             }
            },
            "type": "scatter3d"
           }
          ],
          "scattercarpet": [
           {
            "marker": {
             "colorbar": {
              "outlinewidth": 0,
              "ticks": ""
             }
            },
            "type": "scattercarpet"
           }
          ],
          "scattergeo": [
           {
            "marker": {
             "colorbar": {
              "outlinewidth": 0,
              "ticks": ""
             }
            },
            "type": "scattergeo"
           }
          ],
          "scattergl": [
           {
            "marker": {
             "colorbar": {
              "outlinewidth": 0,
              "ticks": ""
             }
            },
            "type": "scattergl"
           }
          ],
          "scattermapbox": [
           {
            "marker": {
             "colorbar": {
              "outlinewidth": 0,
              "ticks": ""
             }
            },
            "type": "scattermapbox"
           }
          ],
          "scatterpolar": [
           {
            "marker": {
             "colorbar": {
              "outlinewidth": 0,
              "ticks": ""
             }
            },
            "type": "scatterpolar"
           }
          ],
          "scatterpolargl": [
           {
            "marker": {
             "colorbar": {
              "outlinewidth": 0,
              "ticks": ""
             }
            },
            "type": "scatterpolargl"
           }
          ],
          "scatterternary": [
           {
            "marker": {
             "colorbar": {
              "outlinewidth": 0,
              "ticks": ""
             }
            },
            "type": "scatterternary"
           }
          ],
          "surface": [
           {
            "colorbar": {
             "outlinewidth": 0,
             "ticks": ""
            },
            "colorscale": [
             [
              0,
              "#0d0887"
             ],
             [
              0.1111111111111111,
              "#46039f"
             ],
             [
              0.2222222222222222,
              "#7201a8"
             ],
             [
              0.3333333333333333,
              "#9c179e"
             ],
             [
              0.4444444444444444,
              "#bd3786"
             ],
             [
              0.5555555555555556,
              "#d8576b"
             ],
             [
              0.6666666666666666,
              "#ed7953"
             ],
             [
              0.7777777777777778,
              "#fb9f3a"
             ],
             [
              0.8888888888888888,
              "#fdca26"
             ],
             [
              1,
              "#f0f921"
             ]
            ],
            "type": "surface"
           }
          ],
          "table": [
           {
            "cells": {
             "fill": {
              "color": "#EBF0F8"
             },
             "line": {
              "color": "white"
             }
            },
            "header": {
             "fill": {
              "color": "#C8D4E3"
             },
             "line": {
              "color": "white"
             }
            },
            "type": "table"
           }
          ]
         },
         "layout": {
          "annotationdefaults": {
           "arrowcolor": "#2a3f5f",
           "arrowhead": 0,
           "arrowwidth": 1
          },
          "autotypenumbers": "strict",
          "coloraxis": {
           "colorbar": {
            "outlinewidth": 0,
            "ticks": ""
           }
          },
          "colorscale": {
           "diverging": [
            [
             0,
             "#8e0152"
            ],
            [
             0.1,
             "#c51b7d"
            ],
            [
             0.2,
             "#de77ae"
            ],
            [
             0.3,
             "#f1b6da"
            ],
            [
             0.4,
             "#fde0ef"
            ],
            [
             0.5,
             "#f7f7f7"
            ],
            [
             0.6,
             "#e6f5d0"
            ],
            [
             0.7,
             "#b8e186"
            ],
            [
             0.8,
             "#7fbc41"
            ],
            [
             0.9,
             "#4d9221"
            ],
            [
             1,
             "#276419"
            ]
           ],
           "sequential": [
            [
             0,
             "#0d0887"
            ],
            [
             0.1111111111111111,
             "#46039f"
            ],
            [
             0.2222222222222222,
             "#7201a8"
            ],
            [
             0.3333333333333333,
             "#9c179e"
            ],
            [
             0.4444444444444444,
             "#bd3786"
            ],
            [
             0.5555555555555556,
             "#d8576b"
            ],
            [
             0.6666666666666666,
             "#ed7953"
            ],
            [
             0.7777777777777778,
             "#fb9f3a"
            ],
            [
             0.8888888888888888,
             "#fdca26"
            ],
            [
             1,
             "#f0f921"
            ]
           ],
           "sequentialminus": [
            [
             0,
             "#0d0887"
            ],
            [
             0.1111111111111111,
             "#46039f"
            ],
            [
             0.2222222222222222,
             "#7201a8"
            ],
            [
             0.3333333333333333,
             "#9c179e"
            ],
            [
             0.4444444444444444,
             "#bd3786"
            ],
            [
             0.5555555555555556,
             "#d8576b"
            ],
            [
             0.6666666666666666,
             "#ed7953"
            ],
            [
             0.7777777777777778,
             "#fb9f3a"
            ],
            [
             0.8888888888888888,
             "#fdca26"
            ],
            [
             1,
             "#f0f921"
            ]
           ]
          },
          "colorway": [
           "#636efa",
           "#EF553B",
           "#00cc96",
           "#ab63fa",
           "#FFA15A",
           "#19d3f3",
           "#FF6692",
           "#B6E880",
           "#FF97FF",
           "#FECB52"
          ],
          "font": {
           "color": "#2a3f5f"
          },
          "geo": {
           "bgcolor": "white",
           "lakecolor": "white",
           "landcolor": "#E5ECF6",
           "showlakes": true,
           "showland": true,
           "subunitcolor": "white"
          },
          "hoverlabel": {
           "align": "left"
          },
          "hovermode": "closest",
          "mapbox": {
           "style": "light"
          },
          "paper_bgcolor": "white",
          "plot_bgcolor": "#E5ECF6",
          "polar": {
           "angularaxis": {
            "gridcolor": "white",
            "linecolor": "white",
            "ticks": ""
           },
           "bgcolor": "#E5ECF6",
           "radialaxis": {
            "gridcolor": "white",
            "linecolor": "white",
            "ticks": ""
           }
          },
          "scene": {
           "xaxis": {
            "backgroundcolor": "#E5ECF6",
            "gridcolor": "white",
            "gridwidth": 2,
            "linecolor": "white",
            "showbackground": true,
            "ticks": "",
            "zerolinecolor": "white"
           },
           "yaxis": {
            "backgroundcolor": "#E5ECF6",
            "gridcolor": "white",
            "gridwidth": 2,
            "linecolor": "white",
            "showbackground": true,
            "ticks": "",
            "zerolinecolor": "white"
           },
           "zaxis": {
            "backgroundcolor": "#E5ECF6",
            "gridcolor": "white",
            "gridwidth": 2,
            "linecolor": "white",
            "showbackground": true,
            "ticks": "",
            "zerolinecolor": "white"
           }
          },
          "shapedefaults": {
           "line": {
            "color": "#2a3f5f"
           }
          },
          "ternary": {
           "aaxis": {
            "gridcolor": "white",
            "linecolor": "white",
            "ticks": ""
           },
           "baxis": {
            "gridcolor": "white",
            "linecolor": "white",
            "ticks": ""
           },
           "bgcolor": "#E5ECF6",
           "caxis": {
            "gridcolor": "white",
            "linecolor": "white",
            "ticks": ""
           }
          },
          "title": {
           "x": 0.05
          },
          "xaxis": {
           "automargin": true,
           "gridcolor": "white",
           "linecolor": "white",
           "ticks": "",
           "title": {
            "standoff": 15
           },
           "zerolinecolor": "white",
           "zerolinewidth": 2
          },
          "yaxis": {
           "automargin": true,
           "gridcolor": "white",
           "linecolor": "white",
           "ticks": "",
           "title": {
            "standoff": 15
           },
           "zerolinecolor": "white",
           "zerolinewidth": 2
          }
         }
        },
        "title": {
         "text": "AUC per test allele"
        },
        "width": 1200,
        "xaxis": {
         "title": {
          "text": "Allele name and samples per allele"
         }
        },
        "yaxis": {
         "dtick": 0.1,
         "range": [
          0,
          1
         ],
         "tickmode": "linear",
         "title": {
          "text": "AUC"
         }
        }
       }
      },
      "text/html": [
       "<div>                            <div id=\"c95c72bf-fe05-4f07-9c2f-514143596b25\" class=\"plotly-graph-div\" style=\"height:400px; width:1200px;\"></div>            <script type=\"text/javascript\">                require([\"plotly\"], function(Plotly) {                    window.PLOTLYENV=window.PLOTLYENV || {};                                    if (document.getElementById(\"c95c72bf-fe05-4f07-9c2f-514143596b25\")) {                    Plotly.newPlot(                        \"c95c72bf-fe05-4f07-9c2f-514143596b25\",                        [{\"error_y\":{\"array\":[0.011591615410950617,0.026140837932091206,0.009203456144413725,0.04119391672941775,0.012226361088077602,0.02536270829308436,0.07607257743127308,0.012628293722632996,0.01215743648543178,0.025672540336542597,0.024303781640381057,0.027577052546646354,0.019617738461788332],\"type\":\"data\"},\"name\":\"CNN\",\"x\":[\"HLA-A*23:01 N=1711\",\"HLA-A*80:01 N=180\",\"HLA-A*24:02 N=2591\",\"HLA-B*57:03 N=34\",\"HLA-A*01:01 N=2416\",\"HLA-A*24:03 N=424\",\"HLA-B*57:02 N=18\",\"HLA-B*57:01 N=1024\",\"HLA-B*58:01 N=1303\",\"HLA-B*58:02 N=43\",\"HLA-B*15:17 N=508\",\"HLA-C*07:01 N=19\",\"HLA-C*07:02 N=128\"],\"y\":[0.6817994827740292,0.6968026755852843,0.6900346485827182,0.7442857142857143,0.704367765731402,0.7501023065476191,0.5416666666666667,0.7142197277331913,0.6981870688272099,0.6709359605911329,0.6957006369426751,0.6688888888888889,0.7202012578616351],\"type\":\"bar\"},{\"error_y\":{\"array\":[0.04332219747341509,0.026126177686256143,0.04456893610035343,0.07589596223086179,0.012359785043511675,0.029900140125697614,0.09936019816602543,0.025304424971320433,0.013934763991845149,0.04492213444898524,0.02943212090901881,0.05429406786186372,0.052341651077320826],\"type\":\"data\"},\"name\":\"GNN\",\"x\":[\"HLA-A*23:01 N=1711\",\"HLA-A*80:01 N=180\",\"HLA-A*24:02 N=2591\",\"HLA-B*57:03 N=34\",\"HLA-A*01:01 N=2416\",\"HLA-A*24:03 N=424\",\"HLA-B*57:02 N=18\",\"HLA-B*57:01 N=1024\",\"HLA-B*58:01 N=1303\",\"HLA-B*58:02 N=43\",\"HLA-B*15:17 N=508\",\"HLA-C*07:01 N=19\",\"HLA-C*07:02 N=128\"],\"y\":[0.6934867728052486,0.653888888888889,0.7015005753535819,0.707936507936508,0.662890794649882,0.8116421895861148,0.55,0.752796993174691,0.7935291031521796,0.636969696969697,0.7043746174250153,0.5238095238095237,0.44421875],\"type\":\"bar\"},{\"error_y\":{\"array\":[0.01704551255722896,0.03224623147663064,0.024735468024657054,0.08674667315098072,0.04980736157769121,0.024024573056614564,0.08921425711997713,0.01886893172935688,0.012514765073609869,0.12044606411917252,0.03262373093606822,0.15178454714770692,0.03689154819365813],\"type\":\"data\"},\"name\":\"EGNN\",\"x\":[\"HLA-A*23:01 N=1711\",\"HLA-A*80:01 N=180\",\"HLA-A*24:02 N=2591\",\"HLA-B*57:03 N=34\",\"HLA-A*01:01 N=2416\",\"HLA-A*24:03 N=424\",\"HLA-B*57:02 N=18\",\"HLA-B*57:01 N=1024\",\"HLA-B*58:01 N=1303\",\"HLA-B*58:02 N=43\",\"HLA-B*15:17 N=508\",\"HLA-C*07:01 N=19\",\"HLA-C*07:02 N=128\"],\"y\":[0.7096623228097633,0.6439722222222222,0.6813520973002953,0.7566137566137565,0.6667371193803936,0.755672761368964,0.5035714285714287,0.7335385537723667,0.7762383219179732,0.6163636363636364,0.7122425722425721,0.5142857142857143,0.3986458333333333],\"type\":\"bar\"},{\"name\":\"MHCflurry\",\"x\":[\"HLA-A*23:01 N=1711\",\"HLA-A*80:01 N=180\",\"HLA-A*24:02 N=2591\",\"HLA-B*57:03 N=34\",\"HLA-A*01:01 N=2416\",\"HLA-A*24:03 N=424\",\"HLA-B*57:02 N=18\",\"HLA-B*57:01 N=1024\",\"HLA-B*58:01 N=1303\",\"HLA-B*58:02 N=43\",\"HLA-B*15:17 N=508\",\"HLA-C*07:01 N=19\",\"HLA-C*07:02 N=128\"],\"y\":[0.5249929147295236,0.5827777777777778,0.4832127617382874,0.6243386243386244,0.6850128914168749,0.5983649789029535,0.5,0.6525425036255361,0.6933917832041158,0.5636363636363636,0.63005698005698,0.6904761904761905,0.2635416666666667],\"type\":\"bar\"},{\"error_y\":{\"array\":[0.05586946237874876,0.03698698991320471,0.04570741819761377,0.13332283489364763,0.036120338408803854,0.03098471180545646,0.11157499537009506,0.08300721177769553,0.09146101484168256,0.07876456531531992,0.055204082899518316,0.08261595987094034,0.08997470830005816],\"type\":\"data\"},\"name\":\"MLP\",\"x\":[\"HLA-A*23:01 N=1711\",\"HLA-A*80:01 N=180\",\"HLA-A*24:02 N=2591\",\"HLA-B*57:03 N=34\",\"HLA-A*01:01 N=2416\",\"HLA-A*24:03 N=424\",\"HLA-B*57:02 N=18\",\"HLA-B*57:01 N=1024\",\"HLA-B*58:01 N=1303\",\"HLA-B*58:02 N=43\",\"HLA-B*15:17 N=508\",\"HLA-C*07:01 N=19\",\"HLA-C*07:02 N=128\"],\"y\":[0.6292463382719176,0.5455833333333333,0.5954014850503463,0.47830687830687824,0.47708028105256944,0.7488045007032349,0.4035714285714286,0.5198262828226727,0.5426841050165446,0.4424242424242424,0.499916564916565,0.5452380952380953,0.40145833333333336],\"type\":\"bar\"}],                        {\"autosize\":false,\"height\":400,\"width\":1200,\"template\":{\"data\":{\"histogram2dcontour\":[{\"type\":\"histogram2dcontour\",\"colorbar\":{\"outlinewidth\":0,\"ticks\":\"\"},\"colorscale\":[[0.0,\"#0d0887\"],[0.1111111111111111,\"#46039f\"],[0.2222222222222222,\"#7201a8\"],[0.3333333333333333,\"#9c179e\"],[0.4444444444444444,\"#bd3786\"],[0.5555555555555556,\"#d8576b\"],[0.6666666666666666,\"#ed7953\"],[0.7777777777777778,\"#fb9f3a\"],[0.8888888888888888,\"#fdca26\"],[1.0,\"#f0f921\"]]}],\"choropleth\":[{\"type\":\"choropleth\",\"colorbar\":{\"outlinewidth\":0,\"ticks\":\"\"}}],\"histogram2d\":[{\"type\":\"histogram2d\",\"colorbar\":{\"outlinewidth\":0,\"ticks\":\"\"},\"colorscale\":[[0.0,\"#0d0887\"],[0.1111111111111111,\"#46039f\"],[0.2222222222222222,\"#7201a8\"],[0.3333333333333333,\"#9c179e\"],[0.4444444444444444,\"#bd3786\"],[0.5555555555555556,\"#d8576b\"],[0.6666666666666666,\"#ed7953\"],[0.7777777777777778,\"#fb9f3a\"],[0.8888888888888888,\"#fdca26\"],[1.0,\"#f0f921\"]]}],\"heatmap\":[{\"type\":\"heatmap\",\"colorbar\":{\"outlinewidth\":0,\"ticks\":\"\"},\"colorscale\":[[0.0,\"#0d0887\"],[0.1111111111111111,\"#46039f\"],[0.2222222222222222,\"#7201a8\"],[0.3333333333333333,\"#9c179e\"],[0.4444444444444444,\"#bd3786\"],[0.5555555555555556,\"#d8576b\"],[0.6666666666666666,\"#ed7953\"],[0.7777777777777778,\"#fb9f3a\"],[0.8888888888888888,\"#fdca26\"],[1.0,\"#f0f921\"]]}],\"heatmapgl\":[{\"type\":\"heatmapgl\",\"colorbar\":{\"outlinewidth\":0,\"ticks\":\"\"},\"colorscale\":[[0.0,\"#0d0887\"],[0.1111111111111111,\"#46039f\"],[0.2222222222222222,\"#7201a8\"],[0.3333333333333333,\"#9c179e\"],[0.4444444444444444,\"#bd3786\"],[0.5555555555555556,\"#d8576b\"],[0.6666666666666666,\"#ed7953\"],[0.7777777777777778,\"#fb9f3a\"],[0.8888888888888888,\"#fdca26\"],[1.0,\"#f0f921\"]]}],\"contourcarpet\":[{\"type\":\"contourcarpet\",\"colorbar\":{\"outlinewidth\":0,\"ticks\":\"\"}}],\"contour\":[{\"type\":\"contour\",\"colorbar\":{\"outlinewidth\":0,\"ticks\":\"\"},\"colorscale\":[[0.0,\"#0d0887\"],[0.1111111111111111,\"#46039f\"],[0.2222222222222222,\"#7201a8\"],[0.3333333333333333,\"#9c179e\"],[0.4444444444444444,\"#bd3786\"],[0.5555555555555556,\"#d8576b\"],[0.6666666666666666,\"#ed7953\"],[0.7777777777777778,\"#fb9f3a\"],[0.8888888888888888,\"#fdca26\"],[1.0,\"#f0f921\"]]}],\"surface\":[{\"type\":\"surface\",\"colorbar\":{\"outlinewidth\":0,\"ticks\":\"\"},\"colorscale\":[[0.0,\"#0d0887\"],[0.1111111111111111,\"#46039f\"],[0.2222222222222222,\"#7201a8\"],[0.3333333333333333,\"#9c179e\"],[0.4444444444444444,\"#bd3786\"],[0.5555555555555556,\"#d8576b\"],[0.6666666666666666,\"#ed7953\"],[0.7777777777777778,\"#fb9f3a\"],[0.8888888888888888,\"#fdca26\"],[1.0,\"#f0f921\"]]}],\"mesh3d\":[{\"type\":\"mesh3d\",\"colorbar\":{\"outlinewidth\":0,\"ticks\":\"\"}}],\"scatter\":[{\"fillpattern\":{\"fillmode\":\"overlay\",\"size\":10,\"solidity\":0.2},\"type\":\"scatter\"}],\"parcoords\":[{\"type\":\"parcoords\",\"line\":{\"colorbar\":{\"outlinewidth\":0,\"ticks\":\"\"}}}],\"scatterpolargl\":[{\"type\":\"scatterpolargl\",\"marker\":{\"colorbar\":{\"outlinewidth\":0,\"ticks\":\"\"}}}],\"bar\":[{\"error_x\":{\"color\":\"#2a3f5f\"},\"error_y\":{\"color\":\"#2a3f5f\"},\"marker\":{\"line\":{\"color\":\"#E5ECF6\",\"width\":0.5},\"pattern\":{\"fillmode\":\"overlay\",\"size\":10,\"solidity\":0.2}},\"type\":\"bar\"}],\"scattergeo\":[{\"type\":\"scattergeo\",\"marker\":{\"colorbar\":{\"outlinewidth\":0,\"ticks\":\"\"}}}],\"scatterpolar\":[{\"type\":\"scatterpolar\",\"marker\":{\"colorbar\":{\"outlinewidth\":0,\"ticks\":\"\"}}}],\"histogram\":[{\"marker\":{\"pattern\":{\"fillmode\":\"overlay\",\"size\":10,\"solidity\":0.2}},\"type\":\"histogram\"}],\"scattergl\":[{\"type\":\"scattergl\",\"marker\":{\"colorbar\":{\"outlinewidth\":0,\"ticks\":\"\"}}}],\"scatter3d\":[{\"type\":\"scatter3d\",\"line\":{\"colorbar\":{\"outlinewidth\":0,\"ticks\":\"\"}},\"marker\":{\"colorbar\":{\"outlinewidth\":0,\"ticks\":\"\"}}}],\"scattermapbox\":[{\"type\":\"scattermapbox\",\"marker\":{\"colorbar\":{\"outlinewidth\":0,\"ticks\":\"\"}}}],\"scatterternary\":[{\"type\":\"scatterternary\",\"marker\":{\"colorbar\":{\"outlinewidth\":0,\"ticks\":\"\"}}}],\"scattercarpet\":[{\"type\":\"scattercarpet\",\"marker\":{\"colorbar\":{\"outlinewidth\":0,\"ticks\":\"\"}}}],\"carpet\":[{\"aaxis\":{\"endlinecolor\":\"#2a3f5f\",\"gridcolor\":\"white\",\"linecolor\":\"white\",\"minorgridcolor\":\"white\",\"startlinecolor\":\"#2a3f5f\"},\"baxis\":{\"endlinecolor\":\"#2a3f5f\",\"gridcolor\":\"white\",\"linecolor\":\"white\",\"minorgridcolor\":\"white\",\"startlinecolor\":\"#2a3f5f\"},\"type\":\"carpet\"}],\"table\":[{\"cells\":{\"fill\":{\"color\":\"#EBF0F8\"},\"line\":{\"color\":\"white\"}},\"header\":{\"fill\":{\"color\":\"#C8D4E3\"},\"line\":{\"color\":\"white\"}},\"type\":\"table\"}],\"barpolar\":[{\"marker\":{\"line\":{\"color\":\"#E5ECF6\",\"width\":0.5},\"pattern\":{\"fillmode\":\"overlay\",\"size\":10,\"solidity\":0.2}},\"type\":\"barpolar\"}],\"pie\":[{\"automargin\":true,\"type\":\"pie\"}]},\"layout\":{\"autotypenumbers\":\"strict\",\"colorway\":[\"#636efa\",\"#EF553B\",\"#00cc96\",\"#ab63fa\",\"#FFA15A\",\"#19d3f3\",\"#FF6692\",\"#B6E880\",\"#FF97FF\",\"#FECB52\"],\"font\":{\"color\":\"#2a3f5f\"},\"hovermode\":\"closest\",\"hoverlabel\":{\"align\":\"left\"},\"paper_bgcolor\":\"white\",\"plot_bgcolor\":\"#E5ECF6\",\"polar\":{\"bgcolor\":\"#E5ECF6\",\"angularaxis\":{\"gridcolor\":\"white\",\"linecolor\":\"white\",\"ticks\":\"\"},\"radialaxis\":{\"gridcolor\":\"white\",\"linecolor\":\"white\",\"ticks\":\"\"}},\"ternary\":{\"bgcolor\":\"#E5ECF6\",\"aaxis\":{\"gridcolor\":\"white\",\"linecolor\":\"white\",\"ticks\":\"\"},\"baxis\":{\"gridcolor\":\"white\",\"linecolor\":\"white\",\"ticks\":\"\"},\"caxis\":{\"gridcolor\":\"white\",\"linecolor\":\"white\",\"ticks\":\"\"}},\"coloraxis\":{\"colorbar\":{\"outlinewidth\":0,\"ticks\":\"\"}},\"colorscale\":{\"sequential\":[[0.0,\"#0d0887\"],[0.1111111111111111,\"#46039f\"],[0.2222222222222222,\"#7201a8\"],[0.3333333333333333,\"#9c179e\"],[0.4444444444444444,\"#bd3786\"],[0.5555555555555556,\"#d8576b\"],[0.6666666666666666,\"#ed7953\"],[0.7777777777777778,\"#fb9f3a\"],[0.8888888888888888,\"#fdca26\"],[1.0,\"#f0f921\"]],\"sequentialminus\":[[0.0,\"#0d0887\"],[0.1111111111111111,\"#46039f\"],[0.2222222222222222,\"#7201a8\"],[0.3333333333333333,\"#9c179e\"],[0.4444444444444444,\"#bd3786\"],[0.5555555555555556,\"#d8576b\"],[0.6666666666666666,\"#ed7953\"],[0.7777777777777778,\"#fb9f3a\"],[0.8888888888888888,\"#fdca26\"],[1.0,\"#f0f921\"]],\"diverging\":[[0,\"#8e0152\"],[0.1,\"#c51b7d\"],[0.2,\"#de77ae\"],[0.3,\"#f1b6da\"],[0.4,\"#fde0ef\"],[0.5,\"#f7f7f7\"],[0.6,\"#e6f5d0\"],[0.7,\"#b8e186\"],[0.8,\"#7fbc41\"],[0.9,\"#4d9221\"],[1,\"#276419\"]]},\"xaxis\":{\"gridcolor\":\"white\",\"linecolor\":\"white\",\"ticks\":\"\",\"title\":{\"standoff\":15},\"zerolinecolor\":\"white\",\"automargin\":true,\"zerolinewidth\":2},\"yaxis\":{\"gridcolor\":\"white\",\"linecolor\":\"white\",\"ticks\":\"\",\"title\":{\"standoff\":15},\"zerolinecolor\":\"white\",\"automargin\":true,\"zerolinewidth\":2},\"scene\":{\"xaxis\":{\"backgroundcolor\":\"#E5ECF6\",\"gridcolor\":\"white\",\"linecolor\":\"white\",\"showbackground\":true,\"ticks\":\"\",\"zerolinecolor\":\"white\",\"gridwidth\":2},\"yaxis\":{\"backgroundcolor\":\"#E5ECF6\",\"gridcolor\":\"white\",\"linecolor\":\"white\",\"showbackground\":true,\"ticks\":\"\",\"zerolinecolor\":\"white\",\"gridwidth\":2},\"zaxis\":{\"backgroundcolor\":\"#E5ECF6\",\"gridcolor\":\"white\",\"linecolor\":\"white\",\"showbackground\":true,\"ticks\":\"\",\"zerolinecolor\":\"white\",\"gridwidth\":2}},\"shapedefaults\":{\"line\":{\"color\":\"#2a3f5f\"}},\"annotationdefaults\":{\"arrowcolor\":\"#2a3f5f\",\"arrowhead\":0,\"arrowwidth\":1},\"geo\":{\"bgcolor\":\"white\",\"landcolor\":\"#E5ECF6\",\"subunitcolor\":\"white\",\"showland\":true,\"showlakes\":true,\"lakecolor\":\"white\"},\"title\":{\"x\":0.05},\"mapbox\":{\"style\":\"light\"}}},\"yaxis\":{\"title\":{\"text\":\"AUC\"},\"tickmode\":\"linear\",\"dtick\":0.1,\"range\":[0.0,1.0]},\"title\":{\"text\":\"AUC per test allele\"},\"xaxis\":{\"title\":{\"text\":\"Allele name and samples per allele\"}},\"shapes\":[{\"line\":{\"dash\":\"dash\"},\"type\":\"line\",\"x0\":0,\"x1\":1,\"xref\":\"x domain\",\"y0\":0.5,\"y1\":0.5,\"yref\":\"y\"}]},                        {\"responsive\": true}                    ).then(function(){\n",
       "                            \n",
       "var gd = document.getElementById('c95c72bf-fe05-4f07-9c2f-514143596b25');\n",
       "var x = new MutationObserver(function (mutations, observer) {{\n",
       "        var display = window.getComputedStyle(gd).display;\n",
       "        if (!display || display === 'none') {{\n",
       "            console.log([gd, 'removed!']);\n",
       "            Plotly.purge(gd);\n",
       "            observer.disconnect();\n",
       "        }}\n",
       "}});\n",
       "\n",
       "// Listen for the removal of the full notebook cells\n",
       "var notebookContainer = gd.closest('#notebook-container');\n",
       "if (notebookContainer) {{\n",
       "    x.observe(notebookContainer, {childList: true});\n",
       "}}\n",
       "\n",
       "// Listen for the clearing of the current output cell\n",
       "var outputEl = gd.closest('.output');\n",
       "if (outputEl) {{\n",
       "    x.observe(outputEl, {childList: true});\n",
       "}}\n",
       "\n",
       "                        })                };                });            </script>        </div>"
      ]
     },
     "metadata": {},
     "output_type": "display_data"
    },
    {
     "data": {
      "image/png": "[encoded data removed]",
      "text/plain": [
       "<Figure size 640x480 with 1 Axes>"
      ]
     },
     "metadata": {},
     "output_type": "display_data"
    }
   ],
   "source": [
    "\n",
    "#%% Plot barplots\n",
    "\n",
    "#fig, axes = plt.subplots(1, 4, figsize=(20, 5), sharey=True)\n",
    "layout = go.Layout(\n",
    "    autosize=False,\n",
    "    width=1200,\n",
    "    height=400\n",
    ")\n",
    "fig = go.Figure(layout=layout)\n",
    "\n",
    "correlations = {}\n",
    "\n",
    "# Iterate over the allele_outputs dictionary and titles list\n",
    "for i, title in enumerate(['CNN', 'GNN', 'EGNN', 'MHCflurry', 'MLP']):\n",
    "    if title == 'MHCflurry':\n",
    "        allele_outputs = models_outputs[title]\n",
    "\n",
    "        # Extract sample names and values from the dictionary\n",
    "        labels = [f\"{x} D:{allele_outputs[x]['distance']:.1f} N={(clust_dfi['allele'] == x).sum()}\" for x in allele_outputs if 'total' not in x]\n",
    "        labels.sort(key=lambda x: float(x.split(' ')[1].split(':')[1]))\n",
    "        #labels = [f\"{x} N={(clust_dfi['allele'] == x).sum()}\" for x in allele_outputs if 'total' not in x]\n",
    "        ordered_alleles = [x.split(' ')[0] for x in labels]\n",
    "        values = [allele_outputs[x]['auc'] for x in ordered_alleles]\n",
    "\n",
    "        # Create a Plotly bar plot\n",
    "        labels = [f'{x.split(\" \")[0]} {x.split(\" \")[2]}'  for x in labels]\n",
    "        fig.add_trace(go.Bar(x=labels, y=values, name=title))\n",
    "    else:\n",
    "        folds_aucs = {}\n",
    "        for fold in models_outputs[title]:\n",
    "            allele_outputs = models_outputs[title][fold]\n",
    "            \n",
    "            if fold == 1:\n",
    "                labels = [f\"{x} D:{allele_outputs[x]['distance']:.1f} N={(clust_dfi['allele'] == x).sum()}\" for x in allele_outputs if 'total' not in x]\n",
    "                #labels = [f\"{x} N={(clust_dfi['allele'] == x).sum()}\" for x in allele_outputs if 'total' not in x]\n",
    "            labels.sort(key=lambda x: float(x.split(' ')[1].split(':')[1]))\n",
    "            ordered_alleles = [x.split(' ')[0] for x in labels]\n",
    "            folds_aucs[fold] = np.asarray([allele_outputs[x]['auc'] for x in ordered_alleles])\n",
    "            \n",
    "        Y = np.mean([x for x in folds_aucs.values()], axis=0)\n",
    "        errors = np.std([x for x in folds_aucs.values()], axis=0)\n",
    "            \n",
    "\n",
    "        # # Extract sample names and values from the dictionary\n",
    "        # labels = [f\"{x} D:{allele_outputs[x]['distance']:.1f} N{(clust_dfi['allele'] == x).sum()}\" for x in allele_outputs if 'total' not in x]\n",
    "        # values = [allele_outputs[x]['auc'] for x in allele_outputs if 'total' not in x]\n",
    "\n",
    "        # Create a Plotly bar plot\n",
    "        #labels.sort(key=lambda x: float(x.split(' ')[1].split(':')[1]))\n",
    "        labels = [f'{x.split(\" \")[0]} {x.split(\" \")[2]}'  for x in labels]\n",
    "        fig.add_trace(go.Bar(x=labels, y=Y, name=title, error_y=dict(type='data', array=errors)))\n",
    "\n",
    "\n",
    "    # Customize the layout if needed\n",
    "fig.update_layout(title='AUC per test allele', xaxis_title='Allele name and samples per allele', yaxis_title='AUC',\n",
    "                  yaxis = dict(tickmode = 'linear', dtick=0.1), yaxis_range=[0.0,1.0] )\n",
    "fig.add_hline(y=0.5, line_dash=\"dash\")\n",
    "\n",
    "# Adjust layout and show the plot\n",
    "# plt.tight_layout()\n",
    "fig.show()\n",
    "fig.write_image(\"/home/dmarz/3D-Vac/src/exploration/manuscript/figures/AUCperAllele.pdf\", engine=\"kaleido\")\n",
    "'''\n",
    "#%% Plot regplot\n",
    "\n",
    "fig, axes = plt.subplots(1, len(models_outputs), figsize=(20, 5), sharey=True)\n",
    "correlations = {}\n",
    "\n",
    "# Iterate over the allele_outputs dictionary and titles list\n",
    "for i, title in enumerate(models_outputs.keys()):\n",
    "    allele_outputs = models_outputs[title]\n",
    "    x = [allele_outputs[x]['distance'] for x in allele_outputs if 'total' not in x]\n",
    "    y = [allele_outputs[x]['auc'] for x in allele_outputs if 'total' not in x]\n",
    "    \n",
    "    correlations[title] = np.corrcoef(x, y)[0][1]\n",
    "    \n",
    "    # Create scatter plot with regression line\n",
    "    sns.regplot(x=x, y=y, ci=99, n_boot=1000, ax=axes[i]) #lowess=True)\n",
    "    axes[i].axhline(0.5, linestyle='-.', color='red', label='Baseline')\n",
    "    axes[i].axhline(np.mean(y), linestyle='--', color='green', label='Average AUC')\n",
    "    axes[i].axhline(np.mean(allele_outputs['total_auc']), linestyle='--', color='cyan', label='Total AUC')\n",
    "    \n",
    "    # Customize individual subplot\n",
    "    axes[i].set_title(f'{title} Pearson:{correlations[title]:.2f}')\n",
    "    axes[i].set_xlabel('Evo distance from training')\n",
    "    axes[i].set_ylabel('AUC')\n",
    "    \n",
    "    if i == 0:\n",
    "        axes[i].legend(labels=['Sample', 'Regression', 'Confidence Interval', 'Random Predictor', 'Average (un-weighted) AUC', 'Total AUC'])\n",
    "\n",
    "# Set common y-label for all subplots\n",
    "axes[0].set_ylabel('AUC')\n",
    "axes[0].set_ylim(0,1.0)\n",
    "\n",
    "# Adjust layout and show the plot\n",
    "plt.tight_layout()\n",
    "plt.show()\n",
    "\n",
    "\n",
    "#%% Plot scatterplot\n",
    "\n",
    "fig, axes = plt.subplots(1, len(models_outputs), figsize=(20, 5), sharey=True)\n",
    "correlations = {}\n",
    "\n",
    "# Iterate over the allele_outputs dictionary and titles list\n",
    "for i, title in enumerate(models_outputs.keys()):\n",
    "    allele_outputs = models_outputs[title]\n",
    "    x = [allele_outputs[x]['distance'] for x in allele_outputs if 'total' not in x]\n",
    "    y = [allele_outputs[x]['auc'] for x in allele_outputs if 'total' not in x]\n",
    "    \n",
    "    correlations[title] = np.corrcoef(x, y)[0][1]\n",
    "    \n",
    "    # Create scatter plot with regression line\n",
    "    axes[i].plot(x, y, '.') #lowess=True)\n",
    "    axes[i].axhline(0.5, linestyle='-.', color='red', label='Baseline')\n",
    "    #axes[i].axhline(np.mean(y), linestyle='--', color='green', label='Average AUC')\n",
    "    #axes[i].axhline(np.mean(allele_outputs['total_auc']), linestyle='--', color='cyan', label='Total AUC')\n",
    "    \n",
    "    # Customize individual subplot\n",
    "    axes[i].set_title(f'{title} Pearson:{correlations[title]:.2f}')\n",
    "    axes[i].set_xlabel('Evo distance from training')\n",
    "    axes[i].set_ylabel('AUC')\n",
    "    \n",
    "    if i == 0:\n",
    "        axes[i].legend(labels=['Sample', 'Random Predictor'])\n",
    "\n",
    "# Set common y-label for all subplots\n",
    "axes[0].set_ylabel('AUC')\n",
    "axes[0].set_ylim(0,1.0)\n",
    "\n",
    "# Adjust layout and show the plot\n",
    "plt.tight_layout()\n",
    "plt.show()\n",
    "\n",
    "plt.clf()\n",
    "\n",
    "'''\n",
    "plt.rcParams['font.size'] = 12\n",
    "collected_allele_outputs = {}\n",
    "for title in models_outputs:\n",
    "    collected_allele_outputs[title] = {}\n",
    "    if title == 'MHCflurry' or title == 'SSL_woT':\n",
    "        collected_allele_outputs[title]['total_auc'] = models_outputs[title]['total_auc']\n",
    "        collected_allele_outputs[title]['auc_stdev'] = 0\n",
    "        \n",
    "        collected_allele_outputs[title]['total_auprc'] = models_outputs[title]['total_auprc']\n",
    "        collected_allele_outputs[title]['auprc_stdev'] = 0\n",
    "    \n",
    "    else:\n",
    "        collected_allele_outputs[title]['total_auc'] = np.mean([models_outputs[title][fold]['total_auc'] for fold in models_outputs[title]])\n",
    "        collected_allele_outputs[title]['auc_stdev'] = np.std([models_outputs[title][fold]['total_auc'] for fold in models_outputs[title]])\n",
    "        \n",
    "        collected_allele_outputs[title]['total_auprc'] = np.mean([models_outputs[title][fold]['total_auprc'] for fold in models_outputs[title]])\n",
    "        collected_allele_outputs[title]['auprc_stdev'] = np.std([models_outputs[title][fold]['total_auprc'] for fold in models_outputs[title]])\n",
    "            \n",
    "            \n",
    "\n",
    "plt.bar(x=[x for x in collected_allele_outputs], \n",
    "        height=[collected_allele_outputs[x]['total_auc'] for x in collected_allele_outputs],\n",
    "        yerr=[collected_allele_outputs[x]['auc_stdev'] for x in collected_allele_outputs])\n",
    "\n",
    "plt.xticks(rotation=45)\n",
    "plt.ylim(0.4,1.0)\n",
    "plt.show()\n",
    "\n",
    "# fig = go.Figure()\n",
    "# for x in models_outputs:\n",
    "#     fig.add_trace(go.Bar(x=models_outputs[x], y=models_outputs[x]['total_auc'], name=title))\n"
   ]
  },
  {
   "cell_type": "code",
   "execution_count": 23,
   "metadata": {},
   "outputs": [
    {
     "data": {
      "text/plain": [
       "{'total_auc': 0.7240820889263091,\n",
       " 'auc_stdev': 0.009673867141626347,\n",
       " 'total_auprc': 0.6301585334621459,\n",
       " 'auprc_stdev': 0.0063395615371645495}"
      ]
     },
     "execution_count": 23,
     "metadata": {},
     "output_type": "execute_result"
    }
   ],
   "source": [
    "collected_allele_outputs['EGNN']"
   ]
  },
  {
   "cell_type": "markdown",
   "metadata": {},
   "source": [
    "### Plot shuffled set performances"
   ]
  },
  {
   "cell_type": "code",
   "execution_count": 6,
   "metadata": {},
   "outputs": [
    {
     "data": {
      "application/vnd.plotly.v1+json": {
       "config": {
        "plotlyServerURL": "https://plot.ly"
       },
       "data": [
        {
         "error_y": {
          "array": [
           0.004694297317555284,
           0.006765851295966088,
           0.00994116437993449,
           0,
           0,
           0,
           0.0043466724912605646
          ],
          "type": "data"
         },
         "type": "bar",
         "x": [
          "CNN",
          "GNN",
          "EGNN",
          "SSL_woT",
          "SSL_T",
          "MHCflurry",
          "MLP"
         ],
         "y": [
          0.8547367391841029,
          0.8374423124091999,
          0.8622192587904678,
          0.6523308350407313,
          0.6556257029998448,
          0.8146540477715316,
          0.8932475193815972
         ]
        }
       ],
       "layout": {
        "template": {
         "data": {
          "bar": [
           {
            "error_x": {
             "color": "#2a3f5f"
            },
            "error_y": {
             "color": "#2a3f5f"
            },
            "marker": {
             "line": {
              "color": "#E5ECF6",
              "width": 0.5
             },
             "pattern": {
              "fillmode": "overlay",
              "size": 10,
              "solidity": 0.2
             }
            },
            "type": "bar"
           }
          ],
          "barpolar": [
           {
            "marker": {
             "line": {
              "color": "#E5ECF6",
              "width": 0.5
             },
             "pattern": {
              "fillmode": "overlay",
              "size": 10,
              "solidity": 0.2
             }
            },
            "type": "barpolar"
           }
          ],
          "carpet": [
           {
            "aaxis": {
             "endlinecolor": "#2a3f5f",
             "gridcolor": "white",
             "linecolor": "white",
             "minorgridcolor": "white",
             "startlinecolor": "#2a3f5f"
            },
            "baxis": {
             "endlinecolor": "#2a3f5f",
             "gridcolor": "white",
             "linecolor": "white",
             "minorgridcolor": "white",
             "startlinecolor": "#2a3f5f"
            },
            "type": "carpet"
           }
          ],
          "choropleth": [
           {
            "colorbar": {
             "outlinewidth": 0,
             "ticks": ""
            },
            "type": "choropleth"
           }
          ],
          "contour": [
           {
            "colorbar": {
             "outlinewidth": 0,
             "ticks": ""
            },
            "colorscale": [
             [
              0,
              "#0d0887"
             ],
             [
              0.1111111111111111,
              "#46039f"
             ],
             [
              0.2222222222222222,
              "#7201a8"
             ],
             [
              0.3333333333333333,
              "#9c179e"
             ],
             [
              0.4444444444444444,
              "#bd3786"
             ],
             [
              0.5555555555555556,
              "#d8576b"
             ],
             [
              0.6666666666666666,
              "#ed7953"
             ],
             [
              0.7777777777777778,
              "#fb9f3a"
             ],
             [
              0.8888888888888888,
              "#fdca26"
             ],
             [
              1,
              "#f0f921"
             ]
            ],
            "type": "contour"
           }
          ],
          "contourcarpet": [
           {
            "colorbar": {
             "outlinewidth": 0,
             "ticks": ""
            },
            "type": "contourcarpet"
           }
          ],
          "heatmap": [
           {
            "colorbar": {
             "outlinewidth": 0,
             "ticks": ""
            },
            "colorscale": [
             [
              0,
              "#0d0887"
             ],
             [
              0.1111111111111111,
              "#46039f"
             ],
             [
              0.2222222222222222,
              "#7201a8"
             ],
             [
              0.3333333333333333,
              "#9c179e"
             ],
             [
              0.4444444444444444,
              "#bd3786"
             ],
             [
              0.5555555555555556,
              "#d8576b"
             ],
             [
              0.6666666666666666,
              "#ed7953"
             ],
             [
              0.7777777777777778,
              "#fb9f3a"
             ],
             [
              0.8888888888888888,
              "#fdca26"
             ],
             [
              1,
              "#f0f921"
             ]
            ],
            "type": "heatmap"
           }
          ],
          "heatmapgl": [
           {
            "colorbar": {
             "outlinewidth": 0,
             "ticks": ""
            },
            "colorscale": [
             [
              0,
              "#0d0887"
             ],
             [
              0.1111111111111111,
              "#46039f"
             ],
             [
              0.2222222222222222,
              "#7201a8"
             ],
             [
              0.3333333333333333,
              "#9c179e"
             ],
             [
              0.4444444444444444,
              "#bd3786"
             ],
             [
              0.5555555555555556,
              "#d8576b"
             ],
             [
              0.6666666666666666,
              "#ed7953"
             ],
             [
              0.7777777777777778,
              "#fb9f3a"
             ],
             [
              0.8888888888888888,
              "#fdca26"
             ],
             [
              1,
              "#f0f921"
             ]
            ],
            "type": "heatmapgl"
           }
          ],
          "histogram": [
           {
            "marker": {
             "pattern": {
              "fillmode": "overlay",
              "size": 10,
              "solidity": 0.2
             }
            },
            "type": "histogram"
           }
          ],
          "histogram2d": [
           {
            "colorbar": {
             "outlinewidth": 0,
             "ticks": ""
            },
            "colorscale": [
             [
              0,
              "#0d0887"
             ],
             [
              0.1111111111111111,
              "#46039f"
             ],
             [
              0.2222222222222222,
              "#7201a8"
             ],
             [
              0.3333333333333333,
              "#9c179e"
             ],
             [
              0.4444444444444444,
              "#bd3786"
             ],
             [
              0.5555555555555556,
              "#d8576b"
             ],
             [
              0.6666666666666666,
              "#ed7953"
             ],
             [
              0.7777777777777778,
              "#fb9f3a"
             ],
             [
              0.8888888888888888,
              "#fdca26"
             ],
             [
              1,
              "#f0f921"
             ]
            ],
            "type": "histogram2d"
           }
          ],
          "histogram2dcontour": [
           {
            "colorbar": {
             "outlinewidth": 0,
             "ticks": ""
            },
            "colorscale": [
             [
              0,
              "#0d0887"
             ],
             [
              0.1111111111111111,
              "#46039f"
             ],
             [
              0.2222222222222222,
              "#7201a8"
             ],
             [
              0.3333333333333333,
              "#9c179e"
             ],
             [
              0.4444444444444444,
              "#bd3786"
             ],
             [
              0.5555555555555556,
              "#d8576b"
             ],
             [
              0.6666666666666666,
              "#ed7953"
             ],
             [
              0.7777777777777778,
              "#fb9f3a"
             ],
             [
              0.8888888888888888,
              "#fdca26"
             ],
             [
              1,
              "#f0f921"
             ]
            ],
            "type": "histogram2dcontour"
           }
          ],
          "mesh3d": [
           {
            "colorbar": {
             "outlinewidth": 0,
             "ticks": ""
            },
            "type": "mesh3d"
           }
          ],
          "parcoords": [
           {
            "line": {
             "colorbar": {
              "outlinewidth": 0,
              "ticks": ""
             }
            },
            "type": "parcoords"
           }
          ],
          "pie": [
           {
            "automargin": true,
            "type": "pie"
           }
          ],
          "scatter": [
           {
            "fillpattern": {
             "fillmode": "overlay",
             "size": 10,
             "solidity": 0.2
            },
            "type": "scatter"
           }
          ],
          "scatter3d": [
           {
            "line": {
             "colorbar": {
              "outlinewidth": 0,
              "ticks": ""
             }
            },
            "marker": {
             "colorbar": {
              "outlinewidth": 0,
              "ticks": ""
             }
            },
            "type": "scatter3d"
           }
          ],
          "scattercarpet": [
           {
            "marker": {
             "colorbar": {
              "outlinewidth": 0,
              "ticks": ""
             }
            },
            "type": "scattercarpet"
           }
          ],
          "scattergeo": [
           {
            "marker": {
             "colorbar": {
              "outlinewidth": 0,
              "ticks": ""
             }
            },
            "type": "scattergeo"
           }
          ],
          "scattergl": [
           {
            "marker": {
             "colorbar": {
              "outlinewidth": 0,
              "ticks": ""
             }
            },
            "type": "scattergl"
           }
          ],
          "scattermapbox": [
           {
            "marker": {
             "colorbar": {
              "outlinewidth": 0,
              "ticks": ""
             }
            },
            "type": "scattermapbox"
           }
          ],
          "scatterpolar": [
           {
            "marker": {
             "colorbar": {
              "outlinewidth": 0,
              "ticks": ""
             }
            },
            "type": "scatterpolar"
           }
          ],
          "scatterpolargl": [
           {
            "marker": {
             "colorbar": {
              "outlinewidth": 0,
              "ticks": ""
             }
            },
            "type": "scatterpolargl"
           }
          ],
          "scatterternary": [
           {
            "marker": {
             "colorbar": {
              "outlinewidth": 0,
              "ticks": ""
             }
            },
            "type": "scatterternary"
           }
          ],
          "surface": [
           {
            "colorbar": {
             "outlinewidth": 0,
             "ticks": ""
            },
            "colorscale": [
             [
              0,
              "#0d0887"
             ],
             [
              0.1111111111111111,
              "#46039f"
             ],
             [
              0.2222222222222222,
              "#7201a8"
             ],
             [
              0.3333333333333333,
              "#9c179e"
             ],
             [
              0.4444444444444444,
              "#bd3786"
             ],
             [
              0.5555555555555556,
              "#d8576b"
             ],
             [
              0.6666666666666666,
              "#ed7953"
             ],
             [
              0.7777777777777778,
              "#fb9f3a"
             ],
             [
              0.8888888888888888,
              "#fdca26"
             ],
             [
              1,
              "#f0f921"
             ]
            ],
            "type": "surface"
           }
          ],
          "table": [
           {
            "cells": {
             "fill": {
              "color": "#EBF0F8"
             },
             "line": {
              "color": "white"
             }
            },
            "header": {
             "fill": {
              "color": "#C8D4E3"
             },
             "line": {
              "color": "white"
             }
            },
            "type": "table"
           }
          ]
         },
         "layout": {
          "annotationdefaults": {
           "arrowcolor": "#2a3f5f",
           "arrowhead": 0,
           "arrowwidth": 1
          },
          "autotypenumbers": "strict",
          "coloraxis": {
           "colorbar": {
            "outlinewidth": 0,
            "ticks": ""
           }
          },
          "colorscale": {
           "diverging": [
            [
             0,
             "#8e0152"
            ],
            [
             0.1,
             "#c51b7d"
            ],
            [
             0.2,
             "#de77ae"
            ],
            [
             0.3,
             "#f1b6da"
            ],
            [
             0.4,
             "#fde0ef"
            ],
            [
             0.5,
             "#f7f7f7"
            ],
            [
             0.6,
             "#e6f5d0"
            ],
            [
             0.7,
             "#b8e186"
            ],
            [
             0.8,
             "#7fbc41"
            ],
            [
             0.9,
             "#4d9221"
            ],
            [
             1,
             "#276419"
            ]
           ],
           "sequential": [
            [
             0,
             "#0d0887"
            ],
            [
             0.1111111111111111,
             "#46039f"
            ],
            [
             0.2222222222222222,
             "#7201a8"
            ],
            [
             0.3333333333333333,
             "#9c179e"
            ],
            [
             0.4444444444444444,
             "#bd3786"
            ],
            [
             0.5555555555555556,
             "#d8576b"
            ],
            [
             0.6666666666666666,
             "#ed7953"
            ],
            [
             0.7777777777777778,
             "#fb9f3a"
            ],
            [
             0.8888888888888888,
             "#fdca26"
            ],
            [
             1,
             "#f0f921"
            ]
           ],
           "sequentialminus": [
            [
             0,
             "#0d0887"
            ],
            [
             0.1111111111111111,
             "#46039f"
            ],
            [
             0.2222222222222222,
             "#7201a8"
            ],
            [
             0.3333333333333333,
             "#9c179e"
            ],
            [
             0.4444444444444444,
             "#bd3786"
            ],
            [
             0.5555555555555556,
             "#d8576b"
            ],
            [
             0.6666666666666666,
             "#ed7953"
            ],
            [
             0.7777777777777778,
             "#fb9f3a"
            ],
            [
             0.8888888888888888,
             "#fdca26"
            ],
            [
             1,
             "#f0f921"
            ]
           ]
          },
          "colorway": [
           "#636efa",
           "#EF553B",
           "#00cc96",
           "#ab63fa",
           "#FFA15A",
           "#19d3f3",
           "#FF6692",
           "#B6E880",
           "#FF97FF",
           "#FECB52"
          ],
          "font": {
           "color": "#2a3f5f"
          },
          "geo": {
           "bgcolor": "white",
           "lakecolor": "white",
           "landcolor": "#E5ECF6",
           "showlakes": true,
           "showland": true,
           "subunitcolor": "white"
          },
          "hoverlabel": {
           "align": "left"
          },
          "hovermode": "closest",
          "mapbox": {
           "style": "light"
          },
          "paper_bgcolor": "white",
          "plot_bgcolor": "#E5ECF6",
          "polar": {
           "angularaxis": {
            "gridcolor": "white",
            "linecolor": "white",
            "ticks": ""
           },
           "bgcolor": "#E5ECF6",
           "radialaxis": {
            "gridcolor": "white",
            "linecolor": "white",
            "ticks": ""
           }
          },
          "scene": {
           "xaxis": {
            "backgroundcolor": "#E5ECF6",
            "gridcolor": "white",
            "gridwidth": 2,
            "linecolor": "white",
            "showbackground": true,
            "ticks": "",
            "zerolinecolor": "white"
           },
           "yaxis": {
            "backgroundcolor": "#E5ECF6",
            "gridcolor": "white",
            "gridwidth": 2,
            "linecolor": "white",
            "showbackground": true,
            "ticks": "",
            "zerolinecolor": "white"
           },
           "zaxis": {
            "backgroundcolor": "#E5ECF6",
            "gridcolor": "white",
            "gridwidth": 2,
            "linecolor": "white",
            "showbackground": true,
            "ticks": "",
            "zerolinecolor": "white"
           }
          },
          "shapedefaults": {
           "line": {
            "color": "#2a3f5f"
           }
          },
          "ternary": {
           "aaxis": {
            "gridcolor": "white",
            "linecolor": "white",
            "ticks": ""
           },
           "baxis": {
            "gridcolor": "white",
            "linecolor": "white",
            "ticks": ""
           },
           "bgcolor": "#E5ECF6",
           "caxis": {
            "gridcolor": "white",
            "linecolor": "white",
            "ticks": ""
           }
          },
          "title": {
           "x": 0.05
          },
          "xaxis": {
           "automargin": true,
           "gridcolor": "white",
           "linecolor": "white",
           "ticks": "",
           "title": {
            "standoff": 15
           },
           "zerolinecolor": "white",
           "zerolinewidth": 2
          },
          "yaxis": {
           "automargin": true,
           "gridcolor": "white",
           "linecolor": "white",
           "ticks": "",
           "title": {
            "standoff": 15
           },
           "zerolinecolor": "white",
           "zerolinewidth": 2
          }
         }
        }
       }
      },
      "text/html": [
       "<div>                            <div id=\"9ebe1216-8a73-49ab-ba09-a03fc3687895\" class=\"plotly-graph-div\" style=\"height:525px; width:100%;\"></div>            <script type=\"text/javascript\">                require([\"plotly\"], function(Plotly) {                    window.PLOTLYENV=window.PLOTLYENV || {};                                    if (document.getElementById(\"9ebe1216-8a73-49ab-ba09-a03fc3687895\")) {                    Plotly.newPlot(                        \"9ebe1216-8a73-49ab-ba09-a03fc3687895\",                        [{\"error_y\":{\"array\":[0.004694297317555284,0.006765851295966088,0.00994116437993449,0,0,0,0.0043466724912605646],\"type\":\"data\"},\"x\":[\"CNN\",\"GNN\",\"EGNN\",\"SSL_woT\",\"SSL_T\",\"MHCflurry\",\"MLP\"],\"y\":[0.8547367391841029,0.8374423124091999,0.8622192587904678,0.6523308350407313,0.6556257029998448,0.8146540477715316,0.8932475193815972],\"type\":\"bar\"}],                        {\"template\":{\"data\":{\"histogram2dcontour\":[{\"type\":\"histogram2dcontour\",\"colorbar\":{\"outlinewidth\":0,\"ticks\":\"\"},\"colorscale\":[[0.0,\"#0d0887\"],[0.1111111111111111,\"#46039f\"],[0.2222222222222222,\"#7201a8\"],[0.3333333333333333,\"#9c179e\"],[0.4444444444444444,\"#bd3786\"],[0.5555555555555556,\"#d8576b\"],[0.6666666666666666,\"#ed7953\"],[0.7777777777777778,\"#fb9f3a\"],[0.8888888888888888,\"#fdca26\"],[1.0,\"#f0f921\"]]}],\"choropleth\":[{\"type\":\"choropleth\",\"colorbar\":{\"outlinewidth\":0,\"ticks\":\"\"}}],\"histogram2d\":[{\"type\":\"histogram2d\",\"colorbar\":{\"outlinewidth\":0,\"ticks\":\"\"},\"colorscale\":[[0.0,\"#0d0887\"],[0.1111111111111111,\"#46039f\"],[0.2222222222222222,\"#7201a8\"],[0.3333333333333333,\"#9c179e\"],[0.4444444444444444,\"#bd3786\"],[0.5555555555555556,\"#d8576b\"],[0.6666666666666666,\"#ed7953\"],[0.7777777777777778,\"#fb9f3a\"],[0.8888888888888888,\"#fdca26\"],[1.0,\"#f0f921\"]]}],\"heatmap\":[{\"type\":\"heatmap\",\"colorbar\":{\"outlinewidth\":0,\"ticks\":\"\"},\"colorscale\":[[0.0,\"#0d0887\"],[0.1111111111111111,\"#46039f\"],[0.2222222222222222,\"#7201a8\"],[0.3333333333333333,\"#9c179e\"],[0.4444444444444444,\"#bd3786\"],[0.5555555555555556,\"#d8576b\"],[0.6666666666666666,\"#ed7953\"],[0.7777777777777778,\"#fb9f3a\"],[0.8888888888888888,\"#fdca26\"],[1.0,\"#f0f921\"]]}],\"heatmapgl\":[{\"type\":\"heatmapgl\",\"colorbar\":{\"outlinewidth\":0,\"ticks\":\"\"},\"colorscale\":[[0.0,\"#0d0887\"],[0.1111111111111111,\"#46039f\"],[0.2222222222222222,\"#7201a8\"],[0.3333333333333333,\"#9c179e\"],[0.4444444444444444,\"#bd3786\"],[0.5555555555555556,\"#d8576b\"],[0.6666666666666666,\"#ed7953\"],[0.7777777777777778,\"#fb9f3a\"],[0.8888888888888888,\"#fdca26\"],[1.0,\"#f0f921\"]]}],\"contourcarpet\":[{\"type\":\"contourcarpet\",\"colorbar\":{\"outlinewidth\":0,\"ticks\":\"\"}}],\"contour\":[{\"type\":\"contour\",\"colorbar\":{\"outlinewidth\":0,\"ticks\":\"\"},\"colorscale\":[[0.0,\"#0d0887\"],[0.1111111111111111,\"#46039f\"],[0.2222222222222222,\"#7201a8\"],[0.3333333333333333,\"#9c179e\"],[0.4444444444444444,\"#bd3786\"],[0.5555555555555556,\"#d8576b\"],[0.6666666666666666,\"#ed7953\"],[0.7777777777777778,\"#fb9f3a\"],[0.8888888888888888,\"#fdca26\"],[1.0,\"#f0f921\"]]}],\"surface\":[{\"type\":\"surface\",\"colorbar\":{\"outlinewidth\":0,\"ticks\":\"\"},\"colorscale\":[[0.0,\"#0d0887\"],[0.1111111111111111,\"#46039f\"],[0.2222222222222222,\"#7201a8\"],[0.3333333333333333,\"#9c179e\"],[0.4444444444444444,\"#bd3786\"],[0.5555555555555556,\"#d8576b\"],[0.6666666666666666,\"#ed7953\"],[0.7777777777777778,\"#fb9f3a\"],[0.8888888888888888,\"#fdca26\"],[1.0,\"#f0f921\"]]}],\"mesh3d\":[{\"type\":\"mesh3d\",\"colorbar\":{\"outlinewidth\":0,\"ticks\":\"\"}}],\"scatter\":[{\"fillpattern\":{\"fillmode\":\"overlay\",\"size\":10,\"solidity\":0.2},\"type\":\"scatter\"}],\"parcoords\":[{\"type\":\"parcoords\",\"line\":{\"colorbar\":{\"outlinewidth\":0,\"ticks\":\"\"}}}],\"scatterpolargl\":[{\"type\":\"scatterpolargl\",\"marker\":{\"colorbar\":{\"outlinewidth\":0,\"ticks\":\"\"}}}],\"bar\":[{\"error_x\":{\"color\":\"#2a3f5f\"},\"error_y\":{\"color\":\"#2a3f5f\"},\"marker\":{\"line\":{\"color\":\"#E5ECF6\",\"width\":0.5},\"pattern\":{\"fillmode\":\"overlay\",\"size\":10,\"solidity\":0.2}},\"type\":\"bar\"}],\"scattergeo\":[{\"type\":\"scattergeo\",\"marker\":{\"colorbar\":{\"outlinewidth\":0,\"ticks\":\"\"}}}],\"scatterpolar\":[{\"type\":\"scatterpolar\",\"marker\":{\"colorbar\":{\"outlinewidth\":0,\"ticks\":\"\"}}}],\"histogram\":[{\"marker\":{\"pattern\":{\"fillmode\":\"overlay\",\"size\":10,\"solidity\":0.2}},\"type\":\"histogram\"}],\"scattergl\":[{\"type\":\"scattergl\",\"marker\":{\"colorbar\":{\"outlinewidth\":0,\"ticks\":\"\"}}}],\"scatter3d\":[{\"type\":\"scatter3d\",\"line\":{\"colorbar\":{\"outlinewidth\":0,\"ticks\":\"\"}},\"marker\":{\"colorbar\":{\"outlinewidth\":0,\"ticks\":\"\"}}}],\"scattermapbox\":[{\"type\":\"scattermapbox\",\"marker\":{\"colorbar\":{\"outlinewidth\":0,\"ticks\":\"\"}}}],\"scatterternary\":[{\"type\":\"scatterternary\",\"marker\":{\"colorbar\":{\"outlinewidth\":0,\"ticks\":\"\"}}}],\"scattercarpet\":[{\"type\":\"scattercarpet\",\"marker\":{\"colorbar\":{\"outlinewidth\":0,\"ticks\":\"\"}}}],\"carpet\":[{\"aaxis\":{\"endlinecolor\":\"#2a3f5f\",\"gridcolor\":\"white\",\"linecolor\":\"white\",\"minorgridcolor\":\"white\",\"startlinecolor\":\"#2a3f5f\"},\"baxis\":{\"endlinecolor\":\"#2a3f5f\",\"gridcolor\":\"white\",\"linecolor\":\"white\",\"minorgridcolor\":\"white\",\"startlinecolor\":\"#2a3f5f\"},\"type\":\"carpet\"}],\"table\":[{\"cells\":{\"fill\":{\"color\":\"#EBF0F8\"},\"line\":{\"color\":\"white\"}},\"header\":{\"fill\":{\"color\":\"#C8D4E3\"},\"line\":{\"color\":\"white\"}},\"type\":\"table\"}],\"barpolar\":[{\"marker\":{\"line\":{\"color\":\"#E5ECF6\",\"width\":0.5},\"pattern\":{\"fillmode\":\"overlay\",\"size\":10,\"solidity\":0.2}},\"type\":\"barpolar\"}],\"pie\":[{\"automargin\":true,\"type\":\"pie\"}]},\"layout\":{\"autotypenumbers\":\"strict\",\"colorway\":[\"#636efa\",\"#EF553B\",\"#00cc96\",\"#ab63fa\",\"#FFA15A\",\"#19d3f3\",\"#FF6692\",\"#B6E880\",\"#FF97FF\",\"#FECB52\"],\"font\":{\"color\":\"#2a3f5f\"},\"hovermode\":\"closest\",\"hoverlabel\":{\"align\":\"left\"},\"paper_bgcolor\":\"white\",\"plot_bgcolor\":\"#E5ECF6\",\"polar\":{\"bgcolor\":\"#E5ECF6\",\"angularaxis\":{\"gridcolor\":\"white\",\"linecolor\":\"white\",\"ticks\":\"\"},\"radialaxis\":{\"gridcolor\":\"white\",\"linecolor\":\"white\",\"ticks\":\"\"}},\"ternary\":{\"bgcolor\":\"#E5ECF6\",\"aaxis\":{\"gridcolor\":\"white\",\"linecolor\":\"white\",\"ticks\":\"\"},\"baxis\":{\"gridcolor\":\"white\",\"linecolor\":\"white\",\"ticks\":\"\"},\"caxis\":{\"gridcolor\":\"white\",\"linecolor\":\"white\",\"ticks\":\"\"}},\"coloraxis\":{\"colorbar\":{\"outlinewidth\":0,\"ticks\":\"\"}},\"colorscale\":{\"sequential\":[[0.0,\"#0d0887\"],[0.1111111111111111,\"#46039f\"],[0.2222222222222222,\"#7201a8\"],[0.3333333333333333,\"#9c179e\"],[0.4444444444444444,\"#bd3786\"],[0.5555555555555556,\"#d8576b\"],[0.6666666666666666,\"#ed7953\"],[0.7777777777777778,\"#fb9f3a\"],[0.8888888888888888,\"#fdca26\"],[1.0,\"#f0f921\"]],\"sequentialminus\":[[0.0,\"#0d0887\"],[0.1111111111111111,\"#46039f\"],[0.2222222222222222,\"#7201a8\"],[0.3333333333333333,\"#9c179e\"],[0.4444444444444444,\"#bd3786\"],[0.5555555555555556,\"#d8576b\"],[0.6666666666666666,\"#ed7953\"],[0.7777777777777778,\"#fb9f3a\"],[0.8888888888888888,\"#fdca26\"],[1.0,\"#f0f921\"]],\"diverging\":[[0,\"#8e0152\"],[0.1,\"#c51b7d\"],[0.2,\"#de77ae\"],[0.3,\"#f1b6da\"],[0.4,\"#fde0ef\"],[0.5,\"#f7f7f7\"],[0.6,\"#e6f5d0\"],[0.7,\"#b8e186\"],[0.8,\"#7fbc41\"],[0.9,\"#4d9221\"],[1,\"#276419\"]]},\"xaxis\":{\"gridcolor\":\"white\",\"linecolor\":\"white\",\"ticks\":\"\",\"title\":{\"standoff\":15},\"zerolinecolor\":\"white\",\"automargin\":true,\"zerolinewidth\":2},\"yaxis\":{\"gridcolor\":\"white\",\"linecolor\":\"white\",\"ticks\":\"\",\"title\":{\"standoff\":15},\"zerolinecolor\":\"white\",\"automargin\":true,\"zerolinewidth\":2},\"scene\":{\"xaxis\":{\"backgroundcolor\":\"#E5ECF6\",\"gridcolor\":\"white\",\"linecolor\":\"white\",\"showbackground\":true,\"ticks\":\"\",\"zerolinecolor\":\"white\",\"gridwidth\":2},\"yaxis\":{\"backgroundcolor\":\"#E5ECF6\",\"gridcolor\":\"white\",\"linecolor\":\"white\",\"showbackground\":true,\"ticks\":\"\",\"zerolinecolor\":\"white\",\"gridwidth\":2},\"zaxis\":{\"backgroundcolor\":\"#E5ECF6\",\"gridcolor\":\"white\",\"linecolor\":\"white\",\"showbackground\":true,\"ticks\":\"\",\"zerolinecolor\":\"white\",\"gridwidth\":2}},\"shapedefaults\":{\"line\":{\"color\":\"#2a3f5f\"}},\"annotationdefaults\":{\"arrowcolor\":\"#2a3f5f\",\"arrowhead\":0,\"arrowwidth\":1},\"geo\":{\"bgcolor\":\"white\",\"landcolor\":\"#E5ECF6\",\"subunitcolor\":\"white\",\"showland\":true,\"showlakes\":true,\"lakecolor\":\"white\"},\"title\":{\"x\":0.05},\"mapbox\":{\"style\":\"light\"}}}},                        {\"responsive\": true}                    ).then(function(){\n",
       "                            \n",
       "var gd = document.getElementById('9ebe1216-8a73-49ab-ba09-a03fc3687895');\n",
       "var x = new MutationObserver(function (mutations, observer) {{\n",
       "        var display = window.getComputedStyle(gd).display;\n",
       "        if (!display || display === 'none') {{\n",
       "            console.log([gd, 'removed!']);\n",
       "            Plotly.purge(gd);\n",
       "            observer.disconnect();\n",
       "        }}\n",
       "}});\n",
       "\n",
       "// Listen for the removal of the full notebook cells\n",
       "var notebookContainer = gd.closest('#notebook-container');\n",
       "if (notebookContainer) {{\n",
       "    x.observe(notebookContainer, {childList: true});\n",
       "}}\n",
       "\n",
       "// Listen for the clearing of the current output cell\n",
       "var outputEl = gd.closest('.output');\n",
       "if (outputEl) {{\n",
       "    x.observe(outputEl, {childList: true});\n",
       "}}\n",
       "\n",
       "                        })                };                });            </script>        </div>"
      ]
     },
     "metadata": {},
     "output_type": "display_data"
    },
    {
     "data": {
      "text/plain": [
       "{'CNN': {1: 0.8496648949257286,\n",
       "  2: 0.8532753088801709,\n",
       "  3: 0.862154137542652,\n",
       "  4: 0.8579630637133244,\n",
       "  5: 0.8506262908586383},\n",
       " 'GNN': {1: 0.8355766872323165,\n",
       "  2: 0.8369068508141355,\n",
       "  3: 0.8380785268202486,\n",
       "  4: 0.8277617403445219,\n",
       "  5: 0.8488877568347768},\n",
       " 'EGNN': {1: 0.8429657422266422,\n",
       "  2: 0.8634623932976215,\n",
       "  3: 0.8652065486819006,\n",
       "  4: 0.8694859450459207,\n",
       "  5: 0.8699756647002539},\n",
       " 'SSL_woT': 0.6523308350407313,\n",
       " 'SSL_T': 0.6556257029998448,\n",
       " 'MHCflurry': 0.8146540477715316,\n",
       " 'MLP': {1: 0.892020583293779,\n",
       "  2: 0.8869256153515812,\n",
       "  3: 0.8922880455665303,\n",
       "  4: 0.9003194478975959,\n",
       "  5: 0.8946839047984994}}"
      ]
     },
     "execution_count": 6,
     "metadata": {},
     "output_type": "execute_result"
    }
   ],
   "source": [
    "\n",
    "#%% Shuffled performances\n",
    "\n",
    "#dfi = pd.read_csv('/projects/0/einf2380/data/external/processed/I/experiments/BA_pMHCI_human_quantitative_only_eq_pseudoseq_clustered_test.csv')\n",
    "shuff_dfi = pd.read_csv('/projects/0/einf2380/data/external/processed/I/experiments/BA_pMHCI_human_quantitative_only_eq_shuffled_test.csv')\n",
    "shuff_dfi['label'] = np.where(shuff_dfi['measurement_value'] < 500, 1.0, 0.0)\n",
    "\n",
    "#models_outputs = {}\n",
    "AUCs = {}\n",
    "AUPRCs = {}\n",
    "\n",
    "title = 'CNN'\n",
    "AUCs[title] = {}\n",
    "AUPRCs[title] = {}\n",
    "for fold in range(1,6):\n",
    "    #%% CNN outputs\n",
    "    dfot = pd.read_csv(f'/projects/0/einf2380/data/pop_paper_data/cnn_outputs/shuffled_crossval/shuffled_cnn_outputs_fold_{fold}.csv')\n",
    "    #dfot = dfo[dfo['PHASE'].str.contains('testing', case=False)]\n",
    "    dfot['TARGET'] = dfot['TARGET'].astype(float)\n",
    "    dfot['ID'] = dfot['KEY']\n",
    "\n",
    "    AUCs[title][fold] = get_shuff_auc(title, dfot, shuff_dfi)\n",
    "    AUPRCs[title][fold] = get_shuff_auprc(title, dfot, shuff_dfi)\n",
    "\n",
    "# GNN outputs\n",
    "title = 'GNN'\n",
    "AUCs[title] = {}\n",
    "AUPRCs[title] = {}\n",
    "for fold in range(1,6):\n",
    "    dfot = pd.read_csv(f'/projects/0/einf2380/data/pop_paper_data/gnn_outputs/shuffled_crossval/shuffled_gnn_outputs_n_run_{fold}.csv')\n",
    "\n",
    "    AUCs[title][fold] = get_shuff_auc(title, dfot, shuff_dfi)\n",
    "    AUPRCs[title][fold] = get_shuff_auprc(title, dfot, shuff_dfi)\n",
    "\n",
    "\n",
    "title = 'EGNN'\n",
    "AUCs[title] = {}\n",
    "AUPRCs[title] = {}\n",
    "for fold in range(1,6):\n",
    "    dfot = pd.read_csv(f'/projects/0/einf2380/data/pop_paper_data/egnn_outputs/shuffled_crossval/Shuffled_{fold}_final_test_test_results.csv')\n",
    "    dfot['OUTPUT_1']=sigmoid(dfot['Output'])\n",
    "    dfot['TARGET'] = dfot['Target'].astype(float)\n",
    "    dfot['ID'] = dfot['Key']\n",
    "\n",
    "    AUCs[title][fold] = get_shuff_auc(title, dfot, shuff_dfi)\n",
    "    AUPRCs[title][fold] = get_shuff_auprc(title, dfot, shuff_dfi)\n",
    "\n",
    "#%% SSL without TCRs outputs\n",
    "\n",
    "title = 'SSL_woT'\n",
    "dfo = pd.read_csv('/projects/0/einf2380/data/pop_paper_data/egnn_outputs/egnn_ssl_no_tcr_shuffle.csv')\n",
    "dfot = dfo[dfo['PHASE'].str.contains('validation', case=False)]\n",
    "dfot['OUTPUT_1']=sigmoid(dfot['OUTPUT_0'])\n",
    "dfot['TARGET'] = dfot['TARGET'].astype(float)\n",
    "dfot['ID'] = dfot['KEY']\n",
    "\n",
    "AUCs[title] = get_shuff_auc(title, dfot, shuff_dfi)\n",
    "AUPRCs[title] = get_shuff_auprc(title, dfot, shuff_dfi)\n",
    "\n",
    "#%% SSL with TCRs outputs\n",
    "\n",
    "title = 'SSL_T'\n",
    "dfo = pd.read_csv('/projects/0/einf2380/data/pop_paper_data/egnn_outputs/egnn_ssl_shuffle.csv')\n",
    "dfot = dfo[dfo['PHASE'].str.contains('validation', case=False)]\n",
    "dfot['OUTPUT_1']=sigmoid(dfot['OUTPUT_0'])\n",
    "dfot['TARGET'] = dfot['TARGET'].astype(float)\n",
    "dfot['ID'] = dfot['KEY']\n",
    "\n",
    "AUCs[title] = get_shuff_auc(title, dfot, shuff_dfi)\n",
    "AUPRCs[title] = get_shuff_auprc(title, dfot, shuff_dfi)\n",
    "\n",
    "\n",
    "#%% MHCflurry outputs\n",
    "title='MHCflurry'\n",
    "dfo = pd.read_csv('/projects/0/einf2380/data/pop_paper_data/mhcflurry_outputs/shuffled_mhcflurry_outputs.csv',\n",
    "                header=None, names=['ID', 'BA', 'OUTPUT_1'])\n",
    "\n",
    "AUCs[title] = get_shuff_auc(title, dfo, shuff_dfi)\n",
    "AUPRCs[title] = get_shuff_auprc(title, dfo, shuff_dfi)\n",
    "\n",
    "#%% MLP \n",
    "title='MLP'\n",
    "AUCs[title] = {}\n",
    "AUPRCs[title] = {}\n",
    "for fold in range(1,6):\n",
    "    dfo = pd.read_csv(f'/projects/0/einf2380/data/pop_paper_data/mlp_outputs/shuffled_crossval/Shuffled_{fold}.csv')\n",
    "\n",
    "    AUCs[title][fold] = get_shuff_auc(title, dfo, shuff_dfi)\n",
    "    AUPRCs[title][fold] = get_shuff_auprc(title, dfo, shuff_dfi)\n",
    "\n",
    "\n",
    "collected_shuffled_outputs = {}\n",
    "for title in AUCs:\n",
    "    collected_shuffled_outputs[title] = {}\n",
    "    if title == 'MHCflurry' or title.startswith('SSL'):\n",
    "        collected_shuffled_outputs[title]['total_auc'] = AUCs[title]\n",
    "        collected_shuffled_outputs[title]['auc_stdev'] = 0\n",
    "        \n",
    "        collected_shuffled_outputs[title]['total_auprc'] = AUPRCs[title]\n",
    "        collected_shuffled_outputs[title]['auprc_stdev'] = 0\n",
    "\n",
    "    else:\n",
    "        collected_shuffled_outputs[title]['total_auc'] = np.mean([AUCs[title][fold] for fold in AUCs[title]])\n",
    "        collected_shuffled_outputs[title]['auc_stdev'] = np.std([AUCs[title][fold] for fold in AUCs[title]])\n",
    "        \n",
    "        collected_shuffled_outputs[title]['total_auprc'] = np.mean([AUPRCs[title][fold] for fold in AUPRCs[title]])\n",
    "        collected_shuffled_outputs[title]['auprc_stdev'] = np.std([AUPRCs[title][fold] for fold in AUPRCs[title]])\n",
    "\n",
    "#plt.bar(AUCs.keys(), AUCs.values())\n",
    "fig = go.Figure()\n",
    "fig.add_trace(go.Bar(x=list(collected_shuffled_outputs.keys()), \n",
    "                     y=list([x['total_auc'] for x in collected_shuffled_outputs.values()]),\n",
    "                     error_y=dict(type='data', array=[x['auc_stdev'] for x in collected_shuffled_outputs.values()])))\n",
    "fig.show()\n",
    "AUCs"
   ]
  },
  {
   "cell_type": "markdown",
   "metadata": {},
   "source": [
    "### Reorder dictionaries for figure plotting"
   ]
  },
  {
   "cell_type": "code",
   "execution_count": 7,
   "metadata": {},
   "outputs": [
    {
     "data": {
      "text/plain": [
       "\"\\n#%% Reorder and rename\\n\\nallele_aucs = {x: models_outputs[x]['total_auc'] for x in models_outputs}\\nallele_auprcs = {x: models_outputs[x]['total_auprc'] for x in models_outputs}\\n#allele_aucs['3D-GPT'] = allele_aucs['SSL_T']\\n#del allele_aucs['SSL_T']\\norder = ['CNN', 'GNN', 'EGNN', 'MHCflurry', 'MLP', 'SSL_T', 'SSL_woT']\\nallele_aucs = {x:allele_aucs[x] for x in order}\\nallele_auprcs = {x:allele_auprcs[x] for x in order}\\n\\n#AUCs['3D-SSL'] = AUCs['SSL_T']\\n#del AUCs['SSL_T']\\n#AUCs.pop('SSL_woT')\\n#AUCs.pop('SSL_T')\\nAUCs = {x:AUCs[x] for x in order}\\nAUPRCs = {x:AUPRCs[x] for x in order}\\n\""
      ]
     },
     "execution_count": 7,
     "metadata": {},
     "output_type": "execute_result"
    }
   ],
   "source": [
    "'''\n",
    "#%% Reorder and rename\n",
    "\n",
    "allele_aucs = {x: models_outputs[x]['total_auc'] for x in models_outputs}\n",
    "allele_auprcs = {x: models_outputs[x]['total_auprc'] for x in models_outputs}\n",
    "#allele_aucs['3D-GPT'] = allele_aucs['SSL_T']\n",
    "#del allele_aucs['SSL_T']\n",
    "order = ['CNN', 'GNN', 'EGNN', 'MHCflurry', 'MLP', 'SSL_T', 'SSL_woT']\n",
    "allele_aucs = {x:allele_aucs[x] for x in order}\n",
    "allele_auprcs = {x:allele_auprcs[x] for x in order}\n",
    "\n",
    "#AUCs['3D-SSL'] = AUCs['SSL_T']\n",
    "#del AUCs['SSL_T']\n",
    "#AUCs.pop('SSL_woT')\n",
    "#AUCs.pop('SSL_T')\n",
    "AUCs = {x:AUCs[x] for x in order}\n",
    "AUPRCs = {x:AUPRCs[x] for x in order}\n",
    "'''\n"
   ]
  },
  {
   "cell_type": "markdown",
   "metadata": {},
   "source": [
    "### Barplot plotting for the manuscript"
   ]
  },
  {
   "cell_type": "code",
   "execution_count": 8,
   "metadata": {},
   "outputs": [],
   "source": [
    "def plot_barplot(x, y, error, color, xlabel, ylabel, title,\n",
    "                save=False, ylim=(0.5, 1.0), \n",
    "                decimals=3, baseline=False):\n",
    "    fig, ax = plt.subplots(1,1)\n",
    "\n",
    "    # Save the chart so we can loop through the bars below.\n",
    "    bars = plt.bar(\n",
    "        x=x,\n",
    "        height=y,\n",
    "        yerr=error,\n",
    "        capsize=4,\n",
    "        tick_label=x,\n",
    "        color=color,\n",
    "        error_kw=dict(ecolor='gray')\n",
    "    )\n",
    "\n",
    "    # Axis formatting.\n",
    "    ax.spines['top'].set_visible(False)\n",
    "    ax.spines['right'].set_visible(False)\n",
    "    ax.spines['left'].set_visible(False)\n",
    "    ax.spines['bottom'].set_color('#DDDDDD')\n",
    "    ax.tick_params(bottom=False, left=False)\n",
    "    ax.set_axisbelow(True)\n",
    "    ax.yaxis.grid(True, color='#EEEEEE')\n",
    "    ax.xaxis.grid(False)\n",
    "    ax.set_ylim(ylim)\n",
    "    if baseline:\n",
    "        plt.axhline(baseline, linestyle='-.', color='grey')\n",
    "\n",
    "    #ax.legend(x)\n",
    "    \n",
    "    # Add text annotations to the top of the bars.\n",
    "    #bar_color = bars[0].get_facecolor()\n",
    "    for bar in bars:\n",
    "        if decimals == 2:\n",
    "            bar_text = f'{bar.get_height():.2f}'\n",
    "        else:\n",
    "            bar_text = f'{bar.get_height():.3f}'\n",
    "        ax.text(\n",
    "            bar.get_x() + bar.get_width() / 2,\n",
    "            bar.get_height() + 0.02,\n",
    "            bar_text,\n",
    "            horizontalalignment='center',\n",
    "            color=bar.get_facecolor(),\n",
    "            weight='bold'\n",
    "        )\n",
    "\n",
    "    # Add labels and a title.\n",
    "    ax.set_xlabel(xlabel, labelpad=15, color='#333333')\n",
    "    ax.set_ylabel(ylabel, labelpad=15, color='#333333')\n",
    "    ax.set_title(title, pad=15, color='#333333',\n",
    "                weight='bold')\n",
    "\n",
    "    \n",
    "    fig.tight_layout()\n",
    "    \n",
    "    if save:\n",
    "        plt.savefig(f'{save}.png', dpi=400)\n",
    "        plt.savefig(f'{save}.pdf')\n"
   ]
  },
  {
   "cell_type": "markdown",
   "metadata": {},
   "source": [
    "### PLOT AUCs"
   ]
  },
  {
   "cell_type": "code",
   "execution_count": 9,
   "metadata": {},
   "outputs": [
    {
     "data": {
      "text/plain": [
       "{'CNN': {'total_auc': 0.6983994975397425,\n",
       "  'auc_stdev': 0.011371739996963648,\n",
       "  'total_auprc': 0.5909201924808454,\n",
       "  'auprc_stdev': 0.014602678844616081},\n",
       " 'GNN': {'total_auc': 0.7148245492954539,\n",
       "  'auc_stdev': 0.016277660243939285,\n",
       "  'total_auprc': 0.6153911000987667,\n",
       "  'auprc_stdev': 0.019150775848432333},\n",
       " 'EGNN': {'total_auc': 0.7240820889263091,\n",
       "  'auc_stdev': 0.009673867141626347,\n",
       "  'total_auprc': 0.6301585334621459,\n",
       "  'auprc_stdev': 0.0063395615371645495},\n",
       " 'MHCflurry': {'total_auc': 0.6546790015053261,\n",
       "  'auc_stdev': 0,\n",
       "  'total_auprc': 0.5614653634298852,\n",
       "  'auprc_stdev': 0},\n",
       " 'MLP': {'total_auc': 0.5570566690901033,\n",
       "  'auc_stdev': 0.07077919993942311,\n",
       "  'total_auprc': 0.4910490771969048,\n",
       "  'auprc_stdev': 0.06380194461695628},\n",
       " 'SSL_woT': {'total_auc': 0.6415857406790357,\n",
       "  'auc_stdev': 0,\n",
       "  'total_auprc': 0.5393075988564159,\n",
       "  'auprc_stdev': 0},\n",
       " 'SSL_T': {'total_auc': 0.6656486866447067,\n",
       "  'auc_stdev': 0.010265513556167595,\n",
       "  'total_auprc': 0.5627307938095895,\n",
       "  'auprc_stdev': 0.014659970329777392},\n",
       " 'SSL_1k': {'total_auc': 0.5648341101280929,\n",
       "  'auc_stdev': 0.010867131479230241,\n",
       "  'total_auprc': 0.45078064020052444,\n",
       "  'auprc_stdev': 0.009418696412887081},\n",
       " 'SSL_5k': {'total_auc': 0.6320013736181892,\n",
       "  'auc_stdev': 0.00929959617047011,\n",
       "  'total_auprc': 0.5143436910792374,\n",
       "  'auprc_stdev': 0.0067634115002374985},\n",
       " 'SSL_10k': {'total_auc': 0.6338222045204581,\n",
       "  'auc_stdev': 0.011839791537524005,\n",
       "  'total_auprc': 0.5182422895798218,\n",
       "  'auprc_stdev': 0.010964563451530232},\n",
       " 'SSL_all': {'total_auc': 0.6358473861455993,\n",
       "  'auc_stdev': 0.010306669087413706,\n",
       "  'total_auprc': 0.5214994571040947,\n",
       "  'auprc_stdev': 0.008921074251869554},\n",
       " 'SSL_xray_pandora': {'total_auc': 0.6785569163914007,\n",
       "  'auc_stdev': 0.014978581224183983,\n",
       "  'total_auprc': 0.5637654750700491,\n",
       "  'auprc_stdev': 0.015057631919790275}}"
      ]
     },
     "execution_count": 9,
     "metadata": {},
     "output_type": "execute_result"
    }
   ],
   "source": [
    "collected_allele_outputs"
   ]
  },
  {
   "cell_type": "code",
   "execution_count": 10,
   "metadata": {},
   "outputs": [
    {
     "data": {
      "image/png": "[encoded data removed]",
      "text/plain": [
       "<Figure size 640x480 with 1 Axes>"
      ]
     },
     "metadata": {},
     "output_type": "display_data"
    },
    {
     "data": {
      "image/png": "[encoded data removed]",
      "text/plain": [
       "<Figure size 640x480 with 1 Axes>"
      ]
     },
     "metadata": {},
     "output_type": "display_data"
    },
    {
     "data": {
      "image/png": "[encoded data removed]",
      "text/plain": [
       "<Figure size 640x480 with 1 Axes>"
      ]
     },
     "metadata": {},
     "output_type": "display_data"
    },
    {
     "data": {
      "image/png": "[encoded data removed]",
      "text/plain": [
       "<Figure size 640x480 with 1 Axes>"
      ]
     },
     "metadata": {},
     "output_type": "display_data"
    }
   ],
   "source": [
    "plt.rcParams['font.size'] = 12\n",
    "# Plot StrB and SeqB shuffled\n",
    "models = ['CNN', 'GNN', 'EGNN', 'MHCflurry', 'MLP']\n",
    "x = models\n",
    "y = [collected_shuffled_outputs[key]['total_auc'] for key in models]\n",
    "error = [collected_shuffled_outputs[key]['auc_stdev'] for key in models]\n",
    "color = ['#5476E5','#5476E5', '#5476E5', '#030712', '#030712']\n",
    "xlabel='Neural Network'\n",
    "ylabel='AUC'\n",
    "title='AUC on Shuffled set'\n",
    "plot_barplot(x, y, error, color, xlabel, ylabel, title, save = f'/home/dmarz/3D-Vac/src/exploration/manuscript/figures/AUC_shuffled')\n",
    "\n",
    "# Plot StrB and SeqB clustered\n",
    "models = ['CNN', 'GNN', 'EGNN', 'MHCflurry', 'MLP']\n",
    "x = models\n",
    "y = [collected_allele_outputs[key]['total_auc']  for key in models]\n",
    "error = [collected_allele_outputs[key]['auc_stdev'] for key in models]\n",
    "color = ['#5476E5','#5476E5', '#5476E5', '#030712', '#030712']\n",
    "xlabel='Neural Network'\n",
    "ylabel='AUC'\n",
    "title='AUC on Clustered set'\n",
    "\n",
    "plot_barplot(x, y, error, color, xlabel, ylabel, title, ylim=(0.4,1.0), save = f'/home/dmarz/3D-Vac/src/exploration/manuscript/figures/AUC_clust_allele')\n",
    "\n",
    "# Plot SSL\n",
    "# Could add best StrB and best SeqB method as comparison\n",
    "#models = ['3D-SSL no TCR s', '3D-SSL TCR s', '3D-SSL no TCR c', '3D-SSL TCR c']\n",
    "models = ['3D-SSL no TCR c', '3D-SSL TCR c']\n",
    "x = models\n",
    "y = [collected_allele_outputs[key]['total_auc'] for key in ['SSL_woT', 'SSL_T']] #  [collected_shuffled_outputs[key]['total_auc'] for key in ['SSL_woT', 'SSL_T']] \n",
    "error = [np.std([0.656, 0.647, 0.638, 0.622, 0.642]), collected_allele_outputs['SSL_T']['auc_stdev']]\n",
    "#error = [collected_allele_outputs[key]['auc_stdev'] for key in ['SSL_woT', 'SSL_T']] # [collected_shuffled_outputs[key]['auc_stdev'] for key in ['SSL_woT', 'SSL_T']]\n",
    "color = ['#c07715', '#31872b'] #['#c07715','#c59063', '#31872b', '#6e8e77']\n",
    "#xlabel='Neural Network'\n",
    "xlabel=''\n",
    "ylabel='AUC'\n",
    "title='3D-SSL trained with TCR vs. w/o TCR'\n",
    "\n",
    "plot_barplot(x, y, error, color, xlabel, ylabel, title, ylim=(0.5, 0.8), save = f'/home/dmarz/3D-Vac/src/exploration/manuscript/figures/withTCR_woTCR')\n",
    "\n",
    "# Plot SSL summary\n",
    "# Could add best StrB and best SeqB method as comparison\n",
    "models = ['EGNN', 'MHCflurry', 'MLP', '3D-SSL']\n",
    "x = models\n",
    "y = [collected_allele_outputs[key]['total_auc'] for key in ['EGNN', 'MHCflurry', 'MLP', 'SSL_T']]\n",
    "error = [collected_allele_outputs[key]['auc_stdev'] for key in ['EGNN', 'MHCflurry', 'MLP', 'SSL_T']]\n",
    "color = ['#5476E5', '#030712', '#030712', '#31872b']\n",
    "xlabel=''\n",
    "ylabel='AUC'\n",
    "title='SSL vs. supervised methods'\n",
    "\n",
    "plot_barplot(x, y, error, color, xlabel, ylabel, title, ylim=(0.4,1.0), save = f'/home/dmarz/3D-Vac/src/exploration/manuscript/figures/SSL_AUC')\n",
    "\n",
    "\n"
   ]
  },
  {
   "cell_type": "markdown",
   "metadata": {},
   "source": [
    "### PLOT AUPRCs"
   ]
  },
  {
   "cell_type": "code",
   "execution_count": 11,
   "metadata": {},
   "outputs": [
    {
     "data": {
      "image/png": "[encoded data removed]",
      "text/plain": [
       "<Figure size 640x480 with 1 Axes>"
      ]
     },
     "metadata": {},
     "output_type": "display_data"
    },
    {
     "data": {
      "image/png": "[encoded data removed]",
      "text/plain": [
       "<Figure size 640x480 with 1 Axes>"
      ]
     },
     "metadata": {},
     "output_type": "display_data"
    },
    {
     "data": {
      "image/png": "[encoded data removed]",
      "text/plain": [
       "<Figure size 640x480 with 1 Axes>"
      ]
     },
     "metadata": {},
     "output_type": "display_data"
    }
   ],
   "source": [
    "# Get AUPRC baseline values\n",
    "clust_baseline = len(clust_dfi[clust_dfi['label']==1.0])/len(clust_dfi)\n",
    "shuff_baseline = len(shuff_dfi[shuff_dfi['label']==1.0])/len(shuff_dfi)\n",
    "\n",
    "plt.rcParams['font.size'] = 12\n",
    "\n",
    "# Plot StrB and SeqB shuffled\n",
    "models = ['CNN', 'GNN', 'EGNN', 'MHCflurry', 'MLP']\n",
    "x = models\n",
    "y = [collected_shuffled_outputs[key]['total_auprc'] for key in models]\n",
    "error = [collected_shuffled_outputs[key]['auprc_stdev'] for key in models]\n",
    "color = ['#5476E5','#5476E5', '#5476E5', '#030712', '#030712']\n",
    "xlabel='Neural Network'\n",
    "ylabel='AUPRC'\n",
    "title='AUPRC on Shuffled set'\n",
    "plot_barplot(x, y, error, color, xlabel, ylabel, title, \n",
    "            ylim=(shuff_baseline, 1.0),\n",
    "            save = f'/home/dmarz/3D-Vac/src/exploration/manuscript/figures/AUPRC_shuffled')\n",
    "\n",
    "# Plot StrB and SeqB clustered\n",
    "models = ['CNN', 'GNN', 'EGNN', 'MHCflurry', 'MLP']\n",
    "x = models\n",
    "y = [collected_allele_outputs[key]['total_auprc'] for key in models]\n",
    "error = [collected_allele_outputs[key]['auprc_stdev'] for key in models]\n",
    "color = ['#5476E5','#5476E5', '#5476E5', '#030712', '#030712']\n",
    "xlabel='Neural Network'\n",
    "ylabel='AUPRC'\n",
    "title='AUPRC on Clustered set'\n",
    "\n",
    "plot_barplot(x, y, error, color, xlabel, ylabel, title, \n",
    "                ylim=(clust_baseline, 1.0),\n",
    "                save = f'/home/dmarz/3D-Vac/src/exploration/manuscript/figures/AUPRC_clust_allele')\n",
    "\n",
    "# Plot SSL\n",
    "# Could add best StrB and best SeqB method as comparison\n",
    "models = ['3D-SSL TCR s', '3D-SSL no TCR s', '3D-SSL TCR c', '3D-SSL no TCR c']\n",
    "x = models\n",
    "y = [collected_shuffled_outputs[key]['total_auprc'] for key in ['SSL_T', 'SSL_woT']] + [collected_allele_outputs[key]['total_auprc'] for key in ['SSL_T', 'SSL_woT']]\n",
    "error = [collected_shuffled_outputs[key]['auprc_stdev'] for key in ['SSL_woT', 'SSL_T']] + [collected_allele_outputs[key]['auprc_stdev'] for key in ['SSL_woT', 'SSL_T']]\n",
    "color = ['#c07715','#c59063', '#31872b', '#6e8e77']\n",
    "xlabel='Neural Network'\n",
    "ylabel='AUPRC'\n",
    "title='AUPRC 3D-SSL'\n",
    "\n",
    "plot_barplot(x, y, error, color, xlabel, ylabel, title, save = f'/home/dmarz/3D-Vac/src/exploration/manuscript/figures/AUPRC_SSL')\n",
    "\n",
    "\n"
   ]
  },
  {
   "cell_type": "code",
   "execution_count": 12,
   "metadata": {},
   "outputs": [
    {
     "data": {
      "image/png": "[encoded data removed]",
      "text/plain": [
       "<Figure size 640x480 with 1 Axes>"
      ]
     },
     "metadata": {},
     "output_type": "display_data"
    },
    {
     "data": {
      "image/png": "[encoded data removed]",
      "text/plain": [
       "<Figure size 640x480 with 1 Axes>"
      ]
     },
     "metadata": {},
     "output_type": "display_data"
    },
    {
     "data": {
      "image/png": "[encoded data removed]",
      "text/plain": [
       "<Figure size 640x480 with 1 Axes>"
      ]
     },
     "metadata": {},
     "output_type": "display_data"
    },
    {
     "data": {
      "image/png": "[encoded data removed]",
      "text/plain": [
       "<Figure size 640x480 with 1 Axes>"
      ]
     },
     "metadata": {},
     "output_type": "display_data"
    }
   ],
   "source": [
    "plt.rcParams['font.size'] = 15\n",
    "\n",
    "# Plot StrB and SeqB shuffled for poster\n",
    "models = ['EGNN', 'MHCflurry', 'MLP']\n",
    "x = models\n",
    "y = [collected_shuffled_outputs[key]['total_auc'] for key in models]\n",
    "error = [collected_shuffled_outputs[key]['auc_stdev'] for key in models]\n",
    "color = ['#5476E5', '#030712', '#030712']\n",
    "xlabel='Neural Network'\n",
    "ylabel='AUC'\n",
    "title='AUC on Shuffled set'\n",
    "plot_barplot(x, y, error, color, xlabel, ylabel, title, \n",
    "             ylim=(0.0,1.0), decimals=2)\n",
    "\n",
    "# Plot StrB and SeqB clustered for poster\n",
    "models = ['EGNN', 'MHCflurry', 'MLP']\n",
    "x = models\n",
    "y = [collected_allele_outputs[key]['total_auc']  for key in models]\n",
    "error = [collected_allele_outputs[key]['auc_stdev'] for key in models]\n",
    "color = ['#5476E5', '#030712', '#030712']\n",
    "xlabel='Neural Network'\n",
    "ylabel='AUC'\n",
    "title='AUC on Clustered set'\n",
    "\n",
    "plot_barplot(x, y, error, color, xlabel, ylabel, title, \n",
    "             ylim=(0.0,1.0), decimals=2)\n",
    "\n",
    "models = ['3D-SSL no TCR c', '3D-SSL TCR c']\n",
    "x = models\n",
    "y = [collected_allele_outputs[key]['total_auc'] for key in ['SSL_woT', 'SSL_T']] #  [collected_shuffled_outputs[key]['total_auc'] for key in ['SSL_woT', 'SSL_T']] \n",
    "error = [np.std([0.656, 0.647, 0.638, 0.622, 0.642]), collected_allele_outputs['SSL_T']['auc_stdev']]\n",
    "#error = [collected_allele_outputs[key]['auc_stdev'] for key in ['SSL_woT', 'SSL_T']] # [collected_shuffled_outputs[key]['auc_stdev'] for key in ['SSL_woT', 'SSL_T']]\n",
    "color = ['#c07715', '#31872b'] #['#c07715','#c59063', '#31872b', '#6e8e77']\n",
    "#xlabel='Neural Network'\n",
    "xlabel=''\n",
    "ylabel='AUC'\n",
    "title='3D-SSL trained with TCR vs. w/o TCR'\n",
    "\n",
    "plot_barplot(x, y, error, color, xlabel, ylabel, title, ylim=(0.4, 0.8), decimals=2)\n",
    "\n",
    "models = ['EGNN', 'MHCflurry', 'MLP', '3D-\"GPT\"']\n",
    "x = models\n",
    "y = [collected_allele_outputs[key]['total_auc'] for key in ['EGNN', 'MHCflurry', 'MLP', 'SSL_T']]\n",
    "error = [collected_allele_outputs[key]['auc_stdev'] for key in ['EGNN', 'MHCflurry', 'MLP', 'SSL_T']]\n",
    "color = ['#5476E5', '#030712', '#030712', '#31872b']\n",
    "xlabel=''\n",
    "ylabel='AUC'\n",
    "title='Best Models AUC'\n",
    "\n",
    "plot_barplot(x, y, error, color, xlabel, ylabel, title, ylim=(0.4,0.8), decimals=2)"
   ]
  },
  {
   "cell_type": "code",
   "execution_count": 13,
   "metadata": {},
   "outputs": [
    {
     "data": {
      "text/plain": [
       "0.4397801099450275"
      ]
     },
     "execution_count": 13,
     "metadata": {},
     "output_type": "execute_result"
    }
   ],
   "source": [
    "shuff_baseline"
   ]
  },
  {
   "cell_type": "code",
   "execution_count": 14,
   "metadata": {},
   "outputs": [
    {
     "data": {
      "text/plain": [
       "0.4111933839792288"
      ]
     },
     "execution_count": 14,
     "metadata": {},
     "output_type": "execute_result"
    }
   ],
   "source": [
    "clust_baseline"
   ]
  },
  {
   "cell_type": "code",
   "execution_count": null,
   "metadata": {},
   "outputs": [],
   "source": []
  }
 ],
 "metadata": {
  "kernelspec": {
   "display_name": "deeprank",
   "language": "python",
   "name": "python3"
  },
  "language_info": {
   "codemirror_mode": {
    "name": "ipython",
    "version": 3
   },
   "file_extension": ".py",
   "mimetype": "text/x-python",
   "name": "python",
   "nbconvert_exporter": "python",
   "pygments_lexer": "ipython3",
   "version": "3.1.-1"
  },
  "orig_nbformat": 4
 },
 "nbformat": 4,
 "nbformat_minor": 2
}
