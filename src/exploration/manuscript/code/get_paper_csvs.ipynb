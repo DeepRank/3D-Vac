{
 "cells": [
  {
   "cell_type": "code",
   "execution_count": null,
   "metadata": {},
   "outputs": [],
   "source": [
    "import pandas as pd\n",
    "import os\n",
    "\n",
    "experiment_csvs_path = '/projects/0/einf2380/data/external/processed/I/experiments'\n",
    "outputs_csvs_path = '/projects/0/einf2380/data/pop_paper_data'"
   ]
  },
  {
   "cell_type": "code",
   "execution_count": null,
   "metadata": {},
   "outputs": [],
   "source": [
    "#shuffled\n",
    "dfot = pd.read_hdf(\n",
    "    '/projects/0/einf2380/data/pMHCI/trained_models/deeprank2/experiments/exp_100k_std_transf_bs64_naivegnn1_wloss_0_230607/output/output_exporter.hdf5'\n",
    "                  , key=\"testing\")\n",
    "dfot['entry']= [x.split(':')[2] for x in dfot['entry']]\n",
    "dfot['ID'] = dfot['entry']\n",
    "dfot['output']= [x[1] for x in dfot['output']]\n",
    "dfot.to_csv('/projects/0/einf2380/data/pop_paper_data/gnn_outputs/shuffled_gnn_outputs.csv')\n",
    "\n",
    "#allele-clustered\n",
    "title = 'GNN'\n",
    "dfot = pd.read_hdf('/projects/0/einf2380/data/pMHCI/trained_models/deeprank2/experiments/exp_100k_std_transf_bs64_naivegnn1_wloss_cl_allele_0_230607/output/output_exporter.hdf5'\n",
    "                  , key=\"testing\")\n",
    "dfot['entry']= [x.split(':')[2] for x in dfot['entry']]\n",
    "dfot['ID'] = dfot['entry']\n",
    "dfot['output']= [x[1] for x in dfot['output']]\n",
    "dfot.to_csv('/projects/0/einf2380/data/pop_paper_data/gnn_outputs/allele_gnn_outputs.csv')"
   ]
  },
  {
   "cell_type": "code",
   "execution_count": null,
   "metadata": {},
   "outputs": [],
   "source": [
    "input_csv = '/projects/0/einf2380/data/external/processed/I/experiments/BA_pMHCI_human_quantitative_only_eq_shuffled_train_validation.csv'\n",
    "output_csvs = ['/projects/0/einf2380/data/pop_paper_data/cnn_outputs/shuffled_cnn_outputs.csv',\n",
    "               '/projects/0/einf2380/data/pop_paper_data/egnn_outputs/egnn_ssl_shuffle.csv',\n",
    "               '/projects/0/einf2380/data/pop_paper_data/egnn_outputs/egnn_supervised_shuffle.csv',\n",
    "               '/projects/0/einf2380/data/pop_paper_data/mhcflurry_outputs/shuffled_mhcflurry_outputs.csv',\n",
    "               '/projects/0/einf2380/data/pop_paper_data/mlp_outputs/shuffled_mlp_outputs.csv',\n",
    "               ]"
   ]
  }
 ],
 "metadata": {
  "language_info": {
   "name": "python"
  }
 },
 "nbformat": 4,
 "nbformat_minor": 2
}
