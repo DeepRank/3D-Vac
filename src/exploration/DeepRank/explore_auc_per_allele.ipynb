{
 "cells": [
  {
   "cell_type": "code",
   "execution_count": 4,
   "metadata": {},
   "outputs": [],
   "source": [
    "import sys\n",
    "sys.path.append('../')\n",
    "import deeprank_plots as dp\n",
    "import os\n",
    "import h5py\n",
    "import numpy as np\n",
    "from numpy.polynomial.polynomial import polyfit\n",
    "import plotly.graph_objects as go\n",
    "from matplotlib import pyplot as plt\n",
    "import pandas as pd\n",
    "import seaborn as sns\n",
    "\n",
    "import sys\n",
    "sys.path.append('/home/dmarz/3D-Vac/src/4_train_models')\n",
    "from DeepRank import classMetrics\n",
    "\n",
    "import pickle\n",
    "\n",
    "def get_dist_matrix(pklname='/projects/0/einf2380/data/pop_paper_data/allele_clustering/HLA_all.pkl'):\n",
    "    with open(pklname, 'rb') as inpkl:\n",
    "        name = pickle.load(inpkl)\n",
    "        seq = pickle.load(inpkl)\n",
    "        score = pickle.load(inpkl)\n",
    "        dist = pickle.load(inpkl)\n",
    "\n",
    "    matrix = {}\n",
    "    for i, x in enumerate(name):\n",
    "        matrix[x] = { y:dist[i+j]  for j, y in enumerate(name[i+1:])}\n",
    "    \n",
    "    return matrix\n",
    "\n",
    "def get_avg_distance(allele, matrix, test_alleles):\n",
    "    distances = []\n",
    "    other_alleles = [name for name in matrix.keys() if (name not in test_alleles) and (name != allele)]\n",
    "    for name in other_alleles:\n",
    "        if name not in training_allele_freq.keys():\n",
    "            #print(f'WARNING: allele {allele} not in training alleles frequency')\n",
    "            if name in test_alleles:\n",
    "                print(f'Health check: {allele} in test alleles')\n",
    "                continue\n",
    "            else:\n",
    "                print(f'WARNING: allele {name} not in training alleles. Skipping.')\n",
    "                continue\n",
    "        \n",
    "        try:\n",
    "            distances.append(matrix[allele][name] * training_allele_freq[name]) \n",
    "        except KeyError:\n",
    "            try:\n",
    "                distances.append(matrix[name][allele] * training_allele_freq[name])\n",
    "            except KeyError:\n",
    "                raise KeyError('The provided allele does not seem to belong to this matrix')\n",
    "\n",
    "    avg_distance = sum(distances)/len(distances)\n",
    "    return avg_distance\n",
    "\n",
    "matrix = {}\n",
    "matrix['A'] = get_dist_matrix(pklname='/projects/0/einf2380/data/pop_paper_data/allele_clustering/HLAA.pkl')\n",
    "matrix['B'] = get_dist_matrix(pklname='/projects/0/einf2380/data/pop_paper_data/allele_clustering/HLAB.pkl')\n",
    "matrix['C'] = get_dist_matrix(pklname='/projects/0/einf2380/data/pop_paper_data/allele_clustering/HLAC.pkl')\n",
    "matrix['ALL'] = get_dist_matrix(pklname='/projects/0/einf2380/data/pop_paper_data/allele_clustering/HLA_all.pkl')\n",
    "\n",
    "\n",
    "dfi = pd.read_csv('/projects/0/einf2380/data/external/processed/I/experiments/BA_pMHCI_human_quantitative_only_eq_pseudoseq_clustered_test.csv')\n",
    "dfi['label'] = np.where(dfi['measurement_value'] < 500, 1.0, 0.0)\n",
    "\n",
    "tdf=pd.read_csv(\n",
    "    '/projects/0/einf2380/data/external/processed/I/experiments/BA_pMHCI_human_quantitative_only_eq_pseudoseq_clustered_train_validation.csv')\n",
    "training_allele_freq = {}\n",
    "for allele in list(set(tdf['allele'])):\n",
    "    training_allele_freq[allele] = (tdf['allele'] == allele).sum()/len(tdf)\n",
    "\n",
    "test_alleles = list(set(dfi['allele']))\n",
    "\n",
    "correlations = {}\n",
    "\n",
    "label_per_model = {'CNN': ('OUTPUT_1', 'TARGET'),\n",
    "                    'GNN': ('output', 'label'),\n",
    "                'EGNN': ('OUTPUT_1', 'TARGET'),\n",
    "                'SSL_woT': ('OUTPUT_1', 'TARGET'),\n",
    "                'SSL_T': ('OUTPUT_1', 'TARGET'),\n",
    "                'MLP': ('OUTPUT_1', 'label'),\n",
    "                'MHCflurry': ('OUTPUT_1', 'label'),\n",
    "                }\n",
    "\n",
    "# Get average distance of these alleles from the rest of the clustering\n",
    "# - Need to weight the distance for the number of points in the training\n",
    "# Plot with bars colors depending on the distance, for CNN and MLP / mhcflurry\n",
    "\n",
    "#plot scatter plot\n",
    "#comparison with shuffled experiment?\n"
   ]
  },
  {
   "cell_type": "code",
   "execution_count": 8,
   "metadata": {},
   "outputs": [
    {
     "name": "stdout",
     "output_type": "stream",
     "text": [
      "WARNING: allele HLA-B*44:01 not in training alleles. Skipping.\n",
      "WARNING: allele HLA-C*01:01 not in training alleles. Skipping.\n",
      "WARNING: allele HLA-B*44:01 not in training alleles. Skipping.\n",
      "WARNING: allele HLA-C*01:01 not in training alleles. Skipping.\n",
      "WARNING: allele HLA-B*44:01 not in training alleles. Skipping.\n",
      "WARNING: allele HLA-C*01:01 not in training alleles. Skipping.\n",
      "WARNING: allele HLA-B*44:01 not in training alleles. Skipping.\n",
      "WARNING: allele HLA-C*01:01 not in training alleles. Skipping.\n",
      "WARNING: allele HLA-B*44:01 not in training alleles. Skipping.\n",
      "WARNING: allele HLA-C*01:01 not in training alleles. Skipping.\n",
      "WARNING: allele HLA-B*44:01 not in training alleles. Skipping.\n",
      "WARNING: allele HLA-C*01:01 not in training alleles. Skipping.\n",
      "WARNING: allele HLA-B*44:01 not in training alleles. Skipping.\n",
      "WARNING: allele HLA-C*01:01 not in training alleles. Skipping.\n",
      "WARNING: allele HLA-B*44:01 not in training alleles. Skipping.\n",
      "WARNING: allele HLA-C*01:01 not in training alleles. Skipping.\n",
      "WARNING: allele HLA-B*44:01 not in training alleles. Skipping.\n",
      "WARNING: allele HLA-C*01:01 not in training alleles. Skipping.\n",
      "WARNING: allele HLA-B*44:01 not in training alleles. Skipping.\n",
      "WARNING: allele HLA-C*01:01 not in training alleles. Skipping.\n",
      "WARNING: allele HLA-B*44:01 not in training alleles. Skipping.\n",
      "WARNING: allele HLA-C*01:01 not in training alleles. Skipping.\n",
      "Allele HLA-A*24:01 not in Matrix ALL\n",
      "WARNING: allele HLA-B*44:01 not in training alleles. Skipping.\n",
      "WARNING: allele HLA-C*01:01 not in training alleles. Skipping.\n",
      "WARNING: allele HLA-B*44:01 not in training alleles. Skipping.\n",
      "WARNING: allele HLA-C*01:01 not in training alleles. Skipping.\n",
      "TITLE CNN, AUC 0.6969536505877688\n",
      "WARNING: allele HLA-B*44:01 not in training alleles. Skipping.\n",
      "WARNING: allele HLA-C*01:01 not in training alleles. Skipping.\n",
      "WARNING: allele HLA-B*44:01 not in training alleles. Skipping.\n",
      "WARNING: allele HLA-C*01:01 not in training alleles. Skipping.\n",
      "WARNING: allele HLA-B*44:01 not in training alleles. Skipping.\n",
      "WARNING: allele HLA-C*01:01 not in training alleles. Skipping.\n",
      "WARNING: allele HLA-B*44:01 not in training alleles. Skipping.\n",
      "WARNING: allele HLA-C*01:01 not in training alleles. Skipping.\n",
      "WARNING: allele HLA-B*44:01 not in training alleles. Skipping.\n",
      "WARNING: allele HLA-C*01:01 not in training alleles. Skipping.\n",
      "WARNING: allele HLA-B*44:01 not in training alleles. Skipping.\n",
      "WARNING: allele HLA-C*01:01 not in training alleles. Skipping.\n",
      "WARNING: allele HLA-B*44:01 not in training alleles. Skipping.\n",
      "WARNING: allele HLA-C*01:01 not in training alleles. Skipping.\n",
      "WARNING: allele HLA-B*44:01 not in training alleles. Skipping.\n",
      "WARNING: allele HLA-C*01:01 not in training alleles. Skipping.\n",
      "WARNING: allele HLA-B*44:01 not in training alleles. Skipping.\n",
      "WARNING: allele HLA-C*01:01 not in training alleles. Skipping.\n",
      "WARNING: allele HLA-B*44:01 not in training alleles. Skipping.\n",
      "WARNING: allele HLA-C*01:01 not in training alleles. Skipping.\n",
      "WARNING: allele HLA-B*44:01 not in training alleles. Skipping.\n",
      "WARNING: allele HLA-C*01:01 not in training alleles. Skipping.\n",
      "Allele HLA-A*24:01 not in Matrix ALL\n",
      "WARNING: allele HLA-B*44:01 not in training alleles. Skipping.\n",
      "WARNING: allele HLA-C*01:01 not in training alleles. Skipping.\n",
      "WARNING: allele HLA-B*44:01 not in training alleles. Skipping.\n",
      "WARNING: allele HLA-C*01:01 not in training alleles. Skipping.\n",
      "TITLE GNN, AUC 0.7087085808696671\n",
      "WARNING: allele HLA-B*44:01 not in training alleles. Skipping.\n",
      "WARNING: allele HLA-C*01:01 not in training alleles. Skipping.\n",
      "WARNING: allele HLA-B*44:01 not in training alleles. Skipping.\n",
      "WARNING: allele HLA-C*01:01 not in training alleles. Skipping.\n",
      "WARNING: allele HLA-B*44:01 not in training alleles. Skipping.\n",
      "WARNING: allele HLA-C*01:01 not in training alleles. Skipping.\n",
      "WARNING: allele HLA-B*44:01 not in training alleles. Skipping.\n",
      "WARNING: allele HLA-C*01:01 not in training alleles. Skipping.\n",
      "WARNING: allele HLA-B*44:01 not in training alleles. Skipping.\n",
      "WARNING: allele HLA-C*01:01 not in training alleles. Skipping.\n",
      "WARNING: allele HLA-B*44:01 not in training alleles. Skipping.\n",
      "WARNING: allele HLA-C*01:01 not in training alleles. Skipping.\n",
      "WARNING: allele HLA-B*44:01 not in training alleles. Skipping.\n",
      "WARNING: allele HLA-C*01:01 not in training alleles. Skipping.\n",
      "WARNING: allele HLA-B*44:01 not in training alleles. Skipping.\n",
      "WARNING: allele HLA-C*01:01 not in training alleles. Skipping.\n",
      "WARNING: allele HLA-B*44:01 not in training alleles. Skipping.\n",
      "WARNING: allele HLA-C*01:01 not in training alleles. Skipping.\n",
      "WARNING: allele HLA-B*44:01 not in training alleles. Skipping.\n",
      "WARNING: allele HLA-C*01:01 not in training alleles. Skipping.\n",
      "WARNING: allele HLA-B*44:01 not in training alleles. Skipping.\n",
      "WARNING: allele HLA-C*01:01 not in training alleles. Skipping.\n",
      "Allele HLA-A*24:01 not in Matrix ALL\n",
      "WARNING: allele HLA-B*44:01 not in training alleles. Skipping.\n",
      "WARNING: allele HLA-C*01:01 not in training alleles. Skipping.\n",
      "WARNING: allele HLA-B*44:01 not in training alleles. Skipping.\n",
      "WARNING: allele HLA-C*01:01 not in training alleles. Skipping.\n",
      "TITLE EGNN, AUC 0.7268719479732882\n",
      "WARNING: allele HLA-B*44:01 not in training alleles. Skipping.\n",
      "WARNING: allele HLA-C*01:01 not in training alleles. Skipping.\n",
      "WARNING: allele HLA-B*44:01 not in training alleles. Skipping.\n",
      "WARNING: allele HLA-C*01:01 not in training alleles. Skipping.\n",
      "WARNING: allele HLA-B*44:01 not in training alleles. Skipping.\n",
      "WARNING: allele HLA-C*01:01 not in training alleles. Skipping.\n",
      "WARNING: allele HLA-B*44:01 not in training alleles. Skipping.\n",
      "WARNING: allele HLA-C*01:01 not in training alleles. Skipping.\n",
      "WARNING: allele HLA-B*44:01 not in training alleles. Skipping.\n",
      "WARNING: allele HLA-C*01:01 not in training alleles. Skipping.\n",
      "WARNING: allele HLA-B*44:01 not in training alleles. Skipping.\n",
      "WARNING: allele HLA-C*01:01 not in training alleles. Skipping.\n",
      "WARNING: allele HLA-B*44:01 not in training alleles. Skipping.\n",
      "WARNING: allele HLA-C*01:01 not in training alleles. Skipping.\n",
      "WARNING: allele HLA-B*44:01 not in training alleles. Skipping.\n",
      "WARNING: allele HLA-C*01:01 not in training alleles. Skipping.\n",
      "WARNING: allele HLA-B*44:01 not in training alleles. Skipping.\n",
      "WARNING: allele HLA-C*01:01 not in training alleles. Skipping.\n",
      "WARNING: allele HLA-B*44:01 not in training alleles. Skipping.\n",
      "WARNING: allele HLA-C*01:01 not in training alleles. Skipping.\n",
      "WARNING: allele HLA-B*44:01 not in training alleles. Skipping.\n",
      "WARNING: allele HLA-C*01:01 not in training alleles. Skipping.\n",
      "Allele HLA-A*24:01 not in Matrix ALL\n",
      "WARNING: allele HLA-B*44:01 not in training alleles. Skipping.\n",
      "WARNING: allele HLA-C*01:01 not in training alleles. Skipping.\n",
      "WARNING: allele HLA-B*44:01 not in training alleles. Skipping.\n",
      "WARNING: allele HLA-C*01:01 not in training alleles. Skipping.\n",
      "TITLE MHCflurry, AUC 0.65456587865395\n",
      "WARNING: allele HLA-B*44:01 not in training alleles. Skipping.\n",
      "WARNING: allele HLA-C*01:01 not in training alleles. Skipping.\n",
      "WARNING: allele HLA-B*44:01 not in training alleles. Skipping.\n",
      "WARNING: allele HLA-C*01:01 not in training alleles. Skipping.\n",
      "WARNING: allele HLA-B*44:01 not in training alleles. Skipping.\n",
      "WARNING: allele HLA-C*01:01 not in training alleles. Skipping.\n",
      "WARNING: allele HLA-B*44:01 not in training alleles. Skipping.\n",
      "WARNING: allele HLA-C*01:01 not in training alleles. Skipping.\n",
      "WARNING: allele HLA-B*44:01 not in training alleles. Skipping.\n",
      "WARNING: allele HLA-C*01:01 not in training alleles. Skipping.\n",
      "WARNING: allele HLA-B*44:01 not in training alleles. Skipping.\n",
      "WARNING: allele HLA-C*01:01 not in training alleles. Skipping.\n",
      "WARNING: allele HLA-B*44:01 not in training alleles. Skipping.\n",
      "WARNING: allele HLA-C*01:01 not in training alleles. Skipping.\n",
      "WARNING: allele HLA-B*44:01 not in training alleles. Skipping.\n",
      "WARNING: allele HLA-C*01:01 not in training alleles. Skipping.\n",
      "WARNING: allele HLA-B*44:01 not in training alleles. Skipping.\n",
      "WARNING: allele HLA-C*01:01 not in training alleles. Skipping.\n",
      "WARNING: allele HLA-B*44:01 not in training alleles. Skipping.\n",
      "WARNING: allele HLA-C*01:01 not in training alleles. Skipping.\n",
      "WARNING: allele HLA-B*44:01 not in training alleles. Skipping.\n",
      "WARNING: allele HLA-C*01:01 not in training alleles. Skipping.\n",
      "Allele HLA-A*24:01 not in Matrix ALL\n",
      "WARNING: allele HLA-B*44:01 not in training alleles. Skipping.\n",
      "WARNING: allele HLA-C*01:01 not in training alleles. Skipping.\n",
      "WARNING: allele HLA-B*44:01 not in training alleles. Skipping.\n",
      "WARNING: allele HLA-C*01:01 not in training alleles. Skipping.\n",
      "TITLE MLP, AUC 0.6192429568079454\n"
     ]
    },
    {
     "data": {
      "application/vnd.plotly.v1+json": {
       "config": {
        "plotlyServerURL": "https://plot.ly"
       },
       "data": [
        {
         "name": "CNN",
         "type": "bar",
         "x": [
          "HLA-C*07:01 D:2.5 N19",
          "HLA-B*15:17 D:1.9 N508",
          "HLA-A*23:01 D:1.2 N1709",
          "HLA-B*57:02 D:1.8 N18",
          "HLA-B*57:03 D:1.6 N34",
          "HLA-A*24:02 D:1.4 N2589",
          "HLA-A*80:01 D:1.4 N180",
          "HLA-A*24:03 D:1.6 N424",
          "HLA-B*57:01 D:1.7 N1022",
          "HLA-B*58:01 D:1.8 N1301",
          "HLA-C*07:02 D:2.6 N128",
          "HLA-B*58:02 D:1.9 N43",
          "HLA-A*01:01 D:2.0 N2414"
         ],
         "y": [
          0.6071428571428572,
          0.6942816442816443,
          0.6677980486863607,
          0.30357142857142855,
          0.7407407407407407,
          0.6517296209522829,
          0.6476388888888889,
          0.747274964838256,
          0.7093669968218704,
          0.7266128058353258,
          0.5626302083333333,
          0.5696969696969697,
          0.6829538073963274
         ]
        },
        {
         "name": "GNN",
         "type": "bar",
         "x": [
          "HLA-C*07:01 D:2.5 N19",
          "HLA-B*15:17 D:1.9 N508",
          "HLA-A*23:01 D:1.2 N1709",
          "HLA-B*57:02 D:1.8 N18",
          "HLA-B*57:03 D:1.6 N34",
          "HLA-A*24:02 D:1.4 N2589",
          "HLA-A*80:01 D:1.4 N180",
          "HLA-A*24:03 D:1.6 N424",
          "HLA-B*57:01 D:1.7 N1022",
          "HLA-B*58:01 D:1.8 N1301",
          "HLA-C*07:02 D:2.6 N128",
          "HLA-B*58:02 D:1.9 N43",
          "HLA-A*01:01 D:2.0 N2414"
         ],
         "y": [
          0.6666666666666667,
          0.6520608039175677,
          0.6771279931499002,
          0.5535714285714286,
          0.6666666666666666,
          0.6889951976111612,
          0.5938888888888889,
          0.7686693368936358,
          0.7558220710296523,
          0.7838719416467406,
          0.3158854166666667,
          0.7,
          0.6523451100870457
         ]
        },
        {
         "name": "EGNN",
         "type": "bar",
         "x": [
          "HLA-C*07:01 D:2.5 N19",
          "HLA-B*15:17 D:1.9 N508",
          "HLA-A*23:01 D:1.2 N1709",
          "HLA-B*57:02 D:1.8 N18",
          "HLA-B*57:03 D:1.6 N34",
          "HLA-A*24:02 D:1.4 N2589",
          "HLA-A*80:01 D:1.4 N180",
          "HLA-A*24:03 D:1.6 N424",
          "HLA-B*57:01 D:1.7 N1022",
          "HLA-B*58:01 D:1.8 N1301",
          "HLA-C*07:02 D:2.6 N128",
          "HLA-B*58:02 D:1.9 N43",
          "HLA-A*01:01 D:2.0 N2414"
         ],
         "y": [
          0.5357142857142857,
          0.6736670736670736,
          0.6807346973232753,
          0.30357142857142855,
          0.7566137566137566,
          0.6856188076999346,
          0.7094444444444444,
          0.7640646976090013,
          0.7652812490357617,
          0.7811100644880806,
          0.3666666666666667,
          0.5484848484848485,
          0.6957755515755082
         ]
        },
        {
         "name": "MHCflurry",
         "type": "bar",
         "x": [
          "HLA-C*07:01 D:2.5 N19",
          "HLA-B*15:17 D:1.9 N508",
          "HLA-A*23:01 D:1.2 N1709",
          "HLA-B*57:02 D:1.8 N18",
          "HLA-B*57:03 D:1.6 N34",
          "HLA-A*24:02 D:1.4 N2589",
          "HLA-A*80:01 D:1.4 N180",
          "HLA-A*24:03 D:1.6 N424",
          "HLA-B*57:01 D:1.7 N1022",
          "HLA-B*58:01 D:1.8 N1301",
          "HLA-C*07:02 D:2.6 N128",
          "HLA-B*58:02 D:1.9 N43",
          "HLA-A*01:01 D:2.0 N2414"
         ],
         "y": [
          0.6904761904761905,
          0.63005698005698,
          0.5249929147295236,
          0.5,
          0.6243386243386244,
          0.4832127617382874,
          0.5827777777777778,
          0.5983649789029535,
          0.6525425036255361,
          0.6933917832041158,
          0.2635416666666667,
          0.5636363636363636,
          0.6850128914168749
         ]
        },
        {
         "name": "MLP",
         "type": "bar",
         "x": [
          "HLA-C*07:01 D:2.5 N19",
          "HLA-B*15:17 D:1.9 N508",
          "HLA-A*23:01 D:1.2 N1709",
          "HLA-B*57:02 D:1.8 N18",
          "HLA-B*57:03 D:1.6 N34",
          "HLA-A*24:02 D:1.4 N2589",
          "HLA-A*80:01 D:1.4 N180",
          "HLA-A*24:03 D:1.6 N424",
          "HLA-B*57:01 D:1.7 N1022",
          "HLA-B*58:01 D:1.8 N1301",
          "HLA-C*07:02 D:2.6 N128",
          "HLA-B*58:02 D:1.9 N43",
          "HLA-A*01:01 D:2.0 N2414"
         ],
         "y": [
          0.38095238095238093,
          0.5288156288156288,
          0.7303677707628575,
          0.1607142857142857,
          0.6190476190476191,
          0.710291061054518,
          0.6065277777777778,
          0.762570323488045,
          0.5632656052331142,
          0.6100427505253243,
          0.40364583333333337,
          0.6212121212121212,
          0.512178944675156
         ]
        }
       ],
       "layout": {
        "template": {
         "data": {
          "bar": [
           {
            "error_x": {
             "color": "#2a3f5f"
            },
            "error_y": {
             "color": "#2a3f5f"
            },
            "marker": {
             "line": {
              "color": "#E5ECF6",
              "width": 0.5
             },
             "pattern": {
              "fillmode": "overlay",
              "size": 10,
              "solidity": 0.2
             }
            },
            "type": "bar"
           }
          ],
          "barpolar": [
           {
            "marker": {
             "line": {
              "color": "#E5ECF6",
              "width": 0.5
             },
             "pattern": {
              "fillmode": "overlay",
              "size": 10,
              "solidity": 0.2
             }
            },
            "type": "barpolar"
           }
          ],
          "carpet": [
           {
            "aaxis": {
             "endlinecolor": "#2a3f5f",
             "gridcolor": "white",
             "linecolor": "white",
             "minorgridcolor": "white",
             "startlinecolor": "#2a3f5f"
            },
            "baxis": {
             "endlinecolor": "#2a3f5f",
             "gridcolor": "white",
             "linecolor": "white",
             "minorgridcolor": "white",
             "startlinecolor": "#2a3f5f"
            },
            "type": "carpet"
           }
          ],
          "choropleth": [
           {
            "colorbar": {
             "outlinewidth": 0,
             "ticks": ""
            },
            "type": "choropleth"
           }
          ],
          "contour": [
           {
            "colorbar": {
             "outlinewidth": 0,
             "ticks": ""
            },
            "colorscale": [
             [
              0,
              "#0d0887"
             ],
             [
              0.1111111111111111,
              "#46039f"
             ],
             [
              0.2222222222222222,
              "#7201a8"
             ],
             [
              0.3333333333333333,
              "#9c179e"
             ],
             [
              0.4444444444444444,
              "#bd3786"
             ],
             [
              0.5555555555555556,
              "#d8576b"
             ],
             [
              0.6666666666666666,
              "#ed7953"
             ],
             [
              0.7777777777777778,
              "#fb9f3a"
             ],
             [
              0.8888888888888888,
              "#fdca26"
             ],
             [
              1,
              "#f0f921"
             ]
            ],
            "type": "contour"
           }
          ],
          "contourcarpet": [
           {
            "colorbar": {
             "outlinewidth": 0,
             "ticks": ""
            },
            "type": "contourcarpet"
           }
          ],
          "heatmap": [
           {
            "colorbar": {
             "outlinewidth": 0,
             "ticks": ""
            },
            "colorscale": [
             [
              0,
              "#0d0887"
             ],
             [
              0.1111111111111111,
              "#46039f"
             ],
             [
              0.2222222222222222,
              "#7201a8"
             ],
             [
              0.3333333333333333,
              "#9c179e"
             ],
             [
              0.4444444444444444,
              "#bd3786"
             ],
             [
              0.5555555555555556,
              "#d8576b"
             ],
             [
              0.6666666666666666,
              "#ed7953"
             ],
             [
              0.7777777777777778,
              "#fb9f3a"
             ],
             [
              0.8888888888888888,
              "#fdca26"
             ],
             [
              1,
              "#f0f921"
             ]
            ],
            "type": "heatmap"
           }
          ],
          "heatmapgl": [
           {
            "colorbar": {
             "outlinewidth": 0,
             "ticks": ""
            },
            "colorscale": [
             [
              0,
              "#0d0887"
             ],
             [
              0.1111111111111111,
              "#46039f"
             ],
             [
              0.2222222222222222,
              "#7201a8"
             ],
             [
              0.3333333333333333,
              "#9c179e"
             ],
             [
              0.4444444444444444,
              "#bd3786"
             ],
             [
              0.5555555555555556,
              "#d8576b"
             ],
             [
              0.6666666666666666,
              "#ed7953"
             ],
             [
              0.7777777777777778,
              "#fb9f3a"
             ],
             [
              0.8888888888888888,
              "#fdca26"
             ],
             [
              1,
              "#f0f921"
             ]
            ],
            "type": "heatmapgl"
           }
          ],
          "histogram": [
           {
            "marker": {
             "pattern": {
              "fillmode": "overlay",
              "size": 10,
              "solidity": 0.2
             }
            },
            "type": "histogram"
           }
          ],
          "histogram2d": [
           {
            "colorbar": {
             "outlinewidth": 0,
             "ticks": ""
            },
            "colorscale": [
             [
              0,
              "#0d0887"
             ],
             [
              0.1111111111111111,
              "#46039f"
             ],
             [
              0.2222222222222222,
              "#7201a8"
             ],
             [
              0.3333333333333333,
              "#9c179e"
             ],
             [
              0.4444444444444444,
              "#bd3786"
             ],
             [
              0.5555555555555556,
              "#d8576b"
             ],
             [
              0.6666666666666666,
              "#ed7953"
             ],
             [
              0.7777777777777778,
              "#fb9f3a"
             ],
             [
              0.8888888888888888,
              "#fdca26"
             ],
             [
              1,
              "#f0f921"
             ]
            ],
            "type": "histogram2d"
           }
          ],
          "histogram2dcontour": [
           {
            "colorbar": {
             "outlinewidth": 0,
             "ticks": ""
            },
            "colorscale": [
             [
              0,
              "#0d0887"
             ],
             [
              0.1111111111111111,
              "#46039f"
             ],
             [
              0.2222222222222222,
              "#7201a8"
             ],
             [
              0.3333333333333333,
              "#9c179e"
             ],
             [
              0.4444444444444444,
              "#bd3786"
             ],
             [
              0.5555555555555556,
              "#d8576b"
             ],
             [
              0.6666666666666666,
              "#ed7953"
             ],
             [
              0.7777777777777778,
              "#fb9f3a"
             ],
             [
              0.8888888888888888,
              "#fdca26"
             ],
             [
              1,
              "#f0f921"
             ]
            ],
            "type": "histogram2dcontour"
           }
          ],
          "mesh3d": [
           {
            "colorbar": {
             "outlinewidth": 0,
             "ticks": ""
            },
            "type": "mesh3d"
           }
          ],
          "parcoords": [
           {
            "line": {
             "colorbar": {
              "outlinewidth": 0,
              "ticks": ""
             }
            },
            "type": "parcoords"
           }
          ],
          "pie": [
           {
            "automargin": true,
            "type": "pie"
           }
          ],
          "scatter": [
           {
            "fillpattern": {
             "fillmode": "overlay",
             "size": 10,
             "solidity": 0.2
            },
            "type": "scatter"
           }
          ],
          "scatter3d": [
           {
            "line": {
             "colorbar": {
              "outlinewidth": 0,
              "ticks": ""
             }
            },
            "marker": {
             "colorbar": {
              "outlinewidth": 0,
              "ticks": ""
             }
            },
            "type": "scatter3d"
           }
          ],
          "scattercarpet": [
           {
            "marker": {
             "colorbar": {
              "outlinewidth": 0,
              "ticks": ""
             }
            },
            "type": "scattercarpet"
           }
          ],
          "scattergeo": [
           {
            "marker": {
             "colorbar": {
              "outlinewidth": 0,
              "ticks": ""
             }
            },
            "type": "scattergeo"
           }
          ],
          "scattergl": [
           {
            "marker": {
             "colorbar": {
              "outlinewidth": 0,
              "ticks": ""
             }
            },
            "type": "scattergl"
           }
          ],
          "scattermapbox": [
           {
            "marker": {
             "colorbar": {
              "outlinewidth": 0,
              "ticks": ""
             }
            },
            "type": "scattermapbox"
           }
          ],
          "scatterpolar": [
           {
            "marker": {
             "colorbar": {
              "outlinewidth": 0,
              "ticks": ""
             }
            },
            "type": "scatterpolar"
           }
          ],
          "scatterpolargl": [
           {
            "marker": {
             "colorbar": {
              "outlinewidth": 0,
              "ticks": ""
             }
            },
            "type": "scatterpolargl"
           }
          ],
          "scatterternary": [
           {
            "marker": {
             "colorbar": {
              "outlinewidth": 0,
              "ticks": ""
             }
            },
            "type": "scatterternary"
           }
          ],
          "surface": [
           {
            "colorbar": {
             "outlinewidth": 0,
             "ticks": ""
            },
            "colorscale": [
             [
              0,
              "#0d0887"
             ],
             [
              0.1111111111111111,
              "#46039f"
             ],
             [
              0.2222222222222222,
              "#7201a8"
             ],
             [
              0.3333333333333333,
              "#9c179e"
             ],
             [
              0.4444444444444444,
              "#bd3786"
             ],
             [
              0.5555555555555556,
              "#d8576b"
             ],
             [
              0.6666666666666666,
              "#ed7953"
             ],
             [
              0.7777777777777778,
              "#fb9f3a"
             ],
             [
              0.8888888888888888,
              "#fdca26"
             ],
             [
              1,
              "#f0f921"
             ]
            ],
            "type": "surface"
           }
          ],
          "table": [
           {
            "cells": {
             "fill": {
              "color": "#EBF0F8"
             },
             "line": {
              "color": "white"
             }
            },
            "header": {
             "fill": {
              "color": "#C8D4E3"
             },
             "line": {
              "color": "white"
             }
            },
            "type": "table"
           }
          ]
         },
         "layout": {
          "annotationdefaults": {
           "arrowcolor": "#2a3f5f",
           "arrowhead": 0,
           "arrowwidth": 1
          },
          "autotypenumbers": "strict",
          "coloraxis": {
           "colorbar": {
            "outlinewidth": 0,
            "ticks": ""
           }
          },
          "colorscale": {
           "diverging": [
            [
             0,
             "#8e0152"
            ],
            [
             0.1,
             "#c51b7d"
            ],
            [
             0.2,
             "#de77ae"
            ],
            [
             0.3,
             "#f1b6da"
            ],
            [
             0.4,
             "#fde0ef"
            ],
            [
             0.5,
             "#f7f7f7"
            ],
            [
             0.6,
             "#e6f5d0"
            ],
            [
             0.7,
             "#b8e186"
            ],
            [
             0.8,
             "#7fbc41"
            ],
            [
             0.9,
             "#4d9221"
            ],
            [
             1,
             "#276419"
            ]
           ],
           "sequential": [
            [
             0,
             "#0d0887"
            ],
            [
             0.1111111111111111,
             "#46039f"
            ],
            [
             0.2222222222222222,
             "#7201a8"
            ],
            [
             0.3333333333333333,
             "#9c179e"
            ],
            [
             0.4444444444444444,
             "#bd3786"
            ],
            [
             0.5555555555555556,
             "#d8576b"
            ],
            [
             0.6666666666666666,
             "#ed7953"
            ],
            [
             0.7777777777777778,
             "#fb9f3a"
            ],
            [
             0.8888888888888888,
             "#fdca26"
            ],
            [
             1,
             "#f0f921"
            ]
           ],
           "sequentialminus": [
            [
             0,
             "#0d0887"
            ],
            [
             0.1111111111111111,
             "#46039f"
            ],
            [
             0.2222222222222222,
             "#7201a8"
            ],
            [
             0.3333333333333333,
             "#9c179e"
            ],
            [
             0.4444444444444444,
             "#bd3786"
            ],
            [
             0.5555555555555556,
             "#d8576b"
            ],
            [
             0.6666666666666666,
             "#ed7953"
            ],
            [
             0.7777777777777778,
             "#fb9f3a"
            ],
            [
             0.8888888888888888,
             "#fdca26"
            ],
            [
             1,
             "#f0f921"
            ]
           ]
          },
          "colorway": [
           "#636efa",
           "#EF553B",
           "#00cc96",
           "#ab63fa",
           "#FFA15A",
           "#19d3f3",
           "#FF6692",
           "#B6E880",
           "#FF97FF",
           "#FECB52"
          ],
          "font": {
           "color": "#2a3f5f"
          },
          "geo": {
           "bgcolor": "white",
           "lakecolor": "white",
           "landcolor": "#E5ECF6",
           "showlakes": true,
           "showland": true,
           "subunitcolor": "white"
          },
          "hoverlabel": {
           "align": "left"
          },
          "hovermode": "closest",
          "mapbox": {
           "style": "light"
          },
          "paper_bgcolor": "white",
          "plot_bgcolor": "#E5ECF6",
          "polar": {
           "angularaxis": {
            "gridcolor": "white",
            "linecolor": "white",
            "ticks": ""
           },
           "bgcolor": "#E5ECF6",
           "radialaxis": {
            "gridcolor": "white",
            "linecolor": "white",
            "ticks": ""
           }
          },
          "scene": {
           "xaxis": {
            "backgroundcolor": "#E5ECF6",
            "gridcolor": "white",
            "gridwidth": 2,
            "linecolor": "white",
            "showbackground": true,
            "ticks": "",
            "zerolinecolor": "white"
           },
           "yaxis": {
            "backgroundcolor": "#E5ECF6",
            "gridcolor": "white",
            "gridwidth": 2,
            "linecolor": "white",
            "showbackground": true,
            "ticks": "",
            "zerolinecolor": "white"
           },
           "zaxis": {
            "backgroundcolor": "#E5ECF6",
            "gridcolor": "white",
            "gridwidth": 2,
            "linecolor": "white",
            "showbackground": true,
            "ticks": "",
            "zerolinecolor": "white"
           }
          },
          "shapedefaults": {
           "line": {
            "color": "#2a3f5f"
           }
          },
          "ternary": {
           "aaxis": {
            "gridcolor": "white",
            "linecolor": "white",
            "ticks": ""
           },
           "baxis": {
            "gridcolor": "white",
            "linecolor": "white",
            "ticks": ""
           },
           "bgcolor": "#E5ECF6",
           "caxis": {
            "gridcolor": "white",
            "linecolor": "white",
            "ticks": ""
           }
          },
          "title": {
           "x": 0.05
          },
          "xaxis": {
           "automargin": true,
           "gridcolor": "white",
           "linecolor": "white",
           "ticks": "",
           "title": {
            "standoff": 15
           },
           "zerolinecolor": "white",
           "zerolinewidth": 2
          },
          "yaxis": {
           "automargin": true,
           "gridcolor": "white",
           "linecolor": "white",
           "ticks": "",
           "title": {
            "standoff": 15
           },
           "zerolinecolor": "white",
           "zerolinewidth": 2
          }
         }
        },
        "title": {
         "text": "AUC per test allele"
        },
        "xaxis": {
         "title": {
          "text": "Sample Names and avg distance"
         }
        },
        "yaxis": {
         "title": {
          "text": "Values"
         }
        }
       }
      },
      "text/html": [
       "<div>                            <div id=\"029378ad-8461-48e8-9b27-8a302c5ed444\" class=\"plotly-graph-div\" style=\"height:525px; width:100%;\"></div>            <script type=\"text/javascript\">                require([\"plotly\"], function(Plotly) {                    window.PLOTLYENV=window.PLOTLYENV || {};                                    if (document.getElementById(\"029378ad-8461-48e8-9b27-8a302c5ed444\")) {                    Plotly.newPlot(                        \"029378ad-8461-48e8-9b27-8a302c5ed444\",                        [{\"name\":\"CNN\",\"x\":[\"HLA-C*07:01 D:2.5 N19\",\"HLA-B*15:17 D:1.9 N508\",\"HLA-A*23:01 D:1.2 N1709\",\"HLA-B*57:02 D:1.8 N18\",\"HLA-B*57:03 D:1.6 N34\",\"HLA-A*24:02 D:1.4 N2589\",\"HLA-A*80:01 D:1.4 N180\",\"HLA-A*24:03 D:1.6 N424\",\"HLA-B*57:01 D:1.7 N1022\",\"HLA-B*58:01 D:1.8 N1301\",\"HLA-C*07:02 D:2.6 N128\",\"HLA-B*58:02 D:1.9 N43\",\"HLA-A*01:01 D:2.0 N2414\"],\"y\":[0.6071428571428572,0.6942816442816443,0.6677980486863607,0.30357142857142855,0.7407407407407407,0.6517296209522829,0.6476388888888889,0.747274964838256,0.7093669968218704,0.7266128058353258,0.5626302083333333,0.5696969696969697,0.6829538073963274],\"type\":\"bar\"},{\"name\":\"GNN\",\"x\":[\"HLA-C*07:01 D:2.5 N19\",\"HLA-B*15:17 D:1.9 N508\",\"HLA-A*23:01 D:1.2 N1709\",\"HLA-B*57:02 D:1.8 N18\",\"HLA-B*57:03 D:1.6 N34\",\"HLA-A*24:02 D:1.4 N2589\",\"HLA-A*80:01 D:1.4 N180\",\"HLA-A*24:03 D:1.6 N424\",\"HLA-B*57:01 D:1.7 N1022\",\"HLA-B*58:01 D:1.8 N1301\",\"HLA-C*07:02 D:2.6 N128\",\"HLA-B*58:02 D:1.9 N43\",\"HLA-A*01:01 D:2.0 N2414\"],\"y\":[0.6666666666666667,0.6520608039175677,0.6771279931499002,0.5535714285714286,0.6666666666666666,0.6889951976111612,0.5938888888888889,0.7686693368936358,0.7558220710296523,0.7838719416467406,0.3158854166666667,0.7,0.6523451100870457],\"type\":\"bar\"},{\"name\":\"EGNN\",\"x\":[\"HLA-C*07:01 D:2.5 N19\",\"HLA-B*15:17 D:1.9 N508\",\"HLA-A*23:01 D:1.2 N1709\",\"HLA-B*57:02 D:1.8 N18\",\"HLA-B*57:03 D:1.6 N34\",\"HLA-A*24:02 D:1.4 N2589\",\"HLA-A*80:01 D:1.4 N180\",\"HLA-A*24:03 D:1.6 N424\",\"HLA-B*57:01 D:1.7 N1022\",\"HLA-B*58:01 D:1.8 N1301\",\"HLA-C*07:02 D:2.6 N128\",\"HLA-B*58:02 D:1.9 N43\",\"HLA-A*01:01 D:2.0 N2414\"],\"y\":[0.5357142857142857,0.6736670736670736,0.6807346973232753,0.30357142857142855,0.7566137566137566,0.6856188076999346,0.7094444444444444,0.7640646976090013,0.7652812490357617,0.7811100644880806,0.3666666666666667,0.5484848484848485,0.6957755515755082],\"type\":\"bar\"},{\"name\":\"MHCflurry\",\"x\":[\"HLA-C*07:01 D:2.5 N19\",\"HLA-B*15:17 D:1.9 N508\",\"HLA-A*23:01 D:1.2 N1709\",\"HLA-B*57:02 D:1.8 N18\",\"HLA-B*57:03 D:1.6 N34\",\"HLA-A*24:02 D:1.4 N2589\",\"HLA-A*80:01 D:1.4 N180\",\"HLA-A*24:03 D:1.6 N424\",\"HLA-B*57:01 D:1.7 N1022\",\"HLA-B*58:01 D:1.8 N1301\",\"HLA-C*07:02 D:2.6 N128\",\"HLA-B*58:02 D:1.9 N43\",\"HLA-A*01:01 D:2.0 N2414\"],\"y\":[0.6904761904761905,0.63005698005698,0.5249929147295236,0.5,0.6243386243386244,0.4832127617382874,0.5827777777777778,0.5983649789029535,0.6525425036255361,0.6933917832041158,0.2635416666666667,0.5636363636363636,0.6850128914168749],\"type\":\"bar\"},{\"name\":\"MLP\",\"x\":[\"HLA-C*07:01 D:2.5 N19\",\"HLA-B*15:17 D:1.9 N508\",\"HLA-A*23:01 D:1.2 N1709\",\"HLA-B*57:02 D:1.8 N18\",\"HLA-B*57:03 D:1.6 N34\",\"HLA-A*24:02 D:1.4 N2589\",\"HLA-A*80:01 D:1.4 N180\",\"HLA-A*24:03 D:1.6 N424\",\"HLA-B*57:01 D:1.7 N1022\",\"HLA-B*58:01 D:1.8 N1301\",\"HLA-C*07:02 D:2.6 N128\",\"HLA-B*58:02 D:1.9 N43\",\"HLA-A*01:01 D:2.0 N2414\"],\"y\":[0.38095238095238093,0.5288156288156288,0.7303677707628575,0.1607142857142857,0.6190476190476191,0.710291061054518,0.6065277777777778,0.762570323488045,0.5632656052331142,0.6100427505253243,0.40364583333333337,0.6212121212121212,0.512178944675156],\"type\":\"bar\"}],                        {\"template\":{\"data\":{\"histogram2dcontour\":[{\"type\":\"histogram2dcontour\",\"colorbar\":{\"outlinewidth\":0,\"ticks\":\"\"},\"colorscale\":[[0.0,\"#0d0887\"],[0.1111111111111111,\"#46039f\"],[0.2222222222222222,\"#7201a8\"],[0.3333333333333333,\"#9c179e\"],[0.4444444444444444,\"#bd3786\"],[0.5555555555555556,\"#d8576b\"],[0.6666666666666666,\"#ed7953\"],[0.7777777777777778,\"#fb9f3a\"],[0.8888888888888888,\"#fdca26\"],[1.0,\"#f0f921\"]]}],\"choropleth\":[{\"type\":\"choropleth\",\"colorbar\":{\"outlinewidth\":0,\"ticks\":\"\"}}],\"histogram2d\":[{\"type\":\"histogram2d\",\"colorbar\":{\"outlinewidth\":0,\"ticks\":\"\"},\"colorscale\":[[0.0,\"#0d0887\"],[0.1111111111111111,\"#46039f\"],[0.2222222222222222,\"#7201a8\"],[0.3333333333333333,\"#9c179e\"],[0.4444444444444444,\"#bd3786\"],[0.5555555555555556,\"#d8576b\"],[0.6666666666666666,\"#ed7953\"],[0.7777777777777778,\"#fb9f3a\"],[0.8888888888888888,\"#fdca26\"],[1.0,\"#f0f921\"]]}],\"heatmap\":[{\"type\":\"heatmap\",\"colorbar\":{\"outlinewidth\":0,\"ticks\":\"\"},\"colorscale\":[[0.0,\"#0d0887\"],[0.1111111111111111,\"#46039f\"],[0.2222222222222222,\"#7201a8\"],[0.3333333333333333,\"#9c179e\"],[0.4444444444444444,\"#bd3786\"],[0.5555555555555556,\"#d8576b\"],[0.6666666666666666,\"#ed7953\"],[0.7777777777777778,\"#fb9f3a\"],[0.8888888888888888,\"#fdca26\"],[1.0,\"#f0f921\"]]}],\"heatmapgl\":[{\"type\":\"heatmapgl\",\"colorbar\":{\"outlinewidth\":0,\"ticks\":\"\"},\"colorscale\":[[0.0,\"#0d0887\"],[0.1111111111111111,\"#46039f\"],[0.2222222222222222,\"#7201a8\"],[0.3333333333333333,\"#9c179e\"],[0.4444444444444444,\"#bd3786\"],[0.5555555555555556,\"#d8576b\"],[0.6666666666666666,\"#ed7953\"],[0.7777777777777778,\"#fb9f3a\"],[0.8888888888888888,\"#fdca26\"],[1.0,\"#f0f921\"]]}],\"contourcarpet\":[{\"type\":\"contourcarpet\",\"colorbar\":{\"outlinewidth\":0,\"ticks\":\"\"}}],\"contour\":[{\"type\":\"contour\",\"colorbar\":{\"outlinewidth\":0,\"ticks\":\"\"},\"colorscale\":[[0.0,\"#0d0887\"],[0.1111111111111111,\"#46039f\"],[0.2222222222222222,\"#7201a8\"],[0.3333333333333333,\"#9c179e\"],[0.4444444444444444,\"#bd3786\"],[0.5555555555555556,\"#d8576b\"],[0.6666666666666666,\"#ed7953\"],[0.7777777777777778,\"#fb9f3a\"],[0.8888888888888888,\"#fdca26\"],[1.0,\"#f0f921\"]]}],\"surface\":[{\"type\":\"surface\",\"colorbar\":{\"outlinewidth\":0,\"ticks\":\"\"},\"colorscale\":[[0.0,\"#0d0887\"],[0.1111111111111111,\"#46039f\"],[0.2222222222222222,\"#7201a8\"],[0.3333333333333333,\"#9c179e\"],[0.4444444444444444,\"#bd3786\"],[0.5555555555555556,\"#d8576b\"],[0.6666666666666666,\"#ed7953\"],[0.7777777777777778,\"#fb9f3a\"],[0.8888888888888888,\"#fdca26\"],[1.0,\"#f0f921\"]]}],\"mesh3d\":[{\"type\":\"mesh3d\",\"colorbar\":{\"outlinewidth\":0,\"ticks\":\"\"}}],\"scatter\":[{\"fillpattern\":{\"fillmode\":\"overlay\",\"size\":10,\"solidity\":0.2},\"type\":\"scatter\"}],\"parcoords\":[{\"type\":\"parcoords\",\"line\":{\"colorbar\":{\"outlinewidth\":0,\"ticks\":\"\"}}}],\"scatterpolargl\":[{\"type\":\"scatterpolargl\",\"marker\":{\"colorbar\":{\"outlinewidth\":0,\"ticks\":\"\"}}}],\"bar\":[{\"error_x\":{\"color\":\"#2a3f5f\"},\"error_y\":{\"color\":\"#2a3f5f\"},\"marker\":{\"line\":{\"color\":\"#E5ECF6\",\"width\":0.5},\"pattern\":{\"fillmode\":\"overlay\",\"size\":10,\"solidity\":0.2}},\"type\":\"bar\"}],\"scattergeo\":[{\"type\":\"scattergeo\",\"marker\":{\"colorbar\":{\"outlinewidth\":0,\"ticks\":\"\"}}}],\"scatterpolar\":[{\"type\":\"scatterpolar\",\"marker\":{\"colorbar\":{\"outlinewidth\":0,\"ticks\":\"\"}}}],\"histogram\":[{\"marker\":{\"pattern\":{\"fillmode\":\"overlay\",\"size\":10,\"solidity\":0.2}},\"type\":\"histogram\"}],\"scattergl\":[{\"type\":\"scattergl\",\"marker\":{\"colorbar\":{\"outlinewidth\":0,\"ticks\":\"\"}}}],\"scatter3d\":[{\"type\":\"scatter3d\",\"line\":{\"colorbar\":{\"outlinewidth\":0,\"ticks\":\"\"}},\"marker\":{\"colorbar\":{\"outlinewidth\":0,\"ticks\":\"\"}}}],\"scattermapbox\":[{\"type\":\"scattermapbox\",\"marker\":{\"colorbar\":{\"outlinewidth\":0,\"ticks\":\"\"}}}],\"scatterternary\":[{\"type\":\"scatterternary\",\"marker\":{\"colorbar\":{\"outlinewidth\":0,\"ticks\":\"\"}}}],\"scattercarpet\":[{\"type\":\"scattercarpet\",\"marker\":{\"colorbar\":{\"outlinewidth\":0,\"ticks\":\"\"}}}],\"carpet\":[{\"aaxis\":{\"endlinecolor\":\"#2a3f5f\",\"gridcolor\":\"white\",\"linecolor\":\"white\",\"minorgridcolor\":\"white\",\"startlinecolor\":\"#2a3f5f\"},\"baxis\":{\"endlinecolor\":\"#2a3f5f\",\"gridcolor\":\"white\",\"linecolor\":\"white\",\"minorgridcolor\":\"white\",\"startlinecolor\":\"#2a3f5f\"},\"type\":\"carpet\"}],\"table\":[{\"cells\":{\"fill\":{\"color\":\"#EBF0F8\"},\"line\":{\"color\":\"white\"}},\"header\":{\"fill\":{\"color\":\"#C8D4E3\"},\"line\":{\"color\":\"white\"}},\"type\":\"table\"}],\"barpolar\":[{\"marker\":{\"line\":{\"color\":\"#E5ECF6\",\"width\":0.5},\"pattern\":{\"fillmode\":\"overlay\",\"size\":10,\"solidity\":0.2}},\"type\":\"barpolar\"}],\"pie\":[{\"automargin\":true,\"type\":\"pie\"}]},\"layout\":{\"autotypenumbers\":\"strict\",\"colorway\":[\"#636efa\",\"#EF553B\",\"#00cc96\",\"#ab63fa\",\"#FFA15A\",\"#19d3f3\",\"#FF6692\",\"#B6E880\",\"#FF97FF\",\"#FECB52\"],\"font\":{\"color\":\"#2a3f5f\"},\"hovermode\":\"closest\",\"hoverlabel\":{\"align\":\"left\"},\"paper_bgcolor\":\"white\",\"plot_bgcolor\":\"#E5ECF6\",\"polar\":{\"bgcolor\":\"#E5ECF6\",\"angularaxis\":{\"gridcolor\":\"white\",\"linecolor\":\"white\",\"ticks\":\"\"},\"radialaxis\":{\"gridcolor\":\"white\",\"linecolor\":\"white\",\"ticks\":\"\"}},\"ternary\":{\"bgcolor\":\"#E5ECF6\",\"aaxis\":{\"gridcolor\":\"white\",\"linecolor\":\"white\",\"ticks\":\"\"},\"baxis\":{\"gridcolor\":\"white\",\"linecolor\":\"white\",\"ticks\":\"\"},\"caxis\":{\"gridcolor\":\"white\",\"linecolor\":\"white\",\"ticks\":\"\"}},\"coloraxis\":{\"colorbar\":{\"outlinewidth\":0,\"ticks\":\"\"}},\"colorscale\":{\"sequential\":[[0.0,\"#0d0887\"],[0.1111111111111111,\"#46039f\"],[0.2222222222222222,\"#7201a8\"],[0.3333333333333333,\"#9c179e\"],[0.4444444444444444,\"#bd3786\"],[0.5555555555555556,\"#d8576b\"],[0.6666666666666666,\"#ed7953\"],[0.7777777777777778,\"#fb9f3a\"],[0.8888888888888888,\"#fdca26\"],[1.0,\"#f0f921\"]],\"sequentialminus\":[[0.0,\"#0d0887\"],[0.1111111111111111,\"#46039f\"],[0.2222222222222222,\"#7201a8\"],[0.3333333333333333,\"#9c179e\"],[0.4444444444444444,\"#bd3786\"],[0.5555555555555556,\"#d8576b\"],[0.6666666666666666,\"#ed7953\"],[0.7777777777777778,\"#fb9f3a\"],[0.8888888888888888,\"#fdca26\"],[1.0,\"#f0f921\"]],\"diverging\":[[0,\"#8e0152\"],[0.1,\"#c51b7d\"],[0.2,\"#de77ae\"],[0.3,\"#f1b6da\"],[0.4,\"#fde0ef\"],[0.5,\"#f7f7f7\"],[0.6,\"#e6f5d0\"],[0.7,\"#b8e186\"],[0.8,\"#7fbc41\"],[0.9,\"#4d9221\"],[1,\"#276419\"]]},\"xaxis\":{\"gridcolor\":\"white\",\"linecolor\":\"white\",\"ticks\":\"\",\"title\":{\"standoff\":15},\"zerolinecolor\":\"white\",\"automargin\":true,\"zerolinewidth\":2},\"yaxis\":{\"gridcolor\":\"white\",\"linecolor\":\"white\",\"ticks\":\"\",\"title\":{\"standoff\":15},\"zerolinecolor\":\"white\",\"automargin\":true,\"zerolinewidth\":2},\"scene\":{\"xaxis\":{\"backgroundcolor\":\"#E5ECF6\",\"gridcolor\":\"white\",\"linecolor\":\"white\",\"showbackground\":true,\"ticks\":\"\",\"zerolinecolor\":\"white\",\"gridwidth\":2},\"yaxis\":{\"backgroundcolor\":\"#E5ECF6\",\"gridcolor\":\"white\",\"linecolor\":\"white\",\"showbackground\":true,\"ticks\":\"\",\"zerolinecolor\":\"white\",\"gridwidth\":2},\"zaxis\":{\"backgroundcolor\":\"#E5ECF6\",\"gridcolor\":\"white\",\"linecolor\":\"white\",\"showbackground\":true,\"ticks\":\"\",\"zerolinecolor\":\"white\",\"gridwidth\":2}},\"shapedefaults\":{\"line\":{\"color\":\"#2a3f5f\"}},\"annotationdefaults\":{\"arrowcolor\":\"#2a3f5f\",\"arrowhead\":0,\"arrowwidth\":1},\"geo\":{\"bgcolor\":\"white\",\"landcolor\":\"#E5ECF6\",\"subunitcolor\":\"white\",\"showland\":true,\"showlakes\":true,\"lakecolor\":\"white\"},\"title\":{\"x\":0.05},\"mapbox\":{\"style\":\"light\"}}},\"title\":{\"text\":\"AUC per test allele\"},\"xaxis\":{\"title\":{\"text\":\"Sample Names and avg distance\"}},\"yaxis\":{\"title\":{\"text\":\"Values\"}}},                        {\"responsive\": true}                    ).then(function(){\n",
       "                            \n",
       "var gd = document.getElementById('029378ad-8461-48e8-9b27-8a302c5ed444');\n",
       "var x = new MutationObserver(function (mutations, observer) {{\n",
       "        var display = window.getComputedStyle(gd).display;\n",
       "        if (!display || display === 'none') {{\n",
       "            console.log([gd, 'removed!']);\n",
       "            Plotly.purge(gd);\n",
       "            observer.disconnect();\n",
       "        }}\n",
       "}});\n",
       "\n",
       "// Listen for the removal of the full notebook cells\n",
       "var notebookContainer = gd.closest('#notebook-container');\n",
       "if (notebookContainer) {{\n",
       "    x.observe(notebookContainer, {childList: true});\n",
       "}}\n",
       "\n",
       "// Listen for the clearing of the current output cell\n",
       "var outputEl = gd.closest('.output');\n",
       "if (outputEl) {{\n",
       "    x.observe(outputEl, {childList: true});\n",
       "}}\n",
       "\n",
       "                        })                };                });            </script>        </div>"
      ]
     },
     "metadata": {},
     "output_type": "display_data"
    },
    {
     "data": {
      "image/png": "[encoded data removed]",
      "text/plain": [
       "<Figure size 2000x500 with 5 Axes>"
      ]
     },
     "metadata": {},
     "output_type": "display_data"
    },
    {
     "data": {
      "image/png": "[encoded data removed]",
      "text/plain": [
       "<Figure size 2000x500 with 5 Axes>"
      ]
     },
     "metadata": {},
     "output_type": "display_data"
    },
    {
     "name": "stdout",
     "output_type": "stream",
     "text": [
      "[('CNN', 0.6969536505877688), ('GNN', 0.7087085808696671), ('EGNN', 0.7268719479732882), ('MHCflurry', 0.65456587865395), ('MLP', 0.6192429568079454)]\n"
     ]
    },
    {
     "data": {
      "image/png": "[encoded data removed]",
      "text/plain": [
       "<Figure size 640x480 with 1 Axes>"
      ]
     },
     "metadata": {},
     "output_type": "display_data"
    }
   ],
   "source": [
    "def get_model_output(title, dfot):\n",
    "    ## Get output and distance per allele\n",
    "    allele_outputs = {}\n",
    "    \n",
    "    for allele in test_alleles:\n",
    "        gene = allele.split('*')[0].split('-')[1]\n",
    "        if allele in matrix['ALL'].keys():\n",
    "            #identify all the allele's IDs\n",
    "            IDs = dfi.loc[dfi['allele'] == allele, 'ID'].values\n",
    "            dfauc = pd.merge(dfi[dfi['ID'].isin(IDs)], dfot[dfot['ID'].isin(IDs)], on='ID')\n",
    "            if len(dfauc)>0:\n",
    "                allele_outputs[allele] = {}\n",
    "                auc = classMetrics.roc_auc(dfauc[label_per_model[title][0]], dfauc[label_per_model[title][1]])\n",
    "                allele_outputs[allele]['auc'] = auc\n",
    "                allele_outputs[allele]['distance']= get_avg_distance(allele, matrix['ALL'], test_alleles) #matrix[gene]\n",
    "        else:\n",
    "            print(f'Allele {allele} not in Matrix ALL')\n",
    "        \n",
    "    #total AUC\n",
    "    IDs = dfi['ID'].values\n",
    "    dfauc = pd.merge(dfi[dfi['ID'].isin(IDs)], dfot[dfot['ID'].isin(IDs)], on='ID')\n",
    "    allele_outputs['total_auc'] = classMetrics.roc_auc(dfauc[label_per_model[title][0]], dfauc[label_per_model[title][1]])\n",
    "    print(f'TITLE {title}, AUC {allele_outputs[\"total_auc\"]}')\n",
    "    \n",
    "    \n",
    "    return allele_outputs\n",
    "\n",
    "\n",
    "models_outputs = {}\n",
    "#%% CNN outputs\n",
    "title = 'CNN'\n",
    "dfot = pd.read_csv('/projects/0/einf2380/data/pop_paper_data/cnn_outputs/allele_cnn_outputs.csv')\n",
    "#dfot = dfo[dfo['PHASE'].str.contains('testing', case=False)]\n",
    "dfot['TARGET'] = dfot['TARGET'].astype(float)\n",
    "dfot['ID'] = dfot['KEY']\n",
    "\n",
    "models_outputs[title] = get_model_output(title, dfot)\n",
    "\n",
    "# GNN outputs\n",
    "title = 'GNN'\n",
    "dfot = pd.read_hdf('/projects/0/einf2380/data/pMHCI/trained_models/deeprank2/experiments/exp_100k_std_transf_bs64_naivegnn1_wloss_cl_allele_0_230607/output/output_exporter.hdf5'\n",
    "                  , key=\"testing\")\n",
    "dfot['entry']= [x.split(':')[2] for x in dfot['entry']]\n",
    "dfot['ID'] = dfot['entry']\n",
    "dfot['output']= [x[1] for x in dfot['output']]\n",
    "\n",
    "models_outputs[title] = get_model_output(title, dfot)\n",
    "\n",
    "#%% EGNN outputs\n",
    "def sigmoid(x):\n",
    "    return np.exp(-np.logaddexp(0, -x))\n",
    "title = 'EGNN'\n",
    "dfo = pd.read_csv('/projects/0/einf2380/data/pop_paper_data/egnn_outputs/egnn_supervised_allele.csv')\n",
    "dfot = dfo[dfo['PHASE'].str.contains('validation', case=False)]\n",
    "dfot['OUTPUT_1']=sigmoid(dfot['OUTPUT_0'])\n",
    "dfot['TARGET'] = dfot['TARGET'].astype(float)\n",
    "dfot['ID'] = dfot['KEY']\n",
    "\n",
    "models_outputs[title] = get_model_output(title, dfot)\n",
    "\n",
    "\n",
    "#%% MHCflurry outputs\n",
    "title='MHCflurry'\n",
    "dfo = pd.read_csv('/projects/0/einf2380/data/pop_paper_data/mhcflurry_outputs/allele_mhcflurry_outputs.csv',\n",
    "                header=None, names=['ID', 'BA', 'OUTPUT_1'])\n",
    "\n",
    "models_outputs[title] = get_model_output(title, dfo)\n",
    "\n",
    "#%% MLP \n",
    "title='MLP'\n",
    "dfo = pd.read_csv('/projects/0/einf2380/data/pop_paper_data/mlp_outputs/allele_mlp_outputs.csv',\n",
    "                header=None, names=['ID', 'BA', 'OUTPUT_1'])\n",
    "\n",
    "models_outputs[title] = get_model_output(title, dfo)\n",
    "\n",
    "# #%% SSL without TCRs outputs\n",
    "\n",
    "# title = 'SSL_woT'\n",
    "# dfo = pd.read_csv('/projects/0/einf2380/data/pop_paper_data/egnn_outputs/egnn_ssl_no_tcr_allele.csv')\n",
    "# dfot = dfo[dfo['PHASE'].str.contains('validation', case=False)]\n",
    "# dfot['OUTPUT_1']=sigmoid(dfot['OUTPUT_0'])\n",
    "# dfot['TARGET'] = dfot['TARGET'].astype(float)\n",
    "# dfot['ID'] = dfot['KEY']\n",
    "\n",
    "# models_outputs[title] = get_model_output(title, dfot)\n",
    "\n",
    "#%% SSL without TCRs outputs\n",
    "\n",
    "title = 'SSL_T'\n",
    "dfo = pd.read_csv('/projects/0/einf2380/data/pop_paper_data/egnn_outputs/egnn_ssl_allele.csv')\n",
    "dfot = dfo[dfo['PHASE'].str.contains('validation', case=False)]\n",
    "dfot['OUTPUT_1']=sigmoid(dfot['OUTPUT_0'])\n",
    "dfot['TARGET'] = dfot['TARGET'].astype(float)\n",
    "dfot['ID'] = dfot['KEY']\n",
    "\n",
    "models_outputs[title] = get_model_output(title, dfot)\n",
    "\n",
    "#%% Plot barplots\n",
    "\n",
    "#fig, axes = plt.subplots(1, 4, figsize=(20, 5), sharey=True)\n",
    "fig = go.Figure()\n",
    "\n",
    "correlations = {}\n",
    "\n",
    "# Iterate over the allele_outputs dictionary and titles list\n",
    "for i, title in enumerate(models_outputs.keys()):\n",
    "    allele_outputs = models_outputs[title]\n",
    "\n",
    "    # Extract sample names and values from the dictionary\n",
    "    labels = [f\"{x} D:{allele_outputs[x]['distance']:.1f} N{(dfi['allele'] == x).sum()}\" for x in allele_outputs if x != 'total_auc']\n",
    "    values = [allele_outputs[x]['auc'] for x in allele_outputs if x != 'total_auc']\n",
    "\n",
    "    # Create a Plotly bar plot\n",
    "    #fig = go.Figure(data=[go.Bar(x=labels, y=values)])\n",
    "    fig.add_trace(go.Bar(x=labels, y=values, name=title))\n",
    "\n",
    "    # Customize the layout if needed\n",
    "fig.update_layout(title='AUC per test allele', xaxis_title='Sample Names and avg distance', yaxis_title='Values')\n",
    "\n",
    "# Adjust layout and show the plot\n",
    "# plt.tight_layout()\n",
    "fig.show()\n",
    "\n",
    "#%% Plot regplot\n",
    "\n",
    "fig, axes = plt.subplots(1, len(models_outputs), figsize=(20, 5), sharey=True)\n",
    "correlations = {}\n",
    "\n",
    "# Iterate over the allele_outputs dictionary and titles list\n",
    "for i, title in enumerate(models_outputs.keys()):\n",
    "    allele_outputs = models_outputs[title]\n",
    "    x = [allele_outputs[x]['distance'] for x in allele_outputs if x != 'total_auc']\n",
    "    y = [allele_outputs[x]['auc'] for x in allele_outputs if x != 'total_auc']\n",
    "    \n",
    "    correlations[title] = np.corrcoef(x, y)[0][1]\n",
    "    \n",
    "    # Create scatter plot with regression line\n",
    "    sns.regplot(x=x, y=y, ci=99, n_boot=1000, ax=axes[i]) #lowess=True)\n",
    "    axes[i].axhline(0.5, linestyle='-.', color='red', label='Baseline')\n",
    "    axes[i].axhline(np.mean(y), linestyle='--', color='green', label='Average AUC')\n",
    "    axes[i].axhline(np.mean(allele_outputs['total_auc']), linestyle='--', color='cyan', label='Total AUC')\n",
    "    \n",
    "    # Customize individual subplot\n",
    "    axes[i].set_title(f'{title} Pearson:{correlations[title]:.2f}')\n",
    "    axes[i].set_xlabel('Evo distance from training')\n",
    "    axes[i].set_ylabel('AUC')\n",
    "    \n",
    "    if i == 0:\n",
    "        axes[i].legend(labels=['Sample', 'Regression', 'Confidence Interval', 'Random Predictor', 'Average (un-weighted) AUC', 'Total AUC'])\n",
    "\n",
    "# Set common y-label for all subplots\n",
    "axes[0].set_ylabel('AUC')\n",
    "axes[0].set_ylim(0,1.0)\n",
    "\n",
    "# Adjust layout and show the plot\n",
    "plt.tight_layout()\n",
    "plt.show()\n",
    "\n",
    "\n",
    "#%% Plot scatterplot\n",
    "\n",
    "fig, axes = plt.subplots(1, len(models_outputs), figsize=(20, 5), sharey=True)\n",
    "correlations = {}\n",
    "\n",
    "# Iterate over the allele_outputs dictionary and titles list\n",
    "for i, title in enumerate(models_outputs.keys()):\n",
    "    allele_outputs = models_outputs[title]\n",
    "    x = [allele_outputs[x]['distance'] for x in allele_outputs if x != 'total_auc']\n",
    "    y = [allele_outputs[x]['auc'] for x in allele_outputs if x != 'total_auc']\n",
    "    \n",
    "    correlations[title] = np.corrcoef(x, y)[0][1]\n",
    "    \n",
    "    # Create scatter plot with regression line\n",
    "    axes[i].plot(x, y, '.') #lowess=True)\n",
    "    axes[i].axhline(0.5, linestyle='-.', color='red', label='Baseline')\n",
    "    #axes[i].axhline(np.mean(y), linestyle='--', color='green', label='Average AUC')\n",
    "    #axes[i].axhline(np.mean(allele_outputs['total_auc']), linestyle='--', color='cyan', label='Total AUC')\n",
    "    \n",
    "    # Customize individual subplot\n",
    "    axes[i].set_title(f'{title} Pearson:{correlations[title]:.2f}')\n",
    "    axes[i].set_xlabel('Evo distance from training')\n",
    "    axes[i].set_ylabel('AUC')\n",
    "    \n",
    "    if i == 0:\n",
    "        axes[i].legend(labels=['Sample', 'Random Predictor'])\n",
    "\n",
    "# Set common y-label for all subplots\n",
    "axes[0].set_ylabel('AUC')\n",
    "axes[0].set_ylim(0,1.0)\n",
    "\n",
    "# Adjust layout and show the plot\n",
    "plt.tight_layout()\n",
    "plt.show()\n",
    "\n",
    "plt.clf()\n",
    "print([(x, models_outputs[x]['total_auc']) for x in models_outputs])\n",
    "plt.bar([x for x in models_outputs], [models_outputs[x]['total_auc'] for x in models_outputs])\n",
    "plt.show()\n",
    "\n",
    "# fig = go.Figure()\n",
    "# for x in models_outputs:\n",
    "#     fig.add_trace(go.Bar(x=models_outputs[x], y=models_outputs[x]['total_auc'], name=title))\n"
   ]
  },
  {
   "cell_type": "code",
   "execution_count": null,
   "metadata": {},
   "outputs": [
    {
     "data": {
      "application/vnd.plotly.v1+json": {
       "config": {
        "plotlyServerURL": "https://plot.ly"
       },
       "data": [
        {
         "type": "bar",
         "x": [
          "CNN",
          "EGNN",
          "SSL_woT",
          "SSL_T",
          "MHCflurry",
          "MLP"
         ],
         "y": [
          0.8531719489606915,
          0.7236095426312817,
          0.6160396668548842,
          0.6449904714850367,
          0.816768926972037,
          0.9079763619792431
         ]
        }
       ],
       "layout": {
        "template": {
         "data": {
          "bar": [
           {
            "error_x": {
             "color": "#2a3f5f"
            },
            "error_y": {
             "color": "#2a3f5f"
            },
            "marker": {
             "line": {
              "color": "#E5ECF6",
              "width": 0.5
             },
             "pattern": {
              "fillmode": "overlay",
              "size": 10,
              "solidity": 0.2
             }
            },
            "type": "bar"
           }
          ],
          "barpolar": [
           {
            "marker": {
             "line": {
              "color": "#E5ECF6",
              "width": 0.5
             },
             "pattern": {
              "fillmode": "overlay",
              "size": 10,
              "solidity": 0.2
             }
            },
            "type": "barpolar"
           }
          ],
          "carpet": [
           {
            "aaxis": {
             "endlinecolor": "#2a3f5f",
             "gridcolor": "white",
             "linecolor": "white",
             "minorgridcolor": "white",
             "startlinecolor": "#2a3f5f"
            },
            "baxis": {
             "endlinecolor": "#2a3f5f",
             "gridcolor": "white",
             "linecolor": "white",
             "minorgridcolor": "white",
             "startlinecolor": "#2a3f5f"
            },
            "type": "carpet"
           }
          ],
          "choropleth": [
           {
            "colorbar": {
             "outlinewidth": 0,
             "ticks": ""
            },
            "type": "choropleth"
           }
          ],
          "contour": [
           {
            "colorbar": {
             "outlinewidth": 0,
             "ticks": ""
            },
            "colorscale": [
             [
              0,
              "#0d0887"
             ],
             [
              0.1111111111111111,
              "#46039f"
             ],
             [
              0.2222222222222222,
              "#7201a8"
             ],
             [
              0.3333333333333333,
              "#9c179e"
             ],
             [
              0.4444444444444444,
              "#bd3786"
             ],
             [
              0.5555555555555556,
              "#d8576b"
             ],
             [
              0.6666666666666666,
              "#ed7953"
             ],
             [
              0.7777777777777778,
              "#fb9f3a"
             ],
             [
              0.8888888888888888,
              "#fdca26"
             ],
             [
              1,
              "#f0f921"
             ]
            ],
            "type": "contour"
           }
          ],
          "contourcarpet": [
           {
            "colorbar": {
             "outlinewidth": 0,
             "ticks": ""
            },
            "type": "contourcarpet"
           }
          ],
          "heatmap": [
           {
            "colorbar": {
             "outlinewidth": 0,
             "ticks": ""
            },
            "colorscale": [
             [
              0,
              "#0d0887"
             ],
             [
              0.1111111111111111,
              "#46039f"
             ],
             [
              0.2222222222222222,
              "#7201a8"
             ],
             [
              0.3333333333333333,
              "#9c179e"
             ],
             [
              0.4444444444444444,
              "#bd3786"
             ],
             [
              0.5555555555555556,
              "#d8576b"
             ],
             [
              0.6666666666666666,
              "#ed7953"
             ],
             [
              0.7777777777777778,
              "#fb9f3a"
             ],
             [
              0.8888888888888888,
              "#fdca26"
             ],
             [
              1,
              "#f0f921"
             ]
            ],
            "type": "heatmap"
           }
          ],
          "heatmapgl": [
           {
            "colorbar": {
             "outlinewidth": 0,
             "ticks": ""
            },
            "colorscale": [
             [
              0,
              "#0d0887"
             ],
             [
              0.1111111111111111,
              "#46039f"
             ],
             [
              0.2222222222222222,
              "#7201a8"
             ],
             [
              0.3333333333333333,
              "#9c179e"
             ],
             [
              0.4444444444444444,
              "#bd3786"
             ],
             [
              0.5555555555555556,
              "#d8576b"
             ],
             [
              0.6666666666666666,
              "#ed7953"
             ],
             [
              0.7777777777777778,
              "#fb9f3a"
             ],
             [
              0.8888888888888888,
              "#fdca26"
             ],
             [
              1,
              "#f0f921"
             ]
            ],
            "type": "heatmapgl"
           }
          ],
          "histogram": [
           {
            "marker": {
             "pattern": {
              "fillmode": "overlay",
              "size": 10,
              "solidity": 0.2
             }
            },
            "type": "histogram"
           }
          ],
          "histogram2d": [
           {
            "colorbar": {
             "outlinewidth": 0,
             "ticks": ""
            },
            "colorscale": [
             [
              0,
              "#0d0887"
             ],
             [
              0.1111111111111111,
              "#46039f"
             ],
             [
              0.2222222222222222,
              "#7201a8"
             ],
             [
              0.3333333333333333,
              "#9c179e"
             ],
             [
              0.4444444444444444,
              "#bd3786"
             ],
             [
              0.5555555555555556,
              "#d8576b"
             ],
             [
              0.6666666666666666,
              "#ed7953"
             ],
             [
              0.7777777777777778,
              "#fb9f3a"
             ],
             [
              0.8888888888888888,
              "#fdca26"
             ],
             [
              1,
              "#f0f921"
             ]
            ],
            "type": "histogram2d"
           }
          ],
          "histogram2dcontour": [
           {
            "colorbar": {
             "outlinewidth": 0,
             "ticks": ""
            },
            "colorscale": [
             [
              0,
              "#0d0887"
             ],
             [
              0.1111111111111111,
              "#46039f"
             ],
             [
              0.2222222222222222,
              "#7201a8"
             ],
             [
              0.3333333333333333,
              "#9c179e"
             ],
             [
              0.4444444444444444,
              "#bd3786"
             ],
             [
              0.5555555555555556,
              "#d8576b"
             ],
             [
              0.6666666666666666,
              "#ed7953"
             ],
             [
              0.7777777777777778,
              "#fb9f3a"
             ],
             [
              0.8888888888888888,
              "#fdca26"
             ],
             [
              1,
              "#f0f921"
             ]
            ],
            "type": "histogram2dcontour"
           }
          ],
          "mesh3d": [
           {
            "colorbar": {
             "outlinewidth": 0,
             "ticks": ""
            },
            "type": "mesh3d"
           }
          ],
          "parcoords": [
           {
            "line": {
             "colorbar": {
              "outlinewidth": 0,
              "ticks": ""
             }
            },
            "type": "parcoords"
           }
          ],
          "pie": [
           {
            "automargin": true,
            "type": "pie"
           }
          ],
          "scatter": [
           {
            "fillpattern": {
             "fillmode": "overlay",
             "size": 10,
             "solidity": 0.2
            },
            "type": "scatter"
           }
          ],
          "scatter3d": [
           {
            "line": {
             "colorbar": {
              "outlinewidth": 0,
              "ticks": ""
             }
            },
            "marker": {
             "colorbar": {
              "outlinewidth": 0,
              "ticks": ""
             }
            },
            "type": "scatter3d"
           }
          ],
          "scattercarpet": [
           {
            "marker": {
             "colorbar": {
              "outlinewidth": 0,
              "ticks": ""
             }
            },
            "type": "scattercarpet"
           }
          ],
          "scattergeo": [
           {
            "marker": {
             "colorbar": {
              "outlinewidth": 0,
              "ticks": ""
             }
            },
            "type": "scattergeo"
           }
          ],
          "scattergl": [
           {
            "marker": {
             "colorbar": {
              "outlinewidth": 0,
              "ticks": ""
             }
            },
            "type": "scattergl"
           }
          ],
          "scattermapbox": [
           {
            "marker": {
             "colorbar": {
              "outlinewidth": 0,
              "ticks": ""
             }
            },
            "type": "scattermapbox"
           }
          ],
          "scatterpolar": [
           {
            "marker": {
             "colorbar": {
              "outlinewidth": 0,
              "ticks": ""
             }
            },
            "type": "scatterpolar"
           }
          ],
          "scatterpolargl": [
           {
            "marker": {
             "colorbar": {
              "outlinewidth": 0,
              "ticks": ""
             }
            },
            "type": "scatterpolargl"
           }
          ],
          "scatterternary": [
           {
            "marker": {
             "colorbar": {
              "outlinewidth": 0,
              "ticks": ""
             }
            },
            "type": "scatterternary"
           }
          ],
          "surface": [
           {
            "colorbar": {
             "outlinewidth": 0,
             "ticks": ""
            },
            "colorscale": [
             [
              0,
              "#0d0887"
             ],
             [
              0.1111111111111111,
              "#46039f"
             ],
             [
              0.2222222222222222,
              "#7201a8"
             ],
             [
              0.3333333333333333,
              "#9c179e"
             ],
             [
              0.4444444444444444,
              "#bd3786"
             ],
             [
              0.5555555555555556,
              "#d8576b"
             ],
             [
              0.6666666666666666,
              "#ed7953"
             ],
             [
              0.7777777777777778,
              "#fb9f3a"
             ],
             [
              0.8888888888888888,
              "#fdca26"
             ],
             [
              1,
              "#f0f921"
             ]
            ],
            "type": "surface"
           }
          ],
          "table": [
           {
            "cells": {
             "fill": {
              "color": "#EBF0F8"
             },
             "line": {
              "color": "white"
             }
            },
            "header": {
             "fill": {
              "color": "#C8D4E3"
             },
             "line": {
              "color": "white"
             }
            },
            "type": "table"
           }
          ]
         },
         "layout": {
          "annotationdefaults": {
           "arrowcolor": "#2a3f5f",
           "arrowhead": 0,
           "arrowwidth": 1
          },
          "autotypenumbers": "strict",
          "coloraxis": {
           "colorbar": {
            "outlinewidth": 0,
            "ticks": ""
           }
          },
          "colorscale": {
           "diverging": [
            [
             0,
             "#8e0152"
            ],
            [
             0.1,
             "#c51b7d"
            ],
            [
             0.2,
             "#de77ae"
            ],
            [
             0.3,
             "#f1b6da"
            ],
            [
             0.4,
             "#fde0ef"
            ],
            [
             0.5,
             "#f7f7f7"
            ],
            [
             0.6,
             "#e6f5d0"
            ],
            [
             0.7,
             "#b8e186"
            ],
            [
             0.8,
             "#7fbc41"
            ],
            [
             0.9,
             "#4d9221"
            ],
            [
             1,
             "#276419"
            ]
           ],
           "sequential": [
            [
             0,
             "#0d0887"
            ],
            [
             0.1111111111111111,
             "#46039f"
            ],
            [
             0.2222222222222222,
             "#7201a8"
            ],
            [
             0.3333333333333333,
             "#9c179e"
            ],
            [
             0.4444444444444444,
             "#bd3786"
            ],
            [
             0.5555555555555556,
             "#d8576b"
            ],
            [
             0.6666666666666666,
             "#ed7953"
            ],
            [
             0.7777777777777778,
             "#fb9f3a"
            ],
            [
             0.8888888888888888,
             "#fdca26"
            ],
            [
             1,
             "#f0f921"
            ]
           ],
           "sequentialminus": [
            [
             0,
             "#0d0887"
            ],
            [
             0.1111111111111111,
             "#46039f"
            ],
            [
             0.2222222222222222,
             "#7201a8"
            ],
            [
             0.3333333333333333,
             "#9c179e"
            ],
            [
             0.4444444444444444,
             "#bd3786"
            ],
            [
             0.5555555555555556,
             "#d8576b"
            ],
            [
             0.6666666666666666,
             "#ed7953"
            ],
            [
             0.7777777777777778,
             "#fb9f3a"
            ],
            [
             0.8888888888888888,
             "#fdca26"
            ],
            [
             1,
             "#f0f921"
            ]
           ]
          },
          "colorway": [
           "#636efa",
           "#EF553B",
           "#00cc96",
           "#ab63fa",
           "#FFA15A",
           "#19d3f3",
           "#FF6692",
           "#B6E880",
           "#FF97FF",
           "#FECB52"
          ],
          "font": {
           "color": "#2a3f5f"
          },
          "geo": {
           "bgcolor": "white",
           "lakecolor": "white",
           "landcolor": "#E5ECF6",
           "showlakes": true,
           "showland": true,
           "subunitcolor": "white"
          },
          "hoverlabel": {
           "align": "left"
          },
          "hovermode": "closest",
          "mapbox": {
           "style": "light"
          },
          "paper_bgcolor": "white",
          "plot_bgcolor": "#E5ECF6",
          "polar": {
           "angularaxis": {
            "gridcolor": "white",
            "linecolor": "white",
            "ticks": ""
           },
           "bgcolor": "#E5ECF6",
           "radialaxis": {
            "gridcolor": "white",
            "linecolor": "white",
            "ticks": ""
           }
          },
          "scene": {
           "xaxis": {
            "backgroundcolor": "#E5ECF6",
            "gridcolor": "white",
            "gridwidth": 2,
            "linecolor": "white",
            "showbackground": true,
            "ticks": "",
            "zerolinecolor": "white"
           },
           "yaxis": {
            "backgroundcolor": "#E5ECF6",
            "gridcolor": "white",
            "gridwidth": 2,
            "linecolor": "white",
            "showbackground": true,
            "ticks": "",
            "zerolinecolor": "white"
           },
           "zaxis": {
            "backgroundcolor": "#E5ECF6",
            "gridcolor": "white",
            "gridwidth": 2,
            "linecolor": "white",
            "showbackground": true,
            "ticks": "",
            "zerolinecolor": "white"
           }
          },
          "shapedefaults": {
           "line": {
            "color": "#2a3f5f"
           }
          },
          "ternary": {
           "aaxis": {
            "gridcolor": "white",
            "linecolor": "white",
            "ticks": ""
           },
           "baxis": {
            "gridcolor": "white",
            "linecolor": "white",
            "ticks": ""
           },
           "bgcolor": "#E5ECF6",
           "caxis": {
            "gridcolor": "white",
            "linecolor": "white",
            "ticks": ""
           }
          },
          "title": {
           "x": 0.05
          },
          "xaxis": {
           "automargin": true,
           "gridcolor": "white",
           "linecolor": "white",
           "ticks": "",
           "title": {
            "standoff": 15
           },
           "zerolinecolor": "white",
           "zerolinewidth": 2
          },
          "yaxis": {
           "automargin": true,
           "gridcolor": "white",
           "linecolor": "white",
           "ticks": "",
           "title": {
            "standoff": 15
           },
           "zerolinecolor": "white",
           "zerolinewidth": 2
          }
         }
        }
       }
      },
      "text/html": [
       "<div>                            <div id=\"ad054273-8958-48c9-8586-7f627ebc6f61\" class=\"plotly-graph-div\" style=\"height:525px; width:100%;\"></div>            <script type=\"text/javascript\">                require([\"plotly\"], function(Plotly) {                    window.PLOTLYENV=window.PLOTLYENV || {};                                    if (document.getElementById(\"ad054273-8958-48c9-8586-7f627ebc6f61\")) {                    Plotly.newPlot(                        \"ad054273-8958-48c9-8586-7f627ebc6f61\",                        [{\"x\":[\"CNN\",\"EGNN\",\"SSL_woT\",\"SSL_T\",\"MHCflurry\",\"MLP\"],\"y\":[0.8531719489606915,0.7236095426312817,0.6160396668548842,0.6449904714850367,0.816768926972037,0.9079763619792431],\"type\":\"bar\"}],                        {\"template\":{\"data\":{\"histogram2dcontour\":[{\"type\":\"histogram2dcontour\",\"colorbar\":{\"outlinewidth\":0,\"ticks\":\"\"},\"colorscale\":[[0.0,\"#0d0887\"],[0.1111111111111111,\"#46039f\"],[0.2222222222222222,\"#7201a8\"],[0.3333333333333333,\"#9c179e\"],[0.4444444444444444,\"#bd3786\"],[0.5555555555555556,\"#d8576b\"],[0.6666666666666666,\"#ed7953\"],[0.7777777777777778,\"#fb9f3a\"],[0.8888888888888888,\"#fdca26\"],[1.0,\"#f0f921\"]]}],\"choropleth\":[{\"type\":\"choropleth\",\"colorbar\":{\"outlinewidth\":0,\"ticks\":\"\"}}],\"histogram2d\":[{\"type\":\"histogram2d\",\"colorbar\":{\"outlinewidth\":0,\"ticks\":\"\"},\"colorscale\":[[0.0,\"#0d0887\"],[0.1111111111111111,\"#46039f\"],[0.2222222222222222,\"#7201a8\"],[0.3333333333333333,\"#9c179e\"],[0.4444444444444444,\"#bd3786\"],[0.5555555555555556,\"#d8576b\"],[0.6666666666666666,\"#ed7953\"],[0.7777777777777778,\"#fb9f3a\"],[0.8888888888888888,\"#fdca26\"],[1.0,\"#f0f921\"]]}],\"heatmap\":[{\"type\":\"heatmap\",\"colorbar\":{\"outlinewidth\":0,\"ticks\":\"\"},\"colorscale\":[[0.0,\"#0d0887\"],[0.1111111111111111,\"#46039f\"],[0.2222222222222222,\"#7201a8\"],[0.3333333333333333,\"#9c179e\"],[0.4444444444444444,\"#bd3786\"],[0.5555555555555556,\"#d8576b\"],[0.6666666666666666,\"#ed7953\"],[0.7777777777777778,\"#fb9f3a\"],[0.8888888888888888,\"#fdca26\"],[1.0,\"#f0f921\"]]}],\"heatmapgl\":[{\"type\":\"heatmapgl\",\"colorbar\":{\"outlinewidth\":0,\"ticks\":\"\"},\"colorscale\":[[0.0,\"#0d0887\"],[0.1111111111111111,\"#46039f\"],[0.2222222222222222,\"#7201a8\"],[0.3333333333333333,\"#9c179e\"],[0.4444444444444444,\"#bd3786\"],[0.5555555555555556,\"#d8576b\"],[0.6666666666666666,\"#ed7953\"],[0.7777777777777778,\"#fb9f3a\"],[0.8888888888888888,\"#fdca26\"],[1.0,\"#f0f921\"]]}],\"contourcarpet\":[{\"type\":\"contourcarpet\",\"colorbar\":{\"outlinewidth\":0,\"ticks\":\"\"}}],\"contour\":[{\"type\":\"contour\",\"colorbar\":{\"outlinewidth\":0,\"ticks\":\"\"},\"colorscale\":[[0.0,\"#0d0887\"],[0.1111111111111111,\"#46039f\"],[0.2222222222222222,\"#7201a8\"],[0.3333333333333333,\"#9c179e\"],[0.4444444444444444,\"#bd3786\"],[0.5555555555555556,\"#d8576b\"],[0.6666666666666666,\"#ed7953\"],[0.7777777777777778,\"#fb9f3a\"],[0.8888888888888888,\"#fdca26\"],[1.0,\"#f0f921\"]]}],\"surface\":[{\"type\":\"surface\",\"colorbar\":{\"outlinewidth\":0,\"ticks\":\"\"},\"colorscale\":[[0.0,\"#0d0887\"],[0.1111111111111111,\"#46039f\"],[0.2222222222222222,\"#7201a8\"],[0.3333333333333333,\"#9c179e\"],[0.4444444444444444,\"#bd3786\"],[0.5555555555555556,\"#d8576b\"],[0.6666666666666666,\"#ed7953\"],[0.7777777777777778,\"#fb9f3a\"],[0.8888888888888888,\"#fdca26\"],[1.0,\"#f0f921\"]]}],\"mesh3d\":[{\"type\":\"mesh3d\",\"colorbar\":{\"outlinewidth\":0,\"ticks\":\"\"}}],\"scatter\":[{\"fillpattern\":{\"fillmode\":\"overlay\",\"size\":10,\"solidity\":0.2},\"type\":\"scatter\"}],\"parcoords\":[{\"type\":\"parcoords\",\"line\":{\"colorbar\":{\"outlinewidth\":0,\"ticks\":\"\"}}}],\"scatterpolargl\":[{\"type\":\"scatterpolargl\",\"marker\":{\"colorbar\":{\"outlinewidth\":0,\"ticks\":\"\"}}}],\"bar\":[{\"error_x\":{\"color\":\"#2a3f5f\"},\"error_y\":{\"color\":\"#2a3f5f\"},\"marker\":{\"line\":{\"color\":\"#E5ECF6\",\"width\":0.5},\"pattern\":{\"fillmode\":\"overlay\",\"size\":10,\"solidity\":0.2}},\"type\":\"bar\"}],\"scattergeo\":[{\"type\":\"scattergeo\",\"marker\":{\"colorbar\":{\"outlinewidth\":0,\"ticks\":\"\"}}}],\"scatterpolar\":[{\"type\":\"scatterpolar\",\"marker\":{\"colorbar\":{\"outlinewidth\":0,\"ticks\":\"\"}}}],\"histogram\":[{\"marker\":{\"pattern\":{\"fillmode\":\"overlay\",\"size\":10,\"solidity\":0.2}},\"type\":\"histogram\"}],\"scattergl\":[{\"type\":\"scattergl\",\"marker\":{\"colorbar\":{\"outlinewidth\":0,\"ticks\":\"\"}}}],\"scatter3d\":[{\"type\":\"scatter3d\",\"line\":{\"colorbar\":{\"outlinewidth\":0,\"ticks\":\"\"}},\"marker\":{\"colorbar\":{\"outlinewidth\":0,\"ticks\":\"\"}}}],\"scattermapbox\":[{\"type\":\"scattermapbox\",\"marker\":{\"colorbar\":{\"outlinewidth\":0,\"ticks\":\"\"}}}],\"scatterternary\":[{\"type\":\"scatterternary\",\"marker\":{\"colorbar\":{\"outlinewidth\":0,\"ticks\":\"\"}}}],\"scattercarpet\":[{\"type\":\"scattercarpet\",\"marker\":{\"colorbar\":{\"outlinewidth\":0,\"ticks\":\"\"}}}],\"carpet\":[{\"aaxis\":{\"endlinecolor\":\"#2a3f5f\",\"gridcolor\":\"white\",\"linecolor\":\"white\",\"minorgridcolor\":\"white\",\"startlinecolor\":\"#2a3f5f\"},\"baxis\":{\"endlinecolor\":\"#2a3f5f\",\"gridcolor\":\"white\",\"linecolor\":\"white\",\"minorgridcolor\":\"white\",\"startlinecolor\":\"#2a3f5f\"},\"type\":\"carpet\"}],\"table\":[{\"cells\":{\"fill\":{\"color\":\"#EBF0F8\"},\"line\":{\"color\":\"white\"}},\"header\":{\"fill\":{\"color\":\"#C8D4E3\"},\"line\":{\"color\":\"white\"}},\"type\":\"table\"}],\"barpolar\":[{\"marker\":{\"line\":{\"color\":\"#E5ECF6\",\"width\":0.5},\"pattern\":{\"fillmode\":\"overlay\",\"size\":10,\"solidity\":0.2}},\"type\":\"barpolar\"}],\"pie\":[{\"automargin\":true,\"type\":\"pie\"}]},\"layout\":{\"autotypenumbers\":\"strict\",\"colorway\":[\"#636efa\",\"#EF553B\",\"#00cc96\",\"#ab63fa\",\"#FFA15A\",\"#19d3f3\",\"#FF6692\",\"#B6E880\",\"#FF97FF\",\"#FECB52\"],\"font\":{\"color\":\"#2a3f5f\"},\"hovermode\":\"closest\",\"hoverlabel\":{\"align\":\"left\"},\"paper_bgcolor\":\"white\",\"plot_bgcolor\":\"#E5ECF6\",\"polar\":{\"bgcolor\":\"#E5ECF6\",\"angularaxis\":{\"gridcolor\":\"white\",\"linecolor\":\"white\",\"ticks\":\"\"},\"radialaxis\":{\"gridcolor\":\"white\",\"linecolor\":\"white\",\"ticks\":\"\"}},\"ternary\":{\"bgcolor\":\"#E5ECF6\",\"aaxis\":{\"gridcolor\":\"white\",\"linecolor\":\"white\",\"ticks\":\"\"},\"baxis\":{\"gridcolor\":\"white\",\"linecolor\":\"white\",\"ticks\":\"\"},\"caxis\":{\"gridcolor\":\"white\",\"linecolor\":\"white\",\"ticks\":\"\"}},\"coloraxis\":{\"colorbar\":{\"outlinewidth\":0,\"ticks\":\"\"}},\"colorscale\":{\"sequential\":[[0.0,\"#0d0887\"],[0.1111111111111111,\"#46039f\"],[0.2222222222222222,\"#7201a8\"],[0.3333333333333333,\"#9c179e\"],[0.4444444444444444,\"#bd3786\"],[0.5555555555555556,\"#d8576b\"],[0.6666666666666666,\"#ed7953\"],[0.7777777777777778,\"#fb9f3a\"],[0.8888888888888888,\"#fdca26\"],[1.0,\"#f0f921\"]],\"sequentialminus\":[[0.0,\"#0d0887\"],[0.1111111111111111,\"#46039f\"],[0.2222222222222222,\"#7201a8\"],[0.3333333333333333,\"#9c179e\"],[0.4444444444444444,\"#bd3786\"],[0.5555555555555556,\"#d8576b\"],[0.6666666666666666,\"#ed7953\"],[0.7777777777777778,\"#fb9f3a\"],[0.8888888888888888,\"#fdca26\"],[1.0,\"#f0f921\"]],\"diverging\":[[0,\"#8e0152\"],[0.1,\"#c51b7d\"],[0.2,\"#de77ae\"],[0.3,\"#f1b6da\"],[0.4,\"#fde0ef\"],[0.5,\"#f7f7f7\"],[0.6,\"#e6f5d0\"],[0.7,\"#b8e186\"],[0.8,\"#7fbc41\"],[0.9,\"#4d9221\"],[1,\"#276419\"]]},\"xaxis\":{\"gridcolor\":\"white\",\"linecolor\":\"white\",\"ticks\":\"\",\"title\":{\"standoff\":15},\"zerolinecolor\":\"white\",\"automargin\":true,\"zerolinewidth\":2},\"yaxis\":{\"gridcolor\":\"white\",\"linecolor\":\"white\",\"ticks\":\"\",\"title\":{\"standoff\":15},\"zerolinecolor\":\"white\",\"automargin\":true,\"zerolinewidth\":2},\"scene\":{\"xaxis\":{\"backgroundcolor\":\"#E5ECF6\",\"gridcolor\":\"white\",\"linecolor\":\"white\",\"showbackground\":true,\"ticks\":\"\",\"zerolinecolor\":\"white\",\"gridwidth\":2},\"yaxis\":{\"backgroundcolor\":\"#E5ECF6\",\"gridcolor\":\"white\",\"linecolor\":\"white\",\"showbackground\":true,\"ticks\":\"\",\"zerolinecolor\":\"white\",\"gridwidth\":2},\"zaxis\":{\"backgroundcolor\":\"#E5ECF6\",\"gridcolor\":\"white\",\"linecolor\":\"white\",\"showbackground\":true,\"ticks\":\"\",\"zerolinecolor\":\"white\",\"gridwidth\":2}},\"shapedefaults\":{\"line\":{\"color\":\"#2a3f5f\"}},\"annotationdefaults\":{\"arrowcolor\":\"#2a3f5f\",\"arrowhead\":0,\"arrowwidth\":1},\"geo\":{\"bgcolor\":\"white\",\"landcolor\":\"#E5ECF6\",\"subunitcolor\":\"white\",\"showland\":true,\"showlakes\":true,\"lakecolor\":\"white\"},\"title\":{\"x\":0.05},\"mapbox\":{\"style\":\"light\"}}}},                        {\"responsive\": true}                    ).then(function(){\n",
       "                            \n",
       "var gd = document.getElementById('ad054273-8958-48c9-8586-7f627ebc6f61');\n",
       "var x = new MutationObserver(function (mutations, observer) {{\n",
       "        var display = window.getComputedStyle(gd).display;\n",
       "        if (!display || display === 'none') {{\n",
       "            console.log([gd, 'removed!']);\n",
       "            Plotly.purge(gd);\n",
       "            observer.disconnect();\n",
       "        }}\n",
       "}});\n",
       "\n",
       "// Listen for the removal of the full notebook cells\n",
       "var notebookContainer = gd.closest('#notebook-container');\n",
       "if (notebookContainer) {{\n",
       "    x.observe(notebookContainer, {childList: true});\n",
       "}}\n",
       "\n",
       "// Listen for the clearing of the current output cell\n",
       "var outputEl = gd.closest('.output');\n",
       "if (outputEl) {{\n",
       "    x.observe(outputEl, {childList: true});\n",
       "}}\n",
       "\n",
       "                        })                };                });            </script>        </div>"
      ]
     },
     "metadata": {},
     "output_type": "display_data"
    }
   ],
   "source": [
    "#%% Shuffled performances\n",
    "def get_shuff_auc(title, dfot):\n",
    "    IDs = dfi['ID'].values\n",
    "    dfauc = pd.merge(dfi[dfi['ID'].isin(IDs)], dfot[dfot['ID'].isin(IDs)], on='ID')\n",
    "    return classMetrics.roc_auc(dfauc[label_per_model[title][0]], dfauc[label_per_model[title][1]])\n",
    "\n",
    "dfi = pd.read_csv('/projects/0/einf2380/data/external/processed/I/experiments/BA_pMHCI_human_quantitative_only_eq_pseudoseq_clustered_test.csv')\n",
    "dfi['label'] = np.where(dfi['measurement_value'] < 500, 1.0, 0.0)\n",
    "\n",
    "#models_outputs = {}\n",
    "AUCs = {}\n",
    "\n",
    "title = 'CNN'\n",
    "dfot = pd.read_csv('/projects/0/einf2380/data/pop_paper_data/cnn_outputs/shuffled_cnn_outputs.csv')\n",
    "#dfot = dfo[dfo['PHASE'].str.contains('testing', case=False)]\n",
    "dfot['TARGET'] = dfot['TARGET'].astype(float)\n",
    "dfot['ID'] = dfot['KEY']\n",
    "\n",
    "AUCs[title] = get_shuff_auc(title, dfot)\n",
    "\n",
    "# GNN outputs\n",
    "title = 'GNN'\n",
    "dfot = pd.read_hdf('/projects/0/einf2380/data/pMHCI/trained_models/deeprank2/experiments/exp_100k_std_transf_bs64_naivegnn1_wloss_0_230607/output/output_exporter.hdf5'\n",
    "                  , key=\"testing\")\n",
    "dfot['entry']= [x.split(':')[2] for x in dfot['entry']]\n",
    "dfot['ID'] = dfot['entry']\n",
    "dfot['output']= [x[1] for x in dfot['output']]\n",
    "\n",
    "AUCs[title] = get_shuff_auc(title, dfot)\n",
    "\n",
    "#%% EGNN outputs\n",
    "def sigmoid(x):\n",
    "    return np.exp(-np.logaddexp(0, -x))\n",
    "title = 'EGNN'\n",
    "dfo = pd.read_csv('/projects/0/einf2380/data/pop_paper_data/egnn_outputs/egnn_supervised_shuffle.csv')\n",
    "dfot = dfo[dfo['PHASE'].str.contains('validation', case=False)]\n",
    "dfot['OUTPUT_1']=sigmoid(dfot['OUTPUT_0'])\n",
    "dfot['TARGET'] = dfot['TARGET'].astype(float)\n",
    "dfot['ID'] = dfot['KEY']\n",
    "\n",
    "AUCs[title] = get_shuff_auc(title, dfot)\n",
    "\n",
    "#%% SSL without TCRs outputs\n",
    "\n",
    "title = 'SSL_woT'\n",
    "dfo = pd.read_csv('/projects/0/einf2380/data/pop_paper_data/egnn_outputs/egnn_ssl_no_tcr_shuffle.csv')\n",
    "dfot = dfo[dfo['PHASE'].str.contains('validation', case=False)]\n",
    "dfot['OUTPUT_1']=sigmoid(dfot['OUTPUT_0'])\n",
    "dfot['TARGET'] = dfot['TARGET'].astype(float)\n",
    "dfot['ID'] = dfot['KEY']\n",
    "\n",
    "AUCs[title] = get_shuff_auc(title, dfot)\n",
    "\n",
    "#%% SSL without TCRs outputs\n",
    "\n",
    "title = 'SSL_T'\n",
    "dfo = pd.read_csv('/projects/0/einf2380/data/pop_paper_data/egnn_outputs/egnn_ssl_shuffle.csv')\n",
    "dfot = dfo[dfo['PHASE'].str.contains('validation', case=False)]\n",
    "dfot['OUTPUT_1']=sigmoid(dfot['OUTPUT_0'])\n",
    "dfot['TARGET'] = dfot['TARGET'].astype(float)\n",
    "dfot['ID'] = dfot['KEY']\n",
    "\n",
    "AUCs[title] = get_shuff_auc(title, dfot\n",
    "\n",
    "\n",
    "#%% MHCflurry outputs\n",
    "title='MHCflurry'\n",
    "dfo = pd.read_csv('/projects/0/einf2380/data/pop_paper_data/mhcflurry_outputs/shuffled_mhcflurry_outputs.csv',\n",
    "                header=None, names=['ID', 'BA', 'OUTPUT_1'])\n",
    "\n",
    "AUCs[title] = get_shuff_auc(title, dfo)\n",
    "\n",
    "#%% MLP \n",
    "title='MLP'\n",
    "dfo = pd.read_csv('/projects/0/einf2380/data/pop_paper_data/mlp_outputs/shuffled_mlp_outputs.csv',\n",
    "                header=None, names=['ID', 'BA', 'OUTPUT_1'])\n",
    "\n",
    "AUCs[title] = get_shuff_auc(title, dfo)\n",
    "\n",
    "#plt.bar(AUCs.keys(), AUCs.values())\n",
    "fig = go.Figure()\n",
    "fig.add_trace(go.Bar(x=list(AUCs.keys()), y=list(AUCs.values())))"
   ]
  },
  {
   "cell_type": "code",
   "execution_count": null,
   "metadata": {},
   "outputs": [],
   "source": []
  }
 ],
 "metadata": {
  "kernelspec": {
   "display_name": "deeprank",
   "language": "python",
   "name": "python3"
  },
  "language_info": {
   "codemirror_mode": {
    "name": "ipython",
    "version": 3
   },
   "file_extension": ".py",
   "mimetype": "text/x-python",
   "name": "python",
   "nbconvert_exporter": "python",
   "pygments_lexer": "ipython3",
   "version": "3.11.5"
  },
  "orig_nbformat": 4
 },
 "nbformat": 4,
 "nbformat_minor": 2
}
