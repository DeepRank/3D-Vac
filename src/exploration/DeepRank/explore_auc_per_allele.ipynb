{
 "cells": [
  {
   "cell_type": "markdown",
   "metadata": {},
   "source": [
    "### Import modules, define functions, define general input files and variables"
   ]
  },
  {
   "cell_type": "code",
   "execution_count": 12,
   "metadata": {},
   "outputs": [],
   "source": [
    "import sys\n",
    "sys.path.append('../')\n",
    "import deeprank_plots as dp\n",
    "import os\n",
    "import h5py\n",
    "import numpy as np\n",
    "from numpy.polynomial.polynomial import polyfit\n",
    "import plotly.graph_objects as go\n",
    "from matplotlib import pyplot as plt\n",
    "import pandas as pd\n",
    "import seaborn as sns\n",
    "\n",
    "import sys\n",
    "sys.path.append('/home/dmarz/3D-Vac/src/5_train_models')\n",
    "from DeepRank import classMetrics\n",
    "from sklearn.metrics import average_precision_score as auprc\n",
    "\n",
    "import pickle\n",
    "\n",
    "def get_dist_matrix(pklname='/projects/0/einf2380/data/pop_paper_data/allele_clustering/HLA_all.pkl'):\n",
    "    with open(pklname, 'rb') as inpkl:\n",
    "        name = pickle.load(inpkl)\n",
    "        seq = pickle.load(inpkl)\n",
    "        score = pickle.load(inpkl)\n",
    "        dist = pickle.load(inpkl)\n",
    "\n",
    "    matrix = {}\n",
    "    for i, x in enumerate(name):\n",
    "        matrix[x] = { y:dist[i+j]  for j, y in enumerate(name[i+1:])}\n",
    "    \n",
    "    return matrix\n",
    "\n",
    "def get_avg_distance(allele, matrix, test_alleles):\n",
    "    distances = []\n",
    "    other_alleles = [name for name in matrix.keys() if (name not in test_alleles) and (name != allele)]\n",
    "    for name in other_alleles:\n",
    "        if name not in training_allele_freq.keys():\n",
    "            #print(f'WARNING: allele {allele} not in training alleles frequency')\n",
    "            if name in test_alleles:\n",
    "                print(f'Health check: {allele} in test alleles')\n",
    "                continue\n",
    "            else:\n",
    "                print(f'WARNING: allele {name} not in training alleles. Skipping.')\n",
    "                continue\n",
    "        \n",
    "        try:\n",
    "            distances.append(matrix[allele][name] * training_allele_freq[name]) \n",
    "        except KeyError:\n",
    "            try:\n",
    "                distances.append(matrix[name][allele] * training_allele_freq[name])\n",
    "            except KeyError:\n",
    "                raise KeyError('The provided allele does not seem to belong to this matrix')\n",
    "\n",
    "    avg_distance = sum(distances)/len(distances)\n",
    "    return avg_distance\n",
    "\n",
    "matrix = {}\n",
    "matrix['A'] = get_dist_matrix(pklname='/projects/0/einf2380/data/pop_paper_data/allele_clustering/HLAA.pkl')\n",
    "matrix['B'] = get_dist_matrix(pklname='/projects/0/einf2380/data/pop_paper_data/allele_clustering/HLAB.pkl')\n",
    "matrix['C'] = get_dist_matrix(pklname='/projects/0/einf2380/data/pop_paper_data/allele_clustering/HLAC.pkl')\n",
    "matrix['ALL'] = get_dist_matrix(pklname='/projects/0/einf2380/data/pop_paper_data/allele_clustering/HLA_all.pkl')\n",
    "\n",
    "\n",
    "clust_dfi = pd.read_csv('/projects/0/einf2380/data/external/processed/I/experiments/BA_pMHCI_human_quantitative_only_eq_pseudoseq_clustered_test.csv')\n",
    "clust_dfi['label'] = np.where(clust_dfi['measurement_value'] < 500, 1.0, 0.0)\n",
    "\n",
    "tdf=pd.read_csv(\n",
    "    '/projects/0/einf2380/data/external/processed/I/experiments/BA_pMHCI_human_quantitative_only_eq_pseudoseq_clustered_train_validation.csv')\n",
    "training_allele_freq = {}\n",
    "for allele in list(set(tdf['allele'])):\n",
    "    training_allele_freq[allele] = (tdf['allele'] == allele).sum()/len(tdf)\n",
    "\n",
    "test_alleles = list(set(clust_dfi['allele']))\n",
    "\n",
    "correlations = {}\n",
    "\n",
    "label_per_model = {'CNN': ('OUTPUT_1', 'TARGET'),\n",
    "                    'GNN': ('output', 'label'),\n",
    "                'EGNN': ('OUTPUT_1', 'TARGET'),\n",
    "                'SSL_woT': ('OUTPUT_1', 'TARGET'),\n",
    "                'SSL_T': ('OUTPUT_1', 'TARGET'),\n",
    "                'MLP': ('OUTPUT_1', 'label'),\n",
    "                'MHCflurry': ('OUTPUT_1', 'label'),\n",
    "                'MHCflurry_confirm': ('OUTPUT_1', 'label'),\n",
    "                }"
   ]
  },
  {
   "cell_type": "markdown",
   "metadata": {},
   "source": [
    "### Get the models output for every model and plot AUC vs evolutionary distance from the training set per allele"
   ]
  },
  {
   "cell_type": "code",
   "execution_count": 14,
   "metadata": {},
   "outputs": [
    {
     "name": "stdout",
     "output_type": "stream",
     "text": [
      "WARNING: allele HLA-B*44:01 not in training alleles. Skipping.\n",
      "WARNING: allele HLA-C*01:01 not in training alleles. Skipping.\n",
      "Allele HLA-A*24:01 not in Matrix ALL\n",
      "WARNING: allele HLA-B*44:01 not in training alleles. Skipping.\n",
      "WARNING: allele HLA-C*01:01 not in training alleles. Skipping.\n",
      "WARNING: allele HLA-B*44:01 not in training alleles. Skipping.\n",
      "WARNING: allele HLA-C*01:01 not in training alleles. Skipping.\n",
      "WARNING: allele HLA-B*44:01 not in training alleles. Skipping.\n",
      "WARNING: allele HLA-C*01:01 not in training alleles. Skipping.\n",
      "WARNING: allele HLA-B*44:01 not in training alleles. Skipping.\n",
      "WARNING: allele HLA-C*01:01 not in training alleles. Skipping.\n",
      "WARNING: allele HLA-B*44:01 not in training alleles. Skipping.\n",
      "WARNING: allele HLA-C*01:01 not in training alleles. Skipping.\n",
      "WARNING: allele HLA-B*44:01 not in training alleles. Skipping.\n",
      "WARNING: allele HLA-C*01:01 not in training alleles. Skipping.\n",
      "WARNING: allele HLA-B*44:01 not in training alleles. Skipping.\n",
      "WARNING: allele HLA-C*01:01 not in training alleles. Skipping.\n",
      "WARNING: allele HLA-B*44:01 not in training alleles. Skipping.\n",
      "WARNING: allele HLA-C*01:01 not in training alleles. Skipping.\n",
      "WARNING: allele HLA-B*44:01 not in training alleles. Skipping.\n",
      "WARNING: allele HLA-C*01:01 not in training alleles. Skipping.\n",
      "WARNING: allele HLA-B*44:01 not in training alleles. Skipping.\n",
      "WARNING: allele HLA-C*01:01 not in training alleles. Skipping.\n",
      "WARNING: allele HLA-B*44:01 not in training alleles. Skipping.\n",
      "WARNING: allele HLA-C*01:01 not in training alleles. Skipping.\n",
      "WARNING: allele HLA-B*44:01 not in training alleles. Skipping.\n",
      "WARNING: allele HLA-C*01:01 not in training alleles. Skipping.\n",
      "TITLE CNN, AUC 0.6969536505877688\n",
      "WARNING: allele HLA-B*44:01 not in training alleles. Skipping.\n",
      "WARNING: allele HLA-C*01:01 not in training alleles. Skipping.\n",
      "Allele HLA-A*24:01 not in Matrix ALL\n",
      "WARNING: allele HLA-B*44:01 not in training alleles. Skipping.\n",
      "WARNING: allele HLA-C*01:01 not in training alleles. Skipping.\n",
      "WARNING: allele HLA-B*44:01 not in training alleles. Skipping.\n",
      "WARNING: allele HLA-C*01:01 not in training alleles. Skipping.\n",
      "WARNING: allele HLA-B*44:01 not in training alleles. Skipping.\n",
      "WARNING: allele HLA-C*01:01 not in training alleles. Skipping.\n",
      "WARNING: allele HLA-B*44:01 not in training alleles. Skipping.\n",
      "WARNING: allele HLA-C*01:01 not in training alleles. Skipping.\n",
      "WARNING: allele HLA-B*44:01 not in training alleles. Skipping.\n",
      "WARNING: allele HLA-C*01:01 not in training alleles. Skipping.\n",
      "WARNING: allele HLA-B*44:01 not in training alleles. Skipping.\n",
      "WARNING: allele HLA-C*01:01 not in training alleles. Skipping.\n",
      "WARNING: allele HLA-B*44:01 not in training alleles. Skipping.\n",
      "WARNING: allele HLA-C*01:01 not in training alleles. Skipping.\n",
      "WARNING: allele HLA-B*44:01 not in training alleles. Skipping.\n",
      "WARNING: allele HLA-C*01:01 not in training alleles. Skipping.\n",
      "WARNING: allele HLA-B*44:01 not in training alleles. Skipping.\n",
      "WARNING: allele HLA-C*01:01 not in training alleles. Skipping.\n",
      "WARNING: allele HLA-B*44:01 not in training alleles. Skipping.\n",
      "WARNING: allele HLA-C*01:01 not in training alleles. Skipping.\n",
      "WARNING: allele HLA-B*44:01 not in training alleles. Skipping.\n",
      "WARNING: allele HLA-C*01:01 not in training alleles. Skipping.\n",
      "WARNING: allele HLA-B*44:01 not in training alleles. Skipping.\n",
      "WARNING: allele HLA-C*01:01 not in training alleles. Skipping.\n",
      "TITLE GNN, AUC 0.7087085808696671\n",
      "WARNING: allele HLA-B*44:01 not in training alleles. Skipping.\n",
      "WARNING: allele HLA-C*01:01 not in training alleles. Skipping.\n",
      "Allele HLA-A*24:01 not in Matrix ALL\n",
      "WARNING: allele HLA-B*44:01 not in training alleles. Skipping.\n",
      "WARNING: allele HLA-C*01:01 not in training alleles. Skipping.\n",
      "WARNING: allele HLA-B*44:01 not in training alleles. Skipping.\n",
      "WARNING: allele HLA-C*01:01 not in training alleles. Skipping.\n",
      "WARNING: allele HLA-B*44:01 not in training alleles. Skipping.\n",
      "WARNING: allele HLA-C*01:01 not in training alleles. Skipping.\n",
      "WARNING: allele HLA-B*44:01 not in training alleles. Skipping.\n",
      "WARNING: allele HLA-C*01:01 not in training alleles. Skipping.\n",
      "WARNING: allele HLA-B*44:01 not in training alleles. Skipping.\n",
      "WARNING: allele HLA-C*01:01 not in training alleles. Skipping.\n",
      "WARNING: allele HLA-B*44:01 not in training alleles. Skipping.\n",
      "WARNING: allele HLA-C*01:01 not in training alleles. Skipping.\n",
      "WARNING: allele HLA-B*44:01 not in training alleles. Skipping.\n",
      "WARNING: allele HLA-C*01:01 not in training alleles. Skipping.\n",
      "WARNING: allele HLA-B*44:01 not in training alleles. Skipping.\n",
      "WARNING: allele HLA-C*01:01 not in training alleles. Skipping.\n",
      "WARNING: allele HLA-B*44:01 not in training alleles. Skipping.\n",
      "WARNING: allele HLA-C*01:01 not in training alleles. Skipping.\n",
      "WARNING: allele HLA-B*44:01 not in training alleles. Skipping.\n",
      "WARNING: allele HLA-C*01:01 not in training alleles. Skipping.\n",
      "WARNING: allele HLA-B*44:01 not in training alleles. Skipping.\n",
      "WARNING: allele HLA-C*01:01 not in training alleles. Skipping.\n",
      "WARNING: allele HLA-B*44:01 not in training alleles. Skipping.\n",
      "WARNING: allele HLA-C*01:01 not in training alleles. Skipping.\n",
      "TITLE EGNN, AUC 0.7268719479732882\n",
      "WARNING: allele HLA-B*44:01 not in training alleles. Skipping.\n",
      "WARNING: allele HLA-C*01:01 not in training alleles. Skipping.\n",
      "Allele HLA-A*24:01 not in Matrix ALL\n",
      "WARNING: allele HLA-B*44:01 not in training alleles. Skipping.\n",
      "WARNING: allele HLA-C*01:01 not in training alleles. Skipping.\n",
      "WARNING: allele HLA-B*44:01 not in training alleles. Skipping.\n",
      "WARNING: allele HLA-C*01:01 not in training alleles. Skipping.\n",
      "WARNING: allele HLA-B*44:01 not in training alleles. Skipping.\n",
      "WARNING: allele HLA-C*01:01 not in training alleles. Skipping.\n",
      "WARNING: allele HLA-B*44:01 not in training alleles. Skipping.\n",
      "WARNING: allele HLA-C*01:01 not in training alleles. Skipping.\n",
      "WARNING: allele HLA-B*44:01 not in training alleles. Skipping.\n",
      "WARNING: allele HLA-C*01:01 not in training alleles. Skipping.\n",
      "WARNING: allele HLA-B*44:01 not in training alleles. Skipping.\n",
      "WARNING: allele HLA-C*01:01 not in training alleles. Skipping.\n",
      "WARNING: allele HLA-B*44:01 not in training alleles. Skipping.\n",
      "WARNING: allele HLA-C*01:01 not in training alleles. Skipping.\n",
      "WARNING: allele HLA-B*44:01 not in training alleles. Skipping.\n",
      "WARNING: allele HLA-C*01:01 not in training alleles. Skipping.\n",
      "WARNING: allele HLA-B*44:01 not in training alleles. Skipping.\n",
      "WARNING: allele HLA-C*01:01 not in training alleles. Skipping.\n",
      "WARNING: allele HLA-B*44:01 not in training alleles. Skipping.\n",
      "WARNING: allele HLA-C*01:01 not in training alleles. Skipping.\n",
      "WARNING: allele HLA-B*44:01 not in training alleles. Skipping.\n",
      "WARNING: allele HLA-C*01:01 not in training alleles. Skipping.\n",
      "WARNING: allele HLA-B*44:01 not in training alleles. Skipping.\n",
      "WARNING: allele HLA-C*01:01 not in training alleles. Skipping.\n",
      "TITLE MHCflurry, AUC 0.65456587865395\n",
      "WARNING: allele HLA-B*44:01 not in training alleles. Skipping.\n",
      "WARNING: allele HLA-C*01:01 not in training alleles. Skipping.\n",
      "Allele HLA-A*24:01 not in Matrix ALL\n",
      "WARNING: allele HLA-B*44:01 not in training alleles. Skipping.\n",
      "WARNING: allele HLA-C*01:01 not in training alleles. Skipping.\n",
      "WARNING: allele HLA-B*44:01 not in training alleles. Skipping.\n",
      "WARNING: allele HLA-C*01:01 not in training alleles. Skipping.\n",
      "WARNING: allele HLA-B*44:01 not in training alleles. Skipping.\n",
      "WARNING: allele HLA-C*01:01 not in training alleles. Skipping.\n",
      "WARNING: allele HLA-B*44:01 not in training alleles. Skipping.\n",
      "WARNING: allele HLA-C*01:01 not in training alleles. Skipping.\n",
      "WARNING: allele HLA-B*44:01 not in training alleles. Skipping.\n",
      "WARNING: allele HLA-C*01:01 not in training alleles. Skipping.\n",
      "WARNING: allele HLA-B*44:01 not in training alleles. Skipping.\n",
      "WARNING: allele HLA-C*01:01 not in training alleles. Skipping.\n",
      "WARNING: allele HLA-B*44:01 not in training alleles. Skipping.\n",
      "WARNING: allele HLA-C*01:01 not in training alleles. Skipping.\n",
      "WARNING: allele HLA-B*44:01 not in training alleles. Skipping.\n",
      "WARNING: allele HLA-C*01:01 not in training alleles. Skipping.\n",
      "WARNING: allele HLA-B*44:01 not in training alleles. Skipping.\n",
      "WARNING: allele HLA-C*01:01 not in training alleles. Skipping.\n",
      "WARNING: allele HLA-B*44:01 not in training alleles. Skipping.\n",
      "WARNING: allele HLA-C*01:01 not in training alleles. Skipping.\n",
      "WARNING: allele HLA-B*44:01 not in training alleles. Skipping.\n",
      "WARNING: allele HLA-C*01:01 not in training alleles. Skipping.\n",
      "WARNING: allele HLA-B*44:01 not in training alleles. Skipping.\n",
      "WARNING: allele HLA-C*01:01 not in training alleles. Skipping.\n",
      "TITLE MLP, AUC 0.6192429568079454\n",
      "WARNING: allele HLA-B*44:01 not in training alleles. Skipping.\n",
      "WARNING: allele HLA-C*01:01 not in training alleles. Skipping.\n",
      "Allele HLA-A*24:01 not in Matrix ALL\n",
      "WARNING: allele HLA-B*44:01 not in training alleles. Skipping.\n",
      "WARNING: allele HLA-C*01:01 not in training alleles. Skipping.\n",
      "WARNING: allele HLA-B*44:01 not in training alleles. Skipping.\n",
      "WARNING: allele HLA-C*01:01 not in training alleles. Skipping.\n",
      "WARNING: allele HLA-B*44:01 not in training alleles. Skipping.\n",
      "WARNING: allele HLA-C*01:01 not in training alleles. Skipping.\n",
      "WARNING: allele HLA-B*44:01 not in training alleles. Skipping.\n",
      "WARNING: allele HLA-C*01:01 not in training alleles. Skipping.\n",
      "WARNING: allele HLA-B*44:01 not in training alleles. Skipping.\n",
      "WARNING: allele HLA-C*01:01 not in training alleles. Skipping.\n",
      "WARNING: allele HLA-B*44:01 not in training alleles. Skipping.\n",
      "WARNING: allele HLA-C*01:01 not in training alleles. Skipping.\n",
      "WARNING: allele HLA-B*44:01 not in training alleles. Skipping.\n",
      "WARNING: allele HLA-C*01:01 not in training alleles. Skipping.\n",
      "WARNING: allele HLA-B*44:01 not in training alleles. Skipping.\n",
      "WARNING: allele HLA-C*01:01 not in training alleles. Skipping.\n",
      "WARNING: allele HLA-B*44:01 not in training alleles. Skipping.\n",
      "WARNING: allele HLA-C*01:01 not in training alleles. Skipping.\n",
      "WARNING: allele HLA-B*44:01 not in training alleles. Skipping.\n",
      "WARNING: allele HLA-C*01:01 not in training alleles. Skipping.\n",
      "WARNING: allele HLA-B*44:01 not in training alleles. Skipping.\n",
      "WARNING: allele HLA-C*01:01 not in training alleles. Skipping.\n",
      "WARNING: allele HLA-B*44:01 not in training alleles. Skipping.\n",
      "WARNING: allele HLA-C*01:01 not in training alleles. Skipping.\n",
      "TITLE SSL_woT, AUC 0.6409994258429146\n",
      "WARNING: allele HLA-B*44:01 not in training alleles. Skipping.\n",
      "WARNING: allele HLA-C*01:01 not in training alleles. Skipping.\n",
      "Allele HLA-A*24:01 not in Matrix ALL\n",
      "WARNING: allele HLA-B*44:01 not in training alleles. Skipping.\n",
      "WARNING: allele HLA-C*01:01 not in training alleles. Skipping.\n",
      "WARNING: allele HLA-B*44:01 not in training alleles. Skipping.\n",
      "WARNING: allele HLA-C*01:01 not in training alleles. Skipping.\n",
      "WARNING: allele HLA-B*44:01 not in training alleles. Skipping.\n",
      "WARNING: allele HLA-C*01:01 not in training alleles. Skipping.\n",
      "WARNING: allele HLA-B*44:01 not in training alleles. Skipping.\n",
      "WARNING: allele HLA-C*01:01 not in training alleles. Skipping.\n",
      "WARNING: allele HLA-B*44:01 not in training alleles. Skipping.\n",
      "WARNING: allele HLA-C*01:01 not in training alleles. Skipping.\n",
      "WARNING: allele HLA-B*44:01 not in training alleles. Skipping.\n",
      "WARNING: allele HLA-C*01:01 not in training alleles. Skipping.\n",
      "WARNING: allele HLA-B*44:01 not in training alleles. Skipping.\n",
      "WARNING: allele HLA-C*01:01 not in training alleles. Skipping.\n",
      "WARNING: allele HLA-B*44:01 not in training alleles. Skipping.\n",
      "WARNING: allele HLA-C*01:01 not in training alleles. Skipping.\n",
      "WARNING: allele HLA-B*44:01 not in training alleles. Skipping.\n",
      "WARNING: allele HLA-C*01:01 not in training alleles. Skipping.\n",
      "WARNING: allele HLA-B*44:01 not in training alleles. Skipping.\n",
      "WARNING: allele HLA-C*01:01 not in training alleles. Skipping.\n",
      "WARNING: allele HLA-B*44:01 not in training alleles. Skipping.\n",
      "WARNING: allele HLA-C*01:01 not in training alleles. Skipping.\n",
      "WARNING: allele HLA-B*44:01 not in training alleles. Skipping.\n",
      "WARNING: allele HLA-C*01:01 not in training alleles. Skipping.\n",
      "TITLE SSL_T, AUC 0.6683604900045097\n"
     ]
    },
    {
     "data": {
      "application/vnd.plotly.v1+json": {
       "config": {
        "plotlyServerURL": "https://plot.ly"
       },
       "data": [
        {
         "name": "CNN",
         "type": "bar",
         "x": [
          "HLA-B*15:17 D:2.0 N508",
          "HLA-B*57:03 D:1.5 N34",
          "HLA-A*24:03 D:1.5 N424",
          "HLA-A*23:01 D:1.4 N1709",
          "HLA-B*58:02 D:2.0 N43",
          "HLA-A*80:01 D:1.5 N180",
          "HLA-A*24:02 D:1.5 N2589",
          "HLA-C*07:01 D:2.5 N19",
          "HLA-A*01:01 D:1.5 N2414",
          "HLA-B*57:02 D:1.6 N18",
          "HLA-C*07:02 D:2.6 N128",
          "HLA-B*58:01 D:1.8 N1301",
          "HLA-B*57:01 D:1.7 N1022"
         ],
         "y": [
          0.6942816442816443,
          0.7407407407407407,
          0.747274964838256,
          0.6677980486863607,
          0.5696969696969697,
          0.6476388888888889,
          0.6517296209522829,
          0.6071428571428572,
          0.6829538073963274,
          0.30357142857142855,
          0.5626302083333333,
          0.7266128058353258,
          0.7093669968218704
         ]
        },
        {
         "name": "GNN",
         "type": "bar",
         "x": [
          "HLA-B*15:17 D:2.0 N508",
          "HLA-B*57:03 D:1.5 N34",
          "HLA-A*24:03 D:1.5 N424",
          "HLA-A*23:01 D:1.4 N1709",
          "HLA-B*58:02 D:2.0 N43",
          "HLA-A*80:01 D:1.5 N180",
          "HLA-A*24:02 D:1.5 N2589",
          "HLA-C*07:01 D:2.5 N19",
          "HLA-A*01:01 D:1.5 N2414",
          "HLA-B*57:02 D:1.6 N18",
          "HLA-C*07:02 D:2.6 N128",
          "HLA-B*58:01 D:1.8 N1301",
          "HLA-B*57:01 D:1.7 N1022"
         ],
         "y": [
          0.6520608039175677,
          0.6666666666666666,
          0.7686693368936358,
          0.6771279931499002,
          0.7,
          0.5938888888888889,
          0.6889951976111612,
          0.6666666666666667,
          0.6523451100870457,
          0.5535714285714286,
          0.3158854166666667,
          0.7838719416467406,
          0.7558220710296523
         ]
        },
        {
         "name": "EGNN",
         "type": "bar",
         "x": [
          "HLA-B*15:17 D:2.0 N508",
          "HLA-B*57:03 D:1.5 N34",
          "HLA-A*24:03 D:1.5 N424",
          "HLA-A*23:01 D:1.4 N1709",
          "HLA-B*58:02 D:2.0 N43",
          "HLA-A*80:01 D:1.5 N180",
          "HLA-A*24:02 D:1.5 N2589",
          "HLA-C*07:01 D:2.5 N19",
          "HLA-A*01:01 D:1.5 N2414",
          "HLA-B*57:02 D:1.6 N18",
          "HLA-C*07:02 D:2.6 N128",
          "HLA-B*58:01 D:1.8 N1301",
          "HLA-B*57:01 D:1.7 N1022"
         ],
         "y": [
          0.6736670736670736,
          0.7566137566137566,
          0.7640646976090013,
          0.6807346973232753,
          0.5484848484848485,
          0.7094444444444444,
          0.6856188076999346,
          0.5357142857142857,
          0.6957755515755082,
          0.30357142857142855,
          0.3666666666666667,
          0.7811100644880806,
          0.7652812490357617
         ]
        },
        {
         "name": "MHCflurry",
         "type": "bar",
         "x": [
          "HLA-B*15:17 D:2.0 N508",
          "HLA-B*57:03 D:1.5 N34",
          "HLA-A*24:03 D:1.5 N424",
          "HLA-A*23:01 D:1.4 N1709",
          "HLA-B*58:02 D:2.0 N43",
          "HLA-A*80:01 D:1.5 N180",
          "HLA-A*24:02 D:1.5 N2589",
          "HLA-C*07:01 D:2.5 N19",
          "HLA-A*01:01 D:1.5 N2414",
          "HLA-B*57:02 D:1.6 N18",
          "HLA-C*07:02 D:2.6 N128",
          "HLA-B*58:01 D:1.8 N1301",
          "HLA-B*57:01 D:1.7 N1022"
         ],
         "y": [
          0.63005698005698,
          0.6243386243386244,
          0.5983649789029535,
          0.5249929147295236,
          0.5636363636363636,
          0.5827777777777778,
          0.4832127617382874,
          0.6904761904761905,
          0.6850128914168749,
          0.5,
          0.2635416666666667,
          0.6933917832041158,
          0.6525425036255361
         ]
        },
        {
         "name": "MLP",
         "type": "bar",
         "x": [
          "HLA-B*15:17 D:2.0 N508",
          "HLA-B*57:03 D:1.5 N34",
          "HLA-A*24:03 D:1.5 N424",
          "HLA-A*23:01 D:1.4 N1709",
          "HLA-B*58:02 D:2.0 N43",
          "HLA-A*80:01 D:1.5 N180",
          "HLA-A*24:02 D:1.5 N2589",
          "HLA-C*07:01 D:2.5 N19",
          "HLA-A*01:01 D:1.5 N2414",
          "HLA-B*57:02 D:1.6 N18",
          "HLA-C*07:02 D:2.6 N128",
          "HLA-B*58:01 D:1.8 N1301",
          "HLA-B*57:01 D:1.7 N1022"
         ],
         "y": [
          0.5288156288156288,
          0.6190476190476191,
          0.762570323488045,
          0.7303677707628575,
          0.6212121212121212,
          0.6065277777777778,
          0.710291061054518,
          0.38095238095238093,
          0.512178944675156,
          0.1607142857142857,
          0.40364583333333337,
          0.6100427505253243,
          0.5632656052331142
         ]
        },
        {
         "name": "SSL_woT",
         "type": "bar",
         "x": [
          "HLA-B*15:17 D:2.0 N508",
          "HLA-B*57:03 D:1.5 N34",
          "HLA-A*24:03 D:1.5 N424",
          "HLA-A*23:01 D:1.4 N1709",
          "HLA-B*58:02 D:2.0 N43",
          "HLA-A*80:01 D:1.5 N180",
          "HLA-A*24:02 D:1.5 N2589",
          "HLA-C*07:01 D:2.5 N19",
          "HLA-A*01:01 D:1.5 N2414",
          "HLA-B*57:02 D:1.6 N18",
          "HLA-C*07:02 D:2.6 N128",
          "HLA-B*58:01 D:1.8 N1301",
          "HLA-B*57:01 D:1.7 N1022"
         ],
         "y": [
          0.5613960113960114,
          0.8571428571428572,
          0.6482946554149086,
          0.6128517761416331,
          0.6787878787878787,
          0.5956944444444445,
          0.6103417378467505,
          0.7738095238095238,
          0.6357940522348403,
          0.625,
          0.4317708333333334,
          0.6675627369997342,
          0.6603412632293499
         ]
        },
        {
         "name": "SSL_T",
         "type": "bar",
         "x": [
          "HLA-B*15:17 D:2.0 N508",
          "HLA-B*57:03 D:1.5 N34",
          "HLA-A*24:03 D:1.5 N424",
          "HLA-A*23:01 D:1.4 N1709",
          "HLA-B*58:02 D:2.0 N43",
          "HLA-A*80:01 D:1.5 N180",
          "HLA-A*24:02 D:1.5 N2589",
          "HLA-C*07:01 D:2.5 N19",
          "HLA-A*01:01 D:1.5 N2414",
          "HLA-B*57:02 D:1.6 N18",
          "HLA-C*07:02 D:2.6 N128",
          "HLA-B*58:01 D:1.8 N1301",
          "HLA-B*57:01 D:1.7 N1022"
         ],
         "y": [
          0.5801383801383801,
          0.8306878306878307,
          0.6569092827004219,
          0.6148454506533525,
          0.5545454545454546,
          0.5533333333333332,
          0.6573029664284613,
          0.6428571428571428,
          0.6953252376547461,
          0.875,
          0.48359375,
          0.6795848126947323,
          0.6433301706316146
         ]
        }
       ],
       "layout": {
        "template": {
         "data": {
          "bar": [
           {
            "error_x": {
             "color": "#2a3f5f"
            },
            "error_y": {
             "color": "#2a3f5f"
            },
            "marker": {
             "line": {
              "color": "#E5ECF6",
              "width": 0.5
             },
             "pattern": {
              "fillmode": "overlay",
              "size": 10,
              "solidity": 0.2
             }
            },
            "type": "bar"
           }
          ],
          "barpolar": [
           {
            "marker": {
             "line": {
              "color": "#E5ECF6",
              "width": 0.5
             },
             "pattern": {
              "fillmode": "overlay",
              "size": 10,
              "solidity": 0.2
             }
            },
            "type": "barpolar"
           }
          ],
          "carpet": [
           {
            "aaxis": {
             "endlinecolor": "#2a3f5f",
             "gridcolor": "white",
             "linecolor": "white",
             "minorgridcolor": "white",
             "startlinecolor": "#2a3f5f"
            },
            "baxis": {
             "endlinecolor": "#2a3f5f",
             "gridcolor": "white",
             "linecolor": "white",
             "minorgridcolor": "white",
             "startlinecolor": "#2a3f5f"
            },
            "type": "carpet"
           }
          ],
          "choropleth": [
           {
            "colorbar": {
             "outlinewidth": 0,
             "ticks": ""
            },
            "type": "choropleth"
           }
          ],
          "contour": [
           {
            "colorbar": {
             "outlinewidth": 0,
             "ticks": ""
            },
            "colorscale": [
             [
              0,
              "#0d0887"
             ],
             [
              0.1111111111111111,
              "#46039f"
             ],
             [
              0.2222222222222222,
              "#7201a8"
             ],
             [
              0.3333333333333333,
              "#9c179e"
             ],
             [
              0.4444444444444444,
              "#bd3786"
             ],
             [
              0.5555555555555556,
              "#d8576b"
             ],
             [
              0.6666666666666666,
              "#ed7953"
             ],
             [
              0.7777777777777778,
              "#fb9f3a"
             ],
             [
              0.8888888888888888,
              "#fdca26"
             ],
             [
              1,
              "#f0f921"
             ]
            ],
            "type": "contour"
           }
          ],
          "contourcarpet": [
           {
            "colorbar": {
             "outlinewidth": 0,
             "ticks": ""
            },
            "type": "contourcarpet"
           }
          ],
          "heatmap": [
           {
            "colorbar": {
             "outlinewidth": 0,
             "ticks": ""
            },
            "colorscale": [
             [
              0,
              "#0d0887"
             ],
             [
              0.1111111111111111,
              "#46039f"
             ],
             [
              0.2222222222222222,
              "#7201a8"
             ],
             [
              0.3333333333333333,
              "#9c179e"
             ],
             [
              0.4444444444444444,
              "#bd3786"
             ],
             [
              0.5555555555555556,
              "#d8576b"
             ],
             [
              0.6666666666666666,
              "#ed7953"
             ],
             [
              0.7777777777777778,
              "#fb9f3a"
             ],
             [
              0.8888888888888888,
              "#fdca26"
             ],
             [
              1,
              "#f0f921"
             ]
            ],
            "type": "heatmap"
           }
          ],
          "heatmapgl": [
           {
            "colorbar": {
             "outlinewidth": 0,
             "ticks": ""
            },
            "colorscale": [
             [
              0,
              "#0d0887"
             ],
             [
              0.1111111111111111,
              "#46039f"
             ],
             [
              0.2222222222222222,
              "#7201a8"
             ],
             [
              0.3333333333333333,
              "#9c179e"
             ],
             [
              0.4444444444444444,
              "#bd3786"
             ],
             [
              0.5555555555555556,
              "#d8576b"
             ],
             [
              0.6666666666666666,
              "#ed7953"
             ],
             [
              0.7777777777777778,
              "#fb9f3a"
             ],
             [
              0.8888888888888888,
              "#fdca26"
             ],
             [
              1,
              "#f0f921"
             ]
            ],
            "type": "heatmapgl"
           }
          ],
          "histogram": [
           {
            "marker": {
             "pattern": {
              "fillmode": "overlay",
              "size": 10,
              "solidity": 0.2
             }
            },
            "type": "histogram"
           }
          ],
          "histogram2d": [
           {
            "colorbar": {
             "outlinewidth": 0,
             "ticks": ""
            },
            "colorscale": [
             [
              0,
              "#0d0887"
             ],
             [
              0.1111111111111111,
              "#46039f"
             ],
             [
              0.2222222222222222,
              "#7201a8"
             ],
             [
              0.3333333333333333,
              "#9c179e"
             ],
             [
              0.4444444444444444,
              "#bd3786"
             ],
             [
              0.5555555555555556,
              "#d8576b"
             ],
             [
              0.6666666666666666,
              "#ed7953"
             ],
             [
              0.7777777777777778,
              "#fb9f3a"
             ],
             [
              0.8888888888888888,
              "#fdca26"
             ],
             [
              1,
              "#f0f921"
             ]
            ],
            "type": "histogram2d"
           }
          ],
          "histogram2dcontour": [
           {
            "colorbar": {
             "outlinewidth": 0,
             "ticks": ""
            },
            "colorscale": [
             [
              0,
              "#0d0887"
             ],
             [
              0.1111111111111111,
              "#46039f"
             ],
             [
              0.2222222222222222,
              "#7201a8"
             ],
             [
              0.3333333333333333,
              "#9c179e"
             ],
             [
              0.4444444444444444,
              "#bd3786"
             ],
             [
              0.5555555555555556,
              "#d8576b"
             ],
             [
              0.6666666666666666,
              "#ed7953"
             ],
             [
              0.7777777777777778,
              "#fb9f3a"
             ],
             [
              0.8888888888888888,
              "#fdca26"
             ],
             [
              1,
              "#f0f921"
             ]
            ],
            "type": "histogram2dcontour"
           }
          ],
          "mesh3d": [
           {
            "colorbar": {
             "outlinewidth": 0,
             "ticks": ""
            },
            "type": "mesh3d"
           }
          ],
          "parcoords": [
           {
            "line": {
             "colorbar": {
              "outlinewidth": 0,
              "ticks": ""
             }
            },
            "type": "parcoords"
           }
          ],
          "pie": [
           {
            "automargin": true,
            "type": "pie"
           }
          ],
          "scatter": [
           {
            "fillpattern": {
             "fillmode": "overlay",
             "size": 10,
             "solidity": 0.2
            },
            "type": "scatter"
           }
          ],
          "scatter3d": [
           {
            "line": {
             "colorbar": {
              "outlinewidth": 0,
              "ticks": ""
             }
            },
            "marker": {
             "colorbar": {
              "outlinewidth": 0,
              "ticks": ""
             }
            },
            "type": "scatter3d"
           }
          ],
          "scattercarpet": [
           {
            "marker": {
             "colorbar": {
              "outlinewidth": 0,
              "ticks": ""
             }
            },
            "type": "scattercarpet"
           }
          ],
          "scattergeo": [
           {
            "marker": {
             "colorbar": {
              "outlinewidth": 0,
              "ticks": ""
             }
            },
            "type": "scattergeo"
           }
          ],
          "scattergl": [
           {
            "marker": {
             "colorbar": {
              "outlinewidth": 0,
              "ticks": ""
             }
            },
            "type": "scattergl"
           }
          ],
          "scattermapbox": [
           {
            "marker": {
             "colorbar": {
              "outlinewidth": 0,
              "ticks": ""
             }
            },
            "type": "scattermapbox"
           }
          ],
          "scatterpolar": [
           {
            "marker": {
             "colorbar": {
              "outlinewidth": 0,
              "ticks": ""
             }
            },
            "type": "scatterpolar"
           }
          ],
          "scatterpolargl": [
           {
            "marker": {
             "colorbar": {
              "outlinewidth": 0,
              "ticks": ""
             }
            },
            "type": "scatterpolargl"
           }
          ],
          "scatterternary": [
           {
            "marker": {
             "colorbar": {
              "outlinewidth": 0,
              "ticks": ""
             }
            },
            "type": "scatterternary"
           }
          ],
          "surface": [
           {
            "colorbar": {
             "outlinewidth": 0,
             "ticks": ""
            },
            "colorscale": [
             [
              0,
              "#0d0887"
             ],
             [
              0.1111111111111111,
              "#46039f"
             ],
             [
              0.2222222222222222,
              "#7201a8"
             ],
             [
              0.3333333333333333,
              "#9c179e"
             ],
             [
              0.4444444444444444,
              "#bd3786"
             ],
             [
              0.5555555555555556,
              "#d8576b"
             ],
             [
              0.6666666666666666,
              "#ed7953"
             ],
             [
              0.7777777777777778,
              "#fb9f3a"
             ],
             [
              0.8888888888888888,
              "#fdca26"
             ],
             [
              1,
              "#f0f921"
             ]
            ],
            "type": "surface"
           }
          ],
          "table": [
           {
            "cells": {
             "fill": {
              "color": "#EBF0F8"
             },
             "line": {
              "color": "white"
             }
            },
            "header": {
             "fill": {
              "color": "#C8D4E3"
             },
             "line": {
              "color": "white"
             }
            },
            "type": "table"
           }
          ]
         },
         "layout": {
          "annotationdefaults": {
           "arrowcolor": "#2a3f5f",
           "arrowhead": 0,
           "arrowwidth": 1
          },
          "autotypenumbers": "strict",
          "coloraxis": {
           "colorbar": {
            "outlinewidth": 0,
            "ticks": ""
           }
          },
          "colorscale": {
           "diverging": [
            [
             0,
             "#8e0152"
            ],
            [
             0.1,
             "#c51b7d"
            ],
            [
             0.2,
             "#de77ae"
            ],
            [
             0.3,
             "#f1b6da"
            ],
            [
             0.4,
             "#fde0ef"
            ],
            [
             0.5,
             "#f7f7f7"
            ],
            [
             0.6,
             "#e6f5d0"
            ],
            [
             0.7,
             "#b8e186"
            ],
            [
             0.8,
             "#7fbc41"
            ],
            [
             0.9,
             "#4d9221"
            ],
            [
             1,
             "#276419"
            ]
           ],
           "sequential": [
            [
             0,
             "#0d0887"
            ],
            [
             0.1111111111111111,
             "#46039f"
            ],
            [
             0.2222222222222222,
             "#7201a8"
            ],
            [
             0.3333333333333333,
             "#9c179e"
            ],
            [
             0.4444444444444444,
             "#bd3786"
            ],
            [
             0.5555555555555556,
             "#d8576b"
            ],
            [
             0.6666666666666666,
             "#ed7953"
            ],
            [
             0.7777777777777778,
             "#fb9f3a"
            ],
            [
             0.8888888888888888,
             "#fdca26"
            ],
            [
             1,
             "#f0f921"
            ]
           ],
           "sequentialminus": [
            [
             0,
             "#0d0887"
            ],
            [
             0.1111111111111111,
             "#46039f"
            ],
            [
             0.2222222222222222,
             "#7201a8"
            ],
            [
             0.3333333333333333,
             "#9c179e"
            ],
            [
             0.4444444444444444,
             "#bd3786"
            ],
            [
             0.5555555555555556,
             "#d8576b"
            ],
            [
             0.6666666666666666,
             "#ed7953"
            ],
            [
             0.7777777777777778,
             "#fb9f3a"
            ],
            [
             0.8888888888888888,
             "#fdca26"
            ],
            [
             1,
             "#f0f921"
            ]
           ]
          },
          "colorway": [
           "#636efa",
           "#EF553B",
           "#00cc96",
           "#ab63fa",
           "#FFA15A",
           "#19d3f3",
           "#FF6692",
           "#B6E880",
           "#FF97FF",
           "#FECB52"
          ],
          "font": {
           "color": "#2a3f5f"
          },
          "geo": {
           "bgcolor": "white",
           "lakecolor": "white",
           "landcolor": "#E5ECF6",
           "showlakes": true,
           "showland": true,
           "subunitcolor": "white"
          },
          "hoverlabel": {
           "align": "left"
          },
          "hovermode": "closest",
          "mapbox": {
           "style": "light"
          },
          "paper_bgcolor": "white",
          "plot_bgcolor": "#E5ECF6",
          "polar": {
           "angularaxis": {
            "gridcolor": "white",
            "linecolor": "white",
            "ticks": ""
           },
           "bgcolor": "#E5ECF6",
           "radialaxis": {
            "gridcolor": "white",
            "linecolor": "white",
            "ticks": ""
           }
          },
          "scene": {
           "xaxis": {
            "backgroundcolor": "#E5ECF6",
            "gridcolor": "white",
            "gridwidth": 2,
            "linecolor": "white",
            "showbackground": true,
            "ticks": "",
            "zerolinecolor": "white"
           },
           "yaxis": {
            "backgroundcolor": "#E5ECF6",
            "gridcolor": "white",
            "gridwidth": 2,
            "linecolor": "white",
            "showbackground": true,
            "ticks": "",
            "zerolinecolor": "white"
           },
           "zaxis": {
            "backgroundcolor": "#E5ECF6",
            "gridcolor": "white",
            "gridwidth": 2,
            "linecolor": "white",
            "showbackground": true,
            "ticks": "",
            "zerolinecolor": "white"
           }
          },
          "shapedefaults": {
           "line": {
            "color": "#2a3f5f"
           }
          },
          "ternary": {
           "aaxis": {
            "gridcolor": "white",
            "linecolor": "white",
            "ticks": ""
           },
           "baxis": {
            "gridcolor": "white",
            "linecolor": "white",
            "ticks": ""
           },
           "bgcolor": "#E5ECF6",
           "caxis": {
            "gridcolor": "white",
            "linecolor": "white",
            "ticks": ""
           }
          },
          "title": {
           "x": 0.05
          },
          "xaxis": {
           "automargin": true,
           "gridcolor": "white",
           "linecolor": "white",
           "ticks": "",
           "title": {
            "standoff": 15
           },
           "zerolinecolor": "white",
           "zerolinewidth": 2
          },
          "yaxis": {
           "automargin": true,
           "gridcolor": "white",
           "linecolor": "white",
           "ticks": "",
           "title": {
            "standoff": 15
           },
           "zerolinecolor": "white",
           "zerolinewidth": 2
          }
         }
        },
        "title": {
         "text": "AUC per test allele"
        },
        "xaxis": {
         "title": {
          "text": "Sample Names and avg distance"
         }
        },
        "yaxis": {
         "title": {
          "text": "Values"
         }
        }
       }
      },
      "text/html": [
       "<div>                            <div id=\"ede54229-7725-4960-a6c6-8807a7c43d0a\" class=\"plotly-graph-div\" style=\"height:525px; width:100%;\"></div>            <script type=\"text/javascript\">                require([\"plotly\"], function(Plotly) {                    window.PLOTLYENV=window.PLOTLYENV || {};                                    if (document.getElementById(\"ede54229-7725-4960-a6c6-8807a7c43d0a\")) {                    Plotly.newPlot(                        \"ede54229-7725-4960-a6c6-8807a7c43d0a\",                        [{\"name\":\"CNN\",\"x\":[\"HLA-B*15:17 D:2.0 N508\",\"HLA-B*57:03 D:1.5 N34\",\"HLA-A*24:03 D:1.5 N424\",\"HLA-A*23:01 D:1.4 N1709\",\"HLA-B*58:02 D:2.0 N43\",\"HLA-A*80:01 D:1.5 N180\",\"HLA-A*24:02 D:1.5 N2589\",\"HLA-C*07:01 D:2.5 N19\",\"HLA-A*01:01 D:1.5 N2414\",\"HLA-B*57:02 D:1.6 N18\",\"HLA-C*07:02 D:2.6 N128\",\"HLA-B*58:01 D:1.8 N1301\",\"HLA-B*57:01 D:1.7 N1022\"],\"y\":[0.6942816442816443,0.7407407407407407,0.747274964838256,0.6677980486863607,0.5696969696969697,0.6476388888888889,0.6517296209522829,0.6071428571428572,0.6829538073963274,0.30357142857142855,0.5626302083333333,0.7266128058353258,0.7093669968218704],\"type\":\"bar\"},{\"name\":\"GNN\",\"x\":[\"HLA-B*15:17 D:2.0 N508\",\"HLA-B*57:03 D:1.5 N34\",\"HLA-A*24:03 D:1.5 N424\",\"HLA-A*23:01 D:1.4 N1709\",\"HLA-B*58:02 D:2.0 N43\",\"HLA-A*80:01 D:1.5 N180\",\"HLA-A*24:02 D:1.5 N2589\",\"HLA-C*07:01 D:2.5 N19\",\"HLA-A*01:01 D:1.5 N2414\",\"HLA-B*57:02 D:1.6 N18\",\"HLA-C*07:02 D:2.6 N128\",\"HLA-B*58:01 D:1.8 N1301\",\"HLA-B*57:01 D:1.7 N1022\"],\"y\":[0.6520608039175677,0.6666666666666666,0.7686693368936358,0.6771279931499002,0.7,0.5938888888888889,0.6889951976111612,0.6666666666666667,0.6523451100870457,0.5535714285714286,0.3158854166666667,0.7838719416467406,0.7558220710296523],\"type\":\"bar\"},{\"name\":\"EGNN\",\"x\":[\"HLA-B*15:17 D:2.0 N508\",\"HLA-B*57:03 D:1.5 N34\",\"HLA-A*24:03 D:1.5 N424\",\"HLA-A*23:01 D:1.4 N1709\",\"HLA-B*58:02 D:2.0 N43\",\"HLA-A*80:01 D:1.5 N180\",\"HLA-A*24:02 D:1.5 N2589\",\"HLA-C*07:01 D:2.5 N19\",\"HLA-A*01:01 D:1.5 N2414\",\"HLA-B*57:02 D:1.6 N18\",\"HLA-C*07:02 D:2.6 N128\",\"HLA-B*58:01 D:1.8 N1301\",\"HLA-B*57:01 D:1.7 N1022\"],\"y\":[0.6736670736670736,0.7566137566137566,0.7640646976090013,0.6807346973232753,0.5484848484848485,0.7094444444444444,0.6856188076999346,0.5357142857142857,0.6957755515755082,0.30357142857142855,0.3666666666666667,0.7811100644880806,0.7652812490357617],\"type\":\"bar\"},{\"name\":\"MHCflurry\",\"x\":[\"HLA-B*15:17 D:2.0 N508\",\"HLA-B*57:03 D:1.5 N34\",\"HLA-A*24:03 D:1.5 N424\",\"HLA-A*23:01 D:1.4 N1709\",\"HLA-B*58:02 D:2.0 N43\",\"HLA-A*80:01 D:1.5 N180\",\"HLA-A*24:02 D:1.5 N2589\",\"HLA-C*07:01 D:2.5 N19\",\"HLA-A*01:01 D:1.5 N2414\",\"HLA-B*57:02 D:1.6 N18\",\"HLA-C*07:02 D:2.6 N128\",\"HLA-B*58:01 D:1.8 N1301\",\"HLA-B*57:01 D:1.7 N1022\"],\"y\":[0.63005698005698,0.6243386243386244,0.5983649789029535,0.5249929147295236,0.5636363636363636,0.5827777777777778,0.4832127617382874,0.6904761904761905,0.6850128914168749,0.5,0.2635416666666667,0.6933917832041158,0.6525425036255361],\"type\":\"bar\"},{\"name\":\"MLP\",\"x\":[\"HLA-B*15:17 D:2.0 N508\",\"HLA-B*57:03 D:1.5 N34\",\"HLA-A*24:03 D:1.5 N424\",\"HLA-A*23:01 D:1.4 N1709\",\"HLA-B*58:02 D:2.0 N43\",\"HLA-A*80:01 D:1.5 N180\",\"HLA-A*24:02 D:1.5 N2589\",\"HLA-C*07:01 D:2.5 N19\",\"HLA-A*01:01 D:1.5 N2414\",\"HLA-B*57:02 D:1.6 N18\",\"HLA-C*07:02 D:2.6 N128\",\"HLA-B*58:01 D:1.8 N1301\",\"HLA-B*57:01 D:1.7 N1022\"],\"y\":[0.5288156288156288,0.6190476190476191,0.762570323488045,0.7303677707628575,0.6212121212121212,0.6065277777777778,0.710291061054518,0.38095238095238093,0.512178944675156,0.1607142857142857,0.40364583333333337,0.6100427505253243,0.5632656052331142],\"type\":\"bar\"},{\"name\":\"SSL_woT\",\"x\":[\"HLA-B*15:17 D:2.0 N508\",\"HLA-B*57:03 D:1.5 N34\",\"HLA-A*24:03 D:1.5 N424\",\"HLA-A*23:01 D:1.4 N1709\",\"HLA-B*58:02 D:2.0 N43\",\"HLA-A*80:01 D:1.5 N180\",\"HLA-A*24:02 D:1.5 N2589\",\"HLA-C*07:01 D:2.5 N19\",\"HLA-A*01:01 D:1.5 N2414\",\"HLA-B*57:02 D:1.6 N18\",\"HLA-C*07:02 D:2.6 N128\",\"HLA-B*58:01 D:1.8 N1301\",\"HLA-B*57:01 D:1.7 N1022\"],\"y\":[0.5613960113960114,0.8571428571428572,0.6482946554149086,0.6128517761416331,0.6787878787878787,0.5956944444444445,0.6103417378467505,0.7738095238095238,0.6357940522348403,0.625,0.4317708333333334,0.6675627369997342,0.6603412632293499],\"type\":\"bar\"},{\"name\":\"SSL_T\",\"x\":[\"HLA-B*15:17 D:2.0 N508\",\"HLA-B*57:03 D:1.5 N34\",\"HLA-A*24:03 D:1.5 N424\",\"HLA-A*23:01 D:1.4 N1709\",\"HLA-B*58:02 D:2.0 N43\",\"HLA-A*80:01 D:1.5 N180\",\"HLA-A*24:02 D:1.5 N2589\",\"HLA-C*07:01 D:2.5 N19\",\"HLA-A*01:01 D:1.5 N2414\",\"HLA-B*57:02 D:1.6 N18\",\"HLA-C*07:02 D:2.6 N128\",\"HLA-B*58:01 D:1.8 N1301\",\"HLA-B*57:01 D:1.7 N1022\"],\"y\":[0.5801383801383801,0.8306878306878307,0.6569092827004219,0.6148454506533525,0.5545454545454546,0.5533333333333332,0.6573029664284613,0.6428571428571428,0.6953252376547461,0.875,0.48359375,0.6795848126947323,0.6433301706316146],\"type\":\"bar\"}],                        {\"template\":{\"data\":{\"histogram2dcontour\":[{\"type\":\"histogram2dcontour\",\"colorbar\":{\"outlinewidth\":0,\"ticks\":\"\"},\"colorscale\":[[0.0,\"#0d0887\"],[0.1111111111111111,\"#46039f\"],[0.2222222222222222,\"#7201a8\"],[0.3333333333333333,\"#9c179e\"],[0.4444444444444444,\"#bd3786\"],[0.5555555555555556,\"#d8576b\"],[0.6666666666666666,\"#ed7953\"],[0.7777777777777778,\"#fb9f3a\"],[0.8888888888888888,\"#fdca26\"],[1.0,\"#f0f921\"]]}],\"choropleth\":[{\"type\":\"choropleth\",\"colorbar\":{\"outlinewidth\":0,\"ticks\":\"\"}}],\"histogram2d\":[{\"type\":\"histogram2d\",\"colorbar\":{\"outlinewidth\":0,\"ticks\":\"\"},\"colorscale\":[[0.0,\"#0d0887\"],[0.1111111111111111,\"#46039f\"],[0.2222222222222222,\"#7201a8\"],[0.3333333333333333,\"#9c179e\"],[0.4444444444444444,\"#bd3786\"],[0.5555555555555556,\"#d8576b\"],[0.6666666666666666,\"#ed7953\"],[0.7777777777777778,\"#fb9f3a\"],[0.8888888888888888,\"#fdca26\"],[1.0,\"#f0f921\"]]}],\"heatmap\":[{\"type\":\"heatmap\",\"colorbar\":{\"outlinewidth\":0,\"ticks\":\"\"},\"colorscale\":[[0.0,\"#0d0887\"],[0.1111111111111111,\"#46039f\"],[0.2222222222222222,\"#7201a8\"],[0.3333333333333333,\"#9c179e\"],[0.4444444444444444,\"#bd3786\"],[0.5555555555555556,\"#d8576b\"],[0.6666666666666666,\"#ed7953\"],[0.7777777777777778,\"#fb9f3a\"],[0.8888888888888888,\"#fdca26\"],[1.0,\"#f0f921\"]]}],\"heatmapgl\":[{\"type\":\"heatmapgl\",\"colorbar\":{\"outlinewidth\":0,\"ticks\":\"\"},\"colorscale\":[[0.0,\"#0d0887\"],[0.1111111111111111,\"#46039f\"],[0.2222222222222222,\"#7201a8\"],[0.3333333333333333,\"#9c179e\"],[0.4444444444444444,\"#bd3786\"],[0.5555555555555556,\"#d8576b\"],[0.6666666666666666,\"#ed7953\"],[0.7777777777777778,\"#fb9f3a\"],[0.8888888888888888,\"#fdca26\"],[1.0,\"#f0f921\"]]}],\"contourcarpet\":[{\"type\":\"contourcarpet\",\"colorbar\":{\"outlinewidth\":0,\"ticks\":\"\"}}],\"contour\":[{\"type\":\"contour\",\"colorbar\":{\"outlinewidth\":0,\"ticks\":\"\"},\"colorscale\":[[0.0,\"#0d0887\"],[0.1111111111111111,\"#46039f\"],[0.2222222222222222,\"#7201a8\"],[0.3333333333333333,\"#9c179e\"],[0.4444444444444444,\"#bd3786\"],[0.5555555555555556,\"#d8576b\"],[0.6666666666666666,\"#ed7953\"],[0.7777777777777778,\"#fb9f3a\"],[0.8888888888888888,\"#fdca26\"],[1.0,\"#f0f921\"]]}],\"surface\":[{\"type\":\"surface\",\"colorbar\":{\"outlinewidth\":0,\"ticks\":\"\"},\"colorscale\":[[0.0,\"#0d0887\"],[0.1111111111111111,\"#46039f\"],[0.2222222222222222,\"#7201a8\"],[0.3333333333333333,\"#9c179e\"],[0.4444444444444444,\"#bd3786\"],[0.5555555555555556,\"#d8576b\"],[0.6666666666666666,\"#ed7953\"],[0.7777777777777778,\"#fb9f3a\"],[0.8888888888888888,\"#fdca26\"],[1.0,\"#f0f921\"]]}],\"mesh3d\":[{\"type\":\"mesh3d\",\"colorbar\":{\"outlinewidth\":0,\"ticks\":\"\"}}],\"scatter\":[{\"fillpattern\":{\"fillmode\":\"overlay\",\"size\":10,\"solidity\":0.2},\"type\":\"scatter\"}],\"parcoords\":[{\"type\":\"parcoords\",\"line\":{\"colorbar\":{\"outlinewidth\":0,\"ticks\":\"\"}}}],\"scatterpolargl\":[{\"type\":\"scatterpolargl\",\"marker\":{\"colorbar\":{\"outlinewidth\":0,\"ticks\":\"\"}}}],\"bar\":[{\"error_x\":{\"color\":\"#2a3f5f\"},\"error_y\":{\"color\":\"#2a3f5f\"},\"marker\":{\"line\":{\"color\":\"#E5ECF6\",\"width\":0.5},\"pattern\":{\"fillmode\":\"overlay\",\"size\":10,\"solidity\":0.2}},\"type\":\"bar\"}],\"scattergeo\":[{\"type\":\"scattergeo\",\"marker\":{\"colorbar\":{\"outlinewidth\":0,\"ticks\":\"\"}}}],\"scatterpolar\":[{\"type\":\"scatterpolar\",\"marker\":{\"colorbar\":{\"outlinewidth\":0,\"ticks\":\"\"}}}],\"histogram\":[{\"marker\":{\"pattern\":{\"fillmode\":\"overlay\",\"size\":10,\"solidity\":0.2}},\"type\":\"histogram\"}],\"scattergl\":[{\"type\":\"scattergl\",\"marker\":{\"colorbar\":{\"outlinewidth\":0,\"ticks\":\"\"}}}],\"scatter3d\":[{\"type\":\"scatter3d\",\"line\":{\"colorbar\":{\"outlinewidth\":0,\"ticks\":\"\"}},\"marker\":{\"colorbar\":{\"outlinewidth\":0,\"ticks\":\"\"}}}],\"scattermapbox\":[{\"type\":\"scattermapbox\",\"marker\":{\"colorbar\":{\"outlinewidth\":0,\"ticks\":\"\"}}}],\"scatterternary\":[{\"type\":\"scatterternary\",\"marker\":{\"colorbar\":{\"outlinewidth\":0,\"ticks\":\"\"}}}],\"scattercarpet\":[{\"type\":\"scattercarpet\",\"marker\":{\"colorbar\":{\"outlinewidth\":0,\"ticks\":\"\"}}}],\"carpet\":[{\"aaxis\":{\"endlinecolor\":\"#2a3f5f\",\"gridcolor\":\"white\",\"linecolor\":\"white\",\"minorgridcolor\":\"white\",\"startlinecolor\":\"#2a3f5f\"},\"baxis\":{\"endlinecolor\":\"#2a3f5f\",\"gridcolor\":\"white\",\"linecolor\":\"white\",\"minorgridcolor\":\"white\",\"startlinecolor\":\"#2a3f5f\"},\"type\":\"carpet\"}],\"table\":[{\"cells\":{\"fill\":{\"color\":\"#EBF0F8\"},\"line\":{\"color\":\"white\"}},\"header\":{\"fill\":{\"color\":\"#C8D4E3\"},\"line\":{\"color\":\"white\"}},\"type\":\"table\"}],\"barpolar\":[{\"marker\":{\"line\":{\"color\":\"#E5ECF6\",\"width\":0.5},\"pattern\":{\"fillmode\":\"overlay\",\"size\":10,\"solidity\":0.2}},\"type\":\"barpolar\"}],\"pie\":[{\"automargin\":true,\"type\":\"pie\"}]},\"layout\":{\"autotypenumbers\":\"strict\",\"colorway\":[\"#636efa\",\"#EF553B\",\"#00cc96\",\"#ab63fa\",\"#FFA15A\",\"#19d3f3\",\"#FF6692\",\"#B6E880\",\"#FF97FF\",\"#FECB52\"],\"font\":{\"color\":\"#2a3f5f\"},\"hovermode\":\"closest\",\"hoverlabel\":{\"align\":\"left\"},\"paper_bgcolor\":\"white\",\"plot_bgcolor\":\"#E5ECF6\",\"polar\":{\"bgcolor\":\"#E5ECF6\",\"angularaxis\":{\"gridcolor\":\"white\",\"linecolor\":\"white\",\"ticks\":\"\"},\"radialaxis\":{\"gridcolor\":\"white\",\"linecolor\":\"white\",\"ticks\":\"\"}},\"ternary\":{\"bgcolor\":\"#E5ECF6\",\"aaxis\":{\"gridcolor\":\"white\",\"linecolor\":\"white\",\"ticks\":\"\"},\"baxis\":{\"gridcolor\":\"white\",\"linecolor\":\"white\",\"ticks\":\"\"},\"caxis\":{\"gridcolor\":\"white\",\"linecolor\":\"white\",\"ticks\":\"\"}},\"coloraxis\":{\"colorbar\":{\"outlinewidth\":0,\"ticks\":\"\"}},\"colorscale\":{\"sequential\":[[0.0,\"#0d0887\"],[0.1111111111111111,\"#46039f\"],[0.2222222222222222,\"#7201a8\"],[0.3333333333333333,\"#9c179e\"],[0.4444444444444444,\"#bd3786\"],[0.5555555555555556,\"#d8576b\"],[0.6666666666666666,\"#ed7953\"],[0.7777777777777778,\"#fb9f3a\"],[0.8888888888888888,\"#fdca26\"],[1.0,\"#f0f921\"]],\"sequentialminus\":[[0.0,\"#0d0887\"],[0.1111111111111111,\"#46039f\"],[0.2222222222222222,\"#7201a8\"],[0.3333333333333333,\"#9c179e\"],[0.4444444444444444,\"#bd3786\"],[0.5555555555555556,\"#d8576b\"],[0.6666666666666666,\"#ed7953\"],[0.7777777777777778,\"#fb9f3a\"],[0.8888888888888888,\"#fdca26\"],[1.0,\"#f0f921\"]],\"diverging\":[[0,\"#8e0152\"],[0.1,\"#c51b7d\"],[0.2,\"#de77ae\"],[0.3,\"#f1b6da\"],[0.4,\"#fde0ef\"],[0.5,\"#f7f7f7\"],[0.6,\"#e6f5d0\"],[0.7,\"#b8e186\"],[0.8,\"#7fbc41\"],[0.9,\"#4d9221\"],[1,\"#276419\"]]},\"xaxis\":{\"gridcolor\":\"white\",\"linecolor\":\"white\",\"ticks\":\"\",\"title\":{\"standoff\":15},\"zerolinecolor\":\"white\",\"automargin\":true,\"zerolinewidth\":2},\"yaxis\":{\"gridcolor\":\"white\",\"linecolor\":\"white\",\"ticks\":\"\",\"title\":{\"standoff\":15},\"zerolinecolor\":\"white\",\"automargin\":true,\"zerolinewidth\":2},\"scene\":{\"xaxis\":{\"backgroundcolor\":\"#E5ECF6\",\"gridcolor\":\"white\",\"linecolor\":\"white\",\"showbackground\":true,\"ticks\":\"\",\"zerolinecolor\":\"white\",\"gridwidth\":2},\"yaxis\":{\"backgroundcolor\":\"#E5ECF6\",\"gridcolor\":\"white\",\"linecolor\":\"white\",\"showbackground\":true,\"ticks\":\"\",\"zerolinecolor\":\"white\",\"gridwidth\":2},\"zaxis\":{\"backgroundcolor\":\"#E5ECF6\",\"gridcolor\":\"white\",\"linecolor\":\"white\",\"showbackground\":true,\"ticks\":\"\",\"zerolinecolor\":\"white\",\"gridwidth\":2}},\"shapedefaults\":{\"line\":{\"color\":\"#2a3f5f\"}},\"annotationdefaults\":{\"arrowcolor\":\"#2a3f5f\",\"arrowhead\":0,\"arrowwidth\":1},\"geo\":{\"bgcolor\":\"white\",\"landcolor\":\"#E5ECF6\",\"subunitcolor\":\"white\",\"showland\":true,\"showlakes\":true,\"lakecolor\":\"white\"},\"title\":{\"x\":0.05},\"mapbox\":{\"style\":\"light\"}}},\"title\":{\"text\":\"AUC per test allele\"},\"xaxis\":{\"title\":{\"text\":\"Sample Names and avg distance\"}},\"yaxis\":{\"title\":{\"text\":\"Values\"}}},                        {\"responsive\": true}                    ).then(function(){\n",
       "                            \n",
       "var gd = document.getElementById('ede54229-7725-4960-a6c6-8807a7c43d0a');\n",
       "var x = new MutationObserver(function (mutations, observer) {{\n",
       "        var display = window.getComputedStyle(gd).display;\n",
       "        if (!display || display === 'none') {{\n",
       "            console.log([gd, 'removed!']);\n",
       "            Plotly.purge(gd);\n",
       "            observer.disconnect();\n",
       "        }}\n",
       "}});\n",
       "\n",
       "// Listen for the removal of the full notebook cells\n",
       "var notebookContainer = gd.closest('#notebook-container');\n",
       "if (notebookContainer) {{\n",
       "    x.observe(notebookContainer, {childList: true});\n",
       "}}\n",
       "\n",
       "// Listen for the clearing of the current output cell\n",
       "var outputEl = gd.closest('.output');\n",
       "if (outputEl) {{\n",
       "    x.observe(outputEl, {childList: true});\n",
       "}}\n",
       "\n",
       "                        })                };                });            </script>        </div>"
      ]
     },
     "metadata": {},
     "output_type": "display_data"
    },
    {
     "data": {
      "image/png": "[encoded data removed]",
      "text/plain": [
       "<Figure size 2000x500 with 7 Axes>"
      ]
     },
     "metadata": {},
     "output_type": "display_data"
    },
    {
     "data": {
      "image/png": "[encoded data removed]",
      "text/plain": [
       "<Figure size 2000x500 with 7 Axes>"
      ]
     },
     "metadata": {},
     "output_type": "display_data"
    },
    {
     "name": "stdout",
     "output_type": "stream",
     "text": [
      "[('CNN', 0.6969536505877688), ('GNN', 0.7087085808696671), ('EGNN', 0.7268719479732882), ('MHCflurry', 0.65456587865395), ('MLP', 0.6192429568079454), ('SSL_woT', 0.6409994258429146), ('SSL_T', 0.6683604900045097)]\n"
     ]
    },
    {
     "data": {
      "image/png": "[encoded data removed]",
      "text/plain": [
       "<Figure size 640x480 with 1 Axes>"
      ]
     },
     "metadata": {},
     "output_type": "display_data"
    }
   ],
   "source": [
    "def get_model_output(title, dfot, dfi):\n",
    "    ## Get output and distance per allele\n",
    "    allele_outputs = {}\n",
    "    \n",
    "    for allele in test_alleles:\n",
    "        gene = allele.split('*')[0].split('-')[1]\n",
    "        if allele in matrix['ALL'].keys():\n",
    "            #identify all the allele's IDs\n",
    "            IDs = dfi.loc[dfi['allele'] == allele, 'ID'].values\n",
    "            dfauc = pd.merge(dfi[dfi['ID'].isin(IDs)], dfot[dfot['ID'].isin(IDs)], on='ID')\n",
    "            if len(dfauc)>0:\n",
    "                allele_outputs[allele] = {}\n",
    "                auc = classMetrics.roc_auc(dfauc[label_per_model[title][0]], dfauc[label_per_model[title][1]])\n",
    "                allele_outputs[allele]['auc'] = auc\n",
    "                allele_outputs[allele]['distance']= get_avg_distance(allele, matrix['ALL'], test_alleles) #matrix[gene]\n",
    "        else:\n",
    "            print(f'Allele {allele} not in Matrix ALL')\n",
    "        \n",
    "    #total AUC\n",
    "    IDs = dfi['ID'].values\n",
    "    dfauc = pd.merge(dfi[dfi['ID'].isin(IDs)], dfot[dfot['ID'].isin(IDs)], on='ID')\n",
    "    allele_outputs['total_auc'] = classMetrics.roc_auc(dfauc[label_per_model[title][0]], dfauc[label_per_model[title][1]])\n",
    "    allele_outputs['total_auprc'] = auprc(dfauc[label_per_model[title][1]], dfauc[label_per_model[title][0]])\n",
    "    print(f'TITLE {title}, AUC {allele_outputs[\"total_auc\"]}')\n",
    "    \n",
    "    return allele_outputs\n",
    "\n",
    "def get_shuff_auc(title, dfot, dfi):\n",
    "    IDs = dfi['ID'].values\n",
    "    dfauc = pd.merge(dfi[dfi['ID'].isin(IDs)], dfot[dfot['ID'].isin(IDs)], on='ID')\n",
    "    return classMetrics.roc_auc(dfauc[label_per_model[title][0]], dfauc[label_per_model[title][1]])\n",
    "\n",
    "def get_shuff_auprc(title, dfot, dfi):\n",
    "    IDs = dfi['ID'].values\n",
    "    dfauc = pd.merge(dfi[dfi['ID'].isin(IDs)], dfot[dfot['ID'].isin(IDs)], on='ID')\n",
    "    return auprc(dfauc[label_per_model[title][1]], dfauc[label_per_model[title][0]])\n",
    "\n",
    "\n",
    "models_outputs = {}\n",
    "#%% CNN outputs\n",
    "title = 'CNN'\n",
    "dfot = pd.read_csv('/projects/0/einf2380/data/pop_paper_data/cnn_outputs/allele_cnn_outputs.csv')\n",
    "#dfot = dfo[dfo['PHASE'].str.contains('testing', case=False)]\n",
    "dfot['TARGET'] = dfot['TARGET'].astype(float)\n",
    "dfot['ID'] = dfot['KEY']\n",
    "\n",
    "models_outputs[title] = get_model_output(title, dfot, clust_dfi)\n",
    "\n",
    "# GNN outputs\n",
    "title = 'GNN'\n",
    "dfot = pd.read_hdf('/projects/0/einf2380/data/pMHCI/trained_models/deeprank2/experiments/exp_100k_std_transf_bs64_naivegnn1_wloss_cl_allele_0_230607/output/output_exporter.hdf5'\n",
    "                  , key=\"testing\")\n",
    "dfot['entry']= [x.split(':')[2] for x in dfot['entry']]\n",
    "dfot['ID'] = dfot['entry']\n",
    "dfot['output']= [x[1] for x in dfot['output']]\n",
    "\n",
    "models_outputs[title] = get_model_output(title, dfot, clust_dfi)\n",
    "\n",
    "#%% EGNN outputs\n",
    "def sigmoid(x):\n",
    "    return np.exp(-np.logaddexp(0, -x))\n",
    "title = 'EGNN'\n",
    "dfo = pd.read_csv('/projects/0/einf2380/data/pop_paper_data/egnn_outputs/egnn_supervised_allele.csv')\n",
    "dfot = dfo[dfo['PHASE'].str.contains('validation', case=False)]\n",
    "dfot['OUTPUT_1']=sigmoid(dfot['OUTPUT_0'])\n",
    "dfot['TARGET'] = dfot['TARGET'].astype(float)\n",
    "dfot['ID'] = dfot['KEY']\n",
    "\n",
    "models_outputs[title] = get_model_output(title, dfot, clust_dfi)\n",
    "\n",
    "\n",
    "#%% MHCflurry outputs\n",
    "title='MHCflurry'\n",
    "dfo = pd.read_csv('/projects/0/einf2380/data/pop_paper_data/mhcflurry_outputs/allele_mhcflurry_outputs.csv',\n",
    "                header=None, names=['ID', 'BA', 'OUTPUT_1'])\n",
    "\n",
    "models_outputs[title] = get_model_output(title, dfo, clust_dfi)\n",
    "\n",
    "#%% MLP \n",
    "title='MLP'\n",
    "dfo = pd.read_csv('/projects/0/einf2380/data/pop_paper_data/mlp_outputs/allele_mlp_outputs.csv',\n",
    "                header=None, names=['ID', 'BA', 'OUTPUT_1'])\n",
    "\n",
    "models_outputs[title] = get_model_output(title, dfo, clust_dfi)\n",
    "\n",
    "#%% SSL without TCRs outputs\n",
    "\n",
    "title = 'SSL_woT'\n",
    "dfo = pd.read_csv('/projects/0/einf2380/data/pop_paper_data/egnn_outputs/egnn_ssl_no_tcr_allele.csv')\n",
    "dfot = dfo[dfo['PHASE'].str.contains('validation', case=False)]\n",
    "dfot['OUTPUT_1']=sigmoid(dfot['OUTPUT_0'])\n",
    "dfot['TARGET'] = dfot['TARGET'].astype(float)\n",
    "dfot['ID'] = dfot['KEY']\n",
    "\n",
    "models_outputs[title] = get_model_output(title, dfot, clust_dfi)\n",
    "\n",
    "#%% SSL without TCRs outputs\n",
    "\n",
    "title = 'SSL_T'\n",
    "dfo = pd.read_csv('/projects/0/einf2380/data/pop_paper_data/egnn_outputs/egnn_ssl_allele.csv')\n",
    "dfot = dfo[dfo['PHASE'].str.contains('validation', case=False)]\n",
    "dfot['OUTPUT_1']=sigmoid(dfot['OUTPUT_0'])\n",
    "dfot['TARGET'] = dfot['TARGET'].astype(float)\n",
    "dfot['ID'] = dfot['KEY']\n",
    "\n",
    "models_outputs[title] = get_model_output(title, dfot, clust_dfi)\n",
    "\n",
    "#%% Plot barplots\n",
    "\n",
    "#fig, axes = plt.subplots(1, 4, figsize=(20, 5), sharey=True)\n",
    "fig = go.Figure()\n",
    "\n",
    "correlations = {}\n",
    "\n",
    "# Iterate over the allele_outputs dictionary and titles list\n",
    "for i, title in enumerate(models_outputs.keys()):\n",
    "    allele_outputs = models_outputs[title]\n",
    "\n",
    "    # Extract sample names and values from the dictionary\n",
    "    labels = [f\"{x} D:{allele_outputs[x]['distance']:.1f} N{(clust_dfi['allele'] == x).sum()}\" for x in allele_outputs if 'total' not in x]\n",
    "    values = [allele_outputs[x]['auc'] for x in allele_outputs if 'total' not in x]\n",
    "\n",
    "    # Create a Plotly bar plot\n",
    "    #fig = go.Figure(data=[go.Bar(x=labels, y=values)])\n",
    "    fig.add_trace(go.Bar(x=labels, y=values, name=title))\n",
    "\n",
    "    # Customize the layout if needed\n",
    "fig.update_layout(title='AUC per test allele', xaxis_title='Sample Names and avg distance', yaxis_title='Values')\n",
    "\n",
    "# Adjust layout and show the plot\n",
    "# plt.tight_layout()\n",
    "fig.show()\n",
    "fig.write_image(\"/home/dmarz/3D-Vac/reports/figures/AUCperAllele.pdf\")\n",
    "\n",
    "#%% Plot regplot\n",
    "\n",
    "fig, axes = plt.subplots(1, len(models_outputs), figsize=(20, 5), sharey=True)\n",
    "correlations = {}\n",
    "\n",
    "# Iterate over the allele_outputs dictionary and titles list\n",
    "for i, title in enumerate(models_outputs.keys()):\n",
    "    allele_outputs = models_outputs[title]\n",
    "    x = [allele_outputs[x]['distance'] for x in allele_outputs if 'total' not in x]\n",
    "    y = [allele_outputs[x]['auc'] for x in allele_outputs if 'total' not in x]\n",
    "    \n",
    "    correlations[title] = np.corrcoef(x, y)[0][1]\n",
    "    \n",
    "    # Create scatter plot with regression line\n",
    "    sns.regplot(x=x, y=y, ci=99, n_boot=1000, ax=axes[i]) #lowess=True)\n",
    "    axes[i].axhline(0.5, linestyle='-.', color='red', label='Baseline')\n",
    "    axes[i].axhline(np.mean(y), linestyle='--', color='green', label='Average AUC')\n",
    "    axes[i].axhline(np.mean(allele_outputs['total_auc']), linestyle='--', color='cyan', label='Total AUC')\n",
    "    \n",
    "    # Customize individual subplot\n",
    "    axes[i].set_title(f'{title} Pearson:{correlations[title]:.2f}')\n",
    "    axes[i].set_xlabel('Evo distance from training')\n",
    "    axes[i].set_ylabel('AUC')\n",
    "    \n",
    "    if i == 0:\n",
    "        axes[i].legend(labels=['Sample', 'Regression', 'Confidence Interval', 'Random Predictor', 'Average (un-weighted) AUC', 'Total AUC'])\n",
    "\n",
    "# Set common y-label for all subplots\n",
    "axes[0].set_ylabel('AUC')\n",
    "axes[0].set_ylim(0,1.0)\n",
    "\n",
    "# Adjust layout and show the plot\n",
    "plt.tight_layout()\n",
    "plt.show()\n",
    "\n",
    "\n",
    "#%% Plot scatterplot\n",
    "\n",
    "fig, axes = plt.subplots(1, len(models_outputs), figsize=(20, 5), sharey=True)\n",
    "correlations = {}\n",
    "\n",
    "# Iterate over the allele_outputs dictionary and titles list\n",
    "for i, title in enumerate(models_outputs.keys()):\n",
    "    allele_outputs = models_outputs[title]\n",
    "    x = [allele_outputs[x]['distance'] for x in allele_outputs if 'total' not in x]\n",
    "    y = [allele_outputs[x]['auc'] for x in allele_outputs if 'total' not in x]\n",
    "    \n",
    "    correlations[title] = np.corrcoef(x, y)[0][1]\n",
    "    \n",
    "    # Create scatter plot with regression line\n",
    "    axes[i].plot(x, y, '.') #lowess=True)\n",
    "    axes[i].axhline(0.5, linestyle='-.', color='red', label='Baseline')\n",
    "    #axes[i].axhline(np.mean(y), linestyle='--', color='green', label='Average AUC')\n",
    "    #axes[i].axhline(np.mean(allele_outputs['total_auc']), linestyle='--', color='cyan', label='Total AUC')\n",
    "    \n",
    "    # Customize individual subplot\n",
    "    axes[i].set_title(f'{title} Pearson:{correlations[title]:.2f}')\n",
    "    axes[i].set_xlabel('Evo distance from training')\n",
    "    axes[i].set_ylabel('AUC')\n",
    "    \n",
    "    if i == 0:\n",
    "        axes[i].legend(labels=['Sample', 'Random Predictor'])\n",
    "\n",
    "# Set common y-label for all subplots\n",
    "axes[0].set_ylabel('AUC')\n",
    "axes[0].set_ylim(0,1.0)\n",
    "\n",
    "# Adjust layout and show the plot\n",
    "plt.tight_layout()\n",
    "plt.show()\n",
    "\n",
    "plt.clf()\n",
    "print([(x, models_outputs[x]['total_auc']) for x in models_outputs])\n",
    "plt.bar([x for x in models_outputs], [models_outputs[x]['total_auc'] for x in models_outputs])\n",
    "plt.ylim(0.5,1.0)\n",
    "plt.show()\n",
    "\n",
    "# fig = go.Figure()\n",
    "# for x in models_outputs:\n",
    "#     fig.add_trace(go.Bar(x=models_outputs[x], y=models_outputs[x]['total_auc'], name=title))\n"
   ]
  },
  {
   "cell_type": "markdown",
   "metadata": {},
   "source": [
    "### Plot shuffled set performances"
   ]
  },
  {
   "cell_type": "code",
   "execution_count": 15,
   "metadata": {},
   "outputs": [
    {
     "data": {
      "application/vnd.plotly.v1+json": {
       "config": {
        "plotlyServerURL": "https://plot.ly"
       },
       "data": [
        {
         "type": "bar",
         "x": [
          "CNN",
          "GNN",
          "EGNN",
          "SSL_woT",
          "SSL_T",
          "MHCflurry",
          "MLP"
         ],
         "y": [
          0.8571122982726461,
          0.8558345956142034,
          0.8710504014272971,
          0.6523308350407313,
          0.6556257029998448,
          0.8146540477715316,
          0.9047854999594517
         ]
        }
       ],
       "layout": {
        "template": {
         "data": {
          "bar": [
           {
            "error_x": {
             "color": "#2a3f5f"
            },
            "error_y": {
             "color": "#2a3f5f"
            },
            "marker": {
             "line": {
              "color": "#E5ECF6",
              "width": 0.5
             },
             "pattern": {
              "fillmode": "overlay",
              "size": 10,
              "solidity": 0.2
             }
            },
            "type": "bar"
           }
          ],
          "barpolar": [
           {
            "marker": {
             "line": {
              "color": "#E5ECF6",
              "width": 0.5
             },
             "pattern": {
              "fillmode": "overlay",
              "size": 10,
              "solidity": 0.2
             }
            },
            "type": "barpolar"
           }
          ],
          "carpet": [
           {
            "aaxis": {
             "endlinecolor": "#2a3f5f",
             "gridcolor": "white",
             "linecolor": "white",
             "minorgridcolor": "white",
             "startlinecolor": "#2a3f5f"
            },
            "baxis": {
             "endlinecolor": "#2a3f5f",
             "gridcolor": "white",
             "linecolor": "white",
             "minorgridcolor": "white",
             "startlinecolor": "#2a3f5f"
            },
            "type": "carpet"
           }
          ],
          "choropleth": [
           {
            "colorbar": {
             "outlinewidth": 0,
             "ticks": ""
            },
            "type": "choropleth"
           }
          ],
          "contour": [
           {
            "colorbar": {
             "outlinewidth": 0,
             "ticks": ""
            },
            "colorscale": [
             [
              0,
              "#0d0887"
             ],
             [
              0.1111111111111111,
              "#46039f"
             ],
             [
              0.2222222222222222,
              "#7201a8"
             ],
             [
              0.3333333333333333,
              "#9c179e"
             ],
             [
              0.4444444444444444,
              "#bd3786"
             ],
             [
              0.5555555555555556,
              "#d8576b"
             ],
             [
              0.6666666666666666,
              "#ed7953"
             ],
             [
              0.7777777777777778,
              "#fb9f3a"
             ],
             [
              0.8888888888888888,
              "#fdca26"
             ],
             [
              1,
              "#f0f921"
             ]
            ],
            "type": "contour"
           }
          ],
          "contourcarpet": [
           {
            "colorbar": {
             "outlinewidth": 0,
             "ticks": ""
            },
            "type": "contourcarpet"
           }
          ],
          "heatmap": [
           {
            "colorbar": {
             "outlinewidth": 0,
             "ticks": ""
            },
            "colorscale": [
             [
              0,
              "#0d0887"
             ],
             [
              0.1111111111111111,
              "#46039f"
             ],
             [
              0.2222222222222222,
              "#7201a8"
             ],
             [
              0.3333333333333333,
              "#9c179e"
             ],
             [
              0.4444444444444444,
              "#bd3786"
             ],
             [
              0.5555555555555556,
              "#d8576b"
             ],
             [
              0.6666666666666666,
              "#ed7953"
             ],
             [
              0.7777777777777778,
              "#fb9f3a"
             ],
             [
              0.8888888888888888,
              "#fdca26"
             ],
             [
              1,
              "#f0f921"
             ]
            ],
            "type": "heatmap"
           }
          ],
          "heatmapgl": [
           {
            "colorbar": {
             "outlinewidth": 0,
             "ticks": ""
            },
            "colorscale": [
             [
              0,
              "#0d0887"
             ],
             [
              0.1111111111111111,
              "#46039f"
             ],
             [
              0.2222222222222222,
              "#7201a8"
             ],
             [
              0.3333333333333333,
              "#9c179e"
             ],
             [
              0.4444444444444444,
              "#bd3786"
             ],
             [
              0.5555555555555556,
              "#d8576b"
             ],
             [
              0.6666666666666666,
              "#ed7953"
             ],
             [
              0.7777777777777778,
              "#fb9f3a"
             ],
             [
              0.8888888888888888,
              "#fdca26"
             ],
             [
              1,
              "#f0f921"
             ]
            ],
            "type": "heatmapgl"
           }
          ],
          "histogram": [
           {
            "marker": {
             "pattern": {
              "fillmode": "overlay",
              "size": 10,
              "solidity": 0.2
             }
            },
            "type": "histogram"
           }
          ],
          "histogram2d": [
           {
            "colorbar": {
             "outlinewidth": 0,
             "ticks": ""
            },
            "colorscale": [
             [
              0,
              "#0d0887"
             ],
             [
              0.1111111111111111,
              "#46039f"
             ],
             [
              0.2222222222222222,
              "#7201a8"
             ],
             [
              0.3333333333333333,
              "#9c179e"
             ],
             [
              0.4444444444444444,
              "#bd3786"
             ],
             [
              0.5555555555555556,
              "#d8576b"
             ],
             [
              0.6666666666666666,
              "#ed7953"
             ],
             [
              0.7777777777777778,
              "#fb9f3a"
             ],
             [
              0.8888888888888888,
              "#fdca26"
             ],
             [
              1,
              "#f0f921"
             ]
            ],
            "type": "histogram2d"
           }
          ],
          "histogram2dcontour": [
           {
            "colorbar": {
             "outlinewidth": 0,
             "ticks": ""
            },
            "colorscale": [
             [
              0,
              "#0d0887"
             ],
             [
              0.1111111111111111,
              "#46039f"
             ],
             [
              0.2222222222222222,
              "#7201a8"
             ],
             [
              0.3333333333333333,
              "#9c179e"
             ],
             [
              0.4444444444444444,
              "#bd3786"
             ],
             [
              0.5555555555555556,
              "#d8576b"
             ],
             [
              0.6666666666666666,
              "#ed7953"
             ],
             [
              0.7777777777777778,
              "#fb9f3a"
             ],
             [
              0.8888888888888888,
              "#fdca26"
             ],
             [
              1,
              "#f0f921"
             ]
            ],
            "type": "histogram2dcontour"
           }
          ],
          "mesh3d": [
           {
            "colorbar": {
             "outlinewidth": 0,
             "ticks": ""
            },
            "type": "mesh3d"
           }
          ],
          "parcoords": [
           {
            "line": {
             "colorbar": {
              "outlinewidth": 0,
              "ticks": ""
             }
            },
            "type": "parcoords"
           }
          ],
          "pie": [
           {
            "automargin": true,
            "type": "pie"
           }
          ],
          "scatter": [
           {
            "fillpattern": {
             "fillmode": "overlay",
             "size": 10,
             "solidity": 0.2
            },
            "type": "scatter"
           }
          ],
          "scatter3d": [
           {
            "line": {
             "colorbar": {
              "outlinewidth": 0,
              "ticks": ""
             }
            },
            "marker": {
             "colorbar": {
              "outlinewidth": 0,
              "ticks": ""
             }
            },
            "type": "scatter3d"
           }
          ],
          "scattercarpet": [
           {
            "marker": {
             "colorbar": {
              "outlinewidth": 0,
              "ticks": ""
             }
            },
            "type": "scattercarpet"
           }
          ],
          "scattergeo": [
           {
            "marker": {
             "colorbar": {
              "outlinewidth": 0,
              "ticks": ""
             }
            },
            "type": "scattergeo"
           }
          ],
          "scattergl": [
           {
            "marker": {
             "colorbar": {
              "outlinewidth": 0,
              "ticks": ""
             }
            },
            "type": "scattergl"
           }
          ],
          "scattermapbox": [
           {
            "marker": {
             "colorbar": {
              "outlinewidth": 0,
              "ticks": ""
             }
            },
            "type": "scattermapbox"
           }
          ],
          "scatterpolar": [
           {
            "marker": {
             "colorbar": {
              "outlinewidth": 0,
              "ticks": ""
             }
            },
            "type": "scatterpolar"
           }
          ],
          "scatterpolargl": [
           {
            "marker": {
             "colorbar": {
              "outlinewidth": 0,
              "ticks": ""
             }
            },
            "type": "scatterpolargl"
           }
          ],
          "scatterternary": [
           {
            "marker": {
             "colorbar": {
              "outlinewidth": 0,
              "ticks": ""
             }
            },
            "type": "scatterternary"
           }
          ],
          "surface": [
           {
            "colorbar": {
             "outlinewidth": 0,
             "ticks": ""
            },
            "colorscale": [
             [
              0,
              "#0d0887"
             ],
             [
              0.1111111111111111,
              "#46039f"
             ],
             [
              0.2222222222222222,
              "#7201a8"
             ],
             [
              0.3333333333333333,
              "#9c179e"
             ],
             [
              0.4444444444444444,
              "#bd3786"
             ],
             [
              0.5555555555555556,
              "#d8576b"
             ],
             [
              0.6666666666666666,
              "#ed7953"
             ],
             [
              0.7777777777777778,
              "#fb9f3a"
             ],
             [
              0.8888888888888888,
              "#fdca26"
             ],
             [
              1,
              "#f0f921"
             ]
            ],
            "type": "surface"
           }
          ],
          "table": [
           {
            "cells": {
             "fill": {
              "color": "#EBF0F8"
             },
             "line": {
              "color": "white"
             }
            },
            "header": {
             "fill": {
              "color": "#C8D4E3"
             },
             "line": {
              "color": "white"
             }
            },
            "type": "table"
           }
          ]
         },
         "layout": {
          "annotationdefaults": {
           "arrowcolor": "#2a3f5f",
           "arrowhead": 0,
           "arrowwidth": 1
          },
          "autotypenumbers": "strict",
          "coloraxis": {
           "colorbar": {
            "outlinewidth": 0,
            "ticks": ""
           }
          },
          "colorscale": {
           "diverging": [
            [
             0,
             "#8e0152"
            ],
            [
             0.1,
             "#c51b7d"
            ],
            [
             0.2,
             "#de77ae"
            ],
            [
             0.3,
             "#f1b6da"
            ],
            [
             0.4,
             "#fde0ef"
            ],
            [
             0.5,
             "#f7f7f7"
            ],
            [
             0.6,
             "#e6f5d0"
            ],
            [
             0.7,
             "#b8e186"
            ],
            [
             0.8,
             "#7fbc41"
            ],
            [
             0.9,
             "#4d9221"
            ],
            [
             1,
             "#276419"
            ]
           ],
           "sequential": [
            [
             0,
             "#0d0887"
            ],
            [
             0.1111111111111111,
             "#46039f"
            ],
            [
             0.2222222222222222,
             "#7201a8"
            ],
            [
             0.3333333333333333,
             "#9c179e"
            ],
            [
             0.4444444444444444,
             "#bd3786"
            ],
            [
             0.5555555555555556,
             "#d8576b"
            ],
            [
             0.6666666666666666,
             "#ed7953"
            ],
            [
             0.7777777777777778,
             "#fb9f3a"
            ],
            [
             0.8888888888888888,
             "#fdca26"
            ],
            [
             1,
             "#f0f921"
            ]
           ],
           "sequentialminus": [
            [
             0,
             "#0d0887"
            ],
            [
             0.1111111111111111,
             "#46039f"
            ],
            [
             0.2222222222222222,
             "#7201a8"
            ],
            [
             0.3333333333333333,
             "#9c179e"
            ],
            [
             0.4444444444444444,
             "#bd3786"
            ],
            [
             0.5555555555555556,
             "#d8576b"
            ],
            [
             0.6666666666666666,
             "#ed7953"
            ],
            [
             0.7777777777777778,
             "#fb9f3a"
            ],
            [
             0.8888888888888888,
             "#fdca26"
            ],
            [
             1,
             "#f0f921"
            ]
           ]
          },
          "colorway": [
           "#636efa",
           "#EF553B",
           "#00cc96",
           "#ab63fa",
           "#FFA15A",
           "#19d3f3",
           "#FF6692",
           "#B6E880",
           "#FF97FF",
           "#FECB52"
          ],
          "font": {
           "color": "#2a3f5f"
          },
          "geo": {
           "bgcolor": "white",
           "lakecolor": "white",
           "landcolor": "#E5ECF6",
           "showlakes": true,
           "showland": true,
           "subunitcolor": "white"
          },
          "hoverlabel": {
           "align": "left"
          },
          "hovermode": "closest",
          "mapbox": {
           "style": "light"
          },
          "paper_bgcolor": "white",
          "plot_bgcolor": "#E5ECF6",
          "polar": {
           "angularaxis": {
            "gridcolor": "white",
            "linecolor": "white",
            "ticks": ""
           },
           "bgcolor": "#E5ECF6",
           "radialaxis": {
            "gridcolor": "white",
            "linecolor": "white",
            "ticks": ""
           }
          },
          "scene": {
           "xaxis": {
            "backgroundcolor": "#E5ECF6",
            "gridcolor": "white",
            "gridwidth": 2,
            "linecolor": "white",
            "showbackground": true,
            "ticks": "",
            "zerolinecolor": "white"
           },
           "yaxis": {
            "backgroundcolor": "#E5ECF6",
            "gridcolor": "white",
            "gridwidth": 2,
            "linecolor": "white",
            "showbackground": true,
            "ticks": "",
            "zerolinecolor": "white"
           },
           "zaxis": {
            "backgroundcolor": "#E5ECF6",
            "gridcolor": "white",
            "gridwidth": 2,
            "linecolor": "white",
            "showbackground": true,
            "ticks": "",
            "zerolinecolor": "white"
           }
          },
          "shapedefaults": {
           "line": {
            "color": "#2a3f5f"
           }
          },
          "ternary": {
           "aaxis": {
            "gridcolor": "white",
            "linecolor": "white",
            "ticks": ""
           },
           "baxis": {
            "gridcolor": "white",
            "linecolor": "white",
            "ticks": ""
           },
           "bgcolor": "#E5ECF6",
           "caxis": {
            "gridcolor": "white",
            "linecolor": "white",
            "ticks": ""
           }
          },
          "title": {
           "x": 0.05
          },
          "xaxis": {
           "automargin": true,
           "gridcolor": "white",
           "linecolor": "white",
           "ticks": "",
           "title": {
            "standoff": 15
           },
           "zerolinecolor": "white",
           "zerolinewidth": 2
          },
          "yaxis": {
           "automargin": true,
           "gridcolor": "white",
           "linecolor": "white",
           "ticks": "",
           "title": {
            "standoff": 15
           },
           "zerolinecolor": "white",
           "zerolinewidth": 2
          }
         }
        }
       }
      },
      "text/html": [
       "<div>                            <div id=\"7a8f124d-6d2a-4028-b728-e13015d2a83e\" class=\"plotly-graph-div\" style=\"height:525px; width:100%;\"></div>            <script type=\"text/javascript\">                require([\"plotly\"], function(Plotly) {                    window.PLOTLYENV=window.PLOTLYENV || {};                                    if (document.getElementById(\"7a8f124d-6d2a-4028-b728-e13015d2a83e\")) {                    Plotly.newPlot(                        \"7a8f124d-6d2a-4028-b728-e13015d2a83e\",                        [{\"x\":[\"CNN\",\"GNN\",\"EGNN\",\"SSL_woT\",\"SSL_T\",\"MHCflurry\",\"MLP\"],\"y\":[0.8571122982726461,0.8558345956142034,0.8710504014272971,0.6523308350407313,0.6556257029998448,0.8146540477715316,0.9047854999594517],\"type\":\"bar\"}],                        {\"template\":{\"data\":{\"histogram2dcontour\":[{\"type\":\"histogram2dcontour\",\"colorbar\":{\"outlinewidth\":0,\"ticks\":\"\"},\"colorscale\":[[0.0,\"#0d0887\"],[0.1111111111111111,\"#46039f\"],[0.2222222222222222,\"#7201a8\"],[0.3333333333333333,\"#9c179e\"],[0.4444444444444444,\"#bd3786\"],[0.5555555555555556,\"#d8576b\"],[0.6666666666666666,\"#ed7953\"],[0.7777777777777778,\"#fb9f3a\"],[0.8888888888888888,\"#fdca26\"],[1.0,\"#f0f921\"]]}],\"choropleth\":[{\"type\":\"choropleth\",\"colorbar\":{\"outlinewidth\":0,\"ticks\":\"\"}}],\"histogram2d\":[{\"type\":\"histogram2d\",\"colorbar\":{\"outlinewidth\":0,\"ticks\":\"\"},\"colorscale\":[[0.0,\"#0d0887\"],[0.1111111111111111,\"#46039f\"],[0.2222222222222222,\"#7201a8\"],[0.3333333333333333,\"#9c179e\"],[0.4444444444444444,\"#bd3786\"],[0.5555555555555556,\"#d8576b\"],[0.6666666666666666,\"#ed7953\"],[0.7777777777777778,\"#fb9f3a\"],[0.8888888888888888,\"#fdca26\"],[1.0,\"#f0f921\"]]}],\"heatmap\":[{\"type\":\"heatmap\",\"colorbar\":{\"outlinewidth\":0,\"ticks\":\"\"},\"colorscale\":[[0.0,\"#0d0887\"],[0.1111111111111111,\"#46039f\"],[0.2222222222222222,\"#7201a8\"],[0.3333333333333333,\"#9c179e\"],[0.4444444444444444,\"#bd3786\"],[0.5555555555555556,\"#d8576b\"],[0.6666666666666666,\"#ed7953\"],[0.7777777777777778,\"#fb9f3a\"],[0.8888888888888888,\"#fdca26\"],[1.0,\"#f0f921\"]]}],\"heatmapgl\":[{\"type\":\"heatmapgl\",\"colorbar\":{\"outlinewidth\":0,\"ticks\":\"\"},\"colorscale\":[[0.0,\"#0d0887\"],[0.1111111111111111,\"#46039f\"],[0.2222222222222222,\"#7201a8\"],[0.3333333333333333,\"#9c179e\"],[0.4444444444444444,\"#bd3786\"],[0.5555555555555556,\"#d8576b\"],[0.6666666666666666,\"#ed7953\"],[0.7777777777777778,\"#fb9f3a\"],[0.8888888888888888,\"#fdca26\"],[1.0,\"#f0f921\"]]}],\"contourcarpet\":[{\"type\":\"contourcarpet\",\"colorbar\":{\"outlinewidth\":0,\"ticks\":\"\"}}],\"contour\":[{\"type\":\"contour\",\"colorbar\":{\"outlinewidth\":0,\"ticks\":\"\"},\"colorscale\":[[0.0,\"#0d0887\"],[0.1111111111111111,\"#46039f\"],[0.2222222222222222,\"#7201a8\"],[0.3333333333333333,\"#9c179e\"],[0.4444444444444444,\"#bd3786\"],[0.5555555555555556,\"#d8576b\"],[0.6666666666666666,\"#ed7953\"],[0.7777777777777778,\"#fb9f3a\"],[0.8888888888888888,\"#fdca26\"],[1.0,\"#f0f921\"]]}],\"surface\":[{\"type\":\"surface\",\"colorbar\":{\"outlinewidth\":0,\"ticks\":\"\"},\"colorscale\":[[0.0,\"#0d0887\"],[0.1111111111111111,\"#46039f\"],[0.2222222222222222,\"#7201a8\"],[0.3333333333333333,\"#9c179e\"],[0.4444444444444444,\"#bd3786\"],[0.5555555555555556,\"#d8576b\"],[0.6666666666666666,\"#ed7953\"],[0.7777777777777778,\"#fb9f3a\"],[0.8888888888888888,\"#fdca26\"],[1.0,\"#f0f921\"]]}],\"mesh3d\":[{\"type\":\"mesh3d\",\"colorbar\":{\"outlinewidth\":0,\"ticks\":\"\"}}],\"scatter\":[{\"fillpattern\":{\"fillmode\":\"overlay\",\"size\":10,\"solidity\":0.2},\"type\":\"scatter\"}],\"parcoords\":[{\"type\":\"parcoords\",\"line\":{\"colorbar\":{\"outlinewidth\":0,\"ticks\":\"\"}}}],\"scatterpolargl\":[{\"type\":\"scatterpolargl\",\"marker\":{\"colorbar\":{\"outlinewidth\":0,\"ticks\":\"\"}}}],\"bar\":[{\"error_x\":{\"color\":\"#2a3f5f\"},\"error_y\":{\"color\":\"#2a3f5f\"},\"marker\":{\"line\":{\"color\":\"#E5ECF6\",\"width\":0.5},\"pattern\":{\"fillmode\":\"overlay\",\"size\":10,\"solidity\":0.2}},\"type\":\"bar\"}],\"scattergeo\":[{\"type\":\"scattergeo\",\"marker\":{\"colorbar\":{\"outlinewidth\":0,\"ticks\":\"\"}}}],\"scatterpolar\":[{\"type\":\"scatterpolar\",\"marker\":{\"colorbar\":{\"outlinewidth\":0,\"ticks\":\"\"}}}],\"histogram\":[{\"marker\":{\"pattern\":{\"fillmode\":\"overlay\",\"size\":10,\"solidity\":0.2}},\"type\":\"histogram\"}],\"scattergl\":[{\"type\":\"scattergl\",\"marker\":{\"colorbar\":{\"outlinewidth\":0,\"ticks\":\"\"}}}],\"scatter3d\":[{\"type\":\"scatter3d\",\"line\":{\"colorbar\":{\"outlinewidth\":0,\"ticks\":\"\"}},\"marker\":{\"colorbar\":{\"outlinewidth\":0,\"ticks\":\"\"}}}],\"scattermapbox\":[{\"type\":\"scattermapbox\",\"marker\":{\"colorbar\":{\"outlinewidth\":0,\"ticks\":\"\"}}}],\"scatterternary\":[{\"type\":\"scatterternary\",\"marker\":{\"colorbar\":{\"outlinewidth\":0,\"ticks\":\"\"}}}],\"scattercarpet\":[{\"type\":\"scattercarpet\",\"marker\":{\"colorbar\":{\"outlinewidth\":0,\"ticks\":\"\"}}}],\"carpet\":[{\"aaxis\":{\"endlinecolor\":\"#2a3f5f\",\"gridcolor\":\"white\",\"linecolor\":\"white\",\"minorgridcolor\":\"white\",\"startlinecolor\":\"#2a3f5f\"},\"baxis\":{\"endlinecolor\":\"#2a3f5f\",\"gridcolor\":\"white\",\"linecolor\":\"white\",\"minorgridcolor\":\"white\",\"startlinecolor\":\"#2a3f5f\"},\"type\":\"carpet\"}],\"table\":[{\"cells\":{\"fill\":{\"color\":\"#EBF0F8\"},\"line\":{\"color\":\"white\"}},\"header\":{\"fill\":{\"color\":\"#C8D4E3\"},\"line\":{\"color\":\"white\"}},\"type\":\"table\"}],\"barpolar\":[{\"marker\":{\"line\":{\"color\":\"#E5ECF6\",\"width\":0.5},\"pattern\":{\"fillmode\":\"overlay\",\"size\":10,\"solidity\":0.2}},\"type\":\"barpolar\"}],\"pie\":[{\"automargin\":true,\"type\":\"pie\"}]},\"layout\":{\"autotypenumbers\":\"strict\",\"colorway\":[\"#636efa\",\"#EF553B\",\"#00cc96\",\"#ab63fa\",\"#FFA15A\",\"#19d3f3\",\"#FF6692\",\"#B6E880\",\"#FF97FF\",\"#FECB52\"],\"font\":{\"color\":\"#2a3f5f\"},\"hovermode\":\"closest\",\"hoverlabel\":{\"align\":\"left\"},\"paper_bgcolor\":\"white\",\"plot_bgcolor\":\"#E5ECF6\",\"polar\":{\"bgcolor\":\"#E5ECF6\",\"angularaxis\":{\"gridcolor\":\"white\",\"linecolor\":\"white\",\"ticks\":\"\"},\"radialaxis\":{\"gridcolor\":\"white\",\"linecolor\":\"white\",\"ticks\":\"\"}},\"ternary\":{\"bgcolor\":\"#E5ECF6\",\"aaxis\":{\"gridcolor\":\"white\",\"linecolor\":\"white\",\"ticks\":\"\"},\"baxis\":{\"gridcolor\":\"white\",\"linecolor\":\"white\",\"ticks\":\"\"},\"caxis\":{\"gridcolor\":\"white\",\"linecolor\":\"white\",\"ticks\":\"\"}},\"coloraxis\":{\"colorbar\":{\"outlinewidth\":0,\"ticks\":\"\"}},\"colorscale\":{\"sequential\":[[0.0,\"#0d0887\"],[0.1111111111111111,\"#46039f\"],[0.2222222222222222,\"#7201a8\"],[0.3333333333333333,\"#9c179e\"],[0.4444444444444444,\"#bd3786\"],[0.5555555555555556,\"#d8576b\"],[0.6666666666666666,\"#ed7953\"],[0.7777777777777778,\"#fb9f3a\"],[0.8888888888888888,\"#fdca26\"],[1.0,\"#f0f921\"]],\"sequentialminus\":[[0.0,\"#0d0887\"],[0.1111111111111111,\"#46039f\"],[0.2222222222222222,\"#7201a8\"],[0.3333333333333333,\"#9c179e\"],[0.4444444444444444,\"#bd3786\"],[0.5555555555555556,\"#d8576b\"],[0.6666666666666666,\"#ed7953\"],[0.7777777777777778,\"#fb9f3a\"],[0.8888888888888888,\"#fdca26\"],[1.0,\"#f0f921\"]],\"diverging\":[[0,\"#8e0152\"],[0.1,\"#c51b7d\"],[0.2,\"#de77ae\"],[0.3,\"#f1b6da\"],[0.4,\"#fde0ef\"],[0.5,\"#f7f7f7\"],[0.6,\"#e6f5d0\"],[0.7,\"#b8e186\"],[0.8,\"#7fbc41\"],[0.9,\"#4d9221\"],[1,\"#276419\"]]},\"xaxis\":{\"gridcolor\":\"white\",\"linecolor\":\"white\",\"ticks\":\"\",\"title\":{\"standoff\":15},\"zerolinecolor\":\"white\",\"automargin\":true,\"zerolinewidth\":2},\"yaxis\":{\"gridcolor\":\"white\",\"linecolor\":\"white\",\"ticks\":\"\",\"title\":{\"standoff\":15},\"zerolinecolor\":\"white\",\"automargin\":true,\"zerolinewidth\":2},\"scene\":{\"xaxis\":{\"backgroundcolor\":\"#E5ECF6\",\"gridcolor\":\"white\",\"linecolor\":\"white\",\"showbackground\":true,\"ticks\":\"\",\"zerolinecolor\":\"white\",\"gridwidth\":2},\"yaxis\":{\"backgroundcolor\":\"#E5ECF6\",\"gridcolor\":\"white\",\"linecolor\":\"white\",\"showbackground\":true,\"ticks\":\"\",\"zerolinecolor\":\"white\",\"gridwidth\":2},\"zaxis\":{\"backgroundcolor\":\"#E5ECF6\",\"gridcolor\":\"white\",\"linecolor\":\"white\",\"showbackground\":true,\"ticks\":\"\",\"zerolinecolor\":\"white\",\"gridwidth\":2}},\"shapedefaults\":{\"line\":{\"color\":\"#2a3f5f\"}},\"annotationdefaults\":{\"arrowcolor\":\"#2a3f5f\",\"arrowhead\":0,\"arrowwidth\":1},\"geo\":{\"bgcolor\":\"white\",\"landcolor\":\"#E5ECF6\",\"subunitcolor\":\"white\",\"showland\":true,\"showlakes\":true,\"lakecolor\":\"white\"},\"title\":{\"x\":0.05},\"mapbox\":{\"style\":\"light\"}}}},                        {\"responsive\": true}                    ).then(function(){\n",
       "                            \n",
       "var gd = document.getElementById('7a8f124d-6d2a-4028-b728-e13015d2a83e');\n",
       "var x = new MutationObserver(function (mutations, observer) {{\n",
       "        var display = window.getComputedStyle(gd).display;\n",
       "        if (!display || display === 'none') {{\n",
       "            console.log([gd, 'removed!']);\n",
       "            Plotly.purge(gd);\n",
       "            observer.disconnect();\n",
       "        }}\n",
       "}});\n",
       "\n",
       "// Listen for the removal of the full notebook cells\n",
       "var notebookContainer = gd.closest('#notebook-container');\n",
       "if (notebookContainer) {{\n",
       "    x.observe(notebookContainer, {childList: true});\n",
       "}}\n",
       "\n",
       "// Listen for the clearing of the current output cell\n",
       "var outputEl = gd.closest('.output');\n",
       "if (outputEl) {{\n",
       "    x.observe(outputEl, {childList: true});\n",
       "}}\n",
       "\n",
       "                        })                };                });            </script>        </div>"
      ]
     },
     "metadata": {},
     "output_type": "display_data"
    },
    {
     "data": {
      "text/plain": [
       "{'CNN': 0.8571122982726461,\n",
       " 'GNN': 0.8558345956142034,\n",
       " 'EGNN': 0.8710504014272971,\n",
       " 'SSL_woT': 0.6523308350407313,\n",
       " 'SSL_T': 0.6556257029998448,\n",
       " 'MHCflurry': 0.8146540477715316,\n",
       " 'MLP': 0.9047854999594517}"
      ]
     },
     "execution_count": 15,
     "metadata": {},
     "output_type": "execute_result"
    }
   ],
   "source": [
    "\n",
    "#%% Shuffled performances\n",
    "\n",
    "#dfi = pd.read_csv('/projects/0/einf2380/data/external/processed/I/experiments/BA_pMHCI_human_quantitative_only_eq_pseudoseq_clustered_test.csv')\n",
    "shuff_dfi = pd.read_csv('/projects/0/einf2380/data/external/processed/I/experiments/BA_pMHCI_human_quantitative_only_eq_shuffled_test.csv')\n",
    "shuff_dfi['label'] = np.where(shuff_dfi['measurement_value'] < 500, 1.0, 0.0)\n",
    "\n",
    "#models_outputs = {}\n",
    "AUCs = {}\n",
    "AUPRCs = {}\n",
    "\n",
    "title = 'CNN'\n",
    "dfot = pd.read_csv('/projects/0/einf2380/data/pop_paper_data/cnn_outputs/shuffled_cnn_outputs.csv')\n",
    "#dfot = dfo[dfo['PHASE'].str.contains('testing', case=False)]\n",
    "dfot['TARGET'] = dfot['TARGET'].astype(float)\n",
    "dfot['ID'] = dfot['KEY']\n",
    "\n",
    "AUCs[title] = get_shuff_auc(title, dfot, shuff_dfi)\n",
    "AUPRCs[title] = get_shuff_auprc(title, dfot, shuff_dfi)\n",
    "\n",
    "# GNN outputs\n",
    "title = 'GNN'\n",
    "dfot = pd.read_hdf(\n",
    "    '/projects/0/einf2380/data/pMHCI/trained_models/deeprank2/experiments/exp_100k_std_transf_bs64_naivegnn1_wloss_0_230607/output/output_exporter.hdf5'\n",
    "                  , key=\"testing\")\n",
    "dfot['entry']= [x.split(':')[2] for x in dfot['entry']]\n",
    "dfot['ID'] = dfot['entry']\n",
    "dfot['output']= [x[1] for x in dfot['output']]\n",
    "\n",
    "AUCs[title] = get_shuff_auc(title, dfot, shuff_dfi)\n",
    "AUPRCs[title] = get_shuff_auprc(title, dfot, shuff_dfi)\n",
    "\n",
    "#%% EGNN outputs\n",
    "def sigmoid(x):\n",
    "    return np.exp(-np.logaddexp(0, -x))\n",
    "title = 'EGNN'\n",
    "dfo = pd.read_csv('/projects/0/einf2380/data/pop_paper_data/egnn_outputs/egnn_supervised_shuffle.csv')\n",
    "dfot = dfo[dfo['PHASE'].str.contains('validation', case=False)]\n",
    "dfot['OUTPUT_1']=sigmoid(dfot['OUTPUT_0'])\n",
    "dfot['TARGET'] = dfot['TARGET'].astype(float)\n",
    "dfot['ID'] = dfot['KEY']\n",
    "\n",
    "AUCs[title] = get_shuff_auc(title, dfot, shuff_dfi)\n",
    "AUPRCs[title] = get_shuff_auprc(title, dfot, shuff_dfi)\n",
    "\n",
    "#%% SSL without TCRs outputs\n",
    "\n",
    "title = 'SSL_woT'\n",
    "dfo = pd.read_csv('/projects/0/einf2380/data/pop_paper_data/egnn_outputs/egnn_ssl_no_tcr_shuffle.csv')\n",
    "dfot = dfo[dfo['PHASE'].str.contains('validation', case=False)]\n",
    "dfot['OUTPUT_1']=sigmoid(dfot['OUTPUT_0'])\n",
    "dfot['TARGET'] = dfot['TARGET'].astype(float)\n",
    "dfot['ID'] = dfot['KEY']\n",
    "\n",
    "AUCs[title] = get_shuff_auc(title, dfot, shuff_dfi)\n",
    "AUPRCs[title] = get_shuff_auprc(title, dfot, shuff_dfi)\n",
    "\n",
    "#%% SSL with TCRs outputs\n",
    "\n",
    "title = 'SSL_T'\n",
    "dfo = pd.read_csv('/projects/0/einf2380/data/pop_paper_data/egnn_outputs/egnn_ssl_shuffle.csv')\n",
    "dfot = dfo[dfo['PHASE'].str.contains('validation', case=False)]\n",
    "dfot['OUTPUT_1']=sigmoid(dfot['OUTPUT_0'])\n",
    "dfot['TARGET'] = dfot['TARGET'].astype(float)\n",
    "dfot['ID'] = dfot['KEY']\n",
    "\n",
    "AUCs[title] = get_shuff_auc(title, dfot, shuff_dfi)\n",
    "AUPRCs[title] = get_shuff_auprc(title, dfot, shuff_dfi)\n",
    "\n",
    "\n",
    "#%% MHCflurry outputs\n",
    "title='MHCflurry'\n",
    "dfo = pd.read_csv('/projects/0/einf2380/data/pop_paper_data/mhcflurry_outputs/shuffled_mhcflurry_outputs.csv',\n",
    "                header=None, names=['ID', 'BA', 'OUTPUT_1'])\n",
    "\n",
    "AUCs[title] = get_shuff_auc(title, dfo, shuff_dfi)\n",
    "AUPRCs[title] = get_shuff_auprc(title, dfo, shuff_dfi)\n",
    "\n",
    "# #%% MHCflurry confirmed outputs\n",
    "# title='MHCflurry_confirm'\n",
    "# dfo = pd.read_csv('/projects/0/einf2380/data/pop_paper_data/mhcflurry_outputs/mhcflurry_confirm_shuffled.csv',\n",
    "#                 )\n",
    "# dfo['ID'] = dfo['KEY']\n",
    "# AUCs[title] = get_shuff_auc(title, dfo, shuff_dfi)\n",
    "\n",
    "#%% MLP \n",
    "title='MLP'\n",
    "dfo = pd.read_csv('/projects/0/einf2380/data/pop_paper_data/mlp_outputs/shuffled_mlp_outputs.csv',\n",
    "                header=None, names=['ID', 'BA', 'OUTPUT_1'])\n",
    "\n",
    "AUCs[title] = get_shuff_auc(title, dfo, shuff_dfi)\n",
    "AUPRCs[title] = get_shuff_auprc(title, dfo, shuff_dfi)\n",
    "\n",
    "#plt.bar(AUCs.keys(), AUCs.values())\n",
    "fig = go.Figure()\n",
    "fig.add_trace(go.Bar(x=list(AUCs.keys()), y=list(AUCs.values())))\n",
    "fig.show()\n",
    "AUCs"
   ]
  },
  {
   "cell_type": "markdown",
   "metadata": {},
   "source": [
    "### Reorder dictionaries for figure plotting"
   ]
  },
  {
   "cell_type": "code",
   "execution_count": 16,
   "metadata": {},
   "outputs": [],
   "source": [
    "#%% Reorder and rename\n",
    "\n",
    "allele_aucs = {x: models_outputs[x]['total_auc'] for x in models_outputs}\n",
    "allele_auprcs = {x: models_outputs[x]['total_auprc'] for x in models_outputs}\n",
    "#allele_aucs['3D-GPT'] = allele_aucs['SSL_T']\n",
    "#del allele_aucs['SSL_T']\n",
    "order = ['CNN', 'GNN', 'EGNN', 'MHCflurry', 'MLP', 'SSL_T', 'SSL_woT']\n",
    "allele_aucs = {x:allele_aucs[x] for x in order}\n",
    "allele_auprcs = {x:allele_auprcs[x] for x in order}\n",
    "\n",
    "#AUCs['3D-SSL'] = AUCs['SSL_T']\n",
    "#del AUCs['SSL_T']\n",
    "#AUCs.pop('SSL_woT')\n",
    "#AUCs.pop('SSL_T')\n",
    "AUCs = {x:AUCs[x] for x in order}\n",
    "AUPRCs = {x:AUPRCs[x] for x in order}\n"
   ]
  },
  {
   "cell_type": "markdown",
   "metadata": {},
   "source": [
    "### Barplot plotting for the manuscript"
   ]
  },
  {
   "cell_type": "code",
   "execution_count": 25,
   "metadata": {},
   "outputs": [],
   "source": [
    "def plot_barplot(x, y, color, xlabel, ylabel, title, \n",
    "                save=False, ylim=(0.5, 1.0), \n",
    "                baseline=False):\n",
    "    fig, ax = plt.subplots(1,1)\n",
    "\n",
    "    # Save the chart so we can loop through the bars below.\n",
    "    bars = plt.bar(\n",
    "        x=x,\n",
    "        height=y,\n",
    "        tick_label=x,\n",
    "        color=color\n",
    "    )\n",
    "\n",
    "    # Axis formatting.\n",
    "    ax.spines['top'].set_visible(False)\n",
    "    ax.spines['right'].set_visible(False)\n",
    "    ax.spines['left'].set_visible(False)\n",
    "    ax.spines['bottom'].set_color('#DDDDDD')\n",
    "    ax.tick_params(bottom=False, left=False)\n",
    "    ax.set_axisbelow(True)\n",
    "    ax.yaxis.grid(True, color='#EEEEEE')\n",
    "    ax.xaxis.grid(False)\n",
    "    ax.set_ylim(ylim)\n",
    "    if baseline:\n",
    "        plt.axhline(baseline, linestyle='-.', color='grey')\n",
    "\n",
    "    #ax.legend(x)\n",
    "    \n",
    "    # Add text annotations to the top of the bars.\n",
    "    #bar_color = bars[0].get_facecolor()\n",
    "    for bar in bars:\n",
    "      ax.text(\n",
    "          bar.get_x() + bar.get_width() / 2,\n",
    "          bar.get_height() + 0.02,\n",
    "          f'{bar.get_height():.2}',\n",
    "          horizontalalignment='center',\n",
    "          color=bar.get_facecolor(),\n",
    "          weight='bold'\n",
    "      )\n",
    "\n",
    "    # Add labels and a title.\n",
    "    ax.set_xlabel(xlabel, labelpad=15, color='#333333')\n",
    "    ax.set_ylabel(ylabel, labelpad=15, color='#333333')\n",
    "    ax.set_title(title, pad=15, color='#333333',\n",
    "                weight='bold')\n",
    "\n",
    "    \n",
    "    \n",
    "    fig.tight_layout()\n",
    "    \n",
    "    if save:\n",
    "        plt.savefig(f'{save}.png', dpi=400)\n",
    "        plt.savefig(f'{save}.pdf')\n"
   ]
  },
  {
   "cell_type": "markdown",
   "metadata": {},
   "source": [
    "### PLOT AUCs"
   ]
  },
  {
   "cell_type": "code",
   "execution_count": null,
   "metadata": {},
   "outputs": [],
   "source": []
  },
  {
   "cell_type": "code",
   "execution_count": 27,
   "metadata": {},
   "outputs": [
    {
     "data": {
      "image/png": "[encoded data removed]",
      "text/plain": [
       "<Figure size 640x480 with 1 Axes>"
      ]
     },
     "metadata": {},
     "output_type": "display_data"
    },
    {
     "data": {
      "image/png": "[encoded data removed]",
      "text/plain": [
       "<Figure size 640x480 with 1 Axes>"
      ]
     },
     "metadata": {},
     "output_type": "display_data"
    },
    {
     "data": {
      "image/png": "[encoded data removed]",
      "text/plain": [
       "<Figure size 640x480 with 1 Axes>"
      ]
     },
     "metadata": {},
     "output_type": "display_data"
    },
    {
     "data": {
      "image/png": "[encoded data removed]",
      "text/plain": [
       "<Figure size 640x480 with 1 Axes>"
      ]
     },
     "metadata": {},
     "output_type": "display_data"
    },
    {
     "data": {
      "image/png": "[encoded data removed]",
      "text/plain": [
       "<Figure size 640x480 with 1 Axes>"
      ]
     },
     "metadata": {},
     "output_type": "display_data"
    }
   ],
   "source": [
    "# Plot StrB and SeqB shuffled\n",
    "models = ['CNN', 'GNN', 'EGNN', 'MHCflurry', 'MLP']\n",
    "x = models\n",
    "y = [AUCs[key] for key in models]\n",
    "color = ['#5476E5','#5476E5', '#5476E5', '#030712', '#030712']\n",
    "xlabel='Neural Network'\n",
    "ylabel='AUC'\n",
    "title='AUC on Shuffled set'\n",
    "plot_barplot(x, y, color, xlabel, ylabel, title, save = f'/home/dmarz/3D-Vac/reports/figures/AUC_shuffled')\n",
    "\n",
    "# Plot StrB and SeqB clustered\n",
    "models = ['CNN', 'GNN', 'EGNN', 'MHCflurry', 'MLP']\n",
    "x = models\n",
    "y = [allele_aucs[key] for key in models]\n",
    "color = ['#5476E5','#5476E5', '#5476E5', '#030712', '#030712']\n",
    "xlabel='Neural Network'\n",
    "ylabel='AUC'\n",
    "title='AUC on Clustered set'\n",
    "\n",
    "plot_barplot(x, y, color, xlabel, ylabel, title, save = f'/home/dmarz/3D-Vac/reports/figures/AUC_clust_allele')\n",
    "\n",
    "# # Plot SSL\n",
    "# # Could add best StrB and best SeqB method as comparison\n",
    "# models = ['3D-SSL no TCR s', '3D-SSL TCR s', '3D-SSL no TCR c', '3D-SSL TCR c']\n",
    "# x = models\n",
    "# y = [AUCs[key] for key in ['SSL_woT', 'SSL_T']] + [allele_aucs[key] for key in ['SSL_woT', 'SSL_T']]\n",
    "# color = ['#c07715','#31872b', '#c07715', '#31872b'] #['#c07715','#c59063', '#31872b', '#6e8e77']\n",
    "# #xlabel='Neural Network'\n",
    "# xlabel=''\n",
    "# ylabel='AUC'\n",
    "# title='AUC 3D-SSL'\n",
    "\n",
    "# plot_barplot(x, y, color, xlabel, ylabel, title, save = f'/home/dmarz/3D-Vac/reports/figures/AUC_SSL')\n",
    "\n",
    "# Plot SSL summary\n",
    "# Could add best StrB and best SeqB method as comparison\n",
    "models = ['EGNN', 'MHCflurry', 'MLP', '3D-SSL']\n",
    "x = models\n",
    "y = [allele_aucs[key] for key in ['EGNN', 'MHCflurry', 'MLP', 'SSL_T']]\n",
    "color = ['#5476E5', '#030712', '#030712', '#31872b']\n",
    "xlabel=''\n",
    "ylabel='AUC'\n",
    "title='Best Models AUC'\n",
    "\n",
    "plot_barplot(x, y, color, xlabel, ylabel, title, ylim=(0.0, 1.0), save = f'/home/dmarz/3D-Vac/reports/figures/SSL_summary_AUC')\n",
    "\n",
    "\n",
    "models = ['EGNN', 'MHCflurry', 'MLP']\n",
    "x = models\n",
    "y = [AUCs[key] for key in models]\n",
    "color = ['#5476E5', '#030712', '#030712']\n",
    "xlabel='Neural Network'\n",
    "ylabel='AUC'\n",
    "title='AUC on Shuffled set'\n",
    "plot_barplot(x, y, color, xlabel, ylabel, title, ylim=(0.0, 1.0))#, save = f'/home/dmarz/3D-Vac/reports/figures/AUC_shuffled')\n",
    "\n",
    "\n",
    "models = ['EGNN', 'MHCflurry', 'MLP']#, '3D-SSL']\n",
    "x = models\n",
    "y = [allele_aucs[key] for key in ['EGNN', 'MHCflurry', 'MLP']]#, 'SSL_T']]\n",
    "color = ['#5476E5', '#030712', '#030712']#, '#3B3B3B']\n",
    "xlabel=''\n",
    "ylabel='AUC'\n",
    "title='AUC on Allele Clustered Set'\n",
    "\n",
    "plot_barplot(x, y, color, xlabel, ylabel, title, ylim=(0.0, 1.0))#, save = f'/home/dmarz/3D-Vac/reports/figures/SSL_summary_AUC')\n"
   ]
  },
  {
   "cell_type": "markdown",
   "metadata": {},
   "source": [
    "### PLOT AUPRCs"
   ]
  },
  {
   "cell_type": "code",
   "execution_count": null,
   "metadata": {},
   "outputs": [
    {
     "data": {
      "image/png": "[encoded data removed]",
      "text/plain": [
       "<Figure size 640x480 with 1 Axes>"
      ]
     },
     "metadata": {},
     "output_type": "display_data"
    },
    {
     "data": {
      "image/png": "[encoded data removed]",
      "text/plain": [
       "<Figure size 640x480 with 1 Axes>"
      ]
     },
     "metadata": {},
     "output_type": "display_data"
    },
    {
     "data": {
      "image/png": "[encoded data removed]",
      "text/plain": [
       "<Figure size 640x480 with 1 Axes>"
      ]
     },
     "metadata": {},
     "output_type": "display_data"
    }
   ],
   "source": [
    "# Get AUPRC baseline values\n",
    "clust_baseline = len(clust_dfi[clust_dfi['label']==1.0])/len(clust_dfi)\n",
    "shuff_baseline = len(shuff_dfi[shuff_dfi['label']==1.0])/len(shuff_dfi)\n",
    "\n",
    "\n",
    "# Plot StrB and SeqB shuffled\n",
    "models = ['CNN', 'GNN', 'EGNN', 'MHCflurry', 'MLP']\n",
    "x = models\n",
    "y = [AUPRCs[key] for key in models]\n",
    "color = ['#5476E5','#5476E5', '#5476E5', '#030712', '#030712']\n",
    "xlabel='Neural Network'\n",
    "ylabel='AUPRC'\n",
    "title='AUPRC on Shuffled set'\n",
    "plot_barplot(x, y, color, xlabel, ylabel, title, \n",
    "            ylim=(shuff_baseline, 1.0),\n",
    "            save = f'/home/dmarz/3D-Vac/reports/figures/AUPRC_shuffled')\n",
    "\n",
    "# Plot StrB and SeqB clustered\n",
    "models = ['CNN', 'GNN', 'EGNN', 'MHCflurry', 'MLP']\n",
    "x = models\n",
    "y = [allele_auprcs[key] for key in models]\n",
    "color = ['#5476E5','#5476E5', '#5476E5', '#030712', '#030712']\n",
    "xlabel='Neural Network'\n",
    "ylabel='AUPRC'\n",
    "title='AUPRC on Clustered set'\n",
    "\n",
    "plot_barplot(x, y, color, xlabel, ylabel, title, \n",
    "                ylim=(clust_baseline, 1.0),\n",
    "                save = f'/home/dmarz/3D-Vac/reports/figures/AUPRC_clust_allele')\n",
    "\n",
    "# Plot SSL\n",
    "# Could add best StrB and best SeqB method as comparison\n",
    "models = ['3D-SSL TCR s', '3D-SSL no TCR s', '3D-SSL TCR c', '3D-SSL no TCR c']\n",
    "x = models\n",
    "y = [AUPRCs[key] for key in ['SSL_T', 'SSL_woT']] + [allele_auprcs[key] for key in ['SSL_T', 'SSL_woT']]\n",
    "color = ['#c07715','#c59063', '#31872b', '#6e8e77']\n",
    "xlabel='Neural Network'\n",
    "ylabel='AUPRC'\n",
    "title='AUPRC 3D-SSL'\n",
    "\n",
    "plot_barplot(x, y, color, xlabel, ylabel, title, save = f'/home/dmarz/3D-Vac/reports/figures/AUPRC_SSL')\n",
    "\n",
    "\n"
   ]
  },
  {
   "cell_type": "code",
   "execution_count": null,
   "metadata": {},
   "outputs": [],
   "source": []
  },
  {
   "cell_type": "code",
   "execution_count": null,
   "metadata": {},
   "outputs": [
    {
     "data": {
      "text/plain": [
       "0.4397801099450275"
      ]
     },
     "execution_count": 9,
     "metadata": {},
     "output_type": "execute_result"
    }
   ],
   "source": [
    "shuff_baseline"
   ]
  },
  {
   "cell_type": "code",
   "execution_count": null,
   "metadata": {},
   "outputs": [
    {
     "data": {
      "text/plain": [
       "0.4116061976710615"
      ]
     },
     "execution_count": 10,
     "metadata": {},
     "output_type": "execute_result"
    }
   ],
   "source": [
    "clust_baseline"
   ]
  },
  {
   "cell_type": "code",
   "execution_count": null,
   "metadata": {},
   "outputs": [],
   "source": []
  }
 ],
 "metadata": {
  "kernelspec": {
   "display_name": "deeprank",
   "language": "python",
   "name": "python3"
  },
  "language_info": {
   "codemirror_mode": {
    "name": "ipython",
    "version": 3
   },
   "file_extension": ".py",
   "mimetype": "text/x-python",
   "name": "python",
   "nbconvert_exporter": "python",
   "pygments_lexer": "ipython3",
   "version": "3.1.undefined"
  },
  "orig_nbformat": 4
 },
 "nbformat": 4,
 "nbformat_minor": 2
}
