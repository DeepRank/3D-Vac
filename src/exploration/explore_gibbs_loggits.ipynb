{
 "cells": [
  {
   "cell_type": "code",
   "execution_count": 13,
   "metadata": {},
   "outputs": [],
   "source": [
    "import numpy as np\n",
    "import matplotlib.pyplot as plt\n",
    "import glob\n",
    "import pandas as pd\n",
    "import re\n",
    "df = pd.read_csv(\"../../data/external/processed/all_hla.csv\")"
   ]
  },
  {
   "cell_type": "code",
   "execution_count": 72,
   "metadata": {},
   "outputs": [],
   "source": [
    "paths = glob.glob(\n",
    "    \"/home/daqop/mountpoint_snellius/softwares/gibbscluster-2.0/run/all_hla_peptides_clusters_1_15_with_trash_1876625/cores/gibbs.*of*.core\"\n",
    ")\n",
    "alphabet = list(\"ARNDCQEGHILKMFPSTWYV\")\n",
    "p_matrices = []\n",
    "p_matrice_names = []\n",
    "for path in paths:\n",
    "    core_f = open(path, \"r\")\n",
    "    f_name = path.split(\"/\")[-1].replace(\".core\", \"\")\n",
    "    cluster = int(re.search(\"(?<=gibbs.)[0-9]*\", f_name).group())\n",
    "    cluster_set = int(re.search(\"(?<=of)[0-9]*\", f_name).group())\n",
    "    p_matrice_names.append({\n",
    "        \"cluster\": cluster,\n",
    "        \"cluster_set\": cluster_set\n",
    "    })\n",
    "    peptides = []\n",
    "    for l in core_f:\n",
    "        peptides.append(list(l.replace(\"\\n\",\"\")))\n",
    "    peptides = np.array(peptides)\n",
    "    p_matrice = np.array([np.count_nonzero(peptides == alphabet[i], axis=0)/peptides.shape[0] for i in range(len(alphabet))])\n",
    "    p_matrices.append(p_matrice)\n",
    "p_matrices = np.stack(p_matrices)"
   ]
  },
  {
   "cell_type": "code",
   "execution_count": 90,
   "metadata": {},
   "outputs": [
    {
     "name": "stdout",
     "output_type": "stream",
     "text": [
      "(1, 20, 9)\n",
      "(2, 20, 9)\n",
      "(3, 20, 9)\n",
      "(4, 20, 9)\n"
     ]
    }
   ],
   "source": [
    "all_klds = []\n",
    "for i in range(1,5):\n",
    "    q_matrices = np.stack([p_matrices[p_matrice_names.index(name)] for name in p_matrice_names if name[\"cluster_set\"] == i])\n",
    "    print(q_matrices.shape)\n",
    "    for j in range(i):\n",
    "        p_matrice = [p_matrices[p_matrice_names.index(name)] for name in p_matrice_names if name[\"cluster\"] == j+1 and name[\"cluster_set\"] == i][0]\n",
    "        for k in range(1, q_matrices.shape[0]+1):\n",
    "            q_matrice = [p_matrices[p_matrice_names.index(name)] for name in p_matrice_names if name[\"cluster_set\"] == k and name[\"cluster\"] == k]\n",
    "            # CALCULATE KLD\n",
    "        # name_i = p_matrice_names.index(p_matrice_name)\n",
    "        # p_matrice = p_matrices[name_i]\n",
    "        # q_matrices = "
   ]
  },
  {
   "cell_type": "code",
   "execution_count": 23,
   "metadata": {},
   "outputs": [
    {
     "name": "stdout",
     "output_type": "stream",
     "text": [
      "7.860078e-06\n",
      "247.06195\n"
     ]
    }
   ],
   "source": [
    "# retrieve log odds of matrices and calculate KLD distances:\n",
    "bins = np.arange(0,0.1,0.001)\n",
    "f_paths = glob.glob(\n",
    "    f\"/home/daqop/mountpoint_snellius/softwares/gibbscluster-2.0/run/all_hla_peptides_clusters_1_15_with_trash_1876625/matrices/*.mat\"\n",
    ")\n",
    "p_matrices = []\n",
    "p_matrice_names = []\n",
    "for i,f_path in enumerate(f_paths):\n",
    "    # if i == 0:\n",
    "    f_name = f_path.split(\"/\")[-1].replace(\".mat\", \"\")\n",
    "    cluster = int(re.search(\"(?<=gibbs.)[0-9]*\", f_name).group())-1\n",
    "    cluster_set = str(re.search(\"(?<=of)[0-9]*\", f_name).group())\n",
    "    n = len(set(df.loc[df[f\"cluster_set_{cluster_set}\"] == float(cluster)][\"peptide\"].tolist()))\n",
    "    # else:\n",
    "    #     break\n",
    "    # print(f\"Filename: {f_name}, cluster: {cluster}, cluster_group: {cluster_set},n = {n}\")\n",
    "    f = open(f_path, \"r\")\n",
    "    lines = [l.replace(\"\\n\", \"\") for l in f]\n",
    "    log_odds = []\n",
    "    for i,line in enumerate(lines):\n",
    "        if i <= 1:\n",
    "            continue\n",
    "        log_odds.append(line.split()[2:])\n",
    "    log_odds = np.array(log_odds, dtype=np.float32)\n",
    "    p = np.exp(log_odds)/20*(np.exp(n/(n+5)))\n",
    "    p_matrice_names.append(f_name)\n",
    "    p_matrices.append(p)\n",
    "p_matrices = np.stack(p_matrices)\n",
    "print(p_matrices.min())\n",
    "print(p_matrices.max())"
   ]
  },
  {
   "cell_type": "code",
   "execution_count": null,
   "metadata": {},
   "outputs": [],
   "source": []
  }
 ],
 "metadata": {
  "kernelspec": {
   "display_name": "deeprank",
   "language": "python",
   "name": "python3"
  },
  "language_info": {
   "codemirror_mode": {
    "name": "ipython",
    "version": 3
   },
   "file_extension": ".py",
   "mimetype": "text/x-python",
   "name": "python",
   "nbconvert_exporter": "python",
   "pygments_lexer": "ipython3",
   "version": "3.10.6"
  },
  "orig_nbformat": 4,
  "vscode": {
   "interpreter": {
    "hash": "e0f11ea36265c7a09575b72ab023a91955654eee7154dd519d25c1189c46f9fd"
   }
  }
 },
 "nbformat": 4,
 "nbformat_minor": 2
}
